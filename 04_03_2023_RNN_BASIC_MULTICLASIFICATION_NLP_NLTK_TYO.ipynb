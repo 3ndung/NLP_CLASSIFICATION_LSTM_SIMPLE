{
  "cells": [
    {
      "cell_type": "markdown",
      "metadata": {
        "id": "view-in-github",
        "colab_type": "text"
      },
      "source": [
        "<a href=\"https://colab.research.google.com/github/3ndung/NLP_CLASSIFICATION_LSTM_SIMPLE/blob/main/04_03_2023_RNN_BASIC_MULTICLASIFICATION_NLP_NLTK_TYO.ipynb\" target=\"_parent\"><img src=\"https://colab.research.google.com/assets/colab-badge.svg\" alt=\"Open In Colab\"/></a>"
      ]
    },
    {
      "cell_type": "markdown",
      "metadata": {
        "id": "wulUbvrtHF-w"
      },
      "source": [
        "Import library "
      ]
    },
    {
      "cell_type": "code",
      "execution_count": null,
      "metadata": {
        "colab": {
          "base_uri": "https://localhost:8080/"
        },
        "id": "s_b478-RVma4",
        "outputId": "e8a5f9fc-f4af-4edf-bb68-4f10922c2e6c"
      },
      "outputs": [
        {
          "output_type": "stream",
          "name": "stdout",
          "text": [
            "Drive already mounted at /content/drive; to attempt to forcibly remount, call drive.mount(\"/content/drive\", force_remount=True).\n"
          ]
        }
      ],
      "source": [
        "from google.colab import drive\n",
        "drive.mount('/content/drive')"
      ]
    },
    {
      "cell_type": "code",
      "execution_count": null,
      "metadata": {
        "id": "nD7PJZ1KG5DW"
      },
      "outputs": [],
      "source": [
        "import matplotlib.pyplot as plt\n",
        "import os\n",
        "import re\n",
        "import shutil\n",
        "import string\n",
        "import tensorflow as tf\n",
        "import matplotlib.pyplot as plt\n",
        "import pandas as pd\n",
        "import seaborn as sns\n",
        "\n",
        "from tensorflow.keras import layers\n",
        "from tensorflow.keras import losses"
      ]
    },
    {
      "cell_type": "markdown",
      "metadata": {
        "id": "uIjLHbiPHTR2"
      },
      "source": [
        "Cek TF Version"
      ]
    },
    {
      "cell_type": "code",
      "execution_count": null,
      "metadata": {
        "colab": {
          "base_uri": "https://localhost:8080/"
        },
        "id": "sOzzke_vHRW9",
        "outputId": "663bfaba-b79c-454e-996e-fdd76f681a6d"
      },
      "outputs": [
        {
          "output_type": "stream",
          "name": "stdout",
          "text": [
            "2.11.0\n"
          ]
        }
      ],
      "source": [
        "print(tf.__version__)"
      ]
    },
    {
      "cell_type": "markdown",
      "metadata": {
        "id": "dkth6QYlH4A-"
      },
      "source": [
        "# Download dataset dari data yang sudah dibersihkan "
      ]
    },
    {
      "cell_type": "code",
      "execution_count": null,
      "metadata": {
        "id": "Jkcr4YjLMSJk"
      },
      "outputs": [],
      "source": [
        "dataset_dir = os.path.join(os.path.dirname('dataset'), '/content/drive/MyDrive/TYO_NLTK/DTS3/')"
      ]
    },
    {
      "cell_type": "markdown",
      "source": [
        "## Melihat directory dataset"
      ],
      "metadata": {
        "id": "fKYOm3irkmJv"
      }
    },
    {
      "cell_type": "code",
      "execution_count": null,
      "metadata": {
        "colab": {
          "base_uri": "https://localhost:8080/"
        },
        "id": "8X3-kfvvMr8R",
        "outputId": "2edb2d89-77cd-4b5d-94dd-59627dc2f60c"
      },
      "outputs": [
        {
          "output_type": "execute_result",
          "data": {
            "text/plain": [
              "['TRAIN', 'TEST']"
            ]
          },
          "metadata": {},
          "execution_count": 80
        }
      ],
      "source": [
        "os.listdir(dataset_dir)"
      ]
    },
    {
      "cell_type": "markdown",
      "metadata": {
        "id": "4_e8nUJqM8lj"
      },
      "source": [
        "## SET DATA UNTUK DI TRAIN "
      ]
    },
    {
      "cell_type": "code",
      "execution_count": null,
      "metadata": {
        "colab": {
          "base_uri": "https://localhost:8080/"
        },
        "id": "FtYcHT3WMs79",
        "outputId": "79e455ef-5cac-4ea0-8835-9dfa90cead19"
      },
      "outputs": [
        {
          "output_type": "execute_result",
          "data": {
            "text/plain": [
              "['EKO', 'HEL', 'OLA']"
            ]
          },
          "metadata": {},
          "execution_count": 81
        }
      ],
      "source": [
        "train_dir = os.path.join(dataset_dir, 'TRAIN')\n",
        "os.listdir(train_dir)"
      ]
    },
    {
      "cell_type": "markdown",
      "metadata": {
        "id": "cIwhO064M_10"
      },
      "source": [
        "## SET DATA UNTUK DI TEST"
      ]
    },
    {
      "cell_type": "code",
      "execution_count": null,
      "metadata": {
        "colab": {
          "base_uri": "https://localhost:8080/"
        },
        "id": "76h1OCWVNC7l",
        "outputId": "6e6a4b71-23be-48d9-c21a-945a5922fe9a"
      },
      "outputs": [
        {
          "output_type": "execute_result",
          "data": {
            "text/plain": [
              "['EKO', 'HEL', 'OLA']"
            ]
          },
          "metadata": {},
          "execution_count": 7
        }
      ],
      "source": [
        "test_dir = os.path.join(dataset_dir, 'TEST')\n",
        "os.listdir(train_dir)"
      ]
    },
    {
      "cell_type": "markdown",
      "source": [
        "## Sampling data yang akan di Training "
      ],
      "metadata": {
        "id": "m4da4wQOk5g8"
      }
    },
    {
      "cell_type": "code",
      "execution_count": null,
      "metadata": {
        "colab": {
          "base_uri": "https://localhost:8080/"
        },
        "id": "y4X4padANHTW",
        "outputId": "b03f79af-1e20-42d6-f705-bca5c310f853"
      },
      "outputs": [
        {
          "output_type": "stream",
          "name": "stdout",
          "text": [
            "menaker pastikan ump 2023 naik sesuai tuntutan buruh\n"
          ]
        }
      ],
      "source": [
        "sample_file = os.path.join(train_dir, 'EKO/109.txt')\n",
        "\n",
        "with open(sample_file) as f:\n",
        "  print(f.read())"
      ]
    },
    {
      "cell_type": "markdown",
      "source": [
        "tf.keras.utils.text_dataset_from_directory adalah sebuah fungsi yang disediakan oleh TensorFlow yang digunakan untuk memuat data teks dari direktori pada sistem file. Fungsi ini membantu dalam mempersiapkan data dalam bentuk yang sesuai untuk pemrosesan menggunakan model pembelajaran mesin.\n",
        "\n",
        "Fungsi ini dapat membaca semua file teks dalam direktori tertentu dan mengorganisasikannya ke dalam dua set data, yaitu data latih dan data validasi, dengan pembagian data yang dapat dikonfigurasi oleh pengguna. Fungsi ini juga dapat menghasilkan sebuah objek tf.data.Dataset yang dapat digunakan untuk memasukkan data ke dalam model pembelajaran mesin.\n",
        "\n",
        "Pengguna dapat menentukan parameter seperti batch_size, seed, validation_split, subset, labels, dan sebagainya untuk mengatur bagaimana data akan dibagi dan disiapkan untuk model.\n",
        "\n",
        "Dalam keseluruhan, fungsi tf.keras.utils.text_dataset_from_directory sangat berguna bagi para pengembang dan peneliti yang bekerja dengan pemrosesan bahasa alami dan ingin mempersiapkan data teks dalam format yang sesuai untuk diproses dengan model pembelajaran mesin."
      ],
      "metadata": {
        "id": "eQEB0IAplncm"
      }
    },
    {
      "cell_type": "code",
      "execution_count": null,
      "metadata": {
        "colab": {
          "base_uri": "https://localhost:8080/"
        },
        "id": "MEEvC45_N7RZ",
        "outputId": "dfa61d89-02aa-4a88-c0bf-c02104f96f4e"
      },
      "outputs": [
        {
          "output_type": "stream",
          "name": "stdout",
          "text": [
            "Found 1248 files belonging to 3 classes.\n",
            "Using 999 files for training.\n"
          ]
        }
      ],
      "source": [
        "batch_size = 32\n",
        "seed = 42\n",
        "\n",
        "raw_train_ds = tf.keras.utils.text_dataset_from_directory(\n",
        "    '/content/drive/MyDrive/TYO_NLTK/DTS3/TRAIN', \n",
        "    batch_size=batch_size, \n",
        "    validation_split=0.2, # Parto law 80:20\n",
        "    subset='training', # ini digunakan untuk data yang akan di training\n",
        "    seed=seed)"
      ]
    },
    {
      "cell_type": "code",
      "execution_count": null,
      "metadata": {
        "colab": {
          "base_uri": "https://localhost:8080/"
        },
        "id": "JTUNrQEQOIPt",
        "outputId": "7e5dac77-06e6-49d8-9fb9-c410230b08a7"
      },
      "outputs": [
        {
          "output_type": "stream",
          "name": "stdout",
          "text": [
            "Review b'pertumbuhan ekonomi china merosot di tengah lonjakan kasus covid19'\n",
            "Label 0\n",
            "Review b'adc inovasi terapi untuk kanker limfoma hodgkin'\n",
            "Label 1\n",
            "Review b' industri pariwisata indonesia berjuang untuk bangkit dari krisis akibat pandemi'\n",
            "Label 0\n"
          ]
        }
      ],
      "source": [
        "for text_batch, label_batch in raw_train_ds.take(1):\n",
        "  for i in range(3):\n",
        "    print(\"Review\", text_batch.numpy()[i])\n",
        "    print(\"Label\", label_batch.numpy()[i])"
      ]
    },
    {
      "cell_type": "code",
      "execution_count": null,
      "metadata": {
        "colab": {
          "base_uri": "https://localhost:8080/"
        },
        "id": "3ouP_BxwOe7a",
        "outputId": "a5f9979d-8be0-414b-b26d-4c0ab50dd45d"
      },
      "outputs": [
        {
          "output_type": "stream",
          "name": "stdout",
          "text": [
            "Label 0 corresponds to EKO\n",
            "Label 1 corresponds to HEL\n",
            "Label 2 corresponds to OLA\n"
          ]
        }
      ],
      "source": [
        "print(\"Label 0 corresponds to\", raw_train_ds.class_names[0])\n",
        "print(\"Label 1 corresponds to\", raw_train_ds.class_names[1])\n",
        "print(\"Label 2 corresponds to\", raw_train_ds.class_names[2])"
      ]
    },
    {
      "cell_type": "code",
      "execution_count": null,
      "metadata": {
        "colab": {
          "base_uri": "https://localhost:8080/"
        },
        "id": "z426gnYnOlOa",
        "outputId": "9312971d-50c3-4f78-9f06-4f4e15abbf45"
      },
      "outputs": [
        {
          "output_type": "stream",
          "name": "stdout",
          "text": [
            "Found 1248 files belonging to 3 classes.\n",
            "Using 249 files for validation.\n"
          ]
        }
      ],
      "source": [
        "raw_val_ds = tf.keras.utils.text_dataset_from_directory(\n",
        "    '/content/drive/MyDrive/TYO_NLTK/DTS3/TRAIN', \n",
        "    batch_size=batch_size, \n",
        "    validation_split=0.2, \n",
        "    subset='validation', \n",
        "    seed=seed)"
      ]
    },
    {
      "cell_type": "code",
      "execution_count": null,
      "metadata": {
        "colab": {
          "base_uri": "https://localhost:8080/"
        },
        "id": "HrSDscr2O2pU",
        "outputId": "bea380da-509a-4080-82a4-123e6b53c429"
      },
      "outputs": [
        {
          "output_type": "stream",
          "name": "stdout",
          "text": [
            "Found 315 files belonging to 3 classes.\n"
          ]
        }
      ],
      "source": [
        "raw_test_ds = tf.keras.utils.text_dataset_from_directory(\n",
        "    '/content/drive/MyDrive/TYO_NLTK/DTS3/TEST', \n",
        "    batch_size=batch_size)"
      ]
    },
    {
      "cell_type": "markdown",
      "source": [
        "## Membuat function untuk menstandarkan/ menseragamkan string input"
      ],
      "metadata": {
        "id": "PYITtbK8LWwj"
      }
    },
    {
      "cell_type": "code",
      "execution_count": null,
      "metadata": {
        "id": "AugpXoBfPBeY"
      },
      "outputs": [],
      "source": [
        "def custom_standardization(input_data):\n",
        "  # Membuat Semua String menjadi Lower String/ huruf kecil Semua\n",
        "  lowercase = tf.strings.lower(input_data)\n",
        "  # Menghapus apabila ada html tag\n",
        "  stripped_html = tf.strings.regex_replace(lowercase, '<br />', ' ')\n",
        "  return tf.strings.regex_replace(stripped_html,\n",
        "                                  '[%s]' % re.escape(string.punctuation),\n",
        "                                  '')"
      ]
    },
    {
      "cell_type": "markdown",
      "metadata": {
        "id": "SmDjxk7fkuMU"
      },
      "source": [
        "## TEXTVECTORIZATION\n",
        "\n",
        "Adalah pre-processing sebelum proses pembelajaran yang mengubah string mentah kedalam bentuk intger yang dapat dibaca oleh lapisan berikutnya dalam Synapsis/ Layer berikutnya contoh embeding dan denses\n"
      ]
    },
    {
      "cell_type": "code",
      "execution_count": null,
      "metadata": {
        "id": "5y2kL-Q-lSkA"
      },
      "outputs": [],
      "source": [
        "max_features = 10000\n",
        "sequence_length = 250\n",
        "\n",
        "vectorize_layer = layers.TextVectorization(\n",
        "    # Memanggil fungsi sebelumnya yang mestandarkan semua string input menjadi lower case dan menghilangkan tag html bila ada\n",
        "    standardize=custom_standardization,\n",
        "    # Memberikan batasan padding agar panjang matrix sama pada setiap masukan.\n",
        "    max_tokens=max_features,\n",
        "    # Output String akan diubah menjadi bentuk integer\n",
        "    output_mode='int',\n",
        "    output_sequence_length=sequence_length)"
      ]
    },
    {
      "cell_type": "markdown",
      "metadata": {
        "id": "EqijZrfWl449"
      },
      "source": [
        "'''\n",
        "Next, you will call adapt to fit the state of the preprocessing layer to the dataset. This will cause the model to build an index of strings to integers.\n",
        "'''"
      ]
    },
    {
      "cell_type": "code",
      "execution_count": null,
      "metadata": {
        "id": "ulGHvGJWlgI3"
      },
      "outputs": [],
      "source": [
        "# Make a text-only dataset (without labels), then call adapt\n",
        "train_text = raw_train_ds.map(lambda x, y: x)\n",
        "vectorize_layer.adapt(train_text)\n",
        "\n",
        "\n"
      ]
    },
    {
      "cell_type": "markdown",
      "source": [
        "# Fungsi yang mengubah setiap string text input ke dalam bentuk intger dan menyimpan dalam array, dengan menggunakan vectorize_layer yang telah diset diatas."
      ],
      "metadata": {
        "id": "baE3pm5-T-rZ"
      }
    },
    {
      "cell_type": "code",
      "execution_count": null,
      "metadata": {
        "id": "NcySBx7rl8zj"
      },
      "outputs": [],
      "source": [
        "def vectorize_text(text, label):\n",
        "  text = tf.expand_dims(text, -1)\n",
        "  return vectorize_layer(text), label"
      ]
    },
    {
      "cell_type": "code",
      "execution_count": null,
      "metadata": {
        "colab": {
          "base_uri": "https://localhost:8080/"
        },
        "id": "KY26gx46mFXz",
        "outputId": "e13cb751-b54b-4e0b-91cb-103927226435"
      },
      "outputs": [
        {
          "output_type": "stream",
          "name": "stdout",
          "text": [
            "\n",
            "Review -> text_batch[13] tf.Tensor(b'apa tanda kepribadian ganda seperti yang dituduhkan pada brigadir j', shape=(), dtype=string)\n",
            "Label -> Label_batch[13] HEL\n",
            "\n",
            "Vectorized review nya seperti ini \n",
            "\n",
            " (<tf.Tensor: shape=(1, 250), dtype=int64, numpy=\n",
            "array([[ 119,  356, 1103, 1169,  292,    8, 2596,   19, 2749, 2386,    0,\n",
            "           0,    0,    0,    0,    0,    0,    0,    0,    0,    0,    0,\n",
            "           0,    0,    0,    0,    0,    0,    0,    0,    0,    0,    0,\n",
            "           0,    0,    0,    0,    0,    0,    0,    0,    0,    0,    0,\n",
            "           0,    0,    0,    0,    0,    0,    0,    0,    0,    0,    0,\n",
            "           0,    0,    0,    0,    0,    0,    0,    0,    0,    0,    0,\n",
            "           0,    0,    0,    0,    0,    0,    0,    0,    0,    0,    0,\n",
            "           0,    0,    0,    0,    0,    0,    0,    0,    0,    0,    0,\n",
            "           0,    0,    0,    0,    0,    0,    0,    0,    0,    0,    0,\n",
            "           0,    0,    0,    0,    0,    0,    0,    0,    0,    0,    0,\n",
            "           0,    0,    0,    0,    0,    0,    0,    0,    0,    0,    0,\n",
            "           0,    0,    0,    0,    0,    0,    0,    0,    0,    0,    0,\n",
            "           0,    0,    0,    0,    0,    0,    0,    0,    0,    0,    0,\n",
            "           0,    0,    0,    0,    0,    0,    0,    0,    0,    0,    0,\n",
            "           0,    0,    0,    0,    0,    0,    0,    0,    0,    0,    0,\n",
            "           0,    0,    0,    0,    0,    0,    0,    0,    0,    0,    0,\n",
            "           0,    0,    0,    0,    0,    0,    0,    0,    0,    0,    0,\n",
            "           0,    0,    0,    0,    0,    0,    0,    0,    0,    0,    0,\n",
            "           0,    0,    0,    0,    0,    0,    0,    0,    0,    0,    0,\n",
            "           0,    0,    0,    0,    0,    0,    0,    0,    0,    0,    0,\n",
            "           0,    0,    0,    0,    0,    0,    0,    0,    0,    0,    0,\n",
            "           0,    0,    0,    0,    0,    0,    0,    0,    0,    0,    0,\n",
            "           0,    0,    0,    0,    0,    0,    0,    0]])>, <tf.Tensor: shape=(), dtype=int32, numpy=1>)\n"
          ]
        }
      ],
      "source": [
        "text_batch, label_batch = next(iter(raw_train_ds))\n",
        "first_review, first_label = text_batch[13], label_batch[13]\n",
        "print(\"\\nReview -> text_batch[13]\", first_review)\n",
        "print(\"Label -> Label_batch[13]\", raw_train_ds.class_names[first_label])\n",
        "print(\"\\nVectorized review nya seperti ini \\n\\n\", vectorize_text(first_review, first_label))"
      ]
    },
    {
      "cell_type": "markdown",
      "source": [
        "## Pembuktian Terbalik TEXTVECTORIZATION"
      ],
      "metadata": {
        "id": "UctZlpiLoUJ9"
      }
    },
    {
      "cell_type": "code",
      "execution_count": null,
      "metadata": {
        "colab": {
          "base_uri": "https://localhost:8080/"
        },
        "id": "g4mQQp4zmz0q",
        "outputId": "b44b38d5-430d-4dfd-f568-bfe80829d815"
      },
      "outputs": [
        {
          "output_type": "stream",
          "name": "stdout",
          "text": [
            "119 --->  apa\n",
            "395 --->  klasemen\n",
            "Vocabulary size: 3011\n"
          ]
        }
      ],
      "source": [
        "print(\"119 ---> \",vectorize_layer.get_vocabulary()[119])\n",
        "print(\"395 ---> \",vectorize_layer.get_vocabulary()[395])\n",
        "print('Vocabulary size: {}'.format(len(vectorize_layer.get_vocabulary())))"
      ]
    },
    {
      "cell_type": "markdown",
      "source": [
        "# Menggubah semua input train, validasi dan test kedalam bentuk integer"
      ],
      "metadata": {
        "id": "oAmWnF1MVWcg"
      }
    },
    {
      "cell_type": "code",
      "execution_count": null,
      "metadata": {
        "id": "lEucwjQ-m_Vp"
      },
      "outputs": [],
      "source": [
        "train_ds = raw_train_ds.map(vectorize_text)\n",
        "val_ds = raw_val_ds.map(vectorize_text)\n",
        "test_ds = raw_test_ds.map(vectorize_text)"
      ]
    },
    {
      "cell_type": "code",
      "execution_count": null,
      "metadata": {
        "id": "mIb-okwOqkk5"
      },
      "outputs": [],
      "source": [
        "# Tunning dataset train, validasi dan test dengan AUTOTUNE untuk optimisasi shape data\n",
        "AUTOTUNE = tf.data.AUTOTUNE\n",
        "\n",
        "train_ds = train_ds.cache().prefetch(buffer_size=AUTOTUNE)\n",
        "val_ds = val_ds.cache().prefetch(buffer_size=AUTOTUNE)\n",
        "test_ds = test_ds.cache().prefetch(buffer_size=AUTOTUNE)"
      ]
    },
    {
      "cell_type": "markdown",
      "source": [
        "# Layer embedding dimension kita set menjadi 16 , seperti yang sering digunakan dalam panduan, embedding ini hanya dapat digunakan pada integer positiv dan untuk memperbaiki matrix."
      ],
      "metadata": {
        "id": "I6QrFPXaWMnJ"
      }
    },
    {
      "cell_type": "code",
      "execution_count": null,
      "metadata": {
        "id": "lG28akNvrENY"
      },
      "outputs": [],
      "source": [
        "embedding_dim = 16"
      ]
    },
    {
      "cell_type": "code",
      "execution_count": null,
      "metadata": {
        "id": "EO8LQT0jiq0I"
      },
      "outputs": [],
      "source": []
    },
    {
      "cell_type": "markdown",
      "source": [
        "## RNN MODEL "
      ],
      "metadata": {
        "id": "CU5yo7M1or1j"
      }
    },
    {
      "cell_type": "code",
      "execution_count": null,
      "metadata": {
        "id": "X7rx6X_5rKo3",
        "colab": {
          "base_uri": "https://localhost:8080/",
          "height": 1000
        },
        "outputId": "c6e37ce6-fa0e-4568-e600-37b4e1120825"
      },
      "outputs": [
        {
          "output_type": "stream",
          "name": "stdout",
          "text": [
            "Model: \"sequential_2\"\n",
            "_________________________________________________________________\n",
            " Layer (type)                Output Shape              Param #   \n",
            "=================================================================\n",
            " embedding_1 (Embedding)     (None, None, 16)          160016    \n",
            "                                                                 \n",
            " dropout_2 (Dropout)         (None, None, 16)          0         \n",
            "                                                                 \n",
            " global_average_pooling1d_1   (None, 16)               0         \n",
            " (GlobalAveragePooling1D)                                        \n",
            "                                                                 \n",
            " dropout_3 (Dropout)         (None, 16)                0         \n",
            "                                                                 \n",
            " dense_1 (Dense)             (None, 3)                 51        \n",
            "                                                                 \n",
            "=================================================================\n",
            "Total params: 160,067\n",
            "Trainable params: 160,067\n",
            "Non-trainable params: 0\n",
            "_________________________________________________________________\n"
          ]
        },
        {
          "output_type": "execute_result",
          "data": {
            "image/png": "[encoded data removed]",
            "text/plain": [
              "<IPython.core.display.Image object>"
            ]
          },
          "metadata": {},
          "execution_count": 96
        }
      ],
      "source": [
        "model = tf.keras.Sequential([\n",
        "  layers.Embedding(max_features + 1, embedding_dim),\n",
        "  layers.Dropout(0.2),\n",
        "  layers.GlobalAveragePooling1D(),\n",
        "  layers.Dropout(0.2),\n",
        "  layers.Dense(3)])\n",
        "\n",
        "model.summary()\n",
        "\n",
        "\n",
        "\n",
        "img_file = 'model_arch.png'\n",
        "tf.keras.utils.plot_model(model, to_file=img_file, show_shapes=True, show_layer_names=True)"
      ]
    },
    {
      "cell_type": "code",
      "execution_count": null,
      "metadata": {
        "id": "59mEoZIlujif"
      },
      "outputs": [],
      "source": [
        "#model.compile(loss=losses.SparseCategoricalCrossentropy(from_logits=True),\n",
        "#              optimizer='adam',\n",
        "#              metrics=tf.metrics.Accuracy())\n",
        "\n",
        "\n"
      ]
    },
    {
      "cell_type": "code",
      "execution_count": null,
      "metadata": {
        "id": "ZZ4gSBNyyBgl"
      },
      "outputs": [],
      "source": [
        "model.compile(loss = losses.SparseCategoricalCrossentropy(from_logits=True), optimizer = 'adam', metrics = ['accuracy'])"
      ]
    },
    {
      "cell_type": "code",
      "execution_count": null,
      "metadata": {
        "colab": {
          "base_uri": "https://localhost:8080/"
        },
        "id": "S4gEVVopw1Di",
        "outputId": "e0c2e723-0b79-4019-8b9a-96564589f8fa"
      },
      "outputs": [
        {
          "output_type": "stream",
          "name": "stdout",
          "text": [
            "Epoch 1/150\n",
            "32/32 [==============================] - 0s 9ms/step - loss: 2.5748e-04 - accuracy: 1.0000 - val_loss: 0.2883 - val_accuracy: 0.9518\n",
            "Epoch 2/150\n",
            "32/32 [==============================] - 0s 9ms/step - loss: 4.6226e-04 - accuracy: 1.0000 - val_loss: 0.2999 - val_accuracy: 0.9438\n",
            "Epoch 3/150\n",
            "32/32 [==============================] - 0s 10ms/step - loss: 2.4697e-04 - accuracy: 1.0000 - val_loss: 0.2927 - val_accuracy: 0.9478\n",
            "Epoch 4/150\n",
            "32/32 [==============================] - 0s 9ms/step - loss: 9.0517e-05 - accuracy: 1.0000 - val_loss: 0.2940 - val_accuracy: 0.9438\n",
            "Epoch 5/150\n",
            "32/32 [==============================] - 0s 10ms/step - loss: 1.1677e-04 - accuracy: 1.0000 - val_loss: 0.2928 - val_accuracy: 0.9478\n",
            "Epoch 6/150\n",
            "32/32 [==============================] - 0s 9ms/step - loss: 2.0969e-04 - accuracy: 1.0000 - val_loss: 0.2929 - val_accuracy: 0.9478\n",
            "Epoch 7/150\n",
            "32/32 [==============================] - 0s 9ms/step - loss: 9.8539e-05 - accuracy: 1.0000 - val_loss: 0.2962 - val_accuracy: 0.9438\n",
            "Epoch 8/150\n",
            "32/32 [==============================] - 0s 9ms/step - loss: 1.2885e-04 - accuracy: 1.0000 - val_loss: 0.3030 - val_accuracy: 0.9398\n",
            "Epoch 9/150\n",
            "32/32 [==============================] - 0s 8ms/step - loss: 1.2994e-04 - accuracy: 1.0000 - val_loss: 0.2988 - val_accuracy: 0.9438\n",
            "Epoch 10/150\n",
            "32/32 [==============================] - 0s 9ms/step - loss: 1.0415e-04 - accuracy: 1.0000 - val_loss: 0.3049 - val_accuracy: 0.9398\n",
            "Epoch 11/150\n",
            "32/32 [==============================] - 0s 9ms/step - loss: 1.5823e-04 - accuracy: 1.0000 - val_loss: 0.2967 - val_accuracy: 0.9438\n",
            "Epoch 12/150\n",
            "32/32 [==============================] - 0s 9ms/step - loss: 1.1057e-04 - accuracy: 1.0000 - val_loss: 0.2901 - val_accuracy: 0.9478\n",
            "Epoch 13/150\n",
            "32/32 [==============================] - 0s 9ms/step - loss: 2.8743e-04 - accuracy: 1.0000 - val_loss: 0.2942 - val_accuracy: 0.9478\n",
            "Epoch 14/150\n",
            "32/32 [==============================] - 0s 9ms/step - loss: 1.4955e-04 - accuracy: 1.0000 - val_loss: 0.2924 - val_accuracy: 0.9478\n",
            "Epoch 15/150\n",
            "32/32 [==============================] - 0s 8ms/step - loss: 8.9222e-05 - accuracy: 1.0000 - val_loss: 0.2964 - val_accuracy: 0.9438\n",
            "Epoch 16/150\n",
            "32/32 [==============================] - 0s 9ms/step - loss: 1.3290e-04 - accuracy: 1.0000 - val_loss: 0.2929 - val_accuracy: 0.9478\n",
            "Epoch 17/150\n",
            "32/32 [==============================] - 0s 9ms/step - loss: 1.3755e-04 - accuracy: 1.0000 - val_loss: 0.2915 - val_accuracy: 0.9478\n",
            "Epoch 18/150\n",
            "32/32 [==============================] - 0s 9ms/step - loss: 1.4894e-04 - accuracy: 1.0000 - val_loss: 0.3033 - val_accuracy: 0.9438\n",
            "Epoch 19/150\n",
            "32/32 [==============================] - 0s 8ms/step - loss: 8.7200e-05 - accuracy: 1.0000 - val_loss: 0.3015 - val_accuracy: 0.9438\n",
            "Epoch 20/150\n",
            "32/32 [==============================] - 0s 9ms/step - loss: 8.8393e-05 - accuracy: 1.0000 - val_loss: 0.2923 - val_accuracy: 0.9478\n",
            "Epoch 21/150\n",
            "32/32 [==============================] - 0s 8ms/step - loss: 2.3942e-04 - accuracy: 1.0000 - val_loss: 0.3007 - val_accuracy: 0.9438\n",
            "Epoch 22/150\n",
            "32/32 [==============================] - 0s 9ms/step - loss: 9.0676e-04 - accuracy: 0.9990 - val_loss: 0.2956 - val_accuracy: 0.9478\n",
            "Epoch 23/150\n",
            "32/32 [==============================] - 0s 9ms/step - loss: 1.1441e-04 - accuracy: 1.0000 - val_loss: 0.2905 - val_accuracy: 0.9478\n",
            "Epoch 24/150\n",
            "32/32 [==============================] - 0s 9ms/step - loss: 2.6386e-04 - accuracy: 1.0000 - val_loss: 0.2966 - val_accuracy: 0.9478\n",
            "Epoch 25/150\n",
            "32/32 [==============================] - 0s 9ms/step - loss: 8.6256e-05 - accuracy: 1.0000 - val_loss: 0.3011 - val_accuracy: 0.9438\n",
            "Epoch 26/150\n",
            "32/32 [==============================] - 0s 9ms/step - loss: 1.3770e-04 - accuracy: 1.0000 - val_loss: 0.2999 - val_accuracy: 0.9478\n",
            "Epoch 27/150\n",
            "32/32 [==============================] - 0s 8ms/step - loss: 1.4308e-04 - accuracy: 1.0000 - val_loss: 0.2914 - val_accuracy: 0.9478\n",
            "Epoch 28/150\n",
            "32/32 [==============================] - 0s 9ms/step - loss: 3.6787e-04 - accuracy: 1.0000 - val_loss: 0.3027 - val_accuracy: 0.9478\n",
            "Epoch 29/150\n",
            "32/32 [==============================] - 0s 8ms/step - loss: 1.0128e-04 - accuracy: 1.0000 - val_loss: 0.2990 - val_accuracy: 0.9438\n",
            "Epoch 30/150\n",
            "32/32 [==============================] - 0s 9ms/step - loss: 1.3397e-04 - accuracy: 1.0000 - val_loss: 0.2963 - val_accuracy: 0.9478\n",
            "Epoch 31/150\n",
            "32/32 [==============================] - 0s 14ms/step - loss: 1.9735e-04 - accuracy: 1.0000 - val_loss: 0.2981 - val_accuracy: 0.9438\n",
            "Epoch 32/150\n",
            "32/32 [==============================] - 0s 15ms/step - loss: 1.5505e-04 - accuracy: 1.0000 - val_loss: 0.2980 - val_accuracy: 0.9438\n",
            "Epoch 33/150\n",
            "32/32 [==============================] - 1s 16ms/step - loss: 8.9430e-05 - accuracy: 1.0000 - val_loss: 0.2969 - val_accuracy: 0.9478\n",
            "Epoch 34/150\n",
            "32/32 [==============================] - 0s 15ms/step - loss: 9.3441e-05 - accuracy: 1.0000 - val_loss: 0.2972 - val_accuracy: 0.9478\n",
            "Epoch 35/150\n",
            "32/32 [==============================] - 0s 14ms/step - loss: 8.6837e-05 - accuracy: 1.0000 - val_loss: 0.2939 - val_accuracy: 0.9478\n",
            "Epoch 36/150\n",
            "32/32 [==============================] - 1s 16ms/step - loss: 2.0853e-04 - accuracy: 1.0000 - val_loss: 0.2961 - val_accuracy: 0.9518\n",
            "Epoch 37/150\n",
            "32/32 [==============================] - 1s 16ms/step - loss: 1.4874e-04 - accuracy: 1.0000 - val_loss: 0.2981 - val_accuracy: 0.9478\n",
            "Epoch 38/150\n",
            "32/32 [==============================] - 0s 10ms/step - loss: 8.5280e-05 - accuracy: 1.0000 - val_loss: 0.2990 - val_accuracy: 0.9478\n",
            "Epoch 39/150\n",
            "32/32 [==============================] - 0s 10ms/step - loss: 6.6550e-05 - accuracy: 1.0000 - val_loss: 0.2956 - val_accuracy: 0.9478\n",
            "Epoch 40/150\n",
            "32/32 [==============================] - 0s 8ms/step - loss: 1.0481e-04 - accuracy: 1.0000 - val_loss: 0.2977 - val_accuracy: 0.9478\n",
            "Epoch 41/150\n",
            "32/32 [==============================] - 0s 8ms/step - loss: 1.3412e-04 - accuracy: 1.0000 - val_loss: 0.2982 - val_accuracy: 0.9478\n",
            "Epoch 42/150\n",
            "32/32 [==============================] - 0s 8ms/step - loss: 1.5854e-04 - accuracy: 1.0000 - val_loss: 0.3018 - val_accuracy: 0.9438\n",
            "Epoch 43/150\n",
            "32/32 [==============================] - 0s 8ms/step - loss: 1.7226e-04 - accuracy: 1.0000 - val_loss: 0.3046 - val_accuracy: 0.9438\n",
            "Epoch 44/150\n",
            "32/32 [==============================] - 0s 9ms/step - loss: 1.2056e-04 - accuracy: 1.0000 - val_loss: 0.3006 - val_accuracy: 0.9478\n",
            "Epoch 45/150\n",
            "32/32 [==============================] - 0s 9ms/step - loss: 8.9696e-05 - accuracy: 1.0000 - val_loss: 0.3006 - val_accuracy: 0.9478\n",
            "Epoch 46/150\n",
            "32/32 [==============================] - 0s 9ms/step - loss: 9.0937e-05 - accuracy: 1.0000 - val_loss: 0.2994 - val_accuracy: 0.9438\n",
            "Epoch 47/150\n",
            "32/32 [==============================] - 0s 8ms/step - loss: 7.0295e-05 - accuracy: 1.0000 - val_loss: 0.2969 - val_accuracy: 0.9478\n",
            "Epoch 48/150\n",
            "32/32 [==============================] - 0s 8ms/step - loss: 8.0922e-05 - accuracy: 1.0000 - val_loss: 0.2969 - val_accuracy: 0.9478\n",
            "Epoch 49/150\n",
            "32/32 [==============================] - 0s 8ms/step - loss: 8.4023e-05 - accuracy: 1.0000 - val_loss: 0.2977 - val_accuracy: 0.9478\n",
            "Epoch 50/150\n",
            "32/32 [==============================] - 0s 8ms/step - loss: 1.7644e-04 - accuracy: 1.0000 - val_loss: 0.3017 - val_accuracy: 0.9438\n",
            "Epoch 51/150\n",
            "32/32 [==============================] - 0s 9ms/step - loss: 9.9384e-05 - accuracy: 1.0000 - val_loss: 0.3005 - val_accuracy: 0.9478\n",
            "Epoch 52/150\n",
            "32/32 [==============================] - 0s 9ms/step - loss: 7.2784e-05 - accuracy: 1.0000 - val_loss: 0.2989 - val_accuracy: 0.9478\n",
            "Epoch 53/150\n",
            "32/32 [==============================] - 0s 9ms/step - loss: 8.7162e-05 - accuracy: 1.0000 - val_loss: 0.3000 - val_accuracy: 0.9478\n",
            "Epoch 54/150\n",
            "32/32 [==============================] - 0s 9ms/step - loss: 1.6190e-04 - accuracy: 1.0000 - val_loss: 0.3057 - val_accuracy: 0.9478\n",
            "Epoch 55/150\n",
            "32/32 [==============================] - 0s 9ms/step - loss: 7.3790e-05 - accuracy: 1.0000 - val_loss: 0.3079 - val_accuracy: 0.9438\n",
            "Epoch 56/150\n",
            "32/32 [==============================] - 0s 8ms/step - loss: 1.7721e-04 - accuracy: 1.0000 - val_loss: 0.3034 - val_accuracy: 0.9438\n",
            "Epoch 57/150\n",
            "32/32 [==============================] - 0s 8ms/step - loss: 1.3453e-04 - accuracy: 1.0000 - val_loss: 0.3057 - val_accuracy: 0.9478\n",
            "Epoch 58/150\n",
            "32/32 [==============================] - 0s 9ms/step - loss: 8.3146e-05 - accuracy: 1.0000 - val_loss: 0.2974 - val_accuracy: 0.9518\n",
            "Epoch 59/150\n",
            "32/32 [==============================] - 0s 8ms/step - loss: 1.0082e-04 - accuracy: 1.0000 - val_loss: 0.2993 - val_accuracy: 0.9478\n",
            "Epoch 60/150\n",
            "32/32 [==============================] - 0s 9ms/step - loss: 7.1810e-05 - accuracy: 1.0000 - val_loss: 0.2987 - val_accuracy: 0.9478\n",
            "Epoch 61/150\n",
            "32/32 [==============================] - 0s 9ms/step - loss: 6.8809e-05 - accuracy: 1.0000 - val_loss: 0.2985 - val_accuracy: 0.9478\n",
            "Epoch 62/150\n",
            "32/32 [==============================] - 0s 9ms/step - loss: 1.6509e-04 - accuracy: 1.0000 - val_loss: 0.3031 - val_accuracy: 0.9478\n",
            "Epoch 63/150\n",
            "32/32 [==============================] - 0s 8ms/step - loss: 1.6136e-04 - accuracy: 1.0000 - val_loss: 0.3125 - val_accuracy: 0.9438\n",
            "Epoch 64/150\n",
            "32/32 [==============================] - 0s 9ms/step - loss: 2.6960e-04 - accuracy: 1.0000 - val_loss: 0.2992 - val_accuracy: 0.9478\n",
            "Epoch 65/150\n",
            "32/32 [==============================] - 0s 9ms/step - loss: 1.4761e-04 - accuracy: 1.0000 - val_loss: 0.2961 - val_accuracy: 0.9518\n",
            "Epoch 66/150\n",
            "32/32 [==============================] - 0s 9ms/step - loss: 8.1126e-05 - accuracy: 1.0000 - val_loss: 0.3049 - val_accuracy: 0.9438\n",
            "Epoch 67/150\n",
            "32/32 [==============================] - 0s 10ms/step - loss: 6.6912e-05 - accuracy: 1.0000 - val_loss: 0.3079 - val_accuracy: 0.9438\n",
            "Epoch 68/150\n",
            "32/32 [==============================] - 0s 9ms/step - loss: 9.6207e-04 - accuracy: 0.9990 - val_loss: 0.3122 - val_accuracy: 0.9558\n",
            "Epoch 69/150\n",
            "32/32 [==============================] - 0s 13ms/step - loss: 1.6837e-04 - accuracy: 1.0000 - val_loss: 0.3188 - val_accuracy: 0.9398\n",
            "Epoch 70/150\n",
            "32/32 [==============================] - 0s 14ms/step - loss: 6.4001e-05 - accuracy: 1.0000 - val_loss: 0.3056 - val_accuracy: 0.9478\n",
            "Epoch 71/150\n",
            "32/32 [==============================] - 0s 14ms/step - loss: 4.0817e-05 - accuracy: 1.0000 - val_loss: 0.3018 - val_accuracy: 0.9478\n",
            "Epoch 72/150\n",
            "32/32 [==============================] - 1s 16ms/step - loss: 9.2743e-05 - accuracy: 1.0000 - val_loss: 0.3114 - val_accuracy: 0.9438\n",
            "Epoch 73/150\n",
            "32/32 [==============================] - 0s 15ms/step - loss: 1.6858e-04 - accuracy: 1.0000 - val_loss: 0.3058 - val_accuracy: 0.9478\n",
            "Epoch 74/150\n",
            "32/32 [==============================] - 0s 15ms/step - loss: 7.1405e-05 - accuracy: 1.0000 - val_loss: 0.2990 - val_accuracy: 0.9558\n",
            "Epoch 75/150\n",
            "32/32 [==============================] - 0s 9ms/step - loss: 9.3752e-05 - accuracy: 1.0000 - val_loss: 0.3012 - val_accuracy: 0.9518\n",
            "Epoch 76/150\n",
            "32/32 [==============================] - 0s 9ms/step - loss: 7.0351e-05 - accuracy: 1.0000 - val_loss: 0.3000 - val_accuracy: 0.9518\n",
            "Epoch 77/150\n",
            "32/32 [==============================] - 0s 9ms/step - loss: 1.8202e-04 - accuracy: 1.0000 - val_loss: 0.3012 - val_accuracy: 0.9558\n",
            "Epoch 78/150\n",
            "32/32 [==============================] - 0s 8ms/step - loss: 2.0738e-04 - accuracy: 1.0000 - val_loss: 0.3070 - val_accuracy: 0.9478\n",
            "Epoch 79/150\n",
            "32/32 [==============================] - 0s 8ms/step - loss: 5.9504e-05 - accuracy: 1.0000 - val_loss: 0.3052 - val_accuracy: 0.9478\n",
            "Epoch 80/150\n",
            "32/32 [==============================] - 0s 8ms/step - loss: 9.6429e-05 - accuracy: 1.0000 - val_loss: 0.3026 - val_accuracy: 0.9518\n",
            "Epoch 81/150\n",
            "32/32 [==============================] - 0s 8ms/step - loss: 2.2905e-04 - accuracy: 1.0000 - val_loss: 0.3097 - val_accuracy: 0.9478\n",
            "Epoch 82/150\n",
            "32/32 [==============================] - 0s 8ms/step - loss: 1.3742e-04 - accuracy: 1.0000 - val_loss: 0.3054 - val_accuracy: 0.9478\n",
            "Epoch 83/150\n",
            "32/32 [==============================] - 0s 9ms/step - loss: 5.6657e-05 - accuracy: 1.0000 - val_loss: 0.3095 - val_accuracy: 0.9438\n",
            "Epoch 84/150\n",
            "32/32 [==============================] - 0s 9ms/step - loss: 1.0670e-04 - accuracy: 1.0000 - val_loss: 0.3081 - val_accuracy: 0.9438\n",
            "Epoch 85/150\n",
            "32/32 [==============================] - 0s 9ms/step - loss: 5.9598e-05 - accuracy: 1.0000 - val_loss: 0.3068 - val_accuracy: 0.9478\n",
            "Epoch 86/150\n",
            "32/32 [==============================] - 0s 8ms/step - loss: 7.7332e-05 - accuracy: 1.0000 - val_loss: 0.2994 - val_accuracy: 0.9478\n",
            "Epoch 87/150\n",
            "32/32 [==============================] - 0s 10ms/step - loss: 1.3318e-04 - accuracy: 1.0000 - val_loss: 0.3068 - val_accuracy: 0.9478\n",
            "Epoch 88/150\n",
            "32/32 [==============================] - 0s 9ms/step - loss: 8.3469e-05 - accuracy: 1.0000 - val_loss: 0.3118 - val_accuracy: 0.9478\n",
            "Epoch 89/150\n",
            "32/32 [==============================] - 0s 8ms/step - loss: 1.1898e-04 - accuracy: 1.0000 - val_loss: 0.3033 - val_accuracy: 0.9478\n",
            "Epoch 90/150\n",
            "32/32 [==============================] - 0s 9ms/step - loss: 7.7127e-05 - accuracy: 1.0000 - val_loss: 0.3035 - val_accuracy: 0.9478\n",
            "Epoch 91/150\n",
            "32/32 [==============================] - 0s 9ms/step - loss: 6.6093e-05 - accuracy: 1.0000 - val_loss: 0.3074 - val_accuracy: 0.9478\n",
            "Epoch 92/150\n",
            "32/32 [==============================] - 0s 9ms/step - loss: 1.1976e-04 - accuracy: 1.0000 - val_loss: 0.3128 - val_accuracy: 0.9438\n",
            "Epoch 93/150\n",
            "32/32 [==============================] - 0s 10ms/step - loss: 8.3494e-05 - accuracy: 1.0000 - val_loss: 0.3085 - val_accuracy: 0.9478\n",
            "Epoch 94/150\n",
            "32/32 [==============================] - 0s 10ms/step - loss: 1.5446e-04 - accuracy: 1.0000 - val_loss: 0.3139 - val_accuracy: 0.9438\n",
            "Epoch 95/150\n",
            "32/32 [==============================] - 0s 10ms/step - loss: 1.0123e-04 - accuracy: 1.0000 - val_loss: 0.3236 - val_accuracy: 0.9438\n",
            "Epoch 96/150\n",
            "32/32 [==============================] - 0s 9ms/step - loss: 7.5715e-05 - accuracy: 1.0000 - val_loss: 0.3158 - val_accuracy: 0.9438\n",
            "Epoch 97/150\n",
            "32/32 [==============================] - 0s 8ms/step - loss: 8.5376e-05 - accuracy: 1.0000 - val_loss: 0.3094 - val_accuracy: 0.9478\n",
            "Epoch 98/150\n",
            "32/32 [==============================] - 0s 9ms/step - loss: 6.8857e-05 - accuracy: 1.0000 - val_loss: 0.3092 - val_accuracy: 0.9478\n",
            "Epoch 99/150\n",
            "32/32 [==============================] - 0s 9ms/step - loss: 1.2742e-04 - accuracy: 1.0000 - val_loss: 0.3062 - val_accuracy: 0.9478\n",
            "Epoch 100/150\n",
            "32/32 [==============================] - 0s 9ms/step - loss: 1.5023e-04 - accuracy: 1.0000 - val_loss: 0.3157 - val_accuracy: 0.9478\n",
            "Epoch 101/150\n",
            "32/32 [==============================] - 0s 8ms/step - loss: 1.9699e-04 - accuracy: 1.0000 - val_loss: 0.3080 - val_accuracy: 0.9478\n",
            "Epoch 102/150\n",
            "32/32 [==============================] - 0s 10ms/step - loss: 7.9849e-05 - accuracy: 1.0000 - val_loss: 0.3043 - val_accuracy: 0.9478\n",
            "Epoch 103/150\n",
            "32/32 [==============================] - 0s 9ms/step - loss: 6.4472e-05 - accuracy: 1.0000 - val_loss: 0.3043 - val_accuracy: 0.9478\n",
            "Epoch 104/150\n",
            "32/32 [==============================] - 0s 9ms/step - loss: 6.6922e-05 - accuracy: 1.0000 - val_loss: 0.3094 - val_accuracy: 0.9478\n",
            "Epoch 105/150\n",
            "32/32 [==============================] - 0s 9ms/step - loss: 3.5780e-05 - accuracy: 1.0000 - val_loss: 0.3092 - val_accuracy: 0.9478\n",
            "Epoch 106/150\n",
            "32/32 [==============================] - 0s 14ms/step - loss: 1.3376e-04 - accuracy: 1.0000 - val_loss: 0.3054 - val_accuracy: 0.9478\n",
            "Epoch 107/150\n",
            "32/32 [==============================] - 0s 14ms/step - loss: 5.1307e-05 - accuracy: 1.0000 - val_loss: 0.3037 - val_accuracy: 0.9478\n",
            "Epoch 108/150\n",
            "32/32 [==============================] - 0s 15ms/step - loss: 9.1965e-05 - accuracy: 1.0000 - val_loss: 0.3057 - val_accuracy: 0.9478\n",
            "Epoch 109/150\n",
            "32/32 [==============================] - 0s 15ms/step - loss: 5.4774e-05 - accuracy: 1.0000 - val_loss: 0.3094 - val_accuracy: 0.9478\n",
            "Epoch 110/150\n",
            "32/32 [==============================] - 0s 14ms/step - loss: 1.3486e-04 - accuracy: 1.0000 - val_loss: 0.3116 - val_accuracy: 0.9478\n",
            "Epoch 111/150\n",
            "32/32 [==============================] - 0s 15ms/step - loss: 1.0858e-04 - accuracy: 1.0000 - val_loss: 0.3156 - val_accuracy: 0.9438\n",
            "Epoch 112/150\n",
            "32/32 [==============================] - 0s 15ms/step - loss: 7.1299e-05 - accuracy: 1.0000 - val_loss: 0.3138 - val_accuracy: 0.9438\n",
            "Epoch 113/150\n",
            "32/32 [==============================] - 0s 15ms/step - loss: 7.1764e-05 - accuracy: 1.0000 - val_loss: 0.3144 - val_accuracy: 0.9438\n",
            "Epoch 114/150\n",
            "32/32 [==============================] - 0s 13ms/step - loss: 1.6502e-04 - accuracy: 1.0000 - val_loss: 0.3063 - val_accuracy: 0.9478\n",
            "Epoch 115/150\n",
            "32/32 [==============================] - 0s 9ms/step - loss: 8.6835e-05 - accuracy: 1.0000 - val_loss: 0.3037 - val_accuracy: 0.9478\n",
            "Epoch 116/150\n",
            "32/32 [==============================] - 0s 8ms/step - loss: 1.7846e-04 - accuracy: 1.0000 - val_loss: 0.3036 - val_accuracy: 0.9478\n",
            "Epoch 117/150\n",
            "32/32 [==============================] - 0s 9ms/step - loss: 6.8768e-05 - accuracy: 1.0000 - val_loss: 0.3097 - val_accuracy: 0.9478\n",
            "Epoch 118/150\n",
            "32/32 [==============================] - 0s 9ms/step - loss: 1.1292e-04 - accuracy: 1.0000 - val_loss: 0.3093 - val_accuracy: 0.9478\n",
            "Epoch 119/150\n",
            "32/32 [==============================] - 0s 8ms/step - loss: 5.3393e-05 - accuracy: 1.0000 - val_loss: 0.3107 - val_accuracy: 0.9478\n",
            "Epoch 120/150\n",
            "32/32 [==============================] - 0s 9ms/step - loss: 3.6443e-05 - accuracy: 1.0000 - val_loss: 0.3117 - val_accuracy: 0.9478\n",
            "Epoch 121/150\n",
            "32/32 [==============================] - 0s 10ms/step - loss: 9.5307e-05 - accuracy: 1.0000 - val_loss: 0.3160 - val_accuracy: 0.9478\n",
            "Epoch 122/150\n",
            "32/32 [==============================] - 0s 10ms/step - loss: 6.0719e-04 - accuracy: 1.0000 - val_loss: 0.3365 - val_accuracy: 0.9478\n",
            "Epoch 123/150\n",
            "32/32 [==============================] - 0s 9ms/step - loss: 8.2314e-05 - accuracy: 1.0000 - val_loss: 0.3190 - val_accuracy: 0.9478\n",
            "Epoch 124/150\n",
            "32/32 [==============================] - 0s 9ms/step - loss: 6.9840e-05 - accuracy: 1.0000 - val_loss: 0.3063 - val_accuracy: 0.9518\n",
            "Epoch 125/150\n",
            "32/32 [==============================] - 0s 8ms/step - loss: 1.4216e-04 - accuracy: 1.0000 - val_loss: 0.3125 - val_accuracy: 0.9478\n",
            "Epoch 126/150\n",
            "32/32 [==============================] - 0s 8ms/step - loss: 9.4128e-05 - accuracy: 1.0000 - val_loss: 0.3170 - val_accuracy: 0.9438\n",
            "Epoch 127/150\n",
            "32/32 [==============================] - 0s 9ms/step - loss: 1.5736e-04 - accuracy: 1.0000 - val_loss: 0.3132 - val_accuracy: 0.9478\n",
            "Epoch 128/150\n",
            "32/32 [==============================] - 0s 10ms/step - loss: 6.9577e-05 - accuracy: 1.0000 - val_loss: 0.3121 - val_accuracy: 0.9478\n",
            "Epoch 129/150\n",
            "32/32 [==============================] - 0s 9ms/step - loss: 7.8142e-05 - accuracy: 1.0000 - val_loss: 0.3129 - val_accuracy: 0.9478\n",
            "Epoch 130/150\n",
            "32/32 [==============================] - 0s 9ms/step - loss: 1.5674e-04 - accuracy: 1.0000 - val_loss: 0.3132 - val_accuracy: 0.9478\n",
            "Epoch 131/150\n",
            "32/32 [==============================] - 0s 9ms/step - loss: 8.2647e-05 - accuracy: 1.0000 - val_loss: 0.3144 - val_accuracy: 0.9478\n",
            "Epoch 132/150\n",
            "32/32 [==============================] - 0s 10ms/step - loss: 1.0474e-04 - accuracy: 1.0000 - val_loss: 0.3104 - val_accuracy: 0.9478\n",
            "Epoch 133/150\n",
            "32/32 [==============================] - 0s 10ms/step - loss: 7.2739e-05 - accuracy: 1.0000 - val_loss: 0.3078 - val_accuracy: 0.9478\n",
            "Epoch 134/150\n",
            "32/32 [==============================] - 0s 9ms/step - loss: 2.3181e-04 - accuracy: 1.0000 - val_loss: 0.3275 - val_accuracy: 0.9438\n",
            "Epoch 135/150\n",
            "32/32 [==============================] - 0s 9ms/step - loss: 5.5121e-05 - accuracy: 1.0000 - val_loss: 0.3286 - val_accuracy: 0.9438\n",
            "Epoch 136/150\n",
            "32/32 [==============================] - 0s 9ms/step - loss: 1.2273e-04 - accuracy: 1.0000 - val_loss: 0.3121 - val_accuracy: 0.9478\n",
            "Epoch 137/150\n",
            "32/32 [==============================] - 0s 8ms/step - loss: 4.2174e-05 - accuracy: 1.0000 - val_loss: 0.3094 - val_accuracy: 0.9478\n",
            "Epoch 138/150\n",
            "32/32 [==============================] - 0s 8ms/step - loss: 6.2299e-05 - accuracy: 1.0000 - val_loss: 0.3070 - val_accuracy: 0.9478\n",
            "Epoch 139/150\n",
            "32/32 [==============================] - 0s 9ms/step - loss: 7.3812e-05 - accuracy: 1.0000 - val_loss: 0.3088 - val_accuracy: 0.9478\n",
            "Epoch 140/150\n",
            "32/32 [==============================] - 0s 8ms/step - loss: 1.8704e-04 - accuracy: 1.0000 - val_loss: 0.3083 - val_accuracy: 0.9478\n",
            "Epoch 141/150\n",
            "32/32 [==============================] - 0s 8ms/step - loss: 1.5473e-04 - accuracy: 1.0000 - val_loss: 0.3137 - val_accuracy: 0.9478\n",
            "Epoch 142/150\n",
            "32/32 [==============================] - 0s 9ms/step - loss: 1.1004e-04 - accuracy: 1.0000 - val_loss: 0.3195 - val_accuracy: 0.9478\n",
            "Epoch 143/150\n",
            "32/32 [==============================] - 0s 8ms/step - loss: 1.4888e-04 - accuracy: 1.0000 - val_loss: 0.3077 - val_accuracy: 0.9478\n",
            "Epoch 144/150\n",
            "32/32 [==============================] - 0s 9ms/step - loss: 2.8509e-05 - accuracy: 1.0000 - val_loss: 0.3081 - val_accuracy: 0.9478\n",
            "Epoch 145/150\n",
            "32/32 [==============================] - 0s 13ms/step - loss: 8.7718e-05 - accuracy: 1.0000 - val_loss: 0.3092 - val_accuracy: 0.9478\n",
            "Epoch 146/150\n",
            "32/32 [==============================] - 0s 15ms/step - loss: 3.8804e-05 - accuracy: 1.0000 - val_loss: 0.3163 - val_accuracy: 0.9478\n",
            "Epoch 147/150\n",
            "32/32 [==============================] - 1s 15ms/step - loss: 1.2144e-04 - accuracy: 1.0000 - val_loss: 0.3221 - val_accuracy: 0.9438\n",
            "Epoch 148/150\n",
            "32/32 [==============================] - 0s 15ms/step - loss: 8.8006e-05 - accuracy: 1.0000 - val_loss: 0.3206 - val_accuracy: 0.9438\n",
            "Epoch 149/150\n",
            "32/32 [==============================] - 0s 15ms/step - loss: 1.1942e-04 - accuracy: 1.0000 - val_loss: 0.3120 - val_accuracy: 0.9478\n",
            "Epoch 150/150\n",
            "32/32 [==============================] - 0s 15ms/step - loss: 5.5800e-05 - accuracy: 1.0000 - val_loss: 0.3113 - val_accuracy: 0.9478\n"
          ]
        }
      ],
      "source": [
        "epochs = 150\n",
        "history = model.fit(\n",
        "    train_ds,\n",
        "    validation_data=val_ds,\n",
        "    epochs=epochs)"
      ]
    },
    {
      "cell_type": "code",
      "source": [
        "model.save('/content/drive/MyDrive/NLP_MODEL/TYO_04_1500_DATASET_MODEL.h5')"
      ],
      "metadata": {
        "id": "zvNWlry8sfDp"
      },
      "execution_count": null,
      "outputs": []
    },
    {
      "cell_type": "code",
      "execution_count": null,
      "metadata": {
        "colab": {
          "base_uri": "https://localhost:8080/"
        },
        "id": "-zzNKpPQyqfP",
        "outputId": "c411f87e-b9c7-46e8-b686-004af232a4ea"
      },
      "outputs": [
        {
          "output_type": "stream",
          "name": "stdout",
          "text": [
            "10/10 [==============================] - 0s 3ms/step - loss: 0.2296 - accuracy: 0.9270\n",
            "Loss:  0.22956889867782593\n",
            "Accuracy:  0.9269841313362122\n"
          ]
        }
      ],
      "source": [
        "loss, accuracy = model.evaluate(test_ds)\n",
        "\n",
        "print(\"Loss: \", loss)\n",
        "print(\"Accuracy: \", accuracy)"
      ]
    },
    {
      "cell_type": "code",
      "execution_count": null,
      "metadata": {
        "colab": {
          "base_uri": "https://localhost:8080/"
        },
        "id": "yHnCO_T5y3PP",
        "outputId": "28f4858c-ae3e-4a70-e314-d305acc5a7e1"
      },
      "outputs": [
        {
          "output_type": "execute_result",
          "data": {
            "text/plain": [
              "dict_keys(['loss', 'accuracy', 'val_loss', 'val_accuracy'])"
            ]
          },
          "metadata": {},
          "execution_count": 30
        }
      ],
      "source": [
        "history_dict = history.history\n",
        "history_dict.keys()"
      ]
    },
    {
      "cell_type": "code",
      "execution_count": null,
      "metadata": {
        "colab": {
          "base_uri": "https://localhost:8080/",
          "height": 295
        },
        "id": "WOaRHa-LzKZW",
        "outputId": "9ed04b90-8502-4ec1-c26c-8c3caeb3a263"
      },
      "outputs": [
        {
          "output_type": "display_data",
          "data": {
            "text/plain": [
              "<Figure size 432x288 with 1 Axes>"
            ],
            "image/png": "[encoded data removed]"
          },
          "metadata": {
            "needs_background": "light"
          }
        }
      ],
      "source": [
        "acc = history_dict['accuracy']\n",
        "val_acc = history_dict['val_accuracy']\n",
        "loss = history_dict['loss']\n",
        "val_loss = history_dict['val_loss']\n",
        "\n",
        "epochs = range(1, len(acc) + 1)\n",
        "\n",
        "# \"bo\" is for \"blue dot\"\n",
        "plt.plot(epochs, loss, 'bo', label='Training loss')\n",
        "# b is for \"solid blue line\"\n",
        "plt.plot(epochs, val_loss, 'b', label='Validation loss')\n",
        "plt.title('Training and validation loss')\n",
        "plt.xlabel('Epochs')\n",
        "plt.ylabel('Loss')\n",
        "plt.legend()\n",
        "\n",
        "plt.show()"
      ]
    },
    {
      "cell_type": "code",
      "execution_count": null,
      "metadata": {
        "colab": {
          "base_uri": "https://localhost:8080/",
          "height": 295
        },
        "id": "Y6yr7YCyzRPz",
        "outputId": "bcaecc51-a232-41de-e55d-6c416a851997"
      },
      "outputs": [
        {
          "output_type": "display_data",
          "data": {
            "text/plain": [
              "<Figure size 432x288 with 1 Axes>"
            ],
            "image/png": "[encoded data removed]"
          },
          "metadata": {
            "needs_background": "light"
          }
        }
      ],
      "source": [
        "plt.plot(epochs, acc, 'bo', label='Training acc')\n",
        "plt.plot(epochs, val_acc, 'b', label='Validation acc')\n",
        "plt.title('Training and validation accuracy')\n",
        "plt.xlabel('Epochs')\n",
        "plt.ylabel('Accuracy')\n",
        "plt.legend(loc='lower right')\n",
        "\n",
        "plt.show()"
      ]
    },
    {
      "cell_type": "code",
      "execution_count": null,
      "metadata": {
        "colab": {
          "base_uri": "https://localhost:8080/"
        },
        "id": "1JG4H59HzcOh",
        "outputId": "74eb2195-b729-4cff-e7fe-a6ae44915c55"
      },
      "outputs": [
        {
          "output_type": "stream",
          "name": "stderr",
          "text": [
            "/usr/local/lib/python3.8/dist-packages/keras/backend.py:5585: UserWarning: \"`sparse_categorical_crossentropy` received `from_logits=True`, but the `output` argument was produced by a Softmax activation and thus does not represent logits. Was this intended?\n",
            "  output, from_logits = _get_logits(\n"
          ]
        },
        {
          "output_type": "stream",
          "name": "stdout",
          "text": [
            "10/10 [==============================] - 1s 5ms/step - loss: 0.2199 - accuracy: 0.9238\n",
            "0.9238095283508301\n"
          ]
        }
      ],
      "source": [
        "export_model = tf.keras.Sequential([\n",
        "  vectorize_layer,\n",
        "  model,\n",
        "  layers.Activation('softmax')\n",
        "])\n",
        "export_model.compile(loss = losses.SparseCategoricalCrossentropy(from_logits=True), optimizer = 'adam', metrics = ['accuracy'])\n",
        "\n",
        "\n",
        "\n",
        "# Test it with `raw_test_ds`, which yields raw strings\n",
        "loss, accuracy = export_model.evaluate(raw_test_ds)\n",
        "print(accuracy)"
      ]
    },
    {
      "cell_type": "code",
      "execution_count": null,
      "metadata": {
        "colab": {
          "base_uri": "https://localhost:8080/"
        },
        "id": "lx12nIIi7luJ",
        "outputId": "6dd18f36-522a-40cc-d6de-e376c6a6b10f"
      },
      "outputs": [
        {
          "output_type": "execute_result",
          "data": {
            "text/plain": [
              "['EKO', 'HEL', 'OLA']"
            ]
          },
          "metadata": {},
          "execution_count": 34
        }
      ],
      "source": [
        "['EKO', 'HEL', 'OLA']"
      ]
    },
    {
      "cell_type": "markdown",
      "source": [
        "# PREDIKSI"
      ],
      "metadata": {
        "id": "XRa2FY4q0Ovo"
      }
    },
    {
      "cell_type": "code",
      "execution_count": null,
      "metadata": {
        "colab": {
          "base_uri": "https://localhost:8080/"
        },
        "id": "f-_agyAv7Rwx",
        "outputId": "59eb3f92-74fd-4932-a61b-3713344d0339"
      },
      "outputs": [
        {
          "output_type": "stream",
          "name": "stdout",
          "text": [
            "1/1 [==============================] - 0s 213ms/step\n"
          ]
        },
        {
          "output_type": "execute_result",
          "data": {
            "text/plain": [
              "array([[1.3564336e-08, 6.7682597e-09, 1.0000000e+00],\n",
              "       [9.9952722e-01, 2.9540231e-06, 4.6984613e-04],\n",
              "       [1.6253527e-02, 9.8347163e-01, 2.7481947e-04],\n",
              "       [4.4596798e-04, 9.9938500e-01, 1.6901726e-04],\n",
              "       [9.9999619e-01, 3.3433756e-09, 3.7977998e-06],\n",
              "       [9.9959952e-01, 4.2286443e-05, 3.5818151e-04]], dtype=float32)"
            ]
          },
          "metadata": {},
          "execution_count": 108
        }
      ],
      "source": [
        "examples = [\"MotoGP 2015 akan dikenang sebagai salah satu yang paling sengit dalam gelaran kejuaraan dunia balap motor grand prix\",\n",
        "            \"Ida Fauziyah menargetkan penyaluran Ekonomi Bantuan Subsidi Upah (BSU) atau BLT Gaji melalui PT Pos\",\n",
        "            \"Teknik Dasar Jalan Cepat, Sejarah, dan Manfaat untuk Kesehatan\",\n",
        "            \"Covid-19 akan meningkat apabila masayarakat tidak patuh protokol kesehatan\",\n",
        "            \"Rencana Impor KRL Bekas Didukung Erick Thohir, tetapi belum mendapat persetujuan kementrian perdagangan & Ekonomi\",\n",
        "            \"Inflasi Indonesia Naik Lagi pada Februari 2023\"]\n",
        "\n",
        "\n",
        "#for x in examples:\n",
        "export_model.predict(examples)"
      ]
    },
    {
      "cell_type": "markdown",
      "source": [
        "# FUNGSI UNTUK MEMBUAT VISUALISASI GRAFIK PIE CHART"
      ],
      "metadata": {
        "id": "mE-x8RyaSAXX"
      }
    },
    {
      "cell_type": "code",
      "source": [
        "def Pie_Chart_Visualization(x):\n",
        "\n",
        "          # Pie chart, where the slices will be ordered and plotted counter-clockwise:\n",
        "          labels = ['EKO', 'HEL', 'OLA']\n",
        "          sizes = export_model.predict(examples)[x].tolist()\n",
        "          explode = (0, 0, 0)  # only \"explode\" the 2nd slice (i.e. 'Hogs')\n",
        "\n",
        "          fig1, ax1 = plt.subplots()\n",
        "          ax1.pie(sizes, explode=explode, labels=labels, autopct='%1.1f%%',\n",
        "                  shadow=True, startangle=90)\n",
        "          ax1.axis('equal')  # Equal aspect ratio ensures that pie is drawn as a circle.\n",
        "\n",
        "          plt.show()"
      ],
      "metadata": {
        "id": "PB33J9xkZL9I"
      },
      "execution_count": null,
      "outputs": []
    },
    {
      "cell_type": "markdown",
      "source": [
        "# PENGUJIAN PROSENATASE PREDIKSI DALAM BENTUK GRAFIK DARI DATA SAMPLE"
      ],
      "metadata": {
        "id": "Huil3hFtR0ND"
      }
    },
    {
      "cell_type": "code",
      "source": [
        "for x in range(len(examples)):\n",
        "  display(examples[x])\n",
        "  display(Pie_Chart_Visualization(x))\n",
        "  print('')"
      ],
      "metadata": {
        "colab": {
          "base_uri": "https://localhost:8080/",
          "height": 1000
        },
        "id": "uxUAum5AigpU",
        "outputId": "0d7991df-7731-482f-b17b-1e9086a2230f"
      },
      "execution_count": null,
      "outputs": [
        {
          "output_type": "display_data",
          "data": {
            "text/plain": [
              "'MotoGP 2015 akan dikenang sebagai salah satu yang paling sengit dalam gelaran kejuaraan dunia balap motor grand prix'"
            ],
            "application/vnd.google.colaboratory.intrinsic+json": {
              "type": "string"
            }
          },
          "metadata": {}
        },
        {
          "output_type": "stream",
          "name": "stdout",
          "text": [
            "1/1 [==============================] - 0s 63ms/step\n"
          ]
        },
        {
          "output_type": "display_data",
          "data": {
            "text/plain": [
              "<Figure size 432x288 with 1 Axes>"
            ],
            "image/png": "[encoded data removed]"
          },
          "metadata": {}
        },
        {
          "output_type": "display_data",
          "data": {
            "text/plain": [
              "None"
            ]
          },
          "metadata": {}
        },
        {
          "output_type": "stream",
          "name": "stdout",
          "text": [
            "\n"
          ]
        },
        {
          "output_type": "display_data",
          "data": {
            "text/plain": [
              "'Ida Fauziyah menargetkan penyaluran Ekonomi Bantuan Subsidi Upah (BSU) atau BLT Gaji melalui PT Pos'"
            ],
            "application/vnd.google.colaboratory.intrinsic+json": {
              "type": "string"
            }
          },
          "metadata": {}
        },
        {
          "output_type": "stream",
          "name": "stdout",
          "text": [
            "1/1 [==============================] - 0s 69ms/step\n"
          ]
        },
        {
          "output_type": "display_data",
          "data": {
            "text/plain": [
              "<Figure size 432x288 with 1 Axes>"
            ],
            "image/png": "[encoded data removed]"
          },
          "metadata": {}
        },
        {
          "output_type": "display_data",
          "data": {
            "text/plain": [
              "None"
            ]
          },
          "metadata": {}
        },
        {
          "output_type": "stream",
          "name": "stdout",
          "text": [
            "\n"
          ]
        },
        {
          "output_type": "display_data",
          "data": {
            "text/plain": [
              "'Teknik Dasar Jalan Cepat, Sejarah, dan Manfaat untuk Kesehatan'"
            ],
            "application/vnd.google.colaboratory.intrinsic+json": {
              "type": "string"
            }
          },
          "metadata": {}
        },
        {
          "output_type": "stream",
          "name": "stdout",
          "text": [
            "1/1 [==============================] - 0s 65ms/step\n"
          ]
        },
        {
          "output_type": "display_data",
          "data": {
            "text/plain": [
              "<Figure size 432x288 with 1 Axes>"
            ],
            "image/png": "[encoded data removed]"
          },
          "metadata": {}
        },
        {
          "output_type": "display_data",
          "data": {
            "text/plain": [
              "None"
            ]
          },
          "metadata": {}
        },
        {
          "output_type": "stream",
          "name": "stdout",
          "text": [
            "\n"
          ]
        },
        {
          "output_type": "display_data",
          "data": {
            "text/plain": [
              "'Covid-19 akan meningkat apabila masayarakat tidak patuh protokol kesehatan'"
            ],
            "application/vnd.google.colaboratory.intrinsic+json": {
              "type": "string"
            }
          },
          "metadata": {}
        },
        {
          "output_type": "stream",
          "name": "stdout",
          "text": [
            "1/1 [==============================] - 0s 75ms/step\n"
          ]
        },
        {
          "output_type": "display_data",
          "data": {
            "text/plain": [
              "<Figure size 432x288 with 1 Axes>"
            ],
            "image/png": "[encoded data removed]"
          },
          "metadata": {}
        },
        {
          "output_type": "display_data",
          "data": {
            "text/plain": [
              "None"
            ]
          },
          "metadata": {}
        },
        {
          "output_type": "stream",
          "name": "stdout",
          "text": [
            "\n"
          ]
        },
        {
          "output_type": "display_data",
          "data": {
            "text/plain": [
              "'Rencana Impor KRL Bekas Didukung Erick Thohir, tetapi belum mendapat persetujuan kementrian perdagangan & Ekonomi'"
            ],
            "application/vnd.google.colaboratory.intrinsic+json": {
              "type": "string"
            }
          },
          "metadata": {}
        },
        {
          "output_type": "stream",
          "name": "stdout",
          "text": [
            "1/1 [==============================] - 0s 70ms/step\n"
          ]
        },
        {
          "output_type": "display_data",
          "data": {
            "text/plain": [
              "<Figure size 432x288 with 1 Axes>"
            ],
            "image/png": "[encoded data removed]"
          },
          "metadata": {}
        },
        {
          "output_type": "display_data",
          "data": {
            "text/plain": [
              "None"
            ]
          },
          "metadata": {}
        },
        {
          "output_type": "stream",
          "name": "stdout",
          "text": [
            "\n"
          ]
        },
        {
          "output_type": "display_data",
          "data": {
            "text/plain": [
              "'Inflasi Indonesia Naik Lagi pada Februari 2023'"
            ],
            "application/vnd.google.colaboratory.intrinsic+json": {
              "type": "string"
            }
          },
          "metadata": {}
        },
        {
          "output_type": "stream",
          "name": "stdout",
          "text": [
            "1/1 [==============================] - 0s 100ms/step\n"
          ]
        },
        {
          "output_type": "display_data",
          "data": {
            "text/plain": [
              "<Figure size 432x288 with 1 Axes>"
            ],
            "image/png": "[encoded data removed]"
          },
          "metadata": {}
        },
        {
          "output_type": "display_data",
          "data": {
            "text/plain": [
              "None"
            ]
          },
          "metadata": {}
        },
        {
          "output_type": "stream",
          "name": "stdout",
          "text": [
            "\n"
          ]
        }
      ]
    },
    {
      "cell_type": "code",
      "source": [],
      "metadata": {
        "id": "c7jsn3LvwZ5p"
      },
      "execution_count": null,
      "outputs": []
    },
    {
      "cell_type": "markdown",
      "source": [
        "# CONFUSION MATRIX SEBAGAI TAMBAHAN PENDUKUNG UNTUK MEPERJELAS VISUALISASI DIATAS"
      ],
      "metadata": {
        "id": "xng6nwmSS7Nm"
      }
    },
    {
      "cell_type": "markdown",
      "source": [
        "# CONFUSION MATRIX WITH SKLEARN DARI DATA EXAMPLE PREDIKSI DIATAS"
      ],
      "metadata": {
        "id": "SYvcxRgI6VIv"
      }
    },
    {
      "cell_type": "code",
      "source": [
        "KNOWLDEGE = '''\n",
        "examples = [\"MotoGP 2015 akan dikenang sebagai salah satu yang paling sengit dalam gelaran kejuaraan dunia balap motor grand prix\",\n",
        "            \"Ida Fauziyah menargetkan penyaluran Bantuan Subsidi Upah (BSU) atau BLT Gaji melalui PT Pos\",\n",
        "            \"Teknik Dasar Jalan Cepat, Sejarah, dan Manfaat untuk Kesehatan\",\n",
        "            \"Covid-19 akan meningkat apabila masayarakat tidak patuh protokol kesehatan\",\n",
        "            \"Rencana Impor KRL Bekas: Didukung Erick Thohir, Belum Direstui Kemenperin\",\n",
        "            \"Inflasi Indonesia Naik Lagi pada Februari 2023\"]\n",
        "\n",
        "\n",
        "array([[0.2787188 , 0.2602841 , 0.46099707],\n",
        "       [0.35545906, 0.38726214, 0.2572788 ],\n",
        "       [0.34048846, 0.5059424 , 0.1535691 ],\n",
        "       [0.36652344, 0.4425247 , 0.19095181],\n",
        "       [0.38142797, 0.33325955, 0.28531247],\n",
        "       [0.39142797, 0.32325955, 0.28531247],], dtype=float32)    \n",
        "\n",
        "'''               \n",
        "\n",
        "\n",
        "\n",
        "y_value_true = [2,1,1,1,0,0]  # Knowledge dari user/peneliti\n",
        "x_value_pred = [2,1,1,1,0,0]  # Value dari nilai prdiksi diambil prosentasi terbesar     \n",
        "LABEL = ['EKO', 'HEL', 'OLA']    \n",
        "\n"
      ],
      "metadata": {
        "id": "WU73XALk6UUh"
      },
      "execution_count": null,
      "outputs": []
    },
    {
      "cell_type": "code",
      "source": [
        "from sklearn.metrics import confusion_matrix\n",
        "\n",
        "conf_matrix = confusion_matrix(L1, L2)\n",
        "#conf_matrix = confusion_matrix([2,1,1,1,0,1], [2,1,1,1,0,1])\n",
        "print(conf_matrix)\n",
        "\n",
        "L1 = ['OLA','HEL','EKO','EKO','HEL','HEL','OLA']\n",
        "L2 = ['OLA','HEL','EKO','EKO','HEL','HEL','OLA']\n",
        "\n",
        "sns.heatmap(\n",
        "    conf_matrix, annot=True,\n",
        "    xticklabels= L1 ,\n",
        "    yticklabels= L2)\n",
        "plt.xlabel(\"Predicted\")\n",
        "plt.ylabel(\"True\")"
      ],
      "metadata": {
        "id": "bzJs7LNC-HTL",
        "outputId": "bfe88336-0362-447b-b8ae-f264374b8b34",
        "colab": {
          "base_uri": "https://localhost:8080/",
          "height": 354
        }
      },
      "execution_count": null,
      "outputs": [
        {
          "output_type": "stream",
          "name": "stdout",
          "text": [
            "[[2 0 0]\n",
            " [0 3 0]\n",
            " [0 0 2]]\n"
          ]
        },
        {
          "output_type": "execute_result",
          "data": {
            "text/plain": [
              "Text(33.0, 0.5, 'True')"
            ]
          },
          "metadata": {},
          "execution_count": 66
        },
        {
          "output_type": "display_data",
          "data": {
            "text/plain": [
              "<Figure size 432x288 with 2 Axes>"
            ],
            "image/png": "[encoded data removed]"
          },
          "metadata": {
            "needs_background": "light"
          }
        }
      ]
    },
    {
      "cell_type": "markdown",
      "source": [
        "Confusion matrix yang diberikan terdiri dari tiga kelas (class), yaitu kelas EKO, KESEHATAN, dan OLAHRAGA. Kolom merepresentasikan nilai prediksi dan baris merepresentasikan nilai sebenarnya. Oleh karena itu, diagonal utama dari matrix menunjukkan jumlah prediksi yang benar.\n",
        "\n",
        "Berdasarkan confusion matrix yang diberikan, dapat disimpulkan bahwa:\n",
        "\n",
        "Kelas pertama memiliki dua prediksi yang benar (true positive), sementara tidak ada prediksi yang salah (false positive) atau salah negatif (false negative) pada kelas ini.\n",
        "Kelas kedua memiliki tiga prediksi yang benar (true positive), sementara tidak ada prediksi yang salah (false positive) atau salah negatif (false negative) pada kelas ini.\n",
        "Kelas ketiga memiliki satu prediksi yang benar (true positive), sementara tidak ada prediksi yang salah (false positive) atau salah negatif (false negative) pada kelas ini.\n",
        "Dengan demikian, dapat disimpulkan bahwa model memiliki performa yang cukup baik untuk memprediksi tiga kelas yang ada, karena tidak terdapat nilai false positive atau false negative pada setiap kelasnya"
      ],
      "metadata": {
        "id": "6svL0N4585qT"
      }
    },
    {
      "cell_type": "markdown",
      "source": [
        "# TABLE PEMBELAJARAN / LEARNING RATE"
      ],
      "metadata": {
        "id": "MtBm4-4qSLxi"
      }
    },
    {
      "cell_type": "code",
      "source": [
        "LOSS = [0.7776076197624207,0.5466572642326355,0.4511881172657013,0.41121599078178406,0.3235812485218048,0.20382441580295563,0.18509308993816376,0.1851392388343811]\n",
        "ACCURACY = [0.7973856329917908,0.843137264251709,0.8562091588973999,0.8562091588973999,0.9142857193946838,0.920634925365448,0.9238095283508301,0.9269841313362122]\n",
        "DATASET_RAW = [1000,1000,1000,1000,1500,1500,1500,1500]\n",
        "EPOCH = [150,300,450,600,150,300,450,600]\n",
        "\n",
        "BASIC = pd.DataFrame()\n",
        "BASIC['EPOCH'] = EPOCH\n",
        "BASIC['ACCURACY'] = ACCURACY\n",
        "BASIC['LOSS'] = LOSS\n",
        "BASIC['DATASET'] = DATASET_RAW\n"
      ],
      "metadata": {
        "id": "PiHR7Tv7grxa"
      },
      "execution_count": null,
      "outputs": []
    },
    {
      "cell_type": "code",
      "source": [
        "display(BASIC)"
      ],
      "metadata": {
        "colab": {
          "base_uri": "https://localhost:8080/",
          "height": 300
        },
        "id": "EmIR4KT6hjM_",
        "outputId": "80e996f2-0c8f-4063-e1c3-b37160653776"
      },
      "execution_count": null,
      "outputs": [
        {
          "output_type": "display_data",
          "data": {
            "text/plain": [
              "   EPOCH  ACCURACY      LOSS  DATASET\n",
              "0    150  0.797386  0.777608     1000\n",
              "1    300  0.843137  0.546657     1000\n",
              "2    450  0.856209  0.451188     1000\n",
              "3    600  0.856209  0.411216     1000\n",
              "4    150  0.914286  0.323581     1500\n",
              "5    300  0.920635  0.203824     1500\n",
              "6    450  0.923810  0.185093     1500\n",
              "7    600  0.926984  0.185139     1500"
            ],
            "text/html": [
              "\n",
              "  <div id=\"df-390e0181-fb3e-4c4f-a24a-2c7dea8d4bd5\">\n",
              "    <div class=\"colab-df-container\">\n",
              "      <div>\n",
              "<style scoped>\n",
              "    .dataframe tbody tr th:only-of-type {\n",
              "        vertical-align: middle;\n",
              "    }\n",
              "\n",
              "    .dataframe tbody tr th {\n",
              "        vertical-align: top;\n",
              "    }\n",
              "\n",
              "    .dataframe thead th {\n",
              "        text-align: right;\n",
              "    }\n",
              "</style>\n",
              "<table border=\"1\" class=\"dataframe\">\n",
              "  <thead>\n",
              "    <tr style=\"text-align: right;\">\n",
              "      <th></th>\n",
              "      <th>EPOCH</th>\n",
              "      <th>ACCURACY</th>\n",
              "      <th>LOSS</th>\n",
              "      <th>DATASET</th>\n",
              "    </tr>\n",
              "  </thead>\n",
              "  <tbody>\n",
              "    <tr>\n",
              "      <th>0</th>\n",
              "      <td>150</td>\n",
              "      <td>0.797386</td>\n",
              "      <td>0.777608</td>\n",
              "      <td>1000</td>\n",
              "    </tr>\n",
              "    <tr>\n",
              "      <th>1</th>\n",
              "      <td>300</td>\n",
              "      <td>0.843137</td>\n",
              "      <td>0.546657</td>\n",
              "      <td>1000</td>\n",
              "    </tr>\n",
              "    <tr>\n",
              "      <th>2</th>\n",
              "      <td>450</td>\n",
              "      <td>0.856209</td>\n",
              "      <td>0.451188</td>\n",
              "      <td>1000</td>\n",
              "    </tr>\n",
              "    <tr>\n",
              "      <th>3</th>\n",
              "      <td>600</td>\n",
              "      <td>0.856209</td>\n",
              "      <td>0.411216</td>\n",
              "      <td>1000</td>\n",
              "    </tr>\n",
              "    <tr>\n",
              "      <th>4</th>\n",
              "      <td>150</td>\n",
              "      <td>0.914286</td>\n",
              "      <td>0.323581</td>\n",
              "      <td>1500</td>\n",
              "    </tr>\n",
              "    <tr>\n",
              "      <th>5</th>\n",
              "      <td>300</td>\n",
              "      <td>0.920635</td>\n",
              "      <td>0.203824</td>\n",
              "      <td>1500</td>\n",
              "    </tr>\n",
              "    <tr>\n",
              "      <th>6</th>\n",
              "      <td>450</td>\n",
              "      <td>0.923810</td>\n",
              "      <td>0.185093</td>\n",
              "      <td>1500</td>\n",
              "    </tr>\n",
              "    <tr>\n",
              "      <th>7</th>\n",
              "      <td>600</td>\n",
              "      <td>0.926984</td>\n",
              "      <td>0.185139</td>\n",
              "      <td>1500</td>\n",
              "    </tr>\n",
              "  </tbody>\n",
              "</table>\n",
              "</div>\n",
              "      <button class=\"colab-df-convert\" onclick=\"convertToInteractive('df-390e0181-fb3e-4c4f-a24a-2c7dea8d4bd5')\"\n",
              "              title=\"Convert this dataframe to an interactive table.\"\n",
              "              style=\"display:none;\">\n",
              "        \n",
              "  <svg xmlns=\"http://www.w3.org/2000/svg\" height=\"24px\"viewBox=\"0 0 24 24\"\n",
              "       width=\"24px\">\n",
              "    <path d=\"M0 0h24v24H0V0z\" fill=\"none\"/>\n",
              "    <path d=\"M18.56 5.44l.94 2.06.94-2.06 2.06-.94-2.06-.94-.94-2.06-.94 2.06-2.06.94zm-11 1L8.5 8.5l.94-2.06 2.06-.94-2.06-.94L8.5 2.5l-.94 2.06-2.06.94zm10 10l.94 2.06.94-2.06 2.06-.94-2.06-.94-.94-2.06-.94 2.06-2.06.94z\"/><path d=\"M17.41 7.96l-1.37-1.37c-.4-.4-.92-.59-1.43-.59-.52 0-1.04.2-1.43.59L10.3 9.45l-7.72 7.72c-.78.78-.78 2.05 0 2.83L4 21.41c.39.39.9.59 1.41.59.51 0 1.02-.2 1.41-.59l7.78-7.78 2.81-2.81c.8-.78.8-2.07 0-2.86zM5.41 20L4 18.59l7.72-7.72 1.47 1.35L5.41 20z\"/>\n",
              "  </svg>\n",
              "      </button>\n",
              "      \n",
              "  <style>\n",
              "    .colab-df-container {\n",
              "      display:flex;\n",
              "      flex-wrap:wrap;\n",
              "      gap: 12px;\n",
              "    }\n",
              "\n",
              "    .colab-df-convert {\n",
              "      background-color: #E8F0FE;\n",
              "      border: none;\n",
              "      border-radius: 50%;\n",
              "      cursor: pointer;\n",
              "      display: none;\n",
              "      fill: #1967D2;\n",
              "      height: 32px;\n",
              "      padding: 0 0 0 0;\n",
              "      width: 32px;\n",
              "    }\n",
              "\n",
              "    .colab-df-convert:hover {\n",
              "      background-color: #E2EBFA;\n",
              "      box-shadow: 0px 1px 2px rgba(60, 64, 67, 0.3), 0px 1px 3px 1px rgba(60, 64, 67, 0.15);\n",
              "      fill: #174EA6;\n",
              "    }\n",
              "\n",
              "    [theme=dark] .colab-df-convert {\n",
              "      background-color: #3B4455;\n",
              "      fill: #D2E3FC;\n",
              "    }\n",
              "\n",
              "    [theme=dark] .colab-df-convert:hover {\n",
              "      background-color: #434B5C;\n",
              "      box-shadow: 0px 1px 3px 1px rgba(0, 0, 0, 0.15);\n",
              "      filter: drop-shadow(0px 1px 2px rgba(0, 0, 0, 0.3));\n",
              "      fill: #FFFFFF;\n",
              "    }\n",
              "  </style>\n",
              "\n",
              "      <script>\n",
              "        const buttonEl =\n",
              "          document.querySelector('#df-390e0181-fb3e-4c4f-a24a-2c7dea8d4bd5 button.colab-df-convert');\n",
              "        buttonEl.style.display =\n",
              "          google.colab.kernel.accessAllowed ? 'block' : 'none';\n",
              "\n",
              "        async function convertToInteractive(key) {\n",
              "          const element = document.querySelector('#df-390e0181-fb3e-4c4f-a24a-2c7dea8d4bd5');\n",
              "          const dataTable =\n",
              "            await google.colab.kernel.invokeFunction('convertToInteractive',\n",
              "                                                     [key], {});\n",
              "          if (!dataTable) return;\n",
              "\n",
              "          const docLinkHtml = 'Like what you see? Visit the ' +\n",
              "            '<a target=\"_blank\" href=https://colab.research.google.com/notebooks/data_table.ipynb>data table notebook</a>'\n",
              "            + ' to learn more about interactive tables.';\n",
              "          element.innerHTML = '';\n",
              "          dataTable['output_type'] = 'display_data';\n",
              "          await google.colab.output.renderOutput(dataTable, element);\n",
              "          const docLink = document.createElement('div');\n",
              "          docLink.innerHTML = docLinkHtml;\n",
              "          element.appendChild(docLink);\n",
              "        }\n",
              "      </script>\n",
              "    </div>\n",
              "  </div>\n",
              "  "
            ]
          },
          "metadata": {}
        }
      ]
    },
    {
      "cell_type": "code",
      "source": [
        "sns.lineplot(data=BASIC, x=\"EPOCH\", y=\"ACCURACY\")\n",
        "plt.show()"
      ],
      "metadata": {
        "id": "3bKuqE7acO46",
        "outputId": "5ff73d71-b7af-466d-d2b7-c08085340b01",
        "colab": {
          "base_uri": "https://localhost:8080/",
          "height": 279
        }
      },
      "execution_count": null,
      "outputs": [
        {
          "output_type": "display_data",
          "data": {
            "text/plain": [
              "<Figure size 432x288 with 1 Axes>"
            ],
            "image/png": "[encoded data removed]"
          },
          "metadata": {
            "needs_background": "light"
          }
        }
      ]
    },
    {
      "cell_type": "markdown",
      "source": [
        "# Catatan Kesimpulan Sederhana"
      ],
      "metadata": {
        "id": "GUXzGiSv7zPs"
      }
    },
    {
      "cell_type": "markdown",
      "source": [
        "Dari hasil eksperimen yang diberikan, dapat disimpulkan bahwa:\n",
        "\n",
        "1. Ukuran dataset yang lebih besar dan jumlah epoch yang lebih banyak cenderung menghasilkan akurasi yang lebih tinggi dan kerugian yang lebih rendah pada model yang dilatih.\n",
        "\n",
        "2. Nilai akurasi dan kerugian berbanding lurus dan terbalik dengan ukuran dataset dan jumlah epoch, masing-masing.\n",
        "3. Akurasi tertinggi dan kerugian terendah dicapai dengan menggunakan ukuran dataset terbesar dan jumlah epoch terbanyak.\n",
        "\n",
        "4. Peningkatan ukuran dataset dan jumlah epoch berdampak positif pada akurasi dan negatif pada loss model.\n",
        "5. Nilai akurasi dan loss model memiliki korelasi positif dan negatif dengan ukuran dataset dan jumlah epoch, masing-masing.\n",
        "\n",
        "6. Dalam eksperimen ini, kombinasi ukuran dataset terbesar dan jumlah epoch terbanyak menghasilkan nilai akurasi tertinggi dan nilai loss terendah.\n",
        "\n",
        "Temuan ini sejalan dengan praktik umum dalam machine learning, di mana ukuran dataset yang lebih besar dan lebih banyak epoch pelatihan umumnya menghasilkan performa model yang lebih baik."
      ],
      "metadata": {
        "id": "qgq0Gmnh8dMn"
      }
    },
    {
      "cell_type": "code",
      "source": [],
      "metadata": {
        "id": "mX0Srhbdyq6K"
      },
      "execution_count": null,
      "outputs": []
    }
  ],
  "metadata": {
    "colab": {
      "provenance": [],
      "mount_file_id": "194KdQOmrBtd19BZL8GzB18F5-ps-gm6L",
      "authorship_tag": "ABX9TyM2X5R6q5BUWPhWOlPxs65P",
      "include_colab_link": true
    },
    "kernelspec": {
      "display_name": "Python 3",
      "name": "python3"
    },
    "language_info": {
      "name": "python"
    }
  },
  "nbformat": 4,
  "nbformat_minor": 0
}
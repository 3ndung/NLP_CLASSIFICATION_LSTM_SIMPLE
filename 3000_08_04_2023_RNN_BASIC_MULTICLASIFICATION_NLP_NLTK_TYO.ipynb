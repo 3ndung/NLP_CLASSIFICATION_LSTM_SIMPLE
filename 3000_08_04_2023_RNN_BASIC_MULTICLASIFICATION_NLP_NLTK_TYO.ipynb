{
  "cells": [
    {
      "cell_type": "markdown",
      "metadata": {
        "id": "view-in-github",
        "colab_type": "text"
      },
      "source": [
        "<a href=\"https://colab.research.google.com/github/3ndung/NLP_CLASSIFICATION_LSTM_SIMPLE/blob/main/3000_08_04_2023_RNN_BASIC_MULTICLASIFICATION_NLP_NLTK_TYO.ipynb\" target=\"_parent\"><img src=\"https://colab.research.google.com/assets/colab-badge.svg\" alt=\"Open In Colab\"/></a>"
      ]
    },
    {
      "cell_type": "markdown",
      "metadata": {
        "id": "wulUbvrtHF-w"
      },
      "source": [
        "Import library "
      ]
    },
    {
      "cell_type": "code",
      "execution_count": 1,
      "metadata": {
        "colab": {
          "base_uri": "https://localhost:8080/"
        },
        "id": "s_b478-RVma4",
        "outputId": "9d832e95-e1f3-4eae-a2e6-771114c78762"
      },
      "outputs": [
        {
          "output_type": "stream",
          "name": "stdout",
          "text": [
            "Mounted at /content/drive\n"
          ]
        }
      ],
      "source": [
        "from google.colab import drive\n",
        "drive.mount('/content/drive')"
      ]
    },
    {
      "cell_type": "code",
      "execution_count": 2,
      "metadata": {
        "id": "nD7PJZ1KG5DW"
      },
      "outputs": [],
      "source": [
        "import matplotlib.pyplot as plt\n",
        "import os\n",
        "import re\n",
        "import shutil\n",
        "import string\n",
        "import tensorflow as tf\n",
        "import matplotlib.pyplot as plt\n",
        "import pandas as pd\n",
        "import seaborn as sns\n",
        "import numpy as np\n",
        "\n"
      ]
    },
    {
      "cell_type": "markdown",
      "source": [
        "Update adding feature callbacks : Untuk mengambil weight/bobot terbaik saat training yang berfungsi mempercepat waktu pembelajaran dengan last point step adalah weight terbaik."
      ],
      "metadata": {
        "id": "HbaLYlnunj2L"
      }
    },
    {
      "cell_type": "code",
      "source": [
        "from tensorflow.keras import layers\n",
        "from tensorflow.keras import losses\n",
        "from tensorflow.keras.callbacks import EarlyStopping, ModelCheckpoint"
      ],
      "metadata": {
        "id": "lDuLogIYckN2"
      },
      "execution_count": 3,
      "outputs": []
    },
    {
      "cell_type": "markdown",
      "metadata": {
        "id": "uIjLHbiPHTR2"
      },
      "source": [
        "Cek TF Version"
      ]
    },
    {
      "cell_type": "code",
      "execution_count": 4,
      "metadata": {
        "colab": {
          "base_uri": "https://localhost:8080/"
        },
        "id": "sOzzke_vHRW9",
        "outputId": "57050b2c-3a1d-4c66-81b9-619cf52a9e91"
      },
      "outputs": [
        {
          "output_type": "stream",
          "name": "stdout",
          "text": [
            "2.12.0\n"
          ]
        }
      ],
      "source": [
        "print(tf.__version__)"
      ]
    },
    {
      "cell_type": "markdown",
      "metadata": {
        "id": "dkth6QYlH4A-"
      },
      "source": [
        "# Download dataset dari data yang sudah dibersihkan "
      ]
    },
    {
      "cell_type": "code",
      "execution_count": 5,
      "metadata": {
        "id": "Jkcr4YjLMSJk"
      },
      "outputs": [],
      "source": [
        "dataset_dir = os.path.join(os.path.dirname('dataset'), '/content/drive/MyDrive/TYO_NLTK/DTS3000/')"
      ]
    },
    {
      "cell_type": "markdown",
      "source": [
        "## Melihat directory dataset"
      ],
      "metadata": {
        "id": "fKYOm3irkmJv"
      }
    },
    {
      "cell_type": "code",
      "execution_count": 6,
      "metadata": {
        "colab": {
          "base_uri": "https://localhost:8080/"
        },
        "id": "8X3-kfvvMr8R",
        "outputId": "72fcbcd3-ee87-4932-856b-71124141d9a1"
      },
      "outputs": [
        {
          "output_type": "execute_result",
          "data": {
            "text/plain": [
              "['TRAIN', 'TEST']"
            ]
          },
          "metadata": {},
          "execution_count": 6
        }
      ],
      "source": [
        "os.listdir(dataset_dir)"
      ]
    },
    {
      "cell_type": "markdown",
      "metadata": {
        "id": "4_e8nUJqM8lj"
      },
      "source": [
        "## SET DATA UNTUK DI TRAIN "
      ]
    },
    {
      "cell_type": "code",
      "execution_count": 7,
      "metadata": {
        "colab": {
          "base_uri": "https://localhost:8080/"
        },
        "id": "FtYcHT3WMs79",
        "outputId": "f36270f6-6f97-4f74-af64-250d1e118380"
      },
      "outputs": [
        {
          "output_type": "execute_result",
          "data": {
            "text/plain": [
              "['EKO', 'HEL', 'OLA', 'POL']"
            ]
          },
          "metadata": {},
          "execution_count": 7
        }
      ],
      "source": [
        "train_dir = os.path.join(dataset_dir, 'TRAIN')\n",
        "os.listdir(train_dir)"
      ]
    },
    {
      "cell_type": "markdown",
      "metadata": {
        "id": "cIwhO064M_10"
      },
      "source": [
        "## SET DATA UNTUK DI TEST"
      ]
    },
    {
      "cell_type": "code",
      "execution_count": 8,
      "metadata": {
        "colab": {
          "base_uri": "https://localhost:8080/"
        },
        "id": "76h1OCWVNC7l",
        "outputId": "c47b4e6e-9b84-4bf7-c721-dc4b9c7a2394"
      },
      "outputs": [
        {
          "output_type": "execute_result",
          "data": {
            "text/plain": [
              "['EKO', 'HEL', 'OLA', 'POL']"
            ]
          },
          "metadata": {},
          "execution_count": 8
        }
      ],
      "source": [
        "test_dir = os.path.join(dataset_dir, 'TEST')\n",
        "os.listdir(train_dir)"
      ]
    },
    {
      "cell_type": "markdown",
      "source": [
        "## Sampling data yang akan di Training "
      ],
      "metadata": {
        "id": "m4da4wQOk5g8"
      }
    },
    {
      "cell_type": "code",
      "execution_count": 9,
      "metadata": {
        "colab": {
          "base_uri": "https://localhost:8080/"
        },
        "id": "y4X4padANHTW",
        "outputId": "6796bafd-3761-4ac3-bd1e-53d51489ed43"
      },
      "outputs": [
        {
          "output_type": "stream",
          "name": "stdout",
          "text": [
            "menaker pastikan ump 2023 naik sesuai tuntutan buruh\n"
          ]
        }
      ],
      "source": [
        "sample_file = os.path.join(train_dir, 'EKO/109.txt')\n",
        "\n",
        "with open(sample_file) as f:\n",
        "  print(f.read())"
      ]
    },
    {
      "cell_type": "markdown",
      "source": [
        "tf.keras.utils.text_dataset_from_directory adalah sebuah fungsi yang disediakan oleh TensorFlow yang digunakan untuk memuat data teks dari direktori pada sistem file. Fungsi ini membantu dalam mempersiapkan data dalam bentuk yang sesuai untuk pemrosesan menggunakan model pembelajaran mesin.\n",
        "\n",
        "Fungsi ini dapat membaca semua file teks dalam direktori tertentu dan mengorganisasikannya ke dalam dua set data, yaitu data latih dan data validasi, dengan pembagian data yang dapat dikonfigurasi oleh pengguna. Fungsi ini juga dapat menghasilkan sebuah objek tf.data.Dataset yang dapat digunakan untuk memasukkan data ke dalam model pembelajaran mesin.\n",
        "\n",
        "Pengguna dapat menentukan parameter seperti batch_size, seed, validation_split, subset, labels, dan sebagainya untuk mengatur bagaimana data akan dibagi dan disiapkan untuk model.\n",
        "\n",
        "Dalam keseluruhan, fungsi tf.keras.utils.text_dataset_from_directory sangat berguna bagi para pengembang dan peneliti yang bekerja dengan pemrosesan bahasa alami dan ingin mempersiapkan data teks dalam format yang sesuai untuk diproses dengan model pembelajaran mesin."
      ],
      "metadata": {
        "id": "eQEB0IAplncm"
      }
    },
    {
      "cell_type": "code",
      "execution_count": 10,
      "metadata": {
        "colab": {
          "base_uri": "https://localhost:8080/"
        },
        "id": "MEEvC45_N7RZ",
        "outputId": "e176eb53-3c5a-4497-ad84-88da9202acb0"
      },
      "outputs": [
        {
          "output_type": "stream",
          "name": "stdout",
          "text": [
            "Found 2400 files belonging to 4 classes.\n",
            "Using 1920 files for training.\n"
          ]
        }
      ],
      "source": [
        "batch_size = 32\n",
        "seed = 42\n",
        "\n",
        "raw_train_ds = tf.keras.utils.text_dataset_from_directory(\n",
        "    '/content/drive/MyDrive/TYO_NLTK/DTS3000/TRAIN', \n",
        "    batch_size=batch_size, \n",
        "    validation_split=0.2, # Parto law 80:20\n",
        "    subset='training', # ini digunakan untuk data yang akan di training\n",
        "    seed=seed)"
      ]
    },
    {
      "cell_type": "code",
      "execution_count": 11,
      "metadata": {
        "colab": {
          "base_uri": "https://localhost:8080/"
        },
        "id": "JTUNrQEQOIPt",
        "outputId": "53e7b51d-8f18-4597-9484-d5016cb29325"
      },
      "outputs": [
        {
          "output_type": "stream",
          "name": "stdout",
          "text": [
            "Review b'jelang persaingan panas perebutan titel juara dunia di motogp valencia 2022 fabio quartararo justru santai'\n",
            "Label 2\n",
            "Review b'ojk potensi kredit bermasalah terus meningkat seiring dampak pandemi pada ekonomi'\n",
            "Label 0\n",
            "Review b'penyakit kanker terkait gen dipengaruhi faktor lingkungan'\n",
            "Label 1\n"
          ]
        }
      ],
      "source": [
        "for text_batch, label_batch in raw_train_ds.take(1):\n",
        "  for i in range(3):\n",
        "    print(\"Review\", text_batch.numpy()[i])\n",
        "    print(\"Label\", label_batch.numpy()[i])"
      ]
    },
    {
      "cell_type": "code",
      "execution_count": 12,
      "metadata": {
        "colab": {
          "base_uri": "https://localhost:8080/"
        },
        "id": "3ouP_BxwOe7a",
        "outputId": "69f6a52b-f2ab-463a-87e3-947ec0dec037"
      },
      "outputs": [
        {
          "output_type": "stream",
          "name": "stdout",
          "text": [
            "Label 0 corresponds to EKO\n",
            "Label 1 corresponds to HEL\n",
            "Label 2 corresponds to OLA\n",
            "Label 3 corresponds to POL\n"
          ]
        }
      ],
      "source": [
        "print(\"Label 0 corresponds to\", raw_train_ds.class_names[0])\n",
        "print(\"Label 1 corresponds to\", raw_train_ds.class_names[1])\n",
        "print(\"Label 2 corresponds to\", raw_train_ds.class_names[2])\n",
        "print(\"Label 3 corresponds to\", raw_train_ds.class_names[3])"
      ]
    },
    {
      "cell_type": "code",
      "execution_count": 13,
      "metadata": {
        "colab": {
          "base_uri": "https://localhost:8080/"
        },
        "id": "z426gnYnOlOa",
        "outputId": "6000a9c3-4b3e-478b-a0fe-c090aee143ef"
      },
      "outputs": [
        {
          "output_type": "stream",
          "name": "stdout",
          "text": [
            "Found 2400 files belonging to 4 classes.\n",
            "Using 480 files for validation.\n"
          ]
        }
      ],
      "source": [
        "raw_val_ds = tf.keras.utils.text_dataset_from_directory(\n",
        "    '/content/drive/MyDrive/TYO_NLTK/DTS3000/TRAIN', \n",
        "    batch_size=batch_size, \n",
        "    validation_split=0.2, \n",
        "    subset='validation', \n",
        "    seed=seed)"
      ]
    },
    {
      "cell_type": "code",
      "execution_count": 14,
      "metadata": {
        "colab": {
          "base_uri": "https://localhost:8080/"
        },
        "id": "HrSDscr2O2pU",
        "outputId": "b6ad8e22-a1c3-4f18-97ac-6a9e81998280"
      },
      "outputs": [
        {
          "output_type": "stream",
          "name": "stdout",
          "text": [
            "Found 604 files belonging to 4 classes.\n"
          ]
        }
      ],
      "source": [
        "raw_test_ds = tf.keras.utils.text_dataset_from_directory(\n",
        "    '/content/drive/MyDrive/TYO_NLTK/DTS3000/TEST', \n",
        "    batch_size=batch_size)"
      ]
    },
    {
      "cell_type": "markdown",
      "source": [
        "## Membuat function untuk menstandarkan/ menseragamkan string input"
      ],
      "metadata": {
        "id": "PYITtbK8LWwj"
      }
    },
    {
      "cell_type": "code",
      "execution_count": 15,
      "metadata": {
        "id": "AugpXoBfPBeY"
      },
      "outputs": [],
      "source": [
        "def custom_standardization(input_data):\n",
        "  # Membuat Semua String menjadi Lower String/ huruf kecil Semua\n",
        "  lowercase = tf.strings.lower(input_data)\n",
        "  # Menghapus apabila ada html tag\n",
        "  stripped_html = tf.strings.regex_replace(lowercase, '<br />', ' ')\n",
        "  return tf.strings.regex_replace(stripped_html,\n",
        "                                  '[%s]' % re.escape(string.punctuation),\n",
        "                                  '')"
      ]
    },
    {
      "cell_type": "markdown",
      "metadata": {
        "id": "SmDjxk7fkuMU"
      },
      "source": [
        "## [TEXTVECTORIZATION](https://www.tensorflow.org/api_docs/python/tf/keras/layers/TextVectorization)\n",
        "\n",
        "Adalah pre-processing sebelum proses pembelajaran yang mengubah string mentah kedalam bentuk intger yang dapat dibaca oleh lapisan berikutnya dalam Synapsis/ Layer berikutnya contoh embeding dan denses\n"
      ]
    },
    {
      "cell_type": "code",
      "execution_count": 16,
      "metadata": {
        "id": "5y2kL-Q-lSkA"
      },
      "outputs": [],
      "source": [
        "max_features = 10000\n",
        "sequence_length = 250\n",
        "\n",
        "vectorize_layer = layers.TextVectorization(\n",
        "    # Memanggil fungsi sebelumnya yang mestandarkan semua string input menjadi lower case dan menghilangkan tag html bila ada\n",
        "    standardize=custom_standardization,\n",
        "    # Memberikan batasan padding agar panjang matrix sama pada setiap masukan.\n",
        "    max_tokens=max_features,\n",
        "    # Output String akan diubah menjadi bentuk integer\n",
        "    output_mode='int',\n",
        "    output_sequence_length=sequence_length)"
      ]
    },
    {
      "cell_type": "markdown",
      "metadata": {
        "id": "EqijZrfWl449"
      },
      "source": [
        "'''\n",
        "Next, you will call adapt to fit the state of the preprocessing layer to the dataset. This will cause the model to build an index of strings to integers.\n",
        "'''"
      ]
    },
    {
      "cell_type": "code",
      "execution_count": 17,
      "metadata": {
        "id": "ulGHvGJWlgI3"
      },
      "outputs": [],
      "source": [
        "# Make a text-only dataset (without labels), then call adapt\n",
        "train_text = raw_train_ds.map(lambda x, y: x)\n",
        "vectorize_layer.adapt(train_text)\n",
        "\n",
        "\n"
      ]
    },
    {
      "cell_type": "markdown",
      "source": [
        "# Fungsi yang mengubah setiap string text input ke dalam bentuk intger dan menyimpan dalam array, dengan menggunakan vectorize_layer yang telah diset diatas."
      ],
      "metadata": {
        "id": "baE3pm5-T-rZ"
      }
    },
    {
      "cell_type": "code",
      "execution_count": 18,
      "metadata": {
        "id": "NcySBx7rl8zj"
      },
      "outputs": [],
      "source": [
        "def vectorize_text(text, label):\n",
        "  text = tf.expand_dims(text, -1)\n",
        "  return vectorize_layer(text), label"
      ]
    },
    {
      "cell_type": "code",
      "execution_count": 19,
      "metadata": {
        "colab": {
          "base_uri": "https://localhost:8080/"
        },
        "id": "KY26gx46mFXz",
        "outputId": "f32204d5-3c14-4b81-b134-1f5dfe8ade3e"
      },
      "outputs": [
        {
          "output_type": "stream",
          "name": "stdout",
          "text": [
            "\n",
            "Review -> text_batch[13] tf.Tensor(b'studi olahraga teratur menjaga kesehatan otak pada orang tua', shape=(), dtype=string)\n",
            "Label -> Label_batch[13] HEL\n",
            "\n",
            "Vectorized review nya seperti ini \n",
            "\n",
            " (<tf.Tensor: shape=(1, 250), dtype=int64, numpy=\n",
            "array([[ 63,  86, 869, 304,  11, 302,  18, 156, 861,   0,   0,   0,   0,\n",
            "          0,   0,   0,   0,   0,   0,   0,   0,   0,   0,   0,   0,   0,\n",
            "          0,   0,   0,   0,   0,   0,   0,   0,   0,   0,   0,   0,   0,\n",
            "          0,   0,   0,   0,   0,   0,   0,   0,   0,   0,   0,   0,   0,\n",
            "          0,   0,   0,   0,   0,   0,   0,   0,   0,   0,   0,   0,   0,\n",
            "          0,   0,   0,   0,   0,   0,   0,   0,   0,   0,   0,   0,   0,\n",
            "          0,   0,   0,   0,   0,   0,   0,   0,   0,   0,   0,   0,   0,\n",
            "          0,   0,   0,   0,   0,   0,   0,   0,   0,   0,   0,   0,   0,\n",
            "          0,   0,   0,   0,   0,   0,   0,   0,   0,   0,   0,   0,   0,\n",
            "          0,   0,   0,   0,   0,   0,   0,   0,   0,   0,   0,   0,   0,\n",
            "          0,   0,   0,   0,   0,   0,   0,   0,   0,   0,   0,   0,   0,\n",
            "          0,   0,   0,   0,   0,   0,   0,   0,   0,   0,   0,   0,   0,\n",
            "          0,   0,   0,   0,   0,   0,   0,   0,   0,   0,   0,   0,   0,\n",
            "          0,   0,   0,   0,   0,   0,   0,   0,   0,   0,   0,   0,   0,\n",
            "          0,   0,   0,   0,   0,   0,   0,   0,   0,   0,   0,   0,   0,\n",
            "          0,   0,   0,   0,   0,   0,   0,   0,   0,   0,   0,   0,   0,\n",
            "          0,   0,   0,   0,   0,   0,   0,   0,   0,   0,   0,   0,   0,\n",
            "          0,   0,   0,   0,   0,   0,   0,   0,   0,   0,   0,   0,   0,\n",
            "          0,   0,   0,   0,   0,   0,   0,   0,   0,   0,   0,   0,   0,\n",
            "          0,   0,   0]])>, <tf.Tensor: shape=(), dtype=int32, numpy=1>)\n"
          ]
        }
      ],
      "source": [
        "text_batch, label_batch = next(iter(raw_train_ds))\n",
        "first_review, first_label = text_batch[13], label_batch[13]\n",
        "print(\"\\nReview -> text_batch[13]\", first_review)\n",
        "print(\"Label -> Label_batch[13]\", raw_train_ds.class_names[first_label])\n",
        "print(\"\\nVectorized review nya seperti ini \\n\\n\", vectorize_text(first_review, first_label))"
      ]
    },
    {
      "cell_type": "markdown",
      "source": [
        "## Pembuktian Terbalik TEXTVECTORIZATION"
      ],
      "metadata": {
        "id": "UctZlpiLoUJ9"
      }
    },
    {
      "cell_type": "code",
      "execution_count": 20,
      "metadata": {
        "colab": {
          "base_uri": "https://localhost:8080/"
        },
        "id": "g4mQQp4zmz0q",
        "outputId": "81241470-097c-4927-96a2-540a4052445e"
      },
      "outputs": [
        {
          "output_type": "stream",
          "name": "stdout",
          "text": [
            "119 --->  emas\n",
            "395 --->  kelebihan\n",
            "Vocabulary size: 4740\n"
          ]
        }
      ],
      "source": [
        "print(\"119 ---> \",vectorize_layer.get_vocabulary()[119])\n",
        "print(\"395 ---> \",vectorize_layer.get_vocabulary()[395])\n",
        "print('Vocabulary size: {}'.format(len(vectorize_layer.get_vocabulary())))"
      ]
    },
    {
      "cell_type": "markdown",
      "source": [
        "# Menggubah semua input train, validasi dan test kedalam bentuk integer"
      ],
      "metadata": {
        "id": "oAmWnF1MVWcg"
      }
    },
    {
      "cell_type": "code",
      "execution_count": 21,
      "metadata": {
        "id": "lEucwjQ-m_Vp"
      },
      "outputs": [],
      "source": [
        "train_ds = raw_train_ds.map(vectorize_text)\n",
        "val_ds = raw_val_ds.map(vectorize_text)\n",
        "test_ds = raw_test_ds.map(vectorize_text)"
      ]
    },
    {
      "cell_type": "code",
      "execution_count": 22,
      "metadata": {
        "id": "mIb-okwOqkk5"
      },
      "outputs": [],
      "source": [
        "# Tunning dataset train, validasi dan test dengan AUTOTUNE untuk optimisasi shape data\n",
        "AUTOTUNE = tf.data.AUTOTUNE\n",
        "\n",
        "train_ds = train_ds.cache().prefetch(buffer_size=AUTOTUNE)\n",
        "val_ds = val_ds.cache().prefetch(buffer_size=AUTOTUNE)\n",
        "test_ds = test_ds.cache().prefetch(buffer_size=AUTOTUNE)"
      ]
    },
    {
      "cell_type": "markdown",
      "source": [
        "# Layer embedding dimension kita set menjadi 16 , seperti yang sering digunakan dalam panduan, embedding ini hanya dapat digunakan pada integer positiv dan untuk memperbaiki matrix."
      ],
      "metadata": {
        "id": "I6QrFPXaWMnJ"
      }
    },
    {
      "cell_type": "code",
      "execution_count": 23,
      "metadata": {
        "id": "lG28akNvrENY"
      },
      "outputs": [],
      "source": [
        "embedding_dim = 16"
      ]
    },
    {
      "cell_type": "code",
      "execution_count": null,
      "metadata": {
        "id": "EO8LQT0jiq0I"
      },
      "outputs": [],
      "source": []
    },
    {
      "cell_type": "markdown",
      "source": [
        "## RNN MODEL "
      ],
      "metadata": {
        "id": "CU5yo7M1or1j"
      }
    },
    {
      "cell_type": "code",
      "execution_count": 32,
      "metadata": {
        "id": "X7rx6X_5rKo3",
        "colab": {
          "base_uri": "https://localhost:8080/",
          "height": 1000
        },
        "outputId": "196a612a-e87d-4375-f250-847defb5a1e3"
      },
      "outputs": [
        {
          "output_type": "stream",
          "name": "stdout",
          "text": [
            "Model: \"sequential_2\"\n",
            "_________________________________________________________________\n",
            " Layer (type)                Output Shape              Param #   \n",
            "=================================================================\n",
            " embedding_2 (Embedding)     (None, None, 16)          160016    \n",
            "                                                                 \n",
            " dropout_4 (Dropout)         (None, None, 16)          0         \n",
            "                                                                 \n",
            " global_average_pooling1d_2   (None, 16)               0         \n",
            " (GlobalAveragePooling1D)                                        \n",
            "                                                                 \n",
            " dropout_5 (Dropout)         (None, 16)                0         \n",
            "                                                                 \n",
            " dense_2 (Dense)             (None, 4)                 68        \n",
            "                                                                 \n",
            "=================================================================\n",
            "Total params: 160,084\n",
            "Trainable params: 160,084\n",
            "Non-trainable params: 0\n",
            "_________________________________________________________________\n"
          ]
        },
        {
          "output_type": "execute_result",
          "data": {
            "image/png": "[encoded data removed]",
            "text/plain": [
              "<IPython.core.display.Image object>"
            ]
          },
          "metadata": {},
          "execution_count": 32
        }
      ],
      "source": [
        "model = tf.keras.Sequential([\n",
        "  layers.Embedding(max_features + 1, embedding_dim),\n",
        "  layers.Dropout(0.2),\n",
        "  layers.GlobalAveragePooling1D(),\n",
        "  layers.Dropout(0.2),\n",
        "  layers.Dense(4)])\n",
        "\n",
        "model.summary()\n",
        "\n",
        "\n",
        "\n",
        "img_file = 'model_arch.png'\n",
        "tf.keras.utils.plot_model(model, to_file=img_file, show_shapes=True, show_layer_names=True)"
      ]
    },
    {
      "cell_type": "code",
      "execution_count": null,
      "metadata": {
        "id": "59mEoZIlujif"
      },
      "outputs": [],
      "source": [
        "#model.compile(loss=losses.SparseCategoricalCrossentropy(from_logits=True),\n",
        "#              optimizer='adam',\n",
        "#              metrics=tf.metrics.Accuracy())\n",
        "\n",
        "\n"
      ]
    },
    {
      "cell_type": "code",
      "execution_count": 33,
      "metadata": {
        "id": "ZZ4gSBNyyBgl"
      },
      "outputs": [],
      "source": [
        "model.compile(loss = losses.SparseCategoricalCrossentropy(from_logits=True), optimizer = 'adam', metrics = ['accuracy'])"
      ]
    },
    {
      "cell_type": "code",
      "source": [
        "early_stopping = EarlyStopping(monitor='val_loss',patience=5)\n",
        "checkpoint = ModelCheckpoint(filepath='BEST_AJA.h5',save_best_only=True, save_weights_only=True)"
      ],
      "metadata": {
        "id": "ym0SqBxHfw3D"
      },
      "execution_count": 34,
      "outputs": []
    },
    {
      "cell_type": "code",
      "execution_count": 35,
      "metadata": {
        "colab": {
          "base_uri": "https://localhost:8080/"
        },
        "id": "S4gEVVopw1Di",
        "outputId": "3121ddc2-b615-4ca5-cdfa-08edc2b4d439"
      },
      "outputs": [
        {
          "output_type": "stream",
          "name": "stdout",
          "text": [
            "Epoch 1/150\n",
            "60/60 [==============================] - 128s 2s/step - loss: 1.3869 - accuracy: 0.2453 - val_loss: 1.3845 - val_accuracy: 0.2479\n",
            "Epoch 2/150\n",
            "60/60 [==============================] - 0s 8ms/step - loss: 1.3847 - accuracy: 0.2995 - val_loss: 1.3847 - val_accuracy: 0.2375\n",
            "Epoch 3/150\n",
            "60/60 [==============================] - 0s 8ms/step - loss: 1.3827 - accuracy: 0.3026 - val_loss: 1.3840 - val_accuracy: 0.2333\n",
            "Epoch 4/150\n",
            "60/60 [==============================] - 0s 8ms/step - loss: 1.3806 - accuracy: 0.2953 - val_loss: 1.3831 - val_accuracy: 0.2062\n",
            "Epoch 5/150\n",
            "60/60 [==============================] - 0s 8ms/step - loss: 1.3783 - accuracy: 0.2839 - val_loss: 1.3811 - val_accuracy: 0.2083\n",
            "Epoch 6/150\n",
            "60/60 [==============================] - 0s 8ms/step - loss: 1.3752 - accuracy: 0.3156 - val_loss: 1.3786 - val_accuracy: 0.2271\n",
            "Epoch 7/150\n",
            "60/60 [==============================] - 1s 8ms/step - loss: 1.3719 - accuracy: 0.3422 - val_loss: 1.3753 - val_accuracy: 0.3167\n",
            "Epoch 8/150\n",
            "60/60 [==============================] - 1s 9ms/step - loss: 1.3681 - accuracy: 0.3578 - val_loss: 1.3720 - val_accuracy: 0.3125\n",
            "Epoch 9/150\n",
            "60/60 [==============================] - 1s 8ms/step - loss: 1.3625 - accuracy: 0.4307 - val_loss: 1.3664 - val_accuracy: 0.4854\n",
            "Epoch 10/150\n",
            "60/60 [==============================] - 1s 8ms/step - loss: 1.3565 - accuracy: 0.5182 - val_loss: 1.3607 - val_accuracy: 0.5917\n",
            "Epoch 11/150\n",
            "60/60 [==============================] - 1s 8ms/step - loss: 1.3484 - accuracy: 0.5302 - val_loss: 1.3540 - val_accuracy: 0.5729\n",
            "Epoch 12/150\n",
            "60/60 [==============================] - 1s 9ms/step - loss: 1.3395 - accuracy: 0.5646 - val_loss: 1.3459 - val_accuracy: 0.5958\n",
            "Epoch 13/150\n",
            "60/60 [==============================] - 1s 8ms/step - loss: 1.3304 - accuracy: 0.6354 - val_loss: 1.3363 - val_accuracy: 0.6958\n",
            "Epoch 14/150\n",
            "60/60 [==============================] - 0s 8ms/step - loss: 1.3205 - accuracy: 0.6687 - val_loss: 1.3277 - val_accuracy: 0.6292\n",
            "Epoch 15/150\n",
            "60/60 [==============================] - 0s 8ms/step - loss: 1.3068 - accuracy: 0.7104 - val_loss: 1.3157 - val_accuracy: 0.7750\n",
            "Epoch 16/150\n",
            "60/60 [==============================] - 1s 11ms/step - loss: 1.2941 - accuracy: 0.7901 - val_loss: 1.3027 - val_accuracy: 0.8562\n",
            "Epoch 17/150\n",
            "60/60 [==============================] - 1s 11ms/step - loss: 1.2789 - accuracy: 0.8266 - val_loss: 1.2912 - val_accuracy: 0.7771\n",
            "Epoch 18/150\n",
            "60/60 [==============================] - 1s 12ms/step - loss: 1.2623 - accuracy: 0.8000 - val_loss: 1.2764 - val_accuracy: 0.8479\n",
            "Epoch 19/150\n",
            "60/60 [==============================] - 1s 11ms/step - loss: 1.2454 - accuracy: 0.8667 - val_loss: 1.2597 - val_accuracy: 0.8875\n",
            "Epoch 20/150\n",
            "60/60 [==============================] - 0s 8ms/step - loss: 1.2258 - accuracy: 0.9036 - val_loss: 1.2418 - val_accuracy: 0.9167\n",
            "Epoch 21/150\n",
            "60/60 [==============================] - 0s 7ms/step - loss: 1.2047 - accuracy: 0.9250 - val_loss: 1.2256 - val_accuracy: 0.8938\n",
            "Epoch 22/150\n",
            "60/60 [==============================] - 1s 9ms/step - loss: 1.1858 - accuracy: 0.9333 - val_loss: 1.2066 - val_accuracy: 0.9083\n",
            "Epoch 23/150\n",
            "60/60 [==============================] - 1s 9ms/step - loss: 1.1634 - accuracy: 0.9406 - val_loss: 1.1874 - val_accuracy: 0.9062\n",
            "Epoch 24/150\n",
            "60/60 [==============================] - 1s 8ms/step - loss: 1.1402 - accuracy: 0.9516 - val_loss: 1.1672 - val_accuracy: 0.9042\n",
            "Epoch 25/150\n",
            "60/60 [==============================] - 0s 8ms/step - loss: 1.1168 - accuracy: 0.9490 - val_loss: 1.1481 - val_accuracy: 0.9125\n",
            "Epoch 26/150\n",
            "60/60 [==============================] - 1s 9ms/step - loss: 1.0941 - accuracy: 0.9552 - val_loss: 1.1266 - val_accuracy: 0.9104\n",
            "Epoch 27/150\n",
            "60/60 [==============================] - 1s 8ms/step - loss: 1.0699 - accuracy: 0.9547 - val_loss: 1.1056 - val_accuracy: 0.9125\n",
            "Epoch 28/150\n",
            "60/60 [==============================] - 0s 8ms/step - loss: 1.0438 - accuracy: 0.9625 - val_loss: 1.0835 - val_accuracy: 0.9125\n",
            "Epoch 29/150\n",
            "60/60 [==============================] - 1s 9ms/step - loss: 1.0205 - accuracy: 0.9625 - val_loss: 1.0641 - val_accuracy: 0.9062\n",
            "Epoch 30/150\n",
            "60/60 [==============================] - 1s 9ms/step - loss: 0.9956 - accuracy: 0.9651 - val_loss: 1.0412 - val_accuracy: 0.9208\n",
            "Epoch 31/150\n",
            "60/60 [==============================] - 0s 8ms/step - loss: 0.9680 - accuracy: 0.9635 - val_loss: 1.0181 - val_accuracy: 0.9333\n",
            "Epoch 32/150\n",
            "60/60 [==============================] - 1s 8ms/step - loss: 0.9455 - accuracy: 0.9688 - val_loss: 0.9979 - val_accuracy: 0.9104\n",
            "Epoch 33/150\n",
            "60/60 [==============================] - 1s 9ms/step - loss: 0.9204 - accuracy: 0.9635 - val_loss: 0.9766 - val_accuracy: 0.9146\n",
            "Epoch 34/150\n",
            "60/60 [==============================] - 0s 8ms/step - loss: 0.8962 - accuracy: 0.9667 - val_loss: 0.9542 - val_accuracy: 0.9187\n",
            "Epoch 35/150\n",
            "60/60 [==============================] - 1s 9ms/step - loss: 0.8723 - accuracy: 0.9677 - val_loss: 0.9348 - val_accuracy: 0.9187\n",
            "Epoch 36/150\n",
            "60/60 [==============================] - 1s 10ms/step - loss: 0.8475 - accuracy: 0.9724 - val_loss: 0.9124 - val_accuracy: 0.9208\n",
            "Epoch 37/150\n",
            "60/60 [==============================] - 1s 12ms/step - loss: 0.8219 - accuracy: 0.9672 - val_loss: 0.8920 - val_accuracy: 0.9208\n",
            "Epoch 38/150\n",
            "60/60 [==============================] - 1s 12ms/step - loss: 0.8017 - accuracy: 0.9677 - val_loss: 0.8721 - val_accuracy: 0.9250\n",
            "Epoch 39/150\n",
            "60/60 [==============================] - 1s 12ms/step - loss: 0.7773 - accuracy: 0.9693 - val_loss: 0.8517 - val_accuracy: 0.9333\n",
            "Epoch 40/150\n",
            "60/60 [==============================] - 0s 8ms/step - loss: 0.7510 - accuracy: 0.9714 - val_loss: 0.8321 - val_accuracy: 0.9354\n",
            "Epoch 41/150\n",
            "60/60 [==============================] - 1s 8ms/step - loss: 0.7363 - accuracy: 0.9745 - val_loss: 0.8132 - val_accuracy: 0.9354\n",
            "Epoch 42/150\n",
            "60/60 [==============================] - 1s 8ms/step - loss: 0.7157 - accuracy: 0.9708 - val_loss: 0.7952 - val_accuracy: 0.9271\n",
            "Epoch 43/150\n",
            "60/60 [==============================] - 1s 9ms/step - loss: 0.6965 - accuracy: 0.9708 - val_loss: 0.7771 - val_accuracy: 0.9292\n",
            "Epoch 44/150\n",
            "60/60 [==============================] - 1s 8ms/step - loss: 0.6727 - accuracy: 0.9734 - val_loss: 0.7605 - val_accuracy: 0.9333\n",
            "Epoch 45/150\n",
            "60/60 [==============================] - 0s 8ms/step - loss: 0.6502 - accuracy: 0.9724 - val_loss: 0.7420 - val_accuracy: 0.9292\n",
            "Epoch 46/150\n",
            "60/60 [==============================] - 0s 8ms/step - loss: 0.6370 - accuracy: 0.9740 - val_loss: 0.7264 - val_accuracy: 0.9292\n",
            "Epoch 47/150\n",
            "60/60 [==============================] - 1s 9ms/step - loss: 0.6208 - accuracy: 0.9724 - val_loss: 0.7094 - val_accuracy: 0.9333\n",
            "Epoch 48/150\n",
            "60/60 [==============================] - 1s 8ms/step - loss: 0.5989 - accuracy: 0.9719 - val_loss: 0.6941 - val_accuracy: 0.9292\n",
            "Epoch 49/150\n",
            "60/60 [==============================] - 1s 9ms/step - loss: 0.5796 - accuracy: 0.9760 - val_loss: 0.6787 - val_accuracy: 0.9354\n",
            "Epoch 50/150\n",
            "60/60 [==============================] - 1s 8ms/step - loss: 0.5658 - accuracy: 0.9766 - val_loss: 0.6648 - val_accuracy: 0.9312\n",
            "Epoch 51/150\n",
            "60/60 [==============================] - 0s 8ms/step - loss: 0.5501 - accuracy: 0.9740 - val_loss: 0.6500 - val_accuracy: 0.9354\n",
            "Epoch 52/150\n",
            "60/60 [==============================] - 0s 8ms/step - loss: 0.5354 - accuracy: 0.9729 - val_loss: 0.6354 - val_accuracy: 0.9375\n",
            "Epoch 53/150\n",
            "60/60 [==============================] - 0s 8ms/step - loss: 0.5207 - accuracy: 0.9750 - val_loss: 0.6234 - val_accuracy: 0.9312\n",
            "Epoch 54/150\n",
            "60/60 [==============================] - 1s 9ms/step - loss: 0.5056 - accuracy: 0.9750 - val_loss: 0.6094 - val_accuracy: 0.9375\n",
            "Epoch 55/150\n",
            "60/60 [==============================] - 0s 8ms/step - loss: 0.4959 - accuracy: 0.9755 - val_loss: 0.5969 - val_accuracy: 0.9354\n",
            "Epoch 56/150\n",
            "60/60 [==============================] - 1s 9ms/step - loss: 0.4793 - accuracy: 0.9755 - val_loss: 0.5854 - val_accuracy: 0.9375\n",
            "Epoch 57/150\n",
            "60/60 [==============================] - 1s 9ms/step - loss: 0.4671 - accuracy: 0.9792 - val_loss: 0.5733 - val_accuracy: 0.9396\n",
            "Epoch 58/150\n",
            "60/60 [==============================] - 1s 12ms/step - loss: 0.4490 - accuracy: 0.9781 - val_loss: 0.5626 - val_accuracy: 0.9375\n",
            "Epoch 59/150\n",
            "60/60 [==============================] - 1s 12ms/step - loss: 0.4409 - accuracy: 0.9771 - val_loss: 0.5513 - val_accuracy: 0.9375\n",
            "Epoch 60/150\n",
            "60/60 [==============================] - 1s 12ms/step - loss: 0.4273 - accuracy: 0.9802 - val_loss: 0.5394 - val_accuracy: 0.9396\n",
            "Epoch 61/150\n",
            "60/60 [==============================] - 1s 10ms/step - loss: 0.4158 - accuracy: 0.9776 - val_loss: 0.5301 - val_accuracy: 0.9354\n",
            "Epoch 62/150\n",
            "60/60 [==============================] - 0s 8ms/step - loss: 0.4054 - accuracy: 0.9781 - val_loss: 0.5204 - val_accuracy: 0.9396\n",
            "Epoch 63/150\n",
            "60/60 [==============================] - 1s 8ms/step - loss: 0.3900 - accuracy: 0.9823 - val_loss: 0.5099 - val_accuracy: 0.9396\n",
            "Epoch 64/150\n",
            "60/60 [==============================] - 0s 8ms/step - loss: 0.3835 - accuracy: 0.9792 - val_loss: 0.5011 - val_accuracy: 0.9375\n",
            "Epoch 65/150\n",
            "60/60 [==============================] - 1s 8ms/step - loss: 0.3778 - accuracy: 0.9812 - val_loss: 0.4914 - val_accuracy: 0.9396\n",
            "Epoch 66/150\n",
            "60/60 [==============================] - 1s 8ms/step - loss: 0.3657 - accuracy: 0.9807 - val_loss: 0.4833 - val_accuracy: 0.9396\n",
            "Epoch 67/150\n",
            "60/60 [==============================] - 0s 8ms/step - loss: 0.3573 - accuracy: 0.9839 - val_loss: 0.4746 - val_accuracy: 0.9396\n",
            "Epoch 68/150\n",
            "60/60 [==============================] - 1s 9ms/step - loss: 0.3465 - accuracy: 0.9823 - val_loss: 0.4665 - val_accuracy: 0.9375\n",
            "Epoch 69/150\n",
            "60/60 [==============================] - 1s 9ms/step - loss: 0.3393 - accuracy: 0.9807 - val_loss: 0.4582 - val_accuracy: 0.9375\n",
            "Epoch 70/150\n",
            "60/60 [==============================] - 1s 9ms/step - loss: 0.3302 - accuracy: 0.9797 - val_loss: 0.4508 - val_accuracy: 0.9396\n",
            "Epoch 71/150\n",
            "60/60 [==============================] - 1s 9ms/step - loss: 0.3231 - accuracy: 0.9828 - val_loss: 0.4433 - val_accuracy: 0.9375\n",
            "Epoch 72/150\n",
            "60/60 [==============================] - 0s 8ms/step - loss: 0.3148 - accuracy: 0.9828 - val_loss: 0.4349 - val_accuracy: 0.9396\n",
            "Epoch 73/150\n",
            "60/60 [==============================] - 0s 8ms/step - loss: 0.3075 - accuracy: 0.9823 - val_loss: 0.4287 - val_accuracy: 0.9438\n",
            "Epoch 74/150\n",
            "60/60 [==============================] - 1s 9ms/step - loss: 0.3031 - accuracy: 0.9833 - val_loss: 0.4214 - val_accuracy: 0.9438\n",
            "Epoch 75/150\n",
            "60/60 [==============================] - 1s 9ms/step - loss: 0.2886 - accuracy: 0.9859 - val_loss: 0.4154 - val_accuracy: 0.9438\n",
            "Epoch 76/150\n",
            "60/60 [==============================] - 0s 8ms/step - loss: 0.2866 - accuracy: 0.9854 - val_loss: 0.4086 - val_accuracy: 0.9438\n",
            "Epoch 77/150\n",
            "60/60 [==============================] - 0s 8ms/step - loss: 0.2768 - accuracy: 0.9844 - val_loss: 0.4024 - val_accuracy: 0.9438\n",
            "Epoch 78/150\n",
            "60/60 [==============================] - 0s 8ms/step - loss: 0.2681 - accuracy: 0.9844 - val_loss: 0.3958 - val_accuracy: 0.9417\n",
            "Epoch 79/150\n",
            "60/60 [==============================] - 1s 12ms/step - loss: 0.2629 - accuracy: 0.9844 - val_loss: 0.3906 - val_accuracy: 0.9417\n",
            "Epoch 80/150\n",
            "60/60 [==============================] - 1s 12ms/step - loss: 0.2571 - accuracy: 0.9844 - val_loss: 0.3841 - val_accuracy: 0.9417\n",
            "Epoch 81/150\n",
            "60/60 [==============================] - 1s 12ms/step - loss: 0.2529 - accuracy: 0.9854 - val_loss: 0.3789 - val_accuracy: 0.9438\n",
            "Epoch 82/150\n",
            "60/60 [==============================] - 1s 9ms/step - loss: 0.2488 - accuracy: 0.9854 - val_loss: 0.3738 - val_accuracy: 0.9417\n",
            "Epoch 83/150\n",
            "60/60 [==============================] - 0s 8ms/step - loss: 0.2419 - accuracy: 0.9844 - val_loss: 0.3681 - val_accuracy: 0.9438\n",
            "Epoch 84/150\n",
            "60/60 [==============================] - 0s 8ms/step - loss: 0.2343 - accuracy: 0.9833 - val_loss: 0.3628 - val_accuracy: 0.9438\n",
            "Epoch 85/150\n",
            "60/60 [==============================] - 0s 8ms/step - loss: 0.2287 - accuracy: 0.9844 - val_loss: 0.3583 - val_accuracy: 0.9417\n",
            "Epoch 86/150\n",
            "60/60 [==============================] - 0s 8ms/step - loss: 0.2229 - accuracy: 0.9875 - val_loss: 0.3531 - val_accuracy: 0.9438\n",
            "Epoch 87/150\n",
            "60/60 [==============================] - 1s 8ms/step - loss: 0.2226 - accuracy: 0.9839 - val_loss: 0.3486 - val_accuracy: 0.9438\n",
            "Epoch 88/150\n",
            "60/60 [==============================] - 0s 8ms/step - loss: 0.2160 - accuracy: 0.9865 - val_loss: 0.3439 - val_accuracy: 0.9438\n",
            "Epoch 89/150\n",
            "60/60 [==============================] - 1s 9ms/step - loss: 0.2112 - accuracy: 0.9859 - val_loss: 0.3392 - val_accuracy: 0.9438\n",
            "Epoch 90/150\n",
            "60/60 [==============================] - 0s 8ms/step - loss: 0.2052 - accuracy: 0.9833 - val_loss: 0.3352 - val_accuracy: 0.9438\n",
            "Epoch 91/150\n",
            "60/60 [==============================] - 0s 8ms/step - loss: 0.1979 - accuracy: 0.9865 - val_loss: 0.3308 - val_accuracy: 0.9438\n",
            "Epoch 92/150\n",
            "60/60 [==============================] - 1s 9ms/step - loss: 0.1983 - accuracy: 0.9880 - val_loss: 0.3267 - val_accuracy: 0.9438\n",
            "Epoch 93/150\n",
            "60/60 [==============================] - 0s 8ms/step - loss: 0.1905 - accuracy: 0.9875 - val_loss: 0.3226 - val_accuracy: 0.9438\n",
            "Epoch 94/150\n",
            "60/60 [==============================] - 1s 9ms/step - loss: 0.1891 - accuracy: 0.9854 - val_loss: 0.3192 - val_accuracy: 0.9438\n",
            "Epoch 95/150\n",
            "60/60 [==============================] - 0s 8ms/step - loss: 0.1842 - accuracy: 0.9859 - val_loss: 0.3150 - val_accuracy: 0.9438\n",
            "Epoch 96/150\n",
            "60/60 [==============================] - 1s 9ms/step - loss: 0.1801 - accuracy: 0.9865 - val_loss: 0.3107 - val_accuracy: 0.9438\n",
            "Epoch 97/150\n",
            "60/60 [==============================] - 0s 8ms/step - loss: 0.1734 - accuracy: 0.9859 - val_loss: 0.3073 - val_accuracy: 0.9438\n",
            "Epoch 98/150\n",
            "60/60 [==============================] - 1s 8ms/step - loss: 0.1682 - accuracy: 0.9906 - val_loss: 0.3038 - val_accuracy: 0.9438\n",
            "Epoch 99/150\n",
            "60/60 [==============================] - 1s 13ms/step - loss: 0.1677 - accuracy: 0.9880 - val_loss: 0.3005 - val_accuracy: 0.9438\n",
            "Epoch 100/150\n",
            "60/60 [==============================] - 1s 12ms/step - loss: 0.1656 - accuracy: 0.9880 - val_loss: 0.2976 - val_accuracy: 0.9438\n",
            "Epoch 101/150\n",
            "60/60 [==============================] - 1s 12ms/step - loss: 0.1638 - accuracy: 0.9901 - val_loss: 0.2942 - val_accuracy: 0.9438\n",
            "Epoch 102/150\n",
            "60/60 [==============================] - 1s 12ms/step - loss: 0.1595 - accuracy: 0.9885 - val_loss: 0.2906 - val_accuracy: 0.9438\n",
            "Epoch 103/150\n",
            "60/60 [==============================] - 1s 10ms/step - loss: 0.1578 - accuracy: 0.9880 - val_loss: 0.2875 - val_accuracy: 0.9438\n",
            "Epoch 104/150\n",
            "60/60 [==============================] - 1s 8ms/step - loss: 0.1526 - accuracy: 0.9922 - val_loss: 0.2847 - val_accuracy: 0.9438\n",
            "Epoch 105/150\n",
            "60/60 [==============================] - 0s 8ms/step - loss: 0.1473 - accuracy: 0.9891 - val_loss: 0.2812 - val_accuracy: 0.9417\n",
            "Epoch 106/150\n",
            "60/60 [==============================] - 1s 8ms/step - loss: 0.1462 - accuracy: 0.9896 - val_loss: 0.2783 - val_accuracy: 0.9438\n",
            "Epoch 107/150\n",
            "60/60 [==============================] - 1s 9ms/step - loss: 0.1453 - accuracy: 0.9917 - val_loss: 0.2755 - val_accuracy: 0.9438\n",
            "Epoch 108/150\n",
            "60/60 [==============================] - 1s 9ms/step - loss: 0.1414 - accuracy: 0.9901 - val_loss: 0.2726 - val_accuracy: 0.9438\n",
            "Epoch 109/150\n",
            "60/60 [==============================] - 0s 8ms/step - loss: 0.1378 - accuracy: 0.9901 - val_loss: 0.2699 - val_accuracy: 0.9458\n",
            "Epoch 110/150\n",
            "60/60 [==============================] - 1s 8ms/step - loss: 0.1370 - accuracy: 0.9896 - val_loss: 0.2671 - val_accuracy: 0.9458\n",
            "Epoch 111/150\n",
            "60/60 [==============================] - 1s 9ms/step - loss: 0.1316 - accuracy: 0.9891 - val_loss: 0.2648 - val_accuracy: 0.9458\n",
            "Epoch 112/150\n",
            "60/60 [==============================] - 0s 8ms/step - loss: 0.1301 - accuracy: 0.9906 - val_loss: 0.2619 - val_accuracy: 0.9458\n",
            "Epoch 113/150\n",
            "60/60 [==============================] - 1s 9ms/step - loss: 0.1256 - accuracy: 0.9906 - val_loss: 0.2598 - val_accuracy: 0.9458\n",
            "Epoch 114/150\n",
            "60/60 [==============================] - 0s 8ms/step - loss: 0.1241 - accuracy: 0.9911 - val_loss: 0.2572 - val_accuracy: 0.9479\n",
            "Epoch 115/150\n",
            "60/60 [==============================] - 1s 9ms/step - loss: 0.1206 - accuracy: 0.9917 - val_loss: 0.2549 - val_accuracy: 0.9458\n",
            "Epoch 116/150\n",
            "60/60 [==============================] - 0s 8ms/step - loss: 0.1190 - accuracy: 0.9901 - val_loss: 0.2527 - val_accuracy: 0.9479\n",
            "Epoch 117/150\n",
            "60/60 [==============================] - 1s 8ms/step - loss: 0.1172 - accuracy: 0.9922 - val_loss: 0.2502 - val_accuracy: 0.9458\n",
            "Epoch 118/150\n",
            "60/60 [==============================] - 1s 9ms/step - loss: 0.1127 - accuracy: 0.9901 - val_loss: 0.2480 - val_accuracy: 0.9458\n",
            "Epoch 119/150\n",
            "60/60 [==============================] - 1s 9ms/step - loss: 0.1118 - accuracy: 0.9896 - val_loss: 0.2462 - val_accuracy: 0.9458\n",
            "Epoch 120/150\n",
            "60/60 [==============================] - 1s 9ms/step - loss: 0.1098 - accuracy: 0.9932 - val_loss: 0.2438 - val_accuracy: 0.9479\n",
            "Epoch 121/150\n",
            "60/60 [==============================] - 1s 12ms/step - loss: 0.1082 - accuracy: 0.9922 - val_loss: 0.2425 - val_accuracy: 0.9458\n",
            "Epoch 122/150\n",
            "60/60 [==============================] - 1s 12ms/step - loss: 0.1048 - accuracy: 0.9932 - val_loss: 0.2396 - val_accuracy: 0.9479\n",
            "Epoch 123/150\n",
            "60/60 [==============================] - 1s 12ms/step - loss: 0.1048 - accuracy: 0.9911 - val_loss: 0.2376 - val_accuracy: 0.9479\n",
            "Epoch 124/150\n",
            "60/60 [==============================] - 1s 12ms/step - loss: 0.1045 - accuracy: 0.9927 - val_loss: 0.2364 - val_accuracy: 0.9458\n",
            "Epoch 125/150\n",
            "60/60 [==============================] - 1s 12ms/step - loss: 0.1008 - accuracy: 0.9932 - val_loss: 0.2337 - val_accuracy: 0.9479\n",
            "Epoch 126/150\n",
            "60/60 [==============================] - 1s 9ms/step - loss: 0.0958 - accuracy: 0.9937 - val_loss: 0.2319 - val_accuracy: 0.9479\n",
            "Epoch 127/150\n",
            "60/60 [==============================] - 1s 9ms/step - loss: 0.0962 - accuracy: 0.9927 - val_loss: 0.2301 - val_accuracy: 0.9479\n",
            "Epoch 128/150\n",
            "60/60 [==============================] - 0s 8ms/step - loss: 0.0958 - accuracy: 0.9927 - val_loss: 0.2287 - val_accuracy: 0.9479\n",
            "Epoch 129/150\n",
            "60/60 [==============================] - 1s 9ms/step - loss: 0.0920 - accuracy: 0.9948 - val_loss: 0.2274 - val_accuracy: 0.9479\n",
            "Epoch 130/150\n",
            "60/60 [==============================] - 1s 8ms/step - loss: 0.0897 - accuracy: 0.9932 - val_loss: 0.2249 - val_accuracy: 0.9479\n",
            "Epoch 131/150\n",
            "60/60 [==============================] - 0s 8ms/step - loss: 0.0885 - accuracy: 0.9937 - val_loss: 0.2234 - val_accuracy: 0.9479\n",
            "Epoch 132/150\n",
            "60/60 [==============================] - 0s 8ms/step - loss: 0.0868 - accuracy: 0.9948 - val_loss: 0.2212 - val_accuracy: 0.9479\n",
            "Epoch 133/150\n",
            "60/60 [==============================] - 0s 8ms/step - loss: 0.0862 - accuracy: 0.9937 - val_loss: 0.2197 - val_accuracy: 0.9479\n",
            "Epoch 134/150\n",
            "60/60 [==============================] - 0s 8ms/step - loss: 0.0831 - accuracy: 0.9937 - val_loss: 0.2187 - val_accuracy: 0.9479\n",
            "Epoch 135/150\n",
            "60/60 [==============================] - 1s 9ms/step - loss: 0.0830 - accuracy: 0.9937 - val_loss: 0.2164 - val_accuracy: 0.9479\n",
            "Epoch 136/150\n",
            "60/60 [==============================] - 1s 10ms/step - loss: 0.0811 - accuracy: 0.9948 - val_loss: 0.2158 - val_accuracy: 0.9438\n",
            "Epoch 137/150\n",
            "60/60 [==============================] - 1s 9ms/step - loss: 0.0794 - accuracy: 0.9932 - val_loss: 0.2139 - val_accuracy: 0.9479\n",
            "Epoch 138/150\n",
            "60/60 [==============================] - 1s 9ms/step - loss: 0.0773 - accuracy: 0.9943 - val_loss: 0.2121 - val_accuracy: 0.9479\n",
            "Epoch 139/150\n",
            "60/60 [==============================] - 1s 9ms/step - loss: 0.0753 - accuracy: 0.9948 - val_loss: 0.2110 - val_accuracy: 0.9479\n",
            "Epoch 140/150\n",
            "60/60 [==============================] - 1s 9ms/step - loss: 0.0767 - accuracy: 0.9937 - val_loss: 0.2108 - val_accuracy: 0.9438\n",
            "Epoch 141/150\n",
            "60/60 [==============================] - 1s 9ms/step - loss: 0.0719 - accuracy: 0.9953 - val_loss: 0.2081 - val_accuracy: 0.9479\n",
            "Epoch 142/150\n",
            "60/60 [==============================] - 1s 10ms/step - loss: 0.0711 - accuracy: 0.9953 - val_loss: 0.2068 - val_accuracy: 0.9479\n",
            "Epoch 143/150\n",
            "60/60 [==============================] - 1s 12ms/step - loss: 0.0708 - accuracy: 0.9948 - val_loss: 0.2061 - val_accuracy: 0.9458\n",
            "Epoch 144/150\n",
            "60/60 [==============================] - 1s 12ms/step - loss: 0.0700 - accuracy: 0.9927 - val_loss: 0.2043 - val_accuracy: 0.9458\n",
            "Epoch 145/150\n",
            "60/60 [==============================] - 1s 11ms/step - loss: 0.0664 - accuracy: 0.9943 - val_loss: 0.2036 - val_accuracy: 0.9458\n",
            "Epoch 146/150\n",
            "60/60 [==============================] - 0s 8ms/step - loss: 0.0661 - accuracy: 0.9953 - val_loss: 0.2020 - val_accuracy: 0.9479\n",
            "Epoch 147/150\n",
            "60/60 [==============================] - 0s 8ms/step - loss: 0.0639 - accuracy: 0.9958 - val_loss: 0.2007 - val_accuracy: 0.9479\n",
            "Epoch 148/150\n",
            "60/60 [==============================] - 1s 8ms/step - loss: 0.0647 - accuracy: 0.9948 - val_loss: 0.1991 - val_accuracy: 0.9479\n",
            "Epoch 149/150\n",
            "60/60 [==============================] - 0s 8ms/step - loss: 0.0622 - accuracy: 0.9958 - val_loss: 0.1978 - val_accuracy: 0.9500\n",
            "Epoch 150/150\n",
            "60/60 [==============================] - 0s 8ms/step - loss: 0.0654 - accuracy: 0.9943 - val_loss: 0.1970 - val_accuracy: 0.9500\n"
          ]
        }
      ],
      "source": [
        "epochs = 150\n",
        "history = model.fit(\n",
        "    train_ds,\n",
        "    validation_data=val_ds,\n",
        "    epochs=epochs,\n",
        "    callbacks=[early_stopping,checkpoint])"
      ]
    },
    {
      "cell_type": "code",
      "source": [
        "model.save('/content/drive/MyDrive/NLP_MODEL/TYO_06_3000_DATASET_MODEL.h5')"
      ],
      "metadata": {
        "id": "zvNWlry8sfDp"
      },
      "execution_count": 37,
      "outputs": []
    },
    {
      "cell_type": "code",
      "execution_count": 36,
      "metadata": {
        "colab": {
          "base_uri": "https://localhost:8080/"
        },
        "id": "-zzNKpPQyqfP",
        "outputId": "d5ffae62-6f08-445c-8027-de926567472b"
      },
      "outputs": [
        {
          "output_type": "stream",
          "name": "stdout",
          "text": [
            "19/19 [==============================] - 207s 6s/step - loss: 0.2619 - accuracy: 0.9338\n",
            "Loss:  0.2619323432445526\n",
            "Accuracy:  0.9337748289108276\n"
          ]
        }
      ],
      "source": [
        "loss, accuracy = model.evaluate(test_ds)\n",
        "\n",
        "print(\"Loss: \", loss)\n",
        "print(\"Accuracy: \", accuracy)"
      ]
    },
    {
      "cell_type": "code",
      "execution_count": 38,
      "metadata": {
        "colab": {
          "base_uri": "https://localhost:8080/"
        },
        "id": "yHnCO_T5y3PP",
        "outputId": "f6f57ca8-4141-4f67-904a-1bd42ff5ac43"
      },
      "outputs": [
        {
          "output_type": "execute_result",
          "data": {
            "text/plain": [
              "dict_keys(['loss', 'accuracy', 'val_loss', 'val_accuracy'])"
            ]
          },
          "metadata": {},
          "execution_count": 38
        }
      ],
      "source": [
        "history_dict = history.history\n",
        "history_dict.keys()"
      ]
    },
    {
      "cell_type": "code",
      "execution_count": 39,
      "metadata": {
        "colab": {
          "base_uri": "https://localhost:8080/",
          "height": 472
        },
        "id": "WOaRHa-LzKZW",
        "outputId": "8fafe737-9c2a-4f25-caf6-d5b77cedb4e2"
      },
      "outputs": [
        {
          "output_type": "display_data",
          "data": {
            "text/plain": [
              "<Figure size 640x480 with 1 Axes>"
            ],
            "image/png": "[encoded data removed]"
          },
          "metadata": {}
        }
      ],
      "source": [
        "acc = history_dict['accuracy']\n",
        "val_acc = history_dict['val_accuracy']\n",
        "loss = history_dict['loss']\n",
        "val_loss = history_dict['val_loss']\n",
        "\n",
        "epochs = range(1, len(acc) + 1)\n",
        "\n",
        "# \"bo\" is for \"blue dot\"\n",
        "plt.plot(epochs, loss, 'bo', label='Training loss')\n",
        "# b is for \"solid blue line\"\n",
        "plt.plot(epochs, val_loss, 'b', label='Validation loss')\n",
        "plt.title('Training and validation loss')\n",
        "plt.xlabel('Epochs')\n",
        "plt.ylabel('Loss')\n",
        "plt.legend()\n",
        "\n",
        "plt.show()"
      ]
    },
    {
      "cell_type": "code",
      "execution_count": 40,
      "metadata": {
        "colab": {
          "base_uri": "https://localhost:8080/",
          "height": 472
        },
        "id": "Y6yr7YCyzRPz",
        "outputId": "3d12b22c-08c4-405e-f9fb-45610783a380"
      },
      "outputs": [
        {
          "output_type": "display_data",
          "data": {
            "text/plain": [
              "<Figure size 640x480 with 1 Axes>"
            ],
            "image/png": "[encoded data removed]"
          },
          "metadata": {}
        }
      ],
      "source": [
        "plt.plot(epochs, acc, 'bo', label='Training acc')\n",
        "plt.plot(epochs, val_acc, 'b', label='Validation acc')\n",
        "plt.title('Training and validation accuracy')\n",
        "plt.xlabel('Epochs')\n",
        "plt.ylabel('Accuracy')\n",
        "plt.legend(loc='lower right')\n",
        "\n",
        "plt.show()"
      ]
    },
    {
      "cell_type": "code",
      "execution_count": 41,
      "metadata": {
        "colab": {
          "base_uri": "https://localhost:8080/"
        },
        "id": "1JG4H59HzcOh",
        "outputId": "70b951c3-42b6-4c21-dfae-df9de6f532e2"
      },
      "outputs": [
        {
          "output_type": "stream",
          "name": "stderr",
          "text": [
            "/usr/local/lib/python3.9/dist-packages/keras/backend.py:5612: UserWarning: \"`sparse_categorical_crossentropy` received `from_logits=True`, but the `output` argument was produced by a Softmax activation and thus does not represent logits. Was this intended?\n",
            "  output, from_logits = _get_logits(\n"
          ]
        },
        {
          "output_type": "stream",
          "name": "stdout",
          "text": [
            "19/19 [==============================] - 1s 19ms/step - loss: 0.2619 - accuracy: 0.9338\n",
            "0.9337748289108276\n"
          ]
        }
      ],
      "source": [
        "export_model = tf.keras.Sequential([\n",
        "  vectorize_layer,\n",
        "  model,\n",
        "  layers.Activation('softmax')\n",
        "])\n",
        "export_model.compile(loss = losses.SparseCategoricalCrossentropy(from_logits=True), optimizer = 'adam', metrics = ['accuracy'])\n",
        "\n",
        "\n",
        "\n",
        "# Test it with `raw_test_ds`, which yields raw strings\n",
        "loss, accuracy = export_model.evaluate(raw_test_ds)\n",
        "print(accuracy)"
      ]
    },
    {
      "cell_type": "code",
      "execution_count": 42,
      "metadata": {
        "colab": {
          "base_uri": "https://localhost:8080/"
        },
        "id": "lx12nIIi7luJ",
        "outputId": "ac0d97f1-8da8-48cb-bb2a-2cb18f21679a"
      },
      "outputs": [
        {
          "output_type": "execute_result",
          "data": {
            "text/plain": [
              "['EKO', 'HEL', 'OLA', 'POL']"
            ]
          },
          "metadata": {},
          "execution_count": 42
        }
      ],
      "source": [
        "['EKO', 'HEL', 'OLA','POL']"
      ]
    },
    {
      "cell_type": "markdown",
      "source": [
        "# PREDIKSI"
      ],
      "metadata": {
        "id": "XRa2FY4q0Ovo"
      }
    },
    {
      "cell_type": "code",
      "execution_count": 51,
      "metadata": {
        "colab": {
          "base_uri": "https://localhost:8080/"
        },
        "id": "f-_agyAv7Rwx",
        "outputId": "8413e3f0-3c0c-4201-e1c3-5abcb0b43db3"
      },
      "outputs": [
        {
          "output_type": "stream",
          "name": "stdout",
          "text": [
            "1/1 [==============================] - 0s 39ms/step\n"
          ]
        },
        {
          "output_type": "execute_result",
          "data": {
            "text/plain": [
              "array([[1.2988556e-03, 4.0394883e-03, 9.9150425e-01, 3.1573784e-03],\n",
              "       [9.8996603e-01, 5.1066256e-03, 6.1889336e-04, 4.3084547e-03],\n",
              "       [9.3373150e-02, 8.5145521e-01, 2.6556874e-02, 2.8614752e-02],\n",
              "       [6.5978013e-02, 9.0833724e-01, 1.1885913e-02, 1.3798871e-02],\n",
              "       [9.6798360e-01, 1.6913534e-03, 4.1803569e-04, 2.9907037e-02],\n",
              "       [9.3336272e-01, 4.2850379e-02, 1.3743513e-02, 1.0043364e-02],\n",
              "       [3.0783596e-03, 9.8156033e-04, 3.4801776e-03, 9.9245995e-01]],\n",
              "      dtype=float32)"
            ]
          },
          "metadata": {},
          "execution_count": 51
        }
      ],
      "source": [
        "examples = [\"MotoGP 2015 akan dikenang sebagai salah satu yang paling sengit dalam gelaran kejuaraan dunia balap motor grand prix\",\n",
        "            \"Ida Fauziyah menargetkan penyaluran Ekonomi Bantuan Subsidi Upah (BSU) atau BLT Gaji melalui PT Pos\",\n",
        "            \"Teknik Dasar Jalan Cepat, Sejarah, dan Manfaat untuk Kesehatan\",\n",
        "            \"Covid-19 akan meningkat apabila masayarakat tidak patuh protokol kesehatan\",\n",
        "            \"Rencana Impor KRL Bekas Didukung Erick Thohir, tetapi belum mendapat persetujuan kementrian perdagangan & Ekonomi\",\n",
        "            \"Inflasi Indonesia Naik Lagi pada Februari 2023\",\n",
        "            \"Pemilu 2024 diikuti oleh 4 partai politik\"]\n",
        "\n",
        "\n",
        "#for x in examples:\n",
        "export_model.predict(examples)\n"
      ]
    },
    {
      "cell_type": "code",
      "source": [
        "#the_winner = np.argmax(export_model.predict(examples))\n",
        "#print(f'Prediksi Terbesar {the_winner}')"
      ],
      "metadata": {
        "id": "I6ktQrVUi0vw"
      },
      "execution_count": 46,
      "outputs": []
    },
    {
      "cell_type": "markdown",
      "source": [
        "# FUNGSI UNTUK MEMBUAT VISUALISASI GRAFIK PIE CHART"
      ],
      "metadata": {
        "id": "mE-x8RyaSAXX"
      }
    },
    {
      "cell_type": "code",
      "source": [
        "def Pie_Chart_Visualization(x):\n",
        "\n",
        "          # Pie chart, where the slices will be ordered and plotted counter-clockwise:\n",
        "          labels = ['EKO', 'HEL', 'OLA', 'POL']\n",
        "          sizes = export_model.predict(examples)[x].tolist()\n",
        "     \n",
        "\n",
        "          explode = (0, 0, 0, 0)  # only \"explode\" the 2nd slice (i.e. 'Hogs')\n",
        "\n",
        "          fig1, ax1 = plt.subplots()\n",
        "          ax1.pie(sizes, explode=explode, labels=labels, autopct='%1.1f%%',\n",
        "                  shadow=True, startangle=90)\n",
        "          ax1.axis('equal')  # Equal aspect ratio ensures that pie is drawn as a circle.\n",
        "\n",
        "          plt.show()\n",
        "\n",
        "def Winner(x):\n",
        "\n",
        "          winner = np.argmax(export_model.predict(examples)[x])\n",
        "\n",
        "          if winner == 0:\n",
        "            print('Best Prediction Adalah : Ekonomi \\n')\n",
        "          elif winner == 1:\n",
        "            print('Best Prediction Adalah : Kesehatan \\n')\n",
        "          elif winner == 2:\n",
        "            print('Best Prediction Adalah : Olahraga \\n')            \n",
        "          else :\n",
        "            print('Best Prediction Adalah : Politik \\n')          "
      ],
      "metadata": {
        "id": "PB33J9xkZL9I"
      },
      "execution_count": 49,
      "outputs": []
    },
    {
      "cell_type": "markdown",
      "source": [
        "# PENGUJIAN PROSENATASE PREDIKSI DALAM BENTUK GRAFIK DARI DATA SAMPLE"
      ],
      "metadata": {
        "id": "Huil3hFtR0ND"
      }
    },
    {
      "cell_type": "code",
      "source": [
        "for x in range(len(examples)):\n",
        "  display(examples[x])\n",
        "  display(Pie_Chart_Visualization(x))\n",
        "  Winner(x)"
      ],
      "metadata": {
        "colab": {
          "base_uri": "https://localhost:8080/",
          "height": 1000
        },
        "id": "uxUAum5AigpU",
        "outputId": "e5d22971-8868-480d-a900-81c7c261c77f"
      },
      "execution_count": 52,
      "outputs": [
        {
          "output_type": "display_data",
          "data": {
            "text/plain": [
              "'MotoGP 2015 akan dikenang sebagai salah satu yang paling sengit dalam gelaran kejuaraan dunia balap motor grand prix'"
            ],
            "application/vnd.google.colaboratory.intrinsic+json": {
              "type": "string"
            }
          },
          "metadata": {}
        },
        {
          "output_type": "stream",
          "name": "stdout",
          "text": [
            "1/1 [==============================] - 0s 39ms/step\n"
          ]
        },
        {
          "output_type": "display_data",
          "data": {
            "text/plain": [
              "<Figure size 640x480 with 1 Axes>"
            ],
            "image/png": "[encoded data removed]"
          },
          "metadata": {}
        },
        {
          "output_type": "display_data",
          "data": {
            "text/plain": [
              "None"
            ]
          },
          "metadata": {}
        },
        {
          "output_type": "stream",
          "name": "stdout",
          "text": [
            "1/1 [==============================] - 0s 45ms/step\n",
            "Best Prediction Adalah : Olahraga \n",
            "\n"
          ]
        },
        {
          "output_type": "display_data",
          "data": {
            "text/plain": [
              "'Ida Fauziyah menargetkan penyaluran Ekonomi Bantuan Subsidi Upah (BSU) atau BLT Gaji melalui PT Pos'"
            ],
            "application/vnd.google.colaboratory.intrinsic+json": {
              "type": "string"
            }
          },
          "metadata": {}
        },
        {
          "output_type": "stream",
          "name": "stdout",
          "text": [
            "1/1 [==============================] - 0s 40ms/step\n"
          ]
        },
        {
          "output_type": "display_data",
          "data": {
            "text/plain": [
              "<Figure size 640x480 with 1 Axes>"
            ],
            "image/png": "[encoded data removed]"
          },
          "metadata": {}
        },
        {
          "output_type": "display_data",
          "data": {
            "text/plain": [
              "None"
            ]
          },
          "metadata": {}
        },
        {
          "output_type": "stream",
          "name": "stdout",
          "text": [
            "1/1 [==============================] - 0s 51ms/step\n",
            "Best Prediction Adalah : Ekonomi \n",
            "\n"
          ]
        },
        {
          "output_type": "display_data",
          "data": {
            "text/plain": [
              "'Teknik Dasar Jalan Cepat, Sejarah, dan Manfaat untuk Kesehatan'"
            ],
            "application/vnd.google.colaboratory.intrinsic+json": {
              "type": "string"
            }
          },
          "metadata": {}
        },
        {
          "output_type": "stream",
          "name": "stdout",
          "text": [
            "1/1 [==============================] - 0s 43ms/step\n"
          ]
        },
        {
          "output_type": "display_data",
          "data": {
            "text/plain": [
              "<Figure size 640x480 with 1 Axes>"
            ],
            "image/png": "[encoded data removed]"
          },
          "metadata": {}
        },
        {
          "output_type": "display_data",
          "data": {
            "text/plain": [
              "None"
            ]
          },
          "metadata": {}
        },
        {
          "output_type": "stream",
          "name": "stdout",
          "text": [
            "1/1 [==============================] - 0s 42ms/step\n",
            "Best Prediction Adalah : Kesehatan \n",
            "\n"
          ]
        },
        {
          "output_type": "display_data",
          "data": {
            "text/plain": [
              "'Covid-19 akan meningkat apabila masayarakat tidak patuh protokol kesehatan'"
            ],
            "application/vnd.google.colaboratory.intrinsic+json": {
              "type": "string"
            }
          },
          "metadata": {}
        },
        {
          "output_type": "stream",
          "name": "stdout",
          "text": [
            "1/1 [==============================] - 0s 38ms/step\n"
          ]
        },
        {
          "output_type": "display_data",
          "data": {
            "text/plain": [
              "<Figure size 640x480 with 1 Axes>"
            ],
            "image/png": "[encoded data removed]"
          },
          "metadata": {}
        },
        {
          "output_type": "display_data",
          "data": {
            "text/plain": [
              "None"
            ]
          },
          "metadata": {}
        },
        {
          "output_type": "stream",
          "name": "stdout",
          "text": [
            "1/1 [==============================] - 0s 41ms/step\n",
            "Best Prediction Adalah : Kesehatan \n",
            "\n"
          ]
        },
        {
          "output_type": "display_data",
          "data": {
            "text/plain": [
              "'Rencana Impor KRL Bekas Didukung Erick Thohir, tetapi belum mendapat persetujuan kementrian perdagangan & Ekonomi'"
            ],
            "application/vnd.google.colaboratory.intrinsic+json": {
              "type": "string"
            }
          },
          "metadata": {}
        },
        {
          "output_type": "stream",
          "name": "stdout",
          "text": [
            "1/1 [==============================] - 0s 39ms/step\n"
          ]
        },
        {
          "output_type": "display_data",
          "data": {
            "text/plain": [
              "<Figure size 640x480 with 1 Axes>"
            ],
            "image/png": "[encoded data removed]"
          },
          "metadata": {}
        },
        {
          "output_type": "display_data",
          "data": {
            "text/plain": [
              "None"
            ]
          },
          "metadata": {}
        },
        {
          "output_type": "stream",
          "name": "stdout",
          "text": [
            "1/1 [==============================] - 0s 39ms/step\n",
            "Best Prediction Adalah : Ekonomi \n",
            "\n"
          ]
        },
        {
          "output_type": "display_data",
          "data": {
            "text/plain": [
              "'Inflasi Indonesia Naik Lagi pada Februari 2023'"
            ],
            "application/vnd.google.colaboratory.intrinsic+json": {
              "type": "string"
            }
          },
          "metadata": {}
        },
        {
          "output_type": "stream",
          "name": "stdout",
          "text": [
            "1/1 [==============================] - 0s 39ms/step\n"
          ]
        },
        {
          "output_type": "display_data",
          "data": {
            "text/plain": [
              "<Figure size 640x480 with 1 Axes>"
            ],
            "image/png": "[encoded data removed]"
          },
          "metadata": {}
        },
        {
          "output_type": "display_data",
          "data": {
            "text/plain": [
              "None"
            ]
          },
          "metadata": {}
        },
        {
          "output_type": "stream",
          "name": "stdout",
          "text": [
            "1/1 [==============================] - 0s 69ms/step\n",
            "Best Prediction Adalah : Ekonomi \n",
            "\n"
          ]
        },
        {
          "output_type": "display_data",
          "data": {
            "text/plain": [
              "'Pemilu 2024 diikuti oleh 4 partai politik'"
            ],
            "application/vnd.google.colaboratory.intrinsic+json": {
              "type": "string"
            }
          },
          "metadata": {}
        },
        {
          "output_type": "stream",
          "name": "stdout",
          "text": [
            "1/1 [==============================] - 0s 65ms/step\n"
          ]
        },
        {
          "output_type": "display_data",
          "data": {
            "text/plain": [
              "<Figure size 640x480 with 1 Axes>"
            ],
            "image/png": "[encoded data removed]"
          },
          "metadata": {}
        },
        {
          "output_type": "display_data",
          "data": {
            "text/plain": [
              "None"
            ]
          },
          "metadata": {}
        },
        {
          "output_type": "stream",
          "name": "stdout",
          "text": [
            "1/1 [==============================] - 0s 54ms/step\n",
            "Best Prediction Adalah : Politik \n",
            "\n"
          ]
        }
      ]
    },
    {
      "cell_type": "code",
      "source": [],
      "metadata": {
        "id": "c7jsn3LvwZ5p"
      },
      "execution_count": null,
      "outputs": []
    },
    {
      "cell_type": "markdown",
      "source": [
        "# CONFUSION MATRIX SEBAGAI TAMBAHAN PENDUKUNG UNTUK MEPERJELAS VISUALISASI DIATAS"
      ],
      "metadata": {
        "id": "xng6nwmSS7Nm"
      }
    },
    {
      "cell_type": "markdown",
      "source": [
        "# CONFUSION MATRIX WITH SKLEARN DARI DATA EXAMPLE PREDIKSI DIATAS"
      ],
      "metadata": {
        "id": "SYvcxRgI6VIv"
      }
    },
    {
      "cell_type": "code",
      "source": [
        "KNOWLDEGE = '''\n",
        "examples = [\"MotoGP 2015 akan dikenang sebagai salah satu yang paling sengit dalam gelaran kejuaraan dunia balap motor grand prix\",\n",
        "            \"Ida Fauziyah menargetkan penyaluran Bantuan Subsidi Upah (BSU) atau BLT Gaji melalui PT Pos\",\n",
        "            \"Teknik Dasar Jalan Cepat, Sejarah, dan Manfaat untuk Kesehatan\",\n",
        "            \"Covid-19 akan meningkat apabila masayarakat tidak patuh protokol kesehatan\",\n",
        "            \"Rencana Impor KRL Bekas: Didukung Erick Thohir, Belum Direstui Kemenperin\",\n",
        "            \"Inflasi Indonesia Naik Lagi pada Februari 2023\"]\n",
        "\n",
        "\n",
        "array([[0.2787188 , 0.2602841 , 0.46099707],\n",
        "       [0.35545906, 0.38726214, 0.2572788 ],\n",
        "       [0.34048846, 0.5059424 , 0.1535691 ],\n",
        "       [0.36652344, 0.4425247 , 0.19095181],\n",
        "       [0.38142797, 0.33325955, 0.28531247],\n",
        "       [0.39142797, 0.32325955, 0.28531247],], dtype=float32)    \n",
        "\n",
        "'''               \n",
        "\n",
        "\n",
        "\n",
        "y_value_true = [2,1,1,1,0,0,3,3]  # Knowledge dari user/peneliti\n",
        "x_value_pred = [2,1,1,1,0,0,2,3]  # Value dari nilai prdiksi diambil prosentasi terbesar     \n",
        "LABEL = ['EKO', 'HEL', 'OLA','POL']    \n",
        "\n"
      ],
      "metadata": {
        "id": "WU73XALk6UUh"
      },
      "execution_count": 53,
      "outputs": []
    },
    {
      "cell_type": "code",
      "source": [
        "from sklearn.metrics import confusion_matrix\n",
        "\n",
        "\n",
        "\n",
        "L1 = ['OLA','HEL','EKO','EKO','HEL','HEL','OLA','POL','EKO']\n",
        "L2 = ['OLA','HEL','EKO','EKO','HEL','HEL','OLA','POL','POL']\n",
        "\n",
        "\n",
        "conf_matrix = confusion_matrix(L1, L2)\n",
        "#conf_matrix = confusion_matrix([2,1,1,1,0,1], [2,1,1,1,0,1])\n",
        "print(conf_matrix)\n",
        "\n",
        "sns.heatmap(\n",
        "    conf_matrix, annot=True,\n",
        "    xticklabels= L1 ,\n",
        "    yticklabels= L2)\n",
        "plt.xlabel(\"Predicted\")\n",
        "plt.ylabel(\"True\")"
      ],
      "metadata": {
        "id": "bzJs7LNC-HTL",
        "outputId": "b4f3140a-a273-4250-c08d-702479aa28df",
        "colab": {
          "base_uri": "https://localhost:8080/",
          "height": 544
        }
      },
      "execution_count": 55,
      "outputs": [
        {
          "output_type": "stream",
          "name": "stdout",
          "text": [
            "[[2 0 0 1]\n",
            " [0 3 0 0]\n",
            " [0 0 2 0]\n",
            " [0 0 0 1]]\n"
          ]
        },
        {
          "output_type": "execute_result",
          "data": {
            "text/plain": [
              "Text(50.722222222222214, 0.5, 'True')"
            ]
          },
          "metadata": {},
          "execution_count": 55
        },
        {
          "output_type": "display_data",
          "data": {
            "text/plain": [
              "<Figure size 640x480 with 2 Axes>"
            ],
            "image/png": "[encoded data removed]"
          },
          "metadata": {}
        }
      ]
    },
    {
      "cell_type": "markdown",
      "source": [
        "Confusion matrix yang diberikan terdiri dari tiga kelas (class), yaitu kelas EKO, KESEHATAN, dan OLAHRAGA. Kolom merepresentasikan nilai prediksi dan baris merepresentasikan nilai sebenarnya. Oleh karena itu, diagonal utama dari matrix menunjukkan jumlah prediksi yang benar.\n",
        "\n",
        "Berdasarkan confusion matrix yang diberikan, dapat disimpulkan bahwa:\n",
        "\n",
        "Kelas pertama memiliki dua prediksi yang benar (true positive), sementara tidak ada prediksi yang salah (false positive) atau salah negatif (false negative) pada kelas ini.\n",
        "Kelas kedua memiliki tiga prediksi yang benar (true positive), sementara tidak ada prediksi yang salah (false positive) atau salah negatif (false negative) pada kelas ini.\n",
        "Kelas ketiga memiliki satu prediksi yang benar (true positive), sementara tidak ada prediksi yang salah (false positive) atau salah negatif (false negative) pada kelas ini.\n",
        "Dengan demikian, dapat disimpulkan bahwa model memiliki performa yang cukup baik untuk memprediksi tiga kelas yang ada, karena tidak terdapat nilai false positive atau false negative pada setiap kelasnya"
      ],
      "metadata": {
        "id": "6svL0N4585qT"
      }
    },
    {
      "cell_type": "markdown",
      "source": [
        "# TABLE PEMBELAJARAN / LEARNING RATE"
      ],
      "metadata": {
        "id": "MtBm4-4qSLxi"
      }
    },
    {
      "cell_type": "code",
      "source": [
        "LOSS = [0.7776076197624207,0.5466572642326355,0.4511881172657013,0.41121599078178406,0.3235812485218048,0.20382441580295563,0.18509308993816376,0.1851392388343811]\n",
        "ACCURACY = [0.7973856329917908,0.843137264251709,0.8562091588973999,0.8562091588973999,0.9142857193946838,0.920634925365448,0.9238095283508301,0.9269841313362122]\n",
        "DATASET_RAW = [1000,1000,1000,1000,1500,1500,1500,1500]\n",
        "EPOCH = [150,300,450,600,150,300,450,600]\n",
        "\n",
        "BASIC = pd.DataFrame()\n",
        "BASIC['EPOCH'] = EPOCH\n",
        "BASIC['ACCURACY'] = ACCURACY\n",
        "BASIC['LOSS'] = LOSS\n",
        "BASIC['DATASET'] = DATASET_RAW\n"
      ],
      "metadata": {
        "id": "PiHR7Tv7grxa"
      },
      "execution_count": null,
      "outputs": []
    },
    {
      "cell_type": "code",
      "source": [
        "display(BASIC)"
      ],
      "metadata": {
        "colab": {
          "base_uri": "https://localhost:8080/",
          "height": 300
        },
        "id": "EmIR4KT6hjM_",
        "outputId": "80e996f2-0c8f-4063-e1c3-b37160653776"
      },
      "execution_count": null,
      "outputs": [
        {
          "output_type": "display_data",
          "data": {
            "text/plain": [
              "   EPOCH  ACCURACY      LOSS  DATASET\n",
              "0    150  0.797386  0.777608     1000\n",
              "1    300  0.843137  0.546657     1000\n",
              "2    450  0.856209  0.451188     1000\n",
              "3    600  0.856209  0.411216     1000\n",
              "4    150  0.914286  0.323581     1500\n",
              "5    300  0.920635  0.203824     1500\n",
              "6    450  0.923810  0.185093     1500\n",
              "7    600  0.926984  0.185139     1500"
            ],
            "text/html": [
              "\n",
              "  <div id=\"df-390e0181-fb3e-4c4f-a24a-2c7dea8d4bd5\">\n",
              "    <div class=\"colab-df-container\">\n",
              "      <div>\n",
              "<style scoped>\n",
              "    .dataframe tbody tr th:only-of-type {\n",
              "        vertical-align: middle;\n",
              "    }\n",
              "\n",
              "    .dataframe tbody tr th {\n",
              "        vertical-align: top;\n",
              "    }\n",
              "\n",
              "    .dataframe thead th {\n",
              "        text-align: right;\n",
              "    }\n",
              "</style>\n",
              "<table border=\"1\" class=\"dataframe\">\n",
              "  <thead>\n",
              "    <tr style=\"text-align: right;\">\n",
              "      <th></th>\n",
              "      <th>EPOCH</th>\n",
              "      <th>ACCURACY</th>\n",
              "      <th>LOSS</th>\n",
              "      <th>DATASET</th>\n",
              "    </tr>\n",
              "  </thead>\n",
              "  <tbody>\n",
              "    <tr>\n",
              "      <th>0</th>\n",
              "      <td>150</td>\n",
              "      <td>0.797386</td>\n",
              "      <td>0.777608</td>\n",
              "      <td>1000</td>\n",
              "    </tr>\n",
              "    <tr>\n",
              "      <th>1</th>\n",
              "      <td>300</td>\n",
              "      <td>0.843137</td>\n",
              "      <td>0.546657</td>\n",
              "      <td>1000</td>\n",
              "    </tr>\n",
              "    <tr>\n",
              "      <th>2</th>\n",
              "      <td>450</td>\n",
              "      <td>0.856209</td>\n",
              "      <td>0.451188</td>\n",
              "      <td>1000</td>\n",
              "    </tr>\n",
              "    <tr>\n",
              "      <th>3</th>\n",
              "      <td>600</td>\n",
              "      <td>0.856209</td>\n",
              "      <td>0.411216</td>\n",
              "      <td>1000</td>\n",
              "    </tr>\n",
              "    <tr>\n",
              "      <th>4</th>\n",
              "      <td>150</td>\n",
              "      <td>0.914286</td>\n",
              "      <td>0.323581</td>\n",
              "      <td>1500</td>\n",
              "    </tr>\n",
              "    <tr>\n",
              "      <th>5</th>\n",
              "      <td>300</td>\n",
              "      <td>0.920635</td>\n",
              "      <td>0.203824</td>\n",
              "      <td>1500</td>\n",
              "    </tr>\n",
              "    <tr>\n",
              "      <th>6</th>\n",
              "      <td>450</td>\n",
              "      <td>0.923810</td>\n",
              "      <td>0.185093</td>\n",
              "      <td>1500</td>\n",
              "    </tr>\n",
              "    <tr>\n",
              "      <th>7</th>\n",
              "      <td>600</td>\n",
              "      <td>0.926984</td>\n",
              "      <td>0.185139</td>\n",
              "      <td>1500</td>\n",
              "    </tr>\n",
              "  </tbody>\n",
              "</table>\n",
              "</div>\n",
              "      <button class=\"colab-df-convert\" onclick=\"convertToInteractive('df-390e0181-fb3e-4c4f-a24a-2c7dea8d4bd5')\"\n",
              "              title=\"Convert this dataframe to an interactive table.\"\n",
              "              style=\"display:none;\">\n",
              "        \n",
              "  <svg xmlns=\"http://www.w3.org/2000/svg\" height=\"24px\"viewBox=\"0 0 24 24\"\n",
              "       width=\"24px\">\n",
              "    <path d=\"M0 0h24v24H0V0z\" fill=\"none\"/>\n",
              "    <path d=\"M18.56 5.44l.94 2.06.94-2.06 2.06-.94-2.06-.94-.94-2.06-.94 2.06-2.06.94zm-11 1L8.5 8.5l.94-2.06 2.06-.94-2.06-.94L8.5 2.5l-.94 2.06-2.06.94zm10 10l.94 2.06.94-2.06 2.06-.94-2.06-.94-.94-2.06-.94 2.06-2.06.94z\"/><path d=\"M17.41 7.96l-1.37-1.37c-.4-.4-.92-.59-1.43-.59-.52 0-1.04.2-1.43.59L10.3 9.45l-7.72 7.72c-.78.78-.78 2.05 0 2.83L4 21.41c.39.39.9.59 1.41.59.51 0 1.02-.2 1.41-.59l7.78-7.78 2.81-2.81c.8-.78.8-2.07 0-2.86zM5.41 20L4 18.59l7.72-7.72 1.47 1.35L5.41 20z\"/>\n",
              "  </svg>\n",
              "      </button>\n",
              "      \n",
              "  <style>\n",
              "    .colab-df-container {\n",
              "      display:flex;\n",
              "      flex-wrap:wrap;\n",
              "      gap: 12px;\n",
              "    }\n",
              "\n",
              "    .colab-df-convert {\n",
              "      background-color: #E8F0FE;\n",
              "      border: none;\n",
              "      border-radius: 50%;\n",
              "      cursor: pointer;\n",
              "      display: none;\n",
              "      fill: #1967D2;\n",
              "      height: 32px;\n",
              "      padding: 0 0 0 0;\n",
              "      width: 32px;\n",
              "    }\n",
              "\n",
              "    .colab-df-convert:hover {\n",
              "      background-color: #E2EBFA;\n",
              "      box-shadow: 0px 1px 2px rgba(60, 64, 67, 0.3), 0px 1px 3px 1px rgba(60, 64, 67, 0.15);\n",
              "      fill: #174EA6;\n",
              "    }\n",
              "\n",
              "    [theme=dark] .colab-df-convert {\n",
              "      background-color: #3B4455;\n",
              "      fill: #D2E3FC;\n",
              "    }\n",
              "\n",
              "    [theme=dark] .colab-df-convert:hover {\n",
              "      background-color: #434B5C;\n",
              "      box-shadow: 0px 1px 3px 1px rgba(0, 0, 0, 0.15);\n",
              "      filter: drop-shadow(0px 1px 2px rgba(0, 0, 0, 0.3));\n",
              "      fill: #FFFFFF;\n",
              "    }\n",
              "  </style>\n",
              "\n",
              "      <script>\n",
              "        const buttonEl =\n",
              "          document.querySelector('#df-390e0181-fb3e-4c4f-a24a-2c7dea8d4bd5 button.colab-df-convert');\n",
              "        buttonEl.style.display =\n",
              "          google.colab.kernel.accessAllowed ? 'block' : 'none';\n",
              "\n",
              "        async function convertToInteractive(key) {\n",
              "          const element = document.querySelector('#df-390e0181-fb3e-4c4f-a24a-2c7dea8d4bd5');\n",
              "          const dataTable =\n",
              "            await google.colab.kernel.invokeFunction('convertToInteractive',\n",
              "                                                     [key], {});\n",
              "          if (!dataTable) return;\n",
              "\n",
              "          const docLinkHtml = 'Like what you see? Visit the ' +\n",
              "            '<a target=\"_blank\" href=https://colab.research.google.com/notebooks/data_table.ipynb>data table notebook</a>'\n",
              "            + ' to learn more about interactive tables.';\n",
              "          element.innerHTML = '';\n",
              "          dataTable['output_type'] = 'display_data';\n",
              "          await google.colab.output.renderOutput(dataTable, element);\n",
              "          const docLink = document.createElement('div');\n",
              "          docLink.innerHTML = docLinkHtml;\n",
              "          element.appendChild(docLink);\n",
              "        }\n",
              "      </script>\n",
              "    </div>\n",
              "  </div>\n",
              "  "
            ]
          },
          "metadata": {}
        }
      ]
    },
    {
      "cell_type": "code",
      "source": [
        "sns.lineplot(data=BASIC, x=\"EPOCH\", y=\"ACCURACY\")\n",
        "plt.show()"
      ],
      "metadata": {
        "id": "3bKuqE7acO46",
        "outputId": "5ff73d71-b7af-466d-d2b7-c08085340b01",
        "colab": {
          "base_uri": "https://localhost:8080/",
          "height": 279
        }
      },
      "execution_count": null,
      "outputs": [
        {
          "output_type": "display_data",
          "data": {
            "text/plain": [
              "<Figure size 432x288 with 1 Axes>"
            ],
            "image/png": "[encoded data removed]"
          },
          "metadata": {
            "needs_background": "light"
          }
        }
      ]
    },
    {
      "cell_type": "markdown",
      "source": [
        "# Catatan Kesimpulan Sederhana"
      ],
      "metadata": {
        "id": "GUXzGiSv7zPs"
      }
    },
    {
      "cell_type": "markdown",
      "source": [
        "Dari hasil eksperimen yang diberikan, dapat disimpulkan bahwa:\n",
        "\n",
        "1. Ukuran dataset yang lebih besar dan jumlah epoch yang lebih banyak cenderung menghasilkan akurasi yang lebih tinggi dan kerugian yang lebih rendah pada model yang dilatih.\n",
        "\n",
        "2. Nilai akurasi dan kerugian berbanding lurus dan terbalik dengan ukuran dataset dan jumlah epoch, masing-masing.\n",
        "3. Akurasi tertinggi dan kerugian terendah dicapai dengan menggunakan ukuran dataset terbesar dan jumlah epoch terbanyak.\n",
        "\n",
        "4. Peningkatan ukuran dataset dan jumlah epoch berdampak positif pada akurasi dan negatif pada loss model.\n",
        "5. Nilai akurasi dan loss model memiliki korelasi positif dan negatif dengan ukuran dataset dan jumlah epoch, masing-masing.\n",
        "\n",
        "6. Dalam eksperimen ini, kombinasi ukuran dataset terbesar dan jumlah epoch terbanyak menghasilkan nilai akurasi tertinggi dan nilai loss terendah.\n",
        "\n",
        "Temuan ini sejalan dengan praktik umum dalam machine learning, di mana ukuran dataset yang lebih besar dan lebih banyak epoch pelatihan umumnya menghasilkan performa model yang lebih baik."
      ],
      "metadata": {
        "id": "qgq0Gmnh8dMn"
      }
    },
    {
      "cell_type": "code",
      "source": [],
      "metadata": {
        "id": "mX0Srhbdyq6K"
      },
      "execution_count": null,
      "outputs": []
    }
  ],
  "metadata": {
    "colab": {
      "provenance": [],
      "mount_file_id": "194KdQOmrBtd19BZL8GzB18F5-ps-gm6L",
      "authorship_tag": "ABX9TyMMxIL26zHONvriwptqHO+9",
      "include_colab_link": true
    },
    "kernelspec": {
      "display_name": "Python 3",
      "name": "python3"
    },
    "language_info": {
      "name": "python"
    }
  },
  "nbformat": 4,
  "nbformat_minor": 0
}
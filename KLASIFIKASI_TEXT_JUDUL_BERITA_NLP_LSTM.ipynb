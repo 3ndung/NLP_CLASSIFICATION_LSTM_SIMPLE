{
  "cells": [
    {
      "cell_type": "markdown",
      "metadata": {
        "id": "view-in-github",
        "colab_type": "text"
      },
      "source": [
        "<a href=\"https://colab.research.google.com/github/3ndung/NLP_CLASSIFICATION_LSTM_SIMPLE/blob/main/KLASIFIKASI_TEXT_JUDUL_BERITA_NLP_LSTM.ipynb\" target=\"_parent\"><img src=\"https://colab.research.google.com/assets/colab-badge.svg\" alt=\"Open In Colab\"/></a>"
      ]
    },
    {
      "cell_type": "code",
      "source": [
        "STOPWORDS = set()\n",
        "\n",
        "with open('/content/INDONESIAN_STOP_WORD.txt') as dat:\n",
        "  dat = dat.read()\n",
        "  for x in dat.split(' '):\n",
        "    STOPWORDS.add(x)"
      ],
      "metadata": {
        "id": "-VhrXbbHKPbq"
      },
      "execution_count": 1,
      "outputs": []
    },
    {
      "cell_type": "code",
      "source": [
        "import pandas as pd"
      ],
      "metadata": {
        "id": "g2OaUGZRNwSu"
      },
      "execution_count": 2,
      "outputs": []
    },
    {
      "cell_type": "code",
      "source": [
        "data = pd.read_excel('/content/DATA_BERSIH1.xlsx')"
      ],
      "metadata": {
        "id": "OfMffLS-Ny4r"
      },
      "execution_count": 3,
      "outputs": []
    },
    {
      "cell_type": "code",
      "source": [
        "data = data[['CATEGORY','HEADLINE_CLEAN']]\n",
        "data.loc[data[\"CATEGORY\"] == \"OLAH RAGA\", \"CATEGORY\"] = 'OLAHRAGA'\n",
        "data = data.sample(frac=1).reset_index(drop=True)\n",
        "data.head(10)"
      ],
      "metadata": {
        "colab": {
          "base_uri": "https://localhost:8080/",
          "height": 363
        },
        "id": "y-4psQcON6m7",
        "outputId": "18609918-248f-4a59-bc12-d40e3319e359"
      },
      "execution_count": 4,
      "outputs": [
        {
          "output_type": "execute_result",
          "data": {
            "text/plain": [
              "    CATEGORY                                     HEADLINE_CLEAN\n",
              "0    EKONOMI  BPJamsostek Perluas Kemudahan Daftar dan Bayar...\n",
              "1  KESEHATAN  BPOM Cemaran Etilen Glikol Obat Yarindo Sampai...\n",
              "2   OLAHRAGA  Messi Ungkap Momen Terindah Sampai Bikin Dia N...\n",
              "3    EKONOMI  Situasi Global Masih Tidak Pasti Rupiah Ditutu...\n",
              "4  KESEHATAN  5 Kebiasaan Penyebab Sariawan Bukan Kurang Mak...\n",
              "5   OLAHRAGA  5 Atlet Dunia yang Jadi Mualaf dan Nikahi Pere...\n",
              "6    EKONOMI  BI Catat Permintaan Pembiayaan Korporasi Menin...\n",
              "7   OLAHRAGA  5 Point Guard yang Akan Mengguncang NBA 202220...\n",
              "8   OLAHRAGA  Liga 1 Rencananya Lanjut dengan Format Sentral...\n",
              "9   OLAHRAGA          Fred Hubungan Ronaldo dengan Ten Hag Kini"
            ],
            "text/html": [
              "\n",
              "  <div id=\"df-1117e635-0bb8-4a3d-b676-63b48f61bc8c\">\n",
              "    <div class=\"colab-df-container\">\n",
              "      <div>\n",
              "<style scoped>\n",
              "    .dataframe tbody tr th:only-of-type {\n",
              "        vertical-align: middle;\n",
              "    }\n",
              "\n",
              "    .dataframe tbody tr th {\n",
              "        vertical-align: top;\n",
              "    }\n",
              "\n",
              "    .dataframe thead th {\n",
              "        text-align: right;\n",
              "    }\n",
              "</style>\n",
              "<table border=\"1\" class=\"dataframe\">\n",
              "  <thead>\n",
              "    <tr style=\"text-align: right;\">\n",
              "      <th></th>\n",
              "      <th>CATEGORY</th>\n",
              "      <th>HEADLINE_CLEAN</th>\n",
              "    </tr>\n",
              "  </thead>\n",
              "  <tbody>\n",
              "    <tr>\n",
              "      <th>0</th>\n",
              "      <td>EKONOMI</td>\n",
              "      <td>BPJamsostek Perluas Kemudahan Daftar dan Bayar...</td>\n",
              "    </tr>\n",
              "    <tr>\n",
              "      <th>1</th>\n",
              "      <td>KESEHATAN</td>\n",
              "      <td>BPOM Cemaran Etilen Glikol Obat Yarindo Sampai...</td>\n",
              "    </tr>\n",
              "    <tr>\n",
              "      <th>2</th>\n",
              "      <td>OLAHRAGA</td>\n",
              "      <td>Messi Ungkap Momen Terindah Sampai Bikin Dia N...</td>\n",
              "    </tr>\n",
              "    <tr>\n",
              "      <th>3</th>\n",
              "      <td>EKONOMI</td>\n",
              "      <td>Situasi Global Masih Tidak Pasti Rupiah Ditutu...</td>\n",
              "    </tr>\n",
              "    <tr>\n",
              "      <th>4</th>\n",
              "      <td>KESEHATAN</td>\n",
              "      <td>5 Kebiasaan Penyebab Sariawan Bukan Kurang Mak...</td>\n",
              "    </tr>\n",
              "    <tr>\n",
              "      <th>5</th>\n",
              "      <td>OLAHRAGA</td>\n",
              "      <td>5 Atlet Dunia yang Jadi Mualaf dan Nikahi Pere...</td>\n",
              "    </tr>\n",
              "    <tr>\n",
              "      <th>6</th>\n",
              "      <td>EKONOMI</td>\n",
              "      <td>BI Catat Permintaan Pembiayaan Korporasi Menin...</td>\n",
              "    </tr>\n",
              "    <tr>\n",
              "      <th>7</th>\n",
              "      <td>OLAHRAGA</td>\n",
              "      <td>5 Point Guard yang Akan Mengguncang NBA 202220...</td>\n",
              "    </tr>\n",
              "    <tr>\n",
              "      <th>8</th>\n",
              "      <td>OLAHRAGA</td>\n",
              "      <td>Liga 1 Rencananya Lanjut dengan Format Sentral...</td>\n",
              "    </tr>\n",
              "    <tr>\n",
              "      <th>9</th>\n",
              "      <td>OLAHRAGA</td>\n",
              "      <td>Fred Hubungan Ronaldo dengan Ten Hag Kini</td>\n",
              "    </tr>\n",
              "  </tbody>\n",
              "</table>\n",
              "</div>\n",
              "      <button class=\"colab-df-convert\" onclick=\"convertToInteractive('df-1117e635-0bb8-4a3d-b676-63b48f61bc8c')\"\n",
              "              title=\"Convert this dataframe to an interactive table.\"\n",
              "              style=\"display:none;\">\n",
              "        \n",
              "  <svg xmlns=\"http://www.w3.org/2000/svg\" height=\"24px\"viewBox=\"0 0 24 24\"\n",
              "       width=\"24px\">\n",
              "    <path d=\"M0 0h24v24H0V0z\" fill=\"none\"/>\n",
              "    <path d=\"M18.56 5.44l.94 2.06.94-2.06 2.06-.94-2.06-.94-.94-2.06-.94 2.06-2.06.94zm-11 1L8.5 8.5l.94-2.06 2.06-.94-2.06-.94L8.5 2.5l-.94 2.06-2.06.94zm10 10l.94 2.06.94-2.06 2.06-.94-2.06-.94-.94-2.06-.94 2.06-2.06.94z\"/><path d=\"M17.41 7.96l-1.37-1.37c-.4-.4-.92-.59-1.43-.59-.52 0-1.04.2-1.43.59L10.3 9.45l-7.72 7.72c-.78.78-.78 2.05 0 2.83L4 21.41c.39.39.9.59 1.41.59.51 0 1.02-.2 1.41-.59l7.78-7.78 2.81-2.81c.8-.78.8-2.07 0-2.86zM5.41 20L4 18.59l7.72-7.72 1.47 1.35L5.41 20z\"/>\n",
              "  </svg>\n",
              "      </button>\n",
              "      \n",
              "  <style>\n",
              "    .colab-df-container {\n",
              "      display:flex;\n",
              "      flex-wrap:wrap;\n",
              "      gap: 12px;\n",
              "    }\n",
              "\n",
              "    .colab-df-convert {\n",
              "      background-color: #E8F0FE;\n",
              "      border: none;\n",
              "      border-radius: 50%;\n",
              "      cursor: pointer;\n",
              "      display: none;\n",
              "      fill: #1967D2;\n",
              "      height: 32px;\n",
              "      padding: 0 0 0 0;\n",
              "      width: 32px;\n",
              "    }\n",
              "\n",
              "    .colab-df-convert:hover {\n",
              "      background-color: #E2EBFA;\n",
              "      box-shadow: 0px 1px 2px rgba(60, 64, 67, 0.3), 0px 1px 3px 1px rgba(60, 64, 67, 0.15);\n",
              "      fill: #174EA6;\n",
              "    }\n",
              "\n",
              "    [theme=dark] .colab-df-convert {\n",
              "      background-color: #3B4455;\n",
              "      fill: #D2E3FC;\n",
              "    }\n",
              "\n",
              "    [theme=dark] .colab-df-convert:hover {\n",
              "      background-color: #434B5C;\n",
              "      box-shadow: 0px 1px 3px 1px rgba(0, 0, 0, 0.15);\n",
              "      filter: drop-shadow(0px 1px 2px rgba(0, 0, 0, 0.3));\n",
              "      fill: #FFFFFF;\n",
              "    }\n",
              "  </style>\n",
              "\n",
              "      <script>\n",
              "        const buttonEl =\n",
              "          document.querySelector('#df-1117e635-0bb8-4a3d-b676-63b48f61bc8c button.colab-df-convert');\n",
              "        buttonEl.style.display =\n",
              "          google.colab.kernel.accessAllowed ? 'block' : 'none';\n",
              "\n",
              "        async function convertToInteractive(key) {\n",
              "          const element = document.querySelector('#df-1117e635-0bb8-4a3d-b676-63b48f61bc8c');\n",
              "          const dataTable =\n",
              "            await google.colab.kernel.invokeFunction('convertToInteractive',\n",
              "                                                     [key], {});\n",
              "          if (!dataTable) return;\n",
              "\n",
              "          const docLinkHtml = 'Like what you see? Visit the ' +\n",
              "            '<a target=\"_blank\" href=https://colab.research.google.com/notebooks/data_table.ipynb>data table notebook</a>'\n",
              "            + ' to learn more about interactive tables.';\n",
              "          element.innerHTML = '';\n",
              "          dataTable['output_type'] = 'display_data';\n",
              "          await google.colab.output.renderOutput(dataTable, element);\n",
              "          const docLink = document.createElement('div');\n",
              "          docLink.innerHTML = docLinkHtml;\n",
              "          element.appendChild(docLink);\n",
              "        }\n",
              "      </script>\n",
              "    </div>\n",
              "  </div>\n",
              "  "
            ]
          },
          "metadata": {},
          "execution_count": 4
        }
      ]
    },
    {
      "cell_type": "code",
      "source": [
        "labels = data['CATEGORY'].tolist()\n",
        "articles = data['HEADLINE_CLEAN'].tolist()"
      ],
      "metadata": {
        "id": "a6F-RX-gPRI4"
      },
      "execution_count": 5,
      "outputs": []
    },
    {
      "cell_type": "code",
      "execution_count": 6,
      "metadata": {
        "colab": {
          "base_uri": "https://localhost:8080/"
        },
        "id": "PE06p_A2JYjq",
        "outputId": "a62f5e67-a70a-4cdf-9956-6e6eaea8c712"
      },
      "outputs": [
        {
          "output_type": "stream",
          "name": "stdout",
          "text": [
            "2.9.2\n"
          ]
        }
      ],
      "source": [
        "import tensorflow as tf\n",
        "print(tf.__version__)"
      ]
    },
    {
      "cell_type": "code",
      "execution_count": 7,
      "metadata": {
        "id": "6IZETmUvJYjs"
      },
      "outputs": [],
      "source": [
        "import csv\n",
        "import tensorflow as tf\n",
        "import numpy as np\n",
        "\n",
        "from tensorflow.keras.preprocessing.text import Tokenizer\n",
        "from tensorflow.keras.preprocessing.sequence import pad_sequences\n",
        "#from nltk.corpus import stopwords\n",
        "#STOPWORDS = set(stopwords.words('english'))"
      ]
    },
    {
      "cell_type": "markdown",
      "metadata": {
        "id": "wa_Qr2JiJYjt"
      },
      "source": [
        "Put the hyparameters at the top like this to make it easier to change and edit."
      ]
    },
    {
      "cell_type": "code",
      "execution_count": 8,
      "metadata": {
        "id": "npDWRC3CJYju"
      },
      "outputs": [],
      "source": [
        "vocab_size = 5000\n",
        "embedding_dim = 64\n",
        "max_length = 200\n",
        "trunc_type = 'post'\n",
        "padding_type = 'post'\n",
        "oov_tok = '<OOV>'\n",
        "training_portion = .8"
      ]
    },
    {
      "cell_type": "markdown",
      "metadata": {
        "id": "1v8df2uXJYju"
      },
      "source": [
        "First, let's define two lists that containing articles and labels. In the meantime, we remove stopwords."
      ]
    },
    {
      "cell_type": "code",
      "execution_count": 9,
      "metadata": {
        "colab": {
          "base_uri": "https://localhost:8080/"
        },
        "id": "PeVkK1JvJYju",
        "outputId": "ca2923c5-7345-43ff-eafd-175adfbb8e40"
      },
      "outputs": [
        {
          "output_type": "stream",
          "name": "stdout",
          "text": [
            "597\n",
            "597\n"
          ]
        }
      ],
      "source": [
        "print(len(labels))\n",
        "print(len(articles))"
      ]
    },
    {
      "cell_type": "markdown",
      "metadata": {
        "id": "xmfs7q70JYjv"
      },
      "source": [
        "There are only 597 articles in the data. Then we split into training set and validation set, according to the parameter we set earlier, 80% for training, 20% for validation."
      ]
    },
    {
      "cell_type": "code",
      "execution_count": 10,
      "metadata": {
        "colab": {
          "base_uri": "https://localhost:8080/"
        },
        "id": "RdmEl4jSJYjv",
        "outputId": "4b66525a-ba34-45e6-bdaa-53d2710e3354"
      },
      "outputs": [
        {
          "output_type": "stream",
          "name": "stdout",
          "text": [
            "477\n",
            "477\n",
            "477\n",
            "120\n",
            "120\n"
          ]
        }
      ],
      "source": [
        "train_size = int(len(articles) * training_portion)\n",
        "\n",
        "train_articles = articles[0: train_size]\n",
        "train_labels = labels[0: train_size]\n",
        "\n",
        "validation_articles = articles[train_size:]\n",
        "validation_labels = labels[train_size:]\n",
        "\n",
        "print(train_size)\n",
        "print(len(train_articles))\n",
        "print(len(train_labels))\n",
        "print(len(validation_articles))\n",
        "print(len(validation_labels))"
      ]
    },
    {
      "cell_type": "markdown",
      "metadata": {
        "id": "wUP6Fz_XJYjw"
      },
      "source": [
        "Tokenizer does all the heavy lifting for us. In our articles that it was tokenizing, it will take 5,000 most common words. oov_token is to put a special value in when an unseen word is encountered. This means I want \"OOV\" in bracket to be used to for words that are not in the word index. \"fit_on_text\" will go through all the text and create dictionary like this:"
      ]
    },
    {
      "cell_type": "code",
      "execution_count": 11,
      "metadata": {
        "id": "qma_N59uJYjw"
      },
      "outputs": [],
      "source": [
        "tokenizer = Tokenizer(num_words = vocab_size, oov_token=oov_tok)\n",
        "tokenizer.fit_on_texts(train_articles)\n",
        "word_index = tokenizer.word_index"
      ]
    },
    {
      "cell_type": "markdown",
      "metadata": {
        "id": "zJpNMEPzJYjw"
      },
      "source": [
        "You can see that \"OOV\" in bracket is number 1, \"said\" is number 2, \"mr\" is number 3, and so on."
      ]
    },
    {
      "cell_type": "code",
      "execution_count": 12,
      "metadata": {
        "scrolled": false,
        "colab": {
          "base_uri": "https://localhost:8080/"
        },
        "id": "4Q5ARw5hJYjx",
        "outputId": "52b59427-c8b9-424e-b665-664e297d8551"
      },
      "outputs": [
        {
          "output_type": "execute_result",
          "data": {
            "text/plain": [
              "{'<OOV>': 1,\n",
              " 'di': 2,\n",
              " '2022': 3,\n",
              " 'ke': 4,\n",
              " 'rupiah': 5,\n",
              " 'ini': 6,\n",
              " 'as': 7,\n",
              " 'yang': 8,\n",
              " 'dolar': 9,\n",
              " 'dan': 10}"
            ]
          },
          "metadata": {},
          "execution_count": 12
        }
      ],
      "source": [
        "dict(list(word_index.items())[0:10])"
      ]
    },
    {
      "cell_type": "markdown",
      "metadata": {
        "id": "27ebcxQJJYjx"
      },
      "source": [
        "This process cleans up our text, lowercase, and remove punctuations."
      ]
    },
    {
      "cell_type": "markdown",
      "metadata": {
        "id": "ADKvv6w3JYjx"
      },
      "source": [
        "After tokenization, the next step is to turn thoes tokens into lists of sequence."
      ]
    },
    {
      "cell_type": "code",
      "execution_count": 13,
      "metadata": {
        "id": "-ubKsfoSJYjx"
      },
      "outputs": [],
      "source": [
        "train_sequences = tokenizer.texts_to_sequences(train_articles)"
      ]
    },
    {
      "cell_type": "markdown",
      "metadata": {
        "id": "Dh5IgDtaJYjx"
      },
      "source": [
        "This is the 11th article in the training data that has been turned into sequences."
      ]
    },
    {
      "cell_type": "code",
      "execution_count": 14,
      "metadata": {
        "scrolled": false,
        "colab": {
          "base_uri": "https://localhost:8080/"
        },
        "id": "7wBx6PzuJYjy",
        "outputId": "8a6511f8-c471-44da-9652-60eabdf9d2de"
      },
      "outputs": [
        {
          "output_type": "stream",
          "name": "stdout",
          "text": [
            "[5, 125, 4, 811, 11, 9, 7, 274, 37, 45, 65, 46]\n"
          ]
        }
      ],
      "source": [
        "print(train_sequences[10])"
      ]
    },
    {
      "cell_type": "markdown",
      "metadata": {
        "id": "oHYJ2HfPJYjy"
      },
      "source": [
        "When we train neural networks for NLP, we need sequences to be in the same size, that's why we use padding. Our max_length is 200, so we use pad_sequences to make all of our articles the same length which is 200 in my example. That's why you see that the 1st article was 426 in length, becomes 200, the 2nd article was 192 in length, becomes 200, and so on."
      ]
    },
    {
      "cell_type": "code",
      "execution_count": 15,
      "metadata": {
        "id": "jcIUhehXJYjy"
      },
      "outputs": [],
      "source": [
        "train_padded = pad_sequences(train_sequences, maxlen=max_length, padding=padding_type, truncating=trunc_type)"
      ]
    },
    {
      "cell_type": "code",
      "execution_count": 16,
      "metadata": {
        "colab": {
          "base_uri": "https://localhost:8080/"
        },
        "id": "Oox_lK4TJYjy",
        "outputId": "e40fa63f-28b5-4714-f8e0-7a1bd4781173"
      },
      "outputs": [
        {
          "output_type": "stream",
          "name": "stdout",
          "text": [
            "9\n",
            "200\n",
            "10\n",
            "200\n",
            "12\n",
            "200\n"
          ]
        }
      ],
      "source": [
        "print(len(train_sequences[0]))\n",
        "print(len(train_padded[0]))\n",
        "\n",
        "print(len(train_sequences[1]))\n",
        "print(len(train_padded[1]))\n",
        "\n",
        "print(len(train_sequences[10]))\n",
        "print(len(train_padded[10]))"
      ]
    },
    {
      "cell_type": "markdown",
      "metadata": {
        "id": "bZpUKqUzJYjy"
      },
      "source": [
        "In addtion, there is padding type and truncating type, there are all \"post\". Means for example, for the 11th article, it was 186 in length, we padded to 200, and we padded at the end, add 14 zeros."
      ]
    },
    {
      "cell_type": "code",
      "execution_count": 17,
      "metadata": {
        "colab": {
          "base_uri": "https://localhost:8080/"
        },
        "id": "MKl4_cSSJYjz",
        "outputId": "bea24800-1de0-420b-a193-35c941d9d7a0"
      },
      "outputs": [
        {
          "output_type": "stream",
          "name": "stdout",
          "text": [
            "[5, 125, 4, 811, 11, 9, 7, 274, 37, 45, 65, 46]\n"
          ]
        }
      ],
      "source": [
        "print(train_sequences[10])"
      ]
    },
    {
      "cell_type": "code",
      "execution_count": 18,
      "metadata": {
        "colab": {
          "base_uri": "https://localhost:8080/"
        },
        "id": "w3iu_cHBJYjz",
        "outputId": "253d2d18-fb37-48a7-ed5f-1a4596e179a3"
      },
      "outputs": [
        {
          "output_type": "stream",
          "name": "stdout",
          "text": [
            "[  5 125   4 811  11   9   7 274  37  45  65  46   0   0   0   0   0   0\n",
            "   0   0   0   0   0   0   0   0   0   0   0   0   0   0   0   0   0   0\n",
            "   0   0   0   0   0   0   0   0   0   0   0   0   0   0   0   0   0   0\n",
            "   0   0   0   0   0   0   0   0   0   0   0   0   0   0   0   0   0   0\n",
            "   0   0   0   0   0   0   0   0   0   0   0   0   0   0   0   0   0   0\n",
            "   0   0   0   0   0   0   0   0   0   0   0   0   0   0   0   0   0   0\n",
            "   0   0   0   0   0   0   0   0   0   0   0   0   0   0   0   0   0   0\n",
            "   0   0   0   0   0   0   0   0   0   0   0   0   0   0   0   0   0   0\n",
            "   0   0   0   0   0   0   0   0   0   0   0   0   0   0   0   0   0   0\n",
            "   0   0   0   0   0   0   0   0   0   0   0   0   0   0   0   0   0   0\n",
            "   0   0   0   0   0   0   0   0   0   0   0   0   0   0   0   0   0   0\n",
            "   0   0]\n"
          ]
        }
      ],
      "source": [
        "print(train_padded[10])"
      ]
    },
    {
      "cell_type": "markdown",
      "metadata": {
        "id": "dgAnVYcBJYjz"
      },
      "source": [
        "And for the 1st article, it was 426 in length, we truncated to 200, and we truncated at the end."
      ]
    },
    {
      "cell_type": "code",
      "execution_count": 19,
      "metadata": {
        "colab": {
          "base_uri": "https://localhost:8080/"
        },
        "id": "orAOodbbJYjz",
        "outputId": "4c158669-a32a-4f97-f0f9-4961ee15adaa"
      },
      "outputs": [
        {
          "output_type": "stream",
          "name": "stdout",
          "text": [
            "[423, 773, 774, 121, 10, 271, 775, 29, 776]\n"
          ]
        }
      ],
      "source": [
        "print(train_sequences[0])"
      ]
    },
    {
      "cell_type": "code",
      "execution_count": 20,
      "metadata": {
        "colab": {
          "base_uri": "https://localhost:8080/"
        },
        "id": "tT981kTRJYjz",
        "outputId": "a7815fcf-1585-4adc-85c4-c8a6873ef3bf"
      },
      "outputs": [
        {
          "output_type": "stream",
          "name": "stdout",
          "text": [
            "[423 773 774 121  10 271 775  29 776   0   0   0   0   0   0   0   0   0\n",
            "   0   0   0   0   0   0   0   0   0   0   0   0   0   0   0   0   0   0\n",
            "   0   0   0   0   0   0   0   0   0   0   0   0   0   0   0   0   0   0\n",
            "   0   0   0   0   0   0   0   0   0   0   0   0   0   0   0   0   0   0\n",
            "   0   0   0   0   0   0   0   0   0   0   0   0   0   0   0   0   0   0\n",
            "   0   0   0   0   0   0   0   0   0   0   0   0   0   0   0   0   0   0\n",
            "   0   0   0   0   0   0   0   0   0   0   0   0   0   0   0   0   0   0\n",
            "   0   0   0   0   0   0   0   0   0   0   0   0   0   0   0   0   0   0\n",
            "   0   0   0   0   0   0   0   0   0   0   0   0   0   0   0   0   0   0\n",
            "   0   0   0   0   0   0   0   0   0   0   0   0   0   0   0   0   0   0\n",
            "   0   0   0   0   0   0   0   0   0   0   0   0   0   0   0   0   0   0\n",
            "   0   0]\n"
          ]
        }
      ],
      "source": [
        "print(train_padded[0])"
      ]
    },
    {
      "cell_type": "markdown",
      "metadata": {
        "id": "8VnOMjeIJYj0"
      },
      "source": [
        "Then we do the same for the validation sequences. Note that we should expect more out of vocabulary words from validation articles because word index were derived from the training articles."
      ]
    },
    {
      "cell_type": "code",
      "execution_count": 21,
      "metadata": {
        "colab": {
          "base_uri": "https://localhost:8080/"
        },
        "id": "pcsMTE9PJYj0",
        "outputId": "ca2218d8-d5b6-4c82-fdc0-1d62e59d2576"
      },
      "outputs": [
        {
          "output_type": "stream",
          "name": "stdout",
          "text": [
            "120\n",
            "(120, 200)\n"
          ]
        }
      ],
      "source": [
        "validation_sequences = tokenizer.texts_to_sequences(validation_articles)\n",
        "validation_padded = pad_sequences(validation_sequences, maxlen=max_length, padding=padding_type, truncating=trunc_type)\n",
        "\n",
        "print(len(validation_sequences))\n",
        "print(validation_padded.shape)"
      ]
    },
    {
      "cell_type": "markdown",
      "metadata": {
        "id": "J2b56wqaJYj0"
      },
      "source": [
        "Now we are going to look at the labels. because our labels are text, so we will tokenize them, when training, labels are expected to be numpy arrays. So we will turn list of labels into numpy arrays like so:"
      ]
    },
    {
      "cell_type": "code",
      "execution_count": 22,
      "metadata": {
        "colab": {
          "base_uri": "https://localhost:8080/"
        },
        "id": "pVkG7sp0JYj0",
        "outputId": "08283058-4cb5-4243-f948-be6529cc5f00"
      },
      "outputs": [
        {
          "output_type": "stream",
          "name": "stdout",
          "text": [
            "{'OLAHRAGA', 'EKONOMI', 'KESEHATAN'}\n"
          ]
        }
      ],
      "source": [
        "print(set(labels))"
      ]
    },
    {
      "cell_type": "code",
      "execution_count": 23,
      "metadata": {
        "id": "XOPSyNIqJYj0"
      },
      "outputs": [],
      "source": [
        "label_tokenizer = Tokenizer()\n",
        "label_tokenizer.fit_on_texts(labels)\n",
        "\n",
        "training_label_seq = np.array(label_tokenizer.texts_to_sequences(train_labels))\n",
        "validation_label_seq = np.array(label_tokenizer.texts_to_sequences(validation_labels))"
      ]
    },
    {
      "cell_type": "code",
      "execution_count": 24,
      "metadata": {
        "colab": {
          "base_uri": "https://localhost:8080/"
        },
        "id": "uJI46SImJYj0",
        "outputId": "f3400351-5159-4a24-88a6-a4ef869819a8"
      },
      "outputs": [
        {
          "output_type": "stream",
          "name": "stdout",
          "text": [
            "[1]\n",
            "[3]\n",
            "[2]\n",
            "(477, 1)\n",
            "[1]\n",
            "[1]\n",
            "[2]\n",
            "(120, 1)\n"
          ]
        }
      ],
      "source": [
        "print(training_label_seq[0])\n",
        "print(training_label_seq[1])\n",
        "print(training_label_seq[2])\n",
        "print(training_label_seq.shape)\n",
        "\n",
        "print(validation_label_seq[0])\n",
        "print(validation_label_seq[1])\n",
        "print(validation_label_seq[2])\n",
        "print(validation_label_seq.shape)"
      ]
    },
    {
      "cell_type": "markdown",
      "metadata": {
        "id": "z7Mcl9i0JYj1"
      },
      "source": [
        "Before training deep neural network, we want to explore what our original article and article after padding look like. Running the following code, we explore the 11th article, we can see that some words become \"OOV\", because they did not make to the top 5,000."
      ]
    },
    {
      "cell_type": "code",
      "execution_count": 25,
      "metadata": {
        "colab": {
          "base_uri": "https://localhost:8080/"
        },
        "id": "o7_RK8x1JYj1",
        "outputId": "ecf4486f-1bf5-4ec2-b1f8-f7afdb474520"
      },
      "outputs": [
        {
          "output_type": "stream",
          "name": "stdout",
          "text": [
            "rupiah lunglai ke rp15695 per dolar as imbas bunga the fed naik ? ? ? ? ? ? ? ? ? ? ? ? ? ? ? ? ? ? ? ? ? ? ? ? ? ? ? ? ? ? ? ? ? ? ? ? ? ? ? ? ? ? ? ? ? ? ? ? ? ? ? ? ? ? ? ? ? ? ? ? ? ? ? ? ? ? ? ? ? ? ? ? ? ? ? ? ? ? ? ? ? ? ? ? ? ? ? ? ? ? ? ? ? ? ? ? ? ? ? ? ? ? ? ? ? ? ? ? ? ? ? ? ? ? ? ? ? ? ? ? ? ? ? ? ? ? ? ? ? ? ? ? ? ? ? ? ? ? ? ? ? ? ? ? ? ? ? ? ? ? ? ? ? ? ? ? ? ? ? ? ? ? ? ? ? ? ? ? ? ? ? ? ? ? ? ? ? ? ? ? ? ? ? ? ? ? ? ?\n",
            "---\n",
            "Rupiah Lunglai ke Rp15695 per Dolar AS Imbas Bunga The Fed Naik\n"
          ]
        }
      ],
      "source": [
        "reverse_word_index = dict([(value, key) for (key, value) in word_index.items()])\n",
        "\n",
        "def decode_article(text):\n",
        "    return ' '.join([reverse_word_index.get(i, '?') for i in text])\n",
        "print(decode_article(train_padded[10]))\n",
        "print('---')\n",
        "print(train_articles[10])"
      ]
    },
    {
      "cell_type": "markdown",
      "metadata": {
        "id": "OV_IF-9rJYj1"
      },
      "source": [
        "Now we can implement LSTM. Here is my code that I build a tf.keras.Sequential model and start with an embedding layer. An embedding layer stores one vector per word. When called, it converts the sequences of word indices into sequences of vectors. After training, words with similar meanings often have the similar vectors.\n",
        "\n",
        "Next is how to implement LSTM in code. The Bidirectional wrapper is used with a LSTM layer, this propagates the input forwards and backwards through the LSTM layer and then concatenates the outputs. This helps LSTM to learn long term dependencies. We then fit it to a dense neural network to do classification.\n",
        "\n",
        "This index-lookup is much more efficient than the equivalent operation of passing a one-hot encoded vector through a tf.keras.layers.Dense layer."
      ]
    },
    {
      "cell_type": "code",
      "execution_count": 26,
      "metadata": {
        "colab": {
          "base_uri": "https://localhost:8080/"
        },
        "id": "LDwgafq4JYj1",
        "outputId": "4158e1ee-d88e-4268-88d8-d098efa419a5"
      },
      "outputs": [
        {
          "output_type": "stream",
          "name": "stdout",
          "text": [
            "Model: \"sequential\"\n",
            "_________________________________________________________________\n",
            " Layer (type)                Output Shape              Param #   \n",
            "=================================================================\n",
            " embedding (Embedding)       (None, None, 64)          320000    \n",
            "                                                                 \n",
            " bidirectional (Bidirectiona  (None, 128)              66048     \n",
            " l)                                                              \n",
            "                                                                 \n",
            " dense (Dense)               (None, 64)                8256      \n",
            "                                                                 \n",
            " dense_1 (Dense)             (None, 6)                 390       \n",
            "                                                                 \n",
            "=================================================================\n",
            "Total params: 394,694\n",
            "Trainable params: 394,694\n",
            "Non-trainable params: 0\n",
            "_________________________________________________________________\n"
          ]
        }
      ],
      "source": [
        "model = tf.keras.Sequential([\n",
        "    # Add an Embedding layer expecting input vocab of size 5000, and output embedding dimension of size 64 we set at the top\n",
        "    tf.keras.layers.Embedding(vocab_size, embedding_dim),\n",
        "    tf.keras.layers.Bidirectional(tf.keras.layers.LSTM(embedding_dim)),\n",
        "#    tf.keras.layers.Bidirectional(tf.keras.layers.LSTM(32)),\n",
        "    # use ReLU in place of tanh function since they are very good alternatives of each other.\n",
        "    tf.keras.layers.Dense(embedding_dim, activation='relu'),\n",
        "    # Add a Dense layer with 6 units and softmax activation.\n",
        "    # When we have multiple outputs, softmax convert outputs layers into a probability distribution.\n",
        "    tf.keras.layers.Dense(6, activation='softmax')\n",
        "])\n",
        "model.summary()"
      ]
    },
    {
      "cell_type": "markdown",
      "metadata": {
        "id": "jsTItBduJYj1"
      },
      "source": [
        "In our model summay, we have our embeddings, our Bidirectional contains LSTM, followed by two dense layers. The output from Bidirectional is 128, because it doubled what we put in LSTM. We can also stack LSTM layer but I found the results worse."
      ]
    },
    {
      "cell_type": "code",
      "execution_count": 27,
      "metadata": {
        "id": "1jB4rSfHJYj2"
      },
      "outputs": [],
      "source": [
        "model.compile(loss='sparse_categorical_crossentropy', optimizer='adam', metrics=['accuracy'])"
      ]
    },
    {
      "cell_type": "code",
      "execution_count": 28,
      "metadata": {
        "colab": {
          "base_uri": "https://localhost:8080/"
        },
        "id": "04Pqhsg1JYj2",
        "outputId": "5a1320ee-8c4a-4831-8a62-99472274e4e6"
      },
      "outputs": [
        {
          "output_type": "stream",
          "name": "stdout",
          "text": [
            "Epoch 1/30\n",
            "15/15 - 16s - loss: 1.6062 - accuracy: 0.3417 - val_loss: 1.1804 - val_accuracy: 0.4250 - 16s/epoch - 1s/step\n",
            "Epoch 2/30\n",
            "15/15 - 3s - loss: 1.1117 - accuracy: 0.4025 - val_loss: 1.0904 - val_accuracy: 0.4250 - 3s/epoch - 212ms/step\n",
            "Epoch 3/30\n",
            "15/15 - 3s - loss: 1.0264 - accuracy: 0.4780 - val_loss: 0.9667 - val_accuracy: 0.5083 - 3s/epoch - 201ms/step\n",
            "Epoch 4/30\n",
            "15/15 - 3s - loss: 0.8120 - accuracy: 0.6792 - val_loss: 0.7371 - val_accuracy: 0.8000 - 3s/epoch - 214ms/step\n",
            "Epoch 5/30\n",
            "15/15 - 3s - loss: 0.4460 - accuracy: 0.8868 - val_loss: 0.6899 - val_accuracy: 0.6667 - 3s/epoch - 206ms/step\n",
            "Epoch 6/30\n",
            "15/15 - 3s - loss: 0.2320 - accuracy: 0.9350 - val_loss: 0.5374 - val_accuracy: 0.8250 - 3s/epoch - 200ms/step\n",
            "Epoch 7/30\n",
            "15/15 - 3s - loss: 0.1654 - accuracy: 0.9371 - val_loss: 0.4891 - val_accuracy: 0.8500 - 3s/epoch - 197ms/step\n",
            "Epoch 8/30\n",
            "15/15 - 3s - loss: 0.1032 - accuracy: 0.9644 - val_loss: 0.5162 - val_accuracy: 0.8333 - 3s/epoch - 203ms/step\n",
            "Epoch 9/30\n",
            "15/15 - 3s - loss: 0.0799 - accuracy: 0.9581 - val_loss: 0.5030 - val_accuracy: 0.8500 - 3s/epoch - 197ms/step\n",
            "Epoch 10/30\n",
            "15/15 - 3s - loss: 0.0688 - accuracy: 0.9602 - val_loss: 0.5575 - val_accuracy: 0.8333 - 3s/epoch - 199ms/step\n",
            "Epoch 11/30\n",
            "15/15 - 3s - loss: 0.0668 - accuracy: 0.9706 - val_loss: 0.5215 - val_accuracy: 0.8583 - 3s/epoch - 196ms/step\n",
            "Epoch 12/30\n",
            "15/15 - 3s - loss: 0.0630 - accuracy: 0.9706 - val_loss: 0.6192 - val_accuracy: 0.8000 - 3s/epoch - 204ms/step\n",
            "Epoch 13/30\n",
            "15/15 - 3s - loss: 0.0719 - accuracy: 0.9665 - val_loss: 0.5870 - val_accuracy: 0.7833 - 3s/epoch - 205ms/step\n",
            "Epoch 14/30\n",
            "15/15 - 3s - loss: 0.0635 - accuracy: 0.9686 - val_loss: 0.5521 - val_accuracy: 0.8417 - 3s/epoch - 202ms/step\n",
            "Epoch 15/30\n",
            "15/15 - 3s - loss: 0.0566 - accuracy: 0.9686 - val_loss: 0.5817 - val_accuracy: 0.8083 - 3s/epoch - 198ms/step\n",
            "Epoch 16/30\n",
            "15/15 - 3s - loss: 0.0560 - accuracy: 0.9602 - val_loss: 0.5673 - val_accuracy: 0.8500 - 3s/epoch - 191ms/step\n",
            "Epoch 17/30\n",
            "15/15 - 3s - loss: 0.0517 - accuracy: 0.9644 - val_loss: 0.5510 - val_accuracy: 0.8583 - 3s/epoch - 200ms/step\n",
            "Epoch 18/30\n",
            "15/15 - 3s - loss: 0.0537 - accuracy: 0.9644 - val_loss: 0.5811 - val_accuracy: 0.8500 - 3s/epoch - 193ms/step\n",
            "Epoch 19/30\n",
            "15/15 - 3s - loss: 0.0583 - accuracy: 0.9665 - val_loss: 0.6541 - val_accuracy: 0.7917 - 3s/epoch - 214ms/step\n",
            "Epoch 20/30\n",
            "15/15 - 3s - loss: 0.0577 - accuracy: 0.9602 - val_loss: 0.5555 - val_accuracy: 0.8500 - 3s/epoch - 192ms/step\n",
            "Epoch 21/30\n",
            "15/15 - 3s - loss: 0.0529 - accuracy: 0.9581 - val_loss: 0.5565 - val_accuracy: 0.8500 - 3s/epoch - 202ms/step\n",
            "Epoch 22/30\n",
            "15/15 - 3s - loss: 0.0523 - accuracy: 0.9623 - val_loss: 0.5990 - val_accuracy: 0.8333 - 3s/epoch - 191ms/step\n",
            "Epoch 23/30\n",
            "15/15 - 3s - loss: 0.0487 - accuracy: 0.9644 - val_loss: 0.6073 - val_accuracy: 0.8167 - 3s/epoch - 188ms/step\n",
            "Epoch 24/30\n",
            "15/15 - 3s - loss: 0.0486 - accuracy: 0.9706 - val_loss: 0.5963 - val_accuracy: 0.8333 - 3s/epoch - 201ms/step\n",
            "Epoch 25/30\n",
            "15/15 - 3s - loss: 0.0519 - accuracy: 0.9644 - val_loss: 0.6391 - val_accuracy: 0.8083 - 3s/epoch - 210ms/step\n",
            "Epoch 26/30\n",
            "15/15 - 3s - loss: 0.0516 - accuracy: 0.9623 - val_loss: 0.6694 - val_accuracy: 0.7917 - 3s/epoch - 203ms/step\n",
            "Epoch 27/30\n",
            "15/15 - 3s - loss: 0.0463 - accuracy: 0.9602 - val_loss: 0.5878 - val_accuracy: 0.8500 - 3s/epoch - 223ms/step\n",
            "Epoch 28/30\n",
            "15/15 - 4s - loss: 0.0525 - accuracy: 0.9665 - val_loss: 0.6726 - val_accuracy: 0.7917 - 4s/epoch - 253ms/step\n",
            "Epoch 29/30\n",
            "15/15 - 3s - loss: 0.0511 - accuracy: 0.9665 - val_loss: 0.6933 - val_accuracy: 0.7917 - 3s/epoch - 197ms/step\n",
            "Epoch 30/30\n",
            "15/15 - 3s - loss: 0.0517 - accuracy: 0.9560 - val_loss: 0.6368 - val_accuracy: 0.8333 - 3s/epoch - 191ms/step\n"
          ]
        }
      ],
      "source": [
        "num_epochs = 30\n",
        "history = model.fit(train_padded, training_label_seq, epochs=num_epochs, validation_data=(validation_padded, validation_label_seq), verbose=2)"
      ]
    },
    {
      "cell_type": "code",
      "source": [
        "import matplotlib.pyplot as plt\n"
      ],
      "metadata": {
        "id": "PhLi6QZ3RHlX"
      },
      "execution_count": 29,
      "outputs": []
    },
    {
      "cell_type": "code",
      "execution_count": 30,
      "metadata": {
        "colab": {
          "base_uri": "https://localhost:8080/",
          "height": 545
        },
        "id": "aOpcw2pLJYj2",
        "outputId": "e5ecf9cb-0242-47df-a785-c7e483109a0b"
      },
      "outputs": [
        {
          "output_type": "display_data",
          "data": {
            "text/plain": [
              "<Figure size 432x288 with 1 Axes>"
            ],
            "image/png": "[encoded data removed]"
          },
          "metadata": {
            "needs_background": "light"
          }
        },
        {
          "output_type": "display_data",
          "data": {
            "text/plain": [
              "<Figure size 432x288 with 1 Axes>"
            ],
            "image/png": "[encoded data removed]"
          },
          "metadata": {
            "needs_background": "light"
          }
        }
      ],
      "source": [
        "def plot_graphs(history, string):\n",
        "  plt.plot(history.history[string])\n",
        "  plt.plot(history.history['val_'+string])\n",
        "  plt.xlabel(\"Epochs\")\n",
        "  plt.ylabel(string)\n",
        "  plt.legend([string, 'val_'+string])\n",
        "  plt.show()\n",
        "  \n",
        "plot_graphs(history, \"accuracy\")\n",
        "plot_graphs(history, \"loss\")"
      ]
    },
    {
      "cell_type": "markdown",
      "source": [
        "UJI"
      ],
      "metadata": {
        "id": "SbFsYa0fRQ4g"
      }
    },
    {
      "cell_type": "code",
      "execution_count": 31,
      "metadata": {
        "colab": {
          "base_uri": "https://localhost:8080/"
        },
        "id": "fat9S7y8JYj2",
        "outputId": "f2791d06-9b8e-40a2-9dbb-6cbeeddb407a"
      },
      "outputs": [
        {
          "output_type": "stream",
          "name": "stdout",
          "text": [
            "1/1 [==============================] - 1s 1s/step\n",
            "[[5.4156268e-04 1.7549130e-01 6.8127459e-01 1.4160147e-01 1.6969338e-04\n",
            "  9.2137809e-04]]\n",
            "[[5.4156268e-04 1.7549130e-01 6.8127459e-01 1.4160147e-01 1.6969338e-04\n",
            "  9.2137809e-04]] OLAHRAGA\n"
          ]
        }
      ],
      "source": [
        "txt = [\"3 Gabriel Arsenal di Piala Dunia 2022, Ada yang Beda Nasib\"]\n",
        "\n",
        "seq = tokenizer.texts_to_sequences(txt)\n",
        "padded = pad_sequences(seq, maxlen=max_length)\n",
        "pred = model.predict(padded)\n",
        "labels = labels\n",
        "print(pred)\n",
        "print(pred, labels[np.argmax(pred)])"
      ]
    },
    {
      "cell_type": "code",
      "execution_count": 31,
      "metadata": {
        "id": "8kGKDk76JYj2"
      },
      "outputs": [],
      "source": []
    }
  ],
  "metadata": {
    "kernelspec": {
      "display_name": "Python 3",
      "language": "python",
      "name": "python3"
    },
    "language_info": {
      "codemirror_mode": {
        "name": "ipython",
        "version": 3
      },
      "file_extension": ".py",
      "mimetype": "text/x-python",
      "name": "python",
      "nbconvert_exporter": "python",
      "pygments_lexer": "ipython3",
      "version": "3.6.7"
    },
    "colab": {
      "provenance": [],
      "include_colab_link": true
    }
  },
  "nbformat": 4,
  "nbformat_minor": 0
}
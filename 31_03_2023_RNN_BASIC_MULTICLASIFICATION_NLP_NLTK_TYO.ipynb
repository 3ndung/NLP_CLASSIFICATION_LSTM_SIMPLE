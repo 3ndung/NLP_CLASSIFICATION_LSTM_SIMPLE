{
  "cells": [
    {
      "cell_type": "markdown",
      "metadata": {
        "id": "view-in-github",
        "colab_type": "text"
      },
      "source": [
        "<a href=\"https://colab.research.google.com/github/3ndung/NLP_CLASSIFICATION_LSTM_SIMPLE/blob/main/31_03_2023_RNN_BASIC_MULTICLASIFICATION_NLP_NLTK_TYO.ipynb\" target=\"_parent\"><img src=\"https://colab.research.google.com/assets/colab-badge.svg\" alt=\"Open In Colab\"/></a>"
      ]
    },
    {
      "cell_type": "markdown",
      "metadata": {
        "id": "wulUbvrtHF-w"
      },
      "source": [
        "Import library "
      ]
    },
    {
      "cell_type": "code",
      "execution_count": 1,
      "metadata": {
        "colab": {
          "base_uri": "https://localhost:8080/"
        },
        "id": "s_b478-RVma4",
        "outputId": "07f66d44-6333-48bf-dbef-bcb6fe6668b2"
      },
      "outputs": [
        {
          "output_type": "stream",
          "name": "stdout",
          "text": [
            "Mounted at /content/drive\n"
          ]
        }
      ],
      "source": [
        "from google.colab import drive\n",
        "drive.mount('/content/drive')"
      ]
    },
    {
      "cell_type": "code",
      "execution_count": 35,
      "metadata": {
        "id": "nD7PJZ1KG5DW"
      },
      "outputs": [],
      "source": [
        "import matplotlib.pyplot as plt\n",
        "import os\n",
        "import re\n",
        "import shutil\n",
        "import string\n",
        "import tensorflow as tf\n",
        "import matplotlib.pyplot as plt\n",
        "import pandas as pd\n",
        "import seaborn as sns\n",
        "import numpy as np\n",
        "\n"
      ]
    },
    {
      "cell_type": "markdown",
      "source": [
        "Update adding feature callbacks : Untuk mengambil weight/bobot terbaik saat training yang berfungsi mempercepat waktu pembelajaran dengan last point step adalah weight terbaik."
      ],
      "metadata": {
        "id": "HbaLYlnunj2L"
      }
    },
    {
      "cell_type": "code",
      "source": [
        "from tensorflow.keras import layers\n",
        "from tensorflow.keras import losses\n",
        "from tensorflow.keras.callbacks import EarlyStopping, ModelCheckpoint"
      ],
      "metadata": {
        "id": "lDuLogIYckN2"
      },
      "execution_count": 3,
      "outputs": []
    },
    {
      "cell_type": "markdown",
      "metadata": {
        "id": "uIjLHbiPHTR2"
      },
      "source": [
        "Cek TF Version"
      ]
    },
    {
      "cell_type": "code",
      "execution_count": 4,
      "metadata": {
        "colab": {
          "base_uri": "https://localhost:8080/"
        },
        "id": "sOzzke_vHRW9",
        "outputId": "47a38d9a-427f-48a0-c9cc-37833f8e5400"
      },
      "outputs": [
        {
          "output_type": "stream",
          "name": "stdout",
          "text": [
            "2.12.0\n"
          ]
        }
      ],
      "source": [
        "print(tf.__version__)"
      ]
    },
    {
      "cell_type": "markdown",
      "metadata": {
        "id": "dkth6QYlH4A-"
      },
      "source": [
        "# Download dataset dari data yang sudah dibersihkan "
      ]
    },
    {
      "cell_type": "code",
      "execution_count": 5,
      "metadata": {
        "id": "Jkcr4YjLMSJk"
      },
      "outputs": [],
      "source": [
        "dataset_dir = os.path.join(os.path.dirname('dataset'), '/content/drive/MyDrive/TYO_NLTK/DTS3/')"
      ]
    },
    {
      "cell_type": "markdown",
      "source": [
        "## Melihat directory dataset"
      ],
      "metadata": {
        "id": "fKYOm3irkmJv"
      }
    },
    {
      "cell_type": "code",
      "execution_count": 6,
      "metadata": {
        "colab": {
          "base_uri": "https://localhost:8080/"
        },
        "id": "8X3-kfvvMr8R",
        "outputId": "a7f0860b-d831-47c6-c376-83b8c83dc4ed"
      },
      "outputs": [
        {
          "output_type": "execute_result",
          "data": {
            "text/plain": [
              "['TRAIN', 'TEST']"
            ]
          },
          "metadata": {},
          "execution_count": 6
        }
      ],
      "source": [
        "os.listdir(dataset_dir)"
      ]
    },
    {
      "cell_type": "markdown",
      "metadata": {
        "id": "4_e8nUJqM8lj"
      },
      "source": [
        "## SET DATA UNTUK DI TRAIN "
      ]
    },
    {
      "cell_type": "code",
      "execution_count": 7,
      "metadata": {
        "colab": {
          "base_uri": "https://localhost:8080/"
        },
        "id": "FtYcHT3WMs79",
        "outputId": "fd540283-1312-4d47-ec54-317d780326b5"
      },
      "outputs": [
        {
          "output_type": "execute_result",
          "data": {
            "text/plain": [
              "['EKO', 'HEL', 'OLA']"
            ]
          },
          "metadata": {},
          "execution_count": 7
        }
      ],
      "source": [
        "train_dir = os.path.join(dataset_dir, 'TRAIN')\n",
        "os.listdir(train_dir)"
      ]
    },
    {
      "cell_type": "markdown",
      "metadata": {
        "id": "cIwhO064M_10"
      },
      "source": [
        "## SET DATA UNTUK DI TEST"
      ]
    },
    {
      "cell_type": "code",
      "execution_count": 8,
      "metadata": {
        "colab": {
          "base_uri": "https://localhost:8080/"
        },
        "id": "76h1OCWVNC7l",
        "outputId": "4732ea7c-1e3d-4d86-fad2-01d8ab5d782e"
      },
      "outputs": [
        {
          "output_type": "execute_result",
          "data": {
            "text/plain": [
              "['EKO', 'HEL', 'OLA']"
            ]
          },
          "metadata": {},
          "execution_count": 8
        }
      ],
      "source": [
        "test_dir = os.path.join(dataset_dir, 'TEST')\n",
        "os.listdir(train_dir)"
      ]
    },
    {
      "cell_type": "markdown",
      "source": [
        "## Sampling data yang akan di Training "
      ],
      "metadata": {
        "id": "m4da4wQOk5g8"
      }
    },
    {
      "cell_type": "code",
      "execution_count": 9,
      "metadata": {
        "colab": {
          "base_uri": "https://localhost:8080/"
        },
        "id": "y4X4padANHTW",
        "outputId": "4419e372-9857-459a-cdcf-f7436cb789ab"
      },
      "outputs": [
        {
          "output_type": "stream",
          "name": "stdout",
          "text": [
            "menaker pastikan ump 2023 naik sesuai tuntutan buruh\n"
          ]
        }
      ],
      "source": [
        "sample_file = os.path.join(train_dir, 'EKO/109.txt')\n",
        "\n",
        "with open(sample_file) as f:\n",
        "  print(f.read())"
      ]
    },
    {
      "cell_type": "markdown",
      "source": [
        "tf.keras.utils.text_dataset_from_directory adalah sebuah fungsi yang disediakan oleh TensorFlow yang digunakan untuk memuat data teks dari direktori pada sistem file. Fungsi ini membantu dalam mempersiapkan data dalam bentuk yang sesuai untuk pemrosesan menggunakan model pembelajaran mesin.\n",
        "\n",
        "Fungsi ini dapat membaca semua file teks dalam direktori tertentu dan mengorganisasikannya ke dalam dua set data, yaitu data latih dan data validasi, dengan pembagian data yang dapat dikonfigurasi oleh pengguna. Fungsi ini juga dapat menghasilkan sebuah objek tf.data.Dataset yang dapat digunakan untuk memasukkan data ke dalam model pembelajaran mesin.\n",
        "\n",
        "Pengguna dapat menentukan parameter seperti batch_size, seed, validation_split, subset, labels, dan sebagainya untuk mengatur bagaimana data akan dibagi dan disiapkan untuk model.\n",
        "\n",
        "Dalam keseluruhan, fungsi tf.keras.utils.text_dataset_from_directory sangat berguna bagi para pengembang dan peneliti yang bekerja dengan pemrosesan bahasa alami dan ingin mempersiapkan data teks dalam format yang sesuai untuk diproses dengan model pembelajaran mesin."
      ],
      "metadata": {
        "id": "eQEB0IAplncm"
      }
    },
    {
      "cell_type": "code",
      "execution_count": 10,
      "metadata": {
        "colab": {
          "base_uri": "https://localhost:8080/"
        },
        "id": "MEEvC45_N7RZ",
        "outputId": "b2648b43-c177-4d86-ac34-23f1dc95910a"
      },
      "outputs": [
        {
          "output_type": "stream",
          "name": "stdout",
          "text": [
            "Found 1248 files belonging to 3 classes.\n",
            "Using 999 files for training.\n"
          ]
        }
      ],
      "source": [
        "batch_size = 32\n",
        "seed = 42\n",
        "\n",
        "raw_train_ds = tf.keras.utils.text_dataset_from_directory(\n",
        "    '/content/drive/MyDrive/TYO_NLTK/DTS3/TRAIN', \n",
        "    batch_size=batch_size, \n",
        "    validation_split=0.2, # Parto law 80:20\n",
        "    subset='training', # ini digunakan untuk data yang akan di training\n",
        "    seed=seed)"
      ]
    },
    {
      "cell_type": "code",
      "execution_count": 11,
      "metadata": {
        "colab": {
          "base_uri": "https://localhost:8080/"
        },
        "id": "JTUNrQEQOIPt",
        "outputId": "5d352fc9-771c-410c-c6e0-68e02f618234"
      },
      "outputs": [
        {
          "output_type": "stream",
          "name": "stdout",
          "text": [
            "Review b'pelatih liverpool pujikan performa kiper baruny'\n",
            "Label 2\n",
            "Review b'7 penyebab sakit pinggang usia hingga faktor keturunan'\n",
            "Label 1\n",
            "Review b'indonesia dorong pemanfaatan energi terbarukan untuk mengurangi ketergantungan pada bahan bakar fosil'\n",
            "Label 0\n"
          ]
        }
      ],
      "source": [
        "for text_batch, label_batch in raw_train_ds.take(1):\n",
        "  for i in range(3):\n",
        "    print(\"Review\", text_batch.numpy()[i])\n",
        "    print(\"Label\", label_batch.numpy()[i])"
      ]
    },
    {
      "cell_type": "code",
      "execution_count": 12,
      "metadata": {
        "colab": {
          "base_uri": "https://localhost:8080/"
        },
        "id": "3ouP_BxwOe7a",
        "outputId": "3558d48d-b179-4688-e13f-30399bc195ad"
      },
      "outputs": [
        {
          "output_type": "stream",
          "name": "stdout",
          "text": [
            "Label 0 corresponds to EKO\n",
            "Label 1 corresponds to HEL\n",
            "Label 2 corresponds to OLA\n"
          ]
        }
      ],
      "source": [
        "print(\"Label 0 corresponds to\", raw_train_ds.class_names[0])\n",
        "print(\"Label 1 corresponds to\", raw_train_ds.class_names[1])\n",
        "print(\"Label 2 corresponds to\", raw_train_ds.class_names[2])"
      ]
    },
    {
      "cell_type": "code",
      "execution_count": 13,
      "metadata": {
        "colab": {
          "base_uri": "https://localhost:8080/"
        },
        "id": "z426gnYnOlOa",
        "outputId": "9f728d2f-cf4c-4d84-feae-9aa98d68b8d1"
      },
      "outputs": [
        {
          "output_type": "stream",
          "name": "stdout",
          "text": [
            "Found 1248 files belonging to 3 classes.\n",
            "Using 249 files for validation.\n"
          ]
        }
      ],
      "source": [
        "raw_val_ds = tf.keras.utils.text_dataset_from_directory(\n",
        "    '/content/drive/MyDrive/TYO_NLTK/DTS3/TRAIN', \n",
        "    batch_size=batch_size, \n",
        "    validation_split=0.2, \n",
        "    subset='validation', \n",
        "    seed=seed)"
      ]
    },
    {
      "cell_type": "code",
      "execution_count": 14,
      "metadata": {
        "colab": {
          "base_uri": "https://localhost:8080/"
        },
        "id": "HrSDscr2O2pU",
        "outputId": "9f011573-521f-4098-bda3-d7e2eea8c51e"
      },
      "outputs": [
        {
          "output_type": "stream",
          "name": "stdout",
          "text": [
            "Found 315 files belonging to 3 classes.\n"
          ]
        }
      ],
      "source": [
        "raw_test_ds = tf.keras.utils.text_dataset_from_directory(\n",
        "    '/content/drive/MyDrive/TYO_NLTK/DTS3/TEST', \n",
        "    batch_size=batch_size)"
      ]
    },
    {
      "cell_type": "markdown",
      "source": [
        "## Membuat function untuk menstandarkan/ menseragamkan string input"
      ],
      "metadata": {
        "id": "PYITtbK8LWwj"
      }
    },
    {
      "cell_type": "code",
      "execution_count": 15,
      "metadata": {
        "id": "AugpXoBfPBeY"
      },
      "outputs": [],
      "source": [
        "def custom_standardization(input_data):\n",
        "  # Membuat Semua String menjadi Lower String/ huruf kecil Semua\n",
        "  lowercase = tf.strings.lower(input_data)\n",
        "  # Menghapus apabila ada html tag\n",
        "  stripped_html = tf.strings.regex_replace(lowercase, '<br />', ' ')\n",
        "  return tf.strings.regex_replace(stripped_html,\n",
        "                                  '[%s]' % re.escape(string.punctuation),\n",
        "                                  '')"
      ]
    },
    {
      "cell_type": "markdown",
      "metadata": {
        "id": "SmDjxk7fkuMU"
      },
      "source": [
        "## TEXTVECTORIZATION\n",
        "\n",
        "Adalah pre-processing sebelum proses pembelajaran yang mengubah string mentah kedalam bentuk intger yang dapat dibaca oleh lapisan berikutnya dalam Synapsis/ Layer berikutnya contoh embeding dan denses\n"
      ]
    },
    {
      "cell_type": "code",
      "execution_count": 16,
      "metadata": {
        "id": "5y2kL-Q-lSkA"
      },
      "outputs": [],
      "source": [
        "max_features = 10000\n",
        "sequence_length = 250\n",
        "\n",
        "vectorize_layer = layers.TextVectorization(\n",
        "    # Memanggil fungsi sebelumnya yang mestandarkan semua string input menjadi lower case dan menghilangkan tag html bila ada\n",
        "    standardize=custom_standardization,\n",
        "    # Memberikan batasan padding agar panjang matrix sama pada setiap masukan.\n",
        "    max_tokens=max_features,\n",
        "    # Output String akan diubah menjadi bentuk integer\n",
        "    output_mode='int',\n",
        "    output_sequence_length=sequence_length)"
      ]
    },
    {
      "cell_type": "markdown",
      "metadata": {
        "id": "EqijZrfWl449"
      },
      "source": [
        "'''\n",
        "Next, you will call adapt to fit the state of the preprocessing layer to the dataset. This will cause the model to build an index of strings to integers.\n",
        "'''"
      ]
    },
    {
      "cell_type": "code",
      "execution_count": 17,
      "metadata": {
        "id": "ulGHvGJWlgI3"
      },
      "outputs": [],
      "source": [
        "# Make a text-only dataset (without labels), then call adapt\n",
        "train_text = raw_train_ds.map(lambda x, y: x)\n",
        "vectorize_layer.adapt(train_text)\n",
        "\n",
        "\n"
      ]
    },
    {
      "cell_type": "markdown",
      "source": [
        "# Fungsi yang mengubah setiap string text input ke dalam bentuk intger dan menyimpan dalam array, dengan menggunakan vectorize_layer yang telah diset diatas."
      ],
      "metadata": {
        "id": "baE3pm5-T-rZ"
      }
    },
    {
      "cell_type": "code",
      "execution_count": 18,
      "metadata": {
        "id": "NcySBx7rl8zj"
      },
      "outputs": [],
      "source": [
        "def vectorize_text(text, label):\n",
        "  text = tf.expand_dims(text, -1)\n",
        "  return vectorize_layer(text), label"
      ]
    },
    {
      "cell_type": "code",
      "execution_count": 19,
      "metadata": {
        "colab": {
          "base_uri": "https://localhost:8080/"
        },
        "id": "KY26gx46mFXz",
        "outputId": "80c17b0c-7e2c-4dc6-c577-1c43bb8fa9a5"
      },
      "outputs": [
        {
          "output_type": "stream",
          "name": "stdout",
          "text": [
            "\n",
            "Review -> text_batch[13] tf.Tensor(b'atletico madrid buka peluang rekrut megabintang paris saintgermain', shape=(), dtype=string)\n",
            "Label -> Label_batch[13] OLA\n",
            "\n",
            "Vectorized review nya seperti ini \n",
            "\n",
            " (<tf.Tensor: shape=(1, 250), dtype=int64, numpy=\n",
            "array([[ 795,  388, 1235,  254, 1729, 2109,  994,  920,    0,    0,    0,\n",
            "           0,    0,    0,    0,    0,    0,    0,    0,    0,    0,    0,\n",
            "           0,    0,    0,    0,    0,    0,    0,    0,    0,    0,    0,\n",
            "           0,    0,    0,    0,    0,    0,    0,    0,    0,    0,    0,\n",
            "           0,    0,    0,    0,    0,    0,    0,    0,    0,    0,    0,\n",
            "           0,    0,    0,    0,    0,    0,    0,    0,    0,    0,    0,\n",
            "           0,    0,    0,    0,    0,    0,    0,    0,    0,    0,    0,\n",
            "           0,    0,    0,    0,    0,    0,    0,    0,    0,    0,    0,\n",
            "           0,    0,    0,    0,    0,    0,    0,    0,    0,    0,    0,\n",
            "           0,    0,    0,    0,    0,    0,    0,    0,    0,    0,    0,\n",
            "           0,    0,    0,    0,    0,    0,    0,    0,    0,    0,    0,\n",
            "           0,    0,    0,    0,    0,    0,    0,    0,    0,    0,    0,\n",
            "           0,    0,    0,    0,    0,    0,    0,    0,    0,    0,    0,\n",
            "           0,    0,    0,    0,    0,    0,    0,    0,    0,    0,    0,\n",
            "           0,    0,    0,    0,    0,    0,    0,    0,    0,    0,    0,\n",
            "           0,    0,    0,    0,    0,    0,    0,    0,    0,    0,    0,\n",
            "           0,    0,    0,    0,    0,    0,    0,    0,    0,    0,    0,\n",
            "           0,    0,    0,    0,    0,    0,    0,    0,    0,    0,    0,\n",
            "           0,    0,    0,    0,    0,    0,    0,    0,    0,    0,    0,\n",
            "           0,    0,    0,    0,    0,    0,    0,    0,    0,    0,    0,\n",
            "           0,    0,    0,    0,    0,    0,    0,    0,    0,    0,    0,\n",
            "           0,    0,    0,    0,    0,    0,    0,    0,    0,    0,    0,\n",
            "           0,    0,    0,    0,    0,    0,    0,    0]])>, <tf.Tensor: shape=(), dtype=int32, numpy=2>)\n"
          ]
        }
      ],
      "source": [
        "text_batch, label_batch = next(iter(raw_train_ds))\n",
        "first_review, first_label = text_batch[13], label_batch[13]\n",
        "print(\"\\nReview -> text_batch[13]\", first_review)\n",
        "print(\"Label -> Label_batch[13]\", raw_train_ds.class_names[first_label])\n",
        "print(\"\\nVectorized review nya seperti ini \\n\\n\", vectorize_text(first_review, first_label))"
      ]
    },
    {
      "cell_type": "markdown",
      "source": [
        "## Pembuktian Terbalik TEXTVECTORIZATION"
      ],
      "metadata": {
        "id": "UctZlpiLoUJ9"
      }
    },
    {
      "cell_type": "code",
      "execution_count": 20,
      "metadata": {
        "colab": {
          "base_uri": "https://localhost:8080/"
        },
        "id": "g4mQQp4zmz0q",
        "outputId": "0fe9fb87-9911-4ed0-ba54-a7b1055c2cfe"
      },
      "outputs": [
        {
          "output_type": "stream",
          "name": "stdout",
          "text": [
            "119 --->  apa\n",
            "395 --->  klasemen\n",
            "Vocabulary size: 3011\n"
          ]
        }
      ],
      "source": [
        "print(\"119 ---> \",vectorize_layer.get_vocabulary()[119])\n",
        "print(\"395 ---> \",vectorize_layer.get_vocabulary()[395])\n",
        "print('Vocabulary size: {}'.format(len(vectorize_layer.get_vocabulary())))"
      ]
    },
    {
      "cell_type": "markdown",
      "source": [
        "# Menggubah semua input train, validasi dan test kedalam bentuk integer"
      ],
      "metadata": {
        "id": "oAmWnF1MVWcg"
      }
    },
    {
      "cell_type": "code",
      "execution_count": 21,
      "metadata": {
        "id": "lEucwjQ-m_Vp"
      },
      "outputs": [],
      "source": [
        "train_ds = raw_train_ds.map(vectorize_text)\n",
        "val_ds = raw_val_ds.map(vectorize_text)\n",
        "test_ds = raw_test_ds.map(vectorize_text)"
      ]
    },
    {
      "cell_type": "code",
      "execution_count": 22,
      "metadata": {
        "id": "mIb-okwOqkk5"
      },
      "outputs": [],
      "source": [
        "# Tunning dataset train, validasi dan test dengan AUTOTUNE untuk optimisasi shape data\n",
        "AUTOTUNE = tf.data.AUTOTUNE\n",
        "\n",
        "train_ds = train_ds.cache().prefetch(buffer_size=AUTOTUNE)\n",
        "val_ds = val_ds.cache().prefetch(buffer_size=AUTOTUNE)\n",
        "test_ds = test_ds.cache().prefetch(buffer_size=AUTOTUNE)"
      ]
    },
    {
      "cell_type": "markdown",
      "source": [
        "# Layer embedding dimension kita set menjadi 16 , seperti yang sering digunakan dalam panduan, embedding ini hanya dapat digunakan pada integer positiv dan untuk memperbaiki matrix."
      ],
      "metadata": {
        "id": "I6QrFPXaWMnJ"
      }
    },
    {
      "cell_type": "code",
      "execution_count": 23,
      "metadata": {
        "id": "lG28akNvrENY"
      },
      "outputs": [],
      "source": [
        "embedding_dim = 16"
      ]
    },
    {
      "cell_type": "code",
      "execution_count": null,
      "metadata": {
        "id": "EO8LQT0jiq0I"
      },
      "outputs": [],
      "source": []
    },
    {
      "cell_type": "markdown",
      "source": [
        "## RNN MODEL "
      ],
      "metadata": {
        "id": "CU5yo7M1or1j"
      }
    },
    {
      "cell_type": "code",
      "execution_count": 24,
      "metadata": {
        "id": "X7rx6X_5rKo3",
        "colab": {
          "base_uri": "https://localhost:8080/",
          "height": 1000
        },
        "outputId": "ea62f3a4-5639-4653-e4b5-d9b04e9b601a"
      },
      "outputs": [
        {
          "output_type": "stream",
          "name": "stdout",
          "text": [
            "Model: \"sequential\"\n",
            "_________________________________________________________________\n",
            " Layer (type)                Output Shape              Param #   \n",
            "=================================================================\n",
            " embedding (Embedding)       (None, None, 16)          160016    \n",
            "                                                                 \n",
            " dropout (Dropout)           (None, None, 16)          0         \n",
            "                                                                 \n",
            " global_average_pooling1d (G  (None, 16)               0         \n",
            " lobalAveragePooling1D)                                          \n",
            "                                                                 \n",
            " dropout_1 (Dropout)         (None, 16)                0         \n",
            "                                                                 \n",
            " dense (Dense)               (None, 3)                 51        \n",
            "                                                                 \n",
            "=================================================================\n",
            "Total params: 160,067\n",
            "Trainable params: 160,067\n",
            "Non-trainable params: 0\n",
            "_________________________________________________________________\n"
          ]
        },
        {
          "output_type": "execute_result",
          "data": {
            "image/png": "[encoded data removed]",
            "text/plain": [
              "<IPython.core.display.Image object>"
            ]
          },
          "metadata": {},
          "execution_count": 24
        }
      ],
      "source": [
        "model = tf.keras.Sequential([\n",
        "  layers.Embedding(max_features + 1, embedding_dim),\n",
        "  layers.Dropout(0.2),\n",
        "  layers.GlobalAveragePooling1D(),\n",
        "  layers.Dropout(0.2),\n",
        "  layers.Dense(3)])\n",
        "\n",
        "model.summary()\n",
        "\n",
        "\n",
        "\n",
        "img_file = 'model_arch.png'\n",
        "tf.keras.utils.plot_model(model, to_file=img_file, show_shapes=True, show_layer_names=True)"
      ]
    },
    {
      "cell_type": "code",
      "execution_count": null,
      "metadata": {
        "id": "59mEoZIlujif"
      },
      "outputs": [],
      "source": [
        "#model.compile(loss=losses.SparseCategoricalCrossentropy(from_logits=True),\n",
        "#              optimizer='adam',\n",
        "#              metrics=tf.metrics.Accuracy())\n",
        "\n",
        "\n"
      ]
    },
    {
      "cell_type": "code",
      "execution_count": 25,
      "metadata": {
        "id": "ZZ4gSBNyyBgl"
      },
      "outputs": [],
      "source": [
        "model.compile(loss = losses.SparseCategoricalCrossentropy(from_logits=True), optimizer = 'adam', metrics = ['accuracy'])"
      ]
    },
    {
      "cell_type": "code",
      "source": [
        "early_stopping = EarlyStopping(monitor='val_loss',patience=5)\n",
        "checkpoint = ModelCheckpoint(filepath='BEST_AJA.h5',save_best_only=True, save_weights_only=True)"
      ],
      "metadata": {
        "id": "ym0SqBxHfw3D"
      },
      "execution_count": 26,
      "outputs": []
    },
    {
      "cell_type": "code",
      "execution_count": 27,
      "metadata": {
        "colab": {
          "base_uri": "https://localhost:8080/"
        },
        "id": "S4gEVVopw1Di",
        "outputId": "e5b263b0-7580-40e2-b101-516ac8b80e38"
      },
      "outputs": [
        {
          "output_type": "stream",
          "name": "stdout",
          "text": [
            "Epoch 1/150\n",
            "32/32 [==============================] - 43s 1s/step - loss: 1.0989 - accuracy: 0.3093 - val_loss: 1.0980 - val_accuracy: 0.3133\n",
            "Epoch 2/150\n",
            "32/32 [==============================] - 0s 5ms/step - loss: 1.0963 - accuracy: 0.3724 - val_loss: 1.0983 - val_accuracy: 0.3092\n",
            "Epoch 3/150\n",
            "32/32 [==============================] - 0s 4ms/step - loss: 1.0958 - accuracy: 0.3594 - val_loss: 1.0983 - val_accuracy: 0.3092\n",
            "Epoch 4/150\n",
            "32/32 [==============================] - 0s 5ms/step - loss: 1.0956 - accuracy: 0.3574 - val_loss: 1.0979 - val_accuracy: 0.3092\n",
            "Epoch 5/150\n",
            "32/32 [==============================] - 0s 5ms/step - loss: 1.0940 - accuracy: 0.3784 - val_loss: 1.0974 - val_accuracy: 0.3092\n",
            "Epoch 6/150\n",
            "32/32 [==============================] - 0s 5ms/step - loss: 1.0928 - accuracy: 0.3834 - val_loss: 1.0967 - val_accuracy: 0.3092\n",
            "Epoch 7/150\n",
            "32/32 [==============================] - 0s 5ms/step - loss: 1.0913 - accuracy: 0.3984 - val_loss: 1.0957 - val_accuracy: 0.3092\n",
            "Epoch 8/150\n",
            "32/32 [==============================] - 0s 5ms/step - loss: 1.0897 - accuracy: 0.3954 - val_loss: 1.0940 - val_accuracy: 0.3173\n",
            "Epoch 9/150\n",
            "32/32 [==============================] - 0s 5ms/step - loss: 1.0878 - accuracy: 0.4234 - val_loss: 1.0926 - val_accuracy: 0.3775\n",
            "Epoch 10/150\n",
            "32/32 [==============================] - 0s 5ms/step - loss: 1.0863 - accuracy: 0.4575 - val_loss: 1.0910 - val_accuracy: 0.3655\n",
            "Epoch 11/150\n",
            "32/32 [==============================] - 0s 5ms/step - loss: 1.0830 - accuracy: 0.4675 - val_loss: 1.0899 - val_accuracy: 0.3373\n",
            "Epoch 12/150\n",
            "32/32 [==============================] - 0s 5ms/step - loss: 1.0813 - accuracy: 0.4474 - val_loss: 1.0875 - val_accuracy: 0.3655\n",
            "Epoch 13/150\n",
            "32/32 [==============================] - 0s 6ms/step - loss: 1.0792 - accuracy: 0.4825 - val_loss: 1.0852 - val_accuracy: 0.4217\n",
            "Epoch 14/150\n",
            "32/32 [==============================] - 0s 5ms/step - loss: 1.0755 - accuracy: 0.5465 - val_loss: 1.0831 - val_accuracy: 0.4819\n",
            "Epoch 15/150\n",
            "32/32 [==============================] - 0s 5ms/step - loss: 1.0726 - accuracy: 0.5756 - val_loss: 1.0797 - val_accuracy: 0.5703\n",
            "Epoch 16/150\n",
            "32/32 [==============================] - 0s 5ms/step - loss: 1.0691 - accuracy: 0.6246 - val_loss: 1.0763 - val_accuracy: 0.6064\n",
            "Epoch 17/150\n",
            "32/32 [==============================] - 0s 5ms/step - loss: 1.0634 - accuracy: 0.6476 - val_loss: 1.0737 - val_accuracy: 0.6064\n",
            "Epoch 18/150\n",
            "32/32 [==============================] - 0s 5ms/step - loss: 1.0591 - accuracy: 0.6446 - val_loss: 1.0703 - val_accuracy: 0.5904\n",
            "Epoch 19/150\n",
            "32/32 [==============================] - 0s 5ms/step - loss: 1.0553 - accuracy: 0.6416 - val_loss: 1.0662 - val_accuracy: 0.6305\n",
            "Epoch 20/150\n",
            "32/32 [==============================] - 0s 5ms/step - loss: 1.0504 - accuracy: 0.7147 - val_loss: 1.0610 - val_accuracy: 0.7590\n",
            "Epoch 21/150\n",
            "32/32 [==============================] - 0s 5ms/step - loss: 1.0458 - accuracy: 0.7708 - val_loss: 1.0565 - val_accuracy: 0.7992\n",
            "Epoch 22/150\n",
            "32/32 [==============================] - 0s 5ms/step - loss: 1.0362 - accuracy: 0.8058 - val_loss: 1.0514 - val_accuracy: 0.7831\n",
            "Epoch 23/150\n",
            "32/32 [==============================] - 0s 5ms/step - loss: 1.0320 - accuracy: 0.7948 - val_loss: 1.0461 - val_accuracy: 0.7751\n",
            "Epoch 24/150\n",
            "32/32 [==============================] - 0s 5ms/step - loss: 1.0239 - accuracy: 0.8248 - val_loss: 1.0410 - val_accuracy: 0.8112\n",
            "Epoch 25/150\n",
            "32/32 [==============================] - 0s 6ms/step - loss: 1.0156 - accuracy: 0.8539 - val_loss: 1.0345 - val_accuracy: 0.8635\n",
            "Epoch 26/150\n",
            "32/32 [==============================] - 0s 5ms/step - loss: 1.0101 - accuracy: 0.8759 - val_loss: 1.0277 - val_accuracy: 0.9076\n",
            "Epoch 27/150\n",
            "32/32 [==============================] - 0s 4ms/step - loss: 1.0008 - accuracy: 0.8959 - val_loss: 1.0218 - val_accuracy: 0.8916\n",
            "Epoch 28/150\n",
            "32/32 [==============================] - 0s 5ms/step - loss: 0.9920 - accuracy: 0.9089 - val_loss: 1.0142 - val_accuracy: 0.9157\n",
            "Epoch 29/150\n",
            "32/32 [==============================] - 0s 5ms/step - loss: 0.9859 - accuracy: 0.9089 - val_loss: 1.0069 - val_accuracy: 0.9237\n",
            "Epoch 30/150\n",
            "32/32 [==============================] - 0s 5ms/step - loss: 0.9724 - accuracy: 0.9299 - val_loss: 0.9997 - val_accuracy: 0.9237\n",
            "Epoch 31/150\n",
            "32/32 [==============================] - 0s 5ms/step - loss: 0.9651 - accuracy: 0.9239 - val_loss: 0.9918 - val_accuracy: 0.9237\n",
            "Epoch 32/150\n",
            "32/32 [==============================] - 0s 6ms/step - loss: 0.9559 - accuracy: 0.9259 - val_loss: 0.9842 - val_accuracy: 0.9237\n",
            "Epoch 33/150\n",
            "32/32 [==============================] - 0s 5ms/step - loss: 0.9471 - accuracy: 0.9289 - val_loss: 0.9764 - val_accuracy: 0.9237\n",
            "Epoch 34/150\n",
            "32/32 [==============================] - 0s 5ms/step - loss: 0.9340 - accuracy: 0.9530 - val_loss: 0.9674 - val_accuracy: 0.9277\n",
            "Epoch 35/150\n",
            "32/32 [==============================] - 0s 5ms/step - loss: 0.9244 - accuracy: 0.9550 - val_loss: 0.9585 - val_accuracy: 0.9277\n",
            "Epoch 36/150\n",
            "32/32 [==============================] - 0s 5ms/step - loss: 0.9111 - accuracy: 0.9570 - val_loss: 0.9492 - val_accuracy: 0.9237\n",
            "Epoch 37/150\n",
            "32/32 [==============================] - 0s 5ms/step - loss: 0.8985 - accuracy: 0.9610 - val_loss: 0.9406 - val_accuracy: 0.9317\n",
            "Epoch 38/150\n",
            "32/32 [==============================] - 0s 6ms/step - loss: 0.8889 - accuracy: 0.9650 - val_loss: 0.9318 - val_accuracy: 0.9197\n",
            "Epoch 39/150\n",
            "32/32 [==============================] - 0s 8ms/step - loss: 0.8838 - accuracy: 0.9499 - val_loss: 0.9219 - val_accuracy: 0.9277\n",
            "Epoch 40/150\n",
            "32/32 [==============================] - 0s 8ms/step - loss: 0.8659 - accuracy: 0.9630 - val_loss: 0.9128 - val_accuracy: 0.9197\n",
            "Epoch 41/150\n",
            "32/32 [==============================] - 0s 9ms/step - loss: 0.8546 - accuracy: 0.9640 - val_loss: 0.9024 - val_accuracy: 0.9277\n",
            "Epoch 42/150\n",
            "32/32 [==============================] - 0s 9ms/step - loss: 0.8428 - accuracy: 0.9700 - val_loss: 0.8936 - val_accuracy: 0.9197\n",
            "Epoch 43/150\n",
            "32/32 [==============================] - 0s 9ms/step - loss: 0.8322 - accuracy: 0.9680 - val_loss: 0.8832 - val_accuracy: 0.9237\n",
            "Epoch 44/150\n",
            "32/32 [==============================] - 0s 7ms/step - loss: 0.8205 - accuracy: 0.9750 - val_loss: 0.8730 - val_accuracy: 0.9398\n",
            "Epoch 45/150\n",
            "32/32 [==============================] - 0s 7ms/step - loss: 0.8061 - accuracy: 0.9700 - val_loss: 0.8631 - val_accuracy: 0.9357\n",
            "Epoch 46/150\n",
            "32/32 [==============================] - 0s 9ms/step - loss: 0.7943 - accuracy: 0.9730 - val_loss: 0.8526 - val_accuracy: 0.9398\n",
            "Epoch 47/150\n",
            "32/32 [==============================] - 0s 5ms/step - loss: 0.7821 - accuracy: 0.9710 - val_loss: 0.8428 - val_accuracy: 0.9277\n",
            "Epoch 48/150\n",
            "32/32 [==============================] - 0s 5ms/step - loss: 0.7693 - accuracy: 0.9750 - val_loss: 0.8330 - val_accuracy: 0.9277\n",
            "Epoch 49/150\n",
            "32/32 [==============================] - 0s 5ms/step - loss: 0.7534 - accuracy: 0.9760 - val_loss: 0.8224 - val_accuracy: 0.9317\n",
            "Epoch 50/150\n",
            "32/32 [==============================] - 0s 6ms/step - loss: 0.7429 - accuracy: 0.9730 - val_loss: 0.8127 - val_accuracy: 0.9237\n",
            "Epoch 51/150\n",
            "32/32 [==============================] - 0s 5ms/step - loss: 0.7334 - accuracy: 0.9720 - val_loss: 0.8022 - val_accuracy: 0.9317\n",
            "Epoch 52/150\n",
            "32/32 [==============================] - 0s 6ms/step - loss: 0.7179 - accuracy: 0.9730 - val_loss: 0.7916 - val_accuracy: 0.9357\n",
            "Epoch 53/150\n",
            "32/32 [==============================] - 0s 6ms/step - loss: 0.7032 - accuracy: 0.9770 - val_loss: 0.7810 - val_accuracy: 0.9317\n",
            "Epoch 54/150\n",
            "32/32 [==============================] - 0s 5ms/step - loss: 0.6950 - accuracy: 0.9740 - val_loss: 0.7718 - val_accuracy: 0.9357\n",
            "Epoch 55/150\n",
            "32/32 [==============================] - 0s 5ms/step - loss: 0.6807 - accuracy: 0.9810 - val_loss: 0.7610 - val_accuracy: 0.9398\n",
            "Epoch 56/150\n",
            "32/32 [==============================] - 0s 5ms/step - loss: 0.6689 - accuracy: 0.9790 - val_loss: 0.7508 - val_accuracy: 0.9398\n",
            "Epoch 57/150\n",
            "32/32 [==============================] - 0s 6ms/step - loss: 0.6567 - accuracy: 0.9770 - val_loss: 0.7417 - val_accuracy: 0.9398\n",
            "Epoch 58/150\n",
            "32/32 [==============================] - 0s 5ms/step - loss: 0.6434 - accuracy: 0.9750 - val_loss: 0.7317 - val_accuracy: 0.9398\n",
            "Epoch 59/150\n",
            "32/32 [==============================] - 0s 5ms/step - loss: 0.6350 - accuracy: 0.9820 - val_loss: 0.7218 - val_accuracy: 0.9317\n",
            "Epoch 60/150\n",
            "32/32 [==============================] - 0s 5ms/step - loss: 0.6189 - accuracy: 0.9780 - val_loss: 0.7122 - val_accuracy: 0.9398\n",
            "Epoch 61/150\n",
            "32/32 [==============================] - 0s 9ms/step - loss: 0.6057 - accuracy: 0.9820 - val_loss: 0.7027 - val_accuracy: 0.9398\n",
            "Epoch 62/150\n",
            "32/32 [==============================] - 0s 11ms/step - loss: 0.5960 - accuracy: 0.9780 - val_loss: 0.6931 - val_accuracy: 0.9357\n",
            "Epoch 63/150\n",
            "32/32 [==============================] - 0s 5ms/step - loss: 0.5852 - accuracy: 0.9780 - val_loss: 0.6837 - val_accuracy: 0.9398\n",
            "Epoch 64/150\n",
            "32/32 [==============================] - 0s 5ms/step - loss: 0.5765 - accuracy: 0.9780 - val_loss: 0.6741 - val_accuracy: 0.9398\n",
            "Epoch 65/150\n",
            "32/32 [==============================] - 0s 5ms/step - loss: 0.5636 - accuracy: 0.9790 - val_loss: 0.6654 - val_accuracy: 0.9398\n",
            "Epoch 66/150\n",
            "32/32 [==============================] - 0s 5ms/step - loss: 0.5517 - accuracy: 0.9850 - val_loss: 0.6560 - val_accuracy: 0.9398\n",
            "Epoch 67/150\n",
            "32/32 [==============================] - 0s 5ms/step - loss: 0.5446 - accuracy: 0.9810 - val_loss: 0.6469 - val_accuracy: 0.9398\n",
            "Epoch 68/150\n",
            "32/32 [==============================] - 0s 5ms/step - loss: 0.5338 - accuracy: 0.9810 - val_loss: 0.6377 - val_accuracy: 0.9398\n",
            "Epoch 69/150\n",
            "32/32 [==============================] - 0s 6ms/step - loss: 0.5212 - accuracy: 0.9850 - val_loss: 0.6295 - val_accuracy: 0.9398\n",
            "Epoch 70/150\n",
            "32/32 [==============================] - 0s 6ms/step - loss: 0.5118 - accuracy: 0.9830 - val_loss: 0.6208 - val_accuracy: 0.9398\n",
            "Epoch 71/150\n",
            "32/32 [==============================] - 0s 5ms/step - loss: 0.5049 - accuracy: 0.9830 - val_loss: 0.6121 - val_accuracy: 0.9398\n",
            "Epoch 72/150\n",
            "32/32 [==============================] - 0s 5ms/step - loss: 0.4918 - accuracy: 0.9840 - val_loss: 0.6040 - val_accuracy: 0.9398\n",
            "Epoch 73/150\n",
            "32/32 [==============================] - 0s 5ms/step - loss: 0.4845 - accuracy: 0.9860 - val_loss: 0.5955 - val_accuracy: 0.9398\n",
            "Epoch 74/150\n",
            "32/32 [==============================] - 0s 6ms/step - loss: 0.4775 - accuracy: 0.9830 - val_loss: 0.5878 - val_accuracy: 0.9398\n",
            "Epoch 75/150\n",
            "32/32 [==============================] - 0s 5ms/step - loss: 0.4632 - accuracy: 0.9830 - val_loss: 0.5801 - val_accuracy: 0.9398\n",
            "Epoch 76/150\n",
            "32/32 [==============================] - 0s 5ms/step - loss: 0.4586 - accuracy: 0.9860 - val_loss: 0.5720 - val_accuracy: 0.9398\n",
            "Epoch 77/150\n",
            "32/32 [==============================] - 0s 5ms/step - loss: 0.4478 - accuracy: 0.9830 - val_loss: 0.5639 - val_accuracy: 0.9478\n",
            "Epoch 78/150\n",
            "32/32 [==============================] - 0s 5ms/step - loss: 0.4389 - accuracy: 0.9840 - val_loss: 0.5574 - val_accuracy: 0.9398\n",
            "Epoch 79/150\n",
            "32/32 [==============================] - 0s 5ms/step - loss: 0.4273 - accuracy: 0.9850 - val_loss: 0.5494 - val_accuracy: 0.9398\n",
            "Epoch 80/150\n",
            "32/32 [==============================] - 0s 6ms/step - loss: 0.4212 - accuracy: 0.9860 - val_loss: 0.5424 - val_accuracy: 0.9398\n",
            "Epoch 81/150\n",
            "32/32 [==============================] - 0s 6ms/step - loss: 0.4133 - accuracy: 0.9830 - val_loss: 0.5356 - val_accuracy: 0.9398\n",
            "Epoch 82/150\n",
            "32/32 [==============================] - 0s 9ms/step - loss: 0.4010 - accuracy: 0.9850 - val_loss: 0.5286 - val_accuracy: 0.9398\n",
            "Epoch 83/150\n",
            "32/32 [==============================] - 0s 9ms/step - loss: 0.3951 - accuracy: 0.9860 - val_loss: 0.5214 - val_accuracy: 0.9438\n",
            "Epoch 84/150\n",
            "32/32 [==============================] - 0s 8ms/step - loss: 0.3918 - accuracy: 0.9860 - val_loss: 0.5150 - val_accuracy: 0.9398\n",
            "Epoch 85/150\n",
            "32/32 [==============================] - 0s 7ms/step - loss: 0.3825 - accuracy: 0.9880 - val_loss: 0.5080 - val_accuracy: 0.9438\n",
            "Epoch 86/150\n",
            "32/32 [==============================] - 0s 8ms/step - loss: 0.3769 - accuracy: 0.9870 - val_loss: 0.5021 - val_accuracy: 0.9398\n",
            "Epoch 87/150\n",
            "32/32 [==============================] - 0s 8ms/step - loss: 0.3655 - accuracy: 0.9870 - val_loss: 0.4960 - val_accuracy: 0.9438\n",
            "Epoch 88/150\n",
            "32/32 [==============================] - 0s 9ms/step - loss: 0.3623 - accuracy: 0.9850 - val_loss: 0.4895 - val_accuracy: 0.9438\n",
            "Epoch 89/150\n",
            "32/32 [==============================] - 0s 8ms/step - loss: 0.3519 - accuracy: 0.9890 - val_loss: 0.4832 - val_accuracy: 0.9478\n",
            "Epoch 90/150\n",
            "32/32 [==============================] - 0s 6ms/step - loss: 0.3438 - accuracy: 0.9870 - val_loss: 0.4779 - val_accuracy: 0.9398\n",
            "Epoch 91/150\n",
            "32/32 [==============================] - 0s 5ms/step - loss: 0.3440 - accuracy: 0.9890 - val_loss: 0.4713 - val_accuracy: 0.9518\n",
            "Epoch 92/150\n",
            "32/32 [==============================] - 0s 6ms/step - loss: 0.3347 - accuracy: 0.9880 - val_loss: 0.4665 - val_accuracy: 0.9438\n",
            "Epoch 93/150\n",
            "32/32 [==============================] - 0s 5ms/step - loss: 0.3284 - accuracy: 0.9880 - val_loss: 0.4610 - val_accuracy: 0.9478\n",
            "Epoch 94/150\n",
            "32/32 [==============================] - 0s 5ms/step - loss: 0.3244 - accuracy: 0.9890 - val_loss: 0.4550 - val_accuracy: 0.9478\n",
            "Epoch 95/150\n",
            "32/32 [==============================] - 0s 5ms/step - loss: 0.3141 - accuracy: 0.9870 - val_loss: 0.4496 - val_accuracy: 0.9478\n",
            "Epoch 96/150\n",
            "32/32 [==============================] - 0s 5ms/step - loss: 0.3097 - accuracy: 0.9900 - val_loss: 0.4445 - val_accuracy: 0.9478\n",
            "Epoch 97/150\n",
            "32/32 [==============================] - 0s 5ms/step - loss: 0.3050 - accuracy: 0.9890 - val_loss: 0.4393 - val_accuracy: 0.9478\n",
            "Epoch 98/150\n",
            "32/32 [==============================] - 0s 5ms/step - loss: 0.2987 - accuracy: 0.9890 - val_loss: 0.4339 - val_accuracy: 0.9518\n",
            "Epoch 99/150\n",
            "32/32 [==============================] - 0s 6ms/step - loss: 0.2956 - accuracy: 0.9890 - val_loss: 0.4293 - val_accuracy: 0.9478\n",
            "Epoch 100/150\n",
            "32/32 [==============================] - 0s 5ms/step - loss: 0.2887 - accuracy: 0.9870 - val_loss: 0.4244 - val_accuracy: 0.9478\n",
            "Epoch 101/150\n",
            "32/32 [==============================] - 0s 6ms/step - loss: 0.2817 - accuracy: 0.9900 - val_loss: 0.4197 - val_accuracy: 0.9478\n",
            "Epoch 102/150\n",
            "32/32 [==============================] - 0s 6ms/step - loss: 0.2800 - accuracy: 0.9910 - val_loss: 0.4155 - val_accuracy: 0.9438\n",
            "Epoch 103/150\n",
            "32/32 [==============================] - 0s 5ms/step - loss: 0.2754 - accuracy: 0.9910 - val_loss: 0.4105 - val_accuracy: 0.9478\n",
            "Epoch 104/150\n",
            "32/32 [==============================] - 0s 5ms/step - loss: 0.2665 - accuracy: 0.9890 - val_loss: 0.4059 - val_accuracy: 0.9478\n",
            "Epoch 105/150\n",
            "32/32 [==============================] - 0s 5ms/step - loss: 0.2651 - accuracy: 0.9880 - val_loss: 0.4015 - val_accuracy: 0.9478\n",
            "Epoch 106/150\n",
            "32/32 [==============================] - 0s 5ms/step - loss: 0.2548 - accuracy: 0.9930 - val_loss: 0.3975 - val_accuracy: 0.9438\n",
            "Epoch 107/150\n",
            "32/32 [==============================] - 0s 5ms/step - loss: 0.2542 - accuracy: 0.9890 - val_loss: 0.3935 - val_accuracy: 0.9438\n",
            "Epoch 108/150\n",
            "32/32 [==============================] - 0s 5ms/step - loss: 0.2495 - accuracy: 0.9890 - val_loss: 0.3898 - val_accuracy: 0.9438\n",
            "Epoch 109/150\n",
            "32/32 [==============================] - 0s 5ms/step - loss: 0.2458 - accuracy: 0.9890 - val_loss: 0.3851 - val_accuracy: 0.9478\n",
            "Epoch 110/150\n",
            "32/32 [==============================] - 0s 5ms/step - loss: 0.2410 - accuracy: 0.9890 - val_loss: 0.3813 - val_accuracy: 0.9518\n",
            "Epoch 111/150\n",
            "32/32 [==============================] - 0s 5ms/step - loss: 0.2394 - accuracy: 0.9910 - val_loss: 0.3775 - val_accuracy: 0.9478\n",
            "Epoch 112/150\n",
            "32/32 [==============================] - 0s 5ms/step - loss: 0.2317 - accuracy: 0.9940 - val_loss: 0.3737 - val_accuracy: 0.9478\n",
            "Epoch 113/150\n",
            "32/32 [==============================] - 0s 6ms/step - loss: 0.2273 - accuracy: 0.9910 - val_loss: 0.3703 - val_accuracy: 0.9438\n",
            "Epoch 114/150\n",
            "32/32 [==============================] - 0s 6ms/step - loss: 0.2240 - accuracy: 0.9910 - val_loss: 0.3661 - val_accuracy: 0.9518\n",
            "Epoch 115/150\n",
            "32/32 [==============================] - 0s 5ms/step - loss: 0.2205 - accuracy: 0.9900 - val_loss: 0.3626 - val_accuracy: 0.9478\n",
            "Epoch 116/150\n",
            "32/32 [==============================] - 0s 6ms/step - loss: 0.2169 - accuracy: 0.9920 - val_loss: 0.3595 - val_accuracy: 0.9518\n",
            "Epoch 117/150\n",
            "32/32 [==============================] - 0s 5ms/step - loss: 0.2135 - accuracy: 0.9910 - val_loss: 0.3557 - val_accuracy: 0.9518\n",
            "Epoch 118/150\n",
            "32/32 [==============================] - 0s 5ms/step - loss: 0.2104 - accuracy: 0.9930 - val_loss: 0.3527 - val_accuracy: 0.9478\n",
            "Epoch 119/150\n",
            "32/32 [==============================] - 0s 5ms/step - loss: 0.2067 - accuracy: 0.9880 - val_loss: 0.3491 - val_accuracy: 0.9478\n",
            "Epoch 120/150\n",
            "32/32 [==============================] - 0s 6ms/step - loss: 0.2052 - accuracy: 0.9910 - val_loss: 0.3460 - val_accuracy: 0.9518\n",
            "Epoch 121/150\n",
            "32/32 [==============================] - 0s 5ms/step - loss: 0.1966 - accuracy: 0.9890 - val_loss: 0.3425 - val_accuracy: 0.9518\n",
            "Epoch 122/150\n",
            "32/32 [==============================] - 0s 5ms/step - loss: 0.2001 - accuracy: 0.9910 - val_loss: 0.3396 - val_accuracy: 0.9478\n",
            "Epoch 123/150\n",
            "32/32 [==============================] - 0s 8ms/step - loss: 0.1908 - accuracy: 0.9920 - val_loss: 0.3366 - val_accuracy: 0.9478\n",
            "Epoch 124/150\n",
            "32/32 [==============================] - 0s 7ms/step - loss: 0.1866 - accuracy: 0.9920 - val_loss: 0.3339 - val_accuracy: 0.9478\n",
            "Epoch 125/150\n",
            "32/32 [==============================] - 0s 7ms/step - loss: 0.1844 - accuracy: 0.9940 - val_loss: 0.3306 - val_accuracy: 0.9518\n",
            "Epoch 126/150\n",
            "32/32 [==============================] - 0s 7ms/step - loss: 0.1807 - accuracy: 0.9920 - val_loss: 0.3281 - val_accuracy: 0.9478\n",
            "Epoch 127/150\n",
            "32/32 [==============================] - 0s 9ms/step - loss: 0.1810 - accuracy: 0.9910 - val_loss: 0.3249 - val_accuracy: 0.9518\n",
            "Epoch 128/150\n",
            "32/32 [==============================] - 0s 10ms/step - loss: 0.1791 - accuracy: 0.9940 - val_loss: 0.3221 - val_accuracy: 0.9518\n",
            "Epoch 129/150\n",
            "32/32 [==============================] - 0s 11ms/step - loss: 0.1742 - accuracy: 0.9940 - val_loss: 0.3195 - val_accuracy: 0.9518\n",
            "Epoch 130/150\n",
            "32/32 [==============================] - 0s 10ms/step - loss: 0.1721 - accuracy: 0.9930 - val_loss: 0.3170 - val_accuracy: 0.9518\n",
            "Epoch 131/150\n",
            "32/32 [==============================] - 0s 11ms/step - loss: 0.1702 - accuracy: 0.9950 - val_loss: 0.3142 - val_accuracy: 0.9518\n",
            "Epoch 132/150\n",
            "32/32 [==============================] - 0s 8ms/step - loss: 0.1668 - accuracy: 0.9920 - val_loss: 0.3117 - val_accuracy: 0.9518\n",
            "Epoch 133/150\n",
            "32/32 [==============================] - 0s 9ms/step - loss: 0.1612 - accuracy: 0.9950 - val_loss: 0.3092 - val_accuracy: 0.9518\n",
            "Epoch 134/150\n",
            "32/32 [==============================] - 0s 7ms/step - loss: 0.1606 - accuracy: 0.9920 - val_loss: 0.3069 - val_accuracy: 0.9518\n",
            "Epoch 135/150\n",
            "32/32 [==============================] - 0s 9ms/step - loss: 0.1566 - accuracy: 0.9960 - val_loss: 0.3041 - val_accuracy: 0.9518\n",
            "Epoch 136/150\n",
            "32/32 [==============================] - 0s 5ms/step - loss: 0.1545 - accuracy: 0.9940 - val_loss: 0.3018 - val_accuracy: 0.9518\n",
            "Epoch 137/150\n",
            "32/32 [==============================] - 0s 5ms/step - loss: 0.1537 - accuracy: 0.9920 - val_loss: 0.2995 - val_accuracy: 0.9518\n",
            "Epoch 138/150\n",
            "32/32 [==============================] - 0s 5ms/step - loss: 0.1481 - accuracy: 0.9940 - val_loss: 0.2974 - val_accuracy: 0.9518\n",
            "Epoch 139/150\n",
            "32/32 [==============================] - 0s 5ms/step - loss: 0.1487 - accuracy: 0.9930 - val_loss: 0.2952 - val_accuracy: 0.9598\n",
            "Epoch 140/150\n",
            "32/32 [==============================] - 0s 5ms/step - loss: 0.1444 - accuracy: 0.9950 - val_loss: 0.2929 - val_accuracy: 0.9518\n",
            "Epoch 141/150\n",
            "32/32 [==============================] - 0s 5ms/step - loss: 0.1458 - accuracy: 0.9960 - val_loss: 0.2907 - val_accuracy: 0.9518\n",
            "Epoch 142/150\n",
            "32/32 [==============================] - 0s 5ms/step - loss: 0.1379 - accuracy: 0.9960 - val_loss: 0.2886 - val_accuracy: 0.9518\n",
            "Epoch 143/150\n",
            "32/32 [==============================] - 0s 5ms/step - loss: 0.1370 - accuracy: 0.9960 - val_loss: 0.2869 - val_accuracy: 0.9518\n",
            "Epoch 144/150\n",
            "32/32 [==============================] - 0s 5ms/step - loss: 0.1367 - accuracy: 0.9960 - val_loss: 0.2845 - val_accuracy: 0.9558\n",
            "Epoch 145/150\n",
            "32/32 [==============================] - 0s 5ms/step - loss: 0.1346 - accuracy: 0.9950 - val_loss: 0.2824 - val_accuracy: 0.9518\n",
            "Epoch 146/150\n",
            "32/32 [==============================] - 0s 5ms/step - loss: 0.1330 - accuracy: 0.9960 - val_loss: 0.2806 - val_accuracy: 0.9518\n",
            "Epoch 147/150\n",
            "32/32 [==============================] - 0s 5ms/step - loss: 0.1305 - accuracy: 0.9960 - val_loss: 0.2786 - val_accuracy: 0.9558\n",
            "Epoch 148/150\n",
            "32/32 [==============================] - 0s 6ms/step - loss: 0.1273 - accuracy: 0.9930 - val_loss: 0.2765 - val_accuracy: 0.9518\n",
            "Epoch 149/150\n",
            "32/32 [==============================] - 0s 5ms/step - loss: 0.1278 - accuracy: 0.9960 - val_loss: 0.2747 - val_accuracy: 0.9518\n",
            "Epoch 150/150\n",
            "32/32 [==============================] - 0s 5ms/step - loss: 0.1232 - accuracy: 0.9950 - val_loss: 0.2732 - val_accuracy: 0.9558\n"
          ]
        }
      ],
      "source": [
        "epochs = 150\n",
        "history = model.fit(\n",
        "    train_ds,\n",
        "    validation_data=val_ds,\n",
        "    epochs=epochs,\n",
        "    callbacks=[early_stopping,checkpoint])"
      ]
    },
    {
      "cell_type": "code",
      "source": [
        "model.save('/content/drive/MyDrive/NLP_MODEL/TYO_05_1500_DATASET_MODEL.h5')"
      ],
      "metadata": {
        "id": "zvNWlry8sfDp"
      },
      "execution_count": 29,
      "outputs": []
    },
    {
      "cell_type": "code",
      "execution_count": 28,
      "metadata": {
        "colab": {
          "base_uri": "https://localhost:8080/"
        },
        "id": "-zzNKpPQyqfP",
        "outputId": "bfa8e8e4-7ab0-44a0-f48f-7920b7c9524a"
      },
      "outputs": [
        {
          "output_type": "stream",
          "name": "stdout",
          "text": [
            "10/10 [==============================] - 32s 290ms/step - loss: 0.3252 - accuracy: 0.9079\n",
            "Loss:  0.3251834511756897\n",
            "Accuracy:  0.9079365134239197\n"
          ]
        }
      ],
      "source": [
        "loss, accuracy = model.evaluate(test_ds)\n",
        "\n",
        "print(\"Loss: \", loss)\n",
        "print(\"Accuracy: \", accuracy)"
      ]
    },
    {
      "cell_type": "code",
      "execution_count": 30,
      "metadata": {
        "colab": {
          "base_uri": "https://localhost:8080/"
        },
        "id": "yHnCO_T5y3PP",
        "outputId": "7ed9e7dc-f588-4655-9d45-2f753526a678"
      },
      "outputs": [
        {
          "output_type": "execute_result",
          "data": {
            "text/plain": [
              "dict_keys(['loss', 'accuracy', 'val_loss', 'val_accuracy'])"
            ]
          },
          "metadata": {},
          "execution_count": 30
        }
      ],
      "source": [
        "history_dict = history.history\n",
        "history_dict.keys()"
      ]
    },
    {
      "cell_type": "code",
      "execution_count": 31,
      "metadata": {
        "colab": {
          "base_uri": "https://localhost:8080/",
          "height": 472
        },
        "id": "WOaRHa-LzKZW",
        "outputId": "21576ab5-f90a-48ab-a1f8-c66ea50db160"
      },
      "outputs": [
        {
          "output_type": "display_data",
          "data": {
            "text/plain": [
              "<Figure size 640x480 with 1 Axes>"
            ],
            "image/png": "[encoded data removed]"
          },
          "metadata": {}
        }
      ],
      "source": [
        "acc = history_dict['accuracy']\n",
        "val_acc = history_dict['val_accuracy']\n",
        "loss = history_dict['loss']\n",
        "val_loss = history_dict['val_loss']\n",
        "\n",
        "epochs = range(1, len(acc) + 1)\n",
        "\n",
        "# \"bo\" is for \"blue dot\"\n",
        "plt.plot(epochs, loss, 'bo', label='Training loss')\n",
        "# b is for \"solid blue line\"\n",
        "plt.plot(epochs, val_loss, 'b', label='Validation loss')\n",
        "plt.title('Training and validation loss')\n",
        "plt.xlabel('Epochs')\n",
        "plt.ylabel('Loss')\n",
        "plt.legend()\n",
        "\n",
        "plt.show()"
      ]
    },
    {
      "cell_type": "code",
      "execution_count": 32,
      "metadata": {
        "colab": {
          "base_uri": "https://localhost:8080/",
          "height": 472
        },
        "id": "Y6yr7YCyzRPz",
        "outputId": "9c13c3a3-2dfd-4bd9-cf5b-e8f6ca56ff52"
      },
      "outputs": [
        {
          "output_type": "display_data",
          "data": {
            "text/plain": [
              "<Figure size 640x480 with 1 Axes>"
            ],
            "image/png": "[encoded data removed]"
          },
          "metadata": {}
        }
      ],
      "source": [
        "plt.plot(epochs, acc, 'bo', label='Training acc')\n",
        "plt.plot(epochs, val_acc, 'b', label='Validation acc')\n",
        "plt.title('Training and validation accuracy')\n",
        "plt.xlabel('Epochs')\n",
        "plt.ylabel('Accuracy')\n",
        "plt.legend(loc='lower right')\n",
        "\n",
        "plt.show()"
      ]
    },
    {
      "cell_type": "code",
      "execution_count": 33,
      "metadata": {
        "colab": {
          "base_uri": "https://localhost:8080/"
        },
        "id": "1JG4H59HzcOh",
        "outputId": "e3a16fac-f8f4-4f4d-8f16-325d8bf5555c"
      },
      "outputs": [
        {
          "output_type": "stream",
          "name": "stderr",
          "text": [
            "/usr/local/lib/python3.9/dist-packages/keras/backend.py:5612: UserWarning: \"`sparse_categorical_crossentropy` received `from_logits=True`, but the `output` argument was produced by a Softmax activation and thus does not represent logits. Was this intended?\n",
            "  output, from_logits = _get_logits(\n"
          ]
        },
        {
          "output_type": "stream",
          "name": "stdout",
          "text": [
            "10/10 [==============================] - 0s 4ms/step - loss: 0.3252 - accuracy: 0.9079\n",
            "0.9079365134239197\n"
          ]
        }
      ],
      "source": [
        "export_model = tf.keras.Sequential([\n",
        "  vectorize_layer,\n",
        "  model,\n",
        "  layers.Activation('softmax')\n",
        "])\n",
        "export_model.compile(loss = losses.SparseCategoricalCrossentropy(from_logits=True), optimizer = 'adam', metrics = ['accuracy'])\n",
        "\n",
        "\n",
        "\n",
        "# Test it with `raw_test_ds`, which yields raw strings\n",
        "loss, accuracy = export_model.evaluate(raw_test_ds)\n",
        "print(accuracy)"
      ]
    },
    {
      "cell_type": "code",
      "execution_count": 34,
      "metadata": {
        "colab": {
          "base_uri": "https://localhost:8080/"
        },
        "id": "lx12nIIi7luJ",
        "outputId": "0b7bf5d7-6e54-4505-b9cf-2a927941910f"
      },
      "outputs": [
        {
          "output_type": "execute_result",
          "data": {
            "text/plain": [
              "['EKO', 'HEL', 'OLA']"
            ]
          },
          "metadata": {},
          "execution_count": 34
        }
      ],
      "source": [
        "['EKO', 'HEL', 'OLA']"
      ]
    },
    {
      "cell_type": "markdown",
      "source": [
        "# PREDIKSI"
      ],
      "metadata": {
        "id": "XRa2FY4q0Ovo"
      }
    },
    {
      "cell_type": "code",
      "execution_count": 38,
      "metadata": {
        "colab": {
          "base_uri": "https://localhost:8080/"
        },
        "id": "f-_agyAv7Rwx",
        "outputId": "5dda11de-9790-47ca-8a10-ca4aede4836c"
      },
      "outputs": [
        {
          "output_type": "stream",
          "name": "stdout",
          "text": [
            "1/1 [==============================] - 0s 28ms/step\n"
          ]
        },
        {
          "output_type": "execute_result",
          "data": {
            "text/plain": [
              "array([[0.02132159, 0.03991644, 0.93876195],\n",
              "       [0.79873264, 0.09626395, 0.10500348],\n",
              "       [0.20895581, 0.7205062 , 0.070538  ],\n",
              "       [0.16566294, 0.75884783, 0.07548932],\n",
              "       [0.89846456, 0.04500891, 0.05652653],\n",
              "       [0.8376873 , 0.08226247, 0.08005024]], dtype=float32)"
            ]
          },
          "metadata": {},
          "execution_count": 38
        }
      ],
      "source": [
        "examples = [\"MotoGP 2015 akan dikenang sebagai salah satu yang paling sengit dalam gelaran kejuaraan dunia balap motor grand prix\",\n",
        "            \"Ida Fauziyah menargetkan penyaluran Ekonomi Bantuan Subsidi Upah (BSU) atau BLT Gaji melalui PT Pos\",\n",
        "            \"Teknik Dasar Jalan Cepat, Sejarah, dan Manfaat untuk Kesehatan\",\n",
        "            \"Covid-19 akan meningkat apabila masayarakat tidak patuh protokol kesehatan\",\n",
        "            \"Rencana Impor KRL Bekas Didukung Erick Thohir, tetapi belum mendapat persetujuan kementrian perdagangan & Ekonomi\",\n",
        "            \"Inflasi Indonesia Naik Lagi pada Februari 2023\"]\n",
        "\n",
        "\n",
        "#for x in examples:\n",
        "export_model.predict(examples)\n"
      ]
    },
    {
      "cell_type": "code",
      "source": [
        "#the_winner = np.argmax(export_model.predict(examples))\n",
        "#print(f'Prediksi Terbesar {the_winner}')"
      ],
      "metadata": {
        "id": "I6ktQrVUi0vw",
        "outputId": "0ef58800-1bf9-4b8a-d488-1f608686cc9d",
        "colab": {
          "base_uri": "https://localhost:8080/"
        }
      },
      "execution_count": 39,
      "outputs": [
        {
          "output_type": "stream",
          "name": "stdout",
          "text": [
            "1/1 [==============================] - 0s 44ms/step\n",
            "Prediksi Terbesar 2\n"
          ]
        }
      ]
    },
    {
      "cell_type": "markdown",
      "source": [
        "# FUNGSI UNTUK MEMBUAT VISUALISASI GRAFIK PIE CHART"
      ],
      "metadata": {
        "id": "mE-x8RyaSAXX"
      }
    },
    {
      "cell_type": "code",
      "source": [
        "def Pie_Chart_Visualization(x):\n",
        "\n",
        "          # Pie chart, where the slices will be ordered and plotted counter-clockwise:\n",
        "          labels = ['EKO', 'HEL', 'OLA']\n",
        "          sizes = export_model.predict(examples)[x].tolist()\n",
        "     \n",
        "\n",
        "          explode = (0, 0, 0)  # only \"explode\" the 2nd slice (i.e. 'Hogs')\n",
        "\n",
        "          fig1, ax1 = plt.subplots()\n",
        "          ax1.pie(sizes, explode=explode, labels=labels, autopct='%1.1f%%',\n",
        "                  shadow=True, startangle=90)\n",
        "          ax1.axis('equal')  # Equal aspect ratio ensures that pie is drawn as a circle.\n",
        "\n",
        "          plt.show()\n",
        "\n",
        "def Winner(x):\n",
        "\n",
        "          winner = np.argmax(export_model.predict(examples)[x])\n",
        "\n",
        "          if winner == 0:\n",
        "            print('Best Prediction Adalah : Ekonomi \\n')\n",
        "          elif winner == 0:\n",
        "            print('Best Prediction Adalah : Kesehatan \\n')\n",
        "          else :\n",
        "            print('Best Prediction Adalah : Olahraga \\n')          "
      ],
      "metadata": {
        "id": "PB33J9xkZL9I"
      },
      "execution_count": 54,
      "outputs": []
    },
    {
      "cell_type": "markdown",
      "source": [
        "# PENGUJIAN PROSENATASE PREDIKSI DALAM BENTUK GRAFIK DARI DATA SAMPLE"
      ],
      "metadata": {
        "id": "Huil3hFtR0ND"
      }
    },
    {
      "cell_type": "code",
      "source": [
        "for x in range(len(examples)):\n",
        "  display(examples[x])\n",
        "  display(Pie_Chart_Visualization(x))\n",
        "  Winner(x)"
      ],
      "metadata": {
        "colab": {
          "base_uri": "https://localhost:8080/",
          "height": 1000
        },
        "id": "uxUAum5AigpU",
        "outputId": "2f1be578-03df-47da-876f-b628fa3225fc"
      },
      "execution_count": 55,
      "outputs": [
        {
          "output_type": "display_data",
          "data": {
            "text/plain": [
              "'MotoGP 2015 akan dikenang sebagai salah satu yang paling sengit dalam gelaran kejuaraan dunia balap motor grand prix'"
            ],
            "application/vnd.google.colaboratory.intrinsic+json": {
              "type": "string"
            }
          },
          "metadata": {}
        },
        {
          "output_type": "stream",
          "name": "stdout",
          "text": [
            "1/1 [==============================] - 0s 37ms/step\n"
          ]
        },
        {
          "output_type": "display_data",
          "data": {
            "text/plain": [
              "<Figure size 640x480 with 1 Axes>"
            ],
            "image/png": "[encoded data removed]"
          },
          "metadata": {}
        },
        {
          "output_type": "display_data",
          "data": {
            "text/plain": [
              "None"
            ]
          },
          "metadata": {}
        },
        {
          "output_type": "stream",
          "name": "stdout",
          "text": [
            "1/1 [==============================] - 0s 49ms/step\n",
            "2\n",
            "Best Prediction Adalah : Olahraga \n",
            "\n"
          ]
        },
        {
          "output_type": "display_data",
          "data": {
            "text/plain": [
              "'Ida Fauziyah menargetkan penyaluran Ekonomi Bantuan Subsidi Upah (BSU) atau BLT Gaji melalui PT Pos'"
            ],
            "application/vnd.google.colaboratory.intrinsic+json": {
              "type": "string"
            }
          },
          "metadata": {}
        },
        {
          "output_type": "stream",
          "name": "stdout",
          "text": [
            "1/1 [==============================] - 0s 52ms/step\n"
          ]
        },
        {
          "output_type": "display_data",
          "data": {
            "text/plain": [
              "<Figure size 640x480 with 1 Axes>"
            ],
            "image/png": "[encoded data removed]"
          },
          "metadata": {}
        },
        {
          "output_type": "display_data",
          "data": {
            "text/plain": [
              "None"
            ]
          },
          "metadata": {}
        },
        {
          "output_type": "stream",
          "name": "stdout",
          "text": [
            "1/1 [==============================] - 0s 43ms/step\n",
            "0\n",
            "Best Prediction Adalah : Ekonomi \n",
            "\n"
          ]
        },
        {
          "output_type": "display_data",
          "data": {
            "text/plain": [
              "'Teknik Dasar Jalan Cepat, Sejarah, dan Manfaat untuk Kesehatan'"
            ],
            "application/vnd.google.colaboratory.intrinsic+json": {
              "type": "string"
            }
          },
          "metadata": {}
        },
        {
          "output_type": "stream",
          "name": "stdout",
          "text": [
            "1/1 [==============================] - 0s 41ms/step\n"
          ]
        },
        {
          "output_type": "display_data",
          "data": {
            "text/plain": [
              "<Figure size 640x480 with 1 Axes>"
            ],
            "image/png": "[encoded data removed]"
          },
          "metadata": {}
        },
        {
          "output_type": "display_data",
          "data": {
            "text/plain": [
              "None"
            ]
          },
          "metadata": {}
        },
        {
          "output_type": "stream",
          "name": "stdout",
          "text": [
            "1/1 [==============================] - 0s 57ms/step\n",
            "1\n",
            "Best Prediction Adalah : Olahraga \n",
            "\n"
          ]
        },
        {
          "output_type": "display_data",
          "data": {
            "text/plain": [
              "'Covid-19 akan meningkat apabila masayarakat tidak patuh protokol kesehatan'"
            ],
            "application/vnd.google.colaboratory.intrinsic+json": {
              "type": "string"
            }
          },
          "metadata": {}
        },
        {
          "output_type": "stream",
          "name": "stdout",
          "text": [
            "1/1 [==============================] - 0s 49ms/step\n"
          ]
        },
        {
          "output_type": "display_data",
          "data": {
            "text/plain": [
              "<Figure size 640x480 with 1 Axes>"
            ],
            "image/png": "[encoded data removed]"
          },
          "metadata": {}
        },
        {
          "output_type": "display_data",
          "data": {
            "text/plain": [
              "None"
            ]
          },
          "metadata": {}
        },
        {
          "output_type": "stream",
          "name": "stdout",
          "text": [
            "1/1 [==============================] - 0s 45ms/step\n",
            "1\n",
            "Best Prediction Adalah : Olahraga \n",
            "\n"
          ]
        },
        {
          "output_type": "display_data",
          "data": {
            "text/plain": [
              "'Rencana Impor KRL Bekas Didukung Erick Thohir, tetapi belum mendapat persetujuan kementrian perdagangan & Ekonomi'"
            ],
            "application/vnd.google.colaboratory.intrinsic+json": {
              "type": "string"
            }
          },
          "metadata": {}
        },
        {
          "output_type": "stream",
          "name": "stdout",
          "text": [
            "1/1 [==============================] - 0s 42ms/step\n"
          ]
        },
        {
          "output_type": "display_data",
          "data": {
            "text/plain": [
              "<Figure size 640x480 with 1 Axes>"
            ],
            "image/png": "[encoded data removed]"
          },
          "metadata": {}
        },
        {
          "output_type": "display_data",
          "data": {
            "text/plain": [
              "None"
            ]
          },
          "metadata": {}
        },
        {
          "output_type": "stream",
          "name": "stdout",
          "text": [
            "1/1 [==============================] - 0s 48ms/step\n",
            "0\n",
            "Best Prediction Adalah : Ekonomi \n",
            "\n"
          ]
        },
        {
          "output_type": "display_data",
          "data": {
            "text/plain": [
              "'Inflasi Indonesia Naik Lagi pada Februari 2023'"
            ],
            "application/vnd.google.colaboratory.intrinsic+json": {
              "type": "string"
            }
          },
          "metadata": {}
        },
        {
          "output_type": "stream",
          "name": "stdout",
          "text": [
            "1/1 [==============================] - 0s 47ms/step\n"
          ]
        },
        {
          "output_type": "display_data",
          "data": {
            "text/plain": [
              "<Figure size 640x480 with 1 Axes>"
            ],
            "image/png": "[encoded data removed]"
          },
          "metadata": {}
        },
        {
          "output_type": "display_data",
          "data": {
            "text/plain": [
              "None"
            ]
          },
          "metadata": {}
        },
        {
          "output_type": "stream",
          "name": "stdout",
          "text": [
            "1/1 [==============================] - 0s 48ms/step\n",
            "0\n",
            "Best Prediction Adalah : Ekonomi \n",
            "\n"
          ]
        }
      ]
    },
    {
      "cell_type": "code",
      "source": [],
      "metadata": {
        "id": "c7jsn3LvwZ5p"
      },
      "execution_count": null,
      "outputs": []
    },
    {
      "cell_type": "markdown",
      "source": [
        "# CONFUSION MATRIX SEBAGAI TAMBAHAN PENDUKUNG UNTUK MEPERJELAS VISUALISASI DIATAS"
      ],
      "metadata": {
        "id": "xng6nwmSS7Nm"
      }
    },
    {
      "cell_type": "markdown",
      "source": [
        "# CONFUSION MATRIX WITH SKLEARN DARI DATA EXAMPLE PREDIKSI DIATAS"
      ],
      "metadata": {
        "id": "SYvcxRgI6VIv"
      }
    },
    {
      "cell_type": "code",
      "source": [
        "KNOWLDEGE = '''\n",
        "examples = [\"MotoGP 2015 akan dikenang sebagai salah satu yang paling sengit dalam gelaran kejuaraan dunia balap motor grand prix\",\n",
        "            \"Ida Fauziyah menargetkan penyaluran Bantuan Subsidi Upah (BSU) atau BLT Gaji melalui PT Pos\",\n",
        "            \"Teknik Dasar Jalan Cepat, Sejarah, dan Manfaat untuk Kesehatan\",\n",
        "            \"Covid-19 akan meningkat apabila masayarakat tidak patuh protokol kesehatan\",\n",
        "            \"Rencana Impor KRL Bekas: Didukung Erick Thohir, Belum Direstui Kemenperin\",\n",
        "            \"Inflasi Indonesia Naik Lagi pada Februari 2023\"]\n",
        "\n",
        "\n",
        "array([[0.2787188 , 0.2602841 , 0.46099707],\n",
        "       [0.35545906, 0.38726214, 0.2572788 ],\n",
        "       [0.34048846, 0.5059424 , 0.1535691 ],\n",
        "       [0.36652344, 0.4425247 , 0.19095181],\n",
        "       [0.38142797, 0.33325955, 0.28531247],\n",
        "       [0.39142797, 0.32325955, 0.28531247],], dtype=float32)    \n",
        "\n",
        "'''               \n",
        "\n",
        "\n",
        "\n",
        "y_value_true = [2,1,1,1,0,0]  # Knowledge dari user/peneliti\n",
        "x_value_pred = [2,1,1,1,0,0]  # Value dari nilai prdiksi diambil prosentasi terbesar     \n",
        "LABEL = ['EKO', 'HEL', 'OLA']    \n",
        "\n"
      ],
      "metadata": {
        "id": "WU73XALk6UUh"
      },
      "execution_count": null,
      "outputs": []
    },
    {
      "cell_type": "code",
      "source": [
        "from sklearn.metrics import confusion_matrix\n",
        "\n",
        "conf_matrix = confusion_matrix(L1, L2)\n",
        "#conf_matrix = confusion_matrix([2,1,1,1,0,1], [2,1,1,1,0,1])\n",
        "print(conf_matrix)\n",
        "\n",
        "L1 = ['OLA','HEL','EKO','EKO','HEL','HEL','OLA']\n",
        "L2 = ['OLA','HEL','EKO','EKO','HEL','HEL','OLA']\n",
        "\n",
        "sns.heatmap(\n",
        "    conf_matrix, annot=True,\n",
        "    xticklabels= L1 ,\n",
        "    yticklabels= L2)\n",
        "plt.xlabel(\"Predicted\")\n",
        "plt.ylabel(\"True\")"
      ],
      "metadata": {
        "id": "bzJs7LNC-HTL",
        "outputId": "bfe88336-0362-447b-b8ae-f264374b8b34",
        "colab": {
          "base_uri": "https://localhost:8080/",
          "height": 354
        }
      },
      "execution_count": null,
      "outputs": [
        {
          "output_type": "stream",
          "name": "stdout",
          "text": [
            "[[2 0 0]\n",
            " [0 3 0]\n",
            " [0 0 2]]\n"
          ]
        },
        {
          "output_type": "execute_result",
          "data": {
            "text/plain": [
              "Text(33.0, 0.5, 'True')"
            ]
          },
          "metadata": {},
          "execution_count": 66
        },
        {
          "output_type": "display_data",
          "data": {
            "text/plain": [
              "<Figure size 432x288 with 2 Axes>"
            ],
            "image/png": "[encoded data removed]"
          },
          "metadata": {
            "needs_background": "light"
          }
        }
      ]
    },
    {
      "cell_type": "markdown",
      "source": [
        "Confusion matrix yang diberikan terdiri dari tiga kelas (class), yaitu kelas EKO, KESEHATAN, dan OLAHRAGA. Kolom merepresentasikan nilai prediksi dan baris merepresentasikan nilai sebenarnya. Oleh karena itu, diagonal utama dari matrix menunjukkan jumlah prediksi yang benar.\n",
        "\n",
        "Berdasarkan confusion matrix yang diberikan, dapat disimpulkan bahwa:\n",
        "\n",
        "Kelas pertama memiliki dua prediksi yang benar (true positive), sementara tidak ada prediksi yang salah (false positive) atau salah negatif (false negative) pada kelas ini.\n",
        "Kelas kedua memiliki tiga prediksi yang benar (true positive), sementara tidak ada prediksi yang salah (false positive) atau salah negatif (false negative) pada kelas ini.\n",
        "Kelas ketiga memiliki satu prediksi yang benar (true positive), sementara tidak ada prediksi yang salah (false positive) atau salah negatif (false negative) pada kelas ini.\n",
        "Dengan demikian, dapat disimpulkan bahwa model memiliki performa yang cukup baik untuk memprediksi tiga kelas yang ada, karena tidak terdapat nilai false positive atau false negative pada setiap kelasnya"
      ],
      "metadata": {
        "id": "6svL0N4585qT"
      }
    },
    {
      "cell_type": "markdown",
      "source": [
        "# TABLE PEMBELAJARAN / LEARNING RATE"
      ],
      "metadata": {
        "id": "MtBm4-4qSLxi"
      }
    },
    {
      "cell_type": "code",
      "source": [
        "LOSS = [0.7776076197624207,0.5466572642326355,0.4511881172657013,0.41121599078178406,0.3235812485218048,0.20382441580295563,0.18509308993816376,0.1851392388343811]\n",
        "ACCURACY = [0.7973856329917908,0.843137264251709,0.8562091588973999,0.8562091588973999,0.9142857193946838,0.920634925365448,0.9238095283508301,0.9269841313362122]\n",
        "DATASET_RAW = [1000,1000,1000,1000,1500,1500,1500,1500]\n",
        "EPOCH = [150,300,450,600,150,300,450,600]\n",
        "\n",
        "BASIC = pd.DataFrame()\n",
        "BASIC['EPOCH'] = EPOCH\n",
        "BASIC['ACCURACY'] = ACCURACY\n",
        "BASIC['LOSS'] = LOSS\n",
        "BASIC['DATASET'] = DATASET_RAW\n"
      ],
      "metadata": {
        "id": "PiHR7Tv7grxa"
      },
      "execution_count": null,
      "outputs": []
    },
    {
      "cell_type": "code",
      "source": [
        "display(BASIC)"
      ],
      "metadata": {
        "colab": {
          "base_uri": "https://localhost:8080/",
          "height": 300
        },
        "id": "EmIR4KT6hjM_",
        "outputId": "80e996f2-0c8f-4063-e1c3-b37160653776"
      },
      "execution_count": null,
      "outputs": [
        {
          "output_type": "display_data",
          "data": {
            "text/plain": [
              "   EPOCH  ACCURACY      LOSS  DATASET\n",
              "0    150  0.797386  0.777608     1000\n",
              "1    300  0.843137  0.546657     1000\n",
              "2    450  0.856209  0.451188     1000\n",
              "3    600  0.856209  0.411216     1000\n",
              "4    150  0.914286  0.323581     1500\n",
              "5    300  0.920635  0.203824     1500\n",
              "6    450  0.923810  0.185093     1500\n",
              "7    600  0.926984  0.185139     1500"
            ],
            "text/html": [
              "\n",
              "  <div id=\"df-390e0181-fb3e-4c4f-a24a-2c7dea8d4bd5\">\n",
              "    <div class=\"colab-df-container\">\n",
              "      <div>\n",
              "<style scoped>\n",
              "    .dataframe tbody tr th:only-of-type {\n",
              "        vertical-align: middle;\n",
              "    }\n",
              "\n",
              "    .dataframe tbody tr th {\n",
              "        vertical-align: top;\n",
              "    }\n",
              "\n",
              "    .dataframe thead th {\n",
              "        text-align: right;\n",
              "    }\n",
              "</style>\n",
              "<table border=\"1\" class=\"dataframe\">\n",
              "  <thead>\n",
              "    <tr style=\"text-align: right;\">\n",
              "      <th></th>\n",
              "      <th>EPOCH</th>\n",
              "      <th>ACCURACY</th>\n",
              "      <th>LOSS</th>\n",
              "      <th>DATASET</th>\n",
              "    </tr>\n",
              "  </thead>\n",
              "  <tbody>\n",
              "    <tr>\n",
              "      <th>0</th>\n",
              "      <td>150</td>\n",
              "      <td>0.797386</td>\n",
              "      <td>0.777608</td>\n",
              "      <td>1000</td>\n",
              "    </tr>\n",
              "    <tr>\n",
              "      <th>1</th>\n",
              "      <td>300</td>\n",
              "      <td>0.843137</td>\n",
              "      <td>0.546657</td>\n",
              "      <td>1000</td>\n",
              "    </tr>\n",
              "    <tr>\n",
              "      <th>2</th>\n",
              "      <td>450</td>\n",
              "      <td>0.856209</td>\n",
              "      <td>0.451188</td>\n",
              "      <td>1000</td>\n",
              "    </tr>\n",
              "    <tr>\n",
              "      <th>3</th>\n",
              "      <td>600</td>\n",
              "      <td>0.856209</td>\n",
              "      <td>0.411216</td>\n",
              "      <td>1000</td>\n",
              "    </tr>\n",
              "    <tr>\n",
              "      <th>4</th>\n",
              "      <td>150</td>\n",
              "      <td>0.914286</td>\n",
              "      <td>0.323581</td>\n",
              "      <td>1500</td>\n",
              "    </tr>\n",
              "    <tr>\n",
              "      <th>5</th>\n",
              "      <td>300</td>\n",
              "      <td>0.920635</td>\n",
              "      <td>0.203824</td>\n",
              "      <td>1500</td>\n",
              "    </tr>\n",
              "    <tr>\n",
              "      <th>6</th>\n",
              "      <td>450</td>\n",
              "      <td>0.923810</td>\n",
              "      <td>0.185093</td>\n",
              "      <td>1500</td>\n",
              "    </tr>\n",
              "    <tr>\n",
              "      <th>7</th>\n",
              "      <td>600</td>\n",
              "      <td>0.926984</td>\n",
              "      <td>0.185139</td>\n",
              "      <td>1500</td>\n",
              "    </tr>\n",
              "  </tbody>\n",
              "</table>\n",
              "</div>\n",
              "      <button class=\"colab-df-convert\" onclick=\"convertToInteractive('df-390e0181-fb3e-4c4f-a24a-2c7dea8d4bd5')\"\n",
              "              title=\"Convert this dataframe to an interactive table.\"\n",
              "              style=\"display:none;\">\n",
              "        \n",
              "  <svg xmlns=\"http://www.w3.org/2000/svg\" height=\"24px\"viewBox=\"0 0 24 24\"\n",
              "       width=\"24px\">\n",
              "    <path d=\"M0 0h24v24H0V0z\" fill=\"none\"/>\n",
              "    <path d=\"M18.56 5.44l.94 2.06.94-2.06 2.06-.94-2.06-.94-.94-2.06-.94 2.06-2.06.94zm-11 1L8.5 8.5l.94-2.06 2.06-.94-2.06-.94L8.5 2.5l-.94 2.06-2.06.94zm10 10l.94 2.06.94-2.06 2.06-.94-2.06-.94-.94-2.06-.94 2.06-2.06.94z\"/><path d=\"M17.41 7.96l-1.37-1.37c-.4-.4-.92-.59-1.43-.59-.52 0-1.04.2-1.43.59L10.3 9.45l-7.72 7.72c-.78.78-.78 2.05 0 2.83L4 21.41c.39.39.9.59 1.41.59.51 0 1.02-.2 1.41-.59l7.78-7.78 2.81-2.81c.8-.78.8-2.07 0-2.86zM5.41 20L4 18.59l7.72-7.72 1.47 1.35L5.41 20z\"/>\n",
              "  </svg>\n",
              "      </button>\n",
              "      \n",
              "  <style>\n",
              "    .colab-df-container {\n",
              "      display:flex;\n",
              "      flex-wrap:wrap;\n",
              "      gap: 12px;\n",
              "    }\n",
              "\n",
              "    .colab-df-convert {\n",
              "      background-color: #E8F0FE;\n",
              "      border: none;\n",
              "      border-radius: 50%;\n",
              "      cursor: pointer;\n",
              "      display: none;\n",
              "      fill: #1967D2;\n",
              "      height: 32px;\n",
              "      padding: 0 0 0 0;\n",
              "      width: 32px;\n",
              "    }\n",
              "\n",
              "    .colab-df-convert:hover {\n",
              "      background-color: #E2EBFA;\n",
              "      box-shadow: 0px 1px 2px rgba(60, 64, 67, 0.3), 0px 1px 3px 1px rgba(60, 64, 67, 0.15);\n",
              "      fill: #174EA6;\n",
              "    }\n",
              "\n",
              "    [theme=dark] .colab-df-convert {\n",
              "      background-color: #3B4455;\n",
              "      fill: #D2E3FC;\n",
              "    }\n",
              "\n",
              "    [theme=dark] .colab-df-convert:hover {\n",
              "      background-color: #434B5C;\n",
              "      box-shadow: 0px 1px 3px 1px rgba(0, 0, 0, 0.15);\n",
              "      filter: drop-shadow(0px 1px 2px rgba(0, 0, 0, 0.3));\n",
              "      fill: #FFFFFF;\n",
              "    }\n",
              "  </style>\n",
              "\n",
              "      <script>\n",
              "        const buttonEl =\n",
              "          document.querySelector('#df-390e0181-fb3e-4c4f-a24a-2c7dea8d4bd5 button.colab-df-convert');\n",
              "        buttonEl.style.display =\n",
              "          google.colab.kernel.accessAllowed ? 'block' : 'none';\n",
              "\n",
              "        async function convertToInteractive(key) {\n",
              "          const element = document.querySelector('#df-390e0181-fb3e-4c4f-a24a-2c7dea8d4bd5');\n",
              "          const dataTable =\n",
              "            await google.colab.kernel.invokeFunction('convertToInteractive',\n",
              "                                                     [key], {});\n",
              "          if (!dataTable) return;\n",
              "\n",
              "          const docLinkHtml = 'Like what you see? Visit the ' +\n",
              "            '<a target=\"_blank\" href=https://colab.research.google.com/notebooks/data_table.ipynb>data table notebook</a>'\n",
              "            + ' to learn more about interactive tables.';\n",
              "          element.innerHTML = '';\n",
              "          dataTable['output_type'] = 'display_data';\n",
              "          await google.colab.output.renderOutput(dataTable, element);\n",
              "          const docLink = document.createElement('div');\n",
              "          docLink.innerHTML = docLinkHtml;\n",
              "          element.appendChild(docLink);\n",
              "        }\n",
              "      </script>\n",
              "    </div>\n",
              "  </div>\n",
              "  "
            ]
          },
          "metadata": {}
        }
      ]
    },
    {
      "cell_type": "code",
      "source": [
        "sns.lineplot(data=BASIC, x=\"EPOCH\", y=\"ACCURACY\")\n",
        "plt.show()"
      ],
      "metadata": {
        "id": "3bKuqE7acO46",
        "outputId": "5ff73d71-b7af-466d-d2b7-c08085340b01",
        "colab": {
          "base_uri": "https://localhost:8080/",
          "height": 279
        }
      },
      "execution_count": null,
      "outputs": [
        {
          "output_type": "display_data",
          "data": {
            "text/plain": [
              "<Figure size 432x288 with 1 Axes>"
            ],
            "image/png": "[encoded data removed]"
          },
          "metadata": {
            "needs_background": "light"
          }
        }
      ]
    },
    {
      "cell_type": "markdown",
      "source": [
        "# Catatan Kesimpulan Sederhana"
      ],
      "metadata": {
        "id": "GUXzGiSv7zPs"
      }
    },
    {
      "cell_type": "markdown",
      "source": [
        "Dari hasil eksperimen yang diberikan, dapat disimpulkan bahwa:\n",
        "\n",
        "1. Ukuran dataset yang lebih besar dan jumlah epoch yang lebih banyak cenderung menghasilkan akurasi yang lebih tinggi dan kerugian yang lebih rendah pada model yang dilatih.\n",
        "\n",
        "2. Nilai akurasi dan kerugian berbanding lurus dan terbalik dengan ukuran dataset dan jumlah epoch, masing-masing.\n",
        "3. Akurasi tertinggi dan kerugian terendah dicapai dengan menggunakan ukuran dataset terbesar dan jumlah epoch terbanyak.\n",
        "\n",
        "4. Peningkatan ukuran dataset dan jumlah epoch berdampak positif pada akurasi dan negatif pada loss model.\n",
        "5. Nilai akurasi dan loss model memiliki korelasi positif dan negatif dengan ukuran dataset dan jumlah epoch, masing-masing.\n",
        "\n",
        "6. Dalam eksperimen ini, kombinasi ukuran dataset terbesar dan jumlah epoch terbanyak menghasilkan nilai akurasi tertinggi dan nilai loss terendah.\n",
        "\n",
        "Temuan ini sejalan dengan praktik umum dalam machine learning, di mana ukuran dataset yang lebih besar dan lebih banyak epoch pelatihan umumnya menghasilkan performa model yang lebih baik."
      ],
      "metadata": {
        "id": "qgq0Gmnh8dMn"
      }
    },
    {
      "cell_type": "code",
      "source": [],
      "metadata": {
        "id": "mX0Srhbdyq6K"
      },
      "execution_count": null,
      "outputs": []
    }
  ],
  "metadata": {
    "colab": {
      "provenance": [],
      "mount_file_id": "194KdQOmrBtd19BZL8GzB18F5-ps-gm6L",
      "authorship_tag": "ABX9TyMUdKp9R2DepMbSjozP4OY8",
      "include_colab_link": true
    },
    "kernelspec": {
      "display_name": "Python 3",
      "name": "python3"
    },
    "language_info": {
      "name": "python"
    }
  },
  "nbformat": 4,
  "nbformat_minor": 0
}
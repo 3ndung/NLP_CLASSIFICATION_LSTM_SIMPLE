{
  "nbformat": 4,
  "nbformat_minor": 0,
  "metadata": {
    "colab": {
      "provenance": [],
      "include_colab_link": true
    },
    "kernelspec": {
      "name": "python3",
      "display_name": "Python 3"
    },
    "language_info": {
      "name": "python"
    }
  },
  "cells": [
    {
      "cell_type": "markdown",
      "metadata": {
        "id": "view-in-github",
        "colab_type": "text"
      },
      "source": [
        "<a href=\"https://colab.research.google.com/github/3ndung/NLP_CLASSIFICATION_LSTM_SIMPLE/blob/main/CREATEA_DATASEET_NLTK_TYO.ipynb\" target=\"_parent\"><img src=\"https://colab.research.google.com/assets/colab-badge.svg\" alt=\"Open In Colab\"/></a>"
      ]
    },
    {
      "cell_type": "code",
      "execution_count": 1,
      "metadata": {
        "id": "dUv3rw3faTZo"
      },
      "outputs": [],
      "source": [
        "import pandas as pd"
      ]
    },
    {
      "cell_type": "code",
      "source": [
        "from google.colab import drive\n",
        "drive.mount('/content/drive')"
      ],
      "metadata": {
        "colab": {
          "base_uri": "https://localhost:8080/"
        },
        "id": "6rlvafoZQ-B6",
        "outputId": "f70844be-6f8b-4ea0-d612-ec43e0d35b4b"
      },
      "execution_count": 2,
      "outputs": [
        {
          "output_type": "stream",
          "name": "stdout",
          "text": [
            "Mounted at /content/drive\n"
          ]
        }
      ]
    },
    {
      "cell_type": "code",
      "source": [
        "data = pd.read_excel('/content/drive/MyDrive/TYO_NLTK/DATASET BARU/DATASET JUDUL BERITA (1500).xlsx')"
      ],
      "metadata": {
        "id": "h3NeuqYLaeyV"
      },
      "execution_count": 3,
      "outputs": []
    },
    {
      "cell_type": "code",
      "source": [
        "data = data.rename(columns={'Unnamed: 1':'HEADLINE','Unnamed: 2':'CATEGORY'})"
      ],
      "metadata": {
        "id": "x6Q_8U2lR37M"
      },
      "execution_count": 4,
      "outputs": []
    },
    {
      "cell_type": "code",
      "source": [
        "data = data[['HEADLINE','CATEGORY']]"
      ],
      "metadata": {
        "id": "NzwrOkxfV6fB"
      },
      "execution_count": 5,
      "outputs": []
    },
    {
      "cell_type": "code",
      "source": [
        "data.head(10)"
      ],
      "metadata": {
        "colab": {
          "base_uri": "https://localhost:8080/",
          "height": 363
        },
        "id": "4EcCPZeEWFpF",
        "outputId": "2f75df3f-adc6-49e2-9024-5c39248b112b"
      },
      "execution_count": 6,
      "outputs": [
        {
          "output_type": "execute_result",
          "data": {
            "text/plain": [
              "                                            HEADLINE CATEGORY\n",
              "0  Total Aset Keuangan Syariah RI Tembus Rp2.200 ...  EKONOMI\n",
              "1         VIDEO: Bagaimana Cara Kerja Robot Trading?  EKONOMI\n",
              "2  5 Dampak Kenaikan Suku Bunga BI yang Bikin Beb...  EKONOMI\n",
              "3  Heru Mundur dari Kursi Komisaris BTN Sebelum D...  EKONOMI\n",
              "4  INFOGRAFIS: Efek Berantai Penguatan Dolar AS k...  EKONOMI\n",
              "5  Rupiah Lunglai ke Rp15.695 per Dolar AS Imbas ...  EKONOMI\n",
              "6  Moody's Pangkas Outlook Peringkat Utang Inggri...  EKONOMI\n",
              "7  Suku Bunga The Fed Tekuk Rupiah Berlutut Nyari...  EKONOMI\n",
              "8  Jasa Raharja Santuni 18 Korban Kebakaran KM Ca...  EKONOMI\n",
              "9  Rupiah Menguat ke Rp15.563 usai Imbal Hasil Ob...  EKONOMI"
            ],
            "text/html": [
              "\n",
              "  <div id=\"df-f2d25676-2f28-48ad-97cc-d113b7ede09e\">\n",
              "    <div class=\"colab-df-container\">\n",
              "      <div>\n",
              "<style scoped>\n",
              "    .dataframe tbody tr th:only-of-type {\n",
              "        vertical-align: middle;\n",
              "    }\n",
              "\n",
              "    .dataframe tbody tr th {\n",
              "        vertical-align: top;\n",
              "    }\n",
              "\n",
              "    .dataframe thead th {\n",
              "        text-align: right;\n",
              "    }\n",
              "</style>\n",
              "<table border=\"1\" class=\"dataframe\">\n",
              "  <thead>\n",
              "    <tr style=\"text-align: right;\">\n",
              "      <th></th>\n",
              "      <th>HEADLINE</th>\n",
              "      <th>CATEGORY</th>\n",
              "    </tr>\n",
              "  </thead>\n",
              "  <tbody>\n",
              "    <tr>\n",
              "      <th>0</th>\n",
              "      <td>Total Aset Keuangan Syariah RI Tembus Rp2.200 ...</td>\n",
              "      <td>EKONOMI</td>\n",
              "    </tr>\n",
              "    <tr>\n",
              "      <th>1</th>\n",
              "      <td>VIDEO: Bagaimana Cara Kerja Robot Trading?</td>\n",
              "      <td>EKONOMI</td>\n",
              "    </tr>\n",
              "    <tr>\n",
              "      <th>2</th>\n",
              "      <td>5 Dampak Kenaikan Suku Bunga BI yang Bikin Beb...</td>\n",
              "      <td>EKONOMI</td>\n",
              "    </tr>\n",
              "    <tr>\n",
              "      <th>3</th>\n",
              "      <td>Heru Mundur dari Kursi Komisaris BTN Sebelum D...</td>\n",
              "      <td>EKONOMI</td>\n",
              "    </tr>\n",
              "    <tr>\n",
              "      <th>4</th>\n",
              "      <td>INFOGRAFIS: Efek Berantai Penguatan Dolar AS k...</td>\n",
              "      <td>EKONOMI</td>\n",
              "    </tr>\n",
              "    <tr>\n",
              "      <th>5</th>\n",
              "      <td>Rupiah Lunglai ke Rp15.695 per Dolar AS Imbas ...</td>\n",
              "      <td>EKONOMI</td>\n",
              "    </tr>\n",
              "    <tr>\n",
              "      <th>6</th>\n",
              "      <td>Moody's Pangkas Outlook Peringkat Utang Inggri...</td>\n",
              "      <td>EKONOMI</td>\n",
              "    </tr>\n",
              "    <tr>\n",
              "      <th>7</th>\n",
              "      <td>Suku Bunga The Fed Tekuk Rupiah Berlutut Nyari...</td>\n",
              "      <td>EKONOMI</td>\n",
              "    </tr>\n",
              "    <tr>\n",
              "      <th>8</th>\n",
              "      <td>Jasa Raharja Santuni 18 Korban Kebakaran KM Ca...</td>\n",
              "      <td>EKONOMI</td>\n",
              "    </tr>\n",
              "    <tr>\n",
              "      <th>9</th>\n",
              "      <td>Rupiah Menguat ke Rp15.563 usai Imbal Hasil Ob...</td>\n",
              "      <td>EKONOMI</td>\n",
              "    </tr>\n",
              "  </tbody>\n",
              "</table>\n",
              "</div>\n",
              "      <button class=\"colab-df-convert\" onclick=\"convertToInteractive('df-f2d25676-2f28-48ad-97cc-d113b7ede09e')\"\n",
              "              title=\"Convert this dataframe to an interactive table.\"\n",
              "              style=\"display:none;\">\n",
              "        \n",
              "  <svg xmlns=\"http://www.w3.org/2000/svg\" height=\"24px\"viewBox=\"0 0 24 24\"\n",
              "       width=\"24px\">\n",
              "    <path d=\"M0 0h24v24H0V0z\" fill=\"none\"/>\n",
              "    <path d=\"M18.56 5.44l.94 2.06.94-2.06 2.06-.94-2.06-.94-.94-2.06-.94 2.06-2.06.94zm-11 1L8.5 8.5l.94-2.06 2.06-.94-2.06-.94L8.5 2.5l-.94 2.06-2.06.94zm10 10l.94 2.06.94-2.06 2.06-.94-2.06-.94-.94-2.06-.94 2.06-2.06.94z\"/><path d=\"M17.41 7.96l-1.37-1.37c-.4-.4-.92-.59-1.43-.59-.52 0-1.04.2-1.43.59L10.3 9.45l-7.72 7.72c-.78.78-.78 2.05 0 2.83L4 21.41c.39.39.9.59 1.41.59.51 0 1.02-.2 1.41-.59l7.78-7.78 2.81-2.81c.8-.78.8-2.07 0-2.86zM5.41 20L4 18.59l7.72-7.72 1.47 1.35L5.41 20z\"/>\n",
              "  </svg>\n",
              "      </button>\n",
              "      \n",
              "  <style>\n",
              "    .colab-df-container {\n",
              "      display:flex;\n",
              "      flex-wrap:wrap;\n",
              "      gap: 12px;\n",
              "    }\n",
              "\n",
              "    .colab-df-convert {\n",
              "      background-color: #E8F0FE;\n",
              "      border: none;\n",
              "      border-radius: 50%;\n",
              "      cursor: pointer;\n",
              "      display: none;\n",
              "      fill: #1967D2;\n",
              "      height: 32px;\n",
              "      padding: 0 0 0 0;\n",
              "      width: 32px;\n",
              "    }\n",
              "\n",
              "    .colab-df-convert:hover {\n",
              "      background-color: #E2EBFA;\n",
              "      box-shadow: 0px 1px 2px rgba(60, 64, 67, 0.3), 0px 1px 3px 1px rgba(60, 64, 67, 0.15);\n",
              "      fill: #174EA6;\n",
              "    }\n",
              "\n",
              "    [theme=dark] .colab-df-convert {\n",
              "      background-color: #3B4455;\n",
              "      fill: #D2E3FC;\n",
              "    }\n",
              "\n",
              "    [theme=dark] .colab-df-convert:hover {\n",
              "      background-color: #434B5C;\n",
              "      box-shadow: 0px 1px 3px 1px rgba(0, 0, 0, 0.15);\n",
              "      filter: drop-shadow(0px 1px 2px rgba(0, 0, 0, 0.3));\n",
              "      fill: #FFFFFF;\n",
              "    }\n",
              "  </style>\n",
              "\n",
              "      <script>\n",
              "        const buttonEl =\n",
              "          document.querySelector('#df-f2d25676-2f28-48ad-97cc-d113b7ede09e button.colab-df-convert');\n",
              "        buttonEl.style.display =\n",
              "          google.colab.kernel.accessAllowed ? 'block' : 'none';\n",
              "\n",
              "        async function convertToInteractive(key) {\n",
              "          const element = document.querySelector('#df-f2d25676-2f28-48ad-97cc-d113b7ede09e');\n",
              "          const dataTable =\n",
              "            await google.colab.kernel.invokeFunction('convertToInteractive',\n",
              "                                                     [key], {});\n",
              "          if (!dataTable) return;\n",
              "\n",
              "          const docLinkHtml = 'Like what you see? Visit the ' +\n",
              "            '<a target=\"_blank\" href=https://colab.research.google.com/notebooks/data_table.ipynb>data table notebook</a>'\n",
              "            + ' to learn more about interactive tables.';\n",
              "          element.innerHTML = '';\n",
              "          dataTable['output_type'] = 'display_data';\n",
              "          await google.colab.output.renderOutput(dataTable, element);\n",
              "          const docLink = document.createElement('div');\n",
              "          docLink.innerHTML = docLinkHtml;\n",
              "          element.appendChild(docLink);\n",
              "        }\n",
              "      </script>\n",
              "    </div>\n",
              "  </div>\n",
              "  "
            ]
          },
          "metadata": {},
          "execution_count": 6
        }
      ]
    },
    {
      "cell_type": "code",
      "source": [
        "import string\n",
        "string.punctuation"
      ],
      "metadata": {
        "colab": {
          "base_uri": "https://localhost:8080/",
          "height": 35
        },
        "id": "U6F_PY88WViO",
        "outputId": "ff801ae0-7e2c-479d-ecf0-cc6e63cdee7d"
      },
      "execution_count": 7,
      "outputs": [
        {
          "output_type": "execute_result",
          "data": {
            "text/plain": [
              "'!\"#$%&\\'()*+,-./:;<=>?@[\\\\]^_`{|}~'"
            ],
            "application/vnd.google.colaboratory.intrinsic+json": {
              "type": "string"
            }
          },
          "metadata": {},
          "execution_count": 7
        }
      ]
    },
    {
      "cell_type": "markdown",
      "source": [
        "Hilangakn tanda baca"
      ],
      "metadata": {
        "id": "3UjqfgF1Wetv"
      }
    },
    {
      "cell_type": "code",
      "source": [
        "def remove_punct(text):\n",
        "    text_nopunct = \"\".join([char for char in text if char not in string.punctuation])\n",
        "    return text_nopunct\n",
        "\n",
        "data['HEADLINE_CLEAN'] = data['HEADLINE'].apply(lambda x: remove_punct(x))\n",
        "\n",
        "data.head(10)"
      ],
      "metadata": {
        "colab": {
          "base_uri": "https://localhost:8080/",
          "height": 363
        },
        "id": "hcwJ-x3bWd2F",
        "outputId": "963be990-3310-4a59-9619-5100d156c248"
      },
      "execution_count": 8,
      "outputs": [
        {
          "output_type": "execute_result",
          "data": {
            "text/plain": [
              "                                            HEADLINE CATEGORY  \\\n",
              "0  Total Aset Keuangan Syariah RI Tembus Rp2.200 ...  EKONOMI   \n",
              "1         VIDEO: Bagaimana Cara Kerja Robot Trading?  EKONOMI   \n",
              "2  5 Dampak Kenaikan Suku Bunga BI yang Bikin Beb...  EKONOMI   \n",
              "3  Heru Mundur dari Kursi Komisaris BTN Sebelum D...  EKONOMI   \n",
              "4  INFOGRAFIS: Efek Berantai Penguatan Dolar AS k...  EKONOMI   \n",
              "5  Rupiah Lunglai ke Rp15.695 per Dolar AS Imbas ...  EKONOMI   \n",
              "6  Moody's Pangkas Outlook Peringkat Utang Inggri...  EKONOMI   \n",
              "7  Suku Bunga The Fed Tekuk Rupiah Berlutut Nyari...  EKONOMI   \n",
              "8  Jasa Raharja Santuni 18 Korban Kebakaran KM Ca...  EKONOMI   \n",
              "9  Rupiah Menguat ke Rp15.563 usai Imbal Hasil Ob...  EKONOMI   \n",
              "\n",
              "                                      HEADLINE_CLEAN  \n",
              "0  Total Aset Keuangan Syariah RI Tembus Rp2200 T...  \n",
              "1           VIDEO Bagaimana Cara Kerja Robot Trading  \n",
              "2  5 Dampak Kenaikan Suku Bunga BI yang Bikin Beb...  \n",
              "3  Heru Mundur dari Kursi Komisaris BTN Sebelum D...  \n",
              "4  INFOGRAFIS Efek Berantai Penguatan Dolar AS ke...  \n",
              "5  Rupiah Lunglai ke Rp15695 per Dolar AS Imbas B...  \n",
              "6  Moodys Pangkas Outlook Peringkat Utang Inggris...  \n",
              "7  Suku Bunga The Fed Tekuk Rupiah Berlutut Nyari...  \n",
              "8  Jasa Raharja Santuni 18 Korban Kebakaran KM Ca...  \n",
              "9  Rupiah Menguat ke Rp15563 usai Imbal Hasil Obl...  "
            ],
            "text/html": [
              "\n",
              "  <div id=\"df-3189a029-246b-4209-8fe4-d4e09c949c63\">\n",
              "    <div class=\"colab-df-container\">\n",
              "      <div>\n",
              "<style scoped>\n",
              "    .dataframe tbody tr th:only-of-type {\n",
              "        vertical-align: middle;\n",
              "    }\n",
              "\n",
              "    .dataframe tbody tr th {\n",
              "        vertical-align: top;\n",
              "    }\n",
              "\n",
              "    .dataframe thead th {\n",
              "        text-align: right;\n",
              "    }\n",
              "</style>\n",
              "<table border=\"1\" class=\"dataframe\">\n",
              "  <thead>\n",
              "    <tr style=\"text-align: right;\">\n",
              "      <th></th>\n",
              "      <th>HEADLINE</th>\n",
              "      <th>CATEGORY</th>\n",
              "      <th>HEADLINE_CLEAN</th>\n",
              "    </tr>\n",
              "  </thead>\n",
              "  <tbody>\n",
              "    <tr>\n",
              "      <th>0</th>\n",
              "      <td>Total Aset Keuangan Syariah RI Tembus Rp2.200 ...</td>\n",
              "      <td>EKONOMI</td>\n",
              "      <td>Total Aset Keuangan Syariah RI Tembus Rp2200 T...</td>\n",
              "    </tr>\n",
              "    <tr>\n",
              "      <th>1</th>\n",
              "      <td>VIDEO: Bagaimana Cara Kerja Robot Trading?</td>\n",
              "      <td>EKONOMI</td>\n",
              "      <td>VIDEO Bagaimana Cara Kerja Robot Trading</td>\n",
              "    </tr>\n",
              "    <tr>\n",
              "      <th>2</th>\n",
              "      <td>5 Dampak Kenaikan Suku Bunga BI yang Bikin Beb...</td>\n",
              "      <td>EKONOMI</td>\n",
              "      <td>5 Dampak Kenaikan Suku Bunga BI yang Bikin Beb...</td>\n",
              "    </tr>\n",
              "    <tr>\n",
              "      <th>3</th>\n",
              "      <td>Heru Mundur dari Kursi Komisaris BTN Sebelum D...</td>\n",
              "      <td>EKONOMI</td>\n",
              "      <td>Heru Mundur dari Kursi Komisaris BTN Sebelum D...</td>\n",
              "    </tr>\n",
              "    <tr>\n",
              "      <th>4</th>\n",
              "      <td>INFOGRAFIS: Efek Berantai Penguatan Dolar AS k...</td>\n",
              "      <td>EKONOMI</td>\n",
              "      <td>INFOGRAFIS Efek Berantai Penguatan Dolar AS ke...</td>\n",
              "    </tr>\n",
              "    <tr>\n",
              "      <th>5</th>\n",
              "      <td>Rupiah Lunglai ke Rp15.695 per Dolar AS Imbas ...</td>\n",
              "      <td>EKONOMI</td>\n",
              "      <td>Rupiah Lunglai ke Rp15695 per Dolar AS Imbas B...</td>\n",
              "    </tr>\n",
              "    <tr>\n",
              "      <th>6</th>\n",
              "      <td>Moody's Pangkas Outlook Peringkat Utang Inggri...</td>\n",
              "      <td>EKONOMI</td>\n",
              "      <td>Moodys Pangkas Outlook Peringkat Utang Inggris...</td>\n",
              "    </tr>\n",
              "    <tr>\n",
              "      <th>7</th>\n",
              "      <td>Suku Bunga The Fed Tekuk Rupiah Berlutut Nyari...</td>\n",
              "      <td>EKONOMI</td>\n",
              "      <td>Suku Bunga The Fed Tekuk Rupiah Berlutut Nyari...</td>\n",
              "    </tr>\n",
              "    <tr>\n",
              "      <th>8</th>\n",
              "      <td>Jasa Raharja Santuni 18 Korban Kebakaran KM Ca...</td>\n",
              "      <td>EKONOMI</td>\n",
              "      <td>Jasa Raharja Santuni 18 Korban Kebakaran KM Ca...</td>\n",
              "    </tr>\n",
              "    <tr>\n",
              "      <th>9</th>\n",
              "      <td>Rupiah Menguat ke Rp15.563 usai Imbal Hasil Ob...</td>\n",
              "      <td>EKONOMI</td>\n",
              "      <td>Rupiah Menguat ke Rp15563 usai Imbal Hasil Obl...</td>\n",
              "    </tr>\n",
              "  </tbody>\n",
              "</table>\n",
              "</div>\n",
              "      <button class=\"colab-df-convert\" onclick=\"convertToInteractive('df-3189a029-246b-4209-8fe4-d4e09c949c63')\"\n",
              "              title=\"Convert this dataframe to an interactive table.\"\n",
              "              style=\"display:none;\">\n",
              "        \n",
              "  <svg xmlns=\"http://www.w3.org/2000/svg\" height=\"24px\"viewBox=\"0 0 24 24\"\n",
              "       width=\"24px\">\n",
              "    <path d=\"M0 0h24v24H0V0z\" fill=\"none\"/>\n",
              "    <path d=\"M18.56 5.44l.94 2.06.94-2.06 2.06-.94-2.06-.94-.94-2.06-.94 2.06-2.06.94zm-11 1L8.5 8.5l.94-2.06 2.06-.94-2.06-.94L8.5 2.5l-.94 2.06-2.06.94zm10 10l.94 2.06.94-2.06 2.06-.94-2.06-.94-.94-2.06-.94 2.06-2.06.94z\"/><path d=\"M17.41 7.96l-1.37-1.37c-.4-.4-.92-.59-1.43-.59-.52 0-1.04.2-1.43.59L10.3 9.45l-7.72 7.72c-.78.78-.78 2.05 0 2.83L4 21.41c.39.39.9.59 1.41.59.51 0 1.02-.2 1.41-.59l7.78-7.78 2.81-2.81c.8-.78.8-2.07 0-2.86zM5.41 20L4 18.59l7.72-7.72 1.47 1.35L5.41 20z\"/>\n",
              "  </svg>\n",
              "      </button>\n",
              "      \n",
              "  <style>\n",
              "    .colab-df-container {\n",
              "      display:flex;\n",
              "      flex-wrap:wrap;\n",
              "      gap: 12px;\n",
              "    }\n",
              "\n",
              "    .colab-df-convert {\n",
              "      background-color: #E8F0FE;\n",
              "      border: none;\n",
              "      border-radius: 50%;\n",
              "      cursor: pointer;\n",
              "      display: none;\n",
              "      fill: #1967D2;\n",
              "      height: 32px;\n",
              "      padding: 0 0 0 0;\n",
              "      width: 32px;\n",
              "    }\n",
              "\n",
              "    .colab-df-convert:hover {\n",
              "      background-color: #E2EBFA;\n",
              "      box-shadow: 0px 1px 2px rgba(60, 64, 67, 0.3), 0px 1px 3px 1px rgba(60, 64, 67, 0.15);\n",
              "      fill: #174EA6;\n",
              "    }\n",
              "\n",
              "    [theme=dark] .colab-df-convert {\n",
              "      background-color: #3B4455;\n",
              "      fill: #D2E3FC;\n",
              "    }\n",
              "\n",
              "    [theme=dark] .colab-df-convert:hover {\n",
              "      background-color: #434B5C;\n",
              "      box-shadow: 0px 1px 3px 1px rgba(0, 0, 0, 0.15);\n",
              "      filter: drop-shadow(0px 1px 2px rgba(0, 0, 0, 0.3));\n",
              "      fill: #FFFFFF;\n",
              "    }\n",
              "  </style>\n",
              "\n",
              "      <script>\n",
              "        const buttonEl =\n",
              "          document.querySelector('#df-3189a029-246b-4209-8fe4-d4e09c949c63 button.colab-df-convert');\n",
              "        buttonEl.style.display =\n",
              "          google.colab.kernel.accessAllowed ? 'block' : 'none';\n",
              "\n",
              "        async function convertToInteractive(key) {\n",
              "          const element = document.querySelector('#df-3189a029-246b-4209-8fe4-d4e09c949c63');\n",
              "          const dataTable =\n",
              "            await google.colab.kernel.invokeFunction('convertToInteractive',\n",
              "                                                     [key], {});\n",
              "          if (!dataTable) return;\n",
              "\n",
              "          const docLinkHtml = 'Like what you see? Visit the ' +\n",
              "            '<a target=\"_blank\" href=https://colab.research.google.com/notebooks/data_table.ipynb>data table notebook</a>'\n",
              "            + ' to learn more about interactive tables.';\n",
              "          element.innerHTML = '';\n",
              "          dataTable['output_type'] = 'display_data';\n",
              "          await google.colab.output.renderOutput(dataTable, element);\n",
              "          const docLink = document.createElement('div');\n",
              "          docLink.innerHTML = docLinkHtml;\n",
              "          element.appendChild(docLink);\n",
              "        }\n",
              "      </script>\n",
              "    </div>\n",
              "  </div>\n",
              "  "
            ]
          },
          "metadata": {},
          "execution_count": 8
        }
      ]
    },
    {
      "cell_type": "code",
      "source": [
        "import re\n",
        "\n",
        "def tokenize(text):\n",
        "    tokens = re.split('\\W+', text)\n",
        "    return tokens\n",
        "\n",
        "data['HEADLINE_TOKENIZE'] = data['HEADLINE_CLEAN'].apply(lambda x: tokenize(x.lower()))\n",
        "\n",
        "data.head(10)"
      ],
      "metadata": {
        "colab": {
          "base_uri": "https://localhost:8080/",
          "height": 363
        },
        "id": "5DOk_BPhdm6M",
        "outputId": "9d70bfc7-3dea-4915-a6f7-db08cf9234fa"
      },
      "execution_count": 9,
      "outputs": [
        {
          "output_type": "execute_result",
          "data": {
            "text/plain": [
              "                                            HEADLINE CATEGORY  \\\n",
              "0  Total Aset Keuangan Syariah RI Tembus Rp2.200 ...  EKONOMI   \n",
              "1         VIDEO: Bagaimana Cara Kerja Robot Trading?  EKONOMI   \n",
              "2  5 Dampak Kenaikan Suku Bunga BI yang Bikin Beb...  EKONOMI   \n",
              "3  Heru Mundur dari Kursi Komisaris BTN Sebelum D...  EKONOMI   \n",
              "4  INFOGRAFIS: Efek Berantai Penguatan Dolar AS k...  EKONOMI   \n",
              "5  Rupiah Lunglai ke Rp15.695 per Dolar AS Imbas ...  EKONOMI   \n",
              "6  Moody's Pangkas Outlook Peringkat Utang Inggri...  EKONOMI   \n",
              "7  Suku Bunga The Fed Tekuk Rupiah Berlutut Nyari...  EKONOMI   \n",
              "8  Jasa Raharja Santuni 18 Korban Kebakaran KM Ca...  EKONOMI   \n",
              "9  Rupiah Menguat ke Rp15.563 usai Imbal Hasil Ob...  EKONOMI   \n",
              "\n",
              "                                      HEADLINE_CLEAN  \\\n",
              "0  Total Aset Keuangan Syariah RI Tembus Rp2200 T...   \n",
              "1           VIDEO Bagaimana Cara Kerja Robot Trading   \n",
              "2  5 Dampak Kenaikan Suku Bunga BI yang Bikin Beb...   \n",
              "3  Heru Mundur dari Kursi Komisaris BTN Sebelum D...   \n",
              "4  INFOGRAFIS Efek Berantai Penguatan Dolar AS ke...   \n",
              "5  Rupiah Lunglai ke Rp15695 per Dolar AS Imbas B...   \n",
              "6  Moodys Pangkas Outlook Peringkat Utang Inggris...   \n",
              "7  Suku Bunga The Fed Tekuk Rupiah Berlutut Nyari...   \n",
              "8  Jasa Raharja Santuni 18 Korban Kebakaran KM Ca...   \n",
              "9  Rupiah Menguat ke Rp15563 usai Imbal Hasil Obl...   \n",
              "\n",
              "                                   HEADLINE_TOKENIZE  \n",
              "0  [total, aset, keuangan, syariah, ri, tembus, r...  \n",
              "1    [video, bagaimana, cara, kerja, robot, trading]  \n",
              "2  [5, dampak, kenaikan, suku, bunga, bi, yang, b...  \n",
              "3  [heru, mundur, dari, kursi, komisaris, btn, se...  \n",
              "4  [infografis, efek, berantai, penguatan, dolar,...  \n",
              "5  [rupiah, lunglai, ke, rp15695, per, dolar, as,...  \n",
              "6  [moodys, pangkas, outlook, peringkat, utang, i...  \n",
              "7  [suku, bunga, the, fed, tekuk, rupiah, berlutu...  \n",
              "8  [jasa, raharja, santuni, 18, korban, kebakaran...  \n",
              "9  [rupiah, menguat, ke, rp15563, usai, imbal, ha...  "
            ],
            "text/html": [
              "\n",
              "  <div id=\"df-05a385dd-8cce-4c51-99f1-9ed2415a44b4\">\n",
              "    <div class=\"colab-df-container\">\n",
              "      <div>\n",
              "<style scoped>\n",
              "    .dataframe tbody tr th:only-of-type {\n",
              "        vertical-align: middle;\n",
              "    }\n",
              "\n",
              "    .dataframe tbody tr th {\n",
              "        vertical-align: top;\n",
              "    }\n",
              "\n",
              "    .dataframe thead th {\n",
              "        text-align: right;\n",
              "    }\n",
              "</style>\n",
              "<table border=\"1\" class=\"dataframe\">\n",
              "  <thead>\n",
              "    <tr style=\"text-align: right;\">\n",
              "      <th></th>\n",
              "      <th>HEADLINE</th>\n",
              "      <th>CATEGORY</th>\n",
              "      <th>HEADLINE_CLEAN</th>\n",
              "      <th>HEADLINE_TOKENIZE</th>\n",
              "    </tr>\n",
              "  </thead>\n",
              "  <tbody>\n",
              "    <tr>\n",
              "      <th>0</th>\n",
              "      <td>Total Aset Keuangan Syariah RI Tembus Rp2.200 ...</td>\n",
              "      <td>EKONOMI</td>\n",
              "      <td>Total Aset Keuangan Syariah RI Tembus Rp2200 T...</td>\n",
              "      <td>[total, aset, keuangan, syariah, ri, tembus, r...</td>\n",
              "    </tr>\n",
              "    <tr>\n",
              "      <th>1</th>\n",
              "      <td>VIDEO: Bagaimana Cara Kerja Robot Trading?</td>\n",
              "      <td>EKONOMI</td>\n",
              "      <td>VIDEO Bagaimana Cara Kerja Robot Trading</td>\n",
              "      <td>[video, bagaimana, cara, kerja, robot, trading]</td>\n",
              "    </tr>\n",
              "    <tr>\n",
              "      <th>2</th>\n",
              "      <td>5 Dampak Kenaikan Suku Bunga BI yang Bikin Beb...</td>\n",
              "      <td>EKONOMI</td>\n",
              "      <td>5 Dampak Kenaikan Suku Bunga BI yang Bikin Beb...</td>\n",
              "      <td>[5, dampak, kenaikan, suku, bunga, bi, yang, b...</td>\n",
              "    </tr>\n",
              "    <tr>\n",
              "      <th>3</th>\n",
              "      <td>Heru Mundur dari Kursi Komisaris BTN Sebelum D...</td>\n",
              "      <td>EKONOMI</td>\n",
              "      <td>Heru Mundur dari Kursi Komisaris BTN Sebelum D...</td>\n",
              "      <td>[heru, mundur, dari, kursi, komisaris, btn, se...</td>\n",
              "    </tr>\n",
              "    <tr>\n",
              "      <th>4</th>\n",
              "      <td>INFOGRAFIS: Efek Berantai Penguatan Dolar AS k...</td>\n",
              "      <td>EKONOMI</td>\n",
              "      <td>INFOGRAFIS Efek Berantai Penguatan Dolar AS ke...</td>\n",
              "      <td>[infografis, efek, berantai, penguatan, dolar,...</td>\n",
              "    </tr>\n",
              "    <tr>\n",
              "      <th>5</th>\n",
              "      <td>Rupiah Lunglai ke Rp15.695 per Dolar AS Imbas ...</td>\n",
              "      <td>EKONOMI</td>\n",
              "      <td>Rupiah Lunglai ke Rp15695 per Dolar AS Imbas B...</td>\n",
              "      <td>[rupiah, lunglai, ke, rp15695, per, dolar, as,...</td>\n",
              "    </tr>\n",
              "    <tr>\n",
              "      <th>6</th>\n",
              "      <td>Moody's Pangkas Outlook Peringkat Utang Inggri...</td>\n",
              "      <td>EKONOMI</td>\n",
              "      <td>Moodys Pangkas Outlook Peringkat Utang Inggris...</td>\n",
              "      <td>[moodys, pangkas, outlook, peringkat, utang, i...</td>\n",
              "    </tr>\n",
              "    <tr>\n",
              "      <th>7</th>\n",
              "      <td>Suku Bunga The Fed Tekuk Rupiah Berlutut Nyari...</td>\n",
              "      <td>EKONOMI</td>\n",
              "      <td>Suku Bunga The Fed Tekuk Rupiah Berlutut Nyari...</td>\n",
              "      <td>[suku, bunga, the, fed, tekuk, rupiah, berlutu...</td>\n",
              "    </tr>\n",
              "    <tr>\n",
              "      <th>8</th>\n",
              "      <td>Jasa Raharja Santuni 18 Korban Kebakaran KM Ca...</td>\n",
              "      <td>EKONOMI</td>\n",
              "      <td>Jasa Raharja Santuni 18 Korban Kebakaran KM Ca...</td>\n",
              "      <td>[jasa, raharja, santuni, 18, korban, kebakaran...</td>\n",
              "    </tr>\n",
              "    <tr>\n",
              "      <th>9</th>\n",
              "      <td>Rupiah Menguat ke Rp15.563 usai Imbal Hasil Ob...</td>\n",
              "      <td>EKONOMI</td>\n",
              "      <td>Rupiah Menguat ke Rp15563 usai Imbal Hasil Obl...</td>\n",
              "      <td>[rupiah, menguat, ke, rp15563, usai, imbal, ha...</td>\n",
              "    </tr>\n",
              "  </tbody>\n",
              "</table>\n",
              "</div>\n",
              "      <button class=\"colab-df-convert\" onclick=\"convertToInteractive('df-05a385dd-8cce-4c51-99f1-9ed2415a44b4')\"\n",
              "              title=\"Convert this dataframe to an interactive table.\"\n",
              "              style=\"display:none;\">\n",
              "        \n",
              "  <svg xmlns=\"http://www.w3.org/2000/svg\" height=\"24px\"viewBox=\"0 0 24 24\"\n",
              "       width=\"24px\">\n",
              "    <path d=\"M0 0h24v24H0V0z\" fill=\"none\"/>\n",
              "    <path d=\"M18.56 5.44l.94 2.06.94-2.06 2.06-.94-2.06-.94-.94-2.06-.94 2.06-2.06.94zm-11 1L8.5 8.5l.94-2.06 2.06-.94-2.06-.94L8.5 2.5l-.94 2.06-2.06.94zm10 10l.94 2.06.94-2.06 2.06-.94-2.06-.94-.94-2.06-.94 2.06-2.06.94z\"/><path d=\"M17.41 7.96l-1.37-1.37c-.4-.4-.92-.59-1.43-.59-.52 0-1.04.2-1.43.59L10.3 9.45l-7.72 7.72c-.78.78-.78 2.05 0 2.83L4 21.41c.39.39.9.59 1.41.59.51 0 1.02-.2 1.41-.59l7.78-7.78 2.81-2.81c.8-.78.8-2.07 0-2.86zM5.41 20L4 18.59l7.72-7.72 1.47 1.35L5.41 20z\"/>\n",
              "  </svg>\n",
              "      </button>\n",
              "      \n",
              "  <style>\n",
              "    .colab-df-container {\n",
              "      display:flex;\n",
              "      flex-wrap:wrap;\n",
              "      gap: 12px;\n",
              "    }\n",
              "\n",
              "    .colab-df-convert {\n",
              "      background-color: #E8F0FE;\n",
              "      border: none;\n",
              "      border-radius: 50%;\n",
              "      cursor: pointer;\n",
              "      display: none;\n",
              "      fill: #1967D2;\n",
              "      height: 32px;\n",
              "      padding: 0 0 0 0;\n",
              "      width: 32px;\n",
              "    }\n",
              "\n",
              "    .colab-df-convert:hover {\n",
              "      background-color: #E2EBFA;\n",
              "      box-shadow: 0px 1px 2px rgba(60, 64, 67, 0.3), 0px 1px 3px 1px rgba(60, 64, 67, 0.15);\n",
              "      fill: #174EA6;\n",
              "    }\n",
              "\n",
              "    [theme=dark] .colab-df-convert {\n",
              "      background-color: #3B4455;\n",
              "      fill: #D2E3FC;\n",
              "    }\n",
              "\n",
              "    [theme=dark] .colab-df-convert:hover {\n",
              "      background-color: #434B5C;\n",
              "      box-shadow: 0px 1px 3px 1px rgba(0, 0, 0, 0.15);\n",
              "      filter: drop-shadow(0px 1px 2px rgba(0, 0, 0, 0.3));\n",
              "      fill: #FFFFFF;\n",
              "    }\n",
              "  </style>\n",
              "\n",
              "      <script>\n",
              "        const buttonEl =\n",
              "          document.querySelector('#df-05a385dd-8cce-4c51-99f1-9ed2415a44b4 button.colab-df-convert');\n",
              "        buttonEl.style.display =\n",
              "          google.colab.kernel.accessAllowed ? 'block' : 'none';\n",
              "\n",
              "        async function convertToInteractive(key) {\n",
              "          const element = document.querySelector('#df-05a385dd-8cce-4c51-99f1-9ed2415a44b4');\n",
              "          const dataTable =\n",
              "            await google.colab.kernel.invokeFunction('convertToInteractive',\n",
              "                                                     [key], {});\n",
              "          if (!dataTable) return;\n",
              "\n",
              "          const docLinkHtml = 'Like what you see? Visit the ' +\n",
              "            '<a target=\"_blank\" href=https://colab.research.google.com/notebooks/data_table.ipynb>data table notebook</a>'\n",
              "            + ' to learn more about interactive tables.';\n",
              "          element.innerHTML = '';\n",
              "          dataTable['output_type'] = 'display_data';\n",
              "          await google.colab.output.renderOutput(dataTable, element);\n",
              "          const docLink = document.createElement('div');\n",
              "          docLink.innerHTML = docLinkHtml;\n",
              "          element.appendChild(docLink);\n",
              "        }\n",
              "      </script>\n",
              "    </div>\n",
              "  </div>\n",
              "  "
            ]
          },
          "metadata": {},
          "execution_count": 9
        }
      ]
    },
    {
      "cell_type": "markdown",
      "source": [
        "Hilangkan STOPWORD dalam bahasa Indonesia\n"
      ],
      "metadata": {
        "id": "RvpMKnihXHWe"
      }
    },
    {
      "cell_type": "code",
      "source": [
        "import nltk\n",
        "nltk.download('stopwords')"
      ],
      "metadata": {
        "colab": {
          "base_uri": "https://localhost:8080/"
        },
        "id": "5sXnx7-uYSA1",
        "outputId": "3aebce4f-d412-484a-9140-b9c23e9ce7b4"
      },
      "execution_count": 10,
      "outputs": [
        {
          "output_type": "stream",
          "name": "stderr",
          "text": [
            "[nltk_data] Downloading package stopwords to /root/nltk_data...\n",
            "[nltk_data]   Unzipping corpora/stopwords.zip.\n"
          ]
        },
        {
          "output_type": "execute_result",
          "data": {
            "text/plain": [
              "True"
            ]
          },
          "metadata": {},
          "execution_count": 10
        }
      ]
    },
    {
      "cell_type": "code",
      "source": [
        "stopword = nltk.corpus.stopwords.words('indonesian')"
      ],
      "metadata": {
        "id": "lN2dFER1YZ4h"
      },
      "execution_count": 11,
      "outputs": []
    },
    {
      "cell_type": "code",
      "source": [
        "for x in stopword:\n",
        "  print(x,end=',')"
      ],
      "metadata": {
        "id": "WMtNYB3ScFX6",
        "outputId": "247c244c-e0dd-4a31-c382-40539cd4a4d0",
        "colab": {
          "base_uri": "https://localhost:8080/"
        }
      },
      "execution_count": 13,
      "outputs": [
        {
          "output_type": "stream",
          "name": "stdout",
          "text": [
            "ada,adalah,adanya,adapun,agak,agaknya,agar,akan,akankah,akhir,akhiri,akhirnya,aku,akulah,amat,amatlah,anda,andalah,antar,antara,antaranya,apa,apaan,apabila,apakah,apalagi,apatah,artinya,asal,asalkan,atas,atau,ataukah,ataupun,awal,awalnya,bagai,bagaikan,bagaimana,bagaimanakah,bagaimanapun,bagi,bagian,bahkan,bahwa,bahwasanya,baik,bakal,bakalan,balik,banyak,bapak,baru,bawah,beberapa,begini,beginian,beginikah,beginilah,begitu,begitukah,begitulah,begitupun,bekerja,belakang,belakangan,belum,belumlah,benar,benarkah,benarlah,berada,berakhir,berakhirlah,berakhirnya,berapa,berapakah,berapalah,berapapun,berarti,berawal,berbagai,berdatangan,beri,berikan,berikut,berikutnya,berjumlah,berkali-kali,berkata,berkehendak,berkeinginan,berkenaan,berlainan,berlalu,berlangsung,berlebihan,bermacam,bermacam-macam,bermaksud,bermula,bersama,bersama-sama,bersiap,bersiap-siap,bertanya,bertanya-tanya,berturut,berturut-turut,bertutur,berujar,berupa,besar,betul,betulkah,biasa,biasanya,bila,bilakah,bisa,bisakah,boleh,bolehkah,bolehlah,buat,bukan,bukankah,bukanlah,bukannya,bulan,bung,cara,caranya,cukup,cukupkah,cukuplah,cuma,dahulu,dalam,dan,dapat,dari,daripada,datang,dekat,demi,demikian,demikianlah,dengan,depan,di,dia,diakhiri,diakhirinya,dialah,diantara,diantaranya,diberi,diberikan,diberikannya,dibuat,dibuatnya,didapat,didatangkan,digunakan,diibaratkan,diibaratkannya,diingat,diingatkan,diinginkan,dijawab,dijelaskan,dijelaskannya,dikarenakan,dikatakan,dikatakannya,dikerjakan,diketahui,diketahuinya,dikira,dilakukan,dilalui,dilihat,dimaksud,dimaksudkan,dimaksudkannya,dimaksudnya,diminta,dimintai,dimisalkan,dimulai,dimulailah,dimulainya,dimungkinkan,dini,dipastikan,diperbuat,diperbuatnya,dipergunakan,diperkirakan,diperlihatkan,diperlukan,diperlukannya,dipersoalkan,dipertanyakan,dipunyai,diri,dirinya,disampaikan,disebut,disebutkan,disebutkannya,disini,disinilah,ditambahkan,ditandaskan,ditanya,ditanyai,ditanyakan,ditegaskan,ditujukan,ditunjuk,ditunjuki,ditunjukkan,ditunjukkannya,ditunjuknya,dituturkan,dituturkannya,diucapkan,diucapkannya,diungkapkan,dong,dua,dulu,empat,enggak,enggaknya,entah,entahlah,guna,gunakan,hal,hampir,hanya,hanyalah,hari,harus,haruslah,harusnya,hendak,hendaklah,hendaknya,hingga,ia,ialah,ibarat,ibaratkan,ibaratnya,ibu,ikut,ingat,ingat-ingat,ingin,inginkah,inginkan,ini,inikah,inilah,itu,itukah,itulah,jadi,jadilah,jadinya,jangan,jangankan,janganlah,jauh,jawab,jawaban,jawabnya,jelas,jelaskan,jelaslah,jelasnya,jika,jikalau,juga,jumlah,jumlahnya,justru,kala,kalau,kalaulah,kalaupun,kalian,kami,kamilah,kamu,kamulah,kan,kapan,kapankah,kapanpun,karena,karenanya,kasus,kata,katakan,katakanlah,katanya,ke,keadaan,kebetulan,kecil,kedua,keduanya,keinginan,kelamaan,kelihatan,kelihatannya,kelima,keluar,kembali,kemudian,kemungkinan,kemungkinannya,kenapa,kepada,kepadanya,kesampaian,keseluruhan,keseluruhannya,keterlaluan,ketika,khususnya,kini,kinilah,kira,kira-kira,kiranya,kita,kitalah,kok,kurang,lagi,lagian,lah,lain,lainnya,lalu,lama,lamanya,lanjut,lanjutnya,lebih,lewat,lima,luar,macam,maka,makanya,makin,malah,malahan,mampu,mampukah,mana,manakala,manalagi,masa,masalah,masalahnya,masih,masihkah,masing,masing-masing,mau,maupun,melainkan,melakukan,melalui,melihat,melihatnya,memang,memastikan,memberi,memberikan,membuat,memerlukan,memihak,meminta,memintakan,memisalkan,memperbuat,mempergunakan,memperkirakan,memperlihatkan,mempersiapkan,mempersoalkan,mempertanyakan,mempunyai,memulai,memungkinkan,menaiki,menambahkan,menandaskan,menanti,menanti-nanti,menantikan,menanya,menanyai,menanyakan,mendapat,mendapatkan,mendatang,mendatangi,mendatangkan,menegaskan,mengakhiri,mengapa,mengatakan,mengatakannya,mengenai,mengerjakan,mengetahui,menggunakan,menghendaki,mengibaratkan,mengibaratkannya,mengingat,mengingatkan,menginginkan,mengira,mengucapkan,mengucapkannya,mengungkapkan,menjadi,menjawab,menjelaskan,menuju,menunjuk,menunjuki,menunjukkan,menunjuknya,menurut,menuturkan,menyampaikan,menyangkut,menyatakan,menyebutkan,menyeluruh,menyiapkan,merasa,mereka,merekalah,merupakan,meski,meskipun,meyakini,meyakinkan,minta,mirip,misal,misalkan,misalnya,mula,mulai,mulailah,mulanya,mungkin,mungkinkah,nah,naik,namun,nanti,nantinya,nyaris,nyatanya,oleh,olehnya,pada,padahal,padanya,pak,paling,panjang,pantas,para,pasti,pastilah,penting,pentingnya,per,percuma,perlu,perlukah,perlunya,pernah,persoalan,pertama,pertama-tama,pertanyaan,pertanyakan,pihak,pihaknya,pukul,pula,pun,punya,rasa,rasanya,rata,rupanya,saat,saatnya,saja,sajalah,saling,sama,sama-sama,sambil,sampai,sampai-sampai,sampaikan,sana,sangat,sangatlah,satu,saya,sayalah,se,sebab,sebabnya,sebagai,sebagaimana,sebagainya,sebagian,sebaik,sebaik-baiknya,sebaiknya,sebaliknya,sebanyak,sebegini,sebegitu,sebelum,sebelumnya,sebenarnya,seberapa,sebesar,sebetulnya,sebisanya,sebuah,sebut,sebutlah,sebutnya,secara,secukupnya,sedang,sedangkan,sedemikian,sedikit,sedikitnya,seenaknya,segala,segalanya,segera,seharusnya,sehingga,seingat,sejak,sejauh,sejenak,sejumlah,sekadar,sekadarnya,sekali,sekali-kali,sekalian,sekaligus,sekalipun,sekarang,sekarang,sekecil,seketika,sekiranya,sekitar,sekitarnya,sekurang-kurangnya,sekurangnya,sela,selain,selaku,selalu,selama,selama-lamanya,selamanya,selanjutnya,seluruh,seluruhnya,semacam,semakin,semampu,semampunya,semasa,semasih,semata,semata-mata,semaunya,sementara,semisal,semisalnya,sempat,semua,semuanya,semula,sendiri,sendirian,sendirinya,seolah,seolah-olah,seorang,sepanjang,sepantasnya,sepantasnyalah,seperlunya,seperti,sepertinya,sepihak,sering,seringnya,serta,serupa,sesaat,sesama,sesampai,sesegera,sesekali,seseorang,sesuatu,sesuatunya,sesudah,sesudahnya,setelah,setempat,setengah,seterusnya,setiap,setiba,setibanya,setidak-tidaknya,setidaknya,setinggi,seusai,sewaktu,siap,siapa,siapakah,siapapun,sini,sinilah,soal,soalnya,suatu,sudah,sudahkah,sudahlah,supaya,tadi,tadinya,tahu,tahun,tak,tambah,tambahnya,tampak,tampaknya,tandas,tandasnya,tanpa,tanya,tanyakan,tanyanya,tapi,tegas,tegasnya,telah,tempat,tengah,tentang,tentu,tentulah,tentunya,tepat,terakhir,terasa,terbanyak,terdahulu,terdapat,terdiri,terhadap,terhadapnya,teringat,teringat-ingat,terjadi,terjadilah,terjadinya,terkira,terlalu,terlebih,terlihat,termasuk,ternyata,tersampaikan,tersebut,tersebutlah,tertentu,tertuju,terus,terutama,tetap,tetapi,tiap,tiba,tiba-tiba,tidak,tidakkah,tidaklah,tiga,tinggi,toh,tunjuk,turut,tutur,tuturnya,ucap,ucapnya,ujar,ujarnya,umum,umumnya,ungkap,ungkapnya,untuk,usah,usai,waduh,wah,wahai,waktu,waktunya,walau,walaupun,wong,yaitu,yakin,yakni,yang,"
          ]
        }
      ]
    },
    {
      "cell_type": "code",
      "source": [
        "len(stopword)"
      ],
      "metadata": {
        "id": "BsLVGVYGcYNI",
        "outputId": "726291ac-24e5-4574-d42e-2a9561384212",
        "colab": {
          "base_uri": "https://localhost:8080/"
        }
      },
      "execution_count": 14,
      "outputs": [
        {
          "output_type": "execute_result",
          "data": {
            "text/plain": [
              "758"
            ]
          },
          "metadata": {},
          "execution_count": 14
        }
      ]
    },
    {
      "cell_type": "code",
      "source": [
        "stopword[:5]\n",
        "stopword = [f' {x} ' for x in stopword]\n",
        "stopword[:5]"
      ],
      "metadata": {
        "colab": {
          "base_uri": "https://localhost:8080/"
        },
        "id": "SqQEifBtYuRK",
        "outputId": "71287723-1fb2-4846-aaf4-935cc19f7560"
      },
      "execution_count": null,
      "outputs": [
        {
          "output_type": "execute_result",
          "data": {
            "text/plain": [
              "[' ada ', ' adalah ', ' adanya ', ' adapun ', ' agak ']"
            ]
          },
          "metadata": {},
          "execution_count": 18
        }
      ]
    },
    {
      "cell_type": "code",
      "source": [
        "def remove_stopwords(tokenized_list):\n",
        "    text = [word for word in tokenized_list if word not in stopword]\n",
        "    return text\n",
        "\n",
        "data['HEADLINE_NON_STP'] = data['HEADLINE_TOKENIZE'].apply(lambda x: remove_stopwords(x))\n",
        "\n",
        "data.head(10)"
      ],
      "metadata": {
        "colab": {
          "base_uri": "https://localhost:8080/",
          "height": 363
        },
        "id": "r6Yt-5P9axaI",
        "outputId": "05270f2d-12e1-4d57-b7bc-446256558647"
      },
      "execution_count": null,
      "outputs": [
        {
          "output_type": "execute_result",
          "data": {
            "text/plain": [
              "                                            HEADLINE CATEGORY  \\\n",
              "0  Total Aset Keuangan Syariah RI Tembus Rp2.200 ...  EKONOMI   \n",
              "1         VIDEO: Bagaimana Cara Kerja Robot Trading?  EKONOMI   \n",
              "2  5 Dampak Kenaikan Suku Bunga BI yang Bikin Beb...  EKONOMI   \n",
              "3  Heru Mundur dari Kursi Komisaris BTN Sebelum D...  EKONOMI   \n",
              "4  INFOGRAFIS: Efek Berantai Penguatan Dolar AS k...  EKONOMI   \n",
              "5  Rupiah Lunglai ke Rp15.695 per Dolar AS Imbas ...  EKONOMI   \n",
              "6  Moody's Pangkas Outlook Peringkat Utang Inggri...  EKONOMI   \n",
              "7  Suku Bunga The Fed Tekuk Rupiah Berlutut Nyari...  EKONOMI   \n",
              "8  Jasa Raharja Santuni 18 Korban Kebakaran KM Ca...  EKONOMI   \n",
              "9  Rupiah Menguat ke Rp15.563 usai Imbal Hasil Ob...  EKONOMI   \n",
              "\n",
              "                                      HEADLINE_CLEAN  \\\n",
              "0  Total Aset Keuangan Syariah RI Tembus Rp2200 T...   \n",
              "1           VIDEO Bagaimana Cara Kerja Robot Trading   \n",
              "2  5 Dampak Kenaikan Suku Bunga BI yang Bikin Beb...   \n",
              "3  Heru Mundur dari Kursi Komisaris BTN Sebelum D...   \n",
              "4  INFOGRAFIS Efek Berantai Penguatan Dolar AS ke...   \n",
              "5  Rupiah Lunglai ke Rp15695 per Dolar AS Imbas B...   \n",
              "6  Moodys Pangkas Outlook Peringkat Utang Inggris...   \n",
              "7  Suku Bunga The Fed Tekuk Rupiah Berlutut Nyari...   \n",
              "8  Jasa Raharja Santuni 18 Korban Kebakaran KM Ca...   \n",
              "9  Rupiah Menguat ke Rp15563 usai Imbal Hasil Obl...   \n",
              "\n",
              "                                   HEADLINE_TOKENIZE  \\\n",
              "0  [total, aset, keuangan, syariah, ri, tembus, r...   \n",
              "1    [video, bagaimana, cara, kerja, robot, trading]   \n",
              "2  [5, dampak, kenaikan, suku, bunga, bi, yang, b...   \n",
              "3  [heru, mundur, dari, kursi, komisaris, btn, se...   \n",
              "4  [infografis, efek, berantai, penguatan, dolar,...   \n",
              "5  [rupiah, lunglai, ke, rp15695, per, dolar, as,...   \n",
              "6  [moodys, pangkas, outlook, peringkat, utang, i...   \n",
              "7  [suku, bunga, the, fed, tekuk, rupiah, berlutu...   \n",
              "8  [jasa, raharja, santuni, 18, korban, kebakaran...   \n",
              "9  [rupiah, menguat, ke, rp15563, usai, imbal, ha...   \n",
              "\n",
              "                                    HEADLINE_NON_STP  \n",
              "0  [total, aset, keuangan, syariah, ri, tembus, r...  \n",
              "1    [video, bagaimana, cara, kerja, robot, trading]  \n",
              "2  [5, dampak, kenaikan, suku, bunga, bi, yang, b...  \n",
              "3  [heru, mundur, dari, kursi, komisaris, btn, se...  \n",
              "4  [infografis, efek, berantai, penguatan, dolar,...  \n",
              "5  [rupiah, lunglai, ke, rp15695, per, dolar, as,...  \n",
              "6  [moodys, pangkas, outlook, peringkat, utang, i...  \n",
              "7  [suku, bunga, the, fed, tekuk, rupiah, berlutu...  \n",
              "8  [jasa, raharja, santuni, 18, korban, kebakaran...  \n",
              "9  [rupiah, menguat, ke, rp15563, usai, imbal, ha...  "
            ],
            "text/html": [
              "\n",
              "  <div id=\"df-f336cf00-dcf8-4025-8d9f-143216cfcf9e\">\n",
              "    <div class=\"colab-df-container\">\n",
              "      <div>\n",
              "<style scoped>\n",
              "    .dataframe tbody tr th:only-of-type {\n",
              "        vertical-align: middle;\n",
              "    }\n",
              "\n",
              "    .dataframe tbody tr th {\n",
              "        vertical-align: top;\n",
              "    }\n",
              "\n",
              "    .dataframe thead th {\n",
              "        text-align: right;\n",
              "    }\n",
              "</style>\n",
              "<table border=\"1\" class=\"dataframe\">\n",
              "  <thead>\n",
              "    <tr style=\"text-align: right;\">\n",
              "      <th></th>\n",
              "      <th>HEADLINE</th>\n",
              "      <th>CATEGORY</th>\n",
              "      <th>HEADLINE_CLEAN</th>\n",
              "      <th>HEADLINE_TOKENIZE</th>\n",
              "      <th>HEADLINE_NON_STP</th>\n",
              "    </tr>\n",
              "  </thead>\n",
              "  <tbody>\n",
              "    <tr>\n",
              "      <th>0</th>\n",
              "      <td>Total Aset Keuangan Syariah RI Tembus Rp2.200 ...</td>\n",
              "      <td>EKONOMI</td>\n",
              "      <td>Total Aset Keuangan Syariah RI Tembus Rp2200 T...</td>\n",
              "      <td>[total, aset, keuangan, syariah, ri, tembus, r...</td>\n",
              "      <td>[total, aset, keuangan, syariah, ri, tembus, r...</td>\n",
              "    </tr>\n",
              "    <tr>\n",
              "      <th>1</th>\n",
              "      <td>VIDEO: Bagaimana Cara Kerja Robot Trading?</td>\n",
              "      <td>EKONOMI</td>\n",
              "      <td>VIDEO Bagaimana Cara Kerja Robot Trading</td>\n",
              "      <td>[video, bagaimana, cara, kerja, robot, trading]</td>\n",
              "      <td>[video, bagaimana, cara, kerja, robot, trading]</td>\n",
              "    </tr>\n",
              "    <tr>\n",
              "      <th>2</th>\n",
              "      <td>5 Dampak Kenaikan Suku Bunga BI yang Bikin Beb...</td>\n",
              "      <td>EKONOMI</td>\n",
              "      <td>5 Dampak Kenaikan Suku Bunga BI yang Bikin Beb...</td>\n",
              "      <td>[5, dampak, kenaikan, suku, bunga, bi, yang, b...</td>\n",
              "      <td>[5, dampak, kenaikan, suku, bunga, bi, yang, b...</td>\n",
              "    </tr>\n",
              "    <tr>\n",
              "      <th>3</th>\n",
              "      <td>Heru Mundur dari Kursi Komisaris BTN Sebelum D...</td>\n",
              "      <td>EKONOMI</td>\n",
              "      <td>Heru Mundur dari Kursi Komisaris BTN Sebelum D...</td>\n",
              "      <td>[heru, mundur, dari, kursi, komisaris, btn, se...</td>\n",
              "      <td>[heru, mundur, dari, kursi, komisaris, btn, se...</td>\n",
              "    </tr>\n",
              "    <tr>\n",
              "      <th>4</th>\n",
              "      <td>INFOGRAFIS: Efek Berantai Penguatan Dolar AS k...</td>\n",
              "      <td>EKONOMI</td>\n",
              "      <td>INFOGRAFIS Efek Berantai Penguatan Dolar AS ke...</td>\n",
              "      <td>[infografis, efek, berantai, penguatan, dolar,...</td>\n",
              "      <td>[infografis, efek, berantai, penguatan, dolar,...</td>\n",
              "    </tr>\n",
              "    <tr>\n",
              "      <th>5</th>\n",
              "      <td>Rupiah Lunglai ke Rp15.695 per Dolar AS Imbas ...</td>\n",
              "      <td>EKONOMI</td>\n",
              "      <td>Rupiah Lunglai ke Rp15695 per Dolar AS Imbas B...</td>\n",
              "      <td>[rupiah, lunglai, ke, rp15695, per, dolar, as,...</td>\n",
              "      <td>[rupiah, lunglai, ke, rp15695, per, dolar, as,...</td>\n",
              "    </tr>\n",
              "    <tr>\n",
              "      <th>6</th>\n",
              "      <td>Moody's Pangkas Outlook Peringkat Utang Inggri...</td>\n",
              "      <td>EKONOMI</td>\n",
              "      <td>Moodys Pangkas Outlook Peringkat Utang Inggris...</td>\n",
              "      <td>[moodys, pangkas, outlook, peringkat, utang, i...</td>\n",
              "      <td>[moodys, pangkas, outlook, peringkat, utang, i...</td>\n",
              "    </tr>\n",
              "    <tr>\n",
              "      <th>7</th>\n",
              "      <td>Suku Bunga The Fed Tekuk Rupiah Berlutut Nyari...</td>\n",
              "      <td>EKONOMI</td>\n",
              "      <td>Suku Bunga The Fed Tekuk Rupiah Berlutut Nyari...</td>\n",
              "      <td>[suku, bunga, the, fed, tekuk, rupiah, berlutu...</td>\n",
              "      <td>[suku, bunga, the, fed, tekuk, rupiah, berlutu...</td>\n",
              "    </tr>\n",
              "    <tr>\n",
              "      <th>8</th>\n",
              "      <td>Jasa Raharja Santuni 18 Korban Kebakaran KM Ca...</td>\n",
              "      <td>EKONOMI</td>\n",
              "      <td>Jasa Raharja Santuni 18 Korban Kebakaran KM Ca...</td>\n",
              "      <td>[jasa, raharja, santuni, 18, korban, kebakaran...</td>\n",
              "      <td>[jasa, raharja, santuni, 18, korban, kebakaran...</td>\n",
              "    </tr>\n",
              "    <tr>\n",
              "      <th>9</th>\n",
              "      <td>Rupiah Menguat ke Rp15.563 usai Imbal Hasil Ob...</td>\n",
              "      <td>EKONOMI</td>\n",
              "      <td>Rupiah Menguat ke Rp15563 usai Imbal Hasil Obl...</td>\n",
              "      <td>[rupiah, menguat, ke, rp15563, usai, imbal, ha...</td>\n",
              "      <td>[rupiah, menguat, ke, rp15563, usai, imbal, ha...</td>\n",
              "    </tr>\n",
              "  </tbody>\n",
              "</table>\n",
              "</div>\n",
              "      <button class=\"colab-df-convert\" onclick=\"convertToInteractive('df-f336cf00-dcf8-4025-8d9f-143216cfcf9e')\"\n",
              "              title=\"Convert this dataframe to an interactive table.\"\n",
              "              style=\"display:none;\">\n",
              "        \n",
              "  <svg xmlns=\"http://www.w3.org/2000/svg\" height=\"24px\"viewBox=\"0 0 24 24\"\n",
              "       width=\"24px\">\n",
              "    <path d=\"M0 0h24v24H0V0z\" fill=\"none\"/>\n",
              "    <path d=\"M18.56 5.44l.94 2.06.94-2.06 2.06-.94-2.06-.94-.94-2.06-.94 2.06-2.06.94zm-11 1L8.5 8.5l.94-2.06 2.06-.94-2.06-.94L8.5 2.5l-.94 2.06-2.06.94zm10 10l.94 2.06.94-2.06 2.06-.94-2.06-.94-.94-2.06-.94 2.06-2.06.94z\"/><path d=\"M17.41 7.96l-1.37-1.37c-.4-.4-.92-.59-1.43-.59-.52 0-1.04.2-1.43.59L10.3 9.45l-7.72 7.72c-.78.78-.78 2.05 0 2.83L4 21.41c.39.39.9.59 1.41.59.51 0 1.02-.2 1.41-.59l7.78-7.78 2.81-2.81c.8-.78.8-2.07 0-2.86zM5.41 20L4 18.59l7.72-7.72 1.47 1.35L5.41 20z\"/>\n",
              "  </svg>\n",
              "      </button>\n",
              "      \n",
              "  <style>\n",
              "    .colab-df-container {\n",
              "      display:flex;\n",
              "      flex-wrap:wrap;\n",
              "      gap: 12px;\n",
              "    }\n",
              "\n",
              "    .colab-df-convert {\n",
              "      background-color: #E8F0FE;\n",
              "      border: none;\n",
              "      border-radius: 50%;\n",
              "      cursor: pointer;\n",
              "      display: none;\n",
              "      fill: #1967D2;\n",
              "      height: 32px;\n",
              "      padding: 0 0 0 0;\n",
              "      width: 32px;\n",
              "    }\n",
              "\n",
              "    .colab-df-convert:hover {\n",
              "      background-color: #E2EBFA;\n",
              "      box-shadow: 0px 1px 2px rgba(60, 64, 67, 0.3), 0px 1px 3px 1px rgba(60, 64, 67, 0.15);\n",
              "      fill: #174EA6;\n",
              "    }\n",
              "\n",
              "    [theme=dark] .colab-df-convert {\n",
              "      background-color: #3B4455;\n",
              "      fill: #D2E3FC;\n",
              "    }\n",
              "\n",
              "    [theme=dark] .colab-df-convert:hover {\n",
              "      background-color: #434B5C;\n",
              "      box-shadow: 0px 1px 3px 1px rgba(0, 0, 0, 0.15);\n",
              "      filter: drop-shadow(0px 1px 2px rgba(0, 0, 0, 0.3));\n",
              "      fill: #FFFFFF;\n",
              "    }\n",
              "  </style>\n",
              "\n",
              "      <script>\n",
              "        const buttonEl =\n",
              "          document.querySelector('#df-f336cf00-dcf8-4025-8d9f-143216cfcf9e button.colab-df-convert');\n",
              "        buttonEl.style.display =\n",
              "          google.colab.kernel.accessAllowed ? 'block' : 'none';\n",
              "\n",
              "        async function convertToInteractive(key) {\n",
              "          const element = document.querySelector('#df-f336cf00-dcf8-4025-8d9f-143216cfcf9e');\n",
              "          const dataTable =\n",
              "            await google.colab.kernel.invokeFunction('convertToInteractive',\n",
              "                                                     [key], {});\n",
              "          if (!dataTable) return;\n",
              "\n",
              "          const docLinkHtml = 'Like what you see? Visit the ' +\n",
              "            '<a target=\"_blank\" href=https://colab.research.google.com/notebooks/data_table.ipynb>data table notebook</a>'\n",
              "            + ' to learn more about interactive tables.';\n",
              "          element.innerHTML = '';\n",
              "          dataTable['output_type'] = 'display_data';\n",
              "          await google.colab.output.renderOutput(dataTable, element);\n",
              "          const docLink = document.createElement('div');\n",
              "          docLink.innerHTML = docLinkHtml;\n",
              "          element.appendChild(docLink);\n",
              "        }\n",
              "      </script>\n",
              "    </div>\n",
              "  </div>\n",
              "  "
            ]
          },
          "metadata": {},
          "execution_count": 19
        }
      ]
    },
    {
      "cell_type": "code",
      "source": [
        "data['HH'] = data['HEADLINE_NON_STP'].str.join(\" \")"
      ],
      "metadata": {
        "id": "jbMOEny2expW"
      },
      "execution_count": null,
      "outputs": []
    },
    {
      "cell_type": "code",
      "source": [
        "data['HEADLINE'] = data['HH']\n",
        "data=data[['HEADLINE','CATEGORY']]\n",
        "\n",
        "data.head(10)"
      ],
      "metadata": {
        "colab": {
          "base_uri": "https://localhost:8080/",
          "height": 363
        },
        "id": "R5PpMRygbftU",
        "outputId": "7edb9bd8-af09-4867-db8a-c13a64a19810"
      },
      "execution_count": null,
      "outputs": [
        {
          "output_type": "execute_result",
          "data": {
            "text/plain": [
              "                                            HEADLINE CATEGORY\n",
              "0  total aset keuangan syariah ri tembus rp2200 t...  EKONOMI\n",
              "1           video bagaimana cara kerja robot trading  EKONOMI\n",
              "2  5 dampak kenaikan suku bunga bi yang bikin beb...  EKONOMI\n",
              "3  heru mundur dari kursi komisaris btn sebelum d...  EKONOMI\n",
              "4  infografis efek berantai penguatan dolar as ke...  EKONOMI\n",
              "5  rupiah lunglai ke rp15695 per dolar as imbas b...  EKONOMI\n",
              "6  moodys pangkas outlook peringkat utang inggris...  EKONOMI\n",
              "7  suku bunga the fed tekuk rupiah berlutut nyari...  EKONOMI\n",
              "8  jasa raharja santuni 18 korban kebakaran km ca...  EKONOMI\n",
              "9  rupiah menguat ke rp15563 usai imbal hasil obl...  EKONOMI"
            ],
            "text/html": [
              "\n",
              "  <div id=\"df-632bbd99-6dda-4ee5-8179-71f722ca6452\">\n",
              "    <div class=\"colab-df-container\">\n",
              "      <div>\n",
              "<style scoped>\n",
              "    .dataframe tbody tr th:only-of-type {\n",
              "        vertical-align: middle;\n",
              "    }\n",
              "\n",
              "    .dataframe tbody tr th {\n",
              "        vertical-align: top;\n",
              "    }\n",
              "\n",
              "    .dataframe thead th {\n",
              "        text-align: right;\n",
              "    }\n",
              "</style>\n",
              "<table border=\"1\" class=\"dataframe\">\n",
              "  <thead>\n",
              "    <tr style=\"text-align: right;\">\n",
              "      <th></th>\n",
              "      <th>HEADLINE</th>\n",
              "      <th>CATEGORY</th>\n",
              "    </tr>\n",
              "  </thead>\n",
              "  <tbody>\n",
              "    <tr>\n",
              "      <th>0</th>\n",
              "      <td>total aset keuangan syariah ri tembus rp2200 t...</td>\n",
              "      <td>EKONOMI</td>\n",
              "    </tr>\n",
              "    <tr>\n",
              "      <th>1</th>\n",
              "      <td>video bagaimana cara kerja robot trading</td>\n",
              "      <td>EKONOMI</td>\n",
              "    </tr>\n",
              "    <tr>\n",
              "      <th>2</th>\n",
              "      <td>5 dampak kenaikan suku bunga bi yang bikin beb...</td>\n",
              "      <td>EKONOMI</td>\n",
              "    </tr>\n",
              "    <tr>\n",
              "      <th>3</th>\n",
              "      <td>heru mundur dari kursi komisaris btn sebelum d...</td>\n",
              "      <td>EKONOMI</td>\n",
              "    </tr>\n",
              "    <tr>\n",
              "      <th>4</th>\n",
              "      <td>infografis efek berantai penguatan dolar as ke...</td>\n",
              "      <td>EKONOMI</td>\n",
              "    </tr>\n",
              "    <tr>\n",
              "      <th>5</th>\n",
              "      <td>rupiah lunglai ke rp15695 per dolar as imbas b...</td>\n",
              "      <td>EKONOMI</td>\n",
              "    </tr>\n",
              "    <tr>\n",
              "      <th>6</th>\n",
              "      <td>moodys pangkas outlook peringkat utang inggris...</td>\n",
              "      <td>EKONOMI</td>\n",
              "    </tr>\n",
              "    <tr>\n",
              "      <th>7</th>\n",
              "      <td>suku bunga the fed tekuk rupiah berlutut nyari...</td>\n",
              "      <td>EKONOMI</td>\n",
              "    </tr>\n",
              "    <tr>\n",
              "      <th>8</th>\n",
              "      <td>jasa raharja santuni 18 korban kebakaran km ca...</td>\n",
              "      <td>EKONOMI</td>\n",
              "    </tr>\n",
              "    <tr>\n",
              "      <th>9</th>\n",
              "      <td>rupiah menguat ke rp15563 usai imbal hasil obl...</td>\n",
              "      <td>EKONOMI</td>\n",
              "    </tr>\n",
              "  </tbody>\n",
              "</table>\n",
              "</div>\n",
              "      <button class=\"colab-df-convert\" onclick=\"convertToInteractive('df-632bbd99-6dda-4ee5-8179-71f722ca6452')\"\n",
              "              title=\"Convert this dataframe to an interactive table.\"\n",
              "              style=\"display:none;\">\n",
              "        \n",
              "  <svg xmlns=\"http://www.w3.org/2000/svg\" height=\"24px\"viewBox=\"0 0 24 24\"\n",
              "       width=\"24px\">\n",
              "    <path d=\"M0 0h24v24H0V0z\" fill=\"none\"/>\n",
              "    <path d=\"M18.56 5.44l.94 2.06.94-2.06 2.06-.94-2.06-.94-.94-2.06-.94 2.06-2.06.94zm-11 1L8.5 8.5l.94-2.06 2.06-.94-2.06-.94L8.5 2.5l-.94 2.06-2.06.94zm10 10l.94 2.06.94-2.06 2.06-.94-2.06-.94-.94-2.06-.94 2.06-2.06.94z\"/><path d=\"M17.41 7.96l-1.37-1.37c-.4-.4-.92-.59-1.43-.59-.52 0-1.04.2-1.43.59L10.3 9.45l-7.72 7.72c-.78.78-.78 2.05 0 2.83L4 21.41c.39.39.9.59 1.41.59.51 0 1.02-.2 1.41-.59l7.78-7.78 2.81-2.81c.8-.78.8-2.07 0-2.86zM5.41 20L4 18.59l7.72-7.72 1.47 1.35L5.41 20z\"/>\n",
              "  </svg>\n",
              "      </button>\n",
              "      \n",
              "  <style>\n",
              "    .colab-df-container {\n",
              "      display:flex;\n",
              "      flex-wrap:wrap;\n",
              "      gap: 12px;\n",
              "    }\n",
              "\n",
              "    .colab-df-convert {\n",
              "      background-color: #E8F0FE;\n",
              "      border: none;\n",
              "      border-radius: 50%;\n",
              "      cursor: pointer;\n",
              "      display: none;\n",
              "      fill: #1967D2;\n",
              "      height: 32px;\n",
              "      padding: 0 0 0 0;\n",
              "      width: 32px;\n",
              "    }\n",
              "\n",
              "    .colab-df-convert:hover {\n",
              "      background-color: #E2EBFA;\n",
              "      box-shadow: 0px 1px 2px rgba(60, 64, 67, 0.3), 0px 1px 3px 1px rgba(60, 64, 67, 0.15);\n",
              "      fill: #174EA6;\n",
              "    }\n",
              "\n",
              "    [theme=dark] .colab-df-convert {\n",
              "      background-color: #3B4455;\n",
              "      fill: #D2E3FC;\n",
              "    }\n",
              "\n",
              "    [theme=dark] .colab-df-convert:hover {\n",
              "      background-color: #434B5C;\n",
              "      box-shadow: 0px 1px 3px 1px rgba(0, 0, 0, 0.15);\n",
              "      filter: drop-shadow(0px 1px 2px rgba(0, 0, 0, 0.3));\n",
              "      fill: #FFFFFF;\n",
              "    }\n",
              "  </style>\n",
              "\n",
              "      <script>\n",
              "        const buttonEl =\n",
              "          document.querySelector('#df-632bbd99-6dda-4ee5-8179-71f722ca6452 button.colab-df-convert');\n",
              "        buttonEl.style.display =\n",
              "          google.colab.kernel.accessAllowed ? 'block' : 'none';\n",
              "\n",
              "        async function convertToInteractive(key) {\n",
              "          const element = document.querySelector('#df-632bbd99-6dda-4ee5-8179-71f722ca6452');\n",
              "          const dataTable =\n",
              "            await google.colab.kernel.invokeFunction('convertToInteractive',\n",
              "                                                     [key], {});\n",
              "          if (!dataTable) return;\n",
              "\n",
              "          const docLinkHtml = 'Like what you see? Visit the ' +\n",
              "            '<a target=\"_blank\" href=https://colab.research.google.com/notebooks/data_table.ipynb>data table notebook</a>'\n",
              "            + ' to learn more about interactive tables.';\n",
              "          element.innerHTML = '';\n",
              "          dataTable['output_type'] = 'display_data';\n",
              "          await google.colab.output.renderOutput(dataTable, element);\n",
              "          const docLink = document.createElement('div');\n",
              "          docLink.innerHTML = docLinkHtml;\n",
              "          element.appendChild(docLink);\n",
              "        }\n",
              "      </script>\n",
              "    </div>\n",
              "  </div>\n",
              "  "
            ]
          },
          "metadata": {},
          "execution_count": 21
        }
      ]
    },
    {
      "cell_type": "code",
      "source": [
        "data['CATEGORY'].unique()"
      ],
      "metadata": {
        "colab": {
          "base_uri": "https://localhost:8080/"
        },
        "id": "MBH7j0etajgc",
        "outputId": "dbe82992-f61d-4790-96f6-0434b115257e"
      },
      "execution_count": null,
      "outputs": [
        {
          "output_type": "execute_result",
          "data": {
            "text/plain": [
              "array(['EKONOMI', 'KESEHATAN', 'OLAH RAGA'], dtype=object)"
            ]
          },
          "metadata": {},
          "execution_count": 22
        }
      ]
    },
    {
      "cell_type": "code",
      "source": [
        "EKO = data[data['CATEGORY'] == 'EKONOMI']['HEADLINE'].tolist()\n",
        "OLA = data[data['CATEGORY'] == 'OLAH RAGA']['HEADLINE'].tolist()\n",
        "HEL = data[data['CATEGORY'] == 'KESEHATAN']['HEADLINE'].tolist()\n",
        "  "
      ],
      "metadata": {
        "id": "cBWPuhH3bClv"
      },
      "execution_count": null,
      "outputs": []
    },
    {
      "cell_type": "code",
      "source": [
        "display(len(EKO),len(OLA),len(HEL))"
      ],
      "metadata": {
        "colab": {
          "base_uri": "https://localhost:8080/",
          "height": 71
        },
        "id": "xEyylfkF6yA7",
        "outputId": "26e552d1-8b22-4526-a086-a75f7e64ed6a"
      },
      "execution_count": null,
      "outputs": [
        {
          "output_type": "display_data",
          "data": {
            "text/plain": [
              "521"
            ]
          },
          "metadata": {}
        },
        {
          "output_type": "display_data",
          "data": {
            "text/plain": [
              "521"
            ]
          },
          "metadata": {}
        },
        {
          "output_type": "display_data",
          "data": {
            "text/plain": [
              "521"
            ]
          },
          "metadata": {}
        }
      ]
    },
    {
      "cell_type": "code",
      "source": [
        "EKO1 = EKO[:int(len(EKO)*0.8)]\n",
        "EKO2 = EKO[int(len(EKO)*0.8):]"
      ],
      "metadata": {
        "id": "v9lz-t5769Ee"
      },
      "execution_count": null,
      "outputs": []
    },
    {
      "cell_type": "code",
      "source": [
        "OLA1 = OLA[:int(len(OLA)*0.8)]\n",
        "OLA2 = OLA[int(len(OLA)*0.8):]"
      ],
      "metadata": {
        "id": "EOofroOa8jya"
      },
      "execution_count": null,
      "outputs": []
    },
    {
      "cell_type": "code",
      "source": [
        "HEL1 = HEL[:int(len(HEL)*0.8)]\n",
        "HEL2 = HEL[int(len(HEL)*0.8):]"
      ],
      "metadata": {
        "id": "IA9Ccvg28vVZ"
      },
      "execution_count": null,
      "outputs": []
    },
    {
      "cell_type": "code",
      "source": [],
      "metadata": {
        "id": "F8TjpJ0xcGOv"
      },
      "execution_count": null,
      "outputs": []
    },
    {
      "cell_type": "code",
      "source": [
        "def buat1(x,y):\n",
        "  with open(f'/content/drive/MyDrive/TYO_NLTK/DTS3/TRAIN/EKO/{x}.txt','w') as tulis:\n",
        "    print(y,end='',file=tulis)\n",
        "\n",
        "def buat2(x,y):\n",
        "  with open(f'/content/drive/MyDrive/TYO_NLTK/DTS3/TRAIN/OLA/{x}.txt','w') as tulis:\n",
        "    print(y,end='',file=tulis)\n",
        "\n",
        "def buat3(x,y):\n",
        "  with open(f'/content/drive/MyDrive/TYO_NLTK/DTS3/TRAIN/HEL/{x}.txt','w') as tulis:\n",
        "    print(y,end='',file=tulis)        \n",
        "\n",
        "\n",
        "\n",
        "def buat4(x,y):\n",
        "  with open(f'/content/drive/MyDrive/TYO_NLTK/DTS3/TEST/EKO/{x}.txt','w') as tulis:\n",
        "    print(y,end='',file=tulis)\n",
        "\n",
        "def buat5(x,y):\n",
        "  with open(f'/content/drive/MyDrive/TYO_NLTK/DTS3/TEST/OLA/{x}.txt','w') as tulis:\n",
        "    print(y,end='',file=tulis)\n",
        "\n",
        "def buat6(x,y):\n",
        "  with open(f'/content/drive/MyDrive/TYO_NLTK/DTS3/TEST/HEL/{x}.txt','w') as tulis:\n",
        "    print(y,end='',file=tulis)       "
      ],
      "metadata": {
        "id": "1jPz3DdlcxZ6"
      },
      "execution_count": null,
      "outputs": []
    },
    {
      "cell_type": "code",
      "source": [
        "EKO1[1]"
      ],
      "metadata": {
        "colab": {
          "base_uri": "https://localhost:8080/",
          "height": 35
        },
        "id": "Es7YKwyBToEh",
        "outputId": "cbb4a77d-dd9d-42bd-f089-ed0af2519f7c"
      },
      "execution_count": null,
      "outputs": [
        {
          "output_type": "execute_result",
          "data": {
            "text/plain": [
              "'video bagaimana cara kerja robot trading'"
            ],
            "application/vnd.google.colaboratory.intrinsic+json": {
              "type": "string"
            }
          },
          "metadata": {},
          "execution_count": 32
        }
      ]
    },
    {
      "cell_type": "code",
      "source": [
        "for x in range(len(EKO1)):\n",
        "  buat1(x,EKO1[x])\n",
        "\n",
        "for x in range(len(HEL1)):\n",
        "  buat3(x,HEL1[x])\n",
        "\n",
        "for x in range(len(OLA1)):\n",
        "  buat2(x,OLA1[x])  \n",
        "\n",
        "\n",
        "\n",
        "for x in range(len(EKO2)):\n",
        "  buat4(x,EKO2[x])\n",
        "\n",
        "for x in range(len(HEL2)):\n",
        "  buat6(x,HEL2[x])\n",
        "\n",
        "for x in range(len(OLA2)):\n",
        "  buat5(x,OLA2[x])    \n"
      ],
      "metadata": {
        "id": "7xnLN4LobUGD"
      },
      "execution_count": null,
      "outputs": []
    },
    {
      "cell_type": "code",
      "source": [],
      "metadata": {
        "id": "dfgygJvdg19t"
      },
      "execution_count": null,
      "outputs": []
    }
  ]
}
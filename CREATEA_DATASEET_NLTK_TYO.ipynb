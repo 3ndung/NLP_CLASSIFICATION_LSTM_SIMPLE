{
  "nbformat": 4,
  "nbformat_minor": 0,
  "metadata": {
    "colab": {
      "provenance": [],
      "include_colab_link": true
    },
    "kernelspec": {
      "name": "python3",
      "display_name": "Python 3"
    },
    "language_info": {
      "name": "python"
    }
  },
  "cells": [
    {
      "cell_type": "markdown",
      "metadata": {
        "id": "view-in-github",
        "colab_type": "text"
      },
      "source": [
        "<a href=\"https://colab.research.google.com/github/3ndung/NLP_CLASSIFICATION_LSTM_SIMPLE/blob/main/CREATEA_DATASEET_NLTK_TYO.ipynb\" target=\"_parent\"><img src=\"https://colab.research.google.com/assets/colab-badge.svg\" alt=\"Open In Colab\"/></a>"
      ]
    },
    {
      "cell_type": "code",
      "execution_count": 1,
      "metadata": {
        "id": "dUv3rw3faTZo"
      },
      "outputs": [],
      "source": [
        "import pandas as pd"
      ]
    },
    {
      "cell_type": "code",
      "source": [
        "from google.colab import drive\n",
        "drive.mount('/content/drive')"
      ],
      "metadata": {
        "colab": {
          "base_uri": "https://localhost:8080/"
        },
        "id": "6rlvafoZQ-B6",
        "outputId": "4b36da57-1e93-4f24-8022-29e6e095d9b1"
      },
      "execution_count": 2,
      "outputs": [
        {
          "output_type": "stream",
          "name": "stdout",
          "text": [
            "Mounted at /content/drive\n"
          ]
        }
      ]
    },
    {
      "cell_type": "code",
      "source": [
        "data = pd.read_excel('/content/drive/MyDrive/TYO_NLTK/DATASET BARU/DATASET JUDUL BERITA (1500).xlsx')"
      ],
      "metadata": {
        "id": "h3NeuqYLaeyV"
      },
      "execution_count": 5,
      "outputs": []
    },
    {
      "cell_type": "code",
      "source": [
        "data = data.rename(columns={'Unnamed: 1':'HEADLINE','Unnamed: 2':'CATEGORY'})"
      ],
      "metadata": {
        "id": "x6Q_8U2lR37M"
      },
      "execution_count": 10,
      "outputs": []
    },
    {
      "cell_type": "code",
      "source": [
        "data = data[['HEADLINE','CATEGORY']]"
      ],
      "metadata": {
        "id": "NzwrOkxfV6fB"
      },
      "execution_count": 11,
      "outputs": []
    },
    {
      "cell_type": "code",
      "source": [
        "data.head(10)"
      ],
      "metadata": {
        "colab": {
          "base_uri": "https://localhost:8080/",
          "height": 363
        },
        "id": "4EcCPZeEWFpF",
        "outputId": "c3183092-2953-4d74-831e-c8989d9d0ba2"
      },
      "execution_count": 12,
      "outputs": [
        {
          "output_type": "execute_result",
          "data": {
            "text/plain": [
              "                                            HEADLINE CATEGORY\n",
              "0  Total Aset Keuangan Syariah RI Tembus Rp2.200 ...  EKONOMI\n",
              "1         VIDEO: Bagaimana Cara Kerja Robot Trading?  EKONOMI\n",
              "2  5 Dampak Kenaikan Suku Bunga BI yang Bikin Beb...  EKONOMI\n",
              "3  Heru Mundur dari Kursi Komisaris BTN Sebelum D...  EKONOMI\n",
              "4  INFOGRAFIS: Efek Berantai Penguatan Dolar AS k...  EKONOMI\n",
              "5  Rupiah Lunglai ke Rp15.695 per Dolar AS Imbas ...  EKONOMI\n",
              "6  Moody's Pangkas Outlook Peringkat Utang Inggri...  EKONOMI\n",
              "7  Suku Bunga The Fed Tekuk Rupiah Berlutut Nyari...  EKONOMI\n",
              "8  Jasa Raharja Santuni 18 Korban Kebakaran KM Ca...  EKONOMI\n",
              "9  Rupiah Menguat ke Rp15.563 usai Imbal Hasil Ob...  EKONOMI"
            ],
            "text/html": [
              "\n",
              "  <div id=\"df-b94df165-f4db-4a45-a70d-89dbe536de8b\">\n",
              "    <div class=\"colab-df-container\">\n",
              "      <div>\n",
              "<style scoped>\n",
              "    .dataframe tbody tr th:only-of-type {\n",
              "        vertical-align: middle;\n",
              "    }\n",
              "\n",
              "    .dataframe tbody tr th {\n",
              "        vertical-align: top;\n",
              "    }\n",
              "\n",
              "    .dataframe thead th {\n",
              "        text-align: right;\n",
              "    }\n",
              "</style>\n",
              "<table border=\"1\" class=\"dataframe\">\n",
              "  <thead>\n",
              "    <tr style=\"text-align: right;\">\n",
              "      <th></th>\n",
              "      <th>HEADLINE</th>\n",
              "      <th>CATEGORY</th>\n",
              "    </tr>\n",
              "  </thead>\n",
              "  <tbody>\n",
              "    <tr>\n",
              "      <th>0</th>\n",
              "      <td>Total Aset Keuangan Syariah RI Tembus Rp2.200 ...</td>\n",
              "      <td>EKONOMI</td>\n",
              "    </tr>\n",
              "    <tr>\n",
              "      <th>1</th>\n",
              "      <td>VIDEO: Bagaimana Cara Kerja Robot Trading?</td>\n",
              "      <td>EKONOMI</td>\n",
              "    </tr>\n",
              "    <tr>\n",
              "      <th>2</th>\n",
              "      <td>5 Dampak Kenaikan Suku Bunga BI yang Bikin Beb...</td>\n",
              "      <td>EKONOMI</td>\n",
              "    </tr>\n",
              "    <tr>\n",
              "      <th>3</th>\n",
              "      <td>Heru Mundur dari Kursi Komisaris BTN Sebelum D...</td>\n",
              "      <td>EKONOMI</td>\n",
              "    </tr>\n",
              "    <tr>\n",
              "      <th>4</th>\n",
              "      <td>INFOGRAFIS: Efek Berantai Penguatan Dolar AS k...</td>\n",
              "      <td>EKONOMI</td>\n",
              "    </tr>\n",
              "    <tr>\n",
              "      <th>5</th>\n",
              "      <td>Rupiah Lunglai ke Rp15.695 per Dolar AS Imbas ...</td>\n",
              "      <td>EKONOMI</td>\n",
              "    </tr>\n",
              "    <tr>\n",
              "      <th>6</th>\n",
              "      <td>Moody's Pangkas Outlook Peringkat Utang Inggri...</td>\n",
              "      <td>EKONOMI</td>\n",
              "    </tr>\n",
              "    <tr>\n",
              "      <th>7</th>\n",
              "      <td>Suku Bunga The Fed Tekuk Rupiah Berlutut Nyari...</td>\n",
              "      <td>EKONOMI</td>\n",
              "    </tr>\n",
              "    <tr>\n",
              "      <th>8</th>\n",
              "      <td>Jasa Raharja Santuni 18 Korban Kebakaran KM Ca...</td>\n",
              "      <td>EKONOMI</td>\n",
              "    </tr>\n",
              "    <tr>\n",
              "      <th>9</th>\n",
              "      <td>Rupiah Menguat ke Rp15.563 usai Imbal Hasil Ob...</td>\n",
              "      <td>EKONOMI</td>\n",
              "    </tr>\n",
              "  </tbody>\n",
              "</table>\n",
              "</div>\n",
              "      <button class=\"colab-df-convert\" onclick=\"convertToInteractive('df-b94df165-f4db-4a45-a70d-89dbe536de8b')\"\n",
              "              title=\"Convert this dataframe to an interactive table.\"\n",
              "              style=\"display:none;\">\n",
              "        \n",
              "  <svg xmlns=\"http://www.w3.org/2000/svg\" height=\"24px\"viewBox=\"0 0 24 24\"\n",
              "       width=\"24px\">\n",
              "    <path d=\"M0 0h24v24H0V0z\" fill=\"none\"/>\n",
              "    <path d=\"M18.56 5.44l.94 2.06.94-2.06 2.06-.94-2.06-.94-.94-2.06-.94 2.06-2.06.94zm-11 1L8.5 8.5l.94-2.06 2.06-.94-2.06-.94L8.5 2.5l-.94 2.06-2.06.94zm10 10l.94 2.06.94-2.06 2.06-.94-2.06-.94-.94-2.06-.94 2.06-2.06.94z\"/><path d=\"M17.41 7.96l-1.37-1.37c-.4-.4-.92-.59-1.43-.59-.52 0-1.04.2-1.43.59L10.3 9.45l-7.72 7.72c-.78.78-.78 2.05 0 2.83L4 21.41c.39.39.9.59 1.41.59.51 0 1.02-.2 1.41-.59l7.78-7.78 2.81-2.81c.8-.78.8-2.07 0-2.86zM5.41 20L4 18.59l7.72-7.72 1.47 1.35L5.41 20z\"/>\n",
              "  </svg>\n",
              "      </button>\n",
              "      \n",
              "  <style>\n",
              "    .colab-df-container {\n",
              "      display:flex;\n",
              "      flex-wrap:wrap;\n",
              "      gap: 12px;\n",
              "    }\n",
              "\n",
              "    .colab-df-convert {\n",
              "      background-color: #E8F0FE;\n",
              "      border: none;\n",
              "      border-radius: 50%;\n",
              "      cursor: pointer;\n",
              "      display: none;\n",
              "      fill: #1967D2;\n",
              "      height: 32px;\n",
              "      padding: 0 0 0 0;\n",
              "      width: 32px;\n",
              "    }\n",
              "\n",
              "    .colab-df-convert:hover {\n",
              "      background-color: #E2EBFA;\n",
              "      box-shadow: 0px 1px 2px rgba(60, 64, 67, 0.3), 0px 1px 3px 1px rgba(60, 64, 67, 0.15);\n",
              "      fill: #174EA6;\n",
              "    }\n",
              "\n",
              "    [theme=dark] .colab-df-convert {\n",
              "      background-color: #3B4455;\n",
              "      fill: #D2E3FC;\n",
              "    }\n",
              "\n",
              "    [theme=dark] .colab-df-convert:hover {\n",
              "      background-color: #434B5C;\n",
              "      box-shadow: 0px 1px 3px 1px rgba(0, 0, 0, 0.15);\n",
              "      filter: drop-shadow(0px 1px 2px rgba(0, 0, 0, 0.3));\n",
              "      fill: #FFFFFF;\n",
              "    }\n",
              "  </style>\n",
              "\n",
              "      <script>\n",
              "        const buttonEl =\n",
              "          document.querySelector('#df-b94df165-f4db-4a45-a70d-89dbe536de8b button.colab-df-convert');\n",
              "        buttonEl.style.display =\n",
              "          google.colab.kernel.accessAllowed ? 'block' : 'none';\n",
              "\n",
              "        async function convertToInteractive(key) {\n",
              "          const element = document.querySelector('#df-b94df165-f4db-4a45-a70d-89dbe536de8b');\n",
              "          const dataTable =\n",
              "            await google.colab.kernel.invokeFunction('convertToInteractive',\n",
              "                                                     [key], {});\n",
              "          if (!dataTable) return;\n",
              "\n",
              "          const docLinkHtml = 'Like what you see? Visit the ' +\n",
              "            '<a target=\"_blank\" href=https://colab.research.google.com/notebooks/data_table.ipynb>data table notebook</a>'\n",
              "            + ' to learn more about interactive tables.';\n",
              "          element.innerHTML = '';\n",
              "          dataTable['output_type'] = 'display_data';\n",
              "          await google.colab.output.renderOutput(dataTable, element);\n",
              "          const docLink = document.createElement('div');\n",
              "          docLink.innerHTML = docLinkHtml;\n",
              "          element.appendChild(docLink);\n",
              "        }\n",
              "      </script>\n",
              "    </div>\n",
              "  </div>\n",
              "  "
            ]
          },
          "metadata": {},
          "execution_count": 12
        }
      ]
    },
    {
      "cell_type": "code",
      "source": [
        "import string\n",
        "string.punctuation"
      ],
      "metadata": {
        "colab": {
          "base_uri": "https://localhost:8080/",
          "height": 35
        },
        "id": "U6F_PY88WViO",
        "outputId": "b05017c4-4b0e-4a14-9c28-8cc9a70cf9f0"
      },
      "execution_count": 13,
      "outputs": [
        {
          "output_type": "execute_result",
          "data": {
            "text/plain": [
              "'!\"#$%&\\'()*+,-./:;<=>?@[\\\\]^_`{|}~'"
            ],
            "application/vnd.google.colaboratory.intrinsic+json": {
              "type": "string"
            }
          },
          "metadata": {},
          "execution_count": 13
        }
      ]
    },
    {
      "cell_type": "markdown",
      "source": [
        "Hilangakn tanda baca"
      ],
      "metadata": {
        "id": "3UjqfgF1Wetv"
      }
    },
    {
      "cell_type": "code",
      "source": [
        "def remove_punct(text):\n",
        "    text_nopunct = \"\".join([char for char in text if char not in string.punctuation])\n",
        "    return text_nopunct\n",
        "\n",
        "data['HEADLINE_CLEAN'] = data['HEADLINE'].apply(lambda x: remove_punct(x))\n",
        "\n",
        "data.head(10)"
      ],
      "metadata": {
        "colab": {
          "base_uri": "https://localhost:8080/",
          "height": 363
        },
        "id": "hcwJ-x3bWd2F",
        "outputId": "b565c33e-65ac-4cb3-8653-bbfb597c5114"
      },
      "execution_count": 14,
      "outputs": [
        {
          "output_type": "execute_result",
          "data": {
            "text/plain": [
              "                                            HEADLINE CATEGORY  \\\n",
              "0  Total Aset Keuangan Syariah RI Tembus Rp2.200 ...  EKONOMI   \n",
              "1         VIDEO: Bagaimana Cara Kerja Robot Trading?  EKONOMI   \n",
              "2  5 Dampak Kenaikan Suku Bunga BI yang Bikin Beb...  EKONOMI   \n",
              "3  Heru Mundur dari Kursi Komisaris BTN Sebelum D...  EKONOMI   \n",
              "4  INFOGRAFIS: Efek Berantai Penguatan Dolar AS k...  EKONOMI   \n",
              "5  Rupiah Lunglai ke Rp15.695 per Dolar AS Imbas ...  EKONOMI   \n",
              "6  Moody's Pangkas Outlook Peringkat Utang Inggri...  EKONOMI   \n",
              "7  Suku Bunga The Fed Tekuk Rupiah Berlutut Nyari...  EKONOMI   \n",
              "8  Jasa Raharja Santuni 18 Korban Kebakaran KM Ca...  EKONOMI   \n",
              "9  Rupiah Menguat ke Rp15.563 usai Imbal Hasil Ob...  EKONOMI   \n",
              "\n",
              "                                      HEADLINE_CLEAN  \n",
              "0  Total Aset Keuangan Syariah RI Tembus Rp2200 T...  \n",
              "1           VIDEO Bagaimana Cara Kerja Robot Trading  \n",
              "2  5 Dampak Kenaikan Suku Bunga BI yang Bikin Beb...  \n",
              "3  Heru Mundur dari Kursi Komisaris BTN Sebelum D...  \n",
              "4  INFOGRAFIS Efek Berantai Penguatan Dolar AS ke...  \n",
              "5  Rupiah Lunglai ke Rp15695 per Dolar AS Imbas B...  \n",
              "6  Moodys Pangkas Outlook Peringkat Utang Inggris...  \n",
              "7  Suku Bunga The Fed Tekuk Rupiah Berlutut Nyari...  \n",
              "8  Jasa Raharja Santuni 18 Korban Kebakaran KM Ca...  \n",
              "9  Rupiah Menguat ke Rp15563 usai Imbal Hasil Obl...  "
            ],
            "text/html": [
              "\n",
              "  <div id=\"df-3e3f4889-55a6-4a86-af32-311817111753\">\n",
              "    <div class=\"colab-df-container\">\n",
              "      <div>\n",
              "<style scoped>\n",
              "    .dataframe tbody tr th:only-of-type {\n",
              "        vertical-align: middle;\n",
              "    }\n",
              "\n",
              "    .dataframe tbody tr th {\n",
              "        vertical-align: top;\n",
              "    }\n",
              "\n",
              "    .dataframe thead th {\n",
              "        text-align: right;\n",
              "    }\n",
              "</style>\n",
              "<table border=\"1\" class=\"dataframe\">\n",
              "  <thead>\n",
              "    <tr style=\"text-align: right;\">\n",
              "      <th></th>\n",
              "      <th>HEADLINE</th>\n",
              "      <th>CATEGORY</th>\n",
              "      <th>HEADLINE_CLEAN</th>\n",
              "    </tr>\n",
              "  </thead>\n",
              "  <tbody>\n",
              "    <tr>\n",
              "      <th>0</th>\n",
              "      <td>Total Aset Keuangan Syariah RI Tembus Rp2.200 ...</td>\n",
              "      <td>EKONOMI</td>\n",
              "      <td>Total Aset Keuangan Syariah RI Tembus Rp2200 T...</td>\n",
              "    </tr>\n",
              "    <tr>\n",
              "      <th>1</th>\n",
              "      <td>VIDEO: Bagaimana Cara Kerja Robot Trading?</td>\n",
              "      <td>EKONOMI</td>\n",
              "      <td>VIDEO Bagaimana Cara Kerja Robot Trading</td>\n",
              "    </tr>\n",
              "    <tr>\n",
              "      <th>2</th>\n",
              "      <td>5 Dampak Kenaikan Suku Bunga BI yang Bikin Beb...</td>\n",
              "      <td>EKONOMI</td>\n",
              "      <td>5 Dampak Kenaikan Suku Bunga BI yang Bikin Beb...</td>\n",
              "    </tr>\n",
              "    <tr>\n",
              "      <th>3</th>\n",
              "      <td>Heru Mundur dari Kursi Komisaris BTN Sebelum D...</td>\n",
              "      <td>EKONOMI</td>\n",
              "      <td>Heru Mundur dari Kursi Komisaris BTN Sebelum D...</td>\n",
              "    </tr>\n",
              "    <tr>\n",
              "      <th>4</th>\n",
              "      <td>INFOGRAFIS: Efek Berantai Penguatan Dolar AS k...</td>\n",
              "      <td>EKONOMI</td>\n",
              "      <td>INFOGRAFIS Efek Berantai Penguatan Dolar AS ke...</td>\n",
              "    </tr>\n",
              "    <tr>\n",
              "      <th>5</th>\n",
              "      <td>Rupiah Lunglai ke Rp15.695 per Dolar AS Imbas ...</td>\n",
              "      <td>EKONOMI</td>\n",
              "      <td>Rupiah Lunglai ke Rp15695 per Dolar AS Imbas B...</td>\n",
              "    </tr>\n",
              "    <tr>\n",
              "      <th>6</th>\n",
              "      <td>Moody's Pangkas Outlook Peringkat Utang Inggri...</td>\n",
              "      <td>EKONOMI</td>\n",
              "      <td>Moodys Pangkas Outlook Peringkat Utang Inggris...</td>\n",
              "    </tr>\n",
              "    <tr>\n",
              "      <th>7</th>\n",
              "      <td>Suku Bunga The Fed Tekuk Rupiah Berlutut Nyari...</td>\n",
              "      <td>EKONOMI</td>\n",
              "      <td>Suku Bunga The Fed Tekuk Rupiah Berlutut Nyari...</td>\n",
              "    </tr>\n",
              "    <tr>\n",
              "      <th>8</th>\n",
              "      <td>Jasa Raharja Santuni 18 Korban Kebakaran KM Ca...</td>\n",
              "      <td>EKONOMI</td>\n",
              "      <td>Jasa Raharja Santuni 18 Korban Kebakaran KM Ca...</td>\n",
              "    </tr>\n",
              "    <tr>\n",
              "      <th>9</th>\n",
              "      <td>Rupiah Menguat ke Rp15.563 usai Imbal Hasil Ob...</td>\n",
              "      <td>EKONOMI</td>\n",
              "      <td>Rupiah Menguat ke Rp15563 usai Imbal Hasil Obl...</td>\n",
              "    </tr>\n",
              "  </tbody>\n",
              "</table>\n",
              "</div>\n",
              "      <button class=\"colab-df-convert\" onclick=\"convertToInteractive('df-3e3f4889-55a6-4a86-af32-311817111753')\"\n",
              "              title=\"Convert this dataframe to an interactive table.\"\n",
              "              style=\"display:none;\">\n",
              "        \n",
              "  <svg xmlns=\"http://www.w3.org/2000/svg\" height=\"24px\"viewBox=\"0 0 24 24\"\n",
              "       width=\"24px\">\n",
              "    <path d=\"M0 0h24v24H0V0z\" fill=\"none\"/>\n",
              "    <path d=\"M18.56 5.44l.94 2.06.94-2.06 2.06-.94-2.06-.94-.94-2.06-.94 2.06-2.06.94zm-11 1L8.5 8.5l.94-2.06 2.06-.94-2.06-.94L8.5 2.5l-.94 2.06-2.06.94zm10 10l.94 2.06.94-2.06 2.06-.94-2.06-.94-.94-2.06-.94 2.06-2.06.94z\"/><path d=\"M17.41 7.96l-1.37-1.37c-.4-.4-.92-.59-1.43-.59-.52 0-1.04.2-1.43.59L10.3 9.45l-7.72 7.72c-.78.78-.78 2.05 0 2.83L4 21.41c.39.39.9.59 1.41.59.51 0 1.02-.2 1.41-.59l7.78-7.78 2.81-2.81c.8-.78.8-2.07 0-2.86zM5.41 20L4 18.59l7.72-7.72 1.47 1.35L5.41 20z\"/>\n",
              "  </svg>\n",
              "      </button>\n",
              "      \n",
              "  <style>\n",
              "    .colab-df-container {\n",
              "      display:flex;\n",
              "      flex-wrap:wrap;\n",
              "      gap: 12px;\n",
              "    }\n",
              "\n",
              "    .colab-df-convert {\n",
              "      background-color: #E8F0FE;\n",
              "      border: none;\n",
              "      border-radius: 50%;\n",
              "      cursor: pointer;\n",
              "      display: none;\n",
              "      fill: #1967D2;\n",
              "      height: 32px;\n",
              "      padding: 0 0 0 0;\n",
              "      width: 32px;\n",
              "    }\n",
              "\n",
              "    .colab-df-convert:hover {\n",
              "      background-color: #E2EBFA;\n",
              "      box-shadow: 0px 1px 2px rgba(60, 64, 67, 0.3), 0px 1px 3px 1px rgba(60, 64, 67, 0.15);\n",
              "      fill: #174EA6;\n",
              "    }\n",
              "\n",
              "    [theme=dark] .colab-df-convert {\n",
              "      background-color: #3B4455;\n",
              "      fill: #D2E3FC;\n",
              "    }\n",
              "\n",
              "    [theme=dark] .colab-df-convert:hover {\n",
              "      background-color: #434B5C;\n",
              "      box-shadow: 0px 1px 3px 1px rgba(0, 0, 0, 0.15);\n",
              "      filter: drop-shadow(0px 1px 2px rgba(0, 0, 0, 0.3));\n",
              "      fill: #FFFFFF;\n",
              "    }\n",
              "  </style>\n",
              "\n",
              "      <script>\n",
              "        const buttonEl =\n",
              "          document.querySelector('#df-3e3f4889-55a6-4a86-af32-311817111753 button.colab-df-convert');\n",
              "        buttonEl.style.display =\n",
              "          google.colab.kernel.accessAllowed ? 'block' : 'none';\n",
              "\n",
              "        async function convertToInteractive(key) {\n",
              "          const element = document.querySelector('#df-3e3f4889-55a6-4a86-af32-311817111753');\n",
              "          const dataTable =\n",
              "            await google.colab.kernel.invokeFunction('convertToInteractive',\n",
              "                                                     [key], {});\n",
              "          if (!dataTable) return;\n",
              "\n",
              "          const docLinkHtml = 'Like what you see? Visit the ' +\n",
              "            '<a target=\"_blank\" href=https://colab.research.google.com/notebooks/data_table.ipynb>data table notebook</a>'\n",
              "            + ' to learn more about interactive tables.';\n",
              "          element.innerHTML = '';\n",
              "          dataTable['output_type'] = 'display_data';\n",
              "          await google.colab.output.renderOutput(dataTable, element);\n",
              "          const docLink = document.createElement('div');\n",
              "          docLink.innerHTML = docLinkHtml;\n",
              "          element.appendChild(docLink);\n",
              "        }\n",
              "      </script>\n",
              "    </div>\n",
              "  </div>\n",
              "  "
            ]
          },
          "metadata": {},
          "execution_count": 14
        }
      ]
    },
    {
      "cell_type": "code",
      "source": [
        "import re\n",
        "\n",
        "def tokenize(text):\n",
        "    tokens = re.split('\\W+', text)\n",
        "    return tokens\n",
        "\n",
        "data['HEADLINE_TOKENIZE'] = data['HEADLINE_CLEAN'].apply(lambda x: tokenize(x.lower()))\n",
        "\n",
        "data.head(10)"
      ],
      "metadata": {
        "colab": {
          "base_uri": "https://localhost:8080/",
          "height": 363
        },
        "id": "5DOk_BPhdm6M",
        "outputId": "584cb786-7fef-4624-f1b2-d8b3681b58e2"
      },
      "execution_count": 15,
      "outputs": [
        {
          "output_type": "execute_result",
          "data": {
            "text/plain": [
              "                                            HEADLINE CATEGORY  \\\n",
              "0  Total Aset Keuangan Syariah RI Tembus Rp2.200 ...  EKONOMI   \n",
              "1         VIDEO: Bagaimana Cara Kerja Robot Trading?  EKONOMI   \n",
              "2  5 Dampak Kenaikan Suku Bunga BI yang Bikin Beb...  EKONOMI   \n",
              "3  Heru Mundur dari Kursi Komisaris BTN Sebelum D...  EKONOMI   \n",
              "4  INFOGRAFIS: Efek Berantai Penguatan Dolar AS k...  EKONOMI   \n",
              "5  Rupiah Lunglai ke Rp15.695 per Dolar AS Imbas ...  EKONOMI   \n",
              "6  Moody's Pangkas Outlook Peringkat Utang Inggri...  EKONOMI   \n",
              "7  Suku Bunga The Fed Tekuk Rupiah Berlutut Nyari...  EKONOMI   \n",
              "8  Jasa Raharja Santuni 18 Korban Kebakaran KM Ca...  EKONOMI   \n",
              "9  Rupiah Menguat ke Rp15.563 usai Imbal Hasil Ob...  EKONOMI   \n",
              "\n",
              "                                      HEADLINE_CLEAN  \\\n",
              "0  Total Aset Keuangan Syariah RI Tembus Rp2200 T...   \n",
              "1           VIDEO Bagaimana Cara Kerja Robot Trading   \n",
              "2  5 Dampak Kenaikan Suku Bunga BI yang Bikin Beb...   \n",
              "3  Heru Mundur dari Kursi Komisaris BTN Sebelum D...   \n",
              "4  INFOGRAFIS Efek Berantai Penguatan Dolar AS ke...   \n",
              "5  Rupiah Lunglai ke Rp15695 per Dolar AS Imbas B...   \n",
              "6  Moodys Pangkas Outlook Peringkat Utang Inggris...   \n",
              "7  Suku Bunga The Fed Tekuk Rupiah Berlutut Nyari...   \n",
              "8  Jasa Raharja Santuni 18 Korban Kebakaran KM Ca...   \n",
              "9  Rupiah Menguat ke Rp15563 usai Imbal Hasil Obl...   \n",
              "\n",
              "                                   HEADLINE_TOKENIZE  \n",
              "0  [total, aset, keuangan, syariah, ri, tembus, r...  \n",
              "1    [video, bagaimana, cara, kerja, robot, trading]  \n",
              "2  [5, dampak, kenaikan, suku, bunga, bi, yang, b...  \n",
              "3  [heru, mundur, dari, kursi, komisaris, btn, se...  \n",
              "4  [infografis, efek, berantai, penguatan, dolar,...  \n",
              "5  [rupiah, lunglai, ke, rp15695, per, dolar, as,...  \n",
              "6  [moodys, pangkas, outlook, peringkat, utang, i...  \n",
              "7  [suku, bunga, the, fed, tekuk, rupiah, berlutu...  \n",
              "8  [jasa, raharja, santuni, 18, korban, kebakaran...  \n",
              "9  [rupiah, menguat, ke, rp15563, usai, imbal, ha...  "
            ],
            "text/html": [
              "\n",
              "  <div id=\"df-58c6de92-c7ba-47a8-8c8e-93bc445fa759\">\n",
              "    <div class=\"colab-df-container\">\n",
              "      <div>\n",
              "<style scoped>\n",
              "    .dataframe tbody tr th:only-of-type {\n",
              "        vertical-align: middle;\n",
              "    }\n",
              "\n",
              "    .dataframe tbody tr th {\n",
              "        vertical-align: top;\n",
              "    }\n",
              "\n",
              "    .dataframe thead th {\n",
              "        text-align: right;\n",
              "    }\n",
              "</style>\n",
              "<table border=\"1\" class=\"dataframe\">\n",
              "  <thead>\n",
              "    <tr style=\"text-align: right;\">\n",
              "      <th></th>\n",
              "      <th>HEADLINE</th>\n",
              "      <th>CATEGORY</th>\n",
              "      <th>HEADLINE_CLEAN</th>\n",
              "      <th>HEADLINE_TOKENIZE</th>\n",
              "    </tr>\n",
              "  </thead>\n",
              "  <tbody>\n",
              "    <tr>\n",
              "      <th>0</th>\n",
              "      <td>Total Aset Keuangan Syariah RI Tembus Rp2.200 ...</td>\n",
              "      <td>EKONOMI</td>\n",
              "      <td>Total Aset Keuangan Syariah RI Tembus Rp2200 T...</td>\n",
              "      <td>[total, aset, keuangan, syariah, ri, tembus, r...</td>\n",
              "    </tr>\n",
              "    <tr>\n",
              "      <th>1</th>\n",
              "      <td>VIDEO: Bagaimana Cara Kerja Robot Trading?</td>\n",
              "      <td>EKONOMI</td>\n",
              "      <td>VIDEO Bagaimana Cara Kerja Robot Trading</td>\n",
              "      <td>[video, bagaimana, cara, kerja, robot, trading]</td>\n",
              "    </tr>\n",
              "    <tr>\n",
              "      <th>2</th>\n",
              "      <td>5 Dampak Kenaikan Suku Bunga BI yang Bikin Beb...</td>\n",
              "      <td>EKONOMI</td>\n",
              "      <td>5 Dampak Kenaikan Suku Bunga BI yang Bikin Beb...</td>\n",
              "      <td>[5, dampak, kenaikan, suku, bunga, bi, yang, b...</td>\n",
              "    </tr>\n",
              "    <tr>\n",
              "      <th>3</th>\n",
              "      <td>Heru Mundur dari Kursi Komisaris BTN Sebelum D...</td>\n",
              "      <td>EKONOMI</td>\n",
              "      <td>Heru Mundur dari Kursi Komisaris BTN Sebelum D...</td>\n",
              "      <td>[heru, mundur, dari, kursi, komisaris, btn, se...</td>\n",
              "    </tr>\n",
              "    <tr>\n",
              "      <th>4</th>\n",
              "      <td>INFOGRAFIS: Efek Berantai Penguatan Dolar AS k...</td>\n",
              "      <td>EKONOMI</td>\n",
              "      <td>INFOGRAFIS Efek Berantai Penguatan Dolar AS ke...</td>\n",
              "      <td>[infografis, efek, berantai, penguatan, dolar,...</td>\n",
              "    </tr>\n",
              "    <tr>\n",
              "      <th>5</th>\n",
              "      <td>Rupiah Lunglai ke Rp15.695 per Dolar AS Imbas ...</td>\n",
              "      <td>EKONOMI</td>\n",
              "      <td>Rupiah Lunglai ke Rp15695 per Dolar AS Imbas B...</td>\n",
              "      <td>[rupiah, lunglai, ke, rp15695, per, dolar, as,...</td>\n",
              "    </tr>\n",
              "    <tr>\n",
              "      <th>6</th>\n",
              "      <td>Moody's Pangkas Outlook Peringkat Utang Inggri...</td>\n",
              "      <td>EKONOMI</td>\n",
              "      <td>Moodys Pangkas Outlook Peringkat Utang Inggris...</td>\n",
              "      <td>[moodys, pangkas, outlook, peringkat, utang, i...</td>\n",
              "    </tr>\n",
              "    <tr>\n",
              "      <th>7</th>\n",
              "      <td>Suku Bunga The Fed Tekuk Rupiah Berlutut Nyari...</td>\n",
              "      <td>EKONOMI</td>\n",
              "      <td>Suku Bunga The Fed Tekuk Rupiah Berlutut Nyari...</td>\n",
              "      <td>[suku, bunga, the, fed, tekuk, rupiah, berlutu...</td>\n",
              "    </tr>\n",
              "    <tr>\n",
              "      <th>8</th>\n",
              "      <td>Jasa Raharja Santuni 18 Korban Kebakaran KM Ca...</td>\n",
              "      <td>EKONOMI</td>\n",
              "      <td>Jasa Raharja Santuni 18 Korban Kebakaran KM Ca...</td>\n",
              "      <td>[jasa, raharja, santuni, 18, korban, kebakaran...</td>\n",
              "    </tr>\n",
              "    <tr>\n",
              "      <th>9</th>\n",
              "      <td>Rupiah Menguat ke Rp15.563 usai Imbal Hasil Ob...</td>\n",
              "      <td>EKONOMI</td>\n",
              "      <td>Rupiah Menguat ke Rp15563 usai Imbal Hasil Obl...</td>\n",
              "      <td>[rupiah, menguat, ke, rp15563, usai, imbal, ha...</td>\n",
              "    </tr>\n",
              "  </tbody>\n",
              "</table>\n",
              "</div>\n",
              "      <button class=\"colab-df-convert\" onclick=\"convertToInteractive('df-58c6de92-c7ba-47a8-8c8e-93bc445fa759')\"\n",
              "              title=\"Convert this dataframe to an interactive table.\"\n",
              "              style=\"display:none;\">\n",
              "        \n",
              "  <svg xmlns=\"http://www.w3.org/2000/svg\" height=\"24px\"viewBox=\"0 0 24 24\"\n",
              "       width=\"24px\">\n",
              "    <path d=\"M0 0h24v24H0V0z\" fill=\"none\"/>\n",
              "    <path d=\"M18.56 5.44l.94 2.06.94-2.06 2.06-.94-2.06-.94-.94-2.06-.94 2.06-2.06.94zm-11 1L8.5 8.5l.94-2.06 2.06-.94-2.06-.94L8.5 2.5l-.94 2.06-2.06.94zm10 10l.94 2.06.94-2.06 2.06-.94-2.06-.94-.94-2.06-.94 2.06-2.06.94z\"/><path d=\"M17.41 7.96l-1.37-1.37c-.4-.4-.92-.59-1.43-.59-.52 0-1.04.2-1.43.59L10.3 9.45l-7.72 7.72c-.78.78-.78 2.05 0 2.83L4 21.41c.39.39.9.59 1.41.59.51 0 1.02-.2 1.41-.59l7.78-7.78 2.81-2.81c.8-.78.8-2.07 0-2.86zM5.41 20L4 18.59l7.72-7.72 1.47 1.35L5.41 20z\"/>\n",
              "  </svg>\n",
              "      </button>\n",
              "      \n",
              "  <style>\n",
              "    .colab-df-container {\n",
              "      display:flex;\n",
              "      flex-wrap:wrap;\n",
              "      gap: 12px;\n",
              "    }\n",
              "\n",
              "    .colab-df-convert {\n",
              "      background-color: #E8F0FE;\n",
              "      border: none;\n",
              "      border-radius: 50%;\n",
              "      cursor: pointer;\n",
              "      display: none;\n",
              "      fill: #1967D2;\n",
              "      height: 32px;\n",
              "      padding: 0 0 0 0;\n",
              "      width: 32px;\n",
              "    }\n",
              "\n",
              "    .colab-df-convert:hover {\n",
              "      background-color: #E2EBFA;\n",
              "      box-shadow: 0px 1px 2px rgba(60, 64, 67, 0.3), 0px 1px 3px 1px rgba(60, 64, 67, 0.15);\n",
              "      fill: #174EA6;\n",
              "    }\n",
              "\n",
              "    [theme=dark] .colab-df-convert {\n",
              "      background-color: #3B4455;\n",
              "      fill: #D2E3FC;\n",
              "    }\n",
              "\n",
              "    [theme=dark] .colab-df-convert:hover {\n",
              "      background-color: #434B5C;\n",
              "      box-shadow: 0px 1px 3px 1px rgba(0, 0, 0, 0.15);\n",
              "      filter: drop-shadow(0px 1px 2px rgba(0, 0, 0, 0.3));\n",
              "      fill: #FFFFFF;\n",
              "    }\n",
              "  </style>\n",
              "\n",
              "      <script>\n",
              "        const buttonEl =\n",
              "          document.querySelector('#df-58c6de92-c7ba-47a8-8c8e-93bc445fa759 button.colab-df-convert');\n",
              "        buttonEl.style.display =\n",
              "          google.colab.kernel.accessAllowed ? 'block' : 'none';\n",
              "\n",
              "        async function convertToInteractive(key) {\n",
              "          const element = document.querySelector('#df-58c6de92-c7ba-47a8-8c8e-93bc445fa759');\n",
              "          const dataTable =\n",
              "            await google.colab.kernel.invokeFunction('convertToInteractive',\n",
              "                                                     [key], {});\n",
              "          if (!dataTable) return;\n",
              "\n",
              "          const docLinkHtml = 'Like what you see? Visit the ' +\n",
              "            '<a target=\"_blank\" href=https://colab.research.google.com/notebooks/data_table.ipynb>data table notebook</a>'\n",
              "            + ' to learn more about interactive tables.';\n",
              "          element.innerHTML = '';\n",
              "          dataTable['output_type'] = 'display_data';\n",
              "          await google.colab.output.renderOutput(dataTable, element);\n",
              "          const docLink = document.createElement('div');\n",
              "          docLink.innerHTML = docLinkHtml;\n",
              "          element.appendChild(docLink);\n",
              "        }\n",
              "      </script>\n",
              "    </div>\n",
              "  </div>\n",
              "  "
            ]
          },
          "metadata": {},
          "execution_count": 15
        }
      ]
    },
    {
      "cell_type": "markdown",
      "source": [
        "Hilangkan STOPWORD dalam bahasa Indonesia\n"
      ],
      "metadata": {
        "id": "RvpMKnihXHWe"
      }
    },
    {
      "cell_type": "code",
      "source": [
        "import nltk\n",
        "nltk.download('stopwords')"
      ],
      "metadata": {
        "colab": {
          "base_uri": "https://localhost:8080/"
        },
        "id": "5sXnx7-uYSA1",
        "outputId": "a23fd7a4-298a-478c-97f3-876b475575d4"
      },
      "execution_count": 16,
      "outputs": [
        {
          "output_type": "stream",
          "name": "stderr",
          "text": [
            "[nltk_data] Downloading package stopwords to /root/nltk_data...\n",
            "[nltk_data]   Unzipping corpora/stopwords.zip.\n"
          ]
        },
        {
          "output_type": "execute_result",
          "data": {
            "text/plain": [
              "True"
            ]
          },
          "metadata": {},
          "execution_count": 16
        }
      ]
    },
    {
      "cell_type": "code",
      "source": [
        "stopword = nltk.corpus.stopwords.words('indonesian')"
      ],
      "metadata": {
        "id": "lN2dFER1YZ4h"
      },
      "execution_count": 17,
      "outputs": []
    },
    {
      "cell_type": "code",
      "source": [
        "stopword[:5]\n",
        "stopword = [f' {x} ' for x in stopword]\n",
        "stopword[:5]"
      ],
      "metadata": {
        "colab": {
          "base_uri": "https://localhost:8080/"
        },
        "id": "SqQEifBtYuRK",
        "outputId": "71287723-1fb2-4846-aaf4-935cc19f7560"
      },
      "execution_count": 18,
      "outputs": [
        {
          "output_type": "execute_result",
          "data": {
            "text/plain": [
              "[' ada ', ' adalah ', ' adanya ', ' adapun ', ' agak ']"
            ]
          },
          "metadata": {},
          "execution_count": 18
        }
      ]
    },
    {
      "cell_type": "code",
      "source": [
        "def remove_stopwords(tokenized_list):\n",
        "    text = [word for word in tokenized_list if word not in stopword]\n",
        "    return text\n",
        "\n",
        "data['HEADLINE_NON_STP'] = data['HEADLINE_TOKENIZE'].apply(lambda x: remove_stopwords(x))\n",
        "\n",
        "data.head(10)"
      ],
      "metadata": {
        "colab": {
          "base_uri": "https://localhost:8080/",
          "height": 363
        },
        "id": "r6Yt-5P9axaI",
        "outputId": "05270f2d-12e1-4d57-b7bc-446256558647"
      },
      "execution_count": 19,
      "outputs": [
        {
          "output_type": "execute_result",
          "data": {
            "text/plain": [
              "                                            HEADLINE CATEGORY  \\\n",
              "0  Total Aset Keuangan Syariah RI Tembus Rp2.200 ...  EKONOMI   \n",
              "1         VIDEO: Bagaimana Cara Kerja Robot Trading?  EKONOMI   \n",
              "2  5 Dampak Kenaikan Suku Bunga BI yang Bikin Beb...  EKONOMI   \n",
              "3  Heru Mundur dari Kursi Komisaris BTN Sebelum D...  EKONOMI   \n",
              "4  INFOGRAFIS: Efek Berantai Penguatan Dolar AS k...  EKONOMI   \n",
              "5  Rupiah Lunglai ke Rp15.695 per Dolar AS Imbas ...  EKONOMI   \n",
              "6  Moody's Pangkas Outlook Peringkat Utang Inggri...  EKONOMI   \n",
              "7  Suku Bunga The Fed Tekuk Rupiah Berlutut Nyari...  EKONOMI   \n",
              "8  Jasa Raharja Santuni 18 Korban Kebakaran KM Ca...  EKONOMI   \n",
              "9  Rupiah Menguat ke Rp15.563 usai Imbal Hasil Ob...  EKONOMI   \n",
              "\n",
              "                                      HEADLINE_CLEAN  \\\n",
              "0  Total Aset Keuangan Syariah RI Tembus Rp2200 T...   \n",
              "1           VIDEO Bagaimana Cara Kerja Robot Trading   \n",
              "2  5 Dampak Kenaikan Suku Bunga BI yang Bikin Beb...   \n",
              "3  Heru Mundur dari Kursi Komisaris BTN Sebelum D...   \n",
              "4  INFOGRAFIS Efek Berantai Penguatan Dolar AS ke...   \n",
              "5  Rupiah Lunglai ke Rp15695 per Dolar AS Imbas B...   \n",
              "6  Moodys Pangkas Outlook Peringkat Utang Inggris...   \n",
              "7  Suku Bunga The Fed Tekuk Rupiah Berlutut Nyari...   \n",
              "8  Jasa Raharja Santuni 18 Korban Kebakaran KM Ca...   \n",
              "9  Rupiah Menguat ke Rp15563 usai Imbal Hasil Obl...   \n",
              "\n",
              "                                   HEADLINE_TOKENIZE  \\\n",
              "0  [total, aset, keuangan, syariah, ri, tembus, r...   \n",
              "1    [video, bagaimana, cara, kerja, robot, trading]   \n",
              "2  [5, dampak, kenaikan, suku, bunga, bi, yang, b...   \n",
              "3  [heru, mundur, dari, kursi, komisaris, btn, se...   \n",
              "4  [infografis, efek, berantai, penguatan, dolar,...   \n",
              "5  [rupiah, lunglai, ke, rp15695, per, dolar, as,...   \n",
              "6  [moodys, pangkas, outlook, peringkat, utang, i...   \n",
              "7  [suku, bunga, the, fed, tekuk, rupiah, berlutu...   \n",
              "8  [jasa, raharja, santuni, 18, korban, kebakaran...   \n",
              "9  [rupiah, menguat, ke, rp15563, usai, imbal, ha...   \n",
              "\n",
              "                                    HEADLINE_NON_STP  \n",
              "0  [total, aset, keuangan, syariah, ri, tembus, r...  \n",
              "1    [video, bagaimana, cara, kerja, robot, trading]  \n",
              "2  [5, dampak, kenaikan, suku, bunga, bi, yang, b...  \n",
              "3  [heru, mundur, dari, kursi, komisaris, btn, se...  \n",
              "4  [infografis, efek, berantai, penguatan, dolar,...  \n",
              "5  [rupiah, lunglai, ke, rp15695, per, dolar, as,...  \n",
              "6  [moodys, pangkas, outlook, peringkat, utang, i...  \n",
              "7  [suku, bunga, the, fed, tekuk, rupiah, berlutu...  \n",
              "8  [jasa, raharja, santuni, 18, korban, kebakaran...  \n",
              "9  [rupiah, menguat, ke, rp15563, usai, imbal, ha...  "
            ],
            "text/html": [
              "\n",
              "  <div id=\"df-f336cf00-dcf8-4025-8d9f-143216cfcf9e\">\n",
              "    <div class=\"colab-df-container\">\n",
              "      <div>\n",
              "<style scoped>\n",
              "    .dataframe tbody tr th:only-of-type {\n",
              "        vertical-align: middle;\n",
              "    }\n",
              "\n",
              "    .dataframe tbody tr th {\n",
              "        vertical-align: top;\n",
              "    }\n",
              "\n",
              "    .dataframe thead th {\n",
              "        text-align: right;\n",
              "    }\n",
              "</style>\n",
              "<table border=\"1\" class=\"dataframe\">\n",
              "  <thead>\n",
              "    <tr style=\"text-align: right;\">\n",
              "      <th></th>\n",
              "      <th>HEADLINE</th>\n",
              "      <th>CATEGORY</th>\n",
              "      <th>HEADLINE_CLEAN</th>\n",
              "      <th>HEADLINE_TOKENIZE</th>\n",
              "      <th>HEADLINE_NON_STP</th>\n",
              "    </tr>\n",
              "  </thead>\n",
              "  <tbody>\n",
              "    <tr>\n",
              "      <th>0</th>\n",
              "      <td>Total Aset Keuangan Syariah RI Tembus Rp2.200 ...</td>\n",
              "      <td>EKONOMI</td>\n",
              "      <td>Total Aset Keuangan Syariah RI Tembus Rp2200 T...</td>\n",
              "      <td>[total, aset, keuangan, syariah, ri, tembus, r...</td>\n",
              "      <td>[total, aset, keuangan, syariah, ri, tembus, r...</td>\n",
              "    </tr>\n",
              "    <tr>\n",
              "      <th>1</th>\n",
              "      <td>VIDEO: Bagaimana Cara Kerja Robot Trading?</td>\n",
              "      <td>EKONOMI</td>\n",
              "      <td>VIDEO Bagaimana Cara Kerja Robot Trading</td>\n",
              "      <td>[video, bagaimana, cara, kerja, robot, trading]</td>\n",
              "      <td>[video, bagaimana, cara, kerja, robot, trading]</td>\n",
              "    </tr>\n",
              "    <tr>\n",
              "      <th>2</th>\n",
              "      <td>5 Dampak Kenaikan Suku Bunga BI yang Bikin Beb...</td>\n",
              "      <td>EKONOMI</td>\n",
              "      <td>5 Dampak Kenaikan Suku Bunga BI yang Bikin Beb...</td>\n",
              "      <td>[5, dampak, kenaikan, suku, bunga, bi, yang, b...</td>\n",
              "      <td>[5, dampak, kenaikan, suku, bunga, bi, yang, b...</td>\n",
              "    </tr>\n",
              "    <tr>\n",
              "      <th>3</th>\n",
              "      <td>Heru Mundur dari Kursi Komisaris BTN Sebelum D...</td>\n",
              "      <td>EKONOMI</td>\n",
              "      <td>Heru Mundur dari Kursi Komisaris BTN Sebelum D...</td>\n",
              "      <td>[heru, mundur, dari, kursi, komisaris, btn, se...</td>\n",
              "      <td>[heru, mundur, dari, kursi, komisaris, btn, se...</td>\n",
              "    </tr>\n",
              "    <tr>\n",
              "      <th>4</th>\n",
              "      <td>INFOGRAFIS: Efek Berantai Penguatan Dolar AS k...</td>\n",
              "      <td>EKONOMI</td>\n",
              "      <td>INFOGRAFIS Efek Berantai Penguatan Dolar AS ke...</td>\n",
              "      <td>[infografis, efek, berantai, penguatan, dolar,...</td>\n",
              "      <td>[infografis, efek, berantai, penguatan, dolar,...</td>\n",
              "    </tr>\n",
              "    <tr>\n",
              "      <th>5</th>\n",
              "      <td>Rupiah Lunglai ke Rp15.695 per Dolar AS Imbas ...</td>\n",
              "      <td>EKONOMI</td>\n",
              "      <td>Rupiah Lunglai ke Rp15695 per Dolar AS Imbas B...</td>\n",
              "      <td>[rupiah, lunglai, ke, rp15695, per, dolar, as,...</td>\n",
              "      <td>[rupiah, lunglai, ke, rp15695, per, dolar, as,...</td>\n",
              "    </tr>\n",
              "    <tr>\n",
              "      <th>6</th>\n",
              "      <td>Moody's Pangkas Outlook Peringkat Utang Inggri...</td>\n",
              "      <td>EKONOMI</td>\n",
              "      <td>Moodys Pangkas Outlook Peringkat Utang Inggris...</td>\n",
              "      <td>[moodys, pangkas, outlook, peringkat, utang, i...</td>\n",
              "      <td>[moodys, pangkas, outlook, peringkat, utang, i...</td>\n",
              "    </tr>\n",
              "    <tr>\n",
              "      <th>7</th>\n",
              "      <td>Suku Bunga The Fed Tekuk Rupiah Berlutut Nyari...</td>\n",
              "      <td>EKONOMI</td>\n",
              "      <td>Suku Bunga The Fed Tekuk Rupiah Berlutut Nyari...</td>\n",
              "      <td>[suku, bunga, the, fed, tekuk, rupiah, berlutu...</td>\n",
              "      <td>[suku, bunga, the, fed, tekuk, rupiah, berlutu...</td>\n",
              "    </tr>\n",
              "    <tr>\n",
              "      <th>8</th>\n",
              "      <td>Jasa Raharja Santuni 18 Korban Kebakaran KM Ca...</td>\n",
              "      <td>EKONOMI</td>\n",
              "      <td>Jasa Raharja Santuni 18 Korban Kebakaran KM Ca...</td>\n",
              "      <td>[jasa, raharja, santuni, 18, korban, kebakaran...</td>\n",
              "      <td>[jasa, raharja, santuni, 18, korban, kebakaran...</td>\n",
              "    </tr>\n",
              "    <tr>\n",
              "      <th>9</th>\n",
              "      <td>Rupiah Menguat ke Rp15.563 usai Imbal Hasil Ob...</td>\n",
              "      <td>EKONOMI</td>\n",
              "      <td>Rupiah Menguat ke Rp15563 usai Imbal Hasil Obl...</td>\n",
              "      <td>[rupiah, menguat, ke, rp15563, usai, imbal, ha...</td>\n",
              "      <td>[rupiah, menguat, ke, rp15563, usai, imbal, ha...</td>\n",
              "    </tr>\n",
              "  </tbody>\n",
              "</table>\n",
              "</div>\n",
              "      <button class=\"colab-df-convert\" onclick=\"convertToInteractive('df-f336cf00-dcf8-4025-8d9f-143216cfcf9e')\"\n",
              "              title=\"Convert this dataframe to an interactive table.\"\n",
              "              style=\"display:none;\">\n",
              "        \n",
              "  <svg xmlns=\"http://www.w3.org/2000/svg\" height=\"24px\"viewBox=\"0 0 24 24\"\n",
              "       width=\"24px\">\n",
              "    <path d=\"M0 0h24v24H0V0z\" fill=\"none\"/>\n",
              "    <path d=\"M18.56 5.44l.94 2.06.94-2.06 2.06-.94-2.06-.94-.94-2.06-.94 2.06-2.06.94zm-11 1L8.5 8.5l.94-2.06 2.06-.94-2.06-.94L8.5 2.5l-.94 2.06-2.06.94zm10 10l.94 2.06.94-2.06 2.06-.94-2.06-.94-.94-2.06-.94 2.06-2.06.94z\"/><path d=\"M17.41 7.96l-1.37-1.37c-.4-.4-.92-.59-1.43-.59-.52 0-1.04.2-1.43.59L10.3 9.45l-7.72 7.72c-.78.78-.78 2.05 0 2.83L4 21.41c.39.39.9.59 1.41.59.51 0 1.02-.2 1.41-.59l7.78-7.78 2.81-2.81c.8-.78.8-2.07 0-2.86zM5.41 20L4 18.59l7.72-7.72 1.47 1.35L5.41 20z\"/>\n",
              "  </svg>\n",
              "      </button>\n",
              "      \n",
              "  <style>\n",
              "    .colab-df-container {\n",
              "      display:flex;\n",
              "      flex-wrap:wrap;\n",
              "      gap: 12px;\n",
              "    }\n",
              "\n",
              "    .colab-df-convert {\n",
              "      background-color: #E8F0FE;\n",
              "      border: none;\n",
              "      border-radius: 50%;\n",
              "      cursor: pointer;\n",
              "      display: none;\n",
              "      fill: #1967D2;\n",
              "      height: 32px;\n",
              "      padding: 0 0 0 0;\n",
              "      width: 32px;\n",
              "    }\n",
              "\n",
              "    .colab-df-convert:hover {\n",
              "      background-color: #E2EBFA;\n",
              "      box-shadow: 0px 1px 2px rgba(60, 64, 67, 0.3), 0px 1px 3px 1px rgba(60, 64, 67, 0.15);\n",
              "      fill: #174EA6;\n",
              "    }\n",
              "\n",
              "    [theme=dark] .colab-df-convert {\n",
              "      background-color: #3B4455;\n",
              "      fill: #D2E3FC;\n",
              "    }\n",
              "\n",
              "    [theme=dark] .colab-df-convert:hover {\n",
              "      background-color: #434B5C;\n",
              "      box-shadow: 0px 1px 3px 1px rgba(0, 0, 0, 0.15);\n",
              "      filter: drop-shadow(0px 1px 2px rgba(0, 0, 0, 0.3));\n",
              "      fill: #FFFFFF;\n",
              "    }\n",
              "  </style>\n",
              "\n",
              "      <script>\n",
              "        const buttonEl =\n",
              "          document.querySelector('#df-f336cf00-dcf8-4025-8d9f-143216cfcf9e button.colab-df-convert');\n",
              "        buttonEl.style.display =\n",
              "          google.colab.kernel.accessAllowed ? 'block' : 'none';\n",
              "\n",
              "        async function convertToInteractive(key) {\n",
              "          const element = document.querySelector('#df-f336cf00-dcf8-4025-8d9f-143216cfcf9e');\n",
              "          const dataTable =\n",
              "            await google.colab.kernel.invokeFunction('convertToInteractive',\n",
              "                                                     [key], {});\n",
              "          if (!dataTable) return;\n",
              "\n",
              "          const docLinkHtml = 'Like what you see? Visit the ' +\n",
              "            '<a target=\"_blank\" href=https://colab.research.google.com/notebooks/data_table.ipynb>data table notebook</a>'\n",
              "            + ' to learn more about interactive tables.';\n",
              "          element.innerHTML = '';\n",
              "          dataTable['output_type'] = 'display_data';\n",
              "          await google.colab.output.renderOutput(dataTable, element);\n",
              "          const docLink = document.createElement('div');\n",
              "          docLink.innerHTML = docLinkHtml;\n",
              "          element.appendChild(docLink);\n",
              "        }\n",
              "      </script>\n",
              "    </div>\n",
              "  </div>\n",
              "  "
            ]
          },
          "metadata": {},
          "execution_count": 19
        }
      ]
    },
    {
      "cell_type": "code",
      "source": [
        "data['HH'] = data['HEADLINE_NON_STP'].str.join(\" \")"
      ],
      "metadata": {
        "id": "jbMOEny2expW"
      },
      "execution_count": 20,
      "outputs": []
    },
    {
      "cell_type": "code",
      "source": [
        "data['HEADLINE'] = data['HH']\n",
        "data=data[['HEADLINE','CATEGORY']]\n",
        "\n",
        "data.head(10)"
      ],
      "metadata": {
        "colab": {
          "base_uri": "https://localhost:8080/",
          "height": 363
        },
        "id": "R5PpMRygbftU",
        "outputId": "7edb9bd8-af09-4867-db8a-c13a64a19810"
      },
      "execution_count": 21,
      "outputs": [
        {
          "output_type": "execute_result",
          "data": {
            "text/plain": [
              "                                            HEADLINE CATEGORY\n",
              "0  total aset keuangan syariah ri tembus rp2200 t...  EKONOMI\n",
              "1           video bagaimana cara kerja robot trading  EKONOMI\n",
              "2  5 dampak kenaikan suku bunga bi yang bikin beb...  EKONOMI\n",
              "3  heru mundur dari kursi komisaris btn sebelum d...  EKONOMI\n",
              "4  infografis efek berantai penguatan dolar as ke...  EKONOMI\n",
              "5  rupiah lunglai ke rp15695 per dolar as imbas b...  EKONOMI\n",
              "6  moodys pangkas outlook peringkat utang inggris...  EKONOMI\n",
              "7  suku bunga the fed tekuk rupiah berlutut nyari...  EKONOMI\n",
              "8  jasa raharja santuni 18 korban kebakaran km ca...  EKONOMI\n",
              "9  rupiah menguat ke rp15563 usai imbal hasil obl...  EKONOMI"
            ],
            "text/html": [
              "\n",
              "  <div id=\"df-632bbd99-6dda-4ee5-8179-71f722ca6452\">\n",
              "    <div class=\"colab-df-container\">\n",
              "      <div>\n",
              "<style scoped>\n",
              "    .dataframe tbody tr th:only-of-type {\n",
              "        vertical-align: middle;\n",
              "    }\n",
              "\n",
              "    .dataframe tbody tr th {\n",
              "        vertical-align: top;\n",
              "    }\n",
              "\n",
              "    .dataframe thead th {\n",
              "        text-align: right;\n",
              "    }\n",
              "</style>\n",
              "<table border=\"1\" class=\"dataframe\">\n",
              "  <thead>\n",
              "    <tr style=\"text-align: right;\">\n",
              "      <th></th>\n",
              "      <th>HEADLINE</th>\n",
              "      <th>CATEGORY</th>\n",
              "    </tr>\n",
              "  </thead>\n",
              "  <tbody>\n",
              "    <tr>\n",
              "      <th>0</th>\n",
              "      <td>total aset keuangan syariah ri tembus rp2200 t...</td>\n",
              "      <td>EKONOMI</td>\n",
              "    </tr>\n",
              "    <tr>\n",
              "      <th>1</th>\n",
              "      <td>video bagaimana cara kerja robot trading</td>\n",
              "      <td>EKONOMI</td>\n",
              "    </tr>\n",
              "    <tr>\n",
              "      <th>2</th>\n",
              "      <td>5 dampak kenaikan suku bunga bi yang bikin beb...</td>\n",
              "      <td>EKONOMI</td>\n",
              "    </tr>\n",
              "    <tr>\n",
              "      <th>3</th>\n",
              "      <td>heru mundur dari kursi komisaris btn sebelum d...</td>\n",
              "      <td>EKONOMI</td>\n",
              "    </tr>\n",
              "    <tr>\n",
              "      <th>4</th>\n",
              "      <td>infografis efek berantai penguatan dolar as ke...</td>\n",
              "      <td>EKONOMI</td>\n",
              "    </tr>\n",
              "    <tr>\n",
              "      <th>5</th>\n",
              "      <td>rupiah lunglai ke rp15695 per dolar as imbas b...</td>\n",
              "      <td>EKONOMI</td>\n",
              "    </tr>\n",
              "    <tr>\n",
              "      <th>6</th>\n",
              "      <td>moodys pangkas outlook peringkat utang inggris...</td>\n",
              "      <td>EKONOMI</td>\n",
              "    </tr>\n",
              "    <tr>\n",
              "      <th>7</th>\n",
              "      <td>suku bunga the fed tekuk rupiah berlutut nyari...</td>\n",
              "      <td>EKONOMI</td>\n",
              "    </tr>\n",
              "    <tr>\n",
              "      <th>8</th>\n",
              "      <td>jasa raharja santuni 18 korban kebakaran km ca...</td>\n",
              "      <td>EKONOMI</td>\n",
              "    </tr>\n",
              "    <tr>\n",
              "      <th>9</th>\n",
              "      <td>rupiah menguat ke rp15563 usai imbal hasil obl...</td>\n",
              "      <td>EKONOMI</td>\n",
              "    </tr>\n",
              "  </tbody>\n",
              "</table>\n",
              "</div>\n",
              "      <button class=\"colab-df-convert\" onclick=\"convertToInteractive('df-632bbd99-6dda-4ee5-8179-71f722ca6452')\"\n",
              "              title=\"Convert this dataframe to an interactive table.\"\n",
              "              style=\"display:none;\">\n",
              "        \n",
              "  <svg xmlns=\"http://www.w3.org/2000/svg\" height=\"24px\"viewBox=\"0 0 24 24\"\n",
              "       width=\"24px\">\n",
              "    <path d=\"M0 0h24v24H0V0z\" fill=\"none\"/>\n",
              "    <path d=\"M18.56 5.44l.94 2.06.94-2.06 2.06-.94-2.06-.94-.94-2.06-.94 2.06-2.06.94zm-11 1L8.5 8.5l.94-2.06 2.06-.94-2.06-.94L8.5 2.5l-.94 2.06-2.06.94zm10 10l.94 2.06.94-2.06 2.06-.94-2.06-.94-.94-2.06-.94 2.06-2.06.94z\"/><path d=\"M17.41 7.96l-1.37-1.37c-.4-.4-.92-.59-1.43-.59-.52 0-1.04.2-1.43.59L10.3 9.45l-7.72 7.72c-.78.78-.78 2.05 0 2.83L4 21.41c.39.39.9.59 1.41.59.51 0 1.02-.2 1.41-.59l7.78-7.78 2.81-2.81c.8-.78.8-2.07 0-2.86zM5.41 20L4 18.59l7.72-7.72 1.47 1.35L5.41 20z\"/>\n",
              "  </svg>\n",
              "      </button>\n",
              "      \n",
              "  <style>\n",
              "    .colab-df-container {\n",
              "      display:flex;\n",
              "      flex-wrap:wrap;\n",
              "      gap: 12px;\n",
              "    }\n",
              "\n",
              "    .colab-df-convert {\n",
              "      background-color: #E8F0FE;\n",
              "      border: none;\n",
              "      border-radius: 50%;\n",
              "      cursor: pointer;\n",
              "      display: none;\n",
              "      fill: #1967D2;\n",
              "      height: 32px;\n",
              "      padding: 0 0 0 0;\n",
              "      width: 32px;\n",
              "    }\n",
              "\n",
              "    .colab-df-convert:hover {\n",
              "      background-color: #E2EBFA;\n",
              "      box-shadow: 0px 1px 2px rgba(60, 64, 67, 0.3), 0px 1px 3px 1px rgba(60, 64, 67, 0.15);\n",
              "      fill: #174EA6;\n",
              "    }\n",
              "\n",
              "    [theme=dark] .colab-df-convert {\n",
              "      background-color: #3B4455;\n",
              "      fill: #D2E3FC;\n",
              "    }\n",
              "\n",
              "    [theme=dark] .colab-df-convert:hover {\n",
              "      background-color: #434B5C;\n",
              "      box-shadow: 0px 1px 3px 1px rgba(0, 0, 0, 0.15);\n",
              "      filter: drop-shadow(0px 1px 2px rgba(0, 0, 0, 0.3));\n",
              "      fill: #FFFFFF;\n",
              "    }\n",
              "  </style>\n",
              "\n",
              "      <script>\n",
              "        const buttonEl =\n",
              "          document.querySelector('#df-632bbd99-6dda-4ee5-8179-71f722ca6452 button.colab-df-convert');\n",
              "        buttonEl.style.display =\n",
              "          google.colab.kernel.accessAllowed ? 'block' : 'none';\n",
              "\n",
              "        async function convertToInteractive(key) {\n",
              "          const element = document.querySelector('#df-632bbd99-6dda-4ee5-8179-71f722ca6452');\n",
              "          const dataTable =\n",
              "            await google.colab.kernel.invokeFunction('convertToInteractive',\n",
              "                                                     [key], {});\n",
              "          if (!dataTable) return;\n",
              "\n",
              "          const docLinkHtml = 'Like what you see? Visit the ' +\n",
              "            '<a target=\"_blank\" href=https://colab.research.google.com/notebooks/data_table.ipynb>data table notebook</a>'\n",
              "            + ' to learn more about interactive tables.';\n",
              "          element.innerHTML = '';\n",
              "          dataTable['output_type'] = 'display_data';\n",
              "          await google.colab.output.renderOutput(dataTable, element);\n",
              "          const docLink = document.createElement('div');\n",
              "          docLink.innerHTML = docLinkHtml;\n",
              "          element.appendChild(docLink);\n",
              "        }\n",
              "      </script>\n",
              "    </div>\n",
              "  </div>\n",
              "  "
            ]
          },
          "metadata": {},
          "execution_count": 21
        }
      ]
    },
    {
      "cell_type": "code",
      "source": [
        "data['CATEGORY'].unique()"
      ],
      "metadata": {
        "colab": {
          "base_uri": "https://localhost:8080/"
        },
        "id": "MBH7j0etajgc",
        "outputId": "dbe82992-f61d-4790-96f6-0434b115257e"
      },
      "execution_count": 22,
      "outputs": [
        {
          "output_type": "execute_result",
          "data": {
            "text/plain": [
              "array(['EKONOMI', 'KESEHATAN', 'OLAH RAGA'], dtype=object)"
            ]
          },
          "metadata": {},
          "execution_count": 22
        }
      ]
    },
    {
      "cell_type": "code",
      "source": [
        "EKO = data[data['CATEGORY'] == 'EKONOMI']['HEADLINE'].tolist()\n",
        "OLA = data[data['CATEGORY'] == 'OLAH RAGA']['HEADLINE'].tolist()\n",
        "HEL = data[data['CATEGORY'] == 'KESEHATAN']['HEADLINE'].tolist()\n",
        "  "
      ],
      "metadata": {
        "id": "cBWPuhH3bClv"
      },
      "execution_count": 23,
      "outputs": []
    },
    {
      "cell_type": "code",
      "source": [
        "display(len(EKO),len(OLA),len(HEL))"
      ],
      "metadata": {
        "colab": {
          "base_uri": "https://localhost:8080/",
          "height": 71
        },
        "id": "xEyylfkF6yA7",
        "outputId": "26e552d1-8b22-4526-a086-a75f7e64ed6a"
      },
      "execution_count": 24,
      "outputs": [
        {
          "output_type": "display_data",
          "data": {
            "text/plain": [
              "521"
            ]
          },
          "metadata": {}
        },
        {
          "output_type": "display_data",
          "data": {
            "text/plain": [
              "521"
            ]
          },
          "metadata": {}
        },
        {
          "output_type": "display_data",
          "data": {
            "text/plain": [
              "521"
            ]
          },
          "metadata": {}
        }
      ]
    },
    {
      "cell_type": "code",
      "source": [
        "EKO1 = EKO[:int(len(EKO)*0.8)]\n",
        "EKO2 = EKO[int(len(EKO)*0.8):]"
      ],
      "metadata": {
        "id": "v9lz-t5769Ee"
      },
      "execution_count": 25,
      "outputs": []
    },
    {
      "cell_type": "code",
      "source": [
        "OLA1 = OLA[:int(len(OLA)*0.8)]\n",
        "OLA2 = OLA[int(len(OLA)*0.8):]"
      ],
      "metadata": {
        "id": "EOofroOa8jya"
      },
      "execution_count": 26,
      "outputs": []
    },
    {
      "cell_type": "code",
      "source": [
        "HEL1 = HEL[:int(len(HEL)*0.8)]\n",
        "HEL2 = HEL[int(len(HEL)*0.8):]"
      ],
      "metadata": {
        "id": "IA9Ccvg28vVZ"
      },
      "execution_count": 27,
      "outputs": []
    },
    {
      "cell_type": "code",
      "source": [],
      "metadata": {
        "id": "F8TjpJ0xcGOv"
      },
      "execution_count": null,
      "outputs": []
    },
    {
      "cell_type": "code",
      "source": [
        "def buat1(x,y):\n",
        "  with open(f'/content/drive/MyDrive/TYO_NLTK/DTS3/TRAIN/EKO/{x}.txt','w') as tulis:\n",
        "    print(y,end='',file=tulis)\n",
        "\n",
        "def buat2(x,y):\n",
        "  with open(f'/content/drive/MyDrive/TYO_NLTK/DTS3/TRAIN/OLA/{x}.txt','w') as tulis:\n",
        "    print(y,end='',file=tulis)\n",
        "\n",
        "def buat3(x,y):\n",
        "  with open(f'/content/drive/MyDrive/TYO_NLTK/DTS3/TRAIN/HEL/{x}.txt','w') as tulis:\n",
        "    print(y,end='',file=tulis)        \n",
        "\n",
        "\n",
        "\n",
        "def buat4(x,y):\n",
        "  with open(f'/content/drive/MyDrive/TYO_NLTK/DTS3/TEST/EKO/{x}.txt','w') as tulis:\n",
        "    print(y,end='',file=tulis)\n",
        "\n",
        "def buat5(x,y):\n",
        "  with open(f'/content/drive/MyDrive/TYO_NLTK/DTS3/TEST/OLA/{x}.txt','w') as tulis:\n",
        "    print(y,end='',file=tulis)\n",
        "\n",
        "def buat6(x,y):\n",
        "  with open(f'/content/drive/MyDrive/TYO_NLTK/DTS3/TEST/HEL/{x}.txt','w') as tulis:\n",
        "    print(y,end='',file=tulis)       "
      ],
      "metadata": {
        "id": "1jPz3DdlcxZ6"
      },
      "execution_count": 31,
      "outputs": []
    },
    {
      "cell_type": "code",
      "source": [
        "EKO1[1]"
      ],
      "metadata": {
        "colab": {
          "base_uri": "https://localhost:8080/",
          "height": 35
        },
        "id": "Es7YKwyBToEh",
        "outputId": "cbb4a77d-dd9d-42bd-f089-ed0af2519f7c"
      },
      "execution_count": 32,
      "outputs": [
        {
          "output_type": "execute_result",
          "data": {
            "text/plain": [
              "'video bagaimana cara kerja robot trading'"
            ],
            "application/vnd.google.colaboratory.intrinsic+json": {
              "type": "string"
            }
          },
          "metadata": {},
          "execution_count": 32
        }
      ]
    },
    {
      "cell_type": "code",
      "source": [
        "for x in range(len(EKO1)):\n",
        "  buat1(x,EKO1[x])\n",
        "\n",
        "for x in range(len(HEL1)):\n",
        "  buat3(x,HEL1[x])\n",
        "\n",
        "for x in range(len(OLA1)):\n",
        "  buat2(x,OLA1[x])  \n",
        "\n",
        "\n",
        "\n",
        "for x in range(len(EKO2)):\n",
        "  buat4(x,EKO2[x])\n",
        "\n",
        "for x in range(len(HEL2)):\n",
        "  buat6(x,HEL2[x])\n",
        "\n",
        "for x in range(len(OLA2)):\n",
        "  buat5(x,OLA2[x])    \n"
      ],
      "metadata": {
        "id": "7xnLN4LobUGD"
      },
      "execution_count": 35,
      "outputs": []
    },
    {
      "cell_type": "code",
      "source": [],
      "metadata": {
        "id": "dfgygJvdg19t"
      },
      "execution_count": null,
      "outputs": []
    }
  ]
}
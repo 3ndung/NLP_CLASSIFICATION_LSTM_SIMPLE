{
  "cells": [
    {
      "cell_type": "markdown",
      "metadata": {
        "id": "view-in-github",
        "colab_type": "text"
      },
      "source": [
        "<a href=\"https://colab.research.google.com/github/3ndung/NLP_CLASSIFICATION_LSTM_SIMPLE/blob/main/RNN_BASIC_MULTICLASIFICATION_NLP_NLTK_TYO.ipynb\" target=\"_parent\"><img src=\"https://colab.research.google.com/assets/colab-badge.svg\" alt=\"Open In Colab\"/></a>"
      ]
    },
    {
      "cell_type": "markdown",
      "metadata": {
        "id": "wulUbvrtHF-w"
      },
      "source": [
        "Import library "
      ]
    },
    {
      "cell_type": "code",
      "execution_count": 1,
      "metadata": {
        "colab": {
          "base_uri": "https://localhost:8080/"
        },
        "id": "s_b478-RVma4",
        "outputId": "5ecde50a-8d75-412e-92a4-2cb9117ac851"
      },
      "outputs": [
        {
          "output_type": "stream",
          "name": "stdout",
          "text": [
            "Mounted at /content/drive\n"
          ]
        }
      ],
      "source": [
        "from google.colab import drive\n",
        "drive.mount('/content/drive')"
      ]
    },
    {
      "cell_type": "code",
      "execution_count": 89,
      "metadata": {
        "id": "nD7PJZ1KG5DW"
      },
      "outputs": [],
      "source": [
        "import matplotlib.pyplot as plt\n",
        "import os\n",
        "import re\n",
        "import shutil\n",
        "import string\n",
        "import tensorflow as tf\n",
        "import matplotlib.pyplot as plt\n",
        "import pandas as pd\n",
        "\n",
        "from tensorflow.keras import layers\n",
        "from tensorflow.keras import losses"
      ]
    },
    {
      "cell_type": "markdown",
      "metadata": {
        "id": "uIjLHbiPHTR2"
      },
      "source": [
        "Cek TF Version"
      ]
    },
    {
      "cell_type": "code",
      "execution_count": 3,
      "metadata": {
        "colab": {
          "base_uri": "https://localhost:8080/"
        },
        "id": "sOzzke_vHRW9",
        "outputId": "98152fdc-af4c-42e4-ee13-fa555f36edfc"
      },
      "outputs": [
        {
          "output_type": "stream",
          "name": "stdout",
          "text": [
            "2.9.2\n"
          ]
        }
      ],
      "source": [
        "print(tf.__version__)"
      ]
    },
    {
      "cell_type": "markdown",
      "metadata": {
        "id": "dkth6QYlH4A-"
      },
      "source": [
        "Download dataset "
      ]
    },
    {
      "cell_type": "code",
      "execution_count": 4,
      "metadata": {
        "id": "Jkcr4YjLMSJk"
      },
      "outputs": [],
      "source": [
        "dataset_dir = os.path.join(os.path.dirname('dataset'), '/content/drive/MyDrive/TYO_NLTK/DTS3/')"
      ]
    },
    {
      "cell_type": "code",
      "execution_count": 5,
      "metadata": {
        "colab": {
          "base_uri": "https://localhost:8080/"
        },
        "id": "8X3-kfvvMr8R",
        "outputId": "2137608d-0371-4412-ed1d-b619c1e51e08"
      },
      "outputs": [
        {
          "output_type": "execute_result",
          "data": {
            "text/plain": [
              "['TRAIN', 'TEST']"
            ]
          },
          "metadata": {},
          "execution_count": 5
        }
      ],
      "source": [
        "os.listdir(dataset_dir)"
      ]
    },
    {
      "cell_type": "markdown",
      "metadata": {
        "id": "4_e8nUJqM8lj"
      },
      "source": [
        "SET DATA UNTUK DI TRAIN "
      ]
    },
    {
      "cell_type": "code",
      "execution_count": 6,
      "metadata": {
        "colab": {
          "base_uri": "https://localhost:8080/"
        },
        "id": "FtYcHT3WMs79",
        "outputId": "fd8ea83a-e629-4c82-cc24-dffe49c673bc"
      },
      "outputs": [
        {
          "output_type": "execute_result",
          "data": {
            "text/plain": [
              "['EKO', 'HEL', 'OLA']"
            ]
          },
          "metadata": {},
          "execution_count": 6
        }
      ],
      "source": [
        "train_dir = os.path.join(dataset_dir, 'TRAIN')\n",
        "os.listdir(train_dir)"
      ]
    },
    {
      "cell_type": "markdown",
      "metadata": {
        "id": "cIwhO064M_10"
      },
      "source": [
        "SET DATA UNTUK DI TEST"
      ]
    },
    {
      "cell_type": "code",
      "execution_count": 7,
      "metadata": {
        "colab": {
          "base_uri": "https://localhost:8080/"
        },
        "id": "76h1OCWVNC7l",
        "outputId": "195da591-50c4-4288-8440-ab836e992b8a"
      },
      "outputs": [
        {
          "output_type": "execute_result",
          "data": {
            "text/plain": [
              "['EKO', 'HEL', 'OLA']"
            ]
          },
          "metadata": {},
          "execution_count": 7
        }
      ],
      "source": [
        "test_dir = os.path.join(dataset_dir, 'TEST')\n",
        "os.listdir(train_dir)"
      ]
    },
    {
      "cell_type": "code",
      "execution_count": 8,
      "metadata": {
        "colab": {
          "base_uri": "https://localhost:8080/"
        },
        "id": "y4X4padANHTW",
        "outputId": "ae90b31d-8b3d-4bd5-ffd3-d5eb60a2fc8d"
      },
      "outputs": [
        {
          "output_type": "stream",
          "name": "stdout",
          "text": [
            "lps bisa simpan dana di bank sakit di ruu ppsk\n"
          ]
        }
      ],
      "source": [
        "sample_file = os.path.join(train_dir, 'EKO/103.txt')\n",
        "\n",
        "with open(sample_file) as f:\n",
        "  print(f.read())"
      ]
    },
    {
      "cell_type": "code",
      "execution_count": 11,
      "metadata": {
        "colab": {
          "base_uri": "https://localhost:8080/"
        },
        "id": "MEEvC45_N7RZ",
        "outputId": "d5495ef4-edfe-4cd2-80c4-1ea6a7fbeeb5"
      },
      "outputs": [
        {
          "output_type": "stream",
          "name": "stdout",
          "text": [
            "Found 600 files belonging to 3 classes.\n",
            "Using 480 files for training.\n"
          ]
        }
      ],
      "source": [
        "batch_size = 32\n",
        "seed = 42\n",
        "\n",
        "raw_train_ds = tf.keras.utils.text_dataset_from_directory(\n",
        "    '/content/drive/MyDrive/TYO_NLTK/DTS3/TRAIN', \n",
        "    batch_size=batch_size, \n",
        "    validation_split=0.2, \n",
        "    subset='training', \n",
        "    seed=seed)"
      ]
    },
    {
      "cell_type": "code",
      "execution_count": 12,
      "metadata": {
        "colab": {
          "base_uri": "https://localhost:8080/"
        },
        "id": "JTUNrQEQOIPt",
        "outputId": "a427be4d-95a2-46c6-ed72-1b6e2b85f1e8"
      },
      "outputs": [
        {
          "output_type": "stream",
          "name": "stdout",
          "text": [
            "Review b'dpr usul bentuk badan supervisi lps dan ojk di ruu ppsk'\n",
            "Label 0\n",
            "Review b'prediksi skor wolves vs brighton di liga inggris 20222023 momentum daniel podence cs keluar dari zona degradasi'\n",
            "Label 2\n",
            "Review b'5 alasan marc marquez bakal bantu fabio quartararo juara motogp 2022 nomor 1 penebusan dosa'\n",
            "Label 2\n"
          ]
        }
      ],
      "source": [
        "for text_batch, label_batch in raw_train_ds.take(1):\n",
        "  for i in range(3):\n",
        "    print(\"Review\", text_batch.numpy()[i])\n",
        "    print(\"Label\", label_batch.numpy()[i])"
      ]
    },
    {
      "cell_type": "code",
      "execution_count": 13,
      "metadata": {
        "colab": {
          "base_uri": "https://localhost:8080/"
        },
        "id": "3ouP_BxwOe7a",
        "outputId": "0abecb06-00e6-439b-b6f9-9d05b97b1b7f"
      },
      "outputs": [
        {
          "output_type": "stream",
          "name": "stdout",
          "text": [
            "Label 0 corresponds to EKO\n",
            "Label 1 corresponds to HEL\n",
            "Label 2 corresponds to OLA\n"
          ]
        }
      ],
      "source": [
        "print(\"Label 0 corresponds to\", raw_train_ds.class_names[0])\n",
        "print(\"Label 1 corresponds to\", raw_train_ds.class_names[1])\n",
        "print(\"Label 2 corresponds to\", raw_train_ds.class_names[2])"
      ]
    },
    {
      "cell_type": "code",
      "execution_count": 14,
      "metadata": {
        "colab": {
          "base_uri": "https://localhost:8080/"
        },
        "id": "z426gnYnOlOa",
        "outputId": "09a6e94c-ca9a-496d-aa4e-218cde1f1819"
      },
      "outputs": [
        {
          "output_type": "stream",
          "name": "stdout",
          "text": [
            "Found 600 files belonging to 3 classes.\n",
            "Using 120 files for validation.\n"
          ]
        }
      ],
      "source": [
        "raw_val_ds = tf.keras.utils.text_dataset_from_directory(\n",
        "    '/content/drive/MyDrive/TYO_NLTK/DTS3/TRAIN', \n",
        "    batch_size=batch_size, \n",
        "    validation_split=0.2, \n",
        "    subset='validation', \n",
        "    seed=seed)"
      ]
    },
    {
      "cell_type": "code",
      "execution_count": 15,
      "metadata": {
        "colab": {
          "base_uri": "https://localhost:8080/"
        },
        "id": "HrSDscr2O2pU",
        "outputId": "2ee939d5-bbf1-4484-b9b3-d873e6818242"
      },
      "outputs": [
        {
          "output_type": "stream",
          "name": "stdout",
          "text": [
            "Found 153 files belonging to 3 classes.\n"
          ]
        }
      ],
      "source": [
        "raw_test_ds = tf.keras.utils.text_dataset_from_directory(\n",
        "    '/content/drive/MyDrive/TYO_NLTK/DTS3/TEST', \n",
        "    batch_size=batch_size)"
      ]
    },
    {
      "cell_type": "markdown",
      "source": [
        "## Membuat function untuk menstandarkan/ menseragamkan string input"
      ],
      "metadata": {
        "id": "PYITtbK8LWwj"
      }
    },
    {
      "cell_type": "code",
      "execution_count": 16,
      "metadata": {
        "id": "AugpXoBfPBeY"
      },
      "outputs": [],
      "source": [
        "def custom_standardization(input_data):\n",
        "  # Membuat Semua String menjadi Lower String/ huruf kecil Semua\n",
        "  lowercase = tf.strings.lower(input_data)\n",
        "  # Menghapus apabila ada html tag\n",
        "  stripped_html = tf.strings.regex_replace(lowercase, '<br />', ' ')\n",
        "  return tf.strings.regex_replace(stripped_html,\n",
        "                                  '[%s]' % re.escape(string.punctuation),\n",
        "                                  '')"
      ]
    },
    {
      "cell_type": "markdown",
      "metadata": {
        "id": "SmDjxk7fkuMU"
      },
      "source": [
        "## TEXTVECTORIZATION\n",
        "\n",
        "Adalah pre-processing sebelum proses pembelajaran yang mengubah string mentah kedalam bentuk intger yang dapat dibaca oleh lapisan berikutnya dalam Synapsis/ Layer berikutnya contoh embeding dan denses\n"
      ]
    },
    {
      "cell_type": "code",
      "execution_count": 17,
      "metadata": {
        "id": "5y2kL-Q-lSkA"
      },
      "outputs": [],
      "source": [
        "max_features = 10000\n",
        "sequence_length = 250\n",
        "\n",
        "vectorize_layer = layers.TextVectorization(\n",
        "    # Memanggil fungsi sebelumnya yang mestandarkan semua string input menjadi lower case dan menghilangkan tag html bila ada\n",
        "    standardize=custom_standardization,\n",
        "    # Memberikan batasan padding agar panjang matrix sama pada setiap masukan.\n",
        "    max_tokens=max_features,\n",
        "    # Output String akan diubah menjadi bentuk integer\n",
        "    output_mode='int',\n",
        "    output_sequence_length=sequence_length)"
      ]
    },
    {
      "cell_type": "markdown",
      "metadata": {
        "id": "EqijZrfWl449"
      },
      "source": [
        "'''\n",
        "Next, you will call adapt to fit the state of the preprocessing layer to the dataset. This will cause the model to build an index of strings to integers.\n",
        "'''"
      ]
    },
    {
      "cell_type": "code",
      "execution_count": 18,
      "metadata": {
        "id": "ulGHvGJWlgI3"
      },
      "outputs": [],
      "source": [
        "# Make a text-only dataset (without labels), then call adapt\n",
        "train_text = raw_train_ds.map(lambda x, y: x)\n",
        "vectorize_layer.adapt(train_text)\n",
        "\n",
        "\n"
      ]
    },
    {
      "cell_type": "markdown",
      "source": [
        "# Fungsi yang mengubah setiap string text input ke dalam bentuk intger dan menyimpan dalam array, dengan menggunakan vectorize_layer yang telah diset diatas."
      ],
      "metadata": {
        "id": "baE3pm5-T-rZ"
      }
    },
    {
      "cell_type": "code",
      "execution_count": 19,
      "metadata": {
        "id": "NcySBx7rl8zj"
      },
      "outputs": [],
      "source": [
        "def vectorize_text(text, label):\n",
        "  text = tf.expand_dims(text, -1)\n",
        "  return vectorize_layer(text), label"
      ]
    },
    {
      "cell_type": "code",
      "execution_count": 34,
      "metadata": {
        "colab": {
          "base_uri": "https://localhost:8080/"
        },
        "id": "KY26gx46mFXz",
        "outputId": "4385f8f8-9354-4704-d7e9-ab7576437cf8"
      },
      "outputs": [
        {
          "output_type": "stream",
          "name": "stdout",
          "text": [
            "\n",
            "Review -> text_batch[13] tf.Tensor(b'ada rekomendasi sepakbola indonesia dibekukan awas ditegur fifa', shape=(), dtype=string)\n",
            "Label -> Label_batch[13] OLA\n",
            "\n",
            "Vectorized review nya seperti ini \n",
            "\n",
            " (<tf.Tensor: shape=(1, 250), dtype=int64, numpy=\n",
            "array([[  69,  315,  923,   33, 1693,  395, 1648, 1604,    0,    0,    0,\n",
            "           0,    0,    0,    0,    0,    0,    0,    0,    0,    0,    0,\n",
            "           0,    0,    0,    0,    0,    0,    0,    0,    0,    0,    0,\n",
            "           0,    0,    0,    0,    0,    0,    0,    0,    0,    0,    0,\n",
            "           0,    0,    0,    0,    0,    0,    0,    0,    0,    0,    0,\n",
            "           0,    0,    0,    0,    0,    0,    0,    0,    0,    0,    0,\n",
            "           0,    0,    0,    0,    0,    0,    0,    0,    0,    0,    0,\n",
            "           0,    0,    0,    0,    0,    0,    0,    0,    0,    0,    0,\n",
            "           0,    0,    0,    0,    0,    0,    0,    0,    0,    0,    0,\n",
            "           0,    0,    0,    0,    0,    0,    0,    0,    0,    0,    0,\n",
            "           0,    0,    0,    0,    0,    0,    0,    0,    0,    0,    0,\n",
            "           0,    0,    0,    0,    0,    0,    0,    0,    0,    0,    0,\n",
            "           0,    0,    0,    0,    0,    0,    0,    0,    0,    0,    0,\n",
            "           0,    0,    0,    0,    0,    0,    0,    0,    0,    0,    0,\n",
            "           0,    0,    0,    0,    0,    0,    0,    0,    0,    0,    0,\n",
            "           0,    0,    0,    0,    0,    0,    0,    0,    0,    0,    0,\n",
            "           0,    0,    0,    0,    0,    0,    0,    0,    0,    0,    0,\n",
            "           0,    0,    0,    0,    0,    0,    0,    0,    0,    0,    0,\n",
            "           0,    0,    0,    0,    0,    0,    0,    0,    0,    0,    0,\n",
            "           0,    0,    0,    0,    0,    0,    0,    0,    0,    0,    0,\n",
            "           0,    0,    0,    0,    0,    0,    0,    0,    0,    0,    0,\n",
            "           0,    0,    0,    0,    0,    0,    0,    0,    0,    0,    0,\n",
            "           0,    0,    0,    0,    0,    0,    0,    0]])>, <tf.Tensor: shape=(), dtype=int32, numpy=2>)\n"
          ]
        }
      ],
      "source": [
        "text_batch, label_batch = next(iter(raw_train_ds))\n",
        "first_review, first_label = text_batch[13], label_batch[13]\n",
        "print(\"\\nReview -> text_batch[13]\", first_review)\n",
        "print(\"Label -> Label_batch[13]\", raw_train_ds.class_names[first_label])\n",
        "print(\"\\nVectorized review nya seperti ini \\n\\n\", vectorize_text(first_review, first_label))"
      ]
    },
    {
      "cell_type": "code",
      "execution_count": 37,
      "metadata": {
        "colab": {
          "base_uri": "https://localhost:8080/"
        },
        "id": "g4mQQp4zmz0q",
        "outputId": "36d4cbcf-5a35-4982-cb01-46b60d76ea80"
      },
      "outputs": [
        {
          "output_type": "stream",
          "name": "stdout",
          "text": [
            "1693 --->  dibekukan\n",
            "395 --->  awas\n",
            "Vocabulary size: 1953\n"
          ]
        }
      ],
      "source": [
        "print(\"1693 ---> \",vectorize_layer.get_vocabulary()[1693])\n",
        "print(\"395 ---> \",vectorize_layer.get_vocabulary()[395])\n",
        "print('Vocabulary size: {}'.format(len(vectorize_layer.get_vocabulary())))"
      ]
    },
    {
      "cell_type": "markdown",
      "source": [
        "# Menggubah semua input train, validasi dan test kedalam bentuk integer"
      ],
      "metadata": {
        "id": "oAmWnF1MVWcg"
      }
    },
    {
      "cell_type": "code",
      "execution_count": 38,
      "metadata": {
        "id": "lEucwjQ-m_Vp"
      },
      "outputs": [],
      "source": [
        "train_ds = raw_train_ds.map(vectorize_text)\n",
        "val_ds = raw_val_ds.map(vectorize_text)\n",
        "test_ds = raw_test_ds.map(vectorize_text)"
      ]
    },
    {
      "cell_type": "code",
      "execution_count": 39,
      "metadata": {
        "id": "mIb-okwOqkk5"
      },
      "outputs": [],
      "source": [
        "# Tunning dataset train, validasi dan test dengan AUTOTUNE untuk optimisasi shape data\n",
        "AUTOTUNE = tf.data.AUTOTUNE\n",
        "\n",
        "train_ds = train_ds.cache().prefetch(buffer_size=AUTOTUNE)\n",
        "val_ds = val_ds.cache().prefetch(buffer_size=AUTOTUNE)\n",
        "test_ds = test_ds.cache().prefetch(buffer_size=AUTOTUNE)"
      ]
    },
    {
      "cell_type": "markdown",
      "source": [
        "# Layer embedding dimension kita set menjadi 16 , seperti yang sering digunakan dalam panduan, embedding ini hanya dapat digunakan pada integer positiv dan untuk memperbaiki matrix."
      ],
      "metadata": {
        "id": "I6QrFPXaWMnJ"
      }
    },
    {
      "cell_type": "code",
      "execution_count": 40,
      "metadata": {
        "id": "lG28akNvrENY"
      },
      "outputs": [],
      "source": [
        "embedding_dim = 16"
      ]
    },
    {
      "cell_type": "code",
      "execution_count": null,
      "metadata": {
        "colab": {
          "base_uri": "https://localhost:8080/"
        },
        "id": "LQmj6o5eU0hL",
        "outputId": "caac183d-b8cb-4c4c-a090-a46318244d27"
      },
      "outputs": [
        {
          "output_type": "stream",
          "name": "stdout",
          "text": [
            "Model: \"sequential\"\n",
            "_________________________________________________________________\n",
            " Layer (type)                Output Shape              Param #   \n",
            "=================================================================\n",
            " embedding (Embedding)       (None, None, 16)          160016    \n",
            "                                                                 \n",
            " bidirectional (Bidirectiona  (None, 128)              41472     \n",
            " l)                                                              \n",
            "                                                                 \n",
            " dense (Dense)               (None, 64)                8256      \n",
            "                                                                 \n",
            " dense_1 (Dense)             (None, 3)                 195       \n",
            "                                                                 \n",
            "=================================================================\n",
            "Total params: 209,939\n",
            "Trainable params: 209,939\n",
            "Non-trainable params: 0\n",
            "_________________________________________________________________\n"
          ]
        }
      ],
      "source": [
        "'''model = tf.keras.Sequential([\n",
        "    \n",
        "    layers.Embedding(max_features + 1, embedding_dim),    \n",
        "    layers.Bidirectional(tf.keras.layers.LSTM(64)),\n",
        "    layers.Dense(64, activation='relu'),\n",
        "    layers.Dense(3)\n",
        "])\n",
        "\n",
        "\n",
        "model.summary()\n",
        "\n",
        "img_file = 'model_arch.png'\n",
        "tf.keras.utils.plot_model(model, to_file=img_file, show_shapes=True, show_layer_names=True)'''\n",
        "\n",
        "\n",
        "# MODEL RNN INI MEMBERIKAN AKURASI YANG KURANG BAIK DIBANDINGKAN MODEL YANG DIBAWAH DENGAN WAKTU KOMPUTASI YANG LEBIH LAMA\n",
        "# JADI GAK DIPAKE"
      ]
    },
    {
      "cell_type": "code",
      "execution_count": null,
      "metadata": {
        "colab": {
          "base_uri": "https://localhost:8080/",
          "height": 533
        },
        "id": "EO8LQT0jiq0I",
        "outputId": "8c31835f-3712-45ca-bd71-a10ab0992803"
      },
      "outputs": [
        {
          "output_type": "execute_result",
          "data": {
            "image/png": "[encoded data removed]",
            "text/plain": [
              "<IPython.core.display.Image object>"
            ]
          },
          "metadata": {},
          "execution_count": 29
        }
      ],
      "source": []
    },
    {
      "cell_type": "code",
      "execution_count": 41,
      "metadata": {
        "id": "X7rx6X_5rKo3",
        "colab": {
          "base_uri": "https://localhost:8080/",
          "height": 1000
        },
        "outputId": "c9f20984-d10c-4fc8-987e-f1581d4c0f5b"
      },
      "outputs": [
        {
          "output_type": "stream",
          "name": "stdout",
          "text": [
            "Model: \"sequential\"\n",
            "_________________________________________________________________\n",
            " Layer (type)                Output Shape              Param #   \n",
            "=================================================================\n",
            " embedding (Embedding)       (None, None, 16)          160016    \n",
            "                                                                 \n",
            " dropout (Dropout)           (None, None, 16)          0         \n",
            "                                                                 \n",
            " global_average_pooling1d (G  (None, 16)               0         \n",
            " lobalAveragePooling1D)                                          \n",
            "                                                                 \n",
            " dropout_1 (Dropout)         (None, 16)                0         \n",
            "                                                                 \n",
            " dense (Dense)               (None, 3)                 51        \n",
            "                                                                 \n",
            "=================================================================\n",
            "Total params: 160,067\n",
            "Trainable params: 160,067\n",
            "Non-trainable params: 0\n",
            "_________________________________________________________________\n"
          ]
        },
        {
          "output_type": "execute_result",
          "data": {
            "image/png": "[encoded data removed]",
            "text/plain": [
              "<IPython.core.display.Image object>"
            ]
          },
          "metadata": {},
          "execution_count": 41
        }
      ],
      "source": [
        "model = tf.keras.Sequential([\n",
        "  layers.Embedding(max_features + 1, embedding_dim),\n",
        "  layers.Dropout(0.2),\n",
        "  layers.GlobalAveragePooling1D(),\n",
        "  layers.Dropout(0.2),\n",
        "  layers.Dense(3)])\n",
        "\n",
        "model.summary()\n",
        "\n",
        "\n",
        "\n",
        "img_file = 'model_arch.png'\n",
        "tf.keras.utils.plot_model(model, to_file=img_file, show_shapes=True, show_layer_names=True)"
      ]
    },
    {
      "cell_type": "code",
      "execution_count": null,
      "metadata": {
        "id": "59mEoZIlujif"
      },
      "outputs": [],
      "source": [
        "#model.compile(loss=losses.SparseCategoricalCrossentropy(from_logits=True),\n",
        "#              optimizer='adam',\n",
        "#              metrics=tf.metrics.Accuracy())\n",
        "\n",
        "\n"
      ]
    },
    {
      "cell_type": "code",
      "execution_count": 42,
      "metadata": {
        "id": "ZZ4gSBNyyBgl"
      },
      "outputs": [],
      "source": [
        "model.compile(loss = losses.SparseCategoricalCrossentropy(from_logits=True), optimizer = 'adam', metrics = ['accuracy'])"
      ]
    },
    {
      "cell_type": "code",
      "execution_count": 87,
      "metadata": {
        "colab": {
          "base_uri": "https://localhost:8080/"
        },
        "id": "S4gEVVopw1Di",
        "outputId": "a50d6546-784d-446c-d52e-853ce078502e"
      },
      "outputs": [
        {
          "output_type": "stream",
          "name": "stdout",
          "text": [
            "Epoch 1/150\n",
            "15/15 [==============================] - 0s 18ms/step - loss: 0.0310 - accuracy: 0.9979 - val_loss: 0.2317 - val_accuracy: 0.9417\n",
            "Epoch 2/150\n",
            "15/15 [==============================] - 0s 10ms/step - loss: 0.0332 - accuracy: 0.9979 - val_loss: 0.2312 - val_accuracy: 0.9417\n",
            "Epoch 3/150\n",
            "15/15 [==============================] - 0s 10ms/step - loss: 0.0327 - accuracy: 0.9979 - val_loss: 0.2307 - val_accuracy: 0.9417\n",
            "Epoch 4/150\n",
            "15/15 [==============================] - 0s 10ms/step - loss: 0.0339 - accuracy: 0.9958 - val_loss: 0.2309 - val_accuracy: 0.9417\n",
            "Epoch 5/150\n",
            "15/15 [==============================] - 0s 10ms/step - loss: 0.0328 - accuracy: 0.9979 - val_loss: 0.2314 - val_accuracy: 0.9500\n",
            "Epoch 6/150\n",
            "15/15 [==============================] - 0s 10ms/step - loss: 0.0322 - accuracy: 0.9979 - val_loss: 0.2305 - val_accuracy: 0.9417\n",
            "Epoch 7/150\n",
            "15/15 [==============================] - 0s 9ms/step - loss: 0.0337 - accuracy: 0.9979 - val_loss: 0.2296 - val_accuracy: 0.9417\n",
            "Epoch 8/150\n",
            "15/15 [==============================] - 0s 9ms/step - loss: 0.0322 - accuracy: 0.9979 - val_loss: 0.2294 - val_accuracy: 0.9417\n",
            "Epoch 9/150\n",
            "15/15 [==============================] - 0s 11ms/step - loss: 0.0304 - accuracy: 0.9979 - val_loss: 0.2295 - val_accuracy: 0.9500\n",
            "Epoch 10/150\n",
            "15/15 [==============================] - 0s 10ms/step - loss: 0.0310 - accuracy: 0.9979 - val_loss: 0.2287 - val_accuracy: 0.9417\n",
            "Epoch 11/150\n",
            "15/15 [==============================] - 0s 10ms/step - loss: 0.0314 - accuracy: 0.9979 - val_loss: 0.2289 - val_accuracy: 0.9500\n",
            "Epoch 12/150\n",
            "15/15 [==============================] - 0s 9ms/step - loss: 0.0318 - accuracy: 0.9979 - val_loss: 0.2281 - val_accuracy: 0.9417\n",
            "Epoch 13/150\n",
            "15/15 [==============================] - 0s 19ms/step - loss: 0.0308 - accuracy: 0.9979 - val_loss: 0.2273 - val_accuracy: 0.9333\n",
            "Epoch 14/150\n",
            "15/15 [==============================] - 0s 21ms/step - loss: 0.0306 - accuracy: 0.9979 - val_loss: 0.2272 - val_accuracy: 0.9417\n",
            "Epoch 15/150\n",
            "15/15 [==============================] - 0s 15ms/step - loss: 0.0300 - accuracy: 0.9979 - val_loss: 0.2278 - val_accuracy: 0.9500\n",
            "Epoch 16/150\n",
            "15/15 [==============================] - 0s 16ms/step - loss: 0.0298 - accuracy: 0.9979 - val_loss: 0.2280 - val_accuracy: 0.9333\n",
            "Epoch 17/150\n",
            "15/15 [==============================] - 0s 15ms/step - loss: 0.0295 - accuracy: 0.9979 - val_loss: 0.2279 - val_accuracy: 0.9500\n",
            "Epoch 18/150\n",
            "15/15 [==============================] - 0s 14ms/step - loss: 0.0286 - accuracy: 0.9979 - val_loss: 0.2270 - val_accuracy: 0.9500\n",
            "Epoch 19/150\n",
            "15/15 [==============================] - 0s 12ms/step - loss: 0.0299 - accuracy: 0.9979 - val_loss: 0.2256 - val_accuracy: 0.9417\n",
            "Epoch 20/150\n",
            "15/15 [==============================] - 0s 14ms/step - loss: 0.0299 - accuracy: 0.9979 - val_loss: 0.2251 - val_accuracy: 0.9417\n",
            "Epoch 21/150\n",
            "15/15 [==============================] - 0s 12ms/step - loss: 0.0309 - accuracy: 0.9979 - val_loss: 0.2251 - val_accuracy: 0.9417\n",
            "Epoch 22/150\n",
            "15/15 [==============================] - 0s 16ms/step - loss: 0.0284 - accuracy: 0.9979 - val_loss: 0.2250 - val_accuracy: 0.9417\n",
            "Epoch 23/150\n",
            "15/15 [==============================] - 0s 13ms/step - loss: 0.0274 - accuracy: 0.9979 - val_loss: 0.2247 - val_accuracy: 0.9333\n",
            "Epoch 24/150\n",
            "15/15 [==============================] - 0s 12ms/step - loss: 0.0265 - accuracy: 0.9979 - val_loss: 0.2243 - val_accuracy: 0.9333\n",
            "Epoch 25/150\n",
            "15/15 [==============================] - 0s 13ms/step - loss: 0.0286 - accuracy: 0.9979 - val_loss: 0.2237 - val_accuracy: 0.9417\n",
            "Epoch 26/150\n",
            "15/15 [==============================] - 0s 12ms/step - loss: 0.0279 - accuracy: 0.9979 - val_loss: 0.2231 - val_accuracy: 0.9417\n",
            "Epoch 27/150\n",
            "15/15 [==============================] - 0s 16ms/step - loss: 0.0288 - accuracy: 0.9979 - val_loss: 0.2237 - val_accuracy: 0.9417\n",
            "Epoch 28/150\n",
            "15/15 [==============================] - 0s 14ms/step - loss: 0.0289 - accuracy: 0.9979 - val_loss: 0.2242 - val_accuracy: 0.9417\n",
            "Epoch 29/150\n",
            "15/15 [==============================] - 0s 15ms/step - loss: 0.0270 - accuracy: 0.9979 - val_loss: 0.2229 - val_accuracy: 0.9333\n",
            "Epoch 30/150\n",
            "15/15 [==============================] - 0s 10ms/step - loss: 0.0275 - accuracy: 0.9979 - val_loss: 0.2223 - val_accuracy: 0.9417\n",
            "Epoch 31/150\n",
            "15/15 [==============================] - 0s 8ms/step - loss: 0.0249 - accuracy: 0.9979 - val_loss: 0.2222 - val_accuracy: 0.9417\n",
            "Epoch 32/150\n",
            "15/15 [==============================] - 0s 10ms/step - loss: 0.0272 - accuracy: 0.9979 - val_loss: 0.2222 - val_accuracy: 0.9500\n",
            "Epoch 33/150\n",
            "15/15 [==============================] - 0s 10ms/step - loss: 0.0270 - accuracy: 0.9979 - val_loss: 0.2212 - val_accuracy: 0.9417\n",
            "Epoch 34/150\n",
            "15/15 [==============================] - 0s 9ms/step - loss: 0.0242 - accuracy: 0.9979 - val_loss: 0.2218 - val_accuracy: 0.9500\n",
            "Epoch 35/150\n",
            "15/15 [==============================] - 0s 9ms/step - loss: 0.0280 - accuracy: 0.9979 - val_loss: 0.2217 - val_accuracy: 0.9333\n",
            "Epoch 36/150\n",
            "15/15 [==============================] - 0s 10ms/step - loss: 0.0257 - accuracy: 0.9979 - val_loss: 0.2208 - val_accuracy: 0.9333\n",
            "Epoch 37/150\n",
            "15/15 [==============================] - 0s 9ms/step - loss: 0.0243 - accuracy: 0.9979 - val_loss: 0.2201 - val_accuracy: 0.9417\n",
            "Epoch 38/150\n",
            "15/15 [==============================] - 0s 10ms/step - loss: 0.0253 - accuracy: 0.9979 - val_loss: 0.2204 - val_accuracy: 0.9500\n",
            "Epoch 39/150\n",
            "15/15 [==============================] - 0s 9ms/step - loss: 0.0253 - accuracy: 0.9979 - val_loss: 0.2205 - val_accuracy: 0.9500\n",
            "Epoch 40/150\n",
            "15/15 [==============================] - 0s 10ms/step - loss: 0.0273 - accuracy: 0.9979 - val_loss: 0.2197 - val_accuracy: 0.9500\n",
            "Epoch 41/150\n",
            "15/15 [==============================] - 0s 9ms/step - loss: 0.0265 - accuracy: 0.9979 - val_loss: 0.2189 - val_accuracy: 0.9417\n",
            "Epoch 42/150\n",
            "15/15 [==============================] - 0s 10ms/step - loss: 0.0265 - accuracy: 0.9979 - val_loss: 0.2198 - val_accuracy: 0.9417\n",
            "Epoch 43/150\n",
            "15/15 [==============================] - 0s 11ms/step - loss: 0.0249 - accuracy: 0.9979 - val_loss: 0.2193 - val_accuracy: 0.9250\n",
            "Epoch 44/150\n",
            "15/15 [==============================] - 0s 9ms/step - loss: 0.0262 - accuracy: 0.9979 - val_loss: 0.2185 - val_accuracy: 0.9500\n",
            "Epoch 45/150\n",
            "15/15 [==============================] - 0s 9ms/step - loss: 0.0237 - accuracy: 0.9979 - val_loss: 0.2180 - val_accuracy: 0.9500\n",
            "Epoch 46/150\n",
            "15/15 [==============================] - 0s 10ms/step - loss: 0.0249 - accuracy: 0.9979 - val_loss: 0.2178 - val_accuracy: 0.9500\n",
            "Epoch 47/150\n",
            "15/15 [==============================] - 0s 9ms/step - loss: 0.0222 - accuracy: 0.9979 - val_loss: 0.2178 - val_accuracy: 0.9500\n",
            "Epoch 48/150\n",
            "15/15 [==============================] - 0s 12ms/step - loss: 0.0263 - accuracy: 0.9979 - val_loss: 0.2178 - val_accuracy: 0.9500\n",
            "Epoch 49/150\n",
            "15/15 [==============================] - 0s 10ms/step - loss: 0.0241 - accuracy: 0.9979 - val_loss: 0.2185 - val_accuracy: 0.9417\n",
            "Epoch 50/150\n",
            "15/15 [==============================] - 0s 9ms/step - loss: 0.0251 - accuracy: 0.9979 - val_loss: 0.2170 - val_accuracy: 0.9500\n",
            "Epoch 51/150\n",
            "15/15 [==============================] - 0s 10ms/step - loss: 0.0241 - accuracy: 0.9979 - val_loss: 0.2164 - val_accuracy: 0.9333\n",
            "Epoch 52/150\n",
            "15/15 [==============================] - 0s 8ms/step - loss: 0.0242 - accuracy: 0.9979 - val_loss: 0.2169 - val_accuracy: 0.9333\n",
            "Epoch 53/150\n",
            "15/15 [==============================] - 0s 9ms/step - loss: 0.0223 - accuracy: 0.9979 - val_loss: 0.2163 - val_accuracy: 0.9417\n",
            "Epoch 54/150\n",
            "15/15 [==============================] - 0s 9ms/step - loss: 0.0222 - accuracy: 0.9979 - val_loss: 0.2159 - val_accuracy: 0.9500\n",
            "Epoch 55/150\n",
            "15/15 [==============================] - 0s 9ms/step - loss: 0.0255 - accuracy: 0.9979 - val_loss: 0.2153 - val_accuracy: 0.9333\n",
            "Epoch 56/150\n",
            "15/15 [==============================] - 0s 9ms/step - loss: 0.0217 - accuracy: 0.9979 - val_loss: 0.2149 - val_accuracy: 0.9333\n",
            "Epoch 57/150\n",
            "15/15 [==============================] - 0s 11ms/step - loss: 0.0222 - accuracy: 0.9979 - val_loss: 0.2153 - val_accuracy: 0.9417\n",
            "Epoch 58/150\n",
            "15/15 [==============================] - 0s 10ms/step - loss: 0.0233 - accuracy: 0.9979 - val_loss: 0.2159 - val_accuracy: 0.9333\n",
            "Epoch 59/150\n",
            "15/15 [==============================] - 0s 10ms/step - loss: 0.0233 - accuracy: 0.9979 - val_loss: 0.2151 - val_accuracy: 0.9417\n",
            "Epoch 60/150\n",
            "15/15 [==============================] - 0s 9ms/step - loss: 0.0222 - accuracy: 0.9979 - val_loss: 0.2136 - val_accuracy: 0.9417\n",
            "Epoch 61/150\n",
            "15/15 [==============================] - 0s 10ms/step - loss: 0.0246 - accuracy: 0.9979 - val_loss: 0.2137 - val_accuracy: 0.9500\n",
            "Epoch 62/150\n",
            "15/15 [==============================] - 0s 10ms/step - loss: 0.0212 - accuracy: 0.9979 - val_loss: 0.2145 - val_accuracy: 0.9333\n",
            "Epoch 63/150\n",
            "15/15 [==============================] - 0s 11ms/step - loss: 0.0214 - accuracy: 0.9979 - val_loss: 0.2141 - val_accuracy: 0.9250\n",
            "Epoch 64/150\n",
            "15/15 [==============================] - 0s 9ms/step - loss: 0.0211 - accuracy: 0.9979 - val_loss: 0.2134 - val_accuracy: 0.9333\n",
            "Epoch 65/150\n",
            "15/15 [==============================] - 0s 9ms/step - loss: 0.0226 - accuracy: 0.9979 - val_loss: 0.2129 - val_accuracy: 0.9500\n",
            "Epoch 66/150\n",
            "15/15 [==============================] - 0s 9ms/step - loss: 0.0217 - accuracy: 0.9979 - val_loss: 0.2125 - val_accuracy: 0.9500\n",
            "Epoch 67/150\n",
            "15/15 [==============================] - 0s 11ms/step - loss: 0.0198 - accuracy: 0.9979 - val_loss: 0.2124 - val_accuracy: 0.9500\n",
            "Epoch 68/150\n",
            "15/15 [==============================] - 0s 9ms/step - loss: 0.0203 - accuracy: 0.9979 - val_loss: 0.2130 - val_accuracy: 0.9333\n",
            "Epoch 69/150\n",
            "15/15 [==============================] - 0s 9ms/step - loss: 0.0209 - accuracy: 0.9979 - val_loss: 0.2125 - val_accuracy: 0.9333\n",
            "Epoch 70/150\n",
            "15/15 [==============================] - 0s 8ms/step - loss: 0.0193 - accuracy: 0.9979 - val_loss: 0.2125 - val_accuracy: 0.9333\n",
            "Epoch 71/150\n",
            "15/15 [==============================] - 0s 9ms/step - loss: 0.0218 - accuracy: 0.9979 - val_loss: 0.2117 - val_accuracy: 0.9333\n",
            "Epoch 72/150\n",
            "15/15 [==============================] - 0s 9ms/step - loss: 0.0208 - accuracy: 0.9979 - val_loss: 0.2112 - val_accuracy: 0.9333\n",
            "Epoch 73/150\n",
            "15/15 [==============================] - 0s 10ms/step - loss: 0.0204 - accuracy: 0.9979 - val_loss: 0.2112 - val_accuracy: 0.9333\n",
            "Epoch 74/150\n",
            "15/15 [==============================] - 0s 8ms/step - loss: 0.0212 - accuracy: 0.9979 - val_loss: 0.2114 - val_accuracy: 0.9333\n",
            "Epoch 75/150\n",
            "15/15 [==============================] - 0s 9ms/step - loss: 0.0209 - accuracy: 0.9979 - val_loss: 0.2112 - val_accuracy: 0.9417\n",
            "Epoch 76/150\n",
            "15/15 [==============================] - 0s 10ms/step - loss: 0.0207 - accuracy: 0.9979 - val_loss: 0.2114 - val_accuracy: 0.9333\n",
            "Epoch 77/150\n",
            "15/15 [==============================] - 0s 9ms/step - loss: 0.0185 - accuracy: 0.9979 - val_loss: 0.2104 - val_accuracy: 0.9500\n",
            "Epoch 78/150\n",
            "15/15 [==============================] - 0s 13ms/step - loss: 0.0197 - accuracy: 0.9979 - val_loss: 0.2099 - val_accuracy: 0.9333\n",
            "Epoch 79/150\n",
            "15/15 [==============================] - 0s 11ms/step - loss: 0.0200 - accuracy: 1.0000 - val_loss: 0.2103 - val_accuracy: 0.9333\n",
            "Epoch 80/150\n",
            "15/15 [==============================] - 0s 9ms/step - loss: 0.0189 - accuracy: 0.9979 - val_loss: 0.2109 - val_accuracy: 0.9333\n",
            "Epoch 81/150\n",
            "15/15 [==============================] - 0s 9ms/step - loss: 0.0193 - accuracy: 0.9979 - val_loss: 0.2100 - val_accuracy: 0.9333\n",
            "Epoch 82/150\n",
            "15/15 [==============================] - 0s 9ms/step - loss: 0.0191 - accuracy: 0.9979 - val_loss: 0.2096 - val_accuracy: 0.9333\n",
            "Epoch 83/150\n",
            "15/15 [==============================] - 0s 10ms/step - loss: 0.0189 - accuracy: 0.9979 - val_loss: 0.2097 - val_accuracy: 0.9333\n",
            "Epoch 84/150\n",
            "15/15 [==============================] - 0s 9ms/step - loss: 0.0185 - accuracy: 0.9979 - val_loss: 0.2094 - val_accuracy: 0.9333\n",
            "Epoch 85/150\n",
            "15/15 [==============================] - 0s 9ms/step - loss: 0.0196 - accuracy: 0.9979 - val_loss: 0.2090 - val_accuracy: 0.9333\n",
            "Epoch 86/150\n",
            "15/15 [==============================] - 0s 10ms/step - loss: 0.0192 - accuracy: 0.9979 - val_loss: 0.2086 - val_accuracy: 0.9333\n",
            "Epoch 87/150\n",
            "15/15 [==============================] - 0s 9ms/step - loss: 0.0208 - accuracy: 0.9979 - val_loss: 0.2084 - val_accuracy: 0.9333\n",
            "Epoch 88/150\n",
            "15/15 [==============================] - 0s 9ms/step - loss: 0.0209 - accuracy: 0.9979 - val_loss: 0.2078 - val_accuracy: 0.9417\n",
            "Epoch 89/150\n",
            "15/15 [==============================] - 0s 10ms/step - loss: 0.0192 - accuracy: 1.0000 - val_loss: 0.2078 - val_accuracy: 0.9417\n",
            "Epoch 90/150\n",
            "15/15 [==============================] - 0s 9ms/step - loss: 0.0191 - accuracy: 0.9979 - val_loss: 0.2074 - val_accuracy: 0.9500\n",
            "Epoch 91/150\n",
            "15/15 [==============================] - 0s 9ms/step - loss: 0.0188 - accuracy: 0.9979 - val_loss: 0.2072 - val_accuracy: 0.9417\n",
            "Epoch 92/150\n",
            "15/15 [==============================] - 0s 11ms/step - loss: 0.0177 - accuracy: 0.9979 - val_loss: 0.2072 - val_accuracy: 0.9333\n",
            "Epoch 93/150\n",
            "15/15 [==============================] - 0s 18ms/step - loss: 0.0173 - accuracy: 0.9979 - val_loss: 0.2069 - val_accuracy: 0.9333\n",
            "Epoch 94/150\n",
            "15/15 [==============================] - 0s 17ms/step - loss: 0.0162 - accuracy: 1.0000 - val_loss: 0.2074 - val_accuracy: 0.9333\n",
            "Epoch 95/150\n",
            "15/15 [==============================] - 0s 16ms/step - loss: 0.0188 - accuracy: 0.9979 - val_loss: 0.2068 - val_accuracy: 0.9333\n",
            "Epoch 96/150\n",
            "15/15 [==============================] - 0s 9ms/step - loss: 0.0167 - accuracy: 1.0000 - val_loss: 0.2068 - val_accuracy: 0.9333\n",
            "Epoch 97/150\n",
            "15/15 [==============================] - 0s 10ms/step - loss: 0.0164 - accuracy: 0.9979 - val_loss: 0.2060 - val_accuracy: 0.9333\n",
            "Epoch 98/150\n",
            "15/15 [==============================] - 0s 13ms/step - loss: 0.0186 - accuracy: 0.9979 - val_loss: 0.2058 - val_accuracy: 0.9333\n",
            "Epoch 99/150\n",
            "15/15 [==============================] - 0s 15ms/step - loss: 0.0174 - accuracy: 1.0000 - val_loss: 0.2063 - val_accuracy: 0.9333\n",
            "Epoch 100/150\n",
            "15/15 [==============================] - 0s 14ms/step - loss: 0.0172 - accuracy: 0.9979 - val_loss: 0.2060 - val_accuracy: 0.9333\n",
            "Epoch 101/150\n",
            "15/15 [==============================] - 0s 9ms/step - loss: 0.0168 - accuracy: 0.9979 - val_loss: 0.2055 - val_accuracy: 0.9333\n",
            "Epoch 102/150\n",
            "15/15 [==============================] - 0s 9ms/step - loss: 0.0176 - accuracy: 1.0000 - val_loss: 0.2059 - val_accuracy: 0.9333\n",
            "Epoch 103/150\n",
            "15/15 [==============================] - 0s 9ms/step - loss: 0.0187 - accuracy: 0.9979 - val_loss: 0.2058 - val_accuracy: 0.9333\n",
            "Epoch 104/150\n",
            "15/15 [==============================] - 0s 10ms/step - loss: 0.0162 - accuracy: 1.0000 - val_loss: 0.2056 - val_accuracy: 0.9333\n",
            "Epoch 105/150\n",
            "15/15 [==============================] - 0s 10ms/step - loss: 0.0179 - accuracy: 0.9979 - val_loss: 0.2045 - val_accuracy: 0.9333\n",
            "Epoch 106/150\n",
            "15/15 [==============================] - 0s 10ms/step - loss: 0.0176 - accuracy: 0.9979 - val_loss: 0.2043 - val_accuracy: 0.9333\n",
            "Epoch 107/150\n",
            "15/15 [==============================] - 0s 9ms/step - loss: 0.0175 - accuracy: 0.9979 - val_loss: 0.2048 - val_accuracy: 0.9333\n",
            "Epoch 108/150\n",
            "15/15 [==============================] - 0s 9ms/step - loss: 0.0158 - accuracy: 0.9979 - val_loss: 0.2047 - val_accuracy: 0.9333\n",
            "Epoch 109/150\n",
            "15/15 [==============================] - 0s 9ms/step - loss: 0.0170 - accuracy: 0.9979 - val_loss: 0.2037 - val_accuracy: 0.9333\n",
            "Epoch 110/150\n",
            "15/15 [==============================] - 0s 10ms/step - loss: 0.0156 - accuracy: 1.0000 - val_loss: 0.2040 - val_accuracy: 0.9333\n",
            "Epoch 111/150\n",
            "15/15 [==============================] - 0s 9ms/step - loss: 0.0162 - accuracy: 0.9979 - val_loss: 0.2031 - val_accuracy: 0.9333\n",
            "Epoch 112/150\n",
            "15/15 [==============================] - 0s 11ms/step - loss: 0.0163 - accuracy: 1.0000 - val_loss: 0.2030 - val_accuracy: 0.9333\n",
            "Epoch 113/150\n",
            "15/15 [==============================] - 0s 9ms/step - loss: 0.0164 - accuracy: 0.9979 - val_loss: 0.2026 - val_accuracy: 0.9333\n",
            "Epoch 114/150\n",
            "15/15 [==============================] - 0s 10ms/step - loss: 0.0161 - accuracy: 0.9979 - val_loss: 0.2023 - val_accuracy: 0.9417\n",
            "Epoch 115/150\n",
            "15/15 [==============================] - 0s 10ms/step - loss: 0.0163 - accuracy: 0.9979 - val_loss: 0.2027 - val_accuracy: 0.9333\n",
            "Epoch 116/150\n",
            "15/15 [==============================] - 0s 9ms/step - loss: 0.0156 - accuracy: 0.9979 - val_loss: 0.2030 - val_accuracy: 0.9333\n",
            "Epoch 117/150\n",
            "15/15 [==============================] - 0s 10ms/step - loss: 0.0161 - accuracy: 0.9979 - val_loss: 0.2019 - val_accuracy: 0.9333\n",
            "Epoch 118/150\n",
            "15/15 [==============================] - 0s 10ms/step - loss: 0.0158 - accuracy: 0.9979 - val_loss: 0.2021 - val_accuracy: 0.9333\n",
            "Epoch 119/150\n",
            "15/15 [==============================] - 0s 10ms/step - loss: 0.0143 - accuracy: 0.9979 - val_loss: 0.2013 - val_accuracy: 0.9417\n",
            "Epoch 120/150\n",
            "15/15 [==============================] - 0s 9ms/step - loss: 0.0160 - accuracy: 0.9979 - val_loss: 0.2010 - val_accuracy: 0.9417\n",
            "Epoch 121/150\n",
            "15/15 [==============================] - 0s 11ms/step - loss: 0.0149 - accuracy: 0.9979 - val_loss: 0.2008 - val_accuracy: 0.9417\n",
            "Epoch 122/150\n",
            "15/15 [==============================] - 0s 9ms/step - loss: 0.0168 - accuracy: 0.9979 - val_loss: 0.2008 - val_accuracy: 0.9333\n",
            "Epoch 123/150\n",
            "15/15 [==============================] - 0s 8ms/step - loss: 0.0158 - accuracy: 0.9979 - val_loss: 0.2019 - val_accuracy: 0.9333\n",
            "Epoch 124/150\n",
            "15/15 [==============================] - 0s 10ms/step - loss: 0.0166 - accuracy: 0.9979 - val_loss: 0.2014 - val_accuracy: 0.9333\n",
            "Epoch 125/150\n",
            "15/15 [==============================] - 0s 11ms/step - loss: 0.0153 - accuracy: 1.0000 - val_loss: 0.2013 - val_accuracy: 0.9333\n",
            "Epoch 126/150\n",
            "15/15 [==============================] - 0s 11ms/step - loss: 0.0148 - accuracy: 0.9979 - val_loss: 0.2007 - val_accuracy: 0.9333\n",
            "Epoch 127/150\n",
            "15/15 [==============================] - 0s 11ms/step - loss: 0.0129 - accuracy: 1.0000 - val_loss: 0.2009 - val_accuracy: 0.9333\n",
            "Epoch 128/150\n",
            "15/15 [==============================] - 0s 9ms/step - loss: 0.0136 - accuracy: 0.9979 - val_loss: 0.2002 - val_accuracy: 0.9333\n",
            "Epoch 129/150\n",
            "15/15 [==============================] - 0s 9ms/step - loss: 0.0150 - accuracy: 0.9979 - val_loss: 0.1998 - val_accuracy: 0.9333\n",
            "Epoch 130/150\n",
            "15/15 [==============================] - 0s 11ms/step - loss: 0.0135 - accuracy: 1.0000 - val_loss: 0.2009 - val_accuracy: 0.9333\n",
            "Epoch 131/150\n",
            "15/15 [==============================] - 0s 9ms/step - loss: 0.0143 - accuracy: 1.0000 - val_loss: 0.2008 - val_accuracy: 0.9333\n",
            "Epoch 132/150\n",
            "15/15 [==============================] - 0s 11ms/step - loss: 0.0143 - accuracy: 0.9979 - val_loss: 0.1994 - val_accuracy: 0.9333\n",
            "Epoch 133/150\n",
            "15/15 [==============================] - 0s 9ms/step - loss: 0.0130 - accuracy: 0.9979 - val_loss: 0.1993 - val_accuracy: 0.9333\n",
            "Epoch 134/150\n",
            "15/15 [==============================] - 0s 11ms/step - loss: 0.0144 - accuracy: 1.0000 - val_loss: 0.1988 - val_accuracy: 0.9333\n",
            "Epoch 135/150\n",
            "15/15 [==============================] - 0s 11ms/step - loss: 0.0131 - accuracy: 1.0000 - val_loss: 0.1992 - val_accuracy: 0.9333\n",
            "Epoch 136/150\n",
            "15/15 [==============================] - 0s 9ms/step - loss: 0.0142 - accuracy: 0.9979 - val_loss: 0.1983 - val_accuracy: 0.9333\n",
            "Epoch 137/150\n",
            "15/15 [==============================] - 0s 9ms/step - loss: 0.0146 - accuracy: 1.0000 - val_loss: 0.1981 - val_accuracy: 0.9333\n",
            "Epoch 138/150\n",
            "15/15 [==============================] - 0s 10ms/step - loss: 0.0137 - accuracy: 1.0000 - val_loss: 0.1987 - val_accuracy: 0.9333\n",
            "Epoch 139/150\n",
            "15/15 [==============================] - 0s 9ms/step - loss: 0.0138 - accuracy: 1.0000 - val_loss: 0.1987 - val_accuracy: 0.9333\n",
            "Epoch 140/150\n",
            "15/15 [==============================] - 0s 10ms/step - loss: 0.0124 - accuracy: 0.9979 - val_loss: 0.1983 - val_accuracy: 0.9333\n",
            "Epoch 141/150\n",
            "15/15 [==============================] - 0s 9ms/step - loss: 0.0143 - accuracy: 0.9979 - val_loss: 0.1981 - val_accuracy: 0.9333\n",
            "Epoch 142/150\n",
            "15/15 [==============================] - 0s 10ms/step - loss: 0.0131 - accuracy: 0.9979 - val_loss: 0.1975 - val_accuracy: 0.9333\n",
            "Epoch 143/150\n",
            "15/15 [==============================] - 0s 11ms/step - loss: 0.0133 - accuracy: 1.0000 - val_loss: 0.1975 - val_accuracy: 0.9333\n",
            "Epoch 144/150\n",
            "15/15 [==============================] - 0s 10ms/step - loss: 0.0116 - accuracy: 1.0000 - val_loss: 0.1983 - val_accuracy: 0.9333\n",
            "Epoch 145/150\n",
            "15/15 [==============================] - 0s 9ms/step - loss: 0.0150 - accuracy: 0.9979 - val_loss: 0.1979 - val_accuracy: 0.9333\n",
            "Epoch 146/150\n",
            "15/15 [==============================] - 0s 11ms/step - loss: 0.0133 - accuracy: 1.0000 - val_loss: 0.1971 - val_accuracy: 0.9333\n",
            "Epoch 147/150\n",
            "15/15 [==============================] - 0s 10ms/step - loss: 0.0142 - accuracy: 1.0000 - val_loss: 0.1968 - val_accuracy: 0.9333\n",
            "Epoch 148/150\n",
            "15/15 [==============================] - 0s 10ms/step - loss: 0.0141 - accuracy: 1.0000 - val_loss: 0.1965 - val_accuracy: 0.9333\n",
            "Epoch 149/150\n",
            "15/15 [==============================] - 0s 10ms/step - loss: 0.0126 - accuracy: 1.0000 - val_loss: 0.1970 - val_accuracy: 0.9333\n",
            "Epoch 150/150\n",
            "15/15 [==============================] - 0s 9ms/step - loss: 0.0125 - accuracy: 0.9979 - val_loss: 0.1980 - val_accuracy: 0.9333\n"
          ]
        }
      ],
      "source": [
        "epochs = 150\n",
        "history = model.fit(\n",
        "    train_ds,\n",
        "    validation_data=val_ds,\n",
        "    epochs=epochs)"
      ]
    },
    {
      "cell_type": "code",
      "source": [
        "model.save('/content/MODEL_TYO/MODEL_TYO_2')"
      ],
      "metadata": {
        "id": "zvNWlry8sfDp"
      },
      "execution_count": null,
      "outputs": []
    },
    {
      "cell_type": "code",
      "execution_count": 88,
      "metadata": {
        "colab": {
          "base_uri": "https://localhost:8080/"
        },
        "id": "-zzNKpPQyqfP",
        "outputId": "6d3290db-ac18-4908-b6bb-ad761463b985"
      },
      "outputs": [
        {
          "output_type": "stream",
          "name": "stdout",
          "text": [
            "5/5 [==============================] - 0s 3ms/step - loss: 0.4112 - accuracy: 0.8562\n",
            "Loss:  0.41121599078178406\n",
            "Accuracy:  0.8562091588973999\n"
          ]
        }
      ],
      "source": [
        "loss, accuracy = model.evaluate(test_ds)\n",
        "\n",
        "print(\"Loss: \", loss)\n",
        "print(\"Accuracy: \", accuracy)"
      ]
    },
    {
      "cell_type": "code",
      "execution_count": 77,
      "metadata": {
        "colab": {
          "base_uri": "https://localhost:8080/"
        },
        "id": "yHnCO_T5y3PP",
        "outputId": "6bcf7205-ea69-44d7-d5ca-73fc96d23892"
      },
      "outputs": [
        {
          "output_type": "execute_result",
          "data": {
            "text/plain": [
              "dict_keys(['loss', 'accuracy', 'val_loss', 'val_accuracy'])"
            ]
          },
          "metadata": {},
          "execution_count": 77
        }
      ],
      "source": [
        "history_dict = history.history\n",
        "history_dict.keys()"
      ]
    },
    {
      "cell_type": "code",
      "execution_count": 81,
      "metadata": {
        "colab": {
          "base_uri": "https://localhost:8080/",
          "height": 295
        },
        "id": "WOaRHa-LzKZW",
        "outputId": "a9c59cf8-d829-4476-c7ed-948afbe4d12b"
      },
      "outputs": [
        {
          "output_type": "display_data",
          "data": {
            "text/plain": [
              "<Figure size 432x288 with 1 Axes>"
            ],
            "image/png": "[encoded data removed]"
          },
          "metadata": {
            "needs_background": "light"
          }
        }
      ],
      "source": [
        "acc = history_dict['accuracy']\n",
        "val_acc = history_dict['val_accuracy']\n",
        "loss = history_dict['loss']\n",
        "val_loss = history_dict['val_loss']\n",
        "\n",
        "epochs = range(1, len(acc) + 1)\n",
        "\n",
        "# \"bo\" is for \"blue dot\"\n",
        "plt.plot(epochs, loss, 'bo', label='Training loss')\n",
        "# b is for \"solid blue line\"\n",
        "plt.plot(epochs, val_loss, 'b', label='Validation loss')\n",
        "plt.title('Training and validation loss')\n",
        "plt.xlabel('Epochs')\n",
        "plt.ylabel('Loss')\n",
        "plt.legend()\n",
        "\n",
        "plt.show()"
      ]
    },
    {
      "cell_type": "code",
      "execution_count": 82,
      "metadata": {
        "colab": {
          "base_uri": "https://localhost:8080/",
          "height": 295
        },
        "id": "Y6yr7YCyzRPz",
        "outputId": "af16ea1b-a417-4e5f-e1b5-3593af819732"
      },
      "outputs": [
        {
          "output_type": "display_data",
          "data": {
            "text/plain": [
              "<Figure size 432x288 with 1 Axes>"
            ],
            "image/png": "[encoded data removed]"
          },
          "metadata": {
            "needs_background": "light"
          }
        }
      ],
      "source": [
        "plt.plot(epochs, acc, 'bo', label='Training acc')\n",
        "plt.plot(epochs, val_acc, 'b', label='Validation acc')\n",
        "plt.title('Training and validation accuracy')\n",
        "plt.xlabel('Epochs')\n",
        "plt.ylabel('Accuracy')\n",
        "plt.legend(loc='lower right')\n",
        "\n",
        "plt.show()"
      ]
    },
    {
      "cell_type": "code",
      "execution_count": 48,
      "metadata": {
        "colab": {
          "base_uri": "https://localhost:8080/"
        },
        "id": "1JG4H59HzcOh",
        "outputId": "3d74a457-9fc1-4663-e984-037f04e63cbf"
      },
      "outputs": [
        {
          "output_type": "stream",
          "name": "stderr",
          "text": [
            "/usr/local/lib/python3.8/dist-packages/tensorflow/python/util/dispatch.py:1082: UserWarning: \"`sparse_categorical_crossentropy` received `from_logits=True`, but the `output` argument was produced by a sigmoid or softmax activation and thus does not represent logits. Was this intended?\"\n",
            "  return dispatch_target(*args, **kwargs)\n"
          ]
        },
        {
          "output_type": "stream",
          "name": "stdout",
          "text": [
            "5/5 [==============================] - 1s 7ms/step - loss: 0.7776 - accuracy: 0.7974\n",
            "0.7973856329917908\n"
          ]
        }
      ],
      "source": [
        "export_model = tf.keras.Sequential([\n",
        "  vectorize_layer,\n",
        "  model,\n",
        "  layers.Activation('softmax')\n",
        "])\n",
        "export_model.compile(loss = losses.SparseCategoricalCrossentropy(from_logits=True), optimizer = 'adam', metrics = ['accuracy'])\n",
        "\n",
        "\n",
        "\n",
        "# Test it with `raw_test_ds`, which yields raw strings\n",
        "loss, accuracy = export_model.evaluate(raw_test_ds)\n",
        "print(accuracy)"
      ]
    },
    {
      "cell_type": "code",
      "execution_count": 49,
      "metadata": {
        "colab": {
          "base_uri": "https://localhost:8080/"
        },
        "id": "lx12nIIi7luJ",
        "outputId": "c0fd9205-34cf-4c9c-ff82-8623fb2beff0"
      },
      "outputs": [
        {
          "output_type": "execute_result",
          "data": {
            "text/plain": [
              "['EKO', 'HEL', 'OLA']"
            ]
          },
          "metadata": {},
          "execution_count": 49
        }
      ],
      "source": [
        "['EKO', 'HEL', 'OLA']"
      ]
    },
    {
      "cell_type": "code",
      "execution_count": 86,
      "metadata": {
        "colab": {
          "base_uri": "https://localhost:8080/"
        },
        "id": "f-_agyAv7Rwx",
        "outputId": "da510bac-7f96-40ef-9ea1-6b0e2411c204"
      },
      "outputs": [
        {
          "output_type": "stream",
          "name": "stdout",
          "text": [
            "1/1 [==============================] - 0s 36ms/step\n"
          ]
        },
        {
          "output_type": "execute_result",
          "data": {
            "text/plain": [
              "array([[0.05063059, 0.06929934, 0.8800701 ],\n",
              "       [0.39243278, 0.33247516, 0.27509207]], dtype=float32)"
            ]
          },
          "metadata": {},
          "execution_count": 86
        }
      ],
      "source": [
        "examples = [\"MotoGP 2015 akan dikenang sebagai salah satu yang paling sengit dalam gelaran kejuaraan dunia balap motor grand prix\",\n",
        "            \"Ida Fauziyah menargetkan penyaluran Bantuan Subsidi Upah (BSU) atau BLT Gaji melalui PT Pos\"]\n",
        "\n",
        "\n",
        "#for x in examples:\n",
        "export_model.predict(examples)"
      ]
    },
    {
      "cell_type": "code",
      "source": [
        "def Pie_Chart_Visualization(x):\n",
        "\n",
        "          # Pie chart, where the slices will be ordered and plotted counter-clockwise:\n",
        "          labels = ['EKO', 'HEL', 'OLA']\n",
        "          sizes = export_model.predict(examples)[x].tolist()\n",
        "          explode = (0, 0, 0)  # only \"explode\" the 2nd slice (i.e. 'Hogs')\n",
        "\n",
        "          fig1, ax1 = plt.subplots()\n",
        "          ax1.pie(sizes, explode=explode, labels=labels, autopct='%1.1f%%',\n",
        "                  shadow=True, startangle=90)\n",
        "          ax1.axis('equal')  # Equal aspect ratio ensures that pie is drawn as a circle.\n",
        "\n",
        "          plt.show()"
      ],
      "metadata": {
        "id": "PB33J9xkZL9I"
      },
      "execution_count": 99,
      "outputs": []
    },
    {
      "cell_type": "code",
      "source": [
        "for x in range(len(examples)):\n",
        "  display(examples[x])\n",
        "  display(Pie_Chart_Visualization(x))\n",
        "  print('')"
      ],
      "metadata": {
        "colab": {
          "base_uri": "https://localhost:8080/",
          "height": 635
        },
        "id": "uxUAum5AigpU",
        "outputId": "f21790bc-c58f-4122-f9db-1739f5f09f50"
      },
      "execution_count": 104,
      "outputs": [
        {
          "output_type": "display_data",
          "data": {
            "text/plain": [
              "'MotoGP 2015 akan dikenang sebagai salah satu yang paling sengit dalam gelaran kejuaraan dunia balap motor grand prix'"
            ],
            "application/vnd.google.colaboratory.intrinsic+json": {
              "type": "string"
            }
          },
          "metadata": {}
        },
        {
          "output_type": "stream",
          "name": "stdout",
          "text": [
            "1/1 [==============================] - 0s 35ms/step\n"
          ]
        },
        {
          "output_type": "display_data",
          "data": {
            "text/plain": [
              "<Figure size 432x288 with 1 Axes>"
            ],
            "image/png": "[encoded data removed]"
          },
          "metadata": {}
        },
        {
          "output_type": "display_data",
          "data": {
            "text/plain": [
              "None"
            ]
          },
          "metadata": {}
        },
        {
          "output_type": "stream",
          "name": "stdout",
          "text": [
            "\n"
          ]
        },
        {
          "output_type": "display_data",
          "data": {
            "text/plain": [
              "'Ida Fauziyah menargetkan penyaluran Bantuan Subsidi Upah (BSU) atau BLT Gaji melalui PT Pos'"
            ],
            "application/vnd.google.colaboratory.intrinsic+json": {
              "type": "string"
            }
          },
          "metadata": {}
        },
        {
          "output_type": "stream",
          "name": "stdout",
          "text": [
            "1/1 [==============================] - 0s 32ms/step\n"
          ]
        },
        {
          "output_type": "display_data",
          "data": {
            "text/plain": [
              "<Figure size 432x288 with 1 Axes>"
            ],
            "image/png": "[encoded data removed]"
          },
          "metadata": {}
        },
        {
          "output_type": "display_data",
          "data": {
            "text/plain": [
              "None"
            ]
          },
          "metadata": {}
        },
        {
          "output_type": "stream",
          "name": "stdout",
          "text": [
            "\n"
          ]
        }
      ]
    },
    {
      "cell_type": "code",
      "source": [
        "LOSS = [0.7776076197624207,0.5466572642326355,0.4511881172657013,0.41121599078178406]\n",
        "ACCURACY = [0.7973856329917908,0.843137264251709,0.8562091588973999,0.8562091588973999]\n",
        "EPOCH = [150,300,450,600]\n",
        "\n",
        "BASIC = pd.DataFrame()\n",
        "BASIC['EPOCH'] = EPOCH\n",
        "BASIC['ACCURACY'] = ACCURACY\n",
        "BASIC['LOSS'] = LOSS\n"
      ],
      "metadata": {
        "id": "PiHR7Tv7grxa"
      },
      "execution_count": 91,
      "outputs": []
    },
    {
      "cell_type": "code",
      "source": [
        "display(BASIC)"
      ],
      "metadata": {
        "colab": {
          "base_uri": "https://localhost:8080/",
          "height": 175
        },
        "id": "EmIR4KT6hjM_",
        "outputId": "d4bb7a22-7707-49c2-8804-de52a558eb53"
      },
      "execution_count": 93,
      "outputs": [
        {
          "output_type": "display_data",
          "data": {
            "text/plain": [
              "   EPOCH  ACCURACY      LOSS\n",
              "0    150  0.797386  0.777608\n",
              "1    300  0.843137  0.546657\n",
              "2    450  0.856209  0.451188\n",
              "3    600  0.856209  0.411216"
            ],
            "text/html": [
              "\n",
              "  <div id=\"df-ad4fa59b-c822-490c-a147-194cf8b85356\">\n",
              "    <div class=\"colab-df-container\">\n",
              "      <div>\n",
              "<style scoped>\n",
              "    .dataframe tbody tr th:only-of-type {\n",
              "        vertical-align: middle;\n",
              "    }\n",
              "\n",
              "    .dataframe tbody tr th {\n",
              "        vertical-align: top;\n",
              "    }\n",
              "\n",
              "    .dataframe thead th {\n",
              "        text-align: right;\n",
              "    }\n",
              "</style>\n",
              "<table border=\"1\" class=\"dataframe\">\n",
              "  <thead>\n",
              "    <tr style=\"text-align: right;\">\n",
              "      <th></th>\n",
              "      <th>EPOCH</th>\n",
              "      <th>ACCURACY</th>\n",
              "      <th>LOSS</th>\n",
              "    </tr>\n",
              "  </thead>\n",
              "  <tbody>\n",
              "    <tr>\n",
              "      <th>0</th>\n",
              "      <td>150</td>\n",
              "      <td>0.797386</td>\n",
              "      <td>0.777608</td>\n",
              "    </tr>\n",
              "    <tr>\n",
              "      <th>1</th>\n",
              "      <td>300</td>\n",
              "      <td>0.843137</td>\n",
              "      <td>0.546657</td>\n",
              "    </tr>\n",
              "    <tr>\n",
              "      <th>2</th>\n",
              "      <td>450</td>\n",
              "      <td>0.856209</td>\n",
              "      <td>0.451188</td>\n",
              "    </tr>\n",
              "    <tr>\n",
              "      <th>3</th>\n",
              "      <td>600</td>\n",
              "      <td>0.856209</td>\n",
              "      <td>0.411216</td>\n",
              "    </tr>\n",
              "  </tbody>\n",
              "</table>\n",
              "</div>\n",
              "      <button class=\"colab-df-convert\" onclick=\"convertToInteractive('df-ad4fa59b-c822-490c-a147-194cf8b85356')\"\n",
              "              title=\"Convert this dataframe to an interactive table.\"\n",
              "              style=\"display:none;\">\n",
              "        \n",
              "  <svg xmlns=\"http://www.w3.org/2000/svg\" height=\"24px\"viewBox=\"0 0 24 24\"\n",
              "       width=\"24px\">\n",
              "    <path d=\"M0 0h24v24H0V0z\" fill=\"none\"/>\n",
              "    <path d=\"M18.56 5.44l.94 2.06.94-2.06 2.06-.94-2.06-.94-.94-2.06-.94 2.06-2.06.94zm-11 1L8.5 8.5l.94-2.06 2.06-.94-2.06-.94L8.5 2.5l-.94 2.06-2.06.94zm10 10l.94 2.06.94-2.06 2.06-.94-2.06-.94-.94-2.06-.94 2.06-2.06.94z\"/><path d=\"M17.41 7.96l-1.37-1.37c-.4-.4-.92-.59-1.43-.59-.52 0-1.04.2-1.43.59L10.3 9.45l-7.72 7.72c-.78.78-.78 2.05 0 2.83L4 21.41c.39.39.9.59 1.41.59.51 0 1.02-.2 1.41-.59l7.78-7.78 2.81-2.81c.8-.78.8-2.07 0-2.86zM5.41 20L4 18.59l7.72-7.72 1.47 1.35L5.41 20z\"/>\n",
              "  </svg>\n",
              "      </button>\n",
              "      \n",
              "  <style>\n",
              "    .colab-df-container {\n",
              "      display:flex;\n",
              "      flex-wrap:wrap;\n",
              "      gap: 12px;\n",
              "    }\n",
              "\n",
              "    .colab-df-convert {\n",
              "      background-color: #E8F0FE;\n",
              "      border: none;\n",
              "      border-radius: 50%;\n",
              "      cursor: pointer;\n",
              "      display: none;\n",
              "      fill: #1967D2;\n",
              "      height: 32px;\n",
              "      padding: 0 0 0 0;\n",
              "      width: 32px;\n",
              "    }\n",
              "\n",
              "    .colab-df-convert:hover {\n",
              "      background-color: #E2EBFA;\n",
              "      box-shadow: 0px 1px 2px rgba(60, 64, 67, 0.3), 0px 1px 3px 1px rgba(60, 64, 67, 0.15);\n",
              "      fill: #174EA6;\n",
              "    }\n",
              "\n",
              "    [theme=dark] .colab-df-convert {\n",
              "      background-color: #3B4455;\n",
              "      fill: #D2E3FC;\n",
              "    }\n",
              "\n",
              "    [theme=dark] .colab-df-convert:hover {\n",
              "      background-color: #434B5C;\n",
              "      box-shadow: 0px 1px 3px 1px rgba(0, 0, 0, 0.15);\n",
              "      filter: drop-shadow(0px 1px 2px rgba(0, 0, 0, 0.3));\n",
              "      fill: #FFFFFF;\n",
              "    }\n",
              "  </style>\n",
              "\n",
              "      <script>\n",
              "        const buttonEl =\n",
              "          document.querySelector('#df-ad4fa59b-c822-490c-a147-194cf8b85356 button.colab-df-convert');\n",
              "        buttonEl.style.display =\n",
              "          google.colab.kernel.accessAllowed ? 'block' : 'none';\n",
              "\n",
              "        async function convertToInteractive(key) {\n",
              "          const element = document.querySelector('#df-ad4fa59b-c822-490c-a147-194cf8b85356');\n",
              "          const dataTable =\n",
              "            await google.colab.kernel.invokeFunction('convertToInteractive',\n",
              "                                                     [key], {});\n",
              "          if (!dataTable) return;\n",
              "\n",
              "          const docLinkHtml = 'Like what you see? Visit the ' +\n",
              "            '<a target=\"_blank\" href=https://colab.research.google.com/notebooks/data_table.ipynb>data table notebook</a>'\n",
              "            + ' to learn more about interactive tables.';\n",
              "          element.innerHTML = '';\n",
              "          dataTable['output_type'] = 'display_data';\n",
              "          await google.colab.output.renderOutput(dataTable, element);\n",
              "          const docLink = document.createElement('div');\n",
              "          docLink.innerHTML = docLinkHtml;\n",
              "          element.appendChild(docLink);\n",
              "        }\n",
              "      </script>\n",
              "    </div>\n",
              "  </div>\n",
              "  "
            ]
          },
          "metadata": {}
        }
      ]
    },
    {
      "cell_type": "code",
      "source": [
        "!tar cvfz MODEL_TYO.tar.gz MODEL_TYO"
      ],
      "metadata": {
        "colab": {
          "base_uri": "https://localhost:8080/"
        },
        "id": "vTKtaIyCyqKF",
        "outputId": "3f37a8da-402e-4af5-8bd6-80a9c6426c02"
      },
      "execution_count": null,
      "outputs": [
        {
          "output_type": "stream",
          "name": "stdout",
          "text": [
            "MODEL_TYO/\n",
            "MODEL_TYO/MODEL_TYO_2/\n",
            "MODEL_TYO/MODEL_TYO_2/assets/\n",
            "MODEL_TYO/MODEL_TYO_2/saved_model.pb\n",
            "MODEL_TYO/MODEL_TYO_2/keras_metadata.pb\n",
            "MODEL_TYO/MODEL_TYO_2/variables/\n",
            "MODEL_TYO/MODEL_TYO_2/variables/variables.index\n",
            "MODEL_TYO/MODEL_TYO_2/variables/variables.data-00000-of-00001\n",
            "MODEL_TYO/MODEL_TYO_1/\n",
            "MODEL_TYO/MODEL_TYO_1/assets/\n",
            "MODEL_TYO/MODEL_TYO_1/saved_model.pb\n",
            "MODEL_TYO/MODEL_TYO_1/keras_metadata.pb\n",
            "MODEL_TYO/MODEL_TYO_1/variables/\n",
            "MODEL_TYO/MODEL_TYO_1/variables/variables.index\n",
            "MODEL_TYO/MODEL_TYO_1/variables/variables.data-00000-of-00001\n"
          ]
        }
      ]
    },
    {
      "cell_type": "code",
      "source": [],
      "metadata": {
        "id": "mX0Srhbdyq6K"
      },
      "execution_count": null,
      "outputs": []
    }
  ],
  "metadata": {
    "colab": {
      "provenance": [],
      "mount_file_id": "194KdQOmrBtd19BZL8GzB18F5-ps-gm6L",
      "authorship_tag": "ABX9TyOkNXbsqlV6VVAAC6AomiWl",
      "include_colab_link": true
    },
    "kernelspec": {
      "display_name": "Python 3",
      "name": "python3"
    },
    "language_info": {
      "name": "python"
    }
  },
  "nbformat": 4,
  "nbformat_minor": 0
}
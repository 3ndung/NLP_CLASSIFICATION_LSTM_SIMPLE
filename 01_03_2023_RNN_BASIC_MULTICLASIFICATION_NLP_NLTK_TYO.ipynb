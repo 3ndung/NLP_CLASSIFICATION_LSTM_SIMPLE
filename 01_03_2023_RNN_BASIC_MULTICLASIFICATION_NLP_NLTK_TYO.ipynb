{
  "cells": [
    {
      "cell_type": "markdown",
      "metadata": {
        "id": "view-in-github",
        "colab_type": "text"
      },
      "source": [
        "<a href=\"https://colab.research.google.com/github/3ndung/NLP_CLASSIFICATION_LSTM_SIMPLE/blob/main/01_03_2023_RNN_BASIC_MULTICLASIFICATION_NLP_NLTK_TYO.ipynb\" target=\"_parent\"><img src=\"https://colab.research.google.com/assets/colab-badge.svg\" alt=\"Open In Colab\"/></a>"
      ]
    },
    {
      "cell_type": "markdown",
      "metadata": {
        "id": "wulUbvrtHF-w"
      },
      "source": [
        "Import library "
      ]
    },
    {
      "cell_type": "code",
      "execution_count": 1,
      "metadata": {
        "colab": {
          "base_uri": "https://localhost:8080/"
        },
        "id": "s_b478-RVma4",
        "outputId": "b5b2be46-45be-49cf-96a5-7ab51332ccd7"
      },
      "outputs": [
        {
          "output_type": "stream",
          "name": "stdout",
          "text": [
            "Mounted at /content/drive\n"
          ]
        }
      ],
      "source": [
        "from google.colab import drive\n",
        "drive.mount('/content/drive')"
      ]
    },
    {
      "cell_type": "code",
      "execution_count": 2,
      "metadata": {
        "id": "nD7PJZ1KG5DW"
      },
      "outputs": [],
      "source": [
        "import matplotlib.pyplot as plt\n",
        "import os\n",
        "import re\n",
        "import shutil\n",
        "import string\n",
        "import tensorflow as tf\n",
        "import matplotlib.pyplot as plt\n",
        "import pandas as pd\n",
        "import seaborn as sns\n",
        "\n",
        "from tensorflow.keras import layers\n",
        "from tensorflow.keras import losses"
      ]
    },
    {
      "cell_type": "markdown",
      "metadata": {
        "id": "uIjLHbiPHTR2"
      },
      "source": [
        "Cek TF Version"
      ]
    },
    {
      "cell_type": "code",
      "execution_count": 3,
      "metadata": {
        "colab": {
          "base_uri": "https://localhost:8080/"
        },
        "id": "sOzzke_vHRW9",
        "outputId": "c0f94e48-9afa-41d6-a921-72037cbe2fea"
      },
      "outputs": [
        {
          "output_type": "stream",
          "name": "stdout",
          "text": [
            "2.11.0\n"
          ]
        }
      ],
      "source": [
        "print(tf.__version__)"
      ]
    },
    {
      "cell_type": "markdown",
      "metadata": {
        "id": "dkth6QYlH4A-"
      },
      "source": [
        "Download dataset "
      ]
    },
    {
      "cell_type": "code",
      "execution_count": 4,
      "metadata": {
        "id": "Jkcr4YjLMSJk"
      },
      "outputs": [],
      "source": [
        "dataset_dir = os.path.join(os.path.dirname('dataset'), '/content/drive/MyDrive/TYO_NLTK/DTS3/')"
      ]
    },
    {
      "cell_type": "code",
      "execution_count": 5,
      "metadata": {
        "colab": {
          "base_uri": "https://localhost:8080/"
        },
        "id": "8X3-kfvvMr8R",
        "outputId": "7e1d6b31-a5e7-4ff6-d2a1-6a965276484b"
      },
      "outputs": [
        {
          "output_type": "execute_result",
          "data": {
            "text/plain": [
              "['TRAIN', 'TEST', 'dataset_info.json']"
            ]
          },
          "metadata": {},
          "execution_count": 5
        }
      ],
      "source": [
        "os.listdir(dataset_dir)"
      ]
    },
    {
      "cell_type": "markdown",
      "metadata": {
        "id": "4_e8nUJqM8lj"
      },
      "source": [
        "SET DATA UNTUK DI TRAIN "
      ]
    },
    {
      "cell_type": "code",
      "execution_count": 6,
      "metadata": {
        "colab": {
          "base_uri": "https://localhost:8080/"
        },
        "id": "FtYcHT3WMs79",
        "outputId": "80a4bbd2-cacb-4f66-c404-1fa00c6f508e"
      },
      "outputs": [
        {
          "output_type": "execute_result",
          "data": {
            "text/plain": [
              "['EKO', 'HEL', 'OLA']"
            ]
          },
          "metadata": {},
          "execution_count": 6
        }
      ],
      "source": [
        "train_dir = os.path.join(dataset_dir, 'TRAIN')\n",
        "os.listdir(train_dir)"
      ]
    },
    {
      "cell_type": "markdown",
      "metadata": {
        "id": "cIwhO064M_10"
      },
      "source": [
        "SET DATA UNTUK DI TEST"
      ]
    },
    {
      "cell_type": "code",
      "execution_count": 7,
      "metadata": {
        "colab": {
          "base_uri": "https://localhost:8080/"
        },
        "id": "76h1OCWVNC7l",
        "outputId": "79e15636-cb71-4031-8092-d2e0de4f6960"
      },
      "outputs": [
        {
          "output_type": "execute_result",
          "data": {
            "text/plain": [
              "['EKO', 'HEL', 'OLA']"
            ]
          },
          "metadata": {},
          "execution_count": 7
        }
      ],
      "source": [
        "test_dir = os.path.join(dataset_dir, 'TEST')\n",
        "os.listdir(train_dir)"
      ]
    },
    {
      "cell_type": "code",
      "execution_count": 8,
      "metadata": {
        "colab": {
          "base_uri": "https://localhost:8080/"
        },
        "id": "y4X4padANHTW",
        "outputId": "fd35a2f8-72fe-4a2b-ed8a-1e548aa4ae9a"
      },
      "outputs": [
        {
          "output_type": "stream",
          "name": "stdout",
          "text": [
            "lps bisa simpan dana di bank sakit di ruu ppsk\n"
          ]
        }
      ],
      "source": [
        "sample_file = os.path.join(train_dir, 'EKO/103.txt')\n",
        "\n",
        "with open(sample_file) as f:\n",
        "  print(f.read())"
      ]
    },
    {
      "cell_type": "code",
      "execution_count": 9,
      "metadata": {
        "colab": {
          "base_uri": "https://localhost:8080/"
        },
        "id": "MEEvC45_N7RZ",
        "outputId": "7104e66c-b9fd-4212-ddfb-5e073cfce953"
      },
      "outputs": [
        {
          "output_type": "stream",
          "name": "stdout",
          "text": [
            "Found 600 files belonging to 3 classes.\n",
            "Using 480 files for training.\n"
          ]
        }
      ],
      "source": [
        "batch_size = 32\n",
        "seed = 42\n",
        "\n",
        "raw_train_ds = tf.keras.utils.text_dataset_from_directory(\n",
        "    '/content/drive/MyDrive/TYO_NLTK/DTS3/TRAIN', \n",
        "    batch_size=batch_size, \n",
        "    validation_split=0.2, \n",
        "    subset='training', \n",
        "    seed=seed)"
      ]
    },
    {
      "cell_type": "code",
      "execution_count": 10,
      "metadata": {
        "colab": {
          "base_uri": "https://localhost:8080/"
        },
        "id": "JTUNrQEQOIPt",
        "outputId": "477d3f0f-a0f5-4f11-95d3-358f5320d836"
      },
      "outputs": [
        {
          "output_type": "stream",
          "name": "stdout",
          "text": [
            "Review b'dpr usul bentuk badan supervisi lps dan ojk di ruu ppsk'\n",
            "Label 0\n",
            "Review b'prediksi skor wolves vs brighton di liga inggris 20222023 momentum daniel podence cs keluar dari zona degradasi'\n",
            "Label 2\n",
            "Review b'5 alasan marc marquez bakal bantu fabio quartararo juara motogp 2022 nomor 1 penebusan dosa'\n",
            "Label 2\n"
          ]
        }
      ],
      "source": [
        "for text_batch, label_batch in raw_train_ds.take(1):\n",
        "  for i in range(3):\n",
        "    print(\"Review\", text_batch.numpy()[i])\n",
        "    print(\"Label\", label_batch.numpy()[i])"
      ]
    },
    {
      "cell_type": "code",
      "execution_count": 11,
      "metadata": {
        "colab": {
          "base_uri": "https://localhost:8080/"
        },
        "id": "3ouP_BxwOe7a",
        "outputId": "81360256-3f82-4451-e818-6a7fb05ac0bd"
      },
      "outputs": [
        {
          "output_type": "stream",
          "name": "stdout",
          "text": [
            "Label 0 corresponds to EKO\n",
            "Label 1 corresponds to HEL\n",
            "Label 2 corresponds to OLA\n"
          ]
        }
      ],
      "source": [
        "print(\"Label 0 corresponds to\", raw_train_ds.class_names[0])\n",
        "print(\"Label 1 corresponds to\", raw_train_ds.class_names[1])\n",
        "print(\"Label 2 corresponds to\", raw_train_ds.class_names[2])"
      ]
    },
    {
      "cell_type": "code",
      "execution_count": 12,
      "metadata": {
        "colab": {
          "base_uri": "https://localhost:8080/"
        },
        "id": "z426gnYnOlOa",
        "outputId": "b4bc0720-1735-45ce-b4c1-c9f4038d9ce7"
      },
      "outputs": [
        {
          "output_type": "stream",
          "name": "stdout",
          "text": [
            "Found 600 files belonging to 3 classes.\n",
            "Using 120 files for validation.\n"
          ]
        }
      ],
      "source": [
        "raw_val_ds = tf.keras.utils.text_dataset_from_directory(\n",
        "    '/content/drive/MyDrive/TYO_NLTK/DTS3/TRAIN', \n",
        "    batch_size=batch_size, \n",
        "    validation_split=0.2, \n",
        "    subset='validation', \n",
        "    seed=seed)"
      ]
    },
    {
      "cell_type": "code",
      "execution_count": 13,
      "metadata": {
        "colab": {
          "base_uri": "https://localhost:8080/"
        },
        "id": "HrSDscr2O2pU",
        "outputId": "60a45d93-2b87-4fc0-b57c-7399a9049458"
      },
      "outputs": [
        {
          "output_type": "stream",
          "name": "stdout",
          "text": [
            "Found 153 files belonging to 3 classes.\n"
          ]
        }
      ],
      "source": [
        "raw_test_ds = tf.keras.utils.text_dataset_from_directory(\n",
        "    '/content/drive/MyDrive/TYO_NLTK/DTS3/TEST', \n",
        "    batch_size=batch_size)"
      ]
    },
    {
      "cell_type": "markdown",
      "source": [
        "## Membuat function untuk menstandarkan/ menseragamkan string input"
      ],
      "metadata": {
        "id": "PYITtbK8LWwj"
      }
    },
    {
      "cell_type": "code",
      "execution_count": 14,
      "metadata": {
        "id": "AugpXoBfPBeY"
      },
      "outputs": [],
      "source": [
        "def custom_standardization(input_data):\n",
        "  # Membuat Semua String menjadi Lower String/ huruf kecil Semua\n",
        "  lowercase = tf.strings.lower(input_data)\n",
        "  # Menghapus apabila ada html tag\n",
        "  stripped_html = tf.strings.regex_replace(lowercase, '<br />', ' ')\n",
        "  return tf.strings.regex_replace(stripped_html,\n",
        "                                  '[%s]' % re.escape(string.punctuation),\n",
        "                                  '')"
      ]
    },
    {
      "cell_type": "markdown",
      "metadata": {
        "id": "SmDjxk7fkuMU"
      },
      "source": [
        "## TEXTVECTORIZATION\n",
        "\n",
        "Adalah pre-processing sebelum proses pembelajaran yang mengubah string mentah kedalam bentuk intger yang dapat dibaca oleh lapisan berikutnya dalam Synapsis/ Layer berikutnya contoh embeding dan denses\n"
      ]
    },
    {
      "cell_type": "code",
      "execution_count": 15,
      "metadata": {
        "id": "5y2kL-Q-lSkA"
      },
      "outputs": [],
      "source": [
        "max_features = 10000\n",
        "sequence_length = 250\n",
        "\n",
        "vectorize_layer = layers.TextVectorization(\n",
        "    # Memanggil fungsi sebelumnya yang mestandarkan semua string input menjadi lower case dan menghilangkan tag html bila ada\n",
        "    standardize=custom_standardization,\n",
        "    # Memberikan batasan padding agar panjang matrix sama pada setiap masukan.\n",
        "    max_tokens=max_features,\n",
        "    # Output String akan diubah menjadi bentuk integer\n",
        "    output_mode='int',\n",
        "    output_sequence_length=sequence_length)"
      ]
    },
    {
      "cell_type": "markdown",
      "metadata": {
        "id": "EqijZrfWl449"
      },
      "source": [
        "'''\n",
        "Next, you will call adapt to fit the state of the preprocessing layer to the dataset. This will cause the model to build an index of strings to integers.\n",
        "'''"
      ]
    },
    {
      "cell_type": "code",
      "execution_count": 16,
      "metadata": {
        "id": "ulGHvGJWlgI3",
        "colab": {
          "base_uri": "https://localhost:8080/"
        },
        "outputId": "7b90a9d5-a32a-4d30-8011-9fe170cb366c"
      },
      "outputs": [
        {
          "output_type": "stream",
          "name": "stderr",
          "text": [
            "WARNING:tensorflow:From /usr/local/lib/python3.8/dist-packages/tensorflow/python/autograph/pyct/static_analysis/liveness.py:83: Analyzer.lamba_check (from tensorflow.python.autograph.pyct.static_analysis.liveness) is deprecated and will be removed after 2023-09-23.\n",
            "Instructions for updating:\n",
            "Lambda fuctions will be no more assumed to be used in the statement where they are used, or at least in the same block. https://github.com/tensorflow/tensorflow/issues/56089\n"
          ]
        }
      ],
      "source": [
        "# Make a text-only dataset (without labels), then call adapt\n",
        "train_text = raw_train_ds.map(lambda x, y: x)\n",
        "vectorize_layer.adapt(train_text)\n",
        "\n",
        "\n"
      ]
    },
    {
      "cell_type": "markdown",
      "source": [
        "# Fungsi yang mengubah setiap string text input ke dalam bentuk intger dan menyimpan dalam array, dengan menggunakan vectorize_layer yang telah diset diatas."
      ],
      "metadata": {
        "id": "baE3pm5-T-rZ"
      }
    },
    {
      "cell_type": "code",
      "execution_count": 17,
      "metadata": {
        "id": "NcySBx7rl8zj"
      },
      "outputs": [],
      "source": [
        "def vectorize_text(text, label):\n",
        "  text = tf.expand_dims(text, -1)\n",
        "  return vectorize_layer(text), label"
      ]
    },
    {
      "cell_type": "code",
      "execution_count": 18,
      "metadata": {
        "colab": {
          "base_uri": "https://localhost:8080/"
        },
        "id": "KY26gx46mFXz",
        "outputId": "2eeafff1-af91-4c7f-a606-eab8b78f6f82"
      },
      "outputs": [
        {
          "output_type": "stream",
          "name": "stdout",
          "text": [
            "\n",
            "Review -> text_batch[13] tf.Tensor(b'hatihati jika kondisi urine seperti ini bisa jadi penyakit ginjal', shape=(), dtype=string)\n",
            "Label -> Label_batch[13] HEL\n",
            "\n",
            "Vectorized review nya seperti ini \n",
            "\n",
            " (<tf.Tensor: shape=(1, 250), dtype=int64, numpy=\n",
            "array([[ 92, 177, 347, 419, 157,   7,  11,  10,  57,  16,   0,   0,   0,\n",
            "          0,   0,   0,   0,   0,   0,   0,   0,   0,   0,   0,   0,   0,\n",
            "          0,   0,   0,   0,   0,   0,   0,   0,   0,   0,   0,   0,   0,\n",
            "          0,   0,   0,   0,   0,   0,   0,   0,   0,   0,   0,   0,   0,\n",
            "          0,   0,   0,   0,   0,   0,   0,   0,   0,   0,   0,   0,   0,\n",
            "          0,   0,   0,   0,   0,   0,   0,   0,   0,   0,   0,   0,   0,\n",
            "          0,   0,   0,   0,   0,   0,   0,   0,   0,   0,   0,   0,   0,\n",
            "          0,   0,   0,   0,   0,   0,   0,   0,   0,   0,   0,   0,   0,\n",
            "          0,   0,   0,   0,   0,   0,   0,   0,   0,   0,   0,   0,   0,\n",
            "          0,   0,   0,   0,   0,   0,   0,   0,   0,   0,   0,   0,   0,\n",
            "          0,   0,   0,   0,   0,   0,   0,   0,   0,   0,   0,   0,   0,\n",
            "          0,   0,   0,   0,   0,   0,   0,   0,   0,   0,   0,   0,   0,\n",
            "          0,   0,   0,   0,   0,   0,   0,   0,   0,   0,   0,   0,   0,\n",
            "          0,   0,   0,   0,   0,   0,   0,   0,   0,   0,   0,   0,   0,\n",
            "          0,   0,   0,   0,   0,   0,   0,   0,   0,   0,   0,   0,   0,\n",
            "          0,   0,   0,   0,   0,   0,   0,   0,   0,   0,   0,   0,   0,\n",
            "          0,   0,   0,   0,   0,   0,   0,   0,   0,   0,   0,   0,   0,\n",
            "          0,   0,   0,   0,   0,   0,   0,   0,   0,   0,   0,   0,   0,\n",
            "          0,   0,   0,   0,   0,   0,   0,   0,   0,   0,   0,   0,   0,\n",
            "          0,   0,   0]])>, <tf.Tensor: shape=(), dtype=int32, numpy=1>)\n"
          ]
        }
      ],
      "source": [
        "text_batch, label_batch = next(iter(raw_train_ds))\n",
        "first_review, first_label = text_batch[13], label_batch[13]\n",
        "print(\"\\nReview -> text_batch[13]\", first_review)\n",
        "print(\"Label -> Label_batch[13]\", raw_train_ds.class_names[first_label])\n",
        "print(\"\\nVectorized review nya seperti ini \\n\\n\", vectorize_text(first_review, first_label))"
      ]
    },
    {
      "cell_type": "code",
      "execution_count": 19,
      "metadata": {
        "colab": {
          "base_uri": "https://localhost:8080/"
        },
        "id": "g4mQQp4zmz0q",
        "outputId": "e4e83e75-1d6f-4f42-c679-940f0cf46a81"
      },
      "outputs": [
        {
          "output_type": "stream",
          "name": "stdout",
          "text": [
            "1693 --->  dibekukan\n",
            "395 --->  awas\n",
            "Vocabulary size: 1953\n"
          ]
        }
      ],
      "source": [
        "print(\"1693 ---> \",vectorize_layer.get_vocabulary()[1693])\n",
        "print(\"395 ---> \",vectorize_layer.get_vocabulary()[395])\n",
        "print('Vocabulary size: {}'.format(len(vectorize_layer.get_vocabulary())))"
      ]
    },
    {
      "cell_type": "markdown",
      "source": [
        "# Menggubah semua input train, validasi dan test kedalam bentuk integer"
      ],
      "metadata": {
        "id": "oAmWnF1MVWcg"
      }
    },
    {
      "cell_type": "code",
      "execution_count": 20,
      "metadata": {
        "id": "lEucwjQ-m_Vp"
      },
      "outputs": [],
      "source": [
        "train_ds = raw_train_ds.map(vectorize_text)\n",
        "val_ds = raw_val_ds.map(vectorize_text)\n",
        "test_ds = raw_test_ds.map(vectorize_text)"
      ]
    },
    {
      "cell_type": "code",
      "execution_count": 21,
      "metadata": {
        "id": "mIb-okwOqkk5"
      },
      "outputs": [],
      "source": [
        "# Tunning dataset train, validasi dan test dengan AUTOTUNE untuk optimisasi shape data\n",
        "AUTOTUNE = tf.data.AUTOTUNE\n",
        "\n",
        "train_ds = train_ds.cache().prefetch(buffer_size=AUTOTUNE)\n",
        "val_ds = val_ds.cache().prefetch(buffer_size=AUTOTUNE)\n",
        "test_ds = test_ds.cache().prefetch(buffer_size=AUTOTUNE)"
      ]
    },
    {
      "cell_type": "markdown",
      "source": [
        "# Layer embedding dimension kita set menjadi 16 , seperti yang sering digunakan dalam panduan, embedding ini hanya dapat digunakan pada integer positiv dan untuk memperbaiki matrix."
      ],
      "metadata": {
        "id": "I6QrFPXaWMnJ"
      }
    },
    {
      "cell_type": "code",
      "execution_count": 22,
      "metadata": {
        "id": "lG28akNvrENY"
      },
      "outputs": [],
      "source": [
        "embedding_dim = 16"
      ]
    },
    {
      "cell_type": "code",
      "execution_count": null,
      "metadata": {
        "colab": {
          "base_uri": "https://localhost:8080/"
        },
        "id": "LQmj6o5eU0hL",
        "outputId": "caac183d-b8cb-4c4c-a090-a46318244d27"
      },
      "outputs": [
        {
          "output_type": "stream",
          "name": "stdout",
          "text": [
            "Model: \"sequential\"\n",
            "_________________________________________________________________\n",
            " Layer (type)                Output Shape              Param #   \n",
            "=================================================================\n",
            " embedding (Embedding)       (None, None, 16)          160016    \n",
            "                                                                 \n",
            " bidirectional (Bidirectiona  (None, 128)              41472     \n",
            " l)                                                              \n",
            "                                                                 \n",
            " dense (Dense)               (None, 64)                8256      \n",
            "                                                                 \n",
            " dense_1 (Dense)             (None, 3)                 195       \n",
            "                                                                 \n",
            "=================================================================\n",
            "Total params: 209,939\n",
            "Trainable params: 209,939\n",
            "Non-trainable params: 0\n",
            "_________________________________________________________________\n"
          ]
        }
      ],
      "source": [
        "'''model = tf.keras.Sequential([\n",
        "    \n",
        "    layers.Embedding(max_features + 1, embedding_dim),    \n",
        "    layers.Bidirectional(tf.keras.layers.LSTM(64)),\n",
        "    layers.Dense(64, activation='relu'),\n",
        "    layers.Dense(3)\n",
        "])\n",
        "\n",
        "\n",
        "model.summary()\n",
        "\n",
        "img_file = 'model_arch.png'\n",
        "tf.keras.utils.plot_model(model, to_file=img_file, show_shapes=True, show_layer_names=True)'''\n",
        "\n",
        "\n",
        "# MODEL RNN INI MEMBERIKAN AKURASI YANG KURANG BAIK DIBANDINGKAN MODEL YANG DIBAWAH DENGAN WAKTU KOMPUTASI YANG LEBIH LAMA\n",
        "# JADI GAK DIPAKE"
      ]
    },
    {
      "cell_type": "code",
      "execution_count": 22,
      "metadata": {
        "id": "EO8LQT0jiq0I"
      },
      "outputs": [],
      "source": []
    },
    {
      "cell_type": "code",
      "execution_count": 24,
      "metadata": {
        "id": "X7rx6X_5rKo3",
        "colab": {
          "base_uri": "https://localhost:8080/",
          "height": 1000
        },
        "outputId": "da07c0f8-e666-4a8a-ce4f-cef02743a65f"
      },
      "outputs": [
        {
          "output_type": "stream",
          "name": "stdout",
          "text": [
            "Model: \"sequential\"\n",
            "_________________________________________________________________\n",
            " Layer (type)                Output Shape              Param #   \n",
            "=================================================================\n",
            " embedding (Embedding)       (None, None, 16)          160016    \n",
            "                                                                 \n",
            " dropout (Dropout)           (None, None, 16)          0         \n",
            "                                                                 \n",
            " global_average_pooling1d (G  (None, 16)               0         \n",
            " lobalAveragePooling1D)                                          \n",
            "                                                                 \n",
            " dropout_1 (Dropout)         (None, 16)                0         \n",
            "                                                                 \n",
            " dense (Dense)               (None, 3)                 51        \n",
            "                                                                 \n",
            "=================================================================\n",
            "Total params: 160,067\n",
            "Trainable params: 160,067\n",
            "Non-trainable params: 0\n",
            "_________________________________________________________________\n"
          ]
        },
        {
          "output_type": "execute_result",
          "data": {
            "image/png": "[encoded data removed]",
            "text/plain": [
              "<IPython.core.display.Image object>"
            ]
          },
          "metadata": {},
          "execution_count": 24
        }
      ],
      "source": [
        "model = tf.keras.Sequential([\n",
        "  layers.Embedding(max_features + 1, embedding_dim),\n",
        "  layers.Dropout(0.2),\n",
        "  layers.GlobalAveragePooling1D(),\n",
        "  layers.Dropout(0.2),\n",
        "  layers.Dense(3)])\n",
        "\n",
        "model.summary()\n",
        "\n",
        "\n",
        "\n",
        "img_file = 'model_arch.png'\n",
        "tf.keras.utils.plot_model(model, to_file=img_file, show_shapes=True, show_layer_names=True)"
      ]
    },
    {
      "cell_type": "code",
      "execution_count": null,
      "metadata": {
        "id": "59mEoZIlujif"
      },
      "outputs": [],
      "source": [
        "#model.compile(loss=losses.SparseCategoricalCrossentropy(from_logits=True),\n",
        "#              optimizer='adam',\n",
        "#              metrics=tf.metrics.Accuracy())\n",
        "\n",
        "\n"
      ]
    },
    {
      "cell_type": "code",
      "execution_count": 25,
      "metadata": {
        "id": "ZZ4gSBNyyBgl"
      },
      "outputs": [],
      "source": [
        "model.compile(loss = losses.SparseCategoricalCrossentropy(from_logits=True), optimizer = 'adam', metrics = ['accuracy'])"
      ]
    },
    {
      "cell_type": "code",
      "execution_count": 47,
      "metadata": {
        "colab": {
          "base_uri": "https://localhost:8080/"
        },
        "id": "S4gEVVopw1Di",
        "outputId": "5de32e40-38c1-4394-8c6e-3244da84f3af"
      },
      "outputs": [
        {
          "output_type": "stream",
          "name": "stdout",
          "text": [
            "Epoch 1/150\n",
            "15/15 [==============================] - 0s 7ms/step - loss: 2.6710e-04 - accuracy: 1.0000 - val_loss: 0.1942 - val_accuracy: 0.9333\n",
            "Epoch 2/150\n",
            "15/15 [==============================] - 0s 7ms/step - loss: 1.5706e-04 - accuracy: 1.0000 - val_loss: 0.1920 - val_accuracy: 0.9333\n",
            "Epoch 3/150\n",
            "15/15 [==============================] - 0s 7ms/step - loss: 1.4098e-04 - accuracy: 1.0000 - val_loss: 0.1942 - val_accuracy: 0.9333\n",
            "Epoch 4/150\n",
            "15/15 [==============================] - 0s 8ms/step - loss: 5.2368e-04 - accuracy: 1.0000 - val_loss: 0.1931 - val_accuracy: 0.9333\n",
            "Epoch 5/150\n",
            "15/15 [==============================] - 0s 7ms/step - loss: 2.0071e-04 - accuracy: 1.0000 - val_loss: 0.1915 - val_accuracy: 0.9333\n",
            "Epoch 6/150\n",
            "15/15 [==============================] - 0s 8ms/step - loss: 3.6655e-04 - accuracy: 1.0000 - val_loss: 0.1905 - val_accuracy: 0.9333\n",
            "Epoch 7/150\n",
            "15/15 [==============================] - 0s 8ms/step - loss: 2.7183e-04 - accuracy: 1.0000 - val_loss: 0.1984 - val_accuracy: 0.9333\n",
            "Epoch 8/150\n",
            "15/15 [==============================] - 0s 7ms/step - loss: 2.0160e-04 - accuracy: 1.0000 - val_loss: 0.2038 - val_accuracy: 0.9333\n",
            "Epoch 9/150\n",
            "15/15 [==============================] - 0s 7ms/step - loss: 2.7751e-04 - accuracy: 1.0000 - val_loss: 0.2088 - val_accuracy: 0.9333\n",
            "Epoch 10/150\n",
            "15/15 [==============================] - 0s 8ms/step - loss: 1.9235e-04 - accuracy: 1.0000 - val_loss: 0.2078 - val_accuracy: 0.9333\n",
            "Epoch 11/150\n",
            "15/15 [==============================] - 0s 7ms/step - loss: 1.8284e-04 - accuracy: 1.0000 - val_loss: 0.2059 - val_accuracy: 0.9333\n",
            "Epoch 12/150\n",
            "15/15 [==============================] - 0s 8ms/step - loss: 2.3766e-04 - accuracy: 1.0000 - val_loss: 0.2066 - val_accuracy: 0.9333\n",
            "Epoch 13/150\n",
            "15/15 [==============================] - 0s 7ms/step - loss: 2.0732e-04 - accuracy: 1.0000 - val_loss: 0.2061 - val_accuracy: 0.9333\n",
            "Epoch 14/150\n",
            "15/15 [==============================] - 0s 7ms/step - loss: 5.0942e-04 - accuracy: 1.0000 - val_loss: 0.1969 - val_accuracy: 0.9333\n",
            "Epoch 15/150\n",
            "15/15 [==============================] - 0s 7ms/step - loss: 2.5181e-04 - accuracy: 1.0000 - val_loss: 0.2069 - val_accuracy: 0.9333\n",
            "Epoch 16/150\n",
            "15/15 [==============================] - 0s 7ms/step - loss: 3.2808e-04 - accuracy: 1.0000 - val_loss: 0.2117 - val_accuracy: 0.9333\n",
            "Epoch 17/150\n",
            "15/15 [==============================] - 0s 7ms/step - loss: 1.9168e-04 - accuracy: 1.0000 - val_loss: 0.2061 - val_accuracy: 0.9333\n",
            "Epoch 18/150\n",
            "15/15 [==============================] - 0s 7ms/step - loss: 2.1780e-04 - accuracy: 1.0000 - val_loss: 0.2064 - val_accuracy: 0.9333\n",
            "Epoch 19/150\n",
            "15/15 [==============================] - 0s 9ms/step - loss: 2.3412e-04 - accuracy: 1.0000 - val_loss: 0.2046 - val_accuracy: 0.9333\n",
            "Epoch 20/150\n",
            "15/15 [==============================] - 0s 7ms/step - loss: 1.5338e-04 - accuracy: 1.0000 - val_loss: 0.1958 - val_accuracy: 0.9333\n",
            "Epoch 21/150\n",
            "15/15 [==============================] - 0s 7ms/step - loss: 1.5554e-04 - accuracy: 1.0000 - val_loss: 0.1932 - val_accuracy: 0.9333\n",
            "Epoch 22/150\n",
            "15/15 [==============================] - 0s 8ms/step - loss: 2.5226e-04 - accuracy: 1.0000 - val_loss: 0.1899 - val_accuracy: 0.9333\n",
            "Epoch 23/150\n",
            "15/15 [==============================] - 0s 8ms/step - loss: 1.9642e-04 - accuracy: 1.0000 - val_loss: 0.2025 - val_accuracy: 0.9333\n",
            "Epoch 24/150\n",
            "15/15 [==============================] - 0s 7ms/step - loss: 3.1345e-04 - accuracy: 1.0000 - val_loss: 0.1917 - val_accuracy: 0.9333\n",
            "Epoch 25/150\n",
            "15/15 [==============================] - 0s 7ms/step - loss: 1.9591e-04 - accuracy: 1.0000 - val_loss: 0.1907 - val_accuracy: 0.9333\n",
            "Epoch 26/150\n",
            "15/15 [==============================] - 0s 8ms/step - loss: 1.6486e-04 - accuracy: 1.0000 - val_loss: 0.1963 - val_accuracy: 0.9333\n",
            "Epoch 27/150\n",
            "15/15 [==============================] - 0s 7ms/step - loss: 1.8220e-04 - accuracy: 1.0000 - val_loss: 0.1912 - val_accuracy: 0.9333\n",
            "Epoch 28/150\n",
            "15/15 [==============================] - 0s 7ms/step - loss: 1.7999e-04 - accuracy: 1.0000 - val_loss: 0.1929 - val_accuracy: 0.9333\n",
            "Epoch 29/150\n",
            "15/15 [==============================] - 0s 7ms/step - loss: 2.5565e-04 - accuracy: 1.0000 - val_loss: 0.1993 - val_accuracy: 0.9333\n",
            "Epoch 30/150\n",
            "15/15 [==============================] - 0s 7ms/step - loss: 2.3510e-04 - accuracy: 1.0000 - val_loss: 0.2108 - val_accuracy: 0.9333\n",
            "Epoch 31/150\n",
            "15/15 [==============================] - 0s 7ms/step - loss: 1.5693e-04 - accuracy: 1.0000 - val_loss: 0.2022 - val_accuracy: 0.9333\n",
            "Epoch 32/150\n",
            "15/15 [==============================] - 0s 8ms/step - loss: 2.0335e-04 - accuracy: 1.0000 - val_loss: 0.1978 - val_accuracy: 0.9333\n",
            "Epoch 33/150\n",
            "15/15 [==============================] - 0s 7ms/step - loss: 2.1218e-04 - accuracy: 1.0000 - val_loss: 0.1960 - val_accuracy: 0.9417\n",
            "Epoch 34/150\n",
            "15/15 [==============================] - 0s 12ms/step - loss: 2.0841e-04 - accuracy: 1.0000 - val_loss: 0.2030 - val_accuracy: 0.9417\n",
            "Epoch 35/150\n",
            "15/15 [==============================] - 0s 11ms/step - loss: 2.1446e-04 - accuracy: 1.0000 - val_loss: 0.2097 - val_accuracy: 0.9333\n",
            "Epoch 36/150\n",
            "15/15 [==============================] - 0s 12ms/step - loss: 2.6730e-04 - accuracy: 1.0000 - val_loss: 0.2074 - val_accuracy: 0.9333\n",
            "Epoch 37/150\n",
            "15/15 [==============================] - 0s 11ms/step - loss: 1.5026e-04 - accuracy: 1.0000 - val_loss: 0.1922 - val_accuracy: 0.9417\n",
            "Epoch 38/150\n",
            "15/15 [==============================] - 0s 11ms/step - loss: 2.6575e-04 - accuracy: 1.0000 - val_loss: 0.1939 - val_accuracy: 0.9333\n",
            "Epoch 39/150\n",
            "15/15 [==============================] - 0s 11ms/step - loss: 1.3851e-04 - accuracy: 1.0000 - val_loss: 0.2015 - val_accuracy: 0.9333\n",
            "Epoch 40/150\n",
            "15/15 [==============================] - 0s 11ms/step - loss: 1.1927e-04 - accuracy: 1.0000 - val_loss: 0.2054 - val_accuracy: 0.9333\n",
            "Epoch 41/150\n",
            "15/15 [==============================] - 0s 10ms/step - loss: 1.7198e-04 - accuracy: 1.0000 - val_loss: 0.2004 - val_accuracy: 0.9333\n",
            "Epoch 42/150\n",
            "15/15 [==============================] - 0s 10ms/step - loss: 1.7256e-04 - accuracy: 1.0000 - val_loss: 0.1926 - val_accuracy: 0.9417\n",
            "Epoch 43/150\n",
            "15/15 [==============================] - 0s 11ms/step - loss: 1.2047e-04 - accuracy: 1.0000 - val_loss: 0.1926 - val_accuracy: 0.9417\n",
            "Epoch 44/150\n",
            "15/15 [==============================] - 0s 9ms/step - loss: 1.3425e-04 - accuracy: 1.0000 - val_loss: 0.1953 - val_accuracy: 0.9333\n",
            "Epoch 45/150\n",
            "15/15 [==============================] - 0s 12ms/step - loss: 3.3509e-04 - accuracy: 1.0000 - val_loss: 0.2038 - val_accuracy: 0.9333\n",
            "Epoch 46/150\n",
            "15/15 [==============================] - 0s 9ms/step - loss: 1.9021e-04 - accuracy: 1.0000 - val_loss: 0.1945 - val_accuracy: 0.9333\n",
            "Epoch 47/150\n",
            "15/15 [==============================] - 0s 8ms/step - loss: 2.2308e-04 - accuracy: 1.0000 - val_loss: 0.1989 - val_accuracy: 0.9417\n",
            "Epoch 48/150\n",
            "15/15 [==============================] - 0s 8ms/step - loss: 1.5654e-04 - accuracy: 1.0000 - val_loss: 0.1924 - val_accuracy: 0.9417\n",
            "Epoch 49/150\n",
            "15/15 [==============================] - 0s 8ms/step - loss: 1.7715e-04 - accuracy: 1.0000 - val_loss: 0.1955 - val_accuracy: 0.9333\n",
            "Epoch 50/150\n",
            "15/15 [==============================] - 0s 7ms/step - loss: 2.1290e-04 - accuracy: 1.0000 - val_loss: 0.2079 - val_accuracy: 0.9333\n",
            "Epoch 51/150\n",
            "15/15 [==============================] - 0s 8ms/step - loss: 2.2449e-04 - accuracy: 1.0000 - val_loss: 0.2257 - val_accuracy: 0.9250\n",
            "Epoch 52/150\n",
            "15/15 [==============================] - 0s 7ms/step - loss: 2.7221e-04 - accuracy: 1.0000 - val_loss: 0.2256 - val_accuracy: 0.9333\n",
            "Epoch 53/150\n",
            "15/15 [==============================] - 0s 7ms/step - loss: 1.5646e-04 - accuracy: 1.0000 - val_loss: 0.2244 - val_accuracy: 0.9333\n",
            "Epoch 54/150\n",
            "15/15 [==============================] - 0s 8ms/step - loss: 1.7642e-04 - accuracy: 1.0000 - val_loss: 0.2113 - val_accuracy: 0.9333\n",
            "Epoch 55/150\n",
            "15/15 [==============================] - 0s 7ms/step - loss: 1.8499e-04 - accuracy: 1.0000 - val_loss: 0.2087 - val_accuracy: 0.9333\n",
            "Epoch 56/150\n",
            "15/15 [==============================] - 0s 8ms/step - loss: 3.1053e-04 - accuracy: 1.0000 - val_loss: 0.2115 - val_accuracy: 0.9333\n",
            "Epoch 57/150\n",
            "15/15 [==============================] - 0s 7ms/step - loss: 2.4609e-04 - accuracy: 1.0000 - val_loss: 0.2094 - val_accuracy: 0.9333\n",
            "Epoch 58/150\n",
            "15/15 [==============================] - 0s 7ms/step - loss: 2.1251e-04 - accuracy: 1.0000 - val_loss: 0.2031 - val_accuracy: 0.9333\n",
            "Epoch 59/150\n",
            "15/15 [==============================] - 0s 7ms/step - loss: 1.6979e-04 - accuracy: 1.0000 - val_loss: 0.2005 - val_accuracy: 0.9333\n",
            "Epoch 60/150\n",
            "15/15 [==============================] - 0s 7ms/step - loss: 3.0775e-04 - accuracy: 1.0000 - val_loss: 0.2152 - val_accuracy: 0.9333\n",
            "Epoch 61/150\n",
            "15/15 [==============================] - 0s 8ms/step - loss: 2.0614e-04 - accuracy: 1.0000 - val_loss: 0.2044 - val_accuracy: 0.9333\n",
            "Epoch 62/150\n",
            "15/15 [==============================] - 0s 7ms/step - loss: 1.7255e-04 - accuracy: 1.0000 - val_loss: 0.1986 - val_accuracy: 0.9333\n",
            "Epoch 63/150\n",
            "15/15 [==============================] - 0s 8ms/step - loss: 2.5750e-04 - accuracy: 1.0000 - val_loss: 0.2082 - val_accuracy: 0.9333\n",
            "Epoch 64/150\n",
            "15/15 [==============================] - 0s 7ms/step - loss: 1.6104e-04 - accuracy: 1.0000 - val_loss: 0.2108 - val_accuracy: 0.9333\n",
            "Epoch 65/150\n",
            "15/15 [==============================] - 0s 7ms/step - loss: 1.5313e-04 - accuracy: 1.0000 - val_loss: 0.2046 - val_accuracy: 0.9333\n",
            "Epoch 66/150\n",
            "15/15 [==============================] - 0s 8ms/step - loss: 1.8896e-04 - accuracy: 1.0000 - val_loss: 0.2027 - val_accuracy: 0.9333\n",
            "Epoch 67/150\n",
            "15/15 [==============================] - 0s 7ms/step - loss: 1.3845e-04 - accuracy: 1.0000 - val_loss: 0.1953 - val_accuracy: 0.9333\n",
            "Epoch 68/150\n",
            "15/15 [==============================] - 0s 7ms/step - loss: 1.3963e-04 - accuracy: 1.0000 - val_loss: 0.1974 - val_accuracy: 0.9333\n",
            "Epoch 69/150\n",
            "15/15 [==============================] - 0s 7ms/step - loss: 1.1716e-04 - accuracy: 1.0000 - val_loss: 0.1960 - val_accuracy: 0.9333\n",
            "Epoch 70/150\n",
            "15/15 [==============================] - 0s 7ms/step - loss: 1.4403e-04 - accuracy: 1.0000 - val_loss: 0.1912 - val_accuracy: 0.9333\n",
            "Epoch 71/150\n",
            "15/15 [==============================] - 0s 8ms/step - loss: 2.1514e-04 - accuracy: 1.0000 - val_loss: 0.2069 - val_accuracy: 0.9333\n",
            "Epoch 72/150\n",
            "15/15 [==============================] - 0s 7ms/step - loss: 1.1199e-04 - accuracy: 1.0000 - val_loss: 0.2120 - val_accuracy: 0.9333\n",
            "Epoch 73/150\n",
            "15/15 [==============================] - 0s 8ms/step - loss: 1.5007e-04 - accuracy: 1.0000 - val_loss: 0.2028 - val_accuracy: 0.9333\n",
            "Epoch 74/150\n",
            "15/15 [==============================] - 0s 8ms/step - loss: 1.3833e-04 - accuracy: 1.0000 - val_loss: 0.1943 - val_accuracy: 0.9333\n",
            "Epoch 75/150\n",
            "15/15 [==============================] - 0s 7ms/step - loss: 1.8323e-04 - accuracy: 1.0000 - val_loss: 0.1883 - val_accuracy: 0.9333\n",
            "Epoch 76/150\n",
            "15/15 [==============================] - 0s 7ms/step - loss: 1.2575e-04 - accuracy: 1.0000 - val_loss: 0.1938 - val_accuracy: 0.9333\n",
            "Epoch 77/150\n",
            "15/15 [==============================] - 0s 7ms/step - loss: 2.9918e-04 - accuracy: 1.0000 - val_loss: 0.2121 - val_accuracy: 0.9333\n",
            "Epoch 78/150\n",
            "15/15 [==============================] - 0s 7ms/step - loss: 2.3442e-04 - accuracy: 1.0000 - val_loss: 0.2312 - val_accuracy: 0.9167\n",
            "Epoch 79/150\n",
            "15/15 [==============================] - 0s 8ms/step - loss: 1.2008e-04 - accuracy: 1.0000 - val_loss: 0.2306 - val_accuracy: 0.9250\n",
            "Epoch 80/150\n",
            "15/15 [==============================] - 0s 7ms/step - loss: 1.2203e-04 - accuracy: 1.0000 - val_loss: 0.2182 - val_accuracy: 0.9250\n",
            "Epoch 81/150\n",
            "15/15 [==============================] - 0s 8ms/step - loss: 1.7545e-04 - accuracy: 1.0000 - val_loss: 0.2010 - val_accuracy: 0.9333\n",
            "Epoch 82/150\n",
            "15/15 [==============================] - 0s 9ms/step - loss: 1.6589e-04 - accuracy: 1.0000 - val_loss: 0.1961 - val_accuracy: 0.9333\n",
            "Epoch 83/150\n",
            "15/15 [==============================] - 0s 8ms/step - loss: 1.4396e-04 - accuracy: 1.0000 - val_loss: 0.1995 - val_accuracy: 0.9333\n",
            "Epoch 84/150\n",
            "15/15 [==============================] - 0s 7ms/step - loss: 1.4390e-04 - accuracy: 1.0000 - val_loss: 0.2003 - val_accuracy: 0.9333\n",
            "Epoch 85/150\n",
            "15/15 [==============================] - 0s 7ms/step - loss: 1.0959e-04 - accuracy: 1.0000 - val_loss: 0.2059 - val_accuracy: 0.9333\n",
            "Epoch 86/150\n",
            "15/15 [==============================] - 0s 8ms/step - loss: 1.5472e-04 - accuracy: 1.0000 - val_loss: 0.1955 - val_accuracy: 0.9333\n",
            "Epoch 87/150\n",
            "15/15 [==============================] - 0s 9ms/step - loss: 1.9664e-04 - accuracy: 1.0000 - val_loss: 0.1993 - val_accuracy: 0.9333\n",
            "Epoch 88/150\n",
            "15/15 [==============================] - 0s 8ms/step - loss: 1.2270e-04 - accuracy: 1.0000 - val_loss: 0.1997 - val_accuracy: 0.9333\n",
            "Epoch 89/150\n",
            "15/15 [==============================] - 0s 7ms/step - loss: 1.9644e-04 - accuracy: 1.0000 - val_loss: 0.2065 - val_accuracy: 0.9417\n",
            "Epoch 90/150\n",
            "15/15 [==============================] - 0s 7ms/step - loss: 3.4251e-04 - accuracy: 1.0000 - val_loss: 0.2067 - val_accuracy: 0.9417\n",
            "Epoch 91/150\n",
            "15/15 [==============================] - 0s 7ms/step - loss: 1.4378e-04 - accuracy: 1.0000 - val_loss: 0.1993 - val_accuracy: 0.9417\n",
            "Epoch 92/150\n",
            "15/15 [==============================] - 0s 7ms/step - loss: 1.1277e-04 - accuracy: 1.0000 - val_loss: 0.1991 - val_accuracy: 0.9417\n",
            "Epoch 93/150\n",
            "15/15 [==============================] - 0s 7ms/step - loss: 3.4370e-04 - accuracy: 1.0000 - val_loss: 0.2020 - val_accuracy: 0.9333\n",
            "Epoch 94/150\n",
            "15/15 [==============================] - 0s 8ms/step - loss: 1.2408e-04 - accuracy: 1.0000 - val_loss: 0.2073 - val_accuracy: 0.9333\n",
            "Epoch 95/150\n",
            "15/15 [==============================] - 0s 7ms/step - loss: 1.0202e-04 - accuracy: 1.0000 - val_loss: 0.2097 - val_accuracy: 0.9333\n",
            "Epoch 96/150\n",
            "15/15 [==============================] - 0s 7ms/step - loss: 1.4923e-04 - accuracy: 1.0000 - val_loss: 0.2102 - val_accuracy: 0.9333\n",
            "Epoch 97/150\n",
            "15/15 [==============================] - 0s 7ms/step - loss: 1.3441e-04 - accuracy: 1.0000 - val_loss: 0.2144 - val_accuracy: 0.9333\n",
            "Epoch 98/150\n",
            "15/15 [==============================] - 0s 9ms/step - loss: 1.5006e-04 - accuracy: 1.0000 - val_loss: 0.2111 - val_accuracy: 0.9333\n",
            "Epoch 99/150\n",
            "15/15 [==============================] - 0s 7ms/step - loss: 1.2688e-04 - accuracy: 1.0000 - val_loss: 0.2087 - val_accuracy: 0.9417\n",
            "Epoch 100/150\n",
            "15/15 [==============================] - 0s 7ms/step - loss: 1.4413e-04 - accuracy: 1.0000 - val_loss: 0.2129 - val_accuracy: 0.9333\n",
            "Epoch 101/150\n",
            "15/15 [==============================] - 0s 7ms/step - loss: 1.2497e-04 - accuracy: 1.0000 - val_loss: 0.2034 - val_accuracy: 0.9333\n",
            "Epoch 102/150\n",
            "15/15 [==============================] - 0s 9ms/step - loss: 2.8268e-04 - accuracy: 1.0000 - val_loss: 0.2151 - val_accuracy: 0.9250\n",
            "Epoch 103/150\n",
            "15/15 [==============================] - 0s 9ms/step - loss: 1.1598e-04 - accuracy: 1.0000 - val_loss: 0.2169 - val_accuracy: 0.9250\n",
            "Epoch 104/150\n",
            "15/15 [==============================] - 0s 7ms/step - loss: 1.2957e-04 - accuracy: 1.0000 - val_loss: 0.2059 - val_accuracy: 0.9333\n",
            "Epoch 105/150\n",
            "15/15 [==============================] - 0s 8ms/step - loss: 1.1379e-04 - accuracy: 1.0000 - val_loss: 0.2030 - val_accuracy: 0.9333\n",
            "Epoch 106/150\n",
            "15/15 [==============================] - 0s 7ms/step - loss: 7.1527e-05 - accuracy: 1.0000 - val_loss: 0.2022 - val_accuracy: 0.9333\n",
            "Epoch 107/150\n",
            "15/15 [==============================] - 0s 8ms/step - loss: 1.2322e-04 - accuracy: 1.0000 - val_loss: 0.2020 - val_accuracy: 0.9333\n",
            "Epoch 108/150\n",
            "15/15 [==============================] - 0s 8ms/step - loss: 1.2305e-04 - accuracy: 1.0000 - val_loss: 0.2052 - val_accuracy: 0.9333\n",
            "Epoch 109/150\n",
            "15/15 [==============================] - 0s 10ms/step - loss: 1.3849e-04 - accuracy: 1.0000 - val_loss: 0.2049 - val_accuracy: 0.9333\n",
            "Epoch 110/150\n",
            "15/15 [==============================] - 0s 7ms/step - loss: 2.8474e-04 - accuracy: 1.0000 - val_loss: 0.2074 - val_accuracy: 0.9333\n",
            "Epoch 111/150\n",
            "15/15 [==============================] - 0s 7ms/step - loss: 1.3707e-04 - accuracy: 1.0000 - val_loss: 0.2031 - val_accuracy: 0.9333\n",
            "Epoch 112/150\n",
            "15/15 [==============================] - 0s 7ms/step - loss: 1.4772e-04 - accuracy: 1.0000 - val_loss: 0.2112 - val_accuracy: 0.9333\n",
            "Epoch 113/150\n",
            "15/15 [==============================] - 0s 7ms/step - loss: 1.6139e-04 - accuracy: 1.0000 - val_loss: 0.2158 - val_accuracy: 0.9333\n",
            "Epoch 114/150\n",
            "15/15 [==============================] - 0s 8ms/step - loss: 2.3079e-04 - accuracy: 1.0000 - val_loss: 0.2092 - val_accuracy: 0.9333\n",
            "Epoch 115/150\n",
            "15/15 [==============================] - 0s 8ms/step - loss: 1.3029e-04 - accuracy: 1.0000 - val_loss: 0.2032 - val_accuracy: 0.9417\n",
            "Epoch 116/150\n",
            "15/15 [==============================] - 0s 7ms/step - loss: 2.1113e-04 - accuracy: 1.0000 - val_loss: 0.2177 - val_accuracy: 0.9333\n",
            "Epoch 117/150\n",
            "15/15 [==============================] - 0s 8ms/step - loss: 1.3300e-04 - accuracy: 1.0000 - val_loss: 0.2152 - val_accuracy: 0.9333\n",
            "Epoch 118/150\n",
            "15/15 [==============================] - 0s 7ms/step - loss: 1.5076e-04 - accuracy: 1.0000 - val_loss: 0.2015 - val_accuracy: 0.9333\n",
            "Epoch 119/150\n",
            "15/15 [==============================] - 0s 11ms/step - loss: 1.2971e-04 - accuracy: 1.0000 - val_loss: 0.2007 - val_accuracy: 0.9333\n",
            "Epoch 120/150\n",
            "15/15 [==============================] - 0s 12ms/step - loss: 1.4648e-04 - accuracy: 1.0000 - val_loss: 0.2109 - val_accuracy: 0.9333\n",
            "Epoch 121/150\n",
            "15/15 [==============================] - 0s 11ms/step - loss: 1.8667e-04 - accuracy: 1.0000 - val_loss: 0.2106 - val_accuracy: 0.9333\n",
            "Epoch 122/150\n",
            "15/15 [==============================] - 0s 11ms/step - loss: 1.2990e-04 - accuracy: 1.0000 - val_loss: 0.2057 - val_accuracy: 0.9417\n",
            "Epoch 123/150\n",
            "15/15 [==============================] - 0s 11ms/step - loss: 1.5263e-04 - accuracy: 1.0000 - val_loss: 0.1982 - val_accuracy: 0.9333\n",
            "Epoch 124/150\n",
            "15/15 [==============================] - 0s 10ms/step - loss: 1.1257e-04 - accuracy: 1.0000 - val_loss: 0.2023 - val_accuracy: 0.9333\n",
            "Epoch 125/150\n",
            "15/15 [==============================] - 0s 11ms/step - loss: 1.5327e-04 - accuracy: 1.0000 - val_loss: 0.2134 - val_accuracy: 0.9333\n",
            "Epoch 126/150\n",
            "15/15 [==============================] - 0s 11ms/step - loss: 9.6324e-05 - accuracy: 1.0000 - val_loss: 0.2225 - val_accuracy: 0.9250\n",
            "Epoch 127/150\n",
            "15/15 [==============================] - 0s 10ms/step - loss: 1.5248e-04 - accuracy: 1.0000 - val_loss: 0.2216 - val_accuracy: 0.9250\n",
            "Epoch 128/150\n",
            "15/15 [==============================] - 0s 10ms/step - loss: 2.9407e-04 - accuracy: 1.0000 - val_loss: 0.1982 - val_accuracy: 0.9417\n",
            "Epoch 129/150\n",
            "15/15 [==============================] - 0s 10ms/step - loss: 9.2971e-05 - accuracy: 1.0000 - val_loss: 0.1947 - val_accuracy: 0.9417\n",
            "Epoch 130/150\n",
            "15/15 [==============================] - 0s 7ms/step - loss: 2.7761e-04 - accuracy: 1.0000 - val_loss: 0.1920 - val_accuracy: 0.9333\n",
            "Epoch 131/150\n",
            "15/15 [==============================] - 0s 7ms/step - loss: 6.0612e-05 - accuracy: 1.0000 - val_loss: 0.1991 - val_accuracy: 0.9333\n",
            "Epoch 132/150\n",
            "15/15 [==============================] - 0s 8ms/step - loss: 1.0191e-04 - accuracy: 1.0000 - val_loss: 0.2102 - val_accuracy: 0.9333\n",
            "Epoch 133/150\n",
            "15/15 [==============================] - 0s 8ms/step - loss: 1.4848e-04 - accuracy: 1.0000 - val_loss: 0.2163 - val_accuracy: 0.9333\n",
            "Epoch 134/150\n",
            "15/15 [==============================] - 0s 8ms/step - loss: 3.4990e-04 - accuracy: 1.0000 - val_loss: 0.2085 - val_accuracy: 0.9333\n",
            "Epoch 135/150\n",
            "15/15 [==============================] - 0s 7ms/step - loss: 1.3377e-04 - accuracy: 1.0000 - val_loss: 0.1963 - val_accuracy: 0.9417\n",
            "Epoch 136/150\n",
            "15/15 [==============================] - 0s 7ms/step - loss: 1.1992e-04 - accuracy: 1.0000 - val_loss: 0.2061 - val_accuracy: 0.9417\n",
            "Epoch 137/150\n",
            "15/15 [==============================] - 0s 8ms/step - loss: 1.4358e-04 - accuracy: 1.0000 - val_loss: 0.2228 - val_accuracy: 0.9250\n",
            "Epoch 138/150\n",
            "15/15 [==============================] - 0s 8ms/step - loss: 1.0793e-04 - accuracy: 1.0000 - val_loss: 0.2341 - val_accuracy: 0.9250\n",
            "Epoch 139/150\n",
            "15/15 [==============================] - 0s 8ms/step - loss: 5.8310e-05 - accuracy: 1.0000 - val_loss: 0.2281 - val_accuracy: 0.9250\n",
            "Epoch 140/150\n",
            "15/15 [==============================] - 0s 7ms/step - loss: 9.9468e-05 - accuracy: 1.0000 - val_loss: 0.2245 - val_accuracy: 0.9250\n",
            "Epoch 141/150\n",
            "15/15 [==============================] - 0s 8ms/step - loss: 9.1112e-05 - accuracy: 1.0000 - val_loss: 0.2221 - val_accuracy: 0.9250\n",
            "Epoch 142/150\n",
            "15/15 [==============================] - 0s 7ms/step - loss: 1.3171e-04 - accuracy: 1.0000 - val_loss: 0.2135 - val_accuracy: 0.9333\n",
            "Epoch 143/150\n",
            "15/15 [==============================] - 0s 8ms/step - loss: 7.3227e-05 - accuracy: 1.0000 - val_loss: 0.2017 - val_accuracy: 0.9333\n",
            "Epoch 144/150\n",
            "15/15 [==============================] - 0s 8ms/step - loss: 1.4223e-04 - accuracy: 1.0000 - val_loss: 0.2054 - val_accuracy: 0.9333\n",
            "Epoch 145/150\n",
            "15/15 [==============================] - 0s 7ms/step - loss: 1.1420e-04 - accuracy: 1.0000 - val_loss: 0.2045 - val_accuracy: 0.9333\n",
            "Epoch 146/150\n",
            "15/15 [==============================] - 0s 7ms/step - loss: 1.1039e-04 - accuracy: 1.0000 - val_loss: 0.1986 - val_accuracy: 0.9333\n",
            "Epoch 147/150\n",
            "15/15 [==============================] - 0s 7ms/step - loss: 1.0169e-04 - accuracy: 1.0000 - val_loss: 0.2007 - val_accuracy: 0.9333\n",
            "Epoch 148/150\n",
            "15/15 [==============================] - 0s 9ms/step - loss: 2.6019e-04 - accuracy: 1.0000 - val_loss: 0.2076 - val_accuracy: 0.9333\n",
            "Epoch 149/150\n",
            "15/15 [==============================] - 0s 7ms/step - loss: 1.6070e-04 - accuracy: 1.0000 - val_loss: 0.2158 - val_accuracy: 0.9250\n",
            "Epoch 150/150\n",
            "15/15 [==============================] - 0s 8ms/step - loss: 8.9536e-05 - accuracy: 1.0000 - val_loss: 0.2053 - val_accuracy: 0.9333\n"
          ]
        }
      ],
      "source": [
        "epochs = 150\n",
        "history = model.fit(\n",
        "    train_ds,\n",
        "    validation_data=val_ds,\n",
        "    epochs=epochs)"
      ]
    },
    {
      "cell_type": "code",
      "source": [
        "model.save('/content/drive/MyDrive/NLP_MODEL/03032023/')"
      ],
      "metadata": {
        "id": "zvNWlry8sfDp",
        "outputId": "daef8b7b-4a78-4495-d5d2-e42f9dd8fbaa",
        "colab": {
          "base_uri": "https://localhost:8080/"
        }
      },
      "execution_count": 52,
      "outputs": [
        {
          "output_type": "stream",
          "name": "stderr",
          "text": [
            "WARNING:absl:Found untraced functions such as _update_step_xla while saving (showing 1 of 1). These functions will not be directly callable after loading.\n"
          ]
        }
      ]
    },
    {
      "cell_type": "code",
      "execution_count": 48,
      "metadata": {
        "colab": {
          "base_uri": "https://localhost:8080/"
        },
        "id": "-zzNKpPQyqfP",
        "outputId": "62d457bf-e1af-4cf5-9da1-32fcaaafff5e"
      },
      "outputs": [
        {
          "output_type": "stream",
          "name": "stdout",
          "text": [
            "5/5 [==============================] - 0s 3ms/step - loss: 0.4924 - accuracy: 0.8235\n",
            "Loss:  0.4924125373363495\n",
            "Accuracy:  0.8235294222831726\n"
          ]
        }
      ],
      "source": [
        "loss, accuracy = model.evaluate(test_ds)\n",
        "\n",
        "print(\"Loss: \", loss)\n",
        "print(\"Accuracy: \", accuracy)"
      ]
    },
    {
      "cell_type": "code",
      "execution_count": null,
      "metadata": {
        "colab": {
          "base_uri": "https://localhost:8080/"
        },
        "id": "yHnCO_T5y3PP",
        "outputId": "2f6ccbef-35dc-48e5-85f0-9b6189a84905"
      },
      "outputs": [
        {
          "output_type": "execute_result",
          "data": {
            "text/plain": [
              "dict_keys(['loss', 'accuracy', 'val_loss', 'val_accuracy'])"
            ]
          },
          "metadata": {},
          "execution_count": 41
        }
      ],
      "source": [
        "history_dict = history.history\n",
        "history_dict.keys()"
      ]
    },
    {
      "cell_type": "code",
      "execution_count": null,
      "metadata": {
        "colab": {
          "base_uri": "https://localhost:8080/",
          "height": 295
        },
        "id": "WOaRHa-LzKZW",
        "outputId": "7862430f-35fc-49bc-bc98-fc2dcde39a29"
      },
      "outputs": [
        {
          "output_type": "display_data",
          "data": {
            "text/plain": [
              "<Figure size 432x288 with 1 Axes>"
            ],
            "image/png": "[encoded data removed]"
          },
          "metadata": {
            "needs_background": "light"
          }
        }
      ],
      "source": [
        "acc = history_dict['accuracy']\n",
        "val_acc = history_dict['val_accuracy']\n",
        "loss = history_dict['loss']\n",
        "val_loss = history_dict['val_loss']\n",
        "\n",
        "epochs = range(1, len(acc) + 1)\n",
        "\n",
        "# \"bo\" is for \"blue dot\"\n",
        "plt.plot(epochs, loss, 'bo', label='Training loss')\n",
        "# b is for \"solid blue line\"\n",
        "plt.plot(epochs, val_loss, 'b', label='Validation loss')\n",
        "plt.title('Training and validation loss')\n",
        "plt.xlabel('Epochs')\n",
        "plt.ylabel('Loss')\n",
        "plt.legend()\n",
        "\n",
        "plt.show()"
      ]
    },
    {
      "cell_type": "code",
      "execution_count": null,
      "metadata": {
        "colab": {
          "base_uri": "https://localhost:8080/",
          "height": 295
        },
        "id": "Y6yr7YCyzRPz",
        "outputId": "332f0b72-4b52-483e-fd4d-ec981026362f"
      },
      "outputs": [
        {
          "output_type": "display_data",
          "data": {
            "text/plain": [
              "<Figure size 432x288 with 1 Axes>"
            ],
            "image/png": "[encoded data removed]"
          },
          "metadata": {
            "needs_background": "light"
          }
        }
      ],
      "source": [
        "plt.plot(epochs, acc, 'bo', label='Training acc')\n",
        "plt.plot(epochs, val_acc, 'b', label='Validation acc')\n",
        "plt.title('Training and validation accuracy')\n",
        "plt.xlabel('Epochs')\n",
        "plt.ylabel('Accuracy')\n",
        "plt.legend(loc='lower right')\n",
        "\n",
        "plt.show()"
      ]
    },
    {
      "cell_type": "code",
      "execution_count": 49,
      "metadata": {
        "colab": {
          "base_uri": "https://localhost:8080/"
        },
        "id": "1JG4H59HzcOh",
        "outputId": "ddc81e40-2436-4797-e7d7-375dc2a6d1bc"
      },
      "outputs": [
        {
          "output_type": "stream",
          "name": "stdout",
          "text": [
            "5/5 [==============================] - 0s 3ms/step - loss: 0.4924 - accuracy: 0.8235\n",
            "0.8235294222831726\n"
          ]
        }
      ],
      "source": [
        "export_model = tf.keras.Sequential([\n",
        "  vectorize_layer,\n",
        "  model,\n",
        "  layers.Activation('softmax')\n",
        "])\n",
        "export_model.compile(loss = losses.SparseCategoricalCrossentropy(from_logits=True), optimizer = 'adam', metrics = ['accuracy'])\n",
        "\n",
        "\n",
        "\n",
        "# Test it with `raw_test_ds`, which yields raw strings\n",
        "loss, accuracy = export_model.evaluate(raw_test_ds)\n",
        "print(accuracy)"
      ]
    },
    {
      "cell_type": "code",
      "execution_count": 37,
      "metadata": {
        "colab": {
          "base_uri": "https://localhost:8080/"
        },
        "id": "lx12nIIi7luJ",
        "outputId": "0094b55d-b24c-474b-ddbb-a16230181d1d"
      },
      "outputs": [
        {
          "output_type": "execute_result",
          "data": {
            "text/plain": [
              "['EKO', 'HEL', 'OLA']"
            ]
          },
          "metadata": {},
          "execution_count": 37
        }
      ],
      "source": [
        "['EKO', 'HEL', 'OLA']"
      ]
    },
    {
      "cell_type": "markdown",
      "source": [
        "# PREDIKSI"
      ],
      "metadata": {
        "id": "XRa2FY4q0Ovo"
      }
    },
    {
      "cell_type": "code",
      "execution_count": 57,
      "metadata": {
        "colab": {
          "base_uri": "https://localhost:8080/"
        },
        "id": "f-_agyAv7Rwx",
        "outputId": "ea747ad8-5d92-480f-e6d2-14d08f993e9b"
      },
      "outputs": [
        {
          "output_type": "stream",
          "name": "stdout",
          "text": [
            "1/1 [==============================] - 0s 47ms/step\n"
          ]
        },
        {
          "output_type": "execute_result",
          "data": {
            "text/plain": [
              "array([[1.8417591e-04, 2.9954774e-04, 9.9951625e-01],\n",
              "       [6.8338031e-01, 8.5947335e-02, 2.3067236e-01],\n",
              "       [7.2457209e-02, 9.2663419e-01, 9.0852199e-04],\n",
              "       [5.5571413e-01, 4.1079608e-01, 3.3489745e-02],\n",
              "       [8.2883024e-01, 9.8371776e-03, 1.6133267e-01],\n",
              "       [8.1757754e-01, 1.3971917e-01, 4.2703282e-02]], dtype=float32)"
            ]
          },
          "metadata": {},
          "execution_count": 57
        }
      ],
      "source": [
        "examples = [\"MotoGP 2015 akan dikenang sebagai salah satu yang paling sengit dalam gelaran kejuaraan dunia balap motor grand prix\",\n",
        "            \"Ida Fauziyah menargetkan penyaluran Ekonomi Bantuan Subsidi Upah (BSU) atau BLT Gaji melalui PT Pos\",\n",
        "            \"Teknik Dasar Jalan Cepat, Sejarah, dan Manfaat untuk Kesehatan\",\n",
        "            \"Covid-19 akan meningkat apabila masayarakat tidak patuh protokol kesehatan\",\n",
        "            \"Rencana Impor KRL Bekas Didukung Erick Thohir, tetapi belum mendapat persetujuan kementrian perdagangan & Ekonomi\",\n",
        "            \"Inflasi Indonesia Naik Lagi pada Februari 2023\"]\n",
        "\n",
        "\n",
        "#for x in examples:\n",
        "export_model.predict(examples)"
      ]
    },
    {
      "cell_type": "markdown",
      "source": [
        "# FUNGSI UNTUK MEMBUAT VISUALISASI GRAFIK PIE CHART"
      ],
      "metadata": {
        "id": "mE-x8RyaSAXX"
      }
    },
    {
      "cell_type": "code",
      "source": [
        "def Pie_Chart_Visualization(x):\n",
        "\n",
        "          # Pie chart, where the slices will be ordered and plotted counter-clockwise:\n",
        "          labels = ['EKO', 'HEL', 'OLA']\n",
        "          sizes = export_model.predict(examples)[x].tolist()\n",
        "          explode = (0, 0, 0)  # only \"explode\" the 2nd slice (i.e. 'Hogs')\n",
        "\n",
        "          fig1, ax1 = plt.subplots()\n",
        "          ax1.pie(sizes, explode=explode, labels=labels, autopct='%1.1f%%',\n",
        "                  shadow=True, startangle=90)\n",
        "          ax1.axis('equal')  # Equal aspect ratio ensures that pie is drawn as a circle.\n",
        "\n",
        "          plt.show()"
      ],
      "metadata": {
        "id": "PB33J9xkZL9I"
      },
      "execution_count": 45,
      "outputs": []
    },
    {
      "cell_type": "markdown",
      "source": [
        "# PENGUJIAN PROSENATASE PREDIKSI DALAM BENTUK GRAFIK DARI DATA SAMPLE"
      ],
      "metadata": {
        "id": "Huil3hFtR0ND"
      }
    },
    {
      "cell_type": "code",
      "source": [
        "for x in range(len(examples)):\n",
        "  display(examples[x])\n",
        "  display(Pie_Chart_Visualization(x))\n",
        "  print('')"
      ],
      "metadata": {
        "colab": {
          "base_uri": "https://localhost:8080/",
          "height": 1000
        },
        "id": "uxUAum5AigpU",
        "outputId": "db12e7d0-dbaf-459b-940a-bdfb75de3b39"
      },
      "execution_count": 58,
      "outputs": [
        {
          "output_type": "display_data",
          "data": {
            "text/plain": [
              "'MotoGP 2015 akan dikenang sebagai salah satu yang paling sengit dalam gelaran kejuaraan dunia balap motor grand prix'"
            ],
            "application/vnd.google.colaboratory.intrinsic+json": {
              "type": "string"
            }
          },
          "metadata": {}
        },
        {
          "output_type": "stream",
          "name": "stdout",
          "text": [
            "1/1 [==============================] - 0s 57ms/step\n"
          ]
        },
        {
          "output_type": "display_data",
          "data": {
            "text/plain": [
              "<Figure size 432x288 with 1 Axes>"
            ],
            "image/png": "[encoded data removed]"
          },
          "metadata": {}
        },
        {
          "output_type": "display_data",
          "data": {
            "text/plain": [
              "None"
            ]
          },
          "metadata": {}
        },
        {
          "output_type": "stream",
          "name": "stdout",
          "text": [
            "\n"
          ]
        },
        {
          "output_type": "display_data",
          "data": {
            "text/plain": [
              "'Ida Fauziyah menargetkan penyaluran Ekonomi Bantuan Subsidi Upah (BSU) atau BLT Gaji melalui PT Pos'"
            ],
            "application/vnd.google.colaboratory.intrinsic+json": {
              "type": "string"
            }
          },
          "metadata": {}
        },
        {
          "output_type": "stream",
          "name": "stdout",
          "text": [
            "1/1 [==============================] - 0s 54ms/step\n"
          ]
        },
        {
          "output_type": "display_data",
          "data": {
            "text/plain": [
              "<Figure size 432x288 with 1 Axes>"
            ],
            "image/png": "[encoded data removed]"
          },
          "metadata": {}
        },
        {
          "output_type": "display_data",
          "data": {
            "text/plain": [
              "None"
            ]
          },
          "metadata": {}
        },
        {
          "output_type": "stream",
          "name": "stdout",
          "text": [
            "\n"
          ]
        },
        {
          "output_type": "display_data",
          "data": {
            "text/plain": [
              "'Teknik Dasar Jalan Cepat, Sejarah, dan Manfaat untuk Kesehatan'"
            ],
            "application/vnd.google.colaboratory.intrinsic+json": {
              "type": "string"
            }
          },
          "metadata": {}
        },
        {
          "output_type": "stream",
          "name": "stdout",
          "text": [
            "1/1 [==============================] - 0s 55ms/step\n"
          ]
        },
        {
          "output_type": "display_data",
          "data": {
            "text/plain": [
              "<Figure size 432x288 with 1 Axes>"
            ],
            "image/png": "[encoded data removed]"
          },
          "metadata": {}
        },
        {
          "output_type": "display_data",
          "data": {
            "text/plain": [
              "None"
            ]
          },
          "metadata": {}
        },
        {
          "output_type": "stream",
          "name": "stdout",
          "text": [
            "\n"
          ]
        },
        {
          "output_type": "display_data",
          "data": {
            "text/plain": [
              "'Covid-19 akan meningkat apabila masayarakat tidak patuh protokol kesehatan'"
            ],
            "application/vnd.google.colaboratory.intrinsic+json": {
              "type": "string"
            }
          },
          "metadata": {}
        },
        {
          "output_type": "stream",
          "name": "stdout",
          "text": [
            "1/1 [==============================] - 0s 54ms/step\n"
          ]
        },
        {
          "output_type": "display_data",
          "data": {
            "text/plain": [
              "<Figure size 432x288 with 1 Axes>"
            ],
            "image/png": "[encoded data removed]"
          },
          "metadata": {}
        },
        {
          "output_type": "display_data",
          "data": {
            "text/plain": [
              "None"
            ]
          },
          "metadata": {}
        },
        {
          "output_type": "stream",
          "name": "stdout",
          "text": [
            "\n"
          ]
        },
        {
          "output_type": "display_data",
          "data": {
            "text/plain": [
              "'Rencana Impor KRL Bekas Didukung Erick Thohir, tetapi belum mendapat persetujuan kementrian perdagangan & Ekonomi'"
            ],
            "application/vnd.google.colaboratory.intrinsic+json": {
              "type": "string"
            }
          },
          "metadata": {}
        },
        {
          "output_type": "stream",
          "name": "stdout",
          "text": [
            "1/1 [==============================] - 0s 51ms/step\n"
          ]
        },
        {
          "output_type": "display_data",
          "data": {
            "text/plain": [
              "<Figure size 432x288 with 1 Axes>"
            ],
            "image/png": "[encoded data removed]"
          },
          "metadata": {}
        },
        {
          "output_type": "display_data",
          "data": {
            "text/plain": [
              "None"
            ]
          },
          "metadata": {}
        },
        {
          "output_type": "stream",
          "name": "stdout",
          "text": [
            "\n"
          ]
        },
        {
          "output_type": "display_data",
          "data": {
            "text/plain": [
              "'Inflasi Indonesia Naik Lagi pada Februari 2023'"
            ],
            "application/vnd.google.colaboratory.intrinsic+json": {
              "type": "string"
            }
          },
          "metadata": {}
        },
        {
          "output_type": "stream",
          "name": "stdout",
          "text": [
            "1/1 [==============================] - 0s 59ms/step\n"
          ]
        },
        {
          "output_type": "display_data",
          "data": {
            "text/plain": [
              "<Figure size 432x288 with 1 Axes>"
            ],
            "image/png": "[encoded data removed]"
          },
          "metadata": {}
        },
        {
          "output_type": "display_data",
          "data": {
            "text/plain": [
              "None"
            ]
          },
          "metadata": {}
        },
        {
          "output_type": "stream",
          "name": "stdout",
          "text": [
            "\n"
          ]
        }
      ]
    },
    {
      "cell_type": "code",
      "source": [],
      "metadata": {
        "id": "c7jsn3LvwZ5p"
      },
      "execution_count": null,
      "outputs": []
    },
    {
      "cell_type": "markdown",
      "source": [
        "# CONFUSION MATRIX SEBAGAI TAMBAHAN PENDUKUNG UNTUK MEPERJELAS VISUALISASI DIATAS"
      ],
      "metadata": {
        "id": "xng6nwmSS7Nm"
      }
    },
    {
      "cell_type": "markdown",
      "source": [
        "# CONFUSION MATRIX WITH SKLEARN DARI DATA EXAMPLE PREDIKSI DIATAS"
      ],
      "metadata": {
        "id": "SYvcxRgI6VIv"
      }
    },
    {
      "cell_type": "code",
      "source": [
        "KNOWLDEGE = '''\n",
        "examples = [\"MotoGP 2015 akan dikenang sebagai salah satu yang paling sengit dalam gelaran kejuaraan dunia balap motor grand prix\",\n",
        "            \"Ida Fauziyah menargetkan penyaluran Bantuan Subsidi Upah (BSU) atau BLT Gaji melalui PT Pos\",\n",
        "            \"Teknik Dasar Jalan Cepat, Sejarah, dan Manfaat untuk Kesehatan\",\n",
        "            \"Covid-19 akan meningkat apabila masayarakat tidak patuh protokol kesehatan\",\n",
        "            \"Rencana Impor KRL Bekas: Didukung Erick Thohir, Belum Direstui Kemenperin\",\n",
        "            \"Inflasi Indonesia Naik Lagi pada Februari 2023\"]\n",
        "\n",
        "\n",
        "array([[0.2787188 , 0.2602841 , 0.46099707],\n",
        "       [0.35545906, 0.38726214, 0.2572788 ],\n",
        "       [0.34048846, 0.5059424 , 0.1535691 ],\n",
        "       [0.36652344, 0.4425247 , 0.19095181],\n",
        "       [0.38142797, 0.33325955, 0.28531247],\n",
        "       [0.39142797, 0.32325955, 0.28531247],], dtype=float32)    \n",
        "\n",
        "'''               \n",
        "\n",
        "\n",
        "\n",
        "y_value_true = [2,1,1,1,0,0]  # Knowledge dari user/peneliti\n",
        "x_value_pred = [2,1,1,1,0,0]  # Value dari nilai prdiksi diambil prosentasi terbesar     \n",
        "LABEL = ['EKO', 'HEL', 'OLA']    \n",
        "\n"
      ],
      "metadata": {
        "id": "WU73XALk6UUh"
      },
      "execution_count": null,
      "outputs": []
    },
    {
      "cell_type": "code",
      "source": [
        "from sklearn.metrics import confusion_matrix\n",
        "\n",
        "conf_matrix = confusion_matrix(y_value_true, x_value_pred)\n",
        "#conf_matrix = confusion_matrix([2,1,1,1,0,1], [2,1,1,1,0,0])\n",
        "print(conf_matrix)\n",
        "\n",
        "\n",
        "sns.heatmap(\n",
        "    conf_matrix, annot=True,\n",
        "    xticklabels= lbl,\n",
        "    yticklabels= lbl)\n",
        "plt.xlabel(\"Predicted\")\n",
        "plt.ylabel(\"True\")"
      ],
      "metadata": {
        "id": "bzJs7LNC-HTL",
        "outputId": "8c56b343-9d41-4d2f-d622-a765475360c5",
        "colab": {
          "base_uri": "https://localhost:8080/",
          "height": 354
        }
      },
      "execution_count": null,
      "outputs": [
        {
          "output_type": "stream",
          "name": "stdout",
          "text": [
            "[[2 0 0]\n",
            " [0 3 0]\n",
            " [0 0 1]]\n"
          ]
        },
        {
          "output_type": "execute_result",
          "data": {
            "text/plain": [
              "Text(33.0, 0.5, 'True')"
            ]
          },
          "metadata": {},
          "execution_count": 50
        },
        {
          "output_type": "display_data",
          "data": {
            "text/plain": [
              "<Figure size 432x288 with 2 Axes>"
            ],
            "image/png": "[encoded data removed]"
          },
          "metadata": {
            "needs_background": "light"
          }
        }
      ]
    },
    {
      "cell_type": "markdown",
      "source": [
        "Confusion matrix yang diberikan terdiri dari tiga kelas (class), yaitu kelas EKO, KESEHATAN, dan OLAHRAGA. Kolom merepresentasikan nilai prediksi dan baris merepresentasikan nilai sebenarnya. Oleh karena itu, diagonal utama dari matrix menunjukkan jumlah prediksi yang benar.\n",
        "\n",
        "Berdasarkan confusion matrix yang diberikan, dapat disimpulkan bahwa:\n",
        "\n",
        "Kelas pertama memiliki dua prediksi yang benar (true positive), sementara tidak ada prediksi yang salah (false positive) atau salah negatif (false negative) pada kelas ini.\n",
        "Kelas kedua memiliki tiga prediksi yang benar (true positive), sementara tidak ada prediksi yang salah (false positive) atau salah negatif (false negative) pada kelas ini.\n",
        "Kelas ketiga memiliki satu prediksi yang benar (true positive), sementara tidak ada prediksi yang salah (false positive) atau salah negatif (false negative) pada kelas ini.\n",
        "Dengan demikian, dapat disimpulkan bahwa model memiliki performa yang cukup baik untuk memprediksi tiga kelas yang ada, karena tidak terdapat nilai false positive atau false negative pada setiap kelasnya"
      ],
      "metadata": {
        "id": "6svL0N4585qT"
      }
    },
    {
      "cell_type": "markdown",
      "source": [
        "# TABLE PEMBELAJARAN / LEARNING RATE"
      ],
      "metadata": {
        "id": "MtBm4-4qSLxi"
      }
    },
    {
      "cell_type": "code",
      "source": [
        "LOSS = [0.7776076197624207,0.5466572642326355,0.4511881172657013,0.41121599078178406]\n",
        "ACCURACY = [0.7973856329917908,0.843137264251709,0.8562091588973999,0.8562091588973999]\n",
        "EPOCH = [150,300,450,600]\n",
        "\n",
        "BASIC = pd.DataFrame()\n",
        "BASIC['EPOCH'] = EPOCH\n",
        "BASIC['ACCURACY'] = ACCURACY\n",
        "BASIC['LOSS'] = LOSS\n"
      ],
      "metadata": {
        "id": "PiHR7Tv7grxa"
      },
      "execution_count": null,
      "outputs": []
    },
    {
      "cell_type": "code",
      "source": [
        "display(BASIC)"
      ],
      "metadata": {
        "colab": {
          "base_uri": "https://localhost:8080/",
          "height": 175
        },
        "id": "EmIR4KT6hjM_",
        "outputId": "a8f233f9-70e2-459a-9aff-78124b7ba931"
      },
      "execution_count": null,
      "outputs": [
        {
          "output_type": "display_data",
          "data": {
            "text/plain": [
              "   EPOCH  ACCURACY      LOSS\n",
              "0    150  0.797386  0.777608\n",
              "1    300  0.843137  0.546657\n",
              "2    450  0.856209  0.451188\n",
              "3    600  0.856209  0.411216"
            ],
            "text/html": [
              "\n",
              "  <div id=\"df-157e7da9-98a7-4dab-91c1-cb95d3df545a\">\n",
              "    <div class=\"colab-df-container\">\n",
              "      <div>\n",
              "<style scoped>\n",
              "    .dataframe tbody tr th:only-of-type {\n",
              "        vertical-align: middle;\n",
              "    }\n",
              "\n",
              "    .dataframe tbody tr th {\n",
              "        vertical-align: top;\n",
              "    }\n",
              "\n",
              "    .dataframe thead th {\n",
              "        text-align: right;\n",
              "    }\n",
              "</style>\n",
              "<table border=\"1\" class=\"dataframe\">\n",
              "  <thead>\n",
              "    <tr style=\"text-align: right;\">\n",
              "      <th></th>\n",
              "      <th>EPOCH</th>\n",
              "      <th>ACCURACY</th>\n",
              "      <th>LOSS</th>\n",
              "    </tr>\n",
              "  </thead>\n",
              "  <tbody>\n",
              "    <tr>\n",
              "      <th>0</th>\n",
              "      <td>150</td>\n",
              "      <td>0.797386</td>\n",
              "      <td>0.777608</td>\n",
              "    </tr>\n",
              "    <tr>\n",
              "      <th>1</th>\n",
              "      <td>300</td>\n",
              "      <td>0.843137</td>\n",
              "      <td>0.546657</td>\n",
              "    </tr>\n",
              "    <tr>\n",
              "      <th>2</th>\n",
              "      <td>450</td>\n",
              "      <td>0.856209</td>\n",
              "      <td>0.451188</td>\n",
              "    </tr>\n",
              "    <tr>\n",
              "      <th>3</th>\n",
              "      <td>600</td>\n",
              "      <td>0.856209</td>\n",
              "      <td>0.411216</td>\n",
              "    </tr>\n",
              "  </tbody>\n",
              "</table>\n",
              "</div>\n",
              "      <button class=\"colab-df-convert\" onclick=\"convertToInteractive('df-157e7da9-98a7-4dab-91c1-cb95d3df545a')\"\n",
              "              title=\"Convert this dataframe to an interactive table.\"\n",
              "              style=\"display:none;\">\n",
              "        \n",
              "  <svg xmlns=\"http://www.w3.org/2000/svg\" height=\"24px\"viewBox=\"0 0 24 24\"\n",
              "       width=\"24px\">\n",
              "    <path d=\"M0 0h24v24H0V0z\" fill=\"none\"/>\n",
              "    <path d=\"M18.56 5.44l.94 2.06.94-2.06 2.06-.94-2.06-.94-.94-2.06-.94 2.06-2.06.94zm-11 1L8.5 8.5l.94-2.06 2.06-.94-2.06-.94L8.5 2.5l-.94 2.06-2.06.94zm10 10l.94 2.06.94-2.06 2.06-.94-2.06-.94-.94-2.06-.94 2.06-2.06.94z\"/><path d=\"M17.41 7.96l-1.37-1.37c-.4-.4-.92-.59-1.43-.59-.52 0-1.04.2-1.43.59L10.3 9.45l-7.72 7.72c-.78.78-.78 2.05 0 2.83L4 21.41c.39.39.9.59 1.41.59.51 0 1.02-.2 1.41-.59l7.78-7.78 2.81-2.81c.8-.78.8-2.07 0-2.86zM5.41 20L4 18.59l7.72-7.72 1.47 1.35L5.41 20z\"/>\n",
              "  </svg>\n",
              "      </button>\n",
              "      \n",
              "  <style>\n",
              "    .colab-df-container {\n",
              "      display:flex;\n",
              "      flex-wrap:wrap;\n",
              "      gap: 12px;\n",
              "    }\n",
              "\n",
              "    .colab-df-convert {\n",
              "      background-color: #E8F0FE;\n",
              "      border: none;\n",
              "      border-radius: 50%;\n",
              "      cursor: pointer;\n",
              "      display: none;\n",
              "      fill: #1967D2;\n",
              "      height: 32px;\n",
              "      padding: 0 0 0 0;\n",
              "      width: 32px;\n",
              "    }\n",
              "\n",
              "    .colab-df-convert:hover {\n",
              "      background-color: #E2EBFA;\n",
              "      box-shadow: 0px 1px 2px rgba(60, 64, 67, 0.3), 0px 1px 3px 1px rgba(60, 64, 67, 0.15);\n",
              "      fill: #174EA6;\n",
              "    }\n",
              "\n",
              "    [theme=dark] .colab-df-convert {\n",
              "      background-color: #3B4455;\n",
              "      fill: #D2E3FC;\n",
              "    }\n",
              "\n",
              "    [theme=dark] .colab-df-convert:hover {\n",
              "      background-color: #434B5C;\n",
              "      box-shadow: 0px 1px 3px 1px rgba(0, 0, 0, 0.15);\n",
              "      filter: drop-shadow(0px 1px 2px rgba(0, 0, 0, 0.3));\n",
              "      fill: #FFFFFF;\n",
              "    }\n",
              "  </style>\n",
              "\n",
              "      <script>\n",
              "        const buttonEl =\n",
              "          document.querySelector('#df-157e7da9-98a7-4dab-91c1-cb95d3df545a button.colab-df-convert');\n",
              "        buttonEl.style.display =\n",
              "          google.colab.kernel.accessAllowed ? 'block' : 'none';\n",
              "\n",
              "        async function convertToInteractive(key) {\n",
              "          const element = document.querySelector('#df-157e7da9-98a7-4dab-91c1-cb95d3df545a');\n",
              "          const dataTable =\n",
              "            await google.colab.kernel.invokeFunction('convertToInteractive',\n",
              "                                                     [key], {});\n",
              "          if (!dataTable) return;\n",
              "\n",
              "          const docLinkHtml = 'Like what you see? Visit the ' +\n",
              "            '<a target=\"_blank\" href=https://colab.research.google.com/notebooks/data_table.ipynb>data table notebook</a>'\n",
              "            + ' to learn more about interactive tables.';\n",
              "          element.innerHTML = '';\n",
              "          dataTable['output_type'] = 'display_data';\n",
              "          await google.colab.output.renderOutput(dataTable, element);\n",
              "          const docLink = document.createElement('div');\n",
              "          docLink.innerHTML = docLinkHtml;\n",
              "          element.appendChild(docLink);\n",
              "        }\n",
              "      </script>\n",
              "    </div>\n",
              "  </div>\n",
              "  "
            ]
          },
          "metadata": {}
        }
      ]
    },
    {
      "cell_type": "markdown",
      "source": [
        "# Catatan Kesimpulan Sederhana"
      ],
      "metadata": {
        "id": "GUXzGiSv7zPs"
      }
    },
    {
      "cell_type": "markdown",
      "source": [
        "Data yang diberikan menunjukkan kinerja model pembelajaran mesin selama empat kali latihan (epoch). Setiap epoch melibatkan seluruh data latih, dan akurasi serta kerugian model diukur pada akhir setiap epoch.\n",
        "\n",
        "Tabel menunjukkan bahwa jumlah data latih meningkat sebanyak 150 pada setiap epoch. Selain itu, metrik akurasi juga menunjukkan peningkatan dari 0,797386 pada epoch pertama menjadi 0,856209 pada epoch ketiga dan keempat, menunjukkan bahwa model belajar dan membuat prediksi yang lebih baik dari waktu ke waktu.\n",
        "\n",
        "Metrik kerugian juga menurun dari waktu ke waktu, dari 0,777608 pada epoch pertama menjadi 0,411216 pada epoch keempat. Hal ini konsisten dengan peningkatan akurasi model, karena kerugian yang lebih rendah umumnya mengindikasikan kinerja yang lebih baik.\n",
        "\n",
        "Secara keseluruhan, data tersebut menunjukkan bahwa model meningkatkan kinerjanya dari waktu ke waktu dan membuat prediksi yang lebih baik ketika dilatih dengan lebih banyak data"
      ],
      "metadata": {
        "id": "qgq0Gmnh8dMn"
      }
    },
    {
      "cell_type": "code",
      "source": [],
      "metadata": {
        "id": "mX0Srhbdyq6K"
      },
      "execution_count": null,
      "outputs": []
    }
  ],
  "metadata": {
    "colab": {
      "provenance": [],
      "mount_file_id": "194KdQOmrBtd19BZL8GzB18F5-ps-gm6L",
      "authorship_tag": "ABX9TyOzqVHmiouQhy0zxiNU9Bp0",
      "include_colab_link": true
    },
    "kernelspec": {
      "display_name": "Python 3",
      "name": "python3"
    },
    "language_info": {
      "name": "python"
    }
  },
  "nbformat": 4,
  "nbformat_minor": 0
}
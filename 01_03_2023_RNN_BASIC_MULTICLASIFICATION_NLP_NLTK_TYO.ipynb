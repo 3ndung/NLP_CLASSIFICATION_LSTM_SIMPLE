{
  "cells": [
    {
      "cell_type": "markdown",
      "metadata": {
        "id": "view-in-github",
        "colab_type": "text"
      },
      "source": [
        "<a href=\"https://colab.research.google.com/github/3ndung/NLP_CLASSIFICATION_LSTM_SIMPLE/blob/main/01_03_2023_RNN_BASIC_MULTICLASIFICATION_NLP_NLTK_TYO.ipynb\" target=\"_parent\"><img src=\"https://colab.research.google.com/assets/colab-badge.svg\" alt=\"Open In Colab\"/></a>"
      ]
    },
    {
      "cell_type": "markdown",
      "metadata": {
        "id": "wulUbvrtHF-w"
      },
      "source": [
        "Import library "
      ]
    },
    {
      "cell_type": "code",
      "execution_count": 1,
      "metadata": {
        "colab": {
          "base_uri": "https://localhost:8080/"
        },
        "id": "s_b478-RVma4",
        "outputId": "0572854b-a061-462c-857b-727252618f61"
      },
      "outputs": [
        {
          "output_type": "stream",
          "name": "stdout",
          "text": [
            "Mounted at /content/drive\n"
          ]
        }
      ],
      "source": [
        "from google.colab import drive\n",
        "drive.mount('/content/drive')"
      ]
    },
    {
      "cell_type": "code",
      "execution_count": 2,
      "metadata": {
        "id": "nD7PJZ1KG5DW"
      },
      "outputs": [],
      "source": [
        "import matplotlib.pyplot as plt\n",
        "import os\n",
        "import re\n",
        "import shutil\n",
        "import string\n",
        "import tensorflow as tf\n",
        "import matplotlib.pyplot as plt\n",
        "import pandas as pd\n",
        "import seaborn as sns\n",
        "\n",
        "from tensorflow.keras import layers\n",
        "from tensorflow.keras import losses"
      ]
    },
    {
      "cell_type": "markdown",
      "metadata": {
        "id": "uIjLHbiPHTR2"
      },
      "source": [
        "Cek TF Version"
      ]
    },
    {
      "cell_type": "code",
      "execution_count": 3,
      "metadata": {
        "colab": {
          "base_uri": "https://localhost:8080/"
        },
        "id": "sOzzke_vHRW9",
        "outputId": "fc762ada-6f8a-4c7d-886c-db18838af6f8"
      },
      "outputs": [
        {
          "output_type": "stream",
          "name": "stdout",
          "text": [
            "2.11.0\n"
          ]
        }
      ],
      "source": [
        "print(tf.__version__)"
      ]
    },
    {
      "cell_type": "markdown",
      "metadata": {
        "id": "dkth6QYlH4A-"
      },
      "source": [
        "Download dataset "
      ]
    },
    {
      "cell_type": "code",
      "execution_count": 4,
      "metadata": {
        "id": "Jkcr4YjLMSJk"
      },
      "outputs": [],
      "source": [
        "dataset_dir = os.path.join(os.path.dirname('dataset'), '/content/drive/MyDrive/TYO_NLTK/DTS3/')"
      ]
    },
    {
      "cell_type": "code",
      "execution_count": 5,
      "metadata": {
        "colab": {
          "base_uri": "https://localhost:8080/"
        },
        "id": "8X3-kfvvMr8R",
        "outputId": "a6432ad5-7da7-4b5a-b51e-16968185788e"
      },
      "outputs": [
        {
          "output_type": "execute_result",
          "data": {
            "text/plain": [
              "['TRAIN', 'TEST']"
            ]
          },
          "metadata": {},
          "execution_count": 5
        }
      ],
      "source": [
        "os.listdir(dataset_dir)"
      ]
    },
    {
      "cell_type": "markdown",
      "metadata": {
        "id": "4_e8nUJqM8lj"
      },
      "source": [
        "SET DATA UNTUK DI TRAIN "
      ]
    },
    {
      "cell_type": "code",
      "execution_count": 6,
      "metadata": {
        "colab": {
          "base_uri": "https://localhost:8080/"
        },
        "id": "FtYcHT3WMs79",
        "outputId": "b926a501-4a40-4085-bc94-f0b8d569947d"
      },
      "outputs": [
        {
          "output_type": "execute_result",
          "data": {
            "text/plain": [
              "['EKO', 'HEL', 'OLA']"
            ]
          },
          "metadata": {},
          "execution_count": 6
        }
      ],
      "source": [
        "train_dir = os.path.join(dataset_dir, 'TRAIN')\n",
        "os.listdir(train_dir)"
      ]
    },
    {
      "cell_type": "markdown",
      "metadata": {
        "id": "cIwhO064M_10"
      },
      "source": [
        "SET DATA UNTUK DI TEST"
      ]
    },
    {
      "cell_type": "code",
      "execution_count": 7,
      "metadata": {
        "colab": {
          "base_uri": "https://localhost:8080/"
        },
        "id": "76h1OCWVNC7l",
        "outputId": "6e6a4b71-23be-48d9-c21a-945a5922fe9a"
      },
      "outputs": [
        {
          "output_type": "execute_result",
          "data": {
            "text/plain": [
              "['EKO', 'HEL', 'OLA']"
            ]
          },
          "metadata": {},
          "execution_count": 7
        }
      ],
      "source": [
        "test_dir = os.path.join(dataset_dir, 'TEST')\n",
        "os.listdir(train_dir)"
      ]
    },
    {
      "cell_type": "code",
      "execution_count": 8,
      "metadata": {
        "colab": {
          "base_uri": "https://localhost:8080/"
        },
        "id": "y4X4padANHTW",
        "outputId": "f08ba11a-5c4d-4421-d548-daddedd4bf63"
      },
      "outputs": [
        {
          "output_type": "stream",
          "name": "stdout",
          "text": [
            "lps bisa simpan dana di bank sakit di ruu ppsk\n"
          ]
        }
      ],
      "source": [
        "sample_file = os.path.join(train_dir, 'EKO/103.txt')\n",
        "\n",
        "with open(sample_file) as f:\n",
        "  print(f.read())"
      ]
    },
    {
      "cell_type": "code",
      "execution_count": 9,
      "metadata": {
        "colab": {
          "base_uri": "https://localhost:8080/"
        },
        "id": "MEEvC45_N7RZ",
        "outputId": "dfa61d89-02aa-4a88-c0bf-c02104f96f4e"
      },
      "outputs": [
        {
          "output_type": "stream",
          "name": "stdout",
          "text": [
            "Found 1248 files belonging to 3 classes.\n",
            "Using 999 files for training.\n"
          ]
        }
      ],
      "source": [
        "batch_size = 32\n",
        "seed = 42\n",
        "\n",
        "raw_train_ds = tf.keras.utils.text_dataset_from_directory(\n",
        "    '/content/drive/MyDrive/TYO_NLTK/DTS3/TRAIN', \n",
        "    batch_size=batch_size, \n",
        "    validation_split=0.2, \n",
        "    subset='training', \n",
        "    seed=seed)"
      ]
    },
    {
      "cell_type": "code",
      "execution_count": 10,
      "metadata": {
        "colab": {
          "base_uri": "https://localhost:8080/"
        },
        "id": "JTUNrQEQOIPt",
        "outputId": "80cee87b-0129-4a28-ff86-0d51d0c61e54"
      },
      "outputs": [
        {
          "output_type": "stream",
          "name": "stdout",
          "text": [
            "Review b'pelatih liverpool pujikan performa kiper baruny'\n",
            "Label 2\n",
            "Review b'7 penyebab sakit pinggang usia hingga faktor keturunan'\n",
            "Label 1\n",
            "Review b'indonesia dorong pemanfaatan energi terbarukan untuk mengurangi ketergantungan pada bahan bakar fosil'\n",
            "Label 0\n"
          ]
        }
      ],
      "source": [
        "for text_batch, label_batch in raw_train_ds.take(1):\n",
        "  for i in range(3):\n",
        "    print(\"Review\", text_batch.numpy()[i])\n",
        "    print(\"Label\", label_batch.numpy()[i])"
      ]
    },
    {
      "cell_type": "code",
      "execution_count": 11,
      "metadata": {
        "colab": {
          "base_uri": "https://localhost:8080/"
        },
        "id": "3ouP_BxwOe7a",
        "outputId": "a5f9979d-8be0-414b-b26d-4c0ab50dd45d"
      },
      "outputs": [
        {
          "output_type": "stream",
          "name": "stdout",
          "text": [
            "Label 0 corresponds to EKO\n",
            "Label 1 corresponds to HEL\n",
            "Label 2 corresponds to OLA\n"
          ]
        }
      ],
      "source": [
        "print(\"Label 0 corresponds to\", raw_train_ds.class_names[0])\n",
        "print(\"Label 1 corresponds to\", raw_train_ds.class_names[1])\n",
        "print(\"Label 2 corresponds to\", raw_train_ds.class_names[2])"
      ]
    },
    {
      "cell_type": "code",
      "execution_count": 12,
      "metadata": {
        "colab": {
          "base_uri": "https://localhost:8080/"
        },
        "id": "z426gnYnOlOa",
        "outputId": "9312971d-50c3-4f78-9f06-4f4e15abbf45"
      },
      "outputs": [
        {
          "output_type": "stream",
          "name": "stdout",
          "text": [
            "Found 1248 files belonging to 3 classes.\n",
            "Using 249 files for validation.\n"
          ]
        }
      ],
      "source": [
        "raw_val_ds = tf.keras.utils.text_dataset_from_directory(\n",
        "    '/content/drive/MyDrive/TYO_NLTK/DTS3/TRAIN', \n",
        "    batch_size=batch_size, \n",
        "    validation_split=0.2, \n",
        "    subset='validation', \n",
        "    seed=seed)"
      ]
    },
    {
      "cell_type": "code",
      "execution_count": 13,
      "metadata": {
        "colab": {
          "base_uri": "https://localhost:8080/"
        },
        "id": "HrSDscr2O2pU",
        "outputId": "bea380da-509a-4080-82a4-123e6b53c429"
      },
      "outputs": [
        {
          "output_type": "stream",
          "name": "stdout",
          "text": [
            "Found 315 files belonging to 3 classes.\n"
          ]
        }
      ],
      "source": [
        "raw_test_ds = tf.keras.utils.text_dataset_from_directory(\n",
        "    '/content/drive/MyDrive/TYO_NLTK/DTS3/TEST', \n",
        "    batch_size=batch_size)"
      ]
    },
    {
      "cell_type": "markdown",
      "source": [
        "## Membuat function untuk menstandarkan/ menseragamkan string input"
      ],
      "metadata": {
        "id": "PYITtbK8LWwj"
      }
    },
    {
      "cell_type": "code",
      "execution_count": 14,
      "metadata": {
        "id": "AugpXoBfPBeY"
      },
      "outputs": [],
      "source": [
        "def custom_standardization(input_data):\n",
        "  # Membuat Semua String menjadi Lower String/ huruf kecil Semua\n",
        "  lowercase = tf.strings.lower(input_data)\n",
        "  # Menghapus apabila ada html tag\n",
        "  stripped_html = tf.strings.regex_replace(lowercase, '<br />', ' ')\n",
        "  return tf.strings.regex_replace(stripped_html,\n",
        "                                  '[%s]' % re.escape(string.punctuation),\n",
        "                                  '')"
      ]
    },
    {
      "cell_type": "markdown",
      "metadata": {
        "id": "SmDjxk7fkuMU"
      },
      "source": [
        "## TEXTVECTORIZATION\n",
        "\n",
        "Adalah pre-processing sebelum proses pembelajaran yang mengubah string mentah kedalam bentuk intger yang dapat dibaca oleh lapisan berikutnya dalam Synapsis/ Layer berikutnya contoh embeding dan denses\n"
      ]
    },
    {
      "cell_type": "code",
      "execution_count": 15,
      "metadata": {
        "id": "5y2kL-Q-lSkA"
      },
      "outputs": [],
      "source": [
        "max_features = 10000\n",
        "sequence_length = 250\n",
        "\n",
        "vectorize_layer = layers.TextVectorization(\n",
        "    # Memanggil fungsi sebelumnya yang mestandarkan semua string input menjadi lower case dan menghilangkan tag html bila ada\n",
        "    standardize=custom_standardization,\n",
        "    # Memberikan batasan padding agar panjang matrix sama pada setiap masukan.\n",
        "    max_tokens=max_features,\n",
        "    # Output String akan diubah menjadi bentuk integer\n",
        "    output_mode='int',\n",
        "    output_sequence_length=sequence_length)"
      ]
    },
    {
      "cell_type": "markdown",
      "metadata": {
        "id": "EqijZrfWl449"
      },
      "source": [
        "'''\n",
        "Next, you will call adapt to fit the state of the preprocessing layer to the dataset. This will cause the model to build an index of strings to integers.\n",
        "'''"
      ]
    },
    {
      "cell_type": "code",
      "execution_count": 16,
      "metadata": {
        "id": "ulGHvGJWlgI3",
        "colab": {
          "base_uri": "https://localhost:8080/"
        },
        "outputId": "89189301-ba07-4573-feea-5772683c3cea"
      },
      "outputs": [
        {
          "output_type": "stream",
          "name": "stderr",
          "text": [
            "WARNING:tensorflow:From /usr/local/lib/python3.8/dist-packages/tensorflow/python/autograph/pyct/static_analysis/liveness.py:83: Analyzer.lamba_check (from tensorflow.python.autograph.pyct.static_analysis.liveness) is deprecated and will be removed after 2023-09-23.\n",
            "Instructions for updating:\n",
            "Lambda fuctions will be no more assumed to be used in the statement where they are used, or at least in the same block. https://github.com/tensorflow/tensorflow/issues/56089\n"
          ]
        }
      ],
      "source": [
        "# Make a text-only dataset (without labels), then call adapt\n",
        "train_text = raw_train_ds.map(lambda x, y: x)\n",
        "vectorize_layer.adapt(train_text)\n",
        "\n",
        "\n"
      ]
    },
    {
      "cell_type": "markdown",
      "source": [
        "# Fungsi yang mengubah setiap string text input ke dalam bentuk intger dan menyimpan dalam array, dengan menggunakan vectorize_layer yang telah diset diatas."
      ],
      "metadata": {
        "id": "baE3pm5-T-rZ"
      }
    },
    {
      "cell_type": "code",
      "execution_count": 17,
      "metadata": {
        "id": "NcySBx7rl8zj"
      },
      "outputs": [],
      "source": [
        "def vectorize_text(text, label):\n",
        "  text = tf.expand_dims(text, -1)\n",
        "  return vectorize_layer(text), label"
      ]
    },
    {
      "cell_type": "code",
      "execution_count": 18,
      "metadata": {
        "colab": {
          "base_uri": "https://localhost:8080/"
        },
        "id": "KY26gx46mFXz",
        "outputId": "2b92b092-81b8-4716-98de-2488450aed6f"
      },
      "outputs": [
        {
          "output_type": "stream",
          "name": "stdout",
          "text": [
            "\n",
            "Review -> text_batch[13] tf.Tensor(b'atletico madrid buka peluang rekrut megabintang paris saintgermain', shape=(), dtype=string)\n",
            "Label -> Label_batch[13] OLA\n",
            "\n",
            "Vectorized review nya seperti ini \n",
            "\n",
            " (<tf.Tensor: shape=(1, 250), dtype=int64, numpy=\n",
            "array([[ 795,  388, 1235,  254, 1729, 2109,  994,  920,    0,    0,    0,\n",
            "           0,    0,    0,    0,    0,    0,    0,    0,    0,    0,    0,\n",
            "           0,    0,    0,    0,    0,    0,    0,    0,    0,    0,    0,\n",
            "           0,    0,    0,    0,    0,    0,    0,    0,    0,    0,    0,\n",
            "           0,    0,    0,    0,    0,    0,    0,    0,    0,    0,    0,\n",
            "           0,    0,    0,    0,    0,    0,    0,    0,    0,    0,    0,\n",
            "           0,    0,    0,    0,    0,    0,    0,    0,    0,    0,    0,\n",
            "           0,    0,    0,    0,    0,    0,    0,    0,    0,    0,    0,\n",
            "           0,    0,    0,    0,    0,    0,    0,    0,    0,    0,    0,\n",
            "           0,    0,    0,    0,    0,    0,    0,    0,    0,    0,    0,\n",
            "           0,    0,    0,    0,    0,    0,    0,    0,    0,    0,    0,\n",
            "           0,    0,    0,    0,    0,    0,    0,    0,    0,    0,    0,\n",
            "           0,    0,    0,    0,    0,    0,    0,    0,    0,    0,    0,\n",
            "           0,    0,    0,    0,    0,    0,    0,    0,    0,    0,    0,\n",
            "           0,    0,    0,    0,    0,    0,    0,    0,    0,    0,    0,\n",
            "           0,    0,    0,    0,    0,    0,    0,    0,    0,    0,    0,\n",
            "           0,    0,    0,    0,    0,    0,    0,    0,    0,    0,    0,\n",
            "           0,    0,    0,    0,    0,    0,    0,    0,    0,    0,    0,\n",
            "           0,    0,    0,    0,    0,    0,    0,    0,    0,    0,    0,\n",
            "           0,    0,    0,    0,    0,    0,    0,    0,    0,    0,    0,\n",
            "           0,    0,    0,    0,    0,    0,    0,    0,    0,    0,    0,\n",
            "           0,    0,    0,    0,    0,    0,    0,    0,    0,    0,    0,\n",
            "           0,    0,    0,    0,    0,    0,    0,    0]])>, <tf.Tensor: shape=(), dtype=int32, numpy=2>)\n"
          ]
        }
      ],
      "source": [
        "text_batch, label_batch = next(iter(raw_train_ds))\n",
        "first_review, first_label = text_batch[13], label_batch[13]\n",
        "print(\"\\nReview -> text_batch[13]\", first_review)\n",
        "print(\"Label -> Label_batch[13]\", raw_train_ds.class_names[first_label])\n",
        "print(\"\\nVectorized review nya seperti ini \\n\\n\", vectorize_text(first_review, first_label))"
      ]
    },
    {
      "cell_type": "code",
      "execution_count": 19,
      "metadata": {
        "colab": {
          "base_uri": "https://localhost:8080/"
        },
        "id": "g4mQQp4zmz0q",
        "outputId": "32a83508-cb88-4d95-95d5-5557dbc3a333"
      },
      "outputs": [
        {
          "output_type": "stream",
          "name": "stdout",
          "text": [
            "1693 --->  rp11\n",
            "395 --->  klasemen\n",
            "Vocabulary size: 3011\n"
          ]
        }
      ],
      "source": [
        "print(\"1693 ---> \",vectorize_layer.get_vocabulary()[1693])\n",
        "print(\"395 ---> \",vectorize_layer.get_vocabulary()[395])\n",
        "print('Vocabulary size: {}'.format(len(vectorize_layer.get_vocabulary())))"
      ]
    },
    {
      "cell_type": "markdown",
      "source": [
        "# Menggubah semua input train, validasi dan test kedalam bentuk integer"
      ],
      "metadata": {
        "id": "oAmWnF1MVWcg"
      }
    },
    {
      "cell_type": "code",
      "execution_count": 20,
      "metadata": {
        "id": "lEucwjQ-m_Vp"
      },
      "outputs": [],
      "source": [
        "train_ds = raw_train_ds.map(vectorize_text)\n",
        "val_ds = raw_val_ds.map(vectorize_text)\n",
        "test_ds = raw_test_ds.map(vectorize_text)"
      ]
    },
    {
      "cell_type": "code",
      "execution_count": 21,
      "metadata": {
        "id": "mIb-okwOqkk5"
      },
      "outputs": [],
      "source": [
        "# Tunning dataset train, validasi dan test dengan AUTOTUNE untuk optimisasi shape data\n",
        "AUTOTUNE = tf.data.AUTOTUNE\n",
        "\n",
        "train_ds = train_ds.cache().prefetch(buffer_size=AUTOTUNE)\n",
        "val_ds = val_ds.cache().prefetch(buffer_size=AUTOTUNE)\n",
        "test_ds = test_ds.cache().prefetch(buffer_size=AUTOTUNE)"
      ]
    },
    {
      "cell_type": "markdown",
      "source": [
        "# Layer embedding dimension kita set menjadi 16 , seperti yang sering digunakan dalam panduan, embedding ini hanya dapat digunakan pada integer positiv dan untuk memperbaiki matrix."
      ],
      "metadata": {
        "id": "I6QrFPXaWMnJ"
      }
    },
    {
      "cell_type": "code",
      "execution_count": 22,
      "metadata": {
        "id": "lG28akNvrENY"
      },
      "outputs": [],
      "source": [
        "embedding_dim = 16"
      ]
    },
    {
      "cell_type": "code",
      "execution_count": null,
      "metadata": {
        "id": "EO8LQT0jiq0I"
      },
      "outputs": [],
      "source": []
    },
    {
      "cell_type": "code",
      "execution_count": 23,
      "metadata": {
        "id": "X7rx6X_5rKo3",
        "colab": {
          "base_uri": "https://localhost:8080/",
          "height": 1000
        },
        "outputId": "53f2d117-730e-48e0-a20c-e566014ad010"
      },
      "outputs": [
        {
          "output_type": "stream",
          "name": "stdout",
          "text": [
            "Model: \"sequential\"\n",
            "_________________________________________________________________\n",
            " Layer (type)                Output Shape              Param #   \n",
            "=================================================================\n",
            " embedding (Embedding)       (None, None, 16)          160016    \n",
            "                                                                 \n",
            " dropout (Dropout)           (None, None, 16)          0         \n",
            "                                                                 \n",
            " global_average_pooling1d (G  (None, 16)               0         \n",
            " lobalAveragePooling1D)                                          \n",
            "                                                                 \n",
            " dropout_1 (Dropout)         (None, 16)                0         \n",
            "                                                                 \n",
            " dense (Dense)               (None, 3)                 51        \n",
            "                                                                 \n",
            "=================================================================\n",
            "Total params: 160,067\n",
            "Trainable params: 160,067\n",
            "Non-trainable params: 0\n",
            "_________________________________________________________________\n"
          ]
        },
        {
          "output_type": "execute_result",
          "data": {
            "image/png": "[encoded data removed]",
            "text/plain": [
              "<IPython.core.display.Image object>"
            ]
          },
          "metadata": {},
          "execution_count": 23
        }
      ],
      "source": [
        "model = tf.keras.Sequential([\n",
        "  layers.Embedding(max_features + 1, embedding_dim),\n",
        "  layers.Dropout(0.2),\n",
        "  layers.GlobalAveragePooling1D(),\n",
        "  layers.Dropout(0.2),\n",
        "  layers.Dense(3)])\n",
        "\n",
        "model.summary()\n",
        "\n",
        "\n",
        "\n",
        "img_file = 'model_arch.png'\n",
        "tf.keras.utils.plot_model(model, to_file=img_file, show_shapes=True, show_layer_names=True)"
      ]
    },
    {
      "cell_type": "code",
      "execution_count": null,
      "metadata": {
        "id": "59mEoZIlujif"
      },
      "outputs": [],
      "source": [
        "#model.compile(loss=losses.SparseCategoricalCrossentropy(from_logits=True),\n",
        "#              optimizer='adam',\n",
        "#              metrics=tf.metrics.Accuracy())\n",
        "\n",
        "\n"
      ]
    },
    {
      "cell_type": "code",
      "execution_count": 24,
      "metadata": {
        "id": "ZZ4gSBNyyBgl"
      },
      "outputs": [],
      "source": [
        "model.compile(loss = losses.SparseCategoricalCrossentropy(from_logits=True), optimizer = 'adam', metrics = ['accuracy'])"
      ]
    },
    {
      "cell_type": "code",
      "execution_count": 48,
      "metadata": {
        "colab": {
          "base_uri": "https://localhost:8080/"
        },
        "id": "S4gEVVopw1Di",
        "outputId": "41583299-5e5d-45b8-ce25-7510ddf1e4db"
      },
      "outputs": [
        {
          "output_type": "stream",
          "name": "stdout",
          "text": [
            "Epoch 1/150\n",
            "32/32 [==============================] - 0s 14ms/step - loss: 0.0024 - accuracy: 1.0000 - val_loss: 0.2034 - val_accuracy: 0.9518\n",
            "Epoch 2/150\n",
            "32/32 [==============================] - 1s 16ms/step - loss: 0.0031 - accuracy: 1.0000 - val_loss: 0.2045 - val_accuracy: 0.9478\n",
            "Epoch 3/150\n",
            "32/32 [==============================] - 0s 12ms/step - loss: 0.0029 - accuracy: 1.0000 - val_loss: 0.2044 - val_accuracy: 0.9478\n",
            "Epoch 4/150\n",
            "32/32 [==============================] - 0s 8ms/step - loss: 0.0031 - accuracy: 1.0000 - val_loss: 0.2044 - val_accuracy: 0.9478\n",
            "Epoch 5/150\n",
            "32/32 [==============================] - 0s 8ms/step - loss: 0.0030 - accuracy: 1.0000 - val_loss: 0.2024 - val_accuracy: 0.9518\n",
            "Epoch 6/150\n",
            "32/32 [==============================] - 0s 10ms/step - loss: 0.0026 - accuracy: 1.0000 - val_loss: 0.2025 - val_accuracy: 0.9518\n",
            "Epoch 7/150\n",
            "32/32 [==============================] - 0s 10ms/step - loss: 0.0031 - accuracy: 1.0000 - val_loss: 0.2048 - val_accuracy: 0.9478\n",
            "Epoch 8/150\n",
            "32/32 [==============================] - 0s 9ms/step - loss: 0.0025 - accuracy: 1.0000 - val_loss: 0.2039 - val_accuracy: 0.9518\n",
            "Epoch 9/150\n",
            "32/32 [==============================] - 0s 9ms/step - loss: 0.0028 - accuracy: 1.0000 - val_loss: 0.2047 - val_accuracy: 0.9558\n",
            "Epoch 10/150\n",
            "32/32 [==============================] - 0s 9ms/step - loss: 0.0031 - accuracy: 1.0000 - val_loss: 0.2048 - val_accuracy: 0.9518\n",
            "Epoch 11/150\n",
            "32/32 [==============================] - 0s 9ms/step - loss: 0.0029 - accuracy: 1.0000 - val_loss: 0.2045 - val_accuracy: 0.9518\n",
            "Epoch 12/150\n",
            "32/32 [==============================] - 0s 8ms/step - loss: 0.0027 - accuracy: 1.0000 - val_loss: 0.2057 - val_accuracy: 0.9478\n",
            "Epoch 13/150\n",
            "32/32 [==============================] - 0s 9ms/step - loss: 0.0028 - accuracy: 1.0000 - val_loss: 0.2055 - val_accuracy: 0.9518\n",
            "Epoch 14/150\n",
            "32/32 [==============================] - 0s 9ms/step - loss: 0.0024 - accuracy: 1.0000 - val_loss: 0.2079 - val_accuracy: 0.9478\n",
            "Epoch 15/150\n",
            "32/32 [==============================] - 0s 9ms/step - loss: 0.0024 - accuracy: 1.0000 - val_loss: 0.2064 - val_accuracy: 0.9478\n",
            "Epoch 16/150\n",
            "32/32 [==============================] - 0s 9ms/step - loss: 0.0022 - accuracy: 1.0000 - val_loss: 0.2062 - val_accuracy: 0.9518\n",
            "Epoch 17/150\n",
            "32/32 [==============================] - 0s 9ms/step - loss: 0.0025 - accuracy: 1.0000 - val_loss: 0.2061 - val_accuracy: 0.9518\n",
            "Epoch 18/150\n",
            "32/32 [==============================] - 0s 8ms/step - loss: 0.0024 - accuracy: 1.0000 - val_loss: 0.2063 - val_accuracy: 0.9518\n",
            "Epoch 19/150\n",
            "32/32 [==============================] - 0s 10ms/step - loss: 0.0024 - accuracy: 1.0000 - val_loss: 0.2049 - val_accuracy: 0.9518\n",
            "Epoch 20/150\n",
            "32/32 [==============================] - 0s 9ms/step - loss: 0.0021 - accuracy: 1.0000 - val_loss: 0.2068 - val_accuracy: 0.9518\n",
            "Epoch 21/150\n",
            "32/32 [==============================] - 0s 8ms/step - loss: 0.0022 - accuracy: 1.0000 - val_loss: 0.2098 - val_accuracy: 0.9478\n",
            "Epoch 22/150\n",
            "32/32 [==============================] - 0s 8ms/step - loss: 0.0024 - accuracy: 1.0000 - val_loss: 0.2054 - val_accuracy: 0.9558\n",
            "Epoch 23/150\n",
            "32/32 [==============================] - 0s 8ms/step - loss: 0.0028 - accuracy: 1.0000 - val_loss: 0.2077 - val_accuracy: 0.9518\n",
            "Epoch 24/150\n",
            "32/32 [==============================] - 0s 9ms/step - loss: 0.0022 - accuracy: 1.0000 - val_loss: 0.2081 - val_accuracy: 0.9478\n",
            "Epoch 25/150\n",
            "32/32 [==============================] - 0s 8ms/step - loss: 0.0023 - accuracy: 1.0000 - val_loss: 0.2062 - val_accuracy: 0.9558\n",
            "Epoch 26/150\n",
            "32/32 [==============================] - 0s 9ms/step - loss: 0.0024 - accuracy: 1.0000 - val_loss: 0.2061 - val_accuracy: 0.9558\n",
            "Epoch 27/150\n",
            "32/32 [==============================] - 0s 8ms/step - loss: 0.0025 - accuracy: 1.0000 - val_loss: 0.2074 - val_accuracy: 0.9518\n",
            "Epoch 28/150\n",
            "32/32 [==============================] - 0s 8ms/step - loss: 0.0025 - accuracy: 1.0000 - val_loss: 0.2089 - val_accuracy: 0.9478\n",
            "Epoch 29/150\n",
            "32/32 [==============================] - 0s 8ms/step - loss: 0.0020 - accuracy: 1.0000 - val_loss: 0.2096 - val_accuracy: 0.9478\n",
            "Epoch 30/150\n",
            "32/32 [==============================] - 0s 9ms/step - loss: 0.0020 - accuracy: 1.0000 - val_loss: 0.2065 - val_accuracy: 0.9518\n",
            "Epoch 31/150\n",
            "32/32 [==============================] - 0s 9ms/step - loss: 0.0021 - accuracy: 1.0000 - val_loss: 0.2102 - val_accuracy: 0.9478\n",
            "Epoch 32/150\n",
            "32/32 [==============================] - 0s 9ms/step - loss: 0.0021 - accuracy: 1.0000 - val_loss: 0.2103 - val_accuracy: 0.9478\n",
            "Epoch 33/150\n",
            "32/32 [==============================] - 0s 8ms/step - loss: 0.0023 - accuracy: 1.0000 - val_loss: 0.2099 - val_accuracy: 0.9478\n",
            "Epoch 34/150\n",
            "32/32 [==============================] - 0s 10ms/step - loss: 0.0022 - accuracy: 1.0000 - val_loss: 0.2095 - val_accuracy: 0.9518\n",
            "Epoch 35/150\n",
            "32/32 [==============================] - 0s 15ms/step - loss: 0.0024 - accuracy: 1.0000 - val_loss: 0.2107 - val_accuracy: 0.9518\n",
            "Epoch 36/150\n",
            "32/32 [==============================] - 0s 14ms/step - loss: 0.0021 - accuracy: 1.0000 - val_loss: 0.2094 - val_accuracy: 0.9518\n",
            "Epoch 37/150\n",
            "32/32 [==============================] - 0s 13ms/step - loss: 0.0020 - accuracy: 1.0000 - val_loss: 0.2074 - val_accuracy: 0.9558\n",
            "Epoch 38/150\n",
            "32/32 [==============================] - 0s 13ms/step - loss: 0.0022 - accuracy: 1.0000 - val_loss: 0.2107 - val_accuracy: 0.9518\n",
            "Epoch 39/150\n",
            "32/32 [==============================] - 0s 14ms/step - loss: 0.0020 - accuracy: 1.0000 - val_loss: 0.2116 - val_accuracy: 0.9478\n",
            "Epoch 40/150\n",
            "32/32 [==============================] - 0s 14ms/step - loss: 0.0019 - accuracy: 1.0000 - val_loss: 0.2113 - val_accuracy: 0.9478\n",
            "Epoch 41/150\n",
            "32/32 [==============================] - 0s 10ms/step - loss: 0.0019 - accuracy: 1.0000 - val_loss: 0.2094 - val_accuracy: 0.9518\n",
            "Epoch 42/150\n",
            "32/32 [==============================] - 0s 10ms/step - loss: 0.0021 - accuracy: 1.0000 - val_loss: 0.2101 - val_accuracy: 0.9518\n",
            "Epoch 43/150\n",
            "32/32 [==============================] - 0s 8ms/step - loss: 0.0018 - accuracy: 1.0000 - val_loss: 0.2136 - val_accuracy: 0.9478\n",
            "Epoch 44/150\n",
            "32/32 [==============================] - 0s 9ms/step - loss: 0.0020 - accuracy: 1.0000 - val_loss: 0.2142 - val_accuracy: 0.9478\n",
            "Epoch 45/150\n",
            "32/32 [==============================] - 0s 10ms/step - loss: 0.0019 - accuracy: 1.0000 - val_loss: 0.2179 - val_accuracy: 0.9478\n",
            "Epoch 46/150\n",
            "32/32 [==============================] - 0s 9ms/step - loss: 0.0021 - accuracy: 1.0000 - val_loss: 0.2118 - val_accuracy: 0.9518\n",
            "Epoch 47/150\n",
            "32/32 [==============================] - 0s 9ms/step - loss: 0.0021 - accuracy: 1.0000 - val_loss: 0.2154 - val_accuracy: 0.9478\n",
            "Epoch 48/150\n",
            "32/32 [==============================] - 0s 8ms/step - loss: 0.0015 - accuracy: 1.0000 - val_loss: 0.2130 - val_accuracy: 0.9518\n",
            "Epoch 49/150\n",
            "32/32 [==============================] - 0s 8ms/step - loss: 0.0019 - accuracy: 1.0000 - val_loss: 0.2110 - val_accuracy: 0.9518\n",
            "Epoch 50/150\n",
            "32/32 [==============================] - 0s 10ms/step - loss: 0.0017 - accuracy: 1.0000 - val_loss: 0.2129 - val_accuracy: 0.9518\n",
            "Epoch 51/150\n",
            "32/32 [==============================] - 0s 9ms/step - loss: 0.0019 - accuracy: 1.0000 - val_loss: 0.2158 - val_accuracy: 0.9478\n",
            "Epoch 52/150\n",
            "32/32 [==============================] - 0s 9ms/step - loss: 0.0017 - accuracy: 1.0000 - val_loss: 0.2149 - val_accuracy: 0.9478\n",
            "Epoch 53/150\n",
            "32/32 [==============================] - 0s 8ms/step - loss: 0.0018 - accuracy: 1.0000 - val_loss: 0.2126 - val_accuracy: 0.9518\n",
            "Epoch 54/150\n",
            "32/32 [==============================] - 0s 8ms/step - loss: 0.0017 - accuracy: 1.0000 - val_loss: 0.2137 - val_accuracy: 0.9518\n",
            "Epoch 55/150\n",
            "32/32 [==============================] - 0s 8ms/step - loss: 0.0015 - accuracy: 1.0000 - val_loss: 0.2180 - val_accuracy: 0.9478\n",
            "Epoch 56/150\n",
            "32/32 [==============================] - 0s 9ms/step - loss: 0.0016 - accuracy: 1.0000 - val_loss: 0.2153 - val_accuracy: 0.9478\n",
            "Epoch 57/150\n",
            "32/32 [==============================] - 0s 8ms/step - loss: 0.0015 - accuracy: 1.0000 - val_loss: 0.2155 - val_accuracy: 0.9478\n",
            "Epoch 58/150\n",
            "32/32 [==============================] - 0s 9ms/step - loss: 0.0016 - accuracy: 1.0000 - val_loss: 0.2143 - val_accuracy: 0.9518\n",
            "Epoch 59/150\n",
            "32/32 [==============================] - 0s 9ms/step - loss: 0.0017 - accuracy: 1.0000 - val_loss: 0.2150 - val_accuracy: 0.9518\n",
            "Epoch 60/150\n",
            "32/32 [==============================] - 0s 9ms/step - loss: 0.0017 - accuracy: 1.0000 - val_loss: 0.2156 - val_accuracy: 0.9518\n",
            "Epoch 61/150\n",
            "32/32 [==============================] - 0s 9ms/step - loss: 0.0017 - accuracy: 1.0000 - val_loss: 0.2154 - val_accuracy: 0.9558\n",
            "Epoch 62/150\n",
            "32/32 [==============================] - 0s 8ms/step - loss: 0.0018 - accuracy: 1.0000 - val_loss: 0.2169 - val_accuracy: 0.9478\n",
            "Epoch 63/150\n",
            "32/32 [==============================] - 0s 9ms/step - loss: 0.0016 - accuracy: 1.0000 - val_loss: 0.2164 - val_accuracy: 0.9518\n",
            "Epoch 64/150\n",
            "32/32 [==============================] - 0s 9ms/step - loss: 0.0015 - accuracy: 1.0000 - val_loss: 0.2170 - val_accuracy: 0.9518\n",
            "Epoch 65/150\n",
            "32/32 [==============================] - 0s 8ms/step - loss: 0.0015 - accuracy: 1.0000 - val_loss: 0.2162 - val_accuracy: 0.9518\n",
            "Epoch 66/150\n",
            "32/32 [==============================] - 0s 9ms/step - loss: 0.0013 - accuracy: 1.0000 - val_loss: 0.2152 - val_accuracy: 0.9518\n",
            "Epoch 67/150\n",
            "32/32 [==============================] - 0s 9ms/step - loss: 0.0016 - accuracy: 1.0000 - val_loss: 0.2183 - val_accuracy: 0.9478\n",
            "Epoch 68/150\n",
            "32/32 [==============================] - 0s 10ms/step - loss: 0.0015 - accuracy: 1.0000 - val_loss: 0.2201 - val_accuracy: 0.9478\n",
            "Epoch 69/150\n",
            "32/32 [==============================] - 0s 16ms/step - loss: 0.0014 - accuracy: 1.0000 - val_loss: 0.2173 - val_accuracy: 0.9518\n",
            "Epoch 70/150\n",
            "32/32 [==============================] - 0s 15ms/step - loss: 0.0018 - accuracy: 1.0000 - val_loss: 0.2176 - val_accuracy: 0.9518\n",
            "Epoch 71/150\n",
            "32/32 [==============================] - 0s 13ms/step - loss: 0.0011 - accuracy: 1.0000 - val_loss: 0.2206 - val_accuracy: 0.9478\n",
            "Epoch 72/150\n",
            "32/32 [==============================] - 0s 14ms/step - loss: 0.0012 - accuracy: 1.0000 - val_loss: 0.2191 - val_accuracy: 0.9478\n",
            "Epoch 73/150\n",
            "32/32 [==============================] - 0s 13ms/step - loss: 0.0012 - accuracy: 1.0000 - val_loss: 0.2185 - val_accuracy: 0.9518\n",
            "Epoch 74/150\n",
            "32/32 [==============================] - 0s 13ms/step - loss: 0.0012 - accuracy: 1.0000 - val_loss: 0.2203 - val_accuracy: 0.9478\n",
            "Epoch 75/150\n",
            "32/32 [==============================] - 0s 12ms/step - loss: 0.0015 - accuracy: 1.0000 - val_loss: 0.2206 - val_accuracy: 0.9478\n",
            "Epoch 76/150\n",
            "32/32 [==============================] - 0s 13ms/step - loss: 0.0013 - accuracy: 1.0000 - val_loss: 0.2204 - val_accuracy: 0.9478\n",
            "Epoch 77/150\n",
            "32/32 [==============================] - 0s 8ms/step - loss: 0.0013 - accuracy: 1.0000 - val_loss: 0.2169 - val_accuracy: 0.9558\n",
            "Epoch 78/150\n",
            "32/32 [==============================] - 0s 10ms/step - loss: 0.0013 - accuracy: 1.0000 - val_loss: 0.2193 - val_accuracy: 0.9518\n",
            "Epoch 79/150\n",
            "32/32 [==============================] - 0s 9ms/step - loss: 0.0013 - accuracy: 1.0000 - val_loss: 0.2209 - val_accuracy: 0.9478\n",
            "Epoch 80/150\n",
            "32/32 [==============================] - 0s 9ms/step - loss: 0.0013 - accuracy: 1.0000 - val_loss: 0.2197 - val_accuracy: 0.9518\n",
            "Epoch 81/150\n",
            "32/32 [==============================] - 0s 9ms/step - loss: 0.0015 - accuracy: 1.0000 - val_loss: 0.2196 - val_accuracy: 0.9518\n",
            "Epoch 82/150\n",
            "32/32 [==============================] - 0s 8ms/step - loss: 0.0013 - accuracy: 1.0000 - val_loss: 0.2190 - val_accuracy: 0.9518\n",
            "Epoch 83/150\n",
            "32/32 [==============================] - 0s 9ms/step - loss: 0.0015 - accuracy: 1.0000 - val_loss: 0.2244 - val_accuracy: 0.9478\n",
            "Epoch 84/150\n",
            "32/32 [==============================] - 0s 9ms/step - loss: 0.0014 - accuracy: 1.0000 - val_loss: 0.2233 - val_accuracy: 0.9478\n",
            "Epoch 85/150\n",
            "32/32 [==============================] - 0s 8ms/step - loss: 0.0015 - accuracy: 1.0000 - val_loss: 0.2200 - val_accuracy: 0.9518\n",
            "Epoch 86/150\n",
            "32/32 [==============================] - 0s 9ms/step - loss: 0.0013 - accuracy: 1.0000 - val_loss: 0.2251 - val_accuracy: 0.9478\n",
            "Epoch 87/150\n",
            "32/32 [==============================] - 0s 8ms/step - loss: 0.0013 - accuracy: 1.0000 - val_loss: 0.2225 - val_accuracy: 0.9478\n",
            "Epoch 88/150\n",
            "32/32 [==============================] - 0s 8ms/step - loss: 0.0013 - accuracy: 1.0000 - val_loss: 0.2236 - val_accuracy: 0.9478\n",
            "Epoch 89/150\n",
            "32/32 [==============================] - 0s 8ms/step - loss: 0.0012 - accuracy: 1.0000 - val_loss: 0.2263 - val_accuracy: 0.9478\n",
            "Epoch 90/150\n",
            "32/32 [==============================] - 0s 9ms/step - loss: 0.0014 - accuracy: 1.0000 - val_loss: 0.2261 - val_accuracy: 0.9478\n",
            "Epoch 91/150\n",
            "32/32 [==============================] - 0s 8ms/step - loss: 0.0011 - accuracy: 1.0000 - val_loss: 0.2226 - val_accuracy: 0.9478\n",
            "Epoch 92/150\n",
            "32/32 [==============================] - 0s 8ms/step - loss: 9.7631e-04 - accuracy: 1.0000 - val_loss: 0.2232 - val_accuracy: 0.9478\n",
            "Epoch 93/150\n",
            "32/32 [==============================] - 0s 8ms/step - loss: 0.0015 - accuracy: 1.0000 - val_loss: 0.2243 - val_accuracy: 0.9478\n",
            "Epoch 94/150\n",
            "32/32 [==============================] - 0s 10ms/step - loss: 0.0011 - accuracy: 1.0000 - val_loss: 0.2230 - val_accuracy: 0.9478\n",
            "Epoch 95/150\n",
            "32/32 [==============================] - 0s 8ms/step - loss: 0.0011 - accuracy: 1.0000 - val_loss: 0.2232 - val_accuracy: 0.9518\n",
            "Epoch 96/150\n",
            "32/32 [==============================] - 0s 8ms/step - loss: 0.0011 - accuracy: 1.0000 - val_loss: 0.2239 - val_accuracy: 0.9478\n",
            "Epoch 97/150\n",
            "32/32 [==============================] - 0s 8ms/step - loss: 0.0012 - accuracy: 1.0000 - val_loss: 0.2272 - val_accuracy: 0.9478\n",
            "Epoch 98/150\n",
            "32/32 [==============================] - 0s 9ms/step - loss: 0.0012 - accuracy: 1.0000 - val_loss: 0.2253 - val_accuracy: 0.9478\n",
            "Epoch 99/150\n",
            "32/32 [==============================] - 0s 9ms/step - loss: 0.0017 - accuracy: 1.0000 - val_loss: 0.2287 - val_accuracy: 0.9478\n",
            "Epoch 100/150\n",
            "32/32 [==============================] - 0s 8ms/step - loss: 0.0011 - accuracy: 1.0000 - val_loss: 0.2256 - val_accuracy: 0.9478\n",
            "Epoch 101/150\n",
            "32/32 [==============================] - 0s 9ms/step - loss: 0.0010 - accuracy: 1.0000 - val_loss: 0.2231 - val_accuracy: 0.9518\n",
            "Epoch 102/150\n",
            "32/32 [==============================] - 0s 9ms/step - loss: 0.0015 - accuracy: 1.0000 - val_loss: 0.2287 - val_accuracy: 0.9478\n",
            "Epoch 103/150\n",
            "32/32 [==============================] - 0s 8ms/step - loss: 9.4138e-04 - accuracy: 1.0000 - val_loss: 0.2245 - val_accuracy: 0.9518\n",
            "Epoch 104/150\n",
            "32/32 [==============================] - 0s 11ms/step - loss: 0.0013 - accuracy: 1.0000 - val_loss: 0.2251 - val_accuracy: 0.9558\n",
            "Epoch 105/150\n",
            "32/32 [==============================] - 0s 11ms/step - loss: 0.0011 - accuracy: 1.0000 - val_loss: 0.2269 - val_accuracy: 0.9478\n",
            "Epoch 106/150\n",
            "32/32 [==============================] - 0s 9ms/step - loss: 9.8578e-04 - accuracy: 1.0000 - val_loss: 0.2278 - val_accuracy: 0.9478\n",
            "Epoch 107/150\n",
            "32/32 [==============================] - 0s 13ms/step - loss: 0.0010 - accuracy: 1.0000 - val_loss: 0.2260 - val_accuracy: 0.9518\n",
            "Epoch 108/150\n",
            "32/32 [==============================] - 0s 14ms/step - loss: 0.0011 - accuracy: 1.0000 - val_loss: 0.2275 - val_accuracy: 0.9478\n",
            "Epoch 109/150\n",
            "32/32 [==============================] - 0s 15ms/step - loss: 0.0012 - accuracy: 1.0000 - val_loss: 0.2274 - val_accuracy: 0.9478\n",
            "Epoch 110/150\n",
            "32/32 [==============================] - 0s 14ms/step - loss: 8.4887e-04 - accuracy: 1.0000 - val_loss: 0.2252 - val_accuracy: 0.9518\n",
            "Epoch 111/150\n",
            "32/32 [==============================] - 0s 14ms/step - loss: 9.1391e-04 - accuracy: 1.0000 - val_loss: 0.2297 - val_accuracy: 0.9478\n",
            "Epoch 112/150\n",
            "32/32 [==============================] - 0s 15ms/step - loss: 0.0011 - accuracy: 1.0000 - val_loss: 0.2298 - val_accuracy: 0.9478\n",
            "Epoch 113/150\n",
            "32/32 [==============================] - 0s 15ms/step - loss: 7.7160e-04 - accuracy: 1.0000 - val_loss: 0.2299 - val_accuracy: 0.9478\n",
            "Epoch 114/150\n",
            "32/32 [==============================] - 0s 10ms/step - loss: 0.0011 - accuracy: 1.0000 - val_loss: 0.2310 - val_accuracy: 0.9478\n",
            "Epoch 115/150\n",
            "32/32 [==============================] - 0s 8ms/step - loss: 9.7370e-04 - accuracy: 1.0000 - val_loss: 0.2285 - val_accuracy: 0.9518\n",
            "Epoch 116/150\n",
            "32/32 [==============================] - 0s 8ms/step - loss: 8.0114e-04 - accuracy: 1.0000 - val_loss: 0.2270 - val_accuracy: 0.9518\n",
            "Epoch 117/150\n",
            "32/32 [==============================] - 0s 10ms/step - loss: 0.0011 - accuracy: 1.0000 - val_loss: 0.2285 - val_accuracy: 0.9478\n",
            "Epoch 118/150\n",
            "32/32 [==============================] - 0s 9ms/step - loss: 9.4795e-04 - accuracy: 1.0000 - val_loss: 0.2277 - val_accuracy: 0.9518\n",
            "Epoch 119/150\n",
            "32/32 [==============================] - 0s 9ms/step - loss: 0.0010 - accuracy: 1.0000 - val_loss: 0.2308 - val_accuracy: 0.9478\n",
            "Epoch 120/150\n",
            "32/32 [==============================] - 0s 7ms/step - loss: 6.8123e-04 - accuracy: 1.0000 - val_loss: 0.2303 - val_accuracy: 0.9478\n",
            "Epoch 121/150\n",
            "32/32 [==============================] - 0s 8ms/step - loss: 9.0323e-04 - accuracy: 1.0000 - val_loss: 0.2335 - val_accuracy: 0.9478\n",
            "Epoch 122/150\n",
            "32/32 [==============================] - 0s 8ms/step - loss: 9.4841e-04 - accuracy: 1.0000 - val_loss: 0.2313 - val_accuracy: 0.9518\n",
            "Epoch 123/150\n",
            "32/32 [==============================] - 0s 8ms/step - loss: 0.0013 - accuracy: 1.0000 - val_loss: 0.2273 - val_accuracy: 0.9558\n",
            "Epoch 124/150\n",
            "32/32 [==============================] - 0s 9ms/step - loss: 9.3454e-04 - accuracy: 1.0000 - val_loss: 0.2295 - val_accuracy: 0.9518\n",
            "Epoch 125/150\n",
            "32/32 [==============================] - 0s 11ms/step - loss: 0.0011 - accuracy: 1.0000 - val_loss: 0.2360 - val_accuracy: 0.9478\n",
            "Epoch 126/150\n",
            "32/32 [==============================] - 0s 9ms/step - loss: 8.8421e-04 - accuracy: 1.0000 - val_loss: 0.2352 - val_accuracy: 0.9438\n",
            "Epoch 127/150\n",
            "32/32 [==============================] - 0s 9ms/step - loss: 0.0010 - accuracy: 1.0000 - val_loss: 0.2325 - val_accuracy: 0.9478\n",
            "Epoch 128/150\n",
            "32/32 [==============================] - 0s 9ms/step - loss: 0.0010 - accuracy: 1.0000 - val_loss: 0.2311 - val_accuracy: 0.9518\n",
            "Epoch 129/150\n",
            "32/32 [==============================] - 0s 9ms/step - loss: 7.6707e-04 - accuracy: 1.0000 - val_loss: 0.2351 - val_accuracy: 0.9438\n",
            "Epoch 130/150\n",
            "32/32 [==============================] - 0s 10ms/step - loss: 7.5042e-04 - accuracy: 1.0000 - val_loss: 0.2327 - val_accuracy: 0.9518\n",
            "Epoch 131/150\n",
            "32/32 [==============================] - 0s 9ms/step - loss: 7.7290e-04 - accuracy: 1.0000 - val_loss: 0.2311 - val_accuracy: 0.9518\n",
            "Epoch 132/150\n",
            "32/32 [==============================] - 0s 8ms/step - loss: 6.5465e-04 - accuracy: 1.0000 - val_loss: 0.2334 - val_accuracy: 0.9478\n",
            "Epoch 133/150\n",
            "32/32 [==============================] - 0s 8ms/step - loss: 8.2215e-04 - accuracy: 1.0000 - val_loss: 0.2356 - val_accuracy: 0.9478\n",
            "Epoch 134/150\n",
            "32/32 [==============================] - 0s 8ms/step - loss: 7.0356e-04 - accuracy: 1.0000 - val_loss: 0.2331 - val_accuracy: 0.9478\n",
            "Epoch 135/150\n",
            "32/32 [==============================] - 0s 9ms/step - loss: 8.6799e-04 - accuracy: 1.0000 - val_loss: 0.2332 - val_accuracy: 0.9518\n",
            "Epoch 136/150\n",
            "32/32 [==============================] - 0s 8ms/step - loss: 6.7613e-04 - accuracy: 1.0000 - val_loss: 0.2330 - val_accuracy: 0.9518\n",
            "Epoch 137/150\n",
            "32/32 [==============================] - 0s 9ms/step - loss: 9.4463e-04 - accuracy: 1.0000 - val_loss: 0.2310 - val_accuracy: 0.9518\n",
            "Epoch 138/150\n",
            "32/32 [==============================] - 0s 8ms/step - loss: 0.0010 - accuracy: 1.0000 - val_loss: 0.2374 - val_accuracy: 0.9478\n",
            "Epoch 139/150\n",
            "32/32 [==============================] - 0s 8ms/step - loss: 0.0011 - accuracy: 1.0000 - val_loss: 0.2367 - val_accuracy: 0.9478\n",
            "Epoch 140/150\n",
            "32/32 [==============================] - 0s 9ms/step - loss: 6.3187e-04 - accuracy: 1.0000 - val_loss: 0.2363 - val_accuracy: 0.9438\n",
            "Epoch 141/150\n",
            "32/32 [==============================] - 0s 12ms/step - loss: 0.0012 - accuracy: 1.0000 - val_loss: 0.2361 - val_accuracy: 0.9478\n",
            "Epoch 142/150\n",
            "32/32 [==============================] - 0s 14ms/step - loss: 9.7079e-04 - accuracy: 1.0000 - val_loss: 0.2385 - val_accuracy: 0.9478\n",
            "Epoch 143/150\n",
            "32/32 [==============================] - 0s 13ms/step - loss: 7.7032e-04 - accuracy: 1.0000 - val_loss: 0.2400 - val_accuracy: 0.9478\n",
            "Epoch 144/150\n",
            "32/32 [==============================] - 0s 11ms/step - loss: 8.8164e-04 - accuracy: 1.0000 - val_loss: 0.2357 - val_accuracy: 0.9518\n",
            "Epoch 145/150\n",
            "32/32 [==============================] - 0s 12ms/step - loss: 8.0017e-04 - accuracy: 1.0000 - val_loss: 0.2375 - val_accuracy: 0.9478\n",
            "Epoch 146/150\n",
            "32/32 [==============================] - 0s 15ms/step - loss: 6.7006e-04 - accuracy: 1.0000 - val_loss: 0.2357 - val_accuracy: 0.9478\n",
            "Epoch 147/150\n",
            "32/32 [==============================] - 0s 12ms/step - loss: 6.5618e-04 - accuracy: 1.0000 - val_loss: 0.2374 - val_accuracy: 0.9478\n",
            "Epoch 148/150\n",
            "32/32 [==============================] - 0s 15ms/step - loss: 8.9596e-04 - accuracy: 1.0000 - val_loss: 0.2346 - val_accuracy: 0.9518\n",
            "Epoch 149/150\n",
            "32/32 [==============================] - 0s 11ms/step - loss: 5.9185e-04 - accuracy: 1.0000 - val_loss: 0.2369 - val_accuracy: 0.9478\n",
            "Epoch 150/150\n",
            "32/32 [==============================] - 0s 8ms/step - loss: 7.5866e-04 - accuracy: 1.0000 - val_loss: 0.2392 - val_accuracy: 0.9478\n"
          ]
        }
      ],
      "source": [
        "epochs = 150\n",
        "history = model.fit(\n",
        "    train_ds,\n",
        "    validation_data=val_ds,\n",
        "    epochs=epochs)"
      ]
    },
    {
      "cell_type": "code",
      "source": [
        "model.save('/content/drive/MyDrive/NLP_MODEL/04_1500_DATASET_MODEL.h5/')"
      ],
      "metadata": {
        "id": "zvNWlry8sfDp",
        "outputId": "bf0e659c-55c3-45dd-cb31-e6817df0604c",
        "colab": {
          "base_uri": "https://localhost:8080/"
        }
      },
      "execution_count": 52,
      "outputs": [
        {
          "output_type": "stream",
          "name": "stderr",
          "text": [
            "WARNING:absl:Found untraced functions such as _update_step_xla while saving (showing 1 of 1). These functions will not be directly callable after loading.\n"
          ]
        }
      ]
    },
    {
      "cell_type": "code",
      "execution_count": 49,
      "metadata": {
        "colab": {
          "base_uri": "https://localhost:8080/"
        },
        "id": "-zzNKpPQyqfP",
        "outputId": "fa69a03f-64c1-496b-d545-526ef31764ae"
      },
      "outputs": [
        {
          "output_type": "stream",
          "name": "stdout",
          "text": [
            "10/10 [==============================] - 0s 2ms/step - loss: 0.1851 - accuracy: 0.9270\n",
            "Loss:  0.1851392388343811\n",
            "Accuracy:  0.9269841313362122\n"
          ]
        }
      ],
      "source": [
        "loss, accuracy = model.evaluate(test_ds)\n",
        "\n",
        "print(\"Loss: \", loss)\n",
        "print(\"Accuracy: \", accuracy)"
      ]
    },
    {
      "cell_type": "code",
      "execution_count": 30,
      "metadata": {
        "colab": {
          "base_uri": "https://localhost:8080/"
        },
        "id": "yHnCO_T5y3PP",
        "outputId": "28f4858c-ae3e-4a70-e314-d305acc5a7e1"
      },
      "outputs": [
        {
          "output_type": "execute_result",
          "data": {
            "text/plain": [
              "dict_keys(['loss', 'accuracy', 'val_loss', 'val_accuracy'])"
            ]
          },
          "metadata": {},
          "execution_count": 30
        }
      ],
      "source": [
        "history_dict = history.history\n",
        "history_dict.keys()"
      ]
    },
    {
      "cell_type": "code",
      "execution_count": 31,
      "metadata": {
        "colab": {
          "base_uri": "https://localhost:8080/",
          "height": 295
        },
        "id": "WOaRHa-LzKZW",
        "outputId": "9ed04b90-8502-4ec1-c26c-8c3caeb3a263"
      },
      "outputs": [
        {
          "output_type": "display_data",
          "data": {
            "text/plain": [
              "<Figure size 432x288 with 1 Axes>"
            ],
            "image/png": "[encoded data removed]"
          },
          "metadata": {
            "needs_background": "light"
          }
        }
      ],
      "source": [
        "acc = history_dict['accuracy']\n",
        "val_acc = history_dict['val_accuracy']\n",
        "loss = history_dict['loss']\n",
        "val_loss = history_dict['val_loss']\n",
        "\n",
        "epochs = range(1, len(acc) + 1)\n",
        "\n",
        "# \"bo\" is for \"blue dot\"\n",
        "plt.plot(epochs, loss, 'bo', label='Training loss')\n",
        "# b is for \"solid blue line\"\n",
        "plt.plot(epochs, val_loss, 'b', label='Validation loss')\n",
        "plt.title('Training and validation loss')\n",
        "plt.xlabel('Epochs')\n",
        "plt.ylabel('Loss')\n",
        "plt.legend()\n",
        "\n",
        "plt.show()"
      ]
    },
    {
      "cell_type": "code",
      "execution_count": 32,
      "metadata": {
        "colab": {
          "base_uri": "https://localhost:8080/",
          "height": 295
        },
        "id": "Y6yr7YCyzRPz",
        "outputId": "bcaecc51-a232-41de-e55d-6c416a851997"
      },
      "outputs": [
        {
          "output_type": "display_data",
          "data": {
            "text/plain": [
              "<Figure size 432x288 with 1 Axes>"
            ],
            "image/png": "[encoded data removed]"
          },
          "metadata": {
            "needs_background": "light"
          }
        }
      ],
      "source": [
        "plt.plot(epochs, acc, 'bo', label='Training acc')\n",
        "plt.plot(epochs, val_acc, 'b', label='Validation acc')\n",
        "plt.title('Training and validation accuracy')\n",
        "plt.xlabel('Epochs')\n",
        "plt.ylabel('Accuracy')\n",
        "plt.legend(loc='lower right')\n",
        "\n",
        "plt.show()"
      ]
    },
    {
      "cell_type": "code",
      "execution_count": 33,
      "metadata": {
        "colab": {
          "base_uri": "https://localhost:8080/"
        },
        "id": "1JG4H59HzcOh",
        "outputId": "0eab9ecd-f75f-4288-8bdc-39d7e6098182"
      },
      "outputs": [
        {
          "output_type": "stream",
          "name": "stderr",
          "text": [
            "/usr/local/lib/python3.8/dist-packages/keras/backend.py:5585: UserWarning: \"`sparse_categorical_crossentropy` received `from_logits=True`, but the `output` argument was produced by a Softmax activation and thus does not represent logits. Was this intended?\n",
            "  output, from_logits = _get_logits(\n"
          ]
        },
        {
          "output_type": "stream",
          "name": "stdout",
          "text": [
            "10/10 [==============================] - 1s 5ms/step - loss: 0.3236 - accuracy: 0.9143\n",
            "0.9142857193946838\n"
          ]
        }
      ],
      "source": [
        "export_model = tf.keras.Sequential([\n",
        "  vectorize_layer,\n",
        "  model,\n",
        "  layers.Activation('softmax')\n",
        "])\n",
        "export_model.compile(loss = losses.SparseCategoricalCrossentropy(from_logits=True), optimizer = 'adam', metrics = ['accuracy'])\n",
        "\n",
        "\n",
        "\n",
        "# Test it with `raw_test_ds`, which yields raw strings\n",
        "loss, accuracy = export_model.evaluate(raw_test_ds)\n",
        "print(accuracy)"
      ]
    },
    {
      "cell_type": "code",
      "execution_count": 34,
      "metadata": {
        "colab": {
          "base_uri": "https://localhost:8080/"
        },
        "id": "lx12nIIi7luJ",
        "outputId": "6dd18f36-522a-40cc-d6de-e376c6a6b10f"
      },
      "outputs": [
        {
          "output_type": "execute_result",
          "data": {
            "text/plain": [
              "['EKO', 'HEL', 'OLA']"
            ]
          },
          "metadata": {},
          "execution_count": 34
        }
      ],
      "source": [
        "['EKO', 'HEL', 'OLA']"
      ]
    },
    {
      "cell_type": "markdown",
      "source": [
        "# PREDIKSI"
      ],
      "metadata": {
        "id": "XRa2FY4q0Ovo"
      }
    },
    {
      "cell_type": "code",
      "execution_count": 35,
      "metadata": {
        "colab": {
          "base_uri": "https://localhost:8080/"
        },
        "id": "f-_agyAv7Rwx",
        "outputId": "5d470255-4516-4fe6-fbff-d54112ed1f58"
      },
      "outputs": [
        {
          "output_type": "stream",
          "name": "stdout",
          "text": [
            "1/1 [==============================] - 0s 188ms/step\n"
          ]
        },
        {
          "output_type": "execute_result",
          "data": {
            "text/plain": [
              "array([[0.04405506, 0.01838873, 0.9375562 ],\n",
              "       [0.7624215 , 0.08888543, 0.14869305],\n",
              "       [0.2037328 , 0.73826224, 0.05800496],\n",
              "       [0.17044944, 0.7705909 , 0.0589596 ],\n",
              "       [0.87008744, 0.04089971, 0.08901282],\n",
              "       [0.80582196, 0.08118614, 0.1129919 ]], dtype=float32)"
            ]
          },
          "metadata": {},
          "execution_count": 35
        }
      ],
      "source": [
        "examples = [\"MotoGP 2015 akan dikenang sebagai salah satu yang paling sengit dalam gelaran kejuaraan dunia balap motor grand prix\",\n",
        "            \"Ida Fauziyah menargetkan penyaluran Ekonomi Bantuan Subsidi Upah (BSU) atau BLT Gaji melalui PT Pos\",\n",
        "            \"Teknik Dasar Jalan Cepat, Sejarah, dan Manfaat untuk Kesehatan\",\n",
        "            \"Covid-19 akan meningkat apabila masayarakat tidak patuh protokol kesehatan\",\n",
        "            \"Rencana Impor KRL Bekas Didukung Erick Thohir, tetapi belum mendapat persetujuan kementrian perdagangan & Ekonomi\",\n",
        "            \"Inflasi Indonesia Naik Lagi pada Februari 2023\"]\n",
        "\n",
        "\n",
        "#for x in examples:\n",
        "export_model.predict(examples)"
      ]
    },
    {
      "cell_type": "markdown",
      "source": [
        "# FUNGSI UNTUK MEMBUAT VISUALISASI GRAFIK PIE CHART"
      ],
      "metadata": {
        "id": "mE-x8RyaSAXX"
      }
    },
    {
      "cell_type": "code",
      "source": [
        "def Pie_Chart_Visualization(x):\n",
        "\n",
        "          # Pie chart, where the slices will be ordered and plotted counter-clockwise:\n",
        "          labels = ['EKO', 'HEL', 'OLA']\n",
        "          sizes = export_model.predict(examples)[x].tolist()\n",
        "          explode = (0, 0, 0)  # only \"explode\" the 2nd slice (i.e. 'Hogs')\n",
        "\n",
        "          fig1, ax1 = plt.subplots()\n",
        "          ax1.pie(sizes, explode=explode, labels=labels, autopct='%1.1f%%',\n",
        "                  shadow=True, startangle=90)\n",
        "          ax1.axis('equal')  # Equal aspect ratio ensures that pie is drawn as a circle.\n",
        "\n",
        "          plt.show()"
      ],
      "metadata": {
        "id": "PB33J9xkZL9I"
      },
      "execution_count": 36,
      "outputs": []
    },
    {
      "cell_type": "markdown",
      "source": [
        "# PENGUJIAN PROSENATASE PREDIKSI DALAM BENTUK GRAFIK DARI DATA SAMPLE"
      ],
      "metadata": {
        "id": "Huil3hFtR0ND"
      }
    },
    {
      "cell_type": "code",
      "source": [
        "for x in range(len(examples)):\n",
        "  display(examples[x])\n",
        "  display(Pie_Chart_Visualization(x))\n",
        "  print('')"
      ],
      "metadata": {
        "colab": {
          "base_uri": "https://localhost:8080/",
          "height": 1000
        },
        "id": "uxUAum5AigpU",
        "outputId": "baee3496-478e-4a13-93d4-45db122350bf"
      },
      "execution_count": 53,
      "outputs": [
        {
          "output_type": "display_data",
          "data": {
            "text/plain": [
              "'MotoGP 2015 akan dikenang sebagai salah satu yang paling sengit dalam gelaran kejuaraan dunia balap motor grand prix'"
            ],
            "application/vnd.google.colaboratory.intrinsic+json": {
              "type": "string"
            }
          },
          "metadata": {}
        },
        {
          "output_type": "stream",
          "name": "stdout",
          "text": [
            "1/1 [==============================] - 0s 45ms/step\n"
          ]
        },
        {
          "output_type": "display_data",
          "data": {
            "text/plain": [
              "<Figure size 432x288 with 1 Axes>"
            ],
            "image/png": "[encoded data removed]"
          },
          "metadata": {}
        },
        {
          "output_type": "display_data",
          "data": {
            "text/plain": [
              "None"
            ]
          },
          "metadata": {}
        },
        {
          "output_type": "stream",
          "name": "stdout",
          "text": [
            "\n"
          ]
        },
        {
          "output_type": "display_data",
          "data": {
            "text/plain": [
              "'Ida Fauziyah menargetkan penyaluran Ekonomi Bantuan Subsidi Upah (BSU) atau BLT Gaji melalui PT Pos'"
            ],
            "application/vnd.google.colaboratory.intrinsic+json": {
              "type": "string"
            }
          },
          "metadata": {}
        },
        {
          "output_type": "stream",
          "name": "stdout",
          "text": [
            "1/1 [==============================] - 0s 45ms/step\n"
          ]
        },
        {
          "output_type": "display_data",
          "data": {
            "text/plain": [
              "<Figure size 432x288 with 1 Axes>"
            ],
            "image/png": "[encoded data removed]"
          },
          "metadata": {}
        },
        {
          "output_type": "display_data",
          "data": {
            "text/plain": [
              "None"
            ]
          },
          "metadata": {}
        },
        {
          "output_type": "stream",
          "name": "stdout",
          "text": [
            "\n"
          ]
        },
        {
          "output_type": "display_data",
          "data": {
            "text/plain": [
              "'Teknik Dasar Jalan Cepat, Sejarah, dan Manfaat untuk Kesehatan'"
            ],
            "application/vnd.google.colaboratory.intrinsic+json": {
              "type": "string"
            }
          },
          "metadata": {}
        },
        {
          "output_type": "stream",
          "name": "stdout",
          "text": [
            "1/1 [==============================] - 0s 43ms/step\n"
          ]
        },
        {
          "output_type": "display_data",
          "data": {
            "text/plain": [
              "<Figure size 432x288 with 1 Axes>"
            ],
            "image/png": "[encoded data removed]"
          },
          "metadata": {}
        },
        {
          "output_type": "display_data",
          "data": {
            "text/plain": [
              "None"
            ]
          },
          "metadata": {}
        },
        {
          "output_type": "stream",
          "name": "stdout",
          "text": [
            "\n"
          ]
        },
        {
          "output_type": "display_data",
          "data": {
            "text/plain": [
              "'Covid-19 akan meningkat apabila masayarakat tidak patuh protokol kesehatan'"
            ],
            "application/vnd.google.colaboratory.intrinsic+json": {
              "type": "string"
            }
          },
          "metadata": {}
        },
        {
          "output_type": "stream",
          "name": "stdout",
          "text": [
            "1/1 [==============================] - 0s 51ms/step\n"
          ]
        },
        {
          "output_type": "display_data",
          "data": {
            "text/plain": [
              "<Figure size 432x288 with 1 Axes>"
            ],
            "image/png": "[encoded data removed]"
          },
          "metadata": {}
        },
        {
          "output_type": "display_data",
          "data": {
            "text/plain": [
              "None"
            ]
          },
          "metadata": {}
        },
        {
          "output_type": "stream",
          "name": "stdout",
          "text": [
            "\n"
          ]
        },
        {
          "output_type": "display_data",
          "data": {
            "text/plain": [
              "'Rencana Impor KRL Bekas Didukung Erick Thohir, tetapi belum mendapat persetujuan kementrian perdagangan & Ekonomi'"
            ],
            "application/vnd.google.colaboratory.intrinsic+json": {
              "type": "string"
            }
          },
          "metadata": {}
        },
        {
          "output_type": "stream",
          "name": "stdout",
          "text": [
            "1/1 [==============================] - 0s 40ms/step\n"
          ]
        },
        {
          "output_type": "display_data",
          "data": {
            "text/plain": [
              "<Figure size 432x288 with 1 Axes>"
            ],
            "image/png": "[encoded data removed]"
          },
          "metadata": {}
        },
        {
          "output_type": "display_data",
          "data": {
            "text/plain": [
              "None"
            ]
          },
          "metadata": {}
        },
        {
          "output_type": "stream",
          "name": "stdout",
          "text": [
            "\n"
          ]
        },
        {
          "output_type": "display_data",
          "data": {
            "text/plain": [
              "'Inflasi Indonesia Naik Lagi pada Februari 2023'"
            ],
            "application/vnd.google.colaboratory.intrinsic+json": {
              "type": "string"
            }
          },
          "metadata": {}
        },
        {
          "output_type": "stream",
          "name": "stdout",
          "text": [
            "1/1 [==============================] - 0s 55ms/step\n"
          ]
        },
        {
          "output_type": "display_data",
          "data": {
            "text/plain": [
              "<Figure size 432x288 with 1 Axes>"
            ],
            "image/png": "[encoded data removed]"
          },
          "metadata": {}
        },
        {
          "output_type": "display_data",
          "data": {
            "text/plain": [
              "None"
            ]
          },
          "metadata": {}
        },
        {
          "output_type": "stream",
          "name": "stdout",
          "text": [
            "\n"
          ]
        }
      ]
    },
    {
      "cell_type": "code",
      "source": [],
      "metadata": {
        "id": "c7jsn3LvwZ5p"
      },
      "execution_count": null,
      "outputs": []
    },
    {
      "cell_type": "markdown",
      "source": [
        "# CONFUSION MATRIX SEBAGAI TAMBAHAN PENDUKUNG UNTUK MEPERJELAS VISUALISASI DIATAS"
      ],
      "metadata": {
        "id": "xng6nwmSS7Nm"
      }
    },
    {
      "cell_type": "markdown",
      "source": [
        "# CONFUSION MATRIX WITH SKLEARN DARI DATA EXAMPLE PREDIKSI DIATAS"
      ],
      "metadata": {
        "id": "SYvcxRgI6VIv"
      }
    },
    {
      "cell_type": "code",
      "source": [
        "KNOWLDEGE = '''\n",
        "examples = [\"MotoGP 2015 akan dikenang sebagai salah satu yang paling sengit dalam gelaran kejuaraan dunia balap motor grand prix\",\n",
        "            \"Ida Fauziyah menargetkan penyaluran Bantuan Subsidi Upah (BSU) atau BLT Gaji melalui PT Pos\",\n",
        "            \"Teknik Dasar Jalan Cepat, Sejarah, dan Manfaat untuk Kesehatan\",\n",
        "            \"Covid-19 akan meningkat apabila masayarakat tidak patuh protokol kesehatan\",\n",
        "            \"Rencana Impor KRL Bekas: Didukung Erick Thohir, Belum Direstui Kemenperin\",\n",
        "            \"Inflasi Indonesia Naik Lagi pada Februari 2023\"]\n",
        "\n",
        "\n",
        "array([[0.2787188 , 0.2602841 , 0.46099707],\n",
        "       [0.35545906, 0.38726214, 0.2572788 ],\n",
        "       [0.34048846, 0.5059424 , 0.1535691 ],\n",
        "       [0.36652344, 0.4425247 , 0.19095181],\n",
        "       [0.38142797, 0.33325955, 0.28531247],\n",
        "       [0.39142797, 0.32325955, 0.28531247],], dtype=float32)    \n",
        "\n",
        "'''               \n",
        "\n",
        "\n",
        "\n",
        "y_value_true = [2,1,1,1,0,0]  # Knowledge dari user/peneliti\n",
        "x_value_pred = [2,1,1,1,0,0]  # Value dari nilai prdiksi diambil prosentasi terbesar     \n",
        "LABEL = ['EKO', 'HEL', 'OLA']    \n",
        "\n"
      ],
      "metadata": {
        "id": "WU73XALk6UUh"
      },
      "execution_count": 60,
      "outputs": []
    },
    {
      "cell_type": "code",
      "source": [
        "from sklearn.metrics import confusion_matrix\n",
        "\n",
        "conf_matrix = confusion_matrix(L1, L2)\n",
        "#conf_matrix = confusion_matrix([2,1,1,1,0,1], [2,1,1,1,0,1])\n",
        "print(conf_matrix)\n",
        "\n",
        "L1 = ['OLA','HEL','EKO','EKO','HEL','HEL','OLA']\n",
        "L2 = ['OLA','HEL','EKO','EKO','HEL','HEL','OLA']\n",
        "\n",
        "sns.heatmap(\n",
        "    conf_matrix, annot=True,\n",
        "    xticklabels= L1 ,\n",
        "    yticklabels= L2)\n",
        "plt.xlabel(\"Predicted\")\n",
        "plt.ylabel(\"True\")"
      ],
      "metadata": {
        "id": "bzJs7LNC-HTL",
        "outputId": "bfe88336-0362-447b-b8ae-f264374b8b34",
        "colab": {
          "base_uri": "https://localhost:8080/",
          "height": 354
        }
      },
      "execution_count": 66,
      "outputs": [
        {
          "output_type": "stream",
          "name": "stdout",
          "text": [
            "[[2 0 0]\n",
            " [0 3 0]\n",
            " [0 0 2]]\n"
          ]
        },
        {
          "output_type": "execute_result",
          "data": {
            "text/plain": [
              "Text(33.0, 0.5, 'True')"
            ]
          },
          "metadata": {},
          "execution_count": 66
        },
        {
          "output_type": "display_data",
          "data": {
            "text/plain": [
              "<Figure size 432x288 with 2 Axes>"
            ],
            "image/png": "[encoded data removed]"
          },
          "metadata": {
            "needs_background": "light"
          }
        }
      ]
    },
    {
      "cell_type": "markdown",
      "source": [
        "Confusion matrix yang diberikan terdiri dari tiga kelas (class), yaitu kelas EKO, KESEHATAN, dan OLAHRAGA. Kolom merepresentasikan nilai prediksi dan baris merepresentasikan nilai sebenarnya. Oleh karena itu, diagonal utama dari matrix menunjukkan jumlah prediksi yang benar.\n",
        "\n",
        "Berdasarkan confusion matrix yang diberikan, dapat disimpulkan bahwa:\n",
        "\n",
        "Kelas pertama memiliki dua prediksi yang benar (true positive), sementara tidak ada prediksi yang salah (false positive) atau salah negatif (false negative) pada kelas ini.\n",
        "Kelas kedua memiliki tiga prediksi yang benar (true positive), sementara tidak ada prediksi yang salah (false positive) atau salah negatif (false negative) pada kelas ini.\n",
        "Kelas ketiga memiliki satu prediksi yang benar (true positive), sementara tidak ada prediksi yang salah (false positive) atau salah negatif (false negative) pada kelas ini.\n",
        "Dengan demikian, dapat disimpulkan bahwa model memiliki performa yang cukup baik untuk memprediksi tiga kelas yang ada, karena tidak terdapat nilai false positive atau false negative pada setiap kelasnya"
      ],
      "metadata": {
        "id": "6svL0N4585qT"
      }
    },
    {
      "cell_type": "markdown",
      "source": [
        "# TABLE PEMBELAJARAN / LEARNING RATE"
      ],
      "metadata": {
        "id": "MtBm4-4qSLxi"
      }
    },
    {
      "cell_type": "code",
      "source": [
        "LOSS = [0.7776076197624207,0.5466572642326355,0.4511881172657013,0.41121599078178406,0.3235812485218048,0.20382441580295563,0.18509308993816376,0.1851392388343811]\n",
        "ACCURACY = [0.7973856329917908,0.843137264251709,0.8562091588973999,0.8562091588973999,0.9142857193946838,0.920634925365448,0.9238095283508301,0.9269841313362122]\n",
        "DATASET_RAW = [1000,1000,1000,1000,1500,1500,1500,1500]\n",
        "EPOCH = [150,300,450,600,150,300,450,600]\n",
        "\n",
        "BASIC = pd.DataFrame()\n",
        "BASIC['EPOCH'] = EPOCH\n",
        "BASIC['ACCURACY'] = ACCURACY\n",
        "BASIC['LOSS'] = LOSS\n",
        "BASIC['DATASET'] = DATASET_RAW\n"
      ],
      "metadata": {
        "id": "PiHR7Tv7grxa"
      },
      "execution_count": 50,
      "outputs": []
    },
    {
      "cell_type": "code",
      "source": [
        "display(BASIC)"
      ],
      "metadata": {
        "colab": {
          "base_uri": "https://localhost:8080/",
          "height": 300
        },
        "id": "EmIR4KT6hjM_",
        "outputId": "80e996f2-0c8f-4063-e1c3-b37160653776"
      },
      "execution_count": 51,
      "outputs": [
        {
          "output_type": "display_data",
          "data": {
            "text/plain": [
              "   EPOCH  ACCURACY      LOSS  DATASET\n",
              "0    150  0.797386  0.777608     1000\n",
              "1    300  0.843137  0.546657     1000\n",
              "2    450  0.856209  0.451188     1000\n",
              "3    600  0.856209  0.411216     1000\n",
              "4    150  0.914286  0.323581     1500\n",
              "5    300  0.920635  0.203824     1500\n",
              "6    450  0.923810  0.185093     1500\n",
              "7    600  0.926984  0.185139     1500"
            ],
            "text/html": [
              "\n",
              "  <div id=\"df-390e0181-fb3e-4c4f-a24a-2c7dea8d4bd5\">\n",
              "    <div class=\"colab-df-container\">\n",
              "      <div>\n",
              "<style scoped>\n",
              "    .dataframe tbody tr th:only-of-type {\n",
              "        vertical-align: middle;\n",
              "    }\n",
              "\n",
              "    .dataframe tbody tr th {\n",
              "        vertical-align: top;\n",
              "    }\n",
              "\n",
              "    .dataframe thead th {\n",
              "        text-align: right;\n",
              "    }\n",
              "</style>\n",
              "<table border=\"1\" class=\"dataframe\">\n",
              "  <thead>\n",
              "    <tr style=\"text-align: right;\">\n",
              "      <th></th>\n",
              "      <th>EPOCH</th>\n",
              "      <th>ACCURACY</th>\n",
              "      <th>LOSS</th>\n",
              "      <th>DATASET</th>\n",
              "    </tr>\n",
              "  </thead>\n",
              "  <tbody>\n",
              "    <tr>\n",
              "      <th>0</th>\n",
              "      <td>150</td>\n",
              "      <td>0.797386</td>\n",
              "      <td>0.777608</td>\n",
              "      <td>1000</td>\n",
              "    </tr>\n",
              "    <tr>\n",
              "      <th>1</th>\n",
              "      <td>300</td>\n",
              "      <td>0.843137</td>\n",
              "      <td>0.546657</td>\n",
              "      <td>1000</td>\n",
              "    </tr>\n",
              "    <tr>\n",
              "      <th>2</th>\n",
              "      <td>450</td>\n",
              "      <td>0.856209</td>\n",
              "      <td>0.451188</td>\n",
              "      <td>1000</td>\n",
              "    </tr>\n",
              "    <tr>\n",
              "      <th>3</th>\n",
              "      <td>600</td>\n",
              "      <td>0.856209</td>\n",
              "      <td>0.411216</td>\n",
              "      <td>1000</td>\n",
              "    </tr>\n",
              "    <tr>\n",
              "      <th>4</th>\n",
              "      <td>150</td>\n",
              "      <td>0.914286</td>\n",
              "      <td>0.323581</td>\n",
              "      <td>1500</td>\n",
              "    </tr>\n",
              "    <tr>\n",
              "      <th>5</th>\n",
              "      <td>300</td>\n",
              "      <td>0.920635</td>\n",
              "      <td>0.203824</td>\n",
              "      <td>1500</td>\n",
              "    </tr>\n",
              "    <tr>\n",
              "      <th>6</th>\n",
              "      <td>450</td>\n",
              "      <td>0.923810</td>\n",
              "      <td>0.185093</td>\n",
              "      <td>1500</td>\n",
              "    </tr>\n",
              "    <tr>\n",
              "      <th>7</th>\n",
              "      <td>600</td>\n",
              "      <td>0.926984</td>\n",
              "      <td>0.185139</td>\n",
              "      <td>1500</td>\n",
              "    </tr>\n",
              "  </tbody>\n",
              "</table>\n",
              "</div>\n",
              "      <button class=\"colab-df-convert\" onclick=\"convertToInteractive('df-390e0181-fb3e-4c4f-a24a-2c7dea8d4bd5')\"\n",
              "              title=\"Convert this dataframe to an interactive table.\"\n",
              "              style=\"display:none;\">\n",
              "        \n",
              "  <svg xmlns=\"http://www.w3.org/2000/svg\" height=\"24px\"viewBox=\"0 0 24 24\"\n",
              "       width=\"24px\">\n",
              "    <path d=\"M0 0h24v24H0V0z\" fill=\"none\"/>\n",
              "    <path d=\"M18.56 5.44l.94 2.06.94-2.06 2.06-.94-2.06-.94-.94-2.06-.94 2.06-2.06.94zm-11 1L8.5 8.5l.94-2.06 2.06-.94-2.06-.94L8.5 2.5l-.94 2.06-2.06.94zm10 10l.94 2.06.94-2.06 2.06-.94-2.06-.94-.94-2.06-.94 2.06-2.06.94z\"/><path d=\"M17.41 7.96l-1.37-1.37c-.4-.4-.92-.59-1.43-.59-.52 0-1.04.2-1.43.59L10.3 9.45l-7.72 7.72c-.78.78-.78 2.05 0 2.83L4 21.41c.39.39.9.59 1.41.59.51 0 1.02-.2 1.41-.59l7.78-7.78 2.81-2.81c.8-.78.8-2.07 0-2.86zM5.41 20L4 18.59l7.72-7.72 1.47 1.35L5.41 20z\"/>\n",
              "  </svg>\n",
              "      </button>\n",
              "      \n",
              "  <style>\n",
              "    .colab-df-container {\n",
              "      display:flex;\n",
              "      flex-wrap:wrap;\n",
              "      gap: 12px;\n",
              "    }\n",
              "\n",
              "    .colab-df-convert {\n",
              "      background-color: #E8F0FE;\n",
              "      border: none;\n",
              "      border-radius: 50%;\n",
              "      cursor: pointer;\n",
              "      display: none;\n",
              "      fill: #1967D2;\n",
              "      height: 32px;\n",
              "      padding: 0 0 0 0;\n",
              "      width: 32px;\n",
              "    }\n",
              "\n",
              "    .colab-df-convert:hover {\n",
              "      background-color: #E2EBFA;\n",
              "      box-shadow: 0px 1px 2px rgba(60, 64, 67, 0.3), 0px 1px 3px 1px rgba(60, 64, 67, 0.15);\n",
              "      fill: #174EA6;\n",
              "    }\n",
              "\n",
              "    [theme=dark] .colab-df-convert {\n",
              "      background-color: #3B4455;\n",
              "      fill: #D2E3FC;\n",
              "    }\n",
              "\n",
              "    [theme=dark] .colab-df-convert:hover {\n",
              "      background-color: #434B5C;\n",
              "      box-shadow: 0px 1px 3px 1px rgba(0, 0, 0, 0.15);\n",
              "      filter: drop-shadow(0px 1px 2px rgba(0, 0, 0, 0.3));\n",
              "      fill: #FFFFFF;\n",
              "    }\n",
              "  </style>\n",
              "\n",
              "      <script>\n",
              "        const buttonEl =\n",
              "          document.querySelector('#df-390e0181-fb3e-4c4f-a24a-2c7dea8d4bd5 button.colab-df-convert');\n",
              "        buttonEl.style.display =\n",
              "          google.colab.kernel.accessAllowed ? 'block' : 'none';\n",
              "\n",
              "        async function convertToInteractive(key) {\n",
              "          const element = document.querySelector('#df-390e0181-fb3e-4c4f-a24a-2c7dea8d4bd5');\n",
              "          const dataTable =\n",
              "            await google.colab.kernel.invokeFunction('convertToInteractive',\n",
              "                                                     [key], {});\n",
              "          if (!dataTable) return;\n",
              "\n",
              "          const docLinkHtml = 'Like what you see? Visit the ' +\n",
              "            '<a target=\"_blank\" href=https://colab.research.google.com/notebooks/data_table.ipynb>data table notebook</a>'\n",
              "            + ' to learn more about interactive tables.';\n",
              "          element.innerHTML = '';\n",
              "          dataTable['output_type'] = 'display_data';\n",
              "          await google.colab.output.renderOutput(dataTable, element);\n",
              "          const docLink = document.createElement('div');\n",
              "          docLink.innerHTML = docLinkHtml;\n",
              "          element.appendChild(docLink);\n",
              "        }\n",
              "      </script>\n",
              "    </div>\n",
              "  </div>\n",
              "  "
            ]
          },
          "metadata": {}
        }
      ]
    },
    {
      "cell_type": "code",
      "source": [
        "sns.lineplot(data=BASIC, x=\"EPOCH\", y=\"ACCURACY\")\n",
        "plt.show()"
      ],
      "metadata": {
        "id": "3bKuqE7acO46",
        "outputId": "5ff73d71-b7af-466d-d2b7-c08085340b01",
        "colab": {
          "base_uri": "https://localhost:8080/",
          "height": 279
        }
      },
      "execution_count": 54,
      "outputs": [
        {
          "output_type": "display_data",
          "data": {
            "text/plain": [
              "<Figure size 432x288 with 1 Axes>"
            ],
            "image/png": "[encoded data removed]"
          },
          "metadata": {
            "needs_background": "light"
          }
        }
      ]
    },
    {
      "cell_type": "markdown",
      "source": [
        "# Catatan Kesimpulan Sederhana"
      ],
      "metadata": {
        "id": "GUXzGiSv7zPs"
      }
    },
    {
      "cell_type": "markdown",
      "source": [
        "Dari hasil eksperimen yang diberikan, dapat disimpulkan bahwa:\n",
        "\n",
        "1. Ukuran dataset yang lebih besar dan jumlah epoch yang lebih banyak cenderung menghasilkan akurasi yang lebih tinggi dan kerugian yang lebih rendah pada model yang dilatih.\n",
        "\n",
        "2. Nilai akurasi dan kerugian berbanding lurus dan terbalik dengan ukuran dataset dan jumlah epoch, masing-masing.\n",
        "3. Akurasi tertinggi dan kerugian terendah dicapai dengan menggunakan ukuran dataset terbesar dan jumlah epoch terbanyak.\n",
        "\n",
        "4. Peningkatan ukuran dataset dan jumlah epoch berdampak positif pada akurasi dan negatif pada loss model.\n",
        "5. Nilai akurasi dan loss model memiliki korelasi positif dan negatif dengan ukuran dataset dan jumlah epoch, masing-masing.\n",
        "\n",
        "6. Dalam eksperimen ini, kombinasi ukuran dataset terbesar dan jumlah epoch terbanyak menghasilkan nilai akurasi tertinggi dan nilai loss terendah.\n",
        "\n",
        "Temuan ini sejalan dengan praktik umum dalam machine learning, di mana ukuran dataset yang lebih besar dan lebih banyak epoch pelatihan umumnya menghasilkan performa model yang lebih baik."
      ],
      "metadata": {
        "id": "qgq0Gmnh8dMn"
      }
    },
    {
      "cell_type": "code",
      "source": [],
      "metadata": {
        "id": "mX0Srhbdyq6K"
      },
      "execution_count": null,
      "outputs": []
    }
  ],
  "metadata": {
    "colab": {
      "provenance": [],
      "mount_file_id": "194KdQOmrBtd19BZL8GzB18F5-ps-gm6L",
      "authorship_tag": "ABX9TyMsros8SrBLbZoIUwhlAYdV",
      "include_colab_link": true
    },
    "kernelspec": {
      "display_name": "Python 3",
      "name": "python3"
    },
    "language_info": {
      "name": "python"
    }
  },
  "nbformat": 4,
  "nbformat_minor": 0
}
{
  "cells": [
    {
      "cell_type": "markdown",
      "metadata": {
        "id": "view-in-github",
        "colab_type": "text"
      },
      "source": [
        "<a href=\"https://colab.research.google.com/github/3ndung/NLP_CLASSIFICATION_LSTM_SIMPLE/blob/main/01_03_2023_RNN_BASIC_MULTICLASIFICATION_NLP_NLTK_TYO.ipynb\" target=\"_parent\"><img src=\"https://colab.research.google.com/assets/colab-badge.svg\" alt=\"Open In Colab\"/></a>"
      ]
    },
    {
      "cell_type": "markdown",
      "metadata": {
        "id": "wulUbvrtHF-w"
      },
      "source": [
        "Import library "
      ]
    },
    {
      "cell_type": "code",
      "execution_count": 15,
      "metadata": {
        "colab": {
          "base_uri": "https://localhost:8080/"
        },
        "id": "s_b478-RVma4",
        "outputId": "0c68b3b0-7deb-4b8c-e4eb-57a911e5b0c7"
      },
      "outputs": [
        {
          "output_type": "stream",
          "name": "stdout",
          "text": [
            "Mounted at /content/drive\n"
          ]
        }
      ],
      "source": [
        "from google.colab import drive\n",
        "drive.mount('/content/drive')"
      ]
    },
    {
      "cell_type": "code",
      "execution_count": 16,
      "metadata": {
        "id": "nD7PJZ1KG5DW"
      },
      "outputs": [],
      "source": [
        "import matplotlib.pyplot as plt\n",
        "import os\n",
        "import re\n",
        "import shutil\n",
        "import string\n",
        "import tensorflow as tf\n",
        "import matplotlib.pyplot as plt\n",
        "import pandas as pd\n",
        "import seaborn as sns\n",
        "\n",
        "from tensorflow.keras import layers\n",
        "from tensorflow.keras import losses"
      ]
    },
    {
      "cell_type": "markdown",
      "metadata": {
        "id": "uIjLHbiPHTR2"
      },
      "source": [
        "Cek TF Version"
      ]
    },
    {
      "cell_type": "code",
      "execution_count": 17,
      "metadata": {
        "colab": {
          "base_uri": "https://localhost:8080/"
        },
        "id": "sOzzke_vHRW9",
        "outputId": "35fec9fa-9f4d-4c97-e0c5-199fdf582e9e"
      },
      "outputs": [
        {
          "output_type": "stream",
          "name": "stdout",
          "text": [
            "2.11.0\n"
          ]
        }
      ],
      "source": [
        "print(tf.__version__)"
      ]
    },
    {
      "cell_type": "markdown",
      "metadata": {
        "id": "dkth6QYlH4A-"
      },
      "source": [
        "Download dataset "
      ]
    },
    {
      "cell_type": "code",
      "execution_count": 18,
      "metadata": {
        "id": "Jkcr4YjLMSJk"
      },
      "outputs": [],
      "source": [
        "dataset_dir = os.path.join(os.path.dirname('dataset'), '/content/drive/MyDrive/TYO_NLTK/DTS3/')"
      ]
    },
    {
      "cell_type": "code",
      "execution_count": 19,
      "metadata": {
        "colab": {
          "base_uri": "https://localhost:8080/"
        },
        "id": "8X3-kfvvMr8R",
        "outputId": "8a2fb57b-d0d0-49cb-86b8-4aefd8b9aeb0"
      },
      "outputs": [
        {
          "output_type": "execute_result",
          "data": {
            "text/plain": [
              "['TRAIN', 'TEST', 'dataset_info.json']"
            ]
          },
          "metadata": {},
          "execution_count": 19
        }
      ],
      "source": [
        "os.listdir(dataset_dir)"
      ]
    },
    {
      "cell_type": "markdown",
      "metadata": {
        "id": "4_e8nUJqM8lj"
      },
      "source": [
        "SET DATA UNTUK DI TRAIN "
      ]
    },
    {
      "cell_type": "code",
      "execution_count": 20,
      "metadata": {
        "colab": {
          "base_uri": "https://localhost:8080/"
        },
        "id": "FtYcHT3WMs79",
        "outputId": "0926b504-1c29-43fb-93d5-e35238529883"
      },
      "outputs": [
        {
          "output_type": "execute_result",
          "data": {
            "text/plain": [
              "['EKO', 'HEL', 'OLA']"
            ]
          },
          "metadata": {},
          "execution_count": 20
        }
      ],
      "source": [
        "train_dir = os.path.join(dataset_dir, 'TRAIN')\n",
        "os.listdir(train_dir)"
      ]
    },
    {
      "cell_type": "markdown",
      "metadata": {
        "id": "cIwhO064M_10"
      },
      "source": [
        "SET DATA UNTUK DI TEST"
      ]
    },
    {
      "cell_type": "code",
      "execution_count": 21,
      "metadata": {
        "colab": {
          "base_uri": "https://localhost:8080/"
        },
        "id": "76h1OCWVNC7l",
        "outputId": "3ba36c4c-e2be-46e4-b5fc-d8ca0c7e668c"
      },
      "outputs": [
        {
          "output_type": "execute_result",
          "data": {
            "text/plain": [
              "['EKO', 'HEL', 'OLA']"
            ]
          },
          "metadata": {},
          "execution_count": 21
        }
      ],
      "source": [
        "test_dir = os.path.join(dataset_dir, 'TEST')\n",
        "os.listdir(train_dir)"
      ]
    },
    {
      "cell_type": "code",
      "execution_count": 22,
      "metadata": {
        "colab": {
          "base_uri": "https://localhost:8080/"
        },
        "id": "y4X4padANHTW",
        "outputId": "42cfe23d-f515-419e-a464-dfc4b211056c"
      },
      "outputs": [
        {
          "output_type": "stream",
          "name": "stdout",
          "text": [
            "lps bisa simpan dana di bank sakit di ruu ppsk\n"
          ]
        }
      ],
      "source": [
        "sample_file = os.path.join(train_dir, 'EKO/103.txt')\n",
        "\n",
        "with open(sample_file) as f:\n",
        "  print(f.read())"
      ]
    },
    {
      "cell_type": "code",
      "execution_count": 23,
      "metadata": {
        "colab": {
          "base_uri": "https://localhost:8080/"
        },
        "id": "MEEvC45_N7RZ",
        "outputId": "0837406f-8874-4efd-a3cf-0a539828828a"
      },
      "outputs": [
        {
          "output_type": "stream",
          "name": "stdout",
          "text": [
            "Found 600 files belonging to 3 classes.\n",
            "Using 480 files for training.\n"
          ]
        }
      ],
      "source": [
        "batch_size = 32\n",
        "seed = 42\n",
        "\n",
        "raw_train_ds = tf.keras.utils.text_dataset_from_directory(\n",
        "    '/content/drive/MyDrive/TYO_NLTK/DTS3/TRAIN', \n",
        "    batch_size=batch_size, \n",
        "    validation_split=0.2, \n",
        "    subset='training', \n",
        "    seed=seed)"
      ]
    },
    {
      "cell_type": "code",
      "execution_count": 24,
      "metadata": {
        "colab": {
          "base_uri": "https://localhost:8080/"
        },
        "id": "JTUNrQEQOIPt",
        "outputId": "660e4814-51d7-4852-f3eb-de53512efe11"
      },
      "outputs": [
        {
          "output_type": "stream",
          "name": "stdout",
          "text": [
            "Review b'dpr usul bentuk badan supervisi lps dan ojk di ruu ppsk'\n",
            "Label 0\n",
            "Review b'prediksi skor wolves vs brighton di liga inggris 20222023 momentum daniel podence cs keluar dari zona degradasi'\n",
            "Label 2\n",
            "Review b'5 alasan marc marquez bakal bantu fabio quartararo juara motogp 2022 nomor 1 penebusan dosa'\n",
            "Label 2\n"
          ]
        }
      ],
      "source": [
        "for text_batch, label_batch in raw_train_ds.take(1):\n",
        "  for i in range(3):\n",
        "    print(\"Review\", text_batch.numpy()[i])\n",
        "    print(\"Label\", label_batch.numpy()[i])"
      ]
    },
    {
      "cell_type": "code",
      "execution_count": 25,
      "metadata": {
        "colab": {
          "base_uri": "https://localhost:8080/"
        },
        "id": "3ouP_BxwOe7a",
        "outputId": "10f511e2-e6b4-44cc-8c63-f1ae46d6d6fa"
      },
      "outputs": [
        {
          "output_type": "stream",
          "name": "stdout",
          "text": [
            "Label 0 corresponds to EKO\n",
            "Label 1 corresponds to HEL\n",
            "Label 2 corresponds to OLA\n"
          ]
        }
      ],
      "source": [
        "print(\"Label 0 corresponds to\", raw_train_ds.class_names[0])\n",
        "print(\"Label 1 corresponds to\", raw_train_ds.class_names[1])\n",
        "print(\"Label 2 corresponds to\", raw_train_ds.class_names[2])"
      ]
    },
    {
      "cell_type": "code",
      "execution_count": 26,
      "metadata": {
        "colab": {
          "base_uri": "https://localhost:8080/"
        },
        "id": "z426gnYnOlOa",
        "outputId": "81d4fdba-dc5c-4388-e6b9-77351b3be0dc"
      },
      "outputs": [
        {
          "output_type": "stream",
          "name": "stdout",
          "text": [
            "Found 600 files belonging to 3 classes.\n",
            "Using 120 files for validation.\n"
          ]
        }
      ],
      "source": [
        "raw_val_ds = tf.keras.utils.text_dataset_from_directory(\n",
        "    '/content/drive/MyDrive/TYO_NLTK/DTS3/TRAIN', \n",
        "    batch_size=batch_size, \n",
        "    validation_split=0.2, \n",
        "    subset='validation', \n",
        "    seed=seed)"
      ]
    },
    {
      "cell_type": "code",
      "execution_count": 27,
      "metadata": {
        "colab": {
          "base_uri": "https://localhost:8080/"
        },
        "id": "HrSDscr2O2pU",
        "outputId": "d4ee7922-8878-424a-a2cb-c8a22e29a755"
      },
      "outputs": [
        {
          "output_type": "stream",
          "name": "stdout",
          "text": [
            "Found 153 files belonging to 3 classes.\n"
          ]
        }
      ],
      "source": [
        "raw_test_ds = tf.keras.utils.text_dataset_from_directory(\n",
        "    '/content/drive/MyDrive/TYO_NLTK/DTS3/TEST', \n",
        "    batch_size=batch_size)"
      ]
    },
    {
      "cell_type": "markdown",
      "source": [
        "## Membuat function untuk menstandarkan/ menseragamkan string input"
      ],
      "metadata": {
        "id": "PYITtbK8LWwj"
      }
    },
    {
      "cell_type": "code",
      "execution_count": 28,
      "metadata": {
        "id": "AugpXoBfPBeY"
      },
      "outputs": [],
      "source": [
        "def custom_standardization(input_data):\n",
        "  # Membuat Semua String menjadi Lower String/ huruf kecil Semua\n",
        "  lowercase = tf.strings.lower(input_data)\n",
        "  # Menghapus apabila ada html tag\n",
        "  stripped_html = tf.strings.regex_replace(lowercase, '<br />', ' ')\n",
        "  return tf.strings.regex_replace(stripped_html,\n",
        "                                  '[%s]' % re.escape(string.punctuation),\n",
        "                                  '')"
      ]
    },
    {
      "cell_type": "markdown",
      "metadata": {
        "id": "SmDjxk7fkuMU"
      },
      "source": [
        "## TEXTVECTORIZATION\n",
        "\n",
        "Adalah pre-processing sebelum proses pembelajaran yang mengubah string mentah kedalam bentuk intger yang dapat dibaca oleh lapisan berikutnya dalam Synapsis/ Layer berikutnya contoh embeding dan denses\n"
      ]
    },
    {
      "cell_type": "code",
      "execution_count": 29,
      "metadata": {
        "id": "5y2kL-Q-lSkA"
      },
      "outputs": [],
      "source": [
        "max_features = 10000\n",
        "sequence_length = 250\n",
        "\n",
        "vectorize_layer = layers.TextVectorization(\n",
        "    # Memanggil fungsi sebelumnya yang mestandarkan semua string input menjadi lower case dan menghilangkan tag html bila ada\n",
        "    standardize=custom_standardization,\n",
        "    # Memberikan batasan padding agar panjang matrix sama pada setiap masukan.\n",
        "    max_tokens=max_features,\n",
        "    # Output String akan diubah menjadi bentuk integer\n",
        "    output_mode='int',\n",
        "    output_sequence_length=sequence_length)"
      ]
    },
    {
      "cell_type": "markdown",
      "metadata": {
        "id": "EqijZrfWl449"
      },
      "source": [
        "'''\n",
        "Next, you will call adapt to fit the state of the preprocessing layer to the dataset. This will cause the model to build an index of strings to integers.\n",
        "'''"
      ]
    },
    {
      "cell_type": "code",
      "execution_count": 30,
      "metadata": {
        "id": "ulGHvGJWlgI3",
        "colab": {
          "base_uri": "https://localhost:8080/"
        },
        "outputId": "88c20ce0-4eae-4f10-cf88-5993c6e14ed7"
      },
      "outputs": [
        {
          "output_type": "stream",
          "name": "stderr",
          "text": [
            "WARNING:tensorflow:From /usr/local/lib/python3.8/dist-packages/tensorflow/python/autograph/pyct/static_analysis/liveness.py:83: Analyzer.lamba_check (from tensorflow.python.autograph.pyct.static_analysis.liveness) is deprecated and will be removed after 2023-09-23.\n",
            "Instructions for updating:\n",
            "Lambda fuctions will be no more assumed to be used in the statement where they are used, or at least in the same block. https://github.com/tensorflow/tensorflow/issues/56089\n"
          ]
        }
      ],
      "source": [
        "# Make a text-only dataset (without labels), then call adapt\n",
        "train_text = raw_train_ds.map(lambda x, y: x)\n",
        "vectorize_layer.adapt(train_text)\n",
        "\n",
        "\n"
      ]
    },
    {
      "cell_type": "markdown",
      "source": [
        "# Fungsi yang mengubah setiap string text input ke dalam bentuk intger dan menyimpan dalam array, dengan menggunakan vectorize_layer yang telah diset diatas."
      ],
      "metadata": {
        "id": "baE3pm5-T-rZ"
      }
    },
    {
      "cell_type": "code",
      "execution_count": 31,
      "metadata": {
        "id": "NcySBx7rl8zj"
      },
      "outputs": [],
      "source": [
        "def vectorize_text(text, label):\n",
        "  text = tf.expand_dims(text, -1)\n",
        "  return vectorize_layer(text), label"
      ]
    },
    {
      "cell_type": "code",
      "execution_count": 32,
      "metadata": {
        "colab": {
          "base_uri": "https://localhost:8080/"
        },
        "id": "KY26gx46mFXz",
        "outputId": "da47755d-65a9-4e16-fbd6-6efded7f6c53"
      },
      "outputs": [
        {
          "output_type": "stream",
          "name": "stdout",
          "text": [
            "\n",
            "Review -> text_batch[13] tf.Tensor(b'hatihati jika kondisi urine seperti ini bisa jadi penyakit ginjal', shape=(), dtype=string)\n",
            "Label -> Label_batch[13] HEL\n",
            "\n",
            "Vectorized review nya seperti ini \n",
            "\n",
            " (<tf.Tensor: shape=(1, 250), dtype=int64, numpy=\n",
            "array([[ 92, 177, 347, 419, 157,   7,  11,  10,  57,  16,   0,   0,   0,\n",
            "          0,   0,   0,   0,   0,   0,   0,   0,   0,   0,   0,   0,   0,\n",
            "          0,   0,   0,   0,   0,   0,   0,   0,   0,   0,   0,   0,   0,\n",
            "          0,   0,   0,   0,   0,   0,   0,   0,   0,   0,   0,   0,   0,\n",
            "          0,   0,   0,   0,   0,   0,   0,   0,   0,   0,   0,   0,   0,\n",
            "          0,   0,   0,   0,   0,   0,   0,   0,   0,   0,   0,   0,   0,\n",
            "          0,   0,   0,   0,   0,   0,   0,   0,   0,   0,   0,   0,   0,\n",
            "          0,   0,   0,   0,   0,   0,   0,   0,   0,   0,   0,   0,   0,\n",
            "          0,   0,   0,   0,   0,   0,   0,   0,   0,   0,   0,   0,   0,\n",
            "          0,   0,   0,   0,   0,   0,   0,   0,   0,   0,   0,   0,   0,\n",
            "          0,   0,   0,   0,   0,   0,   0,   0,   0,   0,   0,   0,   0,\n",
            "          0,   0,   0,   0,   0,   0,   0,   0,   0,   0,   0,   0,   0,\n",
            "          0,   0,   0,   0,   0,   0,   0,   0,   0,   0,   0,   0,   0,\n",
            "          0,   0,   0,   0,   0,   0,   0,   0,   0,   0,   0,   0,   0,\n",
            "          0,   0,   0,   0,   0,   0,   0,   0,   0,   0,   0,   0,   0,\n",
            "          0,   0,   0,   0,   0,   0,   0,   0,   0,   0,   0,   0,   0,\n",
            "          0,   0,   0,   0,   0,   0,   0,   0,   0,   0,   0,   0,   0,\n",
            "          0,   0,   0,   0,   0,   0,   0,   0,   0,   0,   0,   0,   0,\n",
            "          0,   0,   0,   0,   0,   0,   0,   0,   0,   0,   0,   0,   0,\n",
            "          0,   0,   0]])>, <tf.Tensor: shape=(), dtype=int32, numpy=1>)\n"
          ]
        }
      ],
      "source": [
        "text_batch, label_batch = next(iter(raw_train_ds))\n",
        "first_review, first_label = text_batch[13], label_batch[13]\n",
        "print(\"\\nReview -> text_batch[13]\", first_review)\n",
        "print(\"Label -> Label_batch[13]\", raw_train_ds.class_names[first_label])\n",
        "print(\"\\nVectorized review nya seperti ini \\n\\n\", vectorize_text(first_review, first_label))"
      ]
    },
    {
      "cell_type": "code",
      "execution_count": 33,
      "metadata": {
        "colab": {
          "base_uri": "https://localhost:8080/"
        },
        "id": "g4mQQp4zmz0q",
        "outputId": "f43a87d8-a84f-410d-850b-8e7c8c5e2f04"
      },
      "outputs": [
        {
          "output_type": "stream",
          "name": "stdout",
          "text": [
            "1693 --->  dibekukan\n",
            "395 --->  awas\n",
            "Vocabulary size: 1953\n"
          ]
        }
      ],
      "source": [
        "print(\"1693 ---> \",vectorize_layer.get_vocabulary()[1693])\n",
        "print(\"395 ---> \",vectorize_layer.get_vocabulary()[395])\n",
        "print('Vocabulary size: {}'.format(len(vectorize_layer.get_vocabulary())))"
      ]
    },
    {
      "cell_type": "markdown",
      "source": [
        "# Menggubah semua input train, validasi dan test kedalam bentuk integer"
      ],
      "metadata": {
        "id": "oAmWnF1MVWcg"
      }
    },
    {
      "cell_type": "code",
      "execution_count": 34,
      "metadata": {
        "id": "lEucwjQ-m_Vp"
      },
      "outputs": [],
      "source": [
        "train_ds = raw_train_ds.map(vectorize_text)\n",
        "val_ds = raw_val_ds.map(vectorize_text)\n",
        "test_ds = raw_test_ds.map(vectorize_text)"
      ]
    },
    {
      "cell_type": "code",
      "execution_count": 35,
      "metadata": {
        "id": "mIb-okwOqkk5"
      },
      "outputs": [],
      "source": [
        "# Tunning dataset train, validasi dan test dengan AUTOTUNE untuk optimisasi shape data\n",
        "AUTOTUNE = tf.data.AUTOTUNE\n",
        "\n",
        "train_ds = train_ds.cache().prefetch(buffer_size=AUTOTUNE)\n",
        "val_ds = val_ds.cache().prefetch(buffer_size=AUTOTUNE)\n",
        "test_ds = test_ds.cache().prefetch(buffer_size=AUTOTUNE)"
      ]
    },
    {
      "cell_type": "markdown",
      "source": [
        "# Layer embedding dimension kita set menjadi 16 , seperti yang sering digunakan dalam panduan, embedding ini hanya dapat digunakan pada integer positiv dan untuk memperbaiki matrix."
      ],
      "metadata": {
        "id": "I6QrFPXaWMnJ"
      }
    },
    {
      "cell_type": "code",
      "execution_count": 36,
      "metadata": {
        "id": "lG28akNvrENY"
      },
      "outputs": [],
      "source": [
        "embedding_dim = 16"
      ]
    },
    {
      "cell_type": "code",
      "execution_count": null,
      "metadata": {
        "colab": {
          "base_uri": "https://localhost:8080/"
        },
        "id": "LQmj6o5eU0hL",
        "outputId": "caac183d-b8cb-4c4c-a090-a46318244d27"
      },
      "outputs": [
        {
          "output_type": "stream",
          "name": "stdout",
          "text": [
            "Model: \"sequential\"\n",
            "_________________________________________________________________\n",
            " Layer (type)                Output Shape              Param #   \n",
            "=================================================================\n",
            " embedding (Embedding)       (None, None, 16)          160016    \n",
            "                                                                 \n",
            " bidirectional (Bidirectiona  (None, 128)              41472     \n",
            " l)                                                              \n",
            "                                                                 \n",
            " dense (Dense)               (None, 64)                8256      \n",
            "                                                                 \n",
            " dense_1 (Dense)             (None, 3)                 195       \n",
            "                                                                 \n",
            "=================================================================\n",
            "Total params: 209,939\n",
            "Trainable params: 209,939\n",
            "Non-trainable params: 0\n",
            "_________________________________________________________________\n"
          ]
        }
      ],
      "source": [
        "'''model = tf.keras.Sequential([\n",
        "    \n",
        "    layers.Embedding(max_features + 1, embedding_dim),    \n",
        "    layers.Bidirectional(tf.keras.layers.LSTM(64)),\n",
        "    layers.Dense(64, activation='relu'),\n",
        "    layers.Dense(3)\n",
        "])\n",
        "\n",
        "\n",
        "model.summary()\n",
        "\n",
        "img_file = 'model_arch.png'\n",
        "tf.keras.utils.plot_model(model, to_file=img_file, show_shapes=True, show_layer_names=True)'''\n",
        "\n",
        "\n",
        "# MODEL RNN INI MEMBERIKAN AKURASI YANG KURANG BAIK DIBANDINGKAN MODEL YANG DIBAWAH DENGAN WAKTU KOMPUTASI YANG LEBIH LAMA\n",
        "# JADI GAK DIPAKE"
      ]
    },
    {
      "cell_type": "code",
      "execution_count": null,
      "metadata": {
        "colab": {
          "base_uri": "https://localhost:8080/",
          "height": 533
        },
        "id": "EO8LQT0jiq0I",
        "outputId": "8c31835f-3712-45ca-bd71-a10ab0992803"
      },
      "outputs": [
        {
          "output_type": "execute_result",
          "data": {
            "image/png": "[encoded data removed]",
            "text/plain": [
              "<IPython.core.display.Image object>"
            ]
          },
          "metadata": {},
          "execution_count": 29
        }
      ],
      "source": []
    },
    {
      "cell_type": "code",
      "execution_count": 37,
      "metadata": {
        "id": "X7rx6X_5rKo3",
        "colab": {
          "base_uri": "https://localhost:8080/",
          "height": 1000
        },
        "outputId": "37634b87-5624-4678-b01f-288225a3a227"
      },
      "outputs": [
        {
          "output_type": "stream",
          "name": "stdout",
          "text": [
            "Model: \"sequential\"\n",
            "_________________________________________________________________\n",
            " Layer (type)                Output Shape              Param #   \n",
            "=================================================================\n",
            " embedding (Embedding)       (None, None, 16)          160016    \n",
            "                                                                 \n",
            " dropout (Dropout)           (None, None, 16)          0         \n",
            "                                                                 \n",
            " global_average_pooling1d (G  (None, 16)               0         \n",
            " lobalAveragePooling1D)                                          \n",
            "                                                                 \n",
            " dropout_1 (Dropout)         (None, 16)                0         \n",
            "                                                                 \n",
            " dense (Dense)               (None, 3)                 51        \n",
            "                                                                 \n",
            "=================================================================\n",
            "Total params: 160,067\n",
            "Trainable params: 160,067\n",
            "Non-trainable params: 0\n",
            "_________________________________________________________________\n"
          ]
        },
        {
          "output_type": "execute_result",
          "data": {
            "image/png": "[encoded data removed]",
            "text/plain": [
              "<IPython.core.display.Image object>"
            ]
          },
          "metadata": {},
          "execution_count": 37
        }
      ],
      "source": [
        "model = tf.keras.Sequential([\n",
        "  layers.Embedding(max_features + 1, embedding_dim),\n",
        "  layers.Dropout(0.2),\n",
        "  layers.GlobalAveragePooling1D(),\n",
        "  layers.Dropout(0.2),\n",
        "  layers.Dense(3)])\n",
        "\n",
        "model.summary()\n",
        "\n",
        "\n",
        "\n",
        "img_file = 'model_arch.png'\n",
        "tf.keras.utils.plot_model(model, to_file=img_file, show_shapes=True, show_layer_names=True)"
      ]
    },
    {
      "cell_type": "code",
      "execution_count": null,
      "metadata": {
        "id": "59mEoZIlujif"
      },
      "outputs": [],
      "source": [
        "#model.compile(loss=losses.SparseCategoricalCrossentropy(from_logits=True),\n",
        "#              optimizer='adam',\n",
        "#              metrics=tf.metrics.Accuracy())\n",
        "\n",
        "\n"
      ]
    },
    {
      "cell_type": "code",
      "execution_count": 38,
      "metadata": {
        "id": "ZZ4gSBNyyBgl"
      },
      "outputs": [],
      "source": [
        "model.compile(loss = losses.SparseCategoricalCrossentropy(from_logits=True), optimizer = 'adam', metrics = ['accuracy'])"
      ]
    },
    {
      "cell_type": "code",
      "execution_count": 39,
      "metadata": {
        "colab": {
          "base_uri": "https://localhost:8080/"
        },
        "id": "S4gEVVopw1Di",
        "outputId": "42a2cf7c-6c1d-42b8-8e03-1c997048f360"
      },
      "outputs": [
        {
          "output_type": "stream",
          "name": "stdout",
          "text": [
            "Epoch 1/150\n",
            "15/15 [==============================] - 11s 703ms/step - loss: 1.1006 - accuracy: 0.3313 - val_loss: 1.0994 - val_accuracy: 0.3167\n",
            "Epoch 2/150\n",
            "15/15 [==============================] - 0s 9ms/step - loss: 1.0986 - accuracy: 0.3271 - val_loss: 1.0987 - val_accuracy: 0.3167\n",
            "Epoch 3/150\n",
            "15/15 [==============================] - 0s 11ms/step - loss: 1.0979 - accuracy: 0.3292 - val_loss: 1.0980 - val_accuracy: 0.3167\n",
            "Epoch 4/150\n",
            "15/15 [==============================] - 0s 11ms/step - loss: 1.0972 - accuracy: 0.3458 - val_loss: 1.0973 - val_accuracy: 0.3167\n",
            "Epoch 5/150\n",
            "15/15 [==============================] - 0s 9ms/step - loss: 1.0961 - accuracy: 0.3833 - val_loss: 1.0969 - val_accuracy: 0.3167\n",
            "Epoch 6/150\n",
            "15/15 [==============================] - 0s 10ms/step - loss: 1.0954 - accuracy: 0.3938 - val_loss: 1.0964 - val_accuracy: 0.3167\n",
            "Epoch 7/150\n",
            "15/15 [==============================] - 0s 10ms/step - loss: 1.0948 - accuracy: 0.3792 - val_loss: 1.0960 - val_accuracy: 0.3167\n",
            "Epoch 8/150\n",
            "15/15 [==============================] - 0s 9ms/step - loss: 1.0938 - accuracy: 0.3917 - val_loss: 1.0955 - val_accuracy: 0.3167\n",
            "Epoch 9/150\n",
            "15/15 [==============================] - 0s 9ms/step - loss: 1.0928 - accuracy: 0.4083 - val_loss: 1.0950 - val_accuracy: 0.3167\n",
            "Epoch 10/150\n",
            "15/15 [==============================] - 0s 10ms/step - loss: 1.0922 - accuracy: 0.4042 - val_loss: 1.0945 - val_accuracy: 0.3167\n",
            "Epoch 11/150\n",
            "15/15 [==============================] - 0s 9ms/step - loss: 1.0918 - accuracy: 0.4229 - val_loss: 1.0938 - val_accuracy: 0.3250\n",
            "Epoch 12/150\n",
            "15/15 [==============================] - 0s 10ms/step - loss: 1.0904 - accuracy: 0.4625 - val_loss: 1.0932 - val_accuracy: 0.3333\n",
            "Epoch 13/150\n",
            "15/15 [==============================] - 0s 9ms/step - loss: 1.0905 - accuracy: 0.4583 - val_loss: 1.0924 - val_accuracy: 0.3667\n",
            "Epoch 14/150\n",
            "15/15 [==============================] - 0s 10ms/step - loss: 1.0875 - accuracy: 0.5417 - val_loss: 1.0917 - val_accuracy: 0.4083\n",
            "Epoch 15/150\n",
            "15/15 [==============================] - 0s 10ms/step - loss: 1.0886 - accuracy: 0.5229 - val_loss: 1.0909 - val_accuracy: 0.4083\n",
            "Epoch 16/150\n",
            "15/15 [==============================] - 0s 10ms/step - loss: 1.0862 - accuracy: 0.5458 - val_loss: 1.0900 - val_accuracy: 0.4500\n",
            "Epoch 17/150\n",
            "15/15 [==============================] - 0s 9ms/step - loss: 1.0856 - accuracy: 0.5667 - val_loss: 1.0890 - val_accuracy: 0.5250\n",
            "Epoch 18/150\n",
            "15/15 [==============================] - 0s 11ms/step - loss: 1.0853 - accuracy: 0.5833 - val_loss: 1.0881 - val_accuracy: 0.5583\n",
            "Epoch 19/150\n",
            "15/15 [==============================] - 0s 9ms/step - loss: 1.0828 - accuracy: 0.6229 - val_loss: 1.0871 - val_accuracy: 0.5500\n",
            "Epoch 20/150\n",
            "15/15 [==============================] - 0s 10ms/step - loss: 1.0814 - accuracy: 0.6104 - val_loss: 1.0861 - val_accuracy: 0.5667\n",
            "Epoch 21/150\n",
            "15/15 [==============================] - 0s 9ms/step - loss: 1.0805 - accuracy: 0.6583 - val_loss: 1.0849 - val_accuracy: 0.6167\n",
            "Epoch 22/150\n",
            "15/15 [==============================] - 0s 10ms/step - loss: 1.0786 - accuracy: 0.6583 - val_loss: 1.0836 - val_accuracy: 0.6917\n",
            "Epoch 23/150\n",
            "15/15 [==============================] - 0s 10ms/step - loss: 1.0780 - accuracy: 0.6854 - val_loss: 1.0824 - val_accuracy: 0.6500\n",
            "Epoch 24/150\n",
            "15/15 [==============================] - 0s 10ms/step - loss: 1.0751 - accuracy: 0.6979 - val_loss: 1.0812 - val_accuracy: 0.5917\n",
            "Epoch 25/150\n",
            "15/15 [==============================] - 0s 9ms/step - loss: 1.0720 - accuracy: 0.6979 - val_loss: 1.0797 - val_accuracy: 0.5917\n",
            "Epoch 26/150\n",
            "15/15 [==============================] - 0s 17ms/step - loss: 1.0711 - accuracy: 0.6833 - val_loss: 1.0781 - val_accuracy: 0.6333\n",
            "Epoch 27/150\n",
            "15/15 [==============================] - 0s 15ms/step - loss: 1.0680 - accuracy: 0.7417 - val_loss: 1.0765 - val_accuracy: 0.6083\n",
            "Epoch 28/150\n",
            "15/15 [==============================] - 0s 16ms/step - loss: 1.0679 - accuracy: 0.7083 - val_loss: 1.0748 - val_accuracy: 0.6583\n",
            "Epoch 29/150\n",
            "15/15 [==============================] - 0s 14ms/step - loss: 1.0647 - accuracy: 0.7396 - val_loss: 1.0730 - val_accuracy: 0.6917\n",
            "Epoch 30/150\n",
            "15/15 [==============================] - 0s 16ms/step - loss: 1.0601 - accuracy: 0.8021 - val_loss: 1.0711 - val_accuracy: 0.7333\n",
            "Epoch 31/150\n",
            "15/15 [==============================] - 0s 14ms/step - loss: 1.0584 - accuracy: 0.8125 - val_loss: 1.0693 - val_accuracy: 0.7000\n",
            "Epoch 32/150\n",
            "15/15 [==============================] - 0s 13ms/step - loss: 1.0573 - accuracy: 0.7792 - val_loss: 1.0675 - val_accuracy: 0.6583\n",
            "Epoch 33/150\n",
            "15/15 [==============================] - 0s 15ms/step - loss: 1.0539 - accuracy: 0.7479 - val_loss: 1.0654 - val_accuracy: 0.6500\n",
            "Epoch 34/150\n",
            "15/15 [==============================] - 0s 14ms/step - loss: 1.0490 - accuracy: 0.8000 - val_loss: 1.0630 - val_accuracy: 0.7083\n",
            "Epoch 35/150\n",
            "15/15 [==============================] - 0s 14ms/step - loss: 1.0471 - accuracy: 0.8313 - val_loss: 1.0606 - val_accuracy: 0.7417\n",
            "Epoch 36/150\n",
            "15/15 [==============================] - 0s 15ms/step - loss: 1.0438 - accuracy: 0.8458 - val_loss: 1.0580 - val_accuracy: 0.7500\n",
            "Epoch 37/150\n",
            "15/15 [==============================] - 0s 14ms/step - loss: 1.0392 - accuracy: 0.8792 - val_loss: 1.0554 - val_accuracy: 0.7583\n",
            "Epoch 38/150\n",
            "15/15 [==============================] - 0s 15ms/step - loss: 1.0367 - accuracy: 0.8687 - val_loss: 1.0529 - val_accuracy: 0.7667\n",
            "Epoch 39/150\n",
            "15/15 [==============================] - 0s 15ms/step - loss: 1.0318 - accuracy: 0.8813 - val_loss: 1.0501 - val_accuracy: 0.7750\n",
            "Epoch 40/150\n",
            "15/15 [==============================] - 0s 11ms/step - loss: 1.0283 - accuracy: 0.8729 - val_loss: 1.0474 - val_accuracy: 0.7583\n",
            "Epoch 41/150\n",
            "15/15 [==============================] - 0s 9ms/step - loss: 1.0256 - accuracy: 0.8896 - val_loss: 1.0443 - val_accuracy: 0.7833\n",
            "Epoch 42/150\n",
            "15/15 [==============================] - 0s 12ms/step - loss: 1.0214 - accuracy: 0.9292 - val_loss: 1.0412 - val_accuracy: 0.8167\n",
            "Epoch 43/150\n",
            "15/15 [==============================] - 0s 10ms/step - loss: 1.0157 - accuracy: 0.9187 - val_loss: 1.0383 - val_accuracy: 0.7833\n",
            "Epoch 44/150\n",
            "15/15 [==============================] - 0s 9ms/step - loss: 1.0121 - accuracy: 0.9208 - val_loss: 1.0352 - val_accuracy: 0.7917\n",
            "Epoch 45/150\n",
            "15/15 [==============================] - 0s 10ms/step - loss: 1.0065 - accuracy: 0.9292 - val_loss: 1.0318 - val_accuracy: 0.7833\n",
            "Epoch 46/150\n",
            "15/15 [==============================] - 0s 9ms/step - loss: 1.0007 - accuracy: 0.9354 - val_loss: 1.0284 - val_accuracy: 0.8000\n",
            "Epoch 47/150\n",
            "15/15 [==============================] - 0s 11ms/step - loss: 0.9982 - accuracy: 0.9167 - val_loss: 1.0251 - val_accuracy: 0.7917\n",
            "Epoch 48/150\n",
            "15/15 [==============================] - 0s 11ms/step - loss: 0.9950 - accuracy: 0.9250 - val_loss: 1.0212 - val_accuracy: 0.8333\n",
            "Epoch 49/150\n",
            "15/15 [==============================] - 0s 10ms/step - loss: 0.9876 - accuracy: 0.9438 - val_loss: 1.0174 - val_accuracy: 0.8417\n",
            "Epoch 50/150\n",
            "15/15 [==============================] - 0s 10ms/step - loss: 0.9835 - accuracy: 0.9458 - val_loss: 1.0140 - val_accuracy: 0.8083\n",
            "Epoch 51/150\n",
            "15/15 [==============================] - 0s 11ms/step - loss: 0.9787 - accuracy: 0.9354 - val_loss: 1.0103 - val_accuracy: 0.8000\n",
            "Epoch 52/150\n",
            "15/15 [==============================] - 0s 11ms/step - loss: 0.9725 - accuracy: 0.9583 - val_loss: 1.0061 - val_accuracy: 0.8250\n",
            "Epoch 53/150\n",
            "15/15 [==============================] - 0s 10ms/step - loss: 0.9664 - accuracy: 0.9542 - val_loss: 1.0020 - val_accuracy: 0.8667\n",
            "Epoch 54/150\n",
            "15/15 [==============================] - 0s 9ms/step - loss: 0.9606 - accuracy: 0.9500 - val_loss: 0.9981 - val_accuracy: 0.8333\n",
            "Epoch 55/150\n",
            "15/15 [==============================] - 0s 10ms/step - loss: 0.9552 - accuracy: 0.9521 - val_loss: 0.9940 - val_accuracy: 0.8417\n",
            "Epoch 56/150\n",
            "15/15 [==============================] - 0s 9ms/step - loss: 0.9487 - accuracy: 0.9625 - val_loss: 0.9900 - val_accuracy: 0.8333\n",
            "Epoch 57/150\n",
            "15/15 [==============================] - 0s 11ms/step - loss: 0.9425 - accuracy: 0.9500 - val_loss: 0.9859 - val_accuracy: 0.8083\n",
            "Epoch 58/150\n",
            "15/15 [==============================] - 0s 10ms/step - loss: 0.9379 - accuracy: 0.9563 - val_loss: 0.9815 - val_accuracy: 0.8333\n",
            "Epoch 59/150\n",
            "15/15 [==============================] - 0s 8ms/step - loss: 0.9302 - accuracy: 0.9479 - val_loss: 0.9773 - val_accuracy: 0.8000\n",
            "Epoch 60/150\n",
            "15/15 [==============================] - 0s 9ms/step - loss: 0.9263 - accuracy: 0.9625 - val_loss: 0.9729 - val_accuracy: 0.8083\n",
            "Epoch 61/150\n",
            "15/15 [==============================] - 0s 9ms/step - loss: 0.9184 - accuracy: 0.9646 - val_loss: 0.9682 - val_accuracy: 0.8250\n",
            "Epoch 62/150\n",
            "15/15 [==============================] - 0s 10ms/step - loss: 0.9105 - accuracy: 0.9625 - val_loss: 0.9632 - val_accuracy: 0.8667\n",
            "Epoch 63/150\n",
            "15/15 [==============================] - 0s 9ms/step - loss: 0.9072 - accuracy: 0.9688 - val_loss: 0.9588 - val_accuracy: 0.8333\n",
            "Epoch 64/150\n",
            "15/15 [==============================] - 0s 10ms/step - loss: 0.8978 - accuracy: 0.9667 - val_loss: 0.9547 - val_accuracy: 0.8167\n",
            "Epoch 65/150\n",
            "15/15 [==============================] - 0s 9ms/step - loss: 0.8949 - accuracy: 0.9521 - val_loss: 0.9498 - val_accuracy: 0.8500\n",
            "Epoch 66/150\n",
            "15/15 [==============================] - 0s 9ms/step - loss: 0.8892 - accuracy: 0.9625 - val_loss: 0.9451 - val_accuracy: 0.8500\n",
            "Epoch 67/150\n",
            "15/15 [==============================] - 0s 9ms/step - loss: 0.8785 - accuracy: 0.9708 - val_loss: 0.9397 - val_accuracy: 0.8500\n",
            "Epoch 68/150\n",
            "15/15 [==============================] - 0s 10ms/step - loss: 0.8751 - accuracy: 0.9729 - val_loss: 0.9346 - val_accuracy: 0.8833\n",
            "Epoch 69/150\n",
            "15/15 [==============================] - 0s 9ms/step - loss: 0.8684 - accuracy: 0.9708 - val_loss: 0.9298 - val_accuracy: 0.8750\n",
            "Epoch 70/150\n",
            "15/15 [==============================] - 0s 9ms/step - loss: 0.8602 - accuracy: 0.9688 - val_loss: 0.9253 - val_accuracy: 0.8667\n",
            "Epoch 71/150\n",
            "15/15 [==============================] - 0s 9ms/step - loss: 0.8546 - accuracy: 0.9688 - val_loss: 0.9208 - val_accuracy: 0.8417\n",
            "Epoch 72/150\n",
            "15/15 [==============================] - 0s 11ms/step - loss: 0.8448 - accuracy: 0.9688 - val_loss: 0.9156 - val_accuracy: 0.8583\n",
            "Epoch 73/150\n",
            "15/15 [==============================] - 0s 10ms/step - loss: 0.8377 - accuracy: 0.9750 - val_loss: 0.9104 - val_accuracy: 0.8500\n",
            "Epoch 74/150\n",
            "15/15 [==============================] - 0s 10ms/step - loss: 0.8325 - accuracy: 0.9604 - val_loss: 0.9055 - val_accuracy: 0.8667\n",
            "Epoch 75/150\n",
            "15/15 [==============================] - 0s 9ms/step - loss: 0.8271 - accuracy: 0.9667 - val_loss: 0.9006 - val_accuracy: 0.8667\n",
            "Epoch 76/150\n",
            "15/15 [==============================] - 0s 10ms/step - loss: 0.8198 - accuracy: 0.9667 - val_loss: 0.8953 - val_accuracy: 0.8583\n",
            "Epoch 77/150\n",
            "15/15 [==============================] - 0s 9ms/step - loss: 0.8146 - accuracy: 0.9729 - val_loss: 0.8900 - val_accuracy: 0.8750\n",
            "Epoch 78/150\n",
            "15/15 [==============================] - 0s 10ms/step - loss: 0.8049 - accuracy: 0.9792 - val_loss: 0.8854 - val_accuracy: 0.8750\n",
            "Epoch 79/150\n",
            "15/15 [==============================] - 0s 10ms/step - loss: 0.7976 - accuracy: 0.9708 - val_loss: 0.8802 - val_accuracy: 0.8750\n",
            "Epoch 80/150\n",
            "15/15 [==============================] - 0s 9ms/step - loss: 0.7936 - accuracy: 0.9771 - val_loss: 0.8753 - val_accuracy: 0.8500\n",
            "Epoch 81/150\n",
            "15/15 [==============================] - 0s 10ms/step - loss: 0.7813 - accuracy: 0.9792 - val_loss: 0.8705 - val_accuracy: 0.8667\n",
            "Epoch 82/150\n",
            "15/15 [==============================] - 0s 9ms/step - loss: 0.7761 - accuracy: 0.9667 - val_loss: 0.8649 - val_accuracy: 0.8750\n",
            "Epoch 83/150\n",
            "15/15 [==============================] - 0s 9ms/step - loss: 0.7685 - accuracy: 0.9729 - val_loss: 0.8594 - val_accuracy: 0.8750\n",
            "Epoch 84/150\n",
            "15/15 [==============================] - 0s 10ms/step - loss: 0.7644 - accuracy: 0.9708 - val_loss: 0.8545 - val_accuracy: 0.8667\n",
            "Epoch 85/150\n",
            "15/15 [==============================] - 0s 9ms/step - loss: 0.7546 - accuracy: 0.9750 - val_loss: 0.8496 - val_accuracy: 0.8667\n",
            "Epoch 86/150\n",
            "15/15 [==============================] - 0s 10ms/step - loss: 0.7488 - accuracy: 0.9667 - val_loss: 0.8450 - val_accuracy: 0.8583\n",
            "Epoch 87/150\n",
            "15/15 [==============================] - 0s 14ms/step - loss: 0.7371 - accuracy: 0.9771 - val_loss: 0.8395 - val_accuracy: 0.8500\n",
            "Epoch 88/150\n",
            "15/15 [==============================] - 0s 14ms/step - loss: 0.7327 - accuracy: 0.9729 - val_loss: 0.8343 - val_accuracy: 0.8583\n",
            "Epoch 89/150\n",
            "15/15 [==============================] - 0s 15ms/step - loss: 0.7265 - accuracy: 0.9792 - val_loss: 0.8291 - val_accuracy: 0.8667\n",
            "Epoch 90/150\n",
            "15/15 [==============================] - 0s 15ms/step - loss: 0.7235 - accuracy: 0.9708 - val_loss: 0.8238 - val_accuracy: 0.8750\n",
            "Epoch 91/150\n",
            "15/15 [==============================] - 0s 15ms/step - loss: 0.7066 - accuracy: 0.9729 - val_loss: 0.8190 - val_accuracy: 0.8750\n",
            "Epoch 92/150\n",
            "15/15 [==============================] - 0s 14ms/step - loss: 0.7060 - accuracy: 0.9708 - val_loss: 0.8140 - val_accuracy: 0.8667\n",
            "Epoch 93/150\n",
            "15/15 [==============================] - 0s 15ms/step - loss: 0.7004 - accuracy: 0.9667 - val_loss: 0.8093 - val_accuracy: 0.8583\n",
            "Epoch 94/150\n",
            "15/15 [==============================] - 0s 13ms/step - loss: 0.6936 - accuracy: 0.9708 - val_loss: 0.8036 - val_accuracy: 0.8750\n",
            "Epoch 95/150\n",
            "15/15 [==============================] - 0s 15ms/step - loss: 0.6896 - accuracy: 0.9792 - val_loss: 0.7986 - val_accuracy: 0.8833\n",
            "Epoch 96/150\n",
            "15/15 [==============================] - 0s 15ms/step - loss: 0.6830 - accuracy: 0.9750 - val_loss: 0.7939 - val_accuracy: 0.8833\n",
            "Epoch 97/150\n",
            "15/15 [==============================] - 0s 13ms/step - loss: 0.6800 - accuracy: 0.9771 - val_loss: 0.7890 - val_accuracy: 0.8833\n",
            "Epoch 98/150\n",
            "15/15 [==============================] - 0s 13ms/step - loss: 0.6626 - accuracy: 0.9854 - val_loss: 0.7841 - val_accuracy: 0.8667\n",
            "Epoch 99/150\n",
            "15/15 [==============================] - 0s 14ms/step - loss: 0.6541 - accuracy: 0.9729 - val_loss: 0.7793 - val_accuracy: 0.8667\n",
            "Epoch 100/150\n",
            "15/15 [==============================] - 0s 14ms/step - loss: 0.6479 - accuracy: 0.9854 - val_loss: 0.7746 - val_accuracy: 0.8667\n",
            "Epoch 101/150\n",
            "15/15 [==============================] - 0s 9ms/step - loss: 0.6451 - accuracy: 0.9771 - val_loss: 0.7696 - val_accuracy: 0.8667\n",
            "Epoch 102/150\n",
            "15/15 [==============================] - 0s 10ms/step - loss: 0.6374 - accuracy: 0.9771 - val_loss: 0.7643 - val_accuracy: 0.8667\n",
            "Epoch 103/150\n",
            "15/15 [==============================] - 0s 10ms/step - loss: 0.6353 - accuracy: 0.9792 - val_loss: 0.7600 - val_accuracy: 0.8667\n",
            "Epoch 104/150\n",
            "15/15 [==============================] - 0s 10ms/step - loss: 0.6268 - accuracy: 0.9792 - val_loss: 0.7556 - val_accuracy: 0.8750\n",
            "Epoch 105/150\n",
            "15/15 [==============================] - 0s 10ms/step - loss: 0.6160 - accuracy: 0.9750 - val_loss: 0.7510 - val_accuracy: 0.8667\n",
            "Epoch 106/150\n",
            "15/15 [==============================] - 0s 9ms/step - loss: 0.6116 - accuracy: 0.9771 - val_loss: 0.7457 - val_accuracy: 0.8750\n",
            "Epoch 107/150\n",
            "15/15 [==============================] - 0s 11ms/step - loss: 0.6042 - accuracy: 0.9833 - val_loss: 0.7408 - val_accuracy: 0.8750\n",
            "Epoch 108/150\n",
            "15/15 [==============================] - 0s 10ms/step - loss: 0.6002 - accuracy: 0.9812 - val_loss: 0.7364 - val_accuracy: 0.8750\n",
            "Epoch 109/150\n",
            "15/15 [==============================] - 0s 9ms/step - loss: 0.5971 - accuracy: 0.9792 - val_loss: 0.7316 - val_accuracy: 0.8750\n",
            "Epoch 110/150\n",
            "15/15 [==============================] - 0s 9ms/step - loss: 0.5881 - accuracy: 0.9833 - val_loss: 0.7272 - val_accuracy: 0.8750\n",
            "Epoch 111/150\n",
            "15/15 [==============================] - 0s 10ms/step - loss: 0.5845 - accuracy: 0.9833 - val_loss: 0.7225 - val_accuracy: 0.8750\n",
            "Epoch 112/150\n",
            "15/15 [==============================] - 0s 10ms/step - loss: 0.5713 - accuracy: 0.9833 - val_loss: 0.7180 - val_accuracy: 0.8833\n",
            "Epoch 113/150\n",
            "15/15 [==============================] - 0s 10ms/step - loss: 0.5689 - accuracy: 0.9833 - val_loss: 0.7137 - val_accuracy: 0.8750\n",
            "Epoch 114/150\n",
            "15/15 [==============================] - 0s 11ms/step - loss: 0.5642 - accuracy: 0.9771 - val_loss: 0.7093 - val_accuracy: 0.8667\n",
            "Epoch 115/150\n",
            "15/15 [==============================] - 0s 10ms/step - loss: 0.5594 - accuracy: 0.9812 - val_loss: 0.7044 - val_accuracy: 0.8667\n",
            "Epoch 116/150\n",
            "15/15 [==============================] - 0s 10ms/step - loss: 0.5531 - accuracy: 0.9833 - val_loss: 0.7004 - val_accuracy: 0.8667\n",
            "Epoch 117/150\n",
            "15/15 [==============================] - 0s 11ms/step - loss: 0.5456 - accuracy: 0.9812 - val_loss: 0.6958 - val_accuracy: 0.8667\n",
            "Epoch 118/150\n",
            "15/15 [==============================] - 0s 10ms/step - loss: 0.5406 - accuracy: 0.9792 - val_loss: 0.6917 - val_accuracy: 0.8667\n",
            "Epoch 119/150\n",
            "15/15 [==============================] - 0s 10ms/step - loss: 0.5289 - accuracy: 0.9792 - val_loss: 0.6870 - val_accuracy: 0.8750\n",
            "Epoch 120/150\n",
            "15/15 [==============================] - 0s 10ms/step - loss: 0.5289 - accuracy: 0.9792 - val_loss: 0.6832 - val_accuracy: 0.8750\n",
            "Epoch 121/150\n",
            "15/15 [==============================] - 0s 10ms/step - loss: 0.5248 - accuracy: 0.9792 - val_loss: 0.6791 - val_accuracy: 0.8750\n",
            "Epoch 122/150\n",
            "15/15 [==============================] - 0s 10ms/step - loss: 0.5215 - accuracy: 0.9833 - val_loss: 0.6747 - val_accuracy: 0.8833\n",
            "Epoch 123/150\n",
            "15/15 [==============================] - 0s 9ms/step - loss: 0.5135 - accuracy: 0.9875 - val_loss: 0.6702 - val_accuracy: 0.8833\n",
            "Epoch 124/150\n",
            "15/15 [==============================] - 0s 12ms/step - loss: 0.5086 - accuracy: 0.9833 - val_loss: 0.6665 - val_accuracy: 0.8833\n",
            "Epoch 125/150\n",
            "15/15 [==============================] - 0s 10ms/step - loss: 0.5020 - accuracy: 0.9875 - val_loss: 0.6626 - val_accuracy: 0.8750\n",
            "Epoch 126/150\n",
            "15/15 [==============================] - 0s 11ms/step - loss: 0.4954 - accuracy: 0.9771 - val_loss: 0.6586 - val_accuracy: 0.8750\n",
            "Epoch 127/150\n",
            "15/15 [==============================] - 0s 10ms/step - loss: 0.4898 - accuracy: 0.9833 - val_loss: 0.6551 - val_accuracy: 0.8667\n",
            "Epoch 128/150\n",
            "15/15 [==============================] - 0s 10ms/step - loss: 0.4827 - accuracy: 0.9854 - val_loss: 0.6508 - val_accuracy: 0.8750\n",
            "Epoch 129/150\n",
            "15/15 [==============================] - 0s 9ms/step - loss: 0.4829 - accuracy: 0.9833 - val_loss: 0.6466 - val_accuracy: 0.8750\n",
            "Epoch 130/150\n",
            "15/15 [==============================] - 0s 10ms/step - loss: 0.4765 - accuracy: 0.9812 - val_loss: 0.6426 - val_accuracy: 0.8750\n",
            "Epoch 131/150\n",
            "15/15 [==============================] - 0s 10ms/step - loss: 0.4705 - accuracy: 0.9875 - val_loss: 0.6393 - val_accuracy: 0.8833\n",
            "Epoch 132/150\n",
            "15/15 [==============================] - 0s 9ms/step - loss: 0.4645 - accuracy: 0.9833 - val_loss: 0.6355 - val_accuracy: 0.8833\n",
            "Epoch 133/150\n",
            "15/15 [==============================] - 0s 9ms/step - loss: 0.4672 - accuracy: 0.9854 - val_loss: 0.6307 - val_accuracy: 0.8833\n",
            "Epoch 134/150\n",
            "15/15 [==============================] - 0s 10ms/step - loss: 0.4595 - accuracy: 0.9875 - val_loss: 0.6276 - val_accuracy: 0.8833\n",
            "Epoch 135/150\n",
            "15/15 [==============================] - 0s 10ms/step - loss: 0.4531 - accuracy: 0.9833 - val_loss: 0.6242 - val_accuracy: 0.8833\n",
            "Epoch 136/150\n",
            "15/15 [==============================] - 0s 9ms/step - loss: 0.4436 - accuracy: 0.9833 - val_loss: 0.6199 - val_accuracy: 0.8750\n",
            "Epoch 137/150\n",
            "15/15 [==============================] - 0s 10ms/step - loss: 0.4395 - accuracy: 0.9833 - val_loss: 0.6159 - val_accuracy: 0.8833\n",
            "Epoch 138/150\n",
            "15/15 [==============================] - 0s 9ms/step - loss: 0.4367 - accuracy: 0.9854 - val_loss: 0.6125 - val_accuracy: 0.8833\n",
            "Epoch 139/150\n",
            "15/15 [==============================] - 0s 11ms/step - loss: 0.4329 - accuracy: 0.9854 - val_loss: 0.6094 - val_accuracy: 0.8833\n",
            "Epoch 140/150\n",
            "15/15 [==============================] - 0s 9ms/step - loss: 0.4318 - accuracy: 0.9854 - val_loss: 0.6053 - val_accuracy: 0.8833\n",
            "Epoch 141/150\n",
            "15/15 [==============================] - 0s 10ms/step - loss: 0.4257 - accuracy: 0.9854 - val_loss: 0.6021 - val_accuracy: 0.8833\n",
            "Epoch 142/150\n",
            "15/15 [==============================] - 0s 10ms/step - loss: 0.4216 - accuracy: 0.9875 - val_loss: 0.5987 - val_accuracy: 0.8833\n",
            "Epoch 143/150\n",
            "15/15 [==============================] - 0s 11ms/step - loss: 0.4206 - accuracy: 0.9854 - val_loss: 0.5955 - val_accuracy: 0.8833\n",
            "Epoch 144/150\n",
            "15/15 [==============================] - 0s 16ms/step - loss: 0.4089 - accuracy: 0.9854 - val_loss: 0.5923 - val_accuracy: 0.8833\n",
            "Epoch 145/150\n",
            "15/15 [==============================] - 0s 15ms/step - loss: 0.4036 - accuracy: 0.9812 - val_loss: 0.5888 - val_accuracy: 0.8833\n",
            "Epoch 146/150\n",
            "15/15 [==============================] - 0s 17ms/step - loss: 0.4007 - accuracy: 0.9854 - val_loss: 0.5849 - val_accuracy: 0.8833\n",
            "Epoch 147/150\n",
            "15/15 [==============================] - 0s 14ms/step - loss: 0.3973 - accuracy: 0.9854 - val_loss: 0.5818 - val_accuracy: 0.8833\n",
            "Epoch 148/150\n",
            "15/15 [==============================] - 1s 37ms/step - loss: 0.3972 - accuracy: 0.9854 - val_loss: 0.5790 - val_accuracy: 0.8833\n",
            "Epoch 149/150\n",
            "15/15 [==============================] - 0s 23ms/step - loss: 0.3882 - accuracy: 0.9833 - val_loss: 0.5756 - val_accuracy: 0.8833\n",
            "Epoch 150/150\n",
            "15/15 [==============================] - 0s 15ms/step - loss: 0.3824 - accuracy: 0.9875 - val_loss: 0.5723 - val_accuracy: 0.8833\n"
          ]
        }
      ],
      "source": [
        "epochs = 150\n",
        "history = model.fit(\n",
        "    train_ds,\n",
        "    validation_data=val_ds,\n",
        "    epochs=epochs)"
      ]
    },
    {
      "cell_type": "code",
      "source": [
        "#model.save('/content/MODEL_TYO/MODEL_TYO_2')"
      ],
      "metadata": {
        "id": "zvNWlry8sfDp"
      },
      "execution_count": null,
      "outputs": []
    },
    {
      "cell_type": "code",
      "execution_count": 40,
      "metadata": {
        "colab": {
          "base_uri": "https://localhost:8080/"
        },
        "id": "-zzNKpPQyqfP",
        "outputId": "ac66221a-22a8-40a0-8abf-041948b67783"
      },
      "outputs": [
        {
          "output_type": "stream",
          "name": "stdout",
          "text": [
            "5/5 [==============================] - 16s 9ms/step - loss: 0.7787 - accuracy: 0.7908\n",
            "Loss:  0.7787063717842102\n",
            "Accuracy:  0.7908496856689453\n"
          ]
        }
      ],
      "source": [
        "loss, accuracy = model.evaluate(test_ds)\n",
        "\n",
        "print(\"Loss: \", loss)\n",
        "print(\"Accuracy: \", accuracy)"
      ]
    },
    {
      "cell_type": "code",
      "execution_count": 41,
      "metadata": {
        "colab": {
          "base_uri": "https://localhost:8080/"
        },
        "id": "yHnCO_T5y3PP",
        "outputId": "2f6ccbef-35dc-48e5-85f0-9b6189a84905"
      },
      "outputs": [
        {
          "output_type": "execute_result",
          "data": {
            "text/plain": [
              "dict_keys(['loss', 'accuracy', 'val_loss', 'val_accuracy'])"
            ]
          },
          "metadata": {},
          "execution_count": 41
        }
      ],
      "source": [
        "history_dict = history.history\n",
        "history_dict.keys()"
      ]
    },
    {
      "cell_type": "code",
      "execution_count": 42,
      "metadata": {
        "colab": {
          "base_uri": "https://localhost:8080/",
          "height": 295
        },
        "id": "WOaRHa-LzKZW",
        "outputId": "7862430f-35fc-49bc-bc98-fc2dcde39a29"
      },
      "outputs": [
        {
          "output_type": "display_data",
          "data": {
            "text/plain": [
              "<Figure size 432x288 with 1 Axes>"
            ],
            "image/png": "[encoded data removed]"
          },
          "metadata": {
            "needs_background": "light"
          }
        }
      ],
      "source": [
        "acc = history_dict['accuracy']\n",
        "val_acc = history_dict['val_accuracy']\n",
        "loss = history_dict['loss']\n",
        "val_loss = history_dict['val_loss']\n",
        "\n",
        "epochs = range(1, len(acc) + 1)\n",
        "\n",
        "# \"bo\" is for \"blue dot\"\n",
        "plt.plot(epochs, loss, 'bo', label='Training loss')\n",
        "# b is for \"solid blue line\"\n",
        "plt.plot(epochs, val_loss, 'b', label='Validation loss')\n",
        "plt.title('Training and validation loss')\n",
        "plt.xlabel('Epochs')\n",
        "plt.ylabel('Loss')\n",
        "plt.legend()\n",
        "\n",
        "plt.show()"
      ]
    },
    {
      "cell_type": "code",
      "execution_count": 43,
      "metadata": {
        "colab": {
          "base_uri": "https://localhost:8080/",
          "height": 295
        },
        "id": "Y6yr7YCyzRPz",
        "outputId": "332f0b72-4b52-483e-fd4d-ec981026362f"
      },
      "outputs": [
        {
          "output_type": "display_data",
          "data": {
            "text/plain": [
              "<Figure size 432x288 with 1 Axes>"
            ],
            "image/png": "[encoded data removed]"
          },
          "metadata": {
            "needs_background": "light"
          }
        }
      ],
      "source": [
        "plt.plot(epochs, acc, 'bo', label='Training acc')\n",
        "plt.plot(epochs, val_acc, 'b', label='Validation acc')\n",
        "plt.title('Training and validation accuracy')\n",
        "plt.xlabel('Epochs')\n",
        "plt.ylabel('Accuracy')\n",
        "plt.legend(loc='lower right')\n",
        "\n",
        "plt.show()"
      ]
    },
    {
      "cell_type": "code",
      "execution_count": 44,
      "metadata": {
        "colab": {
          "base_uri": "https://localhost:8080/"
        },
        "id": "1JG4H59HzcOh",
        "outputId": "bed5f922-f593-4a85-f196-71b5fc5ff345"
      },
      "outputs": [
        {
          "output_type": "stream",
          "name": "stderr",
          "text": [
            "/usr/local/lib/python3.8/dist-packages/keras/backend.py:5585: UserWarning: \"`sparse_categorical_crossentropy` received `from_logits=True`, but the `output` argument was produced by a Softmax activation and thus does not represent logits. Was this intended?\n",
            "  output, from_logits = _get_logits(\n"
          ]
        },
        {
          "output_type": "stream",
          "name": "stdout",
          "text": [
            "5/5 [==============================] - 1s 6ms/step - loss: 0.7787 - accuracy: 0.7908\n",
            "0.7908496856689453\n"
          ]
        }
      ],
      "source": [
        "export_model = tf.keras.Sequential([\n",
        "  vectorize_layer,\n",
        "  model,\n",
        "  layers.Activation('softmax')\n",
        "])\n",
        "export_model.compile(loss = losses.SparseCategoricalCrossentropy(from_logits=True), optimizer = 'adam', metrics = ['accuracy'])\n",
        "\n",
        "\n",
        "\n",
        "# Test it with `raw_test_ds`, which yields raw strings\n",
        "loss, accuracy = export_model.evaluate(raw_test_ds)\n",
        "print(accuracy)"
      ]
    },
    {
      "cell_type": "code",
      "execution_count": 45,
      "metadata": {
        "colab": {
          "base_uri": "https://localhost:8080/"
        },
        "id": "lx12nIIi7luJ",
        "outputId": "c73751df-cf13-4fc3-bbd0-6c9e7919a50f"
      },
      "outputs": [
        {
          "output_type": "execute_result",
          "data": {
            "text/plain": [
              "['EKO', 'HEL', 'OLA']"
            ]
          },
          "metadata": {},
          "execution_count": 45
        }
      ],
      "source": [
        "['EKO', 'HEL', 'OLA']"
      ]
    },
    {
      "cell_type": "markdown",
      "source": [
        "# PREDIKSI"
      ],
      "metadata": {
        "id": "XRa2FY4q0Ovo"
      }
    },
    {
      "cell_type": "code",
      "execution_count": 46,
      "metadata": {
        "colab": {
          "base_uri": "https://localhost:8080/"
        },
        "id": "f-_agyAv7Rwx",
        "outputId": "97ce5d2f-f6fd-4f76-f809-0ff71d6d0861"
      },
      "outputs": [
        {
          "output_type": "stream",
          "name": "stdout",
          "text": [
            "1/1 [==============================] - 0s 249ms/step\n"
          ]
        },
        {
          "output_type": "execute_result",
          "data": {
            "text/plain": [
              "array([[0.21300887, 0.3387079 , 0.44828326],\n",
              "       [0.4073085 , 0.34388408, 0.24880739],\n",
              "       [0.3781185 , 0.4407347 , 0.1811468 ],\n",
              "       [0.4019328 , 0.3942808 , 0.20378631],\n",
              "       [0.42967907, 0.31392553, 0.25639543],\n",
              "       [0.47592184, 0.31425357, 0.20982459]], dtype=float32)"
            ]
          },
          "metadata": {},
          "execution_count": 46
        }
      ],
      "source": [
        "examples = [\"MotoGP 2015 akan dikenang sebagai salah satu yang paling sengit dalam gelaran kejuaraan dunia balap motor grand prix\",\n",
        "            \"Ida Fauziyah menargetkan penyaluran Bantuan Subsidi Upah (BSU) atau BLT Gaji melalui PT Pos\",\n",
        "            \"Teknik Dasar Jalan Cepat, Sejarah, dan Manfaat untuk Kesehatan\",\n",
        "            \"Covid-19 akan meningkat apabila masayarakat tidak patuh protokol kesehatan\",\n",
        "            \"Rencana Impor KRL Bekas: Didukung Erick Thohir, Belum Direstui Kemenperin\",\n",
        "            \"Inflasi Indonesia Naik Lagi pada Februari 2023\"]\n",
        "\n",
        "\n",
        "#for x in examples:\n",
        "export_model.predict(examples)"
      ]
    },
    {
      "cell_type": "markdown",
      "source": [
        "# FUNGSI UNTUK MEMBUAT VISUALISASI GRAFIK PIE CHART"
      ],
      "metadata": {
        "id": "mE-x8RyaSAXX"
      }
    },
    {
      "cell_type": "code",
      "source": [
        "def Pie_Chart_Visualization(x):\n",
        "\n",
        "          # Pie chart, where the slices will be ordered and plotted counter-clockwise:\n",
        "          labels = ['EKO', 'HEL', 'OLA']\n",
        "          sizes = export_model.predict(examples)[x].tolist()\n",
        "          explode = (0, 0, 0)  # only \"explode\" the 2nd slice (i.e. 'Hogs')\n",
        "\n",
        "          fig1, ax1 = plt.subplots()\n",
        "          ax1.pie(sizes, explode=explode, labels=labels, autopct='%1.1f%%',\n",
        "                  shadow=True, startangle=90)\n",
        "          ax1.axis('equal')  # Equal aspect ratio ensures that pie is drawn as a circle.\n",
        "\n",
        "          plt.show()"
      ],
      "metadata": {
        "id": "PB33J9xkZL9I"
      },
      "execution_count": 47,
      "outputs": []
    },
    {
      "cell_type": "markdown",
      "source": [
        "# PENGUJIAN PROSENATASE PREDIKSI DALAM BENTUK GRAFIK DARI DATA SAMPLE"
      ],
      "metadata": {
        "id": "Huil3hFtR0ND"
      }
    },
    {
      "cell_type": "code",
      "source": [
        "for x in range(len(examples)):\n",
        "  display(examples[x])\n",
        "  display(Pie_Chart_Visualization(x))\n",
        "  print('')"
      ],
      "metadata": {
        "colab": {
          "base_uri": "https://localhost:8080/",
          "height": 1000
        },
        "id": "uxUAum5AigpU",
        "outputId": "ad0b8fdf-2c89-486c-aa16-18842b5b83dd"
      },
      "execution_count": 48,
      "outputs": [
        {
          "output_type": "display_data",
          "data": {
            "text/plain": [
              "'MotoGP 2015 akan dikenang sebagai salah satu yang paling sengit dalam gelaran kejuaraan dunia balap motor grand prix'"
            ],
            "application/vnd.google.colaboratory.intrinsic+json": {
              "type": "string"
            }
          },
          "metadata": {}
        },
        {
          "output_type": "stream",
          "name": "stdout",
          "text": [
            "1/1 [==============================] - 0s 47ms/step\n"
          ]
        },
        {
          "output_type": "display_data",
          "data": {
            "text/plain": [
              "<Figure size 432x288 with 1 Axes>"
            ],
            "image/png": "[encoded data removed]"
          },
          "metadata": {}
        },
        {
          "output_type": "display_data",
          "data": {
            "text/plain": [
              "None"
            ]
          },
          "metadata": {}
        },
        {
          "output_type": "stream",
          "name": "stdout",
          "text": [
            "\n"
          ]
        },
        {
          "output_type": "display_data",
          "data": {
            "text/plain": [
              "'Ida Fauziyah menargetkan penyaluran Bantuan Subsidi Upah (BSU) atau BLT Gaji melalui PT Pos'"
            ],
            "application/vnd.google.colaboratory.intrinsic+json": {
              "type": "string"
            }
          },
          "metadata": {}
        },
        {
          "output_type": "stream",
          "name": "stdout",
          "text": [
            "1/1 [==============================] - 0s 46ms/step\n"
          ]
        },
        {
          "output_type": "display_data",
          "data": {
            "text/plain": [
              "<Figure size 432x288 with 1 Axes>"
            ],
            "image/png": "[encoded data removed]"
          },
          "metadata": {}
        },
        {
          "output_type": "display_data",
          "data": {
            "text/plain": [
              "None"
            ]
          },
          "metadata": {}
        },
        {
          "output_type": "stream",
          "name": "stdout",
          "text": [
            "\n"
          ]
        },
        {
          "output_type": "display_data",
          "data": {
            "text/plain": [
              "'Teknik Dasar Jalan Cepat, Sejarah, dan Manfaat untuk Kesehatan'"
            ],
            "application/vnd.google.colaboratory.intrinsic+json": {
              "type": "string"
            }
          },
          "metadata": {}
        },
        {
          "output_type": "stream",
          "name": "stdout",
          "text": [
            "1/1 [==============================] - 0s 49ms/step\n"
          ]
        },
        {
          "output_type": "display_data",
          "data": {
            "text/plain": [
              "<Figure size 432x288 with 1 Axes>"
            ],
            "image/png": "[encoded data removed]"
          },
          "metadata": {}
        },
        {
          "output_type": "display_data",
          "data": {
            "text/plain": [
              "None"
            ]
          },
          "metadata": {}
        },
        {
          "output_type": "stream",
          "name": "stdout",
          "text": [
            "\n"
          ]
        },
        {
          "output_type": "display_data",
          "data": {
            "text/plain": [
              "'Covid-19 akan meningkat apabila masayarakat tidak patuh protokol kesehatan'"
            ],
            "application/vnd.google.colaboratory.intrinsic+json": {
              "type": "string"
            }
          },
          "metadata": {}
        },
        {
          "output_type": "stream",
          "name": "stdout",
          "text": [
            "1/1 [==============================] - 0s 46ms/step\n"
          ]
        },
        {
          "output_type": "display_data",
          "data": {
            "text/plain": [
              "<Figure size 432x288 with 1 Axes>"
            ],
            "image/png": "[encoded data removed]"
          },
          "metadata": {}
        },
        {
          "output_type": "display_data",
          "data": {
            "text/plain": [
              "None"
            ]
          },
          "metadata": {}
        },
        {
          "output_type": "stream",
          "name": "stdout",
          "text": [
            "\n"
          ]
        },
        {
          "output_type": "display_data",
          "data": {
            "text/plain": [
              "'Rencana Impor KRL Bekas: Didukung Erick Thohir, Belum Direstui Kemenperin'"
            ],
            "application/vnd.google.colaboratory.intrinsic+json": {
              "type": "string"
            }
          },
          "metadata": {}
        },
        {
          "output_type": "stream",
          "name": "stdout",
          "text": [
            "1/1 [==============================] - 0s 70ms/step\n"
          ]
        },
        {
          "output_type": "display_data",
          "data": {
            "text/plain": [
              "<Figure size 432x288 with 1 Axes>"
            ],
            "image/png": "[encoded data removed]"
          },
          "metadata": {}
        },
        {
          "output_type": "display_data",
          "data": {
            "text/plain": [
              "None"
            ]
          },
          "metadata": {}
        },
        {
          "output_type": "stream",
          "name": "stdout",
          "text": [
            "\n"
          ]
        },
        {
          "output_type": "display_data",
          "data": {
            "text/plain": [
              "'Inflasi Indonesia Naik Lagi pada Februari 2023'"
            ],
            "application/vnd.google.colaboratory.intrinsic+json": {
              "type": "string"
            }
          },
          "metadata": {}
        },
        {
          "output_type": "stream",
          "name": "stdout",
          "text": [
            "1/1 [==============================] - 0s 64ms/step\n"
          ]
        },
        {
          "output_type": "display_data",
          "data": {
            "text/plain": [
              "<Figure size 432x288 with 1 Axes>"
            ],
            "image/png": "[encoded data removed]"
          },
          "metadata": {}
        },
        {
          "output_type": "display_data",
          "data": {
            "text/plain": [
              "None"
            ]
          },
          "metadata": {}
        },
        {
          "output_type": "stream",
          "name": "stdout",
          "text": [
            "\n"
          ]
        }
      ]
    },
    {
      "cell_type": "markdown",
      "source": [
        "# CONFUSION MATRIX SEBAGAI TAMBAHAN PENDUKUNG UNTUK MEPERJELAS VISUALISASI DIATAS"
      ],
      "metadata": {
        "id": "xng6nwmSS7Nm"
      }
    },
    {
      "cell_type": "markdown",
      "source": [
        "# CONFUSION MATRIX WITH SKLEARN DARI DATA EXAMPLE PREDIKSI DIATAS"
      ],
      "metadata": {
        "id": "SYvcxRgI6VIv"
      }
    },
    {
      "cell_type": "code",
      "source": [
        "KNOWLDEGE = '''\n",
        "examples = [\"MotoGP 2015 akan dikenang sebagai salah satu yang paling sengit dalam gelaran kejuaraan dunia balap motor grand prix\",\n",
        "            \"Ida Fauziyah menargetkan penyaluran Bantuan Subsidi Upah (BSU) atau BLT Gaji melalui PT Pos\",\n",
        "            \"Teknik Dasar Jalan Cepat, Sejarah, dan Manfaat untuk Kesehatan\",\n",
        "            \"Covid-19 akan meningkat apabila masayarakat tidak patuh protokol kesehatan\",\n",
        "            \"Rencana Impor KRL Bekas: Didukung Erick Thohir, Belum Direstui Kemenperin\",\n",
        "            \"Inflasi Indonesia Naik Lagi pada Februari 2023\"]\n",
        "\n",
        "\n",
        "array([[0.2787188 , 0.2602841 , 0.46099707],\n",
        "       [0.35545906, 0.38726214, 0.2572788 ],\n",
        "       [0.34048846, 0.5059424 , 0.1535691 ],\n",
        "       [0.36652344, 0.4425247 , 0.19095181],\n",
        "       [0.38142797, 0.33325955, 0.28531247],\n",
        "       [0.39142797, 0.32325955, 0.28531247],], dtype=float32)    \n",
        "\n",
        "'''               \n",
        "\n",
        "\n",
        "\n",
        "y_value_true = [2,1,1,1,0,0]  # Knowledge dari user/peneliti\n",
        "x_value_pred = [2,1,1,1,0,0]  # Value dari nilai prdiksi diambil prosentasi terbesar     \n",
        "LABEL = ['EKO', 'HEL', 'OLA']    \n",
        "\n"
      ],
      "metadata": {
        "id": "WU73XALk6UUh"
      },
      "execution_count": 49,
      "outputs": []
    },
    {
      "cell_type": "code",
      "source": [
        "from sklearn.metrics import confusion_matrix\n",
        "\n",
        "conf_matrix = confusion_matrix(y_value_true, x_value_pred)\n",
        "#conf_matrix = confusion_matrix([2,1,1,1,0,1], [2,1,1,1,0,0])\n",
        "print(conf_matrix)\n",
        "\n",
        "\n",
        "sns.heatmap(\n",
        "    conf_matrix, annot=True,\n",
        "    xticklabels= lbl,\n",
        "    yticklabels= lbl)\n",
        "plt.xlabel(\"Predicted\")\n",
        "plt.ylabel(\"True\")"
      ],
      "metadata": {
        "id": "bzJs7LNC-HTL",
        "outputId": "8c56b343-9d41-4d2f-d622-a765475360c5",
        "colab": {
          "base_uri": "https://localhost:8080/",
          "height": 354
        }
      },
      "execution_count": 50,
      "outputs": [
        {
          "output_type": "stream",
          "name": "stdout",
          "text": [
            "[[2 0 0]\n",
            " [0 3 0]\n",
            " [0 0 1]]\n"
          ]
        },
        {
          "output_type": "execute_result",
          "data": {
            "text/plain": [
              "Text(33.0, 0.5, 'True')"
            ]
          },
          "metadata": {},
          "execution_count": 50
        },
        {
          "output_type": "display_data",
          "data": {
            "text/plain": [
              "<Figure size 432x288 with 2 Axes>"
            ],
            "image/png": "[encoded data removed]"
          },
          "metadata": {
            "needs_background": "light"
          }
        }
      ]
    },
    {
      "cell_type": "markdown",
      "source": [
        "Confusion matrix yang diberikan terdiri dari tiga kelas (class), yaitu kelas EKO, KESEHATAN, dan OLAHRAGA. Kolom merepresentasikan nilai prediksi dan baris merepresentasikan nilai sebenarnya. Oleh karena itu, diagonal utama dari matrix menunjukkan jumlah prediksi yang benar.\n",
        "\n",
        "Berdasarkan confusion matrix yang diberikan, dapat disimpulkan bahwa:\n",
        "\n",
        "Kelas pertama memiliki dua prediksi yang benar (true positive), sementara tidak ada prediksi yang salah (false positive) atau salah negatif (false negative) pada kelas ini.\n",
        "Kelas kedua memiliki tiga prediksi yang benar (true positive), sementara tidak ada prediksi yang salah (false positive) atau salah negatif (false negative) pada kelas ini.\n",
        "Kelas ketiga memiliki satu prediksi yang benar (true positive), sementara tidak ada prediksi yang salah (false positive) atau salah negatif (false negative) pada kelas ini.\n",
        "Dengan demikian, dapat disimpulkan bahwa model memiliki performa yang cukup baik untuk memprediksi tiga kelas yang ada, karena tidak terdapat nilai false positive atau false negative pada setiap kelasnya"
      ],
      "metadata": {
        "id": "6svL0N4585qT"
      }
    },
    {
      "cell_type": "markdown",
      "source": [
        "# TABLE PEMBELAJARAN / LEARNING RATE"
      ],
      "metadata": {
        "id": "MtBm4-4qSLxi"
      }
    },
    {
      "cell_type": "code",
      "source": [
        "LOSS = [0.7776076197624207,0.5466572642326355,0.4511881172657013,0.41121599078178406]\n",
        "ACCURACY = [0.7973856329917908,0.843137264251709,0.8562091588973999,0.8562091588973999]\n",
        "EPOCH = [150,300,450,600]\n",
        "\n",
        "BASIC = pd.DataFrame()\n",
        "BASIC['EPOCH'] = EPOCH\n",
        "BASIC['ACCURACY'] = ACCURACY\n",
        "BASIC['LOSS'] = LOSS\n"
      ],
      "metadata": {
        "id": "PiHR7Tv7grxa"
      },
      "execution_count": 51,
      "outputs": []
    },
    {
      "cell_type": "code",
      "source": [
        "display(BASIC)"
      ],
      "metadata": {
        "colab": {
          "base_uri": "https://localhost:8080/",
          "height": 175
        },
        "id": "EmIR4KT6hjM_",
        "outputId": "a8f233f9-70e2-459a-9aff-78124b7ba931"
      },
      "execution_count": 52,
      "outputs": [
        {
          "output_type": "display_data",
          "data": {
            "text/plain": [
              "   EPOCH  ACCURACY      LOSS\n",
              "0    150  0.797386  0.777608\n",
              "1    300  0.843137  0.546657\n",
              "2    450  0.856209  0.451188\n",
              "3    600  0.856209  0.411216"
            ],
            "text/html": [
              "\n",
              "  <div id=\"df-157e7da9-98a7-4dab-91c1-cb95d3df545a\">\n",
              "    <div class=\"colab-df-container\">\n",
              "      <div>\n",
              "<style scoped>\n",
              "    .dataframe tbody tr th:only-of-type {\n",
              "        vertical-align: middle;\n",
              "    }\n",
              "\n",
              "    .dataframe tbody tr th {\n",
              "        vertical-align: top;\n",
              "    }\n",
              "\n",
              "    .dataframe thead th {\n",
              "        text-align: right;\n",
              "    }\n",
              "</style>\n",
              "<table border=\"1\" class=\"dataframe\">\n",
              "  <thead>\n",
              "    <tr style=\"text-align: right;\">\n",
              "      <th></th>\n",
              "      <th>EPOCH</th>\n",
              "      <th>ACCURACY</th>\n",
              "      <th>LOSS</th>\n",
              "    </tr>\n",
              "  </thead>\n",
              "  <tbody>\n",
              "    <tr>\n",
              "      <th>0</th>\n",
              "      <td>150</td>\n",
              "      <td>0.797386</td>\n",
              "      <td>0.777608</td>\n",
              "    </tr>\n",
              "    <tr>\n",
              "      <th>1</th>\n",
              "      <td>300</td>\n",
              "      <td>0.843137</td>\n",
              "      <td>0.546657</td>\n",
              "    </tr>\n",
              "    <tr>\n",
              "      <th>2</th>\n",
              "      <td>450</td>\n",
              "      <td>0.856209</td>\n",
              "      <td>0.451188</td>\n",
              "    </tr>\n",
              "    <tr>\n",
              "      <th>3</th>\n",
              "      <td>600</td>\n",
              "      <td>0.856209</td>\n",
              "      <td>0.411216</td>\n",
              "    </tr>\n",
              "  </tbody>\n",
              "</table>\n",
              "</div>\n",
              "      <button class=\"colab-df-convert\" onclick=\"convertToInteractive('df-157e7da9-98a7-4dab-91c1-cb95d3df545a')\"\n",
              "              title=\"Convert this dataframe to an interactive table.\"\n",
              "              style=\"display:none;\">\n",
              "        \n",
              "  <svg xmlns=\"http://www.w3.org/2000/svg\" height=\"24px\"viewBox=\"0 0 24 24\"\n",
              "       width=\"24px\">\n",
              "    <path d=\"M0 0h24v24H0V0z\" fill=\"none\"/>\n",
              "    <path d=\"M18.56 5.44l.94 2.06.94-2.06 2.06-.94-2.06-.94-.94-2.06-.94 2.06-2.06.94zm-11 1L8.5 8.5l.94-2.06 2.06-.94-2.06-.94L8.5 2.5l-.94 2.06-2.06.94zm10 10l.94 2.06.94-2.06 2.06-.94-2.06-.94-.94-2.06-.94 2.06-2.06.94z\"/><path d=\"M17.41 7.96l-1.37-1.37c-.4-.4-.92-.59-1.43-.59-.52 0-1.04.2-1.43.59L10.3 9.45l-7.72 7.72c-.78.78-.78 2.05 0 2.83L4 21.41c.39.39.9.59 1.41.59.51 0 1.02-.2 1.41-.59l7.78-7.78 2.81-2.81c.8-.78.8-2.07 0-2.86zM5.41 20L4 18.59l7.72-7.72 1.47 1.35L5.41 20z\"/>\n",
              "  </svg>\n",
              "      </button>\n",
              "      \n",
              "  <style>\n",
              "    .colab-df-container {\n",
              "      display:flex;\n",
              "      flex-wrap:wrap;\n",
              "      gap: 12px;\n",
              "    }\n",
              "\n",
              "    .colab-df-convert {\n",
              "      background-color: #E8F0FE;\n",
              "      border: none;\n",
              "      border-radius: 50%;\n",
              "      cursor: pointer;\n",
              "      display: none;\n",
              "      fill: #1967D2;\n",
              "      height: 32px;\n",
              "      padding: 0 0 0 0;\n",
              "      width: 32px;\n",
              "    }\n",
              "\n",
              "    .colab-df-convert:hover {\n",
              "      background-color: #E2EBFA;\n",
              "      box-shadow: 0px 1px 2px rgba(60, 64, 67, 0.3), 0px 1px 3px 1px rgba(60, 64, 67, 0.15);\n",
              "      fill: #174EA6;\n",
              "    }\n",
              "\n",
              "    [theme=dark] .colab-df-convert {\n",
              "      background-color: #3B4455;\n",
              "      fill: #D2E3FC;\n",
              "    }\n",
              "\n",
              "    [theme=dark] .colab-df-convert:hover {\n",
              "      background-color: #434B5C;\n",
              "      box-shadow: 0px 1px 3px 1px rgba(0, 0, 0, 0.15);\n",
              "      filter: drop-shadow(0px 1px 2px rgba(0, 0, 0, 0.3));\n",
              "      fill: #FFFFFF;\n",
              "    }\n",
              "  </style>\n",
              "\n",
              "      <script>\n",
              "        const buttonEl =\n",
              "          document.querySelector('#df-157e7da9-98a7-4dab-91c1-cb95d3df545a button.colab-df-convert');\n",
              "        buttonEl.style.display =\n",
              "          google.colab.kernel.accessAllowed ? 'block' : 'none';\n",
              "\n",
              "        async function convertToInteractive(key) {\n",
              "          const element = document.querySelector('#df-157e7da9-98a7-4dab-91c1-cb95d3df545a');\n",
              "          const dataTable =\n",
              "            await google.colab.kernel.invokeFunction('convertToInteractive',\n",
              "                                                     [key], {});\n",
              "          if (!dataTable) return;\n",
              "\n",
              "          const docLinkHtml = 'Like what you see? Visit the ' +\n",
              "            '<a target=\"_blank\" href=https://colab.research.google.com/notebooks/data_table.ipynb>data table notebook</a>'\n",
              "            + ' to learn more about interactive tables.';\n",
              "          element.innerHTML = '';\n",
              "          dataTable['output_type'] = 'display_data';\n",
              "          await google.colab.output.renderOutput(dataTable, element);\n",
              "          const docLink = document.createElement('div');\n",
              "          docLink.innerHTML = docLinkHtml;\n",
              "          element.appendChild(docLink);\n",
              "        }\n",
              "      </script>\n",
              "    </div>\n",
              "  </div>\n",
              "  "
            ]
          },
          "metadata": {}
        }
      ]
    },
    {
      "cell_type": "markdown",
      "source": [
        "# Catatan Kesimpulan Sederhana"
      ],
      "metadata": {
        "id": "GUXzGiSv7zPs"
      }
    },
    {
      "cell_type": "markdown",
      "source": [
        "Data yang diberikan menunjukkan kinerja model pembelajaran mesin selama empat kali latihan (epoch). Setiap epoch melibatkan seluruh data latih, dan akurasi serta kerugian model diukur pada akhir setiap epoch.\n",
        "\n",
        "Tabel menunjukkan bahwa jumlah data latih meningkat sebanyak 150 pada setiap epoch. Selain itu, metrik akurasi juga menunjukkan peningkatan dari 0,797386 pada epoch pertama menjadi 0,856209 pada epoch ketiga dan keempat, menunjukkan bahwa model belajar dan membuat prediksi yang lebih baik dari waktu ke waktu.\n",
        "\n",
        "Metrik kerugian juga menurun dari waktu ke waktu, dari 0,777608 pada epoch pertama menjadi 0,411216 pada epoch keempat. Hal ini konsisten dengan peningkatan akurasi model, karena kerugian yang lebih rendah umumnya mengindikasikan kinerja yang lebih baik.\n",
        "\n",
        "Secara keseluruhan, data tersebut menunjukkan bahwa model meningkatkan kinerjanya dari waktu ke waktu dan membuat prediksi yang lebih baik ketika dilatih dengan lebih banyak data"
      ],
      "metadata": {
        "id": "qgq0Gmnh8dMn"
      }
    },
    {
      "cell_type": "code",
      "source": [],
      "metadata": {
        "id": "mX0Srhbdyq6K"
      },
      "execution_count": null,
      "outputs": []
    }
  ],
  "metadata": {
    "colab": {
      "provenance": [],
      "mount_file_id": "194KdQOmrBtd19BZL8GzB18F5-ps-gm6L",
      "authorship_tag": "ABX9TyMGCaKSI2Dd0Shufv8KRlja",
      "include_colab_link": true
    },
    "kernelspec": {
      "display_name": "Python 3",
      "name": "python3"
    },
    "language_info": {
      "name": "python"
    }
  },
  "nbformat": 4,
  "nbformat_minor": 0
}
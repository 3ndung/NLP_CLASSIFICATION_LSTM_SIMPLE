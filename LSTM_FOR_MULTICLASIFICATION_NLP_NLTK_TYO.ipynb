{
  "cells": [
    {
      "cell_type": "markdown",
      "metadata": {
        "id": "view-in-github",
        "colab_type": "text"
      },
      "source": [
        "<a href=\"https://colab.research.google.com/github/3ndung/NLP_CLASSIFICATION_LSTM_SIMPLE/blob/main/LSTM_FOR_MULTICLASIFICATION_NLP_NLTK_TYO.ipynb\" target=\"_parent\"><img src=\"https://colab.research.google.com/assets/colab-badge.svg\" alt=\"Open In Colab\"/></a>"
      ]
    },
    {
      "cell_type": "markdown",
      "metadata": {
        "id": "wulUbvrtHF-w"
      },
      "source": [
        "Import library "
      ]
    },
    {
      "cell_type": "code",
      "execution_count": 1,
      "metadata": {
        "colab": {
          "base_uri": "https://localhost:8080/"
        },
        "id": "s_b478-RVma4",
        "outputId": "44507eb3-1ec4-4b79-df6d-3b337321a0e4"
      },
      "outputs": [
        {
          "output_type": "stream",
          "name": "stdout",
          "text": [
            "Mounted at /content/drive\n"
          ]
        }
      ],
      "source": [
        "from google.colab import drive\n",
        "drive.mount('/content/drive')"
      ]
    },
    {
      "cell_type": "code",
      "execution_count": 2,
      "metadata": {
        "id": "nD7PJZ1KG5DW"
      },
      "outputs": [],
      "source": [
        "import matplotlib.pyplot as plt\n",
        "import os\n",
        "import re\n",
        "import shutil\n",
        "import string\n",
        "import tensorflow as tf\n",
        "import matplotlib.pyplot as plt\n",
        "import pandas as pd\n",
        "\n",
        "from tensorflow.keras import layers\n",
        "from tensorflow.keras import losses"
      ]
    },
    {
      "cell_type": "markdown",
      "metadata": {
        "id": "uIjLHbiPHTR2"
      },
      "source": [
        "Cek TF Version"
      ]
    },
    {
      "cell_type": "code",
      "execution_count": 3,
      "metadata": {
        "colab": {
          "base_uri": "https://localhost:8080/"
        },
        "id": "sOzzke_vHRW9",
        "outputId": "5ef93921-8018-4241-fc80-4aa25f0d3751"
      },
      "outputs": [
        {
          "output_type": "stream",
          "name": "stdout",
          "text": [
            "2.9.2\n"
          ]
        }
      ],
      "source": [
        "print(tf.__version__)"
      ]
    },
    {
      "cell_type": "markdown",
      "metadata": {
        "id": "dkth6QYlH4A-"
      },
      "source": [
        "Download dataset "
      ]
    },
    {
      "cell_type": "code",
      "execution_count": 4,
      "metadata": {
        "id": "Jkcr4YjLMSJk"
      },
      "outputs": [],
      "source": [
        "dataset_dir = os.path.join(os.path.dirname('dataset'), '/content/drive/MyDrive/TYO_NLTK/DTS3/')"
      ]
    },
    {
      "cell_type": "code",
      "execution_count": 5,
      "metadata": {
        "colab": {
          "base_uri": "https://localhost:8080/"
        },
        "id": "8X3-kfvvMr8R",
        "outputId": "86483e7c-1ccf-4813-8084-b403c3a17ba2"
      },
      "outputs": [
        {
          "output_type": "execute_result",
          "data": {
            "text/plain": [
              "['TRAIN', 'TEST']"
            ]
          },
          "metadata": {},
          "execution_count": 5
        }
      ],
      "source": [
        "os.listdir(dataset_dir)"
      ]
    },
    {
      "cell_type": "markdown",
      "metadata": {
        "id": "4_e8nUJqM8lj"
      },
      "source": [
        "SET DATA UNTUK DI TRAIN "
      ]
    },
    {
      "cell_type": "code",
      "execution_count": 6,
      "metadata": {
        "colab": {
          "base_uri": "https://localhost:8080/"
        },
        "id": "FtYcHT3WMs79",
        "outputId": "a1d6da7d-73e4-46d0-f4fd-ad8dcaba221c"
      },
      "outputs": [
        {
          "output_type": "execute_result",
          "data": {
            "text/plain": [
              "['EKO', 'HEL', 'OLA']"
            ]
          },
          "metadata": {},
          "execution_count": 6
        }
      ],
      "source": [
        "train_dir = os.path.join(dataset_dir, 'TRAIN')\n",
        "os.listdir(train_dir)"
      ]
    },
    {
      "cell_type": "markdown",
      "metadata": {
        "id": "cIwhO064M_10"
      },
      "source": [
        "SET DATA UNTUK DI TEST"
      ]
    },
    {
      "cell_type": "code",
      "execution_count": 7,
      "metadata": {
        "colab": {
          "base_uri": "https://localhost:8080/"
        },
        "id": "76h1OCWVNC7l",
        "outputId": "92a11b09-b22f-42ac-d20b-bbd176344f62"
      },
      "outputs": [
        {
          "output_type": "execute_result",
          "data": {
            "text/plain": [
              "['EKO', 'HEL', 'OLA']"
            ]
          },
          "metadata": {},
          "execution_count": 7
        }
      ],
      "source": [
        "test_dir = os.path.join(dataset_dir, 'TEST')\n",
        "os.listdir(train_dir)"
      ]
    },
    {
      "cell_type": "code",
      "execution_count": 9,
      "metadata": {
        "colab": {
          "base_uri": "https://localhost:8080/"
        },
        "id": "y4X4padANHTW",
        "outputId": "a731e3cc-5448-4eac-d2ff-4483b365edfb"
      },
      "outputs": [
        {
          "output_type": "stream",
          "name": "stdout",
          "text": [
            "lps bisa simpan dana di bank sakit di ruu ppsk\n"
          ]
        }
      ],
      "source": [
        "sample_file = os.path.join(train_dir, 'EKO/103.txt')\n",
        "\n",
        "with open(sample_file) as f:\n",
        "  print(f.read())"
      ]
    },
    {
      "cell_type": "code",
      "execution_count": 10,
      "metadata": {
        "colab": {
          "base_uri": "https://localhost:8080/"
        },
        "id": "MEEvC45_N7RZ",
        "outputId": "e60976b9-dcb8-4e6f-e808-7146d9eb30ed"
      },
      "outputs": [
        {
          "output_type": "stream",
          "name": "stdout",
          "text": [
            "Found 600 files belonging to 3 classes.\n",
            "Using 480 files for training.\n"
          ]
        }
      ],
      "source": [
        "batch_size = 32\n",
        "seed = 42\n",
        "\n",
        "raw_train_ds = tf.keras.utils.text_dataset_from_directory(\n",
        "    '/content/drive/MyDrive/TYO_NLTK/DTS3/TRAIN', \n",
        "    batch_size=batch_size, \n",
        "    validation_split=0.2, \n",
        "    subset='training', \n",
        "    seed=seed)"
      ]
    },
    {
      "cell_type": "code",
      "execution_count": 11,
      "metadata": {
        "colab": {
          "base_uri": "https://localhost:8080/"
        },
        "id": "JTUNrQEQOIPt",
        "outputId": "83d9e6cf-a08b-4fb1-f9b8-d6efdc115aa1"
      },
      "outputs": [
        {
          "output_type": "stream",
          "name": "stdout",
          "text": [
            "Review b'dpr usul bentuk badan supervisi lps dan ojk di ruu ppsk'\n",
            "Label 0\n",
            "Review b'prediksi skor wolves vs brighton di liga inggris 20222023 momentum daniel podence cs keluar dari zona degradasi'\n",
            "Label 2\n",
            "Review b'5 alasan marc marquez bakal bantu fabio quartararo juara motogp 2022 nomor 1 penebusan dosa'\n",
            "Label 2\n"
          ]
        }
      ],
      "source": [
        "for text_batch, label_batch in raw_train_ds.take(1):\n",
        "  for i in range(3):\n",
        "    print(\"Review\", text_batch.numpy()[i])\n",
        "    print(\"Label\", label_batch.numpy()[i])"
      ]
    },
    {
      "cell_type": "code",
      "execution_count": 12,
      "metadata": {
        "colab": {
          "base_uri": "https://localhost:8080/"
        },
        "id": "3ouP_BxwOe7a",
        "outputId": "dcfdd271-a729-4824-d53d-79de3091cbdb"
      },
      "outputs": [
        {
          "output_type": "stream",
          "name": "stdout",
          "text": [
            "Label 0 corresponds to EKO\n",
            "Label 1 corresponds to HEL\n",
            "Label 2 corresponds to OLA\n"
          ]
        }
      ],
      "source": [
        "print(\"Label 0 corresponds to\", raw_train_ds.class_names[0])\n",
        "print(\"Label 1 corresponds to\", raw_train_ds.class_names[1])\n",
        "print(\"Label 2 corresponds to\", raw_train_ds.class_names[2])"
      ]
    },
    {
      "cell_type": "code",
      "execution_count": 13,
      "metadata": {
        "colab": {
          "base_uri": "https://localhost:8080/"
        },
        "id": "z426gnYnOlOa",
        "outputId": "c68255bc-d536-4c04-c2e5-d7bb290841fa"
      },
      "outputs": [
        {
          "output_type": "stream",
          "name": "stdout",
          "text": [
            "Found 600 files belonging to 3 classes.\n",
            "Using 120 files for validation.\n"
          ]
        }
      ],
      "source": [
        "raw_val_ds = tf.keras.utils.text_dataset_from_directory(\n",
        "    '/content/drive/MyDrive/TYO_NLTK/DTS3/TRAIN', \n",
        "    batch_size=batch_size, \n",
        "    validation_split=0.2, \n",
        "    subset='validation', \n",
        "    seed=seed)"
      ]
    },
    {
      "cell_type": "code",
      "execution_count": 14,
      "metadata": {
        "colab": {
          "base_uri": "https://localhost:8080/"
        },
        "id": "HrSDscr2O2pU",
        "outputId": "748b7887-cfaa-4e06-e570-efeee7ad360b"
      },
      "outputs": [
        {
          "output_type": "stream",
          "name": "stdout",
          "text": [
            "Found 153 files belonging to 3 classes.\n"
          ]
        }
      ],
      "source": [
        "raw_test_ds = tf.keras.utils.text_dataset_from_directory(\n",
        "    '/content/drive/MyDrive/TYO_NLTK/DTS3/TEST', \n",
        "    batch_size=batch_size)"
      ]
    },
    {
      "cell_type": "markdown",
      "source": [
        "## Membuat function untuk menstandarkan/ menseragamkan string input"
      ],
      "metadata": {
        "id": "PYITtbK8LWwj"
      }
    },
    {
      "cell_type": "code",
      "execution_count": 15,
      "metadata": {
        "id": "AugpXoBfPBeY"
      },
      "outputs": [],
      "source": [
        "def custom_standardization(input_data):\n",
        "  # Membuat Semua String menjadi Lower String/ huruf kecil Semua\n",
        "  lowercase = tf.strings.lower(input_data)\n",
        "  # Menghapus apabila ada html tag\n",
        "  stripped_html = tf.strings.regex_replace(lowercase, '<br />', ' ')\n",
        "  return tf.strings.regex_replace(stripped_html,\n",
        "                                  '[%s]' % re.escape(string.punctuation),\n",
        "                                  '')"
      ]
    },
    {
      "cell_type": "markdown",
      "metadata": {
        "id": "SmDjxk7fkuMU"
      },
      "source": [
        "## TEXTVECTORIZATION\n",
        "\n",
        "Adalah pre-processing sebelum proses pembelajaran yang mengubah string mentah kedalam bentuk intger yang dapat dibaca oleh lapisan berikutnya dalam Synapsis/ Layer berikutnya contoh embeding dan denses\n"
      ]
    },
    {
      "cell_type": "code",
      "execution_count": 16,
      "metadata": {
        "id": "5y2kL-Q-lSkA"
      },
      "outputs": [],
      "source": [
        "max_features = 10000\n",
        "sequence_length = 250\n",
        "\n",
        "vectorize_layer = layers.TextVectorization(\n",
        "    # Memanggil fungsi sebelumnya yang mestandarkan semua string input menjadi lower case dan menghilangkan tag html bila ada\n",
        "    standardize=custom_standardization,\n",
        "    # Memberikan batasan padding agar panjang matrix sama pada setiap masukan.\n",
        "    max_tokens=max_features,\n",
        "    # Output String akan diubah menjadi bentuk integer\n",
        "    output_mode='int',\n",
        "    output_sequence_length=sequence_length)"
      ]
    },
    {
      "cell_type": "markdown",
      "metadata": {
        "id": "EqijZrfWl449"
      },
      "source": [
        "'''\n",
        "Next, you will call adapt to fit the state of the preprocessing layer to the dataset. This will cause the model to build an index of strings to integers.\n",
        "'''"
      ]
    },
    {
      "cell_type": "code",
      "execution_count": 17,
      "metadata": {
        "id": "ulGHvGJWlgI3"
      },
      "outputs": [],
      "source": [
        "# Make a text-only dataset (without labels), then call adapt\n",
        "train_text = raw_train_ds.map(lambda x, y: x)\n",
        "vectorize_layer.adapt(train_text)\n",
        "\n",
        "\n"
      ]
    },
    {
      "cell_type": "markdown",
      "source": [
        "# Fungsi yang mengubah setiap string text input ke dalam bentuk intger dan menyimpan dalam array, dengan menggunakan vectorize_layer yang telah diset diatas."
      ],
      "metadata": {
        "id": "baE3pm5-T-rZ"
      }
    },
    {
      "cell_type": "code",
      "execution_count": 18,
      "metadata": {
        "id": "NcySBx7rl8zj"
      },
      "outputs": [],
      "source": [
        "def vectorize_text(text, label):\n",
        "  text = tf.expand_dims(text, -1)\n",
        "  return vectorize_layer(text), label"
      ]
    },
    {
      "cell_type": "code",
      "execution_count": 19,
      "metadata": {
        "colab": {
          "base_uri": "https://localhost:8080/"
        },
        "id": "KY26gx46mFXz",
        "outputId": "902fda8a-8ba4-4ffa-d21b-1c1b61d9742a"
      },
      "outputs": [
        {
          "output_type": "stream",
          "name": "stdout",
          "text": [
            "\n",
            "Review -> text_batch[13] tf.Tensor(b'hatihati jika kondisi urine seperti ini bisa jadi penyakit ginjal', shape=(), dtype=string)\n",
            "Label -> Label_batch[13] HEL\n",
            "\n",
            "Vectorized review nya seperti ini \n",
            "\n",
            " (<tf.Tensor: shape=(1, 250), dtype=int64, numpy=\n",
            "array([[ 92, 177, 347, 419, 157,   7,  11,  10,  57,  16,   0,   0,   0,\n",
            "          0,   0,   0,   0,   0,   0,   0,   0,   0,   0,   0,   0,   0,\n",
            "          0,   0,   0,   0,   0,   0,   0,   0,   0,   0,   0,   0,   0,\n",
            "          0,   0,   0,   0,   0,   0,   0,   0,   0,   0,   0,   0,   0,\n",
            "          0,   0,   0,   0,   0,   0,   0,   0,   0,   0,   0,   0,   0,\n",
            "          0,   0,   0,   0,   0,   0,   0,   0,   0,   0,   0,   0,   0,\n",
            "          0,   0,   0,   0,   0,   0,   0,   0,   0,   0,   0,   0,   0,\n",
            "          0,   0,   0,   0,   0,   0,   0,   0,   0,   0,   0,   0,   0,\n",
            "          0,   0,   0,   0,   0,   0,   0,   0,   0,   0,   0,   0,   0,\n",
            "          0,   0,   0,   0,   0,   0,   0,   0,   0,   0,   0,   0,   0,\n",
            "          0,   0,   0,   0,   0,   0,   0,   0,   0,   0,   0,   0,   0,\n",
            "          0,   0,   0,   0,   0,   0,   0,   0,   0,   0,   0,   0,   0,\n",
            "          0,   0,   0,   0,   0,   0,   0,   0,   0,   0,   0,   0,   0,\n",
            "          0,   0,   0,   0,   0,   0,   0,   0,   0,   0,   0,   0,   0,\n",
            "          0,   0,   0,   0,   0,   0,   0,   0,   0,   0,   0,   0,   0,\n",
            "          0,   0,   0,   0,   0,   0,   0,   0,   0,   0,   0,   0,   0,\n",
            "          0,   0,   0,   0,   0,   0,   0,   0,   0,   0,   0,   0,   0,\n",
            "          0,   0,   0,   0,   0,   0,   0,   0,   0,   0,   0,   0,   0,\n",
            "          0,   0,   0,   0,   0,   0,   0,   0,   0,   0,   0,   0,   0,\n",
            "          0,   0,   0]])>, <tf.Tensor: shape=(), dtype=int32, numpy=1>)\n"
          ]
        }
      ],
      "source": [
        "text_batch, label_batch = next(iter(raw_train_ds))\n",
        "first_review, first_label = text_batch[13], label_batch[13]\n",
        "print(\"\\nReview -> text_batch[13]\", first_review)\n",
        "print(\"Label -> Label_batch[13]\", raw_train_ds.class_names[first_label])\n",
        "print(\"\\nVectorized review nya seperti ini \\n\\n\", vectorize_text(first_review, first_label))"
      ]
    },
    {
      "cell_type": "code",
      "execution_count": 20,
      "metadata": {
        "colab": {
          "base_uri": "https://localhost:8080/"
        },
        "id": "g4mQQp4zmz0q",
        "outputId": "8fae020b-86c5-4cd7-f63b-9ec958bb2677"
      },
      "outputs": [
        {
          "output_type": "stream",
          "name": "stdout",
          "text": [
            "1693 --->  dibekukan\n",
            "395 --->  awas\n",
            "Vocabulary size: 1953\n"
          ]
        }
      ],
      "source": [
        "print(\"1693 ---> \",vectorize_layer.get_vocabulary()[1693])\n",
        "print(\"395 ---> \",vectorize_layer.get_vocabulary()[395])\n",
        "print('Vocabulary size: {}'.format(len(vectorize_layer.get_vocabulary())))"
      ]
    },
    {
      "cell_type": "markdown",
      "source": [
        "# Menggubah semua input train, validasi dan test kedalam bentuk integer"
      ],
      "metadata": {
        "id": "oAmWnF1MVWcg"
      }
    },
    {
      "cell_type": "code",
      "execution_count": 21,
      "metadata": {
        "id": "lEucwjQ-m_Vp"
      },
      "outputs": [],
      "source": [
        "train_ds = raw_train_ds.map(vectorize_text)\n",
        "val_ds = raw_val_ds.map(vectorize_text)\n",
        "test_ds = raw_test_ds.map(vectorize_text)"
      ]
    },
    {
      "cell_type": "code",
      "execution_count": 22,
      "metadata": {
        "id": "mIb-okwOqkk5"
      },
      "outputs": [],
      "source": [
        "# Tunning dataset train, validasi dan test dengan AUTOTUNE untuk optimisasi shape data\n",
        "AUTOTUNE = tf.data.AUTOTUNE\n",
        "\n",
        "train_ds = train_ds.cache().prefetch(buffer_size=AUTOTUNE)\n",
        "val_ds = val_ds.cache().prefetch(buffer_size=AUTOTUNE)\n",
        "test_ds = test_ds.cache().prefetch(buffer_size=AUTOTUNE)"
      ]
    },
    {
      "cell_type": "markdown",
      "source": [
        "# Layer embedding dimension kita set menjadi 16 , seperti yang sering digunakan dalam panduan, embedding ini hanya dapat digunakan pada integer positiv dan untuk memperbaiki matrix."
      ],
      "metadata": {
        "id": "I6QrFPXaWMnJ"
      }
    },
    {
      "cell_type": "code",
      "execution_count": 23,
      "metadata": {
        "id": "lG28akNvrENY"
      },
      "outputs": [],
      "source": [
        "embedding_dim = 16"
      ]
    },
    {
      "cell_type": "code",
      "execution_count": null,
      "metadata": {
        "colab": {
          "base_uri": "https://localhost:8080/"
        },
        "id": "LQmj6o5eU0hL",
        "outputId": "caac183d-b8cb-4c4c-a090-a46318244d27"
      },
      "outputs": [
        {
          "output_type": "stream",
          "name": "stdout",
          "text": [
            "Model: \"sequential\"\n",
            "_________________________________________________________________\n",
            " Layer (type)                Output Shape              Param #   \n",
            "=================================================================\n",
            " embedding (Embedding)       (None, None, 16)          160016    \n",
            "                                                                 \n",
            " bidirectional (Bidirectiona  (None, 128)              41472     \n",
            " l)                                                              \n",
            "                                                                 \n",
            " dense (Dense)               (None, 64)                8256      \n",
            "                                                                 \n",
            " dense_1 (Dense)             (None, 3)                 195       \n",
            "                                                                 \n",
            "=================================================================\n",
            "Total params: 209,939\n",
            "Trainable params: 209,939\n",
            "Non-trainable params: 0\n",
            "_________________________________________________________________\n"
          ]
        }
      ],
      "source": [
        "'''model = tf.keras.Sequential([\n",
        "    \n",
        "    layers.Embedding(max_features + 1, embedding_dim),    \n",
        "    layers.Bidirectional(tf.keras.layers.LSTM(64)),\n",
        "    layers.Dense(64, activation='relu'),\n",
        "    layers.Dense(3)\n",
        "])\n",
        "\n",
        "\n",
        "model.summary()\n",
        "\n",
        "img_file = 'model_arch.png'\n",
        "tf.keras.utils.plot_model(model, to_file=img_file, show_shapes=True, show_layer_names=True)'''\n",
        "\n",
        "\n",
        "# MODEL RNN INI MEMBERIKAN AKURASI YANG KURANG BAIK DIBANDINGKAN MODEL YANG DIBAWAH DENGAN WAKTU KOMPUTASI YANG LEBIH LAMA\n",
        "# JADI GAK DIPAKE"
      ]
    },
    {
      "cell_type": "code",
      "execution_count": null,
      "metadata": {
        "colab": {
          "base_uri": "https://localhost:8080/",
          "height": 533
        },
        "id": "EO8LQT0jiq0I",
        "outputId": "8c31835f-3712-45ca-bd71-a10ab0992803"
      },
      "outputs": [
        {
          "output_type": "execute_result",
          "data": {
            "image/png": "[encoded data removed]",
            "text/plain": [
              "<IPython.core.display.Image object>"
            ]
          },
          "metadata": {},
          "execution_count": 29
        }
      ],
      "source": []
    },
    {
      "cell_type": "code",
      "execution_count": 66,
      "metadata": {
        "id": "X7rx6X_5rKo3",
        "colab": {
          "base_uri": "https://localhost:8080/",
          "height": 1000
        },
        "outputId": "162f6f2d-dd0e-48a6-9fc6-5ce7d733a407"
      },
      "outputs": [
        {
          "output_type": "stream",
          "name": "stdout",
          "text": [
            "Model: \"sequential_6\"\n",
            "_________________________________________________________________\n",
            " Layer (type)                Output Shape              Param #   \n",
            "=================================================================\n",
            " embedding_6 (Embedding)     (None, None, 16)          160016    \n",
            "                                                                 \n",
            " bidirectional_12 (Bidirecti  (None, None, 256)        148480    \n",
            " onal)                                                           \n",
            "                                                                 \n",
            " bidirectional_13 (Bidirecti  (None, 128)              164352    \n",
            " onal)                                                           \n",
            "                                                                 \n",
            " dense_7 (Dense)             (None, 32)                4128      \n",
            "                                                                 \n",
            " dropout_4 (Dropout)         (None, 32)                0         \n",
            "                                                                 \n",
            " dense_8 (Dense)             (None, 3)                 99        \n",
            "                                                                 \n",
            "=================================================================\n",
            "Total params: 477,075\n",
            "Trainable params: 477,075\n",
            "Non-trainable params: 0\n",
            "_________________________________________________________________\n"
          ]
        },
        {
          "output_type": "execute_result",
          "data": {
            "image/png": "[encoded data removed]",
            "text/plain": [
              "<IPython.core.display.Image object>"
            ]
          },
          "metadata": {},
          "execution_count": 66
        }
      ],
      "source": [
        "model = tf.keras.Sequential([\n",
        "  layers.Embedding(max_features + 1, embedding_dim),\n",
        "  layers.Bidirectional(layers.LSTM(128, return_sequences=True)),\n",
        "  layers.Bidirectional(layers.LSTM(64)),\n",
        "\n",
        "  layers.Dense(32, activation='softmax'),\n",
        "  layers.Dropout(0.5),\n",
        "  layers.Dense(3)])\n",
        "\n",
        "model.summary()\n",
        "\n",
        "\n",
        "\n",
        "img_file = 'model_arch.png'\n",
        "tf.keras.utils.plot_model(model, to_file=img_file, show_shapes=True, show_layer_names=True)"
      ]
    },
    {
      "cell_type": "code",
      "execution_count": null,
      "metadata": {
        "id": "59mEoZIlujif"
      },
      "outputs": [],
      "source": [
        "#model.compile(loss=losses.SparseCategoricalCrossentropy(from_logits=True),\n",
        "#              optimizer='adam',\n",
        "#              metrics=tf.metrics.Accuracy())\n",
        "\n",
        "\n"
      ]
    },
    {
      "cell_type": "code",
      "execution_count": 67,
      "metadata": {
        "id": "ZZ4gSBNyyBgl"
      },
      "outputs": [],
      "source": [
        "model.compile(loss = losses.SparseCategoricalCrossentropy(from_logits=True), optimizer = 'adam', metrics = ['accuracy'])"
      ]
    },
    {
      "cell_type": "code",
      "execution_count": 68,
      "metadata": {
        "colab": {
          "base_uri": "https://localhost:8080/"
        },
        "id": "S4gEVVopw1Di",
        "outputId": "9deffb7f-dec8-4055-ea74-8e684f099936"
      },
      "outputs": [
        {
          "output_type": "stream",
          "name": "stdout",
          "text": [
            "Epoch 1/15\n",
            "15/15 [==============================] - 26s 1s/step - loss: 1.0991 - accuracy: 0.3396 - val_loss: 1.1014 - val_accuracy: 0.3417\n",
            "Epoch 2/15\n",
            "15/15 [==============================] - 19s 1s/step - loss: 1.1000 - accuracy: 0.3125 - val_loss: 1.0998 - val_accuracy: 0.3417\n",
            "Epoch 3/15\n",
            "15/15 [==============================] - 18s 1s/step - loss: 1.0930 - accuracy: 0.3875 - val_loss: 1.0785 - val_accuracy: 0.4583\n",
            "Epoch 4/15\n",
            "15/15 [==============================] - 18s 1s/step - loss: 0.9958 - accuracy: 0.6583 - val_loss: 0.9791 - val_accuracy: 0.5667\n",
            "Epoch 5/15\n",
            "15/15 [==============================] - 18s 1s/step - loss: 0.9413 - accuracy: 0.6604 - val_loss: 0.9845 - val_accuracy: 0.5750\n",
            "Epoch 6/15\n",
            "15/15 [==============================] - 18s 1s/step - loss: 0.9276 - accuracy: 0.6875 - val_loss: 0.9440 - val_accuracy: 0.6000\n",
            "Epoch 7/15\n",
            "15/15 [==============================] - 20s 1s/step - loss: 0.9126 - accuracy: 0.6229 - val_loss: 0.9373 - val_accuracy: 0.5833\n",
            "Epoch 8/15\n",
            "15/15 [==============================] - 18s 1s/step - loss: 0.9203 - accuracy: 0.6521 - val_loss: 0.9242 - val_accuracy: 0.6250\n",
            "Epoch 9/15\n",
            "15/15 [==============================] - 18s 1s/step - loss: 0.8790 - accuracy: 0.6938 - val_loss: 0.9357 - val_accuracy: 0.6083\n",
            "Epoch 10/15\n",
            "15/15 [==============================] - 18s 1s/step - loss: 0.8795 - accuracy: 0.6562 - val_loss: 0.9311 - val_accuracy: 0.6000\n",
            "Epoch 11/15\n",
            "15/15 [==============================] - 19s 1s/step - loss: 0.8677 - accuracy: 0.6604 - val_loss: 0.8994 - val_accuracy: 0.7083\n",
            "Epoch 12/15\n",
            "15/15 [==============================] - 18s 1s/step - loss: 0.7975 - accuracy: 0.7896 - val_loss: 0.8704 - val_accuracy: 0.7250\n",
            "Epoch 13/15\n",
            "15/15 [==============================] - 18s 1s/step - loss: 0.7678 - accuracy: 0.8000 - val_loss: 0.8629 - val_accuracy: 0.7333\n",
            "Epoch 14/15\n",
            "15/15 [==============================] - 18s 1s/step - loss: 0.7375 - accuracy: 0.8250 - val_loss: 0.8601 - val_accuracy: 0.7250\n",
            "Epoch 15/15\n",
            "15/15 [==============================] - 18s 1s/step - loss: 0.7472 - accuracy: 0.7437 - val_loss: 0.8230 - val_accuracy: 0.7167\n"
          ]
        }
      ],
      "source": [
        "epochs = 15\n",
        "history = model.fit(\n",
        "    train_ds,\n",
        "    validation_data=val_ds,\n",
        "    epochs=epochs)"
      ]
    },
    {
      "cell_type": "code",
      "source": [
        "model.save('/content/MODEL_TYO/MODEL_TYO_LSTM_150_01')"
      ],
      "metadata": {
        "id": "zvNWlry8sfDp",
        "outputId": "beabe840-4ed3-4950-c600-1ea7c988b28f",
        "colab": {
          "base_uri": "https://localhost:8080/"
        }
      },
      "execution_count": 50,
      "outputs": [
        {
          "output_type": "stream",
          "name": "stderr",
          "text": [
            "WARNING:absl:Found untraced functions such as lstm_cell_25_layer_call_fn, lstm_cell_25_layer_call_and_return_conditional_losses, lstm_cell_26_layer_call_fn, lstm_cell_26_layer_call_and_return_conditional_losses, lstm_cell_28_layer_call_fn while saving (showing 5 of 8). These functions will not be directly callable after loading.\n"
          ]
        }
      ]
    },
    {
      "cell_type": "code",
      "execution_count": 69,
      "metadata": {
        "colab": {
          "base_uri": "https://localhost:8080/"
        },
        "id": "-zzNKpPQyqfP",
        "outputId": "fd248d90-e460-437e-fbaa-0c7221cbbb52"
      },
      "outputs": [
        {
          "output_type": "stream",
          "name": "stdout",
          "text": [
            "5/5 [==============================] - 2s 313ms/step - loss: 0.9400 - accuracy: 0.5556\n",
            "Loss:  0.9400114417076111\n",
            "Accuracy:  0.5555555820465088\n"
          ]
        }
      ],
      "source": [
        "loss, accuracy = model.evaluate(test_ds)\n",
        "\n",
        "print(\"Loss: \", loss)\n",
        "print(\"Accuracy: \", accuracy)"
      ]
    },
    {
      "cell_type": "code",
      "execution_count": 70,
      "metadata": {
        "colab": {
          "base_uri": "https://localhost:8080/"
        },
        "id": "yHnCO_T5y3PP",
        "outputId": "bd45d0df-56db-4403-bf9a-ab71f39049ab"
      },
      "outputs": [
        {
          "output_type": "execute_result",
          "data": {
            "text/plain": [
              "dict_keys(['loss', 'accuracy', 'val_loss', 'val_accuracy'])"
            ]
          },
          "metadata": {},
          "execution_count": 70
        }
      ],
      "source": [
        "history_dict = history.history\n",
        "history_dict.keys()"
      ]
    },
    {
      "cell_type": "code",
      "execution_count": 71,
      "metadata": {
        "colab": {
          "base_uri": "https://localhost:8080/",
          "height": 295
        },
        "id": "WOaRHa-LzKZW",
        "outputId": "a95faf0a-a54a-454d-baae-a71946adecea"
      },
      "outputs": [
        {
          "output_type": "display_data",
          "data": {
            "text/plain": [
              "<Figure size 432x288 with 1 Axes>"
            ],
            "image/png": "[encoded data removed]"
          },
          "metadata": {
            "needs_background": "light"
          }
        }
      ],
      "source": [
        "acc = history_dict['accuracy']\n",
        "val_acc = history_dict['val_accuracy']\n",
        "loss = history_dict['loss']\n",
        "val_loss = history_dict['val_loss']\n",
        "\n",
        "epochs = range(1, len(acc) + 1)\n",
        "\n",
        "# \"bo\" is for \"blue dot\"\n",
        "plt.plot(epochs, loss, 'bo', label='Training loss')\n",
        "# b is for \"solid blue line\"\n",
        "plt.plot(epochs, val_loss, 'b', label='Validation loss')\n",
        "plt.title('Training and validation loss')\n",
        "plt.xlabel('Epochs')\n",
        "plt.ylabel('Loss')\n",
        "plt.legend()\n",
        "\n",
        "plt.show()"
      ]
    },
    {
      "cell_type": "code",
      "execution_count": 72,
      "metadata": {
        "colab": {
          "base_uri": "https://localhost:8080/",
          "height": 295
        },
        "id": "Y6yr7YCyzRPz",
        "outputId": "905ed618-73cc-4b83-e4da-e4875cd886a9"
      },
      "outputs": [
        {
          "output_type": "display_data",
          "data": {
            "text/plain": [
              "<Figure size 432x288 with 1 Axes>"
            ],
            "image/png": "[encoded data removed]"
          },
          "metadata": {
            "needs_background": "light"
          }
        }
      ],
      "source": [
        "plt.plot(epochs, acc, 'bo', label='Training acc')\n",
        "plt.plot(epochs, val_acc, 'b', label='Validation acc')\n",
        "plt.title('Training and validation accuracy')\n",
        "plt.xlabel('Epochs')\n",
        "plt.ylabel('Accuracy')\n",
        "plt.legend(loc='lower right')\n",
        "\n",
        "plt.show()"
      ]
    },
    {
      "cell_type": "code",
      "execution_count": 73,
      "metadata": {
        "colab": {
          "base_uri": "https://localhost:8080/"
        },
        "id": "1JG4H59HzcOh",
        "outputId": "d72fcb21-f551-469f-e268-53643dda412f"
      },
      "outputs": [
        {
          "output_type": "stream",
          "name": "stdout",
          "text": [
            "5/5 [==============================] - 4s 322ms/step - loss: 0.9400 - accuracy: 0.5556\n",
            "0.5555555820465088\n"
          ]
        }
      ],
      "source": [
        "export_model = tf.keras.Sequential([\n",
        "  vectorize_layer,\n",
        "  model,\n",
        "  layers.Activation('softmax')\n",
        "])\n",
        "export_model.compile(loss = losses.SparseCategoricalCrossentropy(from_logits=True), optimizer = 'adam', metrics = ['accuracy'])\n",
        "\n",
        "\n",
        "\n",
        "# Test it with `raw_test_ds`, which yields raw strings\n",
        "loss, accuracy = export_model.evaluate(raw_test_ds)\n",
        "print(accuracy)"
      ]
    },
    {
      "cell_type": "code",
      "execution_count": 56,
      "metadata": {
        "colab": {
          "base_uri": "https://localhost:8080/"
        },
        "id": "lx12nIIi7luJ",
        "outputId": "ad84d098-4345-4da6-e36b-246adb867ffc"
      },
      "outputs": [
        {
          "output_type": "execute_result",
          "data": {
            "text/plain": [
              "['EKO', 'HEL', 'OLA']"
            ]
          },
          "metadata": {},
          "execution_count": 56
        }
      ],
      "source": [
        "['EKO', 'HEL', 'OLA']"
      ]
    },
    {
      "cell_type": "code",
      "execution_count": 74,
      "metadata": {
        "colab": {
          "base_uri": "https://localhost:8080/"
        },
        "id": "f-_agyAv7Rwx",
        "outputId": "62b6a22d-8b18-4303-aaca-d9fe6712416a"
      },
      "outputs": [
        {
          "output_type": "stream",
          "name": "stdout",
          "text": [
            "1/1 [==============================] - 2s 2s/step\n"
          ]
        },
        {
          "output_type": "execute_result",
          "data": {
            "text/plain": [
              "array([[0.1895727 , 0.4811277 , 0.3292995 ],\n",
              "       [0.22248627, 0.48874077, 0.28877294]], dtype=float32)"
            ]
          },
          "metadata": {},
          "execution_count": 74
        }
      ],
      "source": [
        "examples = [\"MotoGP 2015 akan dikenang sebagai salah satu yang paling sengit dalam gelaran kejuaraan dunia balap motor grand prix\",\n",
        "            \"Ida Fauziyah menargetkan penyaluran Bantuan Subsidi Upah (BSU) atau BLT Gaji melalui PT Pos\"]\n",
        "\n",
        "\n",
        "#for x in examples:\n",
        "export_model.predict(examples)"
      ]
    },
    {
      "cell_type": "code",
      "source": [
        "def Pie_Chart_Visualization(x):\n",
        "\n",
        "          # Pie chart, where the slices will be ordered and plotted counter-clockwise:\n",
        "          labels = ['EKO', 'HEL', 'OLA']\n",
        "          sizes = export_model.predict(examples)[x].tolist()\n",
        "          explode = (0, 0, 0)  # only \"explode\" the 2nd slice (i.e. 'Hogs')\n",
        "\n",
        "          fig1, ax1 = plt.subplots()\n",
        "          ax1.pie(sizes, explode=explode, labels=labels, autopct='%1.1f%%',\n",
        "                  shadow=True, startangle=90)\n",
        "          ax1.axis('equal')  # Equal aspect ratio ensures that pie is drawn as a circle.\n",
        "\n",
        "          plt.show()"
      ],
      "metadata": {
        "id": "PB33J9xkZL9I"
      },
      "execution_count": 45,
      "outputs": []
    },
    {
      "cell_type": "code",
      "source": [
        "for x in range(len(examples)):\n",
        "  display(examples[x])\n",
        "  display(Pie_Chart_Visualization(x))\n",
        "  print('')"
      ],
      "metadata": {
        "colab": {
          "base_uri": "https://localhost:8080/",
          "height": 626
        },
        "id": "uxUAum5AigpU",
        "outputId": "8bdc8a9c-dd1e-48e2-8085-f23fe51e8262"
      },
      "execution_count": 58,
      "outputs": [
        {
          "output_type": "display_data",
          "data": {
            "text/plain": [
              "'MotoGP 2015 akan dikenang sebagai salah satu yang paling sengit dalam gelaran kejuaraan dunia balap motor grand prix'"
            ],
            "application/vnd.google.colaboratory.intrinsic+json": {
              "type": "string"
            }
          },
          "metadata": {}
        },
        {
          "output_type": "stream",
          "name": "stdout",
          "text": [
            "1/1 [==============================] - 0s 65ms/step\n"
          ]
        },
        {
          "output_type": "display_data",
          "data": {
            "text/plain": [
              "<Figure size 432x288 with 1 Axes>"
            ],
            "image/png": "[encoded data removed]"
          },
          "metadata": {}
        },
        {
          "output_type": "display_data",
          "data": {
            "text/plain": [
              "None"
            ]
          },
          "metadata": {}
        },
        {
          "output_type": "stream",
          "name": "stdout",
          "text": [
            "\n"
          ]
        },
        {
          "output_type": "display_data",
          "data": {
            "text/plain": [
              "'Ida Fauziyah menargetkan penyaluran Bantuan Subsidi Upah (BSU) atau BLT Gaji melalui PT Pos'"
            ],
            "application/vnd.google.colaboratory.intrinsic+json": {
              "type": "string"
            }
          },
          "metadata": {}
        },
        {
          "output_type": "stream",
          "name": "stdout",
          "text": [
            "1/1 [==============================] - 0s 62ms/step\n"
          ]
        },
        {
          "output_type": "display_data",
          "data": {
            "text/plain": [
              "<Figure size 432x288 with 1 Axes>"
            ],
            "image/png": "[encoded data removed]"
          },
          "metadata": {}
        },
        {
          "output_type": "display_data",
          "data": {
            "text/plain": [
              "None"
            ]
          },
          "metadata": {}
        },
        {
          "output_type": "stream",
          "name": "stdout",
          "text": [
            "\n"
          ]
        }
      ]
    },
    {
      "cell_type": "code",
      "source": [
        "LOSS = [0.7776076197624207,0.5466572642326355,0.4511881172657013,0.41121599078178406]\n",
        "ACCURACY = [0.7973856329917908,0.843137264251709,0.8562091588973999,0.8562091588973999]\n",
        "EPOCH = [150,300,450,600]\n",
        "\n",
        "BASIC = pd.DataFrame()\n",
        "BASIC['EPOCH'] = EPOCH\n",
        "BASIC['ACCURACY'] = ACCURACY\n",
        "BASIC['LOSS'] = LOSS\n"
      ],
      "metadata": {
        "id": "PiHR7Tv7grxa"
      },
      "execution_count": null,
      "outputs": []
    },
    {
      "cell_type": "code",
      "source": [
        "display(BASIC)"
      ],
      "metadata": {
        "colab": {
          "base_uri": "https://localhost:8080/",
          "height": 175
        },
        "id": "EmIR4KT6hjM_",
        "outputId": "d4bb7a22-7707-49c2-8804-de52a558eb53"
      },
      "execution_count": null,
      "outputs": [
        {
          "output_type": "display_data",
          "data": {
            "text/plain": [
              "   EPOCH  ACCURACY      LOSS\n",
              "0    150  0.797386  0.777608\n",
              "1    300  0.843137  0.546657\n",
              "2    450  0.856209  0.451188\n",
              "3    600  0.856209  0.411216"
            ],
            "text/html": [
              "\n",
              "  <div id=\"df-ad4fa59b-c822-490c-a147-194cf8b85356\">\n",
              "    <div class=\"colab-df-container\">\n",
              "      <div>\n",
              "<style scoped>\n",
              "    .dataframe tbody tr th:only-of-type {\n",
              "        vertical-align: middle;\n",
              "    }\n",
              "\n",
              "    .dataframe tbody tr th {\n",
              "        vertical-align: top;\n",
              "    }\n",
              "\n",
              "    .dataframe thead th {\n",
              "        text-align: right;\n",
              "    }\n",
              "</style>\n",
              "<table border=\"1\" class=\"dataframe\">\n",
              "  <thead>\n",
              "    <tr style=\"text-align: right;\">\n",
              "      <th></th>\n",
              "      <th>EPOCH</th>\n",
              "      <th>ACCURACY</th>\n",
              "      <th>LOSS</th>\n",
              "    </tr>\n",
              "  </thead>\n",
              "  <tbody>\n",
              "    <tr>\n",
              "      <th>0</th>\n",
              "      <td>150</td>\n",
              "      <td>0.797386</td>\n",
              "      <td>0.777608</td>\n",
              "    </tr>\n",
              "    <tr>\n",
              "      <th>1</th>\n",
              "      <td>300</td>\n",
              "      <td>0.843137</td>\n",
              "      <td>0.546657</td>\n",
              "    </tr>\n",
              "    <tr>\n",
              "      <th>2</th>\n",
              "      <td>450</td>\n",
              "      <td>0.856209</td>\n",
              "      <td>0.451188</td>\n",
              "    </tr>\n",
              "    <tr>\n",
              "      <th>3</th>\n",
              "      <td>600</td>\n",
              "      <td>0.856209</td>\n",
              "      <td>0.411216</td>\n",
              "    </tr>\n",
              "  </tbody>\n",
              "</table>\n",
              "</div>\n",
              "      <button class=\"colab-df-convert\" onclick=\"convertToInteractive('df-ad4fa59b-c822-490c-a147-194cf8b85356')\"\n",
              "              title=\"Convert this dataframe to an interactive table.\"\n",
              "              style=\"display:none;\">\n",
              "        \n",
              "  <svg xmlns=\"http://www.w3.org/2000/svg\" height=\"24px\"viewBox=\"0 0 24 24\"\n",
              "       width=\"24px\">\n",
              "    <path d=\"M0 0h24v24H0V0z\" fill=\"none\"/>\n",
              "    <path d=\"M18.56 5.44l.94 2.06.94-2.06 2.06-.94-2.06-.94-.94-2.06-.94 2.06-2.06.94zm-11 1L8.5 8.5l.94-2.06 2.06-.94-2.06-.94L8.5 2.5l-.94 2.06-2.06.94zm10 10l.94 2.06.94-2.06 2.06-.94-2.06-.94-.94-2.06-.94 2.06-2.06.94z\"/><path d=\"M17.41 7.96l-1.37-1.37c-.4-.4-.92-.59-1.43-.59-.52 0-1.04.2-1.43.59L10.3 9.45l-7.72 7.72c-.78.78-.78 2.05 0 2.83L4 21.41c.39.39.9.59 1.41.59.51 0 1.02-.2 1.41-.59l7.78-7.78 2.81-2.81c.8-.78.8-2.07 0-2.86zM5.41 20L4 18.59l7.72-7.72 1.47 1.35L5.41 20z\"/>\n",
              "  </svg>\n",
              "      </button>\n",
              "      \n",
              "  <style>\n",
              "    .colab-df-container {\n",
              "      display:flex;\n",
              "      flex-wrap:wrap;\n",
              "      gap: 12px;\n",
              "    }\n",
              "\n",
              "    .colab-df-convert {\n",
              "      background-color: #E8F0FE;\n",
              "      border: none;\n",
              "      border-radius: 50%;\n",
              "      cursor: pointer;\n",
              "      display: none;\n",
              "      fill: #1967D2;\n",
              "      height: 32px;\n",
              "      padding: 0 0 0 0;\n",
              "      width: 32px;\n",
              "    }\n",
              "\n",
              "    .colab-df-convert:hover {\n",
              "      background-color: #E2EBFA;\n",
              "      box-shadow: 0px 1px 2px rgba(60, 64, 67, 0.3), 0px 1px 3px 1px rgba(60, 64, 67, 0.15);\n",
              "      fill: #174EA6;\n",
              "    }\n",
              "\n",
              "    [theme=dark] .colab-df-convert {\n",
              "      background-color: #3B4455;\n",
              "      fill: #D2E3FC;\n",
              "    }\n",
              "\n",
              "    [theme=dark] .colab-df-convert:hover {\n",
              "      background-color: #434B5C;\n",
              "      box-shadow: 0px 1px 3px 1px rgba(0, 0, 0, 0.15);\n",
              "      filter: drop-shadow(0px 1px 2px rgba(0, 0, 0, 0.3));\n",
              "      fill: #FFFFFF;\n",
              "    }\n",
              "  </style>\n",
              "\n",
              "      <script>\n",
              "        const buttonEl =\n",
              "          document.querySelector('#df-ad4fa59b-c822-490c-a147-194cf8b85356 button.colab-df-convert');\n",
              "        buttonEl.style.display =\n",
              "          google.colab.kernel.accessAllowed ? 'block' : 'none';\n",
              "\n",
              "        async function convertToInteractive(key) {\n",
              "          const element = document.querySelector('#df-ad4fa59b-c822-490c-a147-194cf8b85356');\n",
              "          const dataTable =\n",
              "            await google.colab.kernel.invokeFunction('convertToInteractive',\n",
              "                                                     [key], {});\n",
              "          if (!dataTable) return;\n",
              "\n",
              "          const docLinkHtml = 'Like what you see? Visit the ' +\n",
              "            '<a target=\"_blank\" href=https://colab.research.google.com/notebooks/data_table.ipynb>data table notebook</a>'\n",
              "            + ' to learn more about interactive tables.';\n",
              "          element.innerHTML = '';\n",
              "          dataTable['output_type'] = 'display_data';\n",
              "          await google.colab.output.renderOutput(dataTable, element);\n",
              "          const docLink = document.createElement('div');\n",
              "          docLink.innerHTML = docLinkHtml;\n",
              "          element.appendChild(docLink);\n",
              "        }\n",
              "      </script>\n",
              "    </div>\n",
              "  </div>\n",
              "  "
            ]
          },
          "metadata": {}
        }
      ]
    },
    {
      "cell_type": "code",
      "source": [
        "#!tar cvfz MODEL_TYO.tar.gz MODEL_TYO"
      ],
      "metadata": {
        "colab": {
          "base_uri": "https://localhost:8080/"
        },
        "id": "vTKtaIyCyqKF",
        "outputId": "3f37a8da-402e-4af5-8bd6-80a9c6426c02"
      },
      "execution_count": null,
      "outputs": [
        {
          "output_type": "stream",
          "name": "stdout",
          "text": [
            "MODEL_TYO/\n",
            "MODEL_TYO/MODEL_TYO_2/\n",
            "MODEL_TYO/MODEL_TYO_2/assets/\n",
            "MODEL_TYO/MODEL_TYO_2/saved_model.pb\n",
            "MODEL_TYO/MODEL_TYO_2/keras_metadata.pb\n",
            "MODEL_TYO/MODEL_TYO_2/variables/\n",
            "MODEL_TYO/MODEL_TYO_2/variables/variables.index\n",
            "MODEL_TYO/MODEL_TYO_2/variables/variables.data-00000-of-00001\n",
            "MODEL_TYO/MODEL_TYO_1/\n",
            "MODEL_TYO/MODEL_TYO_1/assets/\n",
            "MODEL_TYO/MODEL_TYO_1/saved_model.pb\n",
            "MODEL_TYO/MODEL_TYO_1/keras_metadata.pb\n",
            "MODEL_TYO/MODEL_TYO_1/variables/\n",
            "MODEL_TYO/MODEL_TYO_1/variables/variables.index\n",
            "MODEL_TYO/MODEL_TYO_1/variables/variables.data-00000-of-00001\n"
          ]
        }
      ]
    },
    {
      "cell_type": "code",
      "source": [],
      "metadata": {
        "id": "mX0Srhbdyq6K"
      },
      "execution_count": null,
      "outputs": []
    }
  ],
  "metadata": {
    "colab": {
      "provenance": [],
      "mount_file_id": "194KdQOmrBtd19BZL8GzB18F5-ps-gm6L",
      "authorship_tag": "ABX9TyP3Ho874FTQ2yMTyYcgq3ey",
      "include_colab_link": true
    },
    "kernelspec": {
      "display_name": "Python 3",
      "name": "python3"
    },
    "language_info": {
      "name": "python"
    }
  },
  "nbformat": 4,
  "nbformat_minor": 0
}